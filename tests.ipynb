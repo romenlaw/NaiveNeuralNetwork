{
  "nbformat": 4,
  "nbformat_minor": 0,
  "metadata": {
    "colab": {
      "provenance": [],
      "authorship_tag": "ABX9TyPrFDTDGTGtHeviOVWMl8/I",
      "include_colab_link": true
    },
    "kernelspec": {
      "name": "python3",
      "display_name": "Python 3"
    },
    "language_info": {
      "name": "python"
    }
  },
  "cells": [
    {
      "cell_type": "markdown",
      "metadata": {
        "id": "view-in-github",
        "colab_type": "text"
      },
      "source": [
        "<a href=\"https://colab.research.google.com/github/romenlaw/NaiveNeuralNetwork/blob/main/tests.ipynb\" target=\"_parent\"><img src=\"https://colab.research.google.com/assets/colab-badge.svg\" alt=\"Open In Colab\"/></a>"
      ]
    },
    {
      "cell_type": "markdown",
      "source": [
        "# Git"
      ],
      "metadata": {
        "id": "jJ1gJx4PWjKM"
      }
    },
    {
      "cell_type": "code",
      "execution_count": 4,
      "metadata": {
        "colab": {
          "base_uri": "https://localhost:8080/"
        },
        "id": "V_rvx7UJWdtu",
        "outputId": "4a82bcdb-06ac-49a0-f3c4-668f8f6e2d4e"
      },
      "outputs": [
        {
          "output_type": "stream",
          "name": "stdout",
          "text": [
            "Cloning into 'NaiveNeuralNetwork'...\n",
            "remote: Enumerating objects: 99, done.\u001b[K\n",
            "remote: Counting objects: 100% (99/99), done.\u001b[K\n",
            "remote: Compressing objects: 100% (89/89), done.\u001b[K\n",
            "remote: Total 99 (delta 44), reused 21 (delta 5), pack-reused 0\u001b[K\n",
            "Receiving objects: 100% (99/99), 33.84 KiB | 8.46 MiB/s, done.\n",
            "Resolving deltas: 100% (44/44), done.\n"
          ]
        }
      ],
      "source": [
        "!git config --global user.name \"romenlaw\"\n",
        "!git config --global user.email \"e\"\n",
        "TOKEN='github_pat_'\n",
        "!git clone https://$TOKEN@github.com/romenlaw/NaiveNeuralNetwork"
      ]
    },
    {
      "cell_type": "code",
      "source": [
        "%cd /content/NaiveNeuralNetwork"
      ],
      "metadata": {
        "colab": {
          "base_uri": "https://localhost:8080/"
        },
        "id": "FeUWwULWXphZ",
        "outputId": "e1d7cd41-49c0-4141-e2dc-e437154f6bd7"
      },
      "execution_count": 5,
      "outputs": [
        {
          "output_type": "stream",
          "name": "stdout",
          "text": [
            "/content/NaiveNeuralNetwork\n"
          ]
        }
      ]
    },
    {
      "cell_type": "code",
      "source": [
        "!git status"
      ],
      "metadata": {
        "colab": {
          "base_uri": "https://localhost:8080/"
        },
        "id": "XReIugA3Xm1q",
        "outputId": "56b9e7ab-8f5f-4f9c-de82-22a675b8cb52"
      },
      "execution_count": 115,
      "outputs": [
        {
          "output_type": "stream",
          "name": "stdout",
          "text": [
            "On branch main\n",
            "Your branch is up to date with 'origin/main'.\n",
            "\n",
            "Changes not staged for commit:\n",
            "  (use \"git add <file>...\" to update what will be committed)\n",
            "  (use \"git restore <file>...\" to discard changes in working directory)\n",
            "\t\u001b[31mmodified:   __pycache__/nnn.cpython-310.pyc\u001b[m\n",
            "\t\u001b[31mmodified:   nnn.py\u001b[m\n",
            "\t\u001b[31mmodified:   visualiser.py\u001b[m\n",
            "\n",
            "Untracked files:\n",
            "  (use \"git add <file>...\" to include in what will be committed)\n",
            "\t\u001b[31m__pycache__/visualiser.cpython-310.pyc\u001b[m\n",
            "\n",
            "no changes added to commit (use \"git add\" and/or \"git commit -a\")\n"
          ]
        }
      ]
    },
    {
      "cell_type": "code",
      "source": [
        "!git add nnn.py visualiser.py\n",
        "!git status"
      ],
      "metadata": {
        "colab": {
          "base_uri": "https://localhost:8080/"
        },
        "id": "GX6bSVymZwTz",
        "outputId": "69517637-1ab5-457a-e5bd-36661e79eb44"
      },
      "execution_count": 116,
      "outputs": [
        {
          "output_type": "stream",
          "name": "stdout",
          "text": [
            "On branch main\n",
            "Your branch is up to date with 'origin/main'.\n",
            "\n",
            "Changes to be committed:\n",
            "  (use \"git restore --staged <file>...\" to unstage)\n",
            "\t\u001b[32mmodified:   nnn.py\u001b[m\n",
            "\t\u001b[32mmodified:   visualiser.py\u001b[m\n",
            "\n",
            "Changes not staged for commit:\n",
            "  (use \"git add <file>...\" to update what will be committed)\n",
            "  (use \"git restore <file>...\" to discard changes in working directory)\n",
            "\t\u001b[31mmodified:   __pycache__/nnn.cpython-310.pyc\u001b[m\n",
            "\n",
            "Untracked files:\n",
            "  (use \"git add <file>...\" to include in what will be committed)\n",
            "\t\u001b[31m__pycache__/visualiser.cpython-310.pyc\u001b[m\n",
            "\n"
          ]
        }
      ]
    },
    {
      "cell_type": "code",
      "source": [
        "!git reset"
      ],
      "metadata": {
        "id": "yxWbqCaMDtPj",
        "outputId": "bac90f34-8664-4bad-f785-05df7f02f779",
        "colab": {
          "base_uri": "https://localhost:8080/"
        }
      },
      "execution_count": 114,
      "outputs": [
        {
          "output_type": "stream",
          "name": "stdout",
          "text": [
            "Unstaged changes after reset:\n",
            "M\t__pycache__/nnn.cpython-310.pyc\n",
            "M\tnnn.py\n",
            "M\tvisualiser.py\n"
          ]
        }
      ]
    },
    {
      "cell_type": "code",
      "source": [
        "!git commit -m \"complete visualiser\""
      ],
      "metadata": {
        "colab": {
          "base_uri": "https://localhost:8080/"
        },
        "id": "2W63Y6buZ4jC",
        "outputId": "56fe8bf6-cdbd-4b9e-f951-c68ea0c3758f"
      },
      "execution_count": 117,
      "outputs": [
        {
          "output_type": "stream",
          "name": "stdout",
          "text": [
            "[main cbdde9c] complete visualiser\n",
            " 2 files changed, 38 insertions(+)\n"
          ]
        }
      ]
    },
    {
      "cell_type": "code",
      "source": [
        "!git push origin main"
      ],
      "metadata": {
        "colab": {
          "base_uri": "https://localhost:8080/"
        },
        "id": "5BCTOaoCZ-0C",
        "outputId": "ccd6c2d2-2e31-4b8b-f3e5-6f807651616f"
      },
      "execution_count": 118,
      "outputs": [
        {
          "output_type": "stream",
          "name": "stdout",
          "text": [
            "Enumerating objects: 7, done.\n",
            "Counting objects:  14% (1/7)\rCounting objects:  28% (2/7)\rCounting objects:  42% (3/7)\rCounting objects:  57% (4/7)\rCounting objects:  71% (5/7)\rCounting objects:  85% (6/7)\rCounting objects: 100% (7/7)\rCounting objects: 100% (7/7), done.\n",
            "Delta compression using up to 2 threads\n",
            "Compressing objects:  25% (1/4)\rCompressing objects:  50% (2/4)\rCompressing objects:  75% (3/4)\rCompressing objects: 100% (4/4)\rCompressing objects: 100% (4/4), done.\n",
            "Writing objects:  25% (1/4)\rWriting objects:  50% (2/4)\rWriting objects:  75% (3/4)\rWriting objects: 100% (4/4)\rWriting objects: 100% (4/4), 872 bytes | 872.00 KiB/s, done.\n",
            "Total 4 (delta 2), reused 0 (delta 0), pack-reused 0\n",
            "remote: Resolving deltas:   0% (0/2)\u001b[K\rremote: Resolving deltas:  50% (1/2)\u001b[K\rremote: Resolving deltas: 100% (2/2)\u001b[K\rremote: Resolving deltas: 100% (2/2), completed with 2 local objects.\u001b[K\n",
            "To https://github.com/romenlaw/NaiveNeuralNetwork\n",
            "   dafe452..cbdde9c  main -> main\n"
          ]
        }
      ]
    },
    {
      "cell_type": "code",
      "source": [],
      "metadata": {
        "id": "imxeQQDkaIAx"
      },
      "execution_count": null,
      "outputs": []
    },
    {
      "cell_type": "markdown",
      "source": [
        "# Housekeeping"
      ],
      "metadata": {
        "id": "fRF9sx8vX0WR"
      }
    },
    {
      "cell_type": "code",
      "source": [
        "!pwd"
      ],
      "metadata": {
        "colab": {
          "base_uri": "https://localhost:8080/"
        },
        "id": "e6kmI0l3YGck",
        "outputId": "21477799-fde4-448c-ec02-c50c956ad189"
      },
      "execution_count": 9,
      "outputs": [
        {
          "output_type": "stream",
          "name": "stdout",
          "text": [
            "/content/NaiveNeuralNetwork\n"
          ]
        }
      ]
    },
    {
      "cell_type": "code",
      "source": [
        "import sys\n",
        "sys.path.insert(0, '/content/NaiveNeuralNetwork')\n",
        "\n",
        "%load_ext autoreload\n",
        "%autoreload 2"
      ],
      "metadata": {
        "id": "Qai7kAHfXzqS",
        "outputId": "4990f665-1bfd-4254-c8b0-d19ddec29782",
        "colab": {
          "base_uri": "https://localhost:8080/"
        }
      },
      "execution_count": 28,
      "outputs": [
        {
          "output_type": "stream",
          "name": "stdout",
          "text": [
            "The autoreload extension is already loaded. To reload it, use:\n",
            "  %reload_ext autoreload\n"
          ]
        }
      ]
    },
    {
      "cell_type": "code",
      "source": [
        "from nnn import Scalar\n",
        "%load_ext autoreload\n",
        "%autoreload 2"
      ],
      "metadata": {
        "id": "Q85fvLneYBdK",
        "outputId": "fbac7c49-3377-4e3e-d2b1-ed77de7d9b75",
        "colab": {
          "base_uri": "https://localhost:8080/"
        }
      },
      "execution_count": 34,
      "outputs": [
        {
          "output_type": "stream",
          "name": "stdout",
          "text": [
            "The autoreload extension is already loaded. To reload it, use:\n",
            "  %reload_ext autoreload\n"
          ]
        }
      ]
    },
    {
      "cell_type": "markdown",
      "source": [
        "# Visualise"
      ],
      "metadata": {
        "id": "KYk8ESXdEcy3"
      }
    },
    {
      "cell_type": "code",
      "source": [
        "a=Scalar(2., label='a')\n",
        "b=Scalar(3, label='b')\n",
        "c=b+a; c.label='c'\n",
        "d=c*a; d.label='d'\n",
        "e=d+c; e.label='e'\n",
        "#f=e**Scalar(2, label='g'); f.label='f'\n",
        "f=Scalar(2, label='g')**e; f.label='f'\n"
      ],
      "metadata": {
        "id": "bb7j6sghYJXJ"
      },
      "execution_count": 105,
      "outputs": []
    },
    {
      "cell_type": "code",
      "source": [
        "tuple(reversed(c._operands))"
      ],
      "metadata": {
        "colab": {
          "base_uri": "https://localhost:8080/"
        },
        "id": "8LT-vACAYQfZ",
        "outputId": "70d6d950-ea76-46c6-d873-916a131c17d5"
      },
      "execution_count": 84,
      "outputs": [
        {
          "output_type": "execute_result",
          "data": {
            "text/plain": [
              "(b: 3, a: 2.0)"
            ]
          },
          "metadata": {},
          "execution_count": 84
        }
      ]
    },
    {
      "cell_type": "code",
      "source": [
        "import graphviz\n",
        "from visualiser import *"
      ],
      "metadata": {
        "id": "OhXgF3iOYjZh"
      },
      "execution_count": 85,
      "outputs": []
    },
    {
      "cell_type": "code",
      "source": [
        "visualise(b**a)"
      ],
      "metadata": {
        "colab": {
          "base_uri": "https://localhost:8080/",
          "height": 155
        },
        "id": "2abrS-y9YpS5",
        "outputId": "c3249226-0fc8-4d5f-f9d5-7cfbff2e97a3"
      },
      "execution_count": 110,
      "outputs": [
        {
          "output_type": "execute_result",
          "data": {
            "image/svg+xml": "<?xml version=\"1.0\" encoding=\"UTF-8\" standalone=\"no\"?>\n<!DOCTYPE svg PUBLIC \"-//W3C//DTD SVG 1.1//EN\"\n \"http://www.w3.org/Graphics/SVG/1.1/DTD/svg11.dtd\">\n<!-- Generated by graphviz version 2.43.0 (0)\n -->\n<!-- Title: %3 Pages: 1 -->\n<svg width=\"318pt\" height=\"100pt\"\n viewBox=\"0.00 0.00 318.00 100.00\" xmlns=\"http://www.w3.org/2000/svg\" xmlns:xlink=\"http://www.w3.org/1999/xlink\">\n<g id=\"graph0\" class=\"graph\" transform=\"scale(1 1) rotate(0) translate(4 96)\">\n<title>%3</title>\n<polygon fill=\"white\" stroke=\"transparent\" points=\"-4,4 -4,-96 314,-96 314,4 -4,4\"/>\n<!-- 133444786643072 -->\n<g id=\"node1\" class=\"node\">\n<title>133444786643072</title>\n<polygon fill=\"none\" stroke=\"black\" points=\"0,-55.5 0,-91.5 95,-91.5 95,-55.5 0,-55.5\"/>\n<text text-anchor=\"middle\" x=\"47.5\" y=\"-69.8\" font-family=\"Times,serif\" font-size=\"14.00\">b.data=3.0000</text>\n</g>\n<!-- 133444785696496pow -->\n<g id=\"node4\" class=\"node\">\n<title>133444785696496pow</title>\n<ellipse fill=\"none\" stroke=\"black\" cx=\"158\" cy=\"-45.5\" rx=\"27\" ry=\"18\"/>\n<text text-anchor=\"middle\" x=\"158\" y=\"-41.8\" font-family=\"Times,serif\" font-size=\"14.00\">pow</text>\n</g>\n<!-- 133444786643072&#45;&gt;133444785696496pow -->\n<g id=\"edge2\" class=\"edge\">\n<title>133444786643072&#45;&gt;133444785696496pow</title>\n<path fill=\"none\" stroke=\"black\" d=\"M95.14,-61.46C104.39,-59.08 113.94,-56.61 122.68,-54.36\"/>\n<polygon fill=\"black\" stroke=\"black\" points=\"123.71,-57.71 132.52,-51.82 121.96,-50.93 123.71,-57.71\"/>\n</g>\n<!-- 133444786646816 -->\n<g id=\"node2\" class=\"node\">\n<title>133444786646816</title>\n<polygon fill=\"none\" stroke=\"black\" points=\"0,-0.5 0,-36.5 95,-36.5 95,-0.5 0,-0.5\"/>\n<text text-anchor=\"middle\" x=\"47.5\" y=\"-14.8\" font-family=\"Times,serif\" font-size=\"14.00\">a.data=2.0000</text>\n</g>\n<!-- 133444786646816&#45;&gt;133444785696496pow -->\n<g id=\"edge3\" class=\"edge\">\n<title>133444786646816&#45;&gt;133444785696496pow</title>\n<path fill=\"none\" stroke=\"black\" d=\"M95.14,-30.11C104.39,-32.41 113.94,-34.78 122.68,-36.96\"/>\n<polygon fill=\"black\" stroke=\"black\" points=\"121.97,-40.39 132.52,-39.41 123.66,-33.6 121.97,-40.39\"/>\n</g>\n<!-- 133444785696496 -->\n<g id=\"node3\" class=\"node\">\n<title>133444785696496</title>\n<polygon fill=\"none\" stroke=\"black\" points=\"221,-27.5 221,-63.5 310,-63.5 310,-27.5 221,-27.5\"/>\n<text text-anchor=\"middle\" x=\"265.5\" y=\"-41.8\" font-family=\"Times,serif\" font-size=\"14.00\">.data=9.0000</text>\n</g>\n<!-- 133444785696496pow&#45;&gt;133444785696496 -->\n<g id=\"edge1\" class=\"edge\">\n<title>133444785696496pow&#45;&gt;133444785696496</title>\n<path fill=\"none\" stroke=\"black\" d=\"M185.08,-45.5C192.88,-45.5 201.74,-45.5 210.64,-45.5\"/>\n<polygon fill=\"black\" stroke=\"black\" points=\"210.66,-49 220.66,-45.5 210.66,-42 210.66,-49\"/>\n</g>\n</g>\n</svg>\n",
            "text/plain": [
              "<graphviz.graphs.Digraph at 0x795e090c4730>"
            ]
          },
          "metadata": {},
          "execution_count": 110
        }
      ]
    },
    {
      "cell_type": "code",
      "source": [
        "trace(c)"
      ],
      "metadata": {
        "id": "iZJqGzUQ8-aF",
        "outputId": "fbe92813-e8db-45a0-d994-37a130f039a1",
        "colab": {
          "base_uri": "https://localhost:8080/"
        }
      },
      "execution_count": 111,
      "outputs": [
        {
          "output_type": "execute_result",
          "data": {
            "text/plain": [
              "([b: 3, a: 2.0, c: 5.0], {(a: 2.0, c: 5.0), (b: 3, c: 5.0)})"
            ]
          },
          "metadata": {},
          "execution_count": 111
        }
      ]
    },
    {
      "cell_type": "code",
      "source": [
        "visualise(f)"
      ],
      "metadata": {
        "id": "QmneTzsl_WJi",
        "outputId": "c97b384b-4052-438a-d43d-4a809b3e1217",
        "colab": {
          "base_uri": "https://localhost:8080/",
          "height": 216
        }
      },
      "execution_count": 103,
      "outputs": [
        {
          "output_type": "execute_result",
          "data": {
            "image/svg+xml": "<?xml version=\"1.0\" encoding=\"UTF-8\" standalone=\"no\"?>\n<!DOCTYPE svg PUBLIC \"-//W3C//DTD SVG 1.1//EN\"\n \"http://www.w3.org/Graphics/SVG/1.1/DTD/svg11.dtd\">\n<!-- Generated by graphviz version 2.43.0 (0)\n -->\n<!-- Title: %3 Pages: 1 -->\n<svg width=\"1025pt\" height=\"131pt\"\n viewBox=\"0.00 0.00 1025.00 131.00\" xmlns=\"http://www.w3.org/2000/svg\" xmlns:xlink=\"http://www.w3.org/1999/xlink\">\n<g id=\"graph0\" class=\"graph\" transform=\"scale(1 1) rotate(0) translate(4 127)\">\n<title>%3</title>\n<polygon fill=\"white\" stroke=\"transparent\" points=\"-4,4 -4,-127 1021,-127 1021,4 -4,4\"/>\n<!-- 133444785692992 -->\n<g id=\"node1\" class=\"node\">\n<title>133444785692992</title>\n<polygon fill=\"none\" stroke=\"black\" points=\"673,-86.5 673,-122.5 768,-122.5 768,-86.5 673,-86.5\"/>\n<text text-anchor=\"middle\" x=\"720.5\" y=\"-100.8\" font-family=\"Times,serif\" font-size=\"14.00\">g.data=2.0000</text>\n</g>\n<!-- 133444785696208pow -->\n<g id=\"node11\" class=\"node\">\n<title>133444785696208pow</title>\n<ellipse fill=\"none\" stroke=\"black\" cx=\"834\" cy=\"-76.5\" rx=\"27\" ry=\"18\"/>\n<text text-anchor=\"middle\" x=\"834\" y=\"-72.8\" font-family=\"Times,serif\" font-size=\"14.00\">pow</text>\n</g>\n<!-- 133444785692992&#45;&gt;133444785696208pow -->\n<g id=\"edge12\" class=\"edge\">\n<title>133444785692992&#45;&gt;133444785696208pow</title>\n<path fill=\"none\" stroke=\"black\" d=\"M768.14,-92.79C778.31,-90.23 788.89,-87.58 798.49,-85.17\"/>\n<polygon fill=\"black\" stroke=\"black\" points=\"799.6,-88.5 808.44,-82.67 797.89,-81.71 799.6,-88.5\"/>\n</g>\n<!-- 133444785690352 -->\n<g id=\"node2\" class=\"node\">\n<title>133444785690352</title>\n<polygon fill=\"none\" stroke=\"black\" points=\"442,-55.5 442,-91.5 544,-91.5 544,-55.5 442,-55.5\"/>\n<text text-anchor=\"middle\" x=\"493\" y=\"-69.8\" font-family=\"Times,serif\" font-size=\"14.00\">d.data=10.0000</text>\n</g>\n<!-- 133444785688192+ -->\n<g id=\"node9\" class=\"node\">\n<title>133444785688192+</title>\n<ellipse fill=\"none\" stroke=\"black\" cx=\"607\" cy=\"-49.5\" rx=\"27\" ry=\"18\"/>\n<text text-anchor=\"middle\" x=\"607\" y=\"-45.8\" font-family=\"Times,serif\" font-size=\"14.00\">+</text>\n</g>\n<!-- 133444785690352&#45;&gt;133444785688192+ -->\n<g id=\"edge8\" class=\"edge\">\n<title>133444785690352&#45;&gt;133444785688192+</title>\n<path fill=\"none\" stroke=\"black\" d=\"M544.1,-62.76C553.21,-60.81 562.53,-58.81 571.09,-56.98\"/>\n<polygon fill=\"black\" stroke=\"black\" points=\"572.03,-60.36 581.07,-54.84 570.56,-53.52 572.03,-60.36\"/>\n</g>\n<!-- 133444785690352* -->\n<g id=\"node3\" class=\"node\">\n<title>133444785690352*</title>\n<ellipse fill=\"none\" stroke=\"black\" cx=\"379\" cy=\"-73.5\" rx=\"27\" ry=\"18\"/>\n<text text-anchor=\"middle\" x=\"379\" y=\"-69.8\" font-family=\"Times,serif\" font-size=\"14.00\">*</text>\n</g>\n<!-- 133444785690352*&#45;&gt;133444785690352 -->\n<g id=\"edge1\" class=\"edge\">\n<title>133444785690352*&#45;&gt;133444785690352</title>\n<path fill=\"none\" stroke=\"black\" d=\"M406.26,-73.5C413.96,-73.5 422.73,-73.5 431.64,-73.5\"/>\n<polygon fill=\"black\" stroke=\"black\" points=\"431.71,-77 441.71,-73.5 431.71,-70 431.71,-77\"/>\n</g>\n<!-- 133444785694576 -->\n<g id=\"node4\" class=\"node\">\n<title>133444785694576</title>\n<polygon fill=\"none\" stroke=\"black\" points=\"0,-55.5 0,-91.5 95,-91.5 95,-55.5 0,-55.5\"/>\n<text text-anchor=\"middle\" x=\"47.5\" y=\"-69.8\" font-family=\"Times,serif\" font-size=\"14.00\">a.data=2.0000</text>\n</g>\n<!-- 133444785694576&#45;&gt;133444785690352* -->\n<g id=\"edge11\" class=\"edge\">\n<title>133444785694576&#45;&gt;133444785690352*</title>\n<path fill=\"none\" stroke=\"black\" d=\"M95.01,-73.5C161.28,-73.5 281.5,-73.5 341.66,-73.5\"/>\n<polygon fill=\"black\" stroke=\"black\" points=\"341.82,-77 351.82,-73.5 341.82,-70 341.82,-77\"/>\n</g>\n<!-- 133444785691888+ -->\n<g id=\"node7\" class=\"node\">\n<title>133444785691888+</title>\n<ellipse fill=\"none\" stroke=\"black\" cx=\"158\" cy=\"-26.5\" rx=\"27\" ry=\"18\"/>\n<text text-anchor=\"middle\" x=\"158\" y=\"-22.8\" font-family=\"Times,serif\" font-size=\"14.00\">+</text>\n</g>\n<!-- 133444785694576&#45;&gt;133444785691888+ -->\n<g id=\"edge6\" class=\"edge\">\n<title>133444785694576&#45;&gt;133444785691888+</title>\n<path fill=\"none\" stroke=\"black\" d=\"M90.14,-55.46C101.97,-50.34 114.65,-44.84 125.75,-40.04\"/>\n<polygon fill=\"black\" stroke=\"black\" points=\"127.26,-43.2 135.04,-36.01 124.48,-36.77 127.26,-43.2\"/>\n</g>\n<!-- 133444785686992 -->\n<g id=\"node5\" class=\"node\">\n<title>133444785686992</title>\n<polygon fill=\"none\" stroke=\"black\" points=\"0,-0.5 0,-36.5 95,-36.5 95,-0.5 0,-0.5\"/>\n<text text-anchor=\"middle\" x=\"47.5\" y=\"-14.8\" font-family=\"Times,serif\" font-size=\"14.00\">b.data=3.0000</text>\n</g>\n<!-- 133444785686992&#45;&gt;133444785691888+ -->\n<g id=\"edge10\" class=\"edge\">\n<title>133444785686992&#45;&gt;133444785691888+</title>\n<path fill=\"none\" stroke=\"black\" d=\"M95.14,-21.94C103.79,-22.58 112.69,-23.23 120.96,-23.84\"/>\n<polygon fill=\"black\" stroke=\"black\" points=\"120.79,-27.34 131.02,-24.58 121.3,-20.36 120.79,-27.34\"/>\n</g>\n<!-- 133444785691888 -->\n<g id=\"node6\" class=\"node\">\n<title>133444785691888</title>\n<polygon fill=\"none\" stroke=\"black\" points=\"221,-8.5 221,-44.5 316,-44.5 316,-8.5 221,-8.5\"/>\n<text text-anchor=\"middle\" x=\"268.5\" y=\"-22.8\" font-family=\"Times,serif\" font-size=\"14.00\">c.data=5.0000</text>\n</g>\n<!-- 133444785691888&#45;&gt;133444785690352* -->\n<g id=\"edge7\" class=\"edge\">\n<title>133444785691888&#45;&gt;133444785690352*</title>\n<path fill=\"none\" stroke=\"black\" d=\"M311.14,-44.54C322.97,-49.66 335.65,-55.16 346.75,-59.96\"/>\n<polygon fill=\"black\" stroke=\"black\" points=\"345.48,-63.23 356.04,-63.99 348.26,-56.8 345.48,-63.23\"/>\n</g>\n<!-- 133444785691888&#45;&gt;133444785688192+ -->\n<g id=\"edge5\" class=\"edge\">\n<title>133444785691888&#45;&gt;133444785688192+</title>\n<path fill=\"none\" stroke=\"black\" d=\"M316.29,-29.7C384.09,-34.33 508.25,-42.82 569.64,-47.01\"/>\n<polygon fill=\"black\" stroke=\"black\" points=\"569.78,-50.53 580,-47.72 570.26,-43.55 569.78,-50.53\"/>\n</g>\n<!-- 133444785691888+&#45;&gt;133444785691888 -->\n<g id=\"edge2\" class=\"edge\">\n<title>133444785691888+&#45;&gt;133444785691888</title>\n<path fill=\"none\" stroke=\"black\" d=\"M185.26,-26.5C193.01,-26.5 201.81,-26.5 210.69,-26.5\"/>\n<polygon fill=\"black\" stroke=\"black\" points=\"210.71,-30 220.71,-26.5 210.71,-23 210.71,-30\"/>\n</g>\n<!-- 133444785688192 -->\n<g id=\"node8\" class=\"node\">\n<title>133444785688192</title>\n<polygon fill=\"none\" stroke=\"black\" points=\"670,-31.5 670,-67.5 771,-67.5 771,-31.5 670,-31.5\"/>\n<text text-anchor=\"middle\" x=\"720.5\" y=\"-45.8\" font-family=\"Times,serif\" font-size=\"14.00\">e.data=15.0000</text>\n</g>\n<!-- 133444785688192&#45;&gt;133444785696208pow -->\n<g id=\"edge9\" class=\"edge\">\n<title>133444785688192&#45;&gt;133444785696208pow</title>\n<path fill=\"none\" stroke=\"black\" d=\"M771.05,-61.5C780.34,-63.75 789.85,-66.05 798.55,-68.16\"/>\n<polygon fill=\"black\" stroke=\"black\" points=\"797.78,-71.57 808.32,-70.52 799.43,-64.77 797.78,-71.57\"/>\n</g>\n<!-- 133444785688192+&#45;&gt;133444785688192 -->\n<g id=\"edge3\" class=\"edge\">\n<title>133444785688192+&#45;&gt;133444785688192</title>\n<path fill=\"none\" stroke=\"black\" d=\"M634.14,-49.5C641.91,-49.5 650.75,-49.5 659.73,-49.5\"/>\n<polygon fill=\"black\" stroke=\"black\" points=\"659.88,-53 669.88,-49.5 659.88,-46 659.88,-53\"/>\n</g>\n<!-- 133444785696208 -->\n<g id=\"node10\" class=\"node\">\n<title>133444785696208</title>\n<polygon fill=\"none\" stroke=\"black\" points=\"897,-58.5 897,-94.5 1017,-94.5 1017,-58.5 897,-58.5\"/>\n<text text-anchor=\"middle\" x=\"957\" y=\"-72.8\" font-family=\"Times,serif\" font-size=\"14.00\">f.data=32768.0000</text>\n</g>\n<!-- 133444785696208pow&#45;&gt;133444785696208 -->\n<g id=\"edge4\" class=\"edge\">\n<title>133444785696208pow&#45;&gt;133444785696208</title>\n<path fill=\"none\" stroke=\"black\" d=\"M861.26,-76.5C868.83,-76.5 877.47,-76.5 886.39,-76.5\"/>\n<polygon fill=\"black\" stroke=\"black\" points=\"886.52,-80 896.52,-76.5 886.52,-73 886.52,-80\"/>\n</g>\n</g>\n</svg>\n",
            "text/plain": [
              "<graphviz.graphs.Digraph at 0x795e090c5b70>"
            ]
          },
          "metadata": {},
          "execution_count": 103
        }
      ]
    },
    {
      "cell_type": "markdown",
      "source": [
        "# Gradient"
      ],
      "metadata": {
        "id": "Y1HxS26bEl-h"
      }
    },
    {
      "cell_type": "code",
      "source": [],
      "metadata": {
        "id": "ttzWXnv-EoAc"
      },
      "execution_count": null,
      "outputs": []
    }
  ]
}