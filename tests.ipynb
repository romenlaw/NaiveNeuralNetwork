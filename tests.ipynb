{
  "nbformat": 4,
  "nbformat_minor": 0,
  "metadata": {
    "colab": {
      "provenance": [],
      "authorship_tag": "ABX9TyP9zWceirpjXAoUNN1N8eHu",
      "include_colab_link": true
    },
    "kernelspec": {
      "name": "python3",
      "display_name": "Python 3"
    },
    "language_info": {
      "name": "python"
    }
  },
  "cells": [
    {
      "cell_type": "markdown",
      "metadata": {
        "id": "view-in-github",
        "colab_type": "text"
      },
      "source": [
        "<a href=\"https://colab.research.google.com/github/romenlaw/NaiveNeuralNetwork/blob/main/tests.ipynb\" target=\"_parent\"><img src=\"https://colab.research.google.com/assets/colab-badge.svg\" alt=\"Open In Colab\"/></a>"
      ]
    },
    {
      "cell_type": "markdown",
      "source": [
        "# Git"
      ],
      "metadata": {
        "id": "jJ1gJx4PWjKM"
      }
    },
    {
      "cell_type": "code",
      "execution_count": 2,
      "metadata": {
        "colab": {
          "base_uri": "https://localhost:8080/"
        },
        "id": "V_rvx7UJWdtu",
        "outputId": "265d80b0-469c-4bc4-983e-e192cbd1b185"
      },
      "outputs": [
        {
          "output_type": "stream",
          "name": "stdout",
          "text": [
            "Cloning into 'NaiveNeuralNetwork'...\n",
            "remote: Enumerating objects: 96, done.\u001b[K\n",
            "remote: Counting objects: 100% (96/96), done.\u001b[K\n",
            "remote: Compressing objects: 100% (86/86), done.\u001b[K\n",
            "remote: Total 96 (delta 42), reused 21 (delta 5), pack-reused 0\u001b[K\n",
            "Receiving objects: 100% (96/96), 32.90 KiB | 1.93 MiB/s, done.\n",
            "Resolving deltas: 100% (42/42), done.\n"
          ]
        }
      ],
      "source": [
        "!git config --global user.name \"romenlaw\"\n",
        "!git config --global user.email \"e\"\n",
        "TOKEN='github_pat_'\n",
        "!git clone https://$TOKEN@github.com/romenlaw/NaiveNeuralNetwork"
      ]
    },
    {
      "cell_type": "code",
      "source": [
        "%cd /content/NaiveNeuralNetwork"
      ],
      "metadata": {
        "colab": {
          "base_uri": "https://localhost:8080/"
        },
        "id": "FeUWwULWXphZ",
        "outputId": "caee0c35-c9e7-40ff-8bad-d5319865bbc1"
      },
      "execution_count": null,
      "outputs": [
        {
          "output_type": "stream",
          "name": "stdout",
          "text": [
            "/content/NaiveNeuralNetwork\n"
          ]
        }
      ]
    },
    {
      "cell_type": "code",
      "source": [
        "!git status"
      ],
      "metadata": {
        "colab": {
          "base_uri": "https://localhost:8080/"
        },
        "id": "XReIugA3Xm1q",
        "outputId": "85f0ac4b-abae-4b88-8b38-83fa969bf32c"
      },
      "execution_count": null,
      "outputs": [
        {
          "output_type": "stream",
          "name": "stdout",
          "text": [
            "On branch main\n",
            "Your branch is up to date with 'origin/main'.\n",
            "\n",
            "nothing to commit, working tree clean\n"
          ]
        }
      ]
    },
    {
      "cell_type": "code",
      "source": [
        "!git add .\n",
        "!git status"
      ],
      "metadata": {
        "colab": {
          "base_uri": "https://localhost:8080/"
        },
        "id": "GX6bSVymZwTz",
        "outputId": "de15e78b-bdb1-48e5-aff1-d81d9635eeae"
      },
      "execution_count": null,
      "outputs": [
        {
          "output_type": "stream",
          "name": "stdout",
          "text": [
            "On branch main\n",
            "Your branch is up to date with 'origin/main'.\n",
            "\n",
            "Changes to be committed:\n",
            "  (use \"git restore --staged <file>...\" to unstage)\n",
            "\t\u001b[32mnew file:   __pycache__/nnn.cpython-310.pyc\u001b[m\n",
            "\t\u001b[32mmodified:   nnn.py\u001b[m\n",
            "\t\u001b[32mnew file:   visualiser.py\u001b[m\n",
            "\n"
          ]
        }
      ]
    },
    {
      "cell_type": "code",
      "source": [
        "!git commit -m \"add visualiser\""
      ],
      "metadata": {
        "colab": {
          "base_uri": "https://localhost:8080/"
        },
        "id": "2W63Y6buZ4jC",
        "outputId": "a5e3e6ba-ee4d-4b3a-c7a2-57ca9e431f36"
      },
      "execution_count": null,
      "outputs": [
        {
          "output_type": "stream",
          "name": "stdout",
          "text": [
            "[main b35e37b] add visualiser\n",
            " 3 files changed, 8 insertions(+), 5 deletions(-)\n",
            " create mode 100644 __pycache__/nnn.cpython-310.pyc\n",
            " create mode 100644 visualiser.py\n"
          ]
        }
      ]
    },
    {
      "cell_type": "code",
      "source": [
        "!git push origin main"
      ],
      "metadata": {
        "colab": {
          "base_uri": "https://localhost:8080/"
        },
        "id": "5BCTOaoCZ-0C",
        "outputId": "b22133f3-7ad1-4375-d860-e9c1222912ef"
      },
      "execution_count": null,
      "outputs": [
        {
          "output_type": "stream",
          "name": "stdout",
          "text": [
            "Enumerating objects: 8, done.\n",
            "Counting objects:  12% (1/8)\rCounting objects:  25% (2/8)\rCounting objects:  37% (3/8)\rCounting objects:  50% (4/8)\rCounting objects:  62% (5/8)\rCounting objects:  75% (6/8)\rCounting objects:  87% (7/8)\rCounting objects: 100% (8/8)\rCounting objects: 100% (8/8), done.\n",
            "Delta compression using up to 2 threads\n",
            "Compressing objects:  25% (1/4)\rCompressing objects:  50% (2/4)\rCompressing objects:  75% (3/4)\rCompressing objects: 100% (4/4)\rCompressing objects: 100% (4/4), done.\n",
            "Writing objects:  16% (1/6)\rWriting objects:  33% (2/6)\rWriting objects:  50% (3/6)\rWriting objects:  66% (4/6)\rWriting objects:  83% (5/6)\rWriting objects: 100% (6/6)\rWriting objects: 100% (6/6), 1.10 KiB | 1.10 MiB/s, done.\n",
            "Total 6 (delta 1), reused 0 (delta 0), pack-reused 0\n",
            "remote: Resolving deltas: 100% (1/1), completed with 1 local object.\u001b[K\n",
            "To https://github.com/romenlaw/NaiveNeuralNetwork\n",
            "   fdb2d25..b35e37b  main -> main\n",
            "Branch 'main' set up to track remote branch 'main' from 'origin'.\n"
          ]
        }
      ]
    },
    {
      "cell_type": "code",
      "source": [],
      "metadata": {
        "id": "imxeQQDkaIAx"
      },
      "execution_count": null,
      "outputs": []
    },
    {
      "cell_type": "markdown",
      "source": [
        "# Housekeeping"
      ],
      "metadata": {
        "id": "fRF9sx8vX0WR"
      }
    },
    {
      "cell_type": "code",
      "source": [
        "!pwd"
      ],
      "metadata": {
        "colab": {
          "base_uri": "https://localhost:8080/"
        },
        "id": "e6kmI0l3YGck",
        "outputId": "b29eafa1-395b-423f-8650-74c10e984ae2"
      },
      "execution_count": 1,
      "outputs": [
        {
          "output_type": "stream",
          "name": "stdout",
          "text": [
            "/content\n"
          ]
        }
      ]
    },
    {
      "cell_type": "code",
      "source": [
        "import sys\n",
        "sys.path.insert(0, '/content/NaiveNeuralNetwork')\n",
        "\n",
        "%load_ext autoreload\n",
        "%autoreload 2"
      ],
      "metadata": {
        "id": "Qai7kAHfXzqS"
      },
      "execution_count": 1,
      "outputs": []
    },
    {
      "cell_type": "code",
      "source": [
        "from nnn import Scalar"
      ],
      "metadata": {
        "id": "Q85fvLneYBdK"
      },
      "execution_count": 2,
      "outputs": []
    },
    {
      "cell_type": "code",
      "source": [],
      "metadata": {
        "id": "st7lqu-nvCER"
      },
      "execution_count": 15,
      "outputs": []
    },
    {
      "cell_type": "code",
      "source": [
        "a=Scalar(2., label='a')\n",
        "b=Scalar(3, label='b')\n",
        "c=a+b; c.label='c'"
      ],
      "metadata": {
        "id": "bb7j6sghYJXJ"
      },
      "execution_count": 3,
      "outputs": []
    },
    {
      "cell_type": "code",
      "source": [
        "c"
      ],
      "metadata": {
        "colab": {
          "base_uri": "https://localhost:8080/"
        },
        "id": "8LT-vACAYQfZ",
        "outputId": "5c224f49-ba33-4f6b-8c4e-a1234e35dfaa"
      },
      "execution_count": 6,
      "outputs": [
        {
          "output_type": "execute_result",
          "data": {
            "text/plain": [
              "c: 5.0"
            ]
          },
          "metadata": {},
          "execution_count": 6
        }
      ]
    },
    {
      "cell_type": "code",
      "source": [
        "with open('NaiveNeuralNetwork/nnn.py', 'r') as f:\n",
        "  print(f.read())"
      ],
      "metadata": {
        "id": "oVwihcGLt1Yx",
        "outputId": "fc8a3aee-2525-407c-977a-774e0d0d617e",
        "colab": {
          "base_uri": "https://localhost:8080/"
        }
      },
      "execution_count": 81,
      "outputs": [
        {
          "output_type": "stream",
          "name": "stdout",
          "text": [
            "class Scalar:\n",
            "  def __init__(self, data, _children=(), _op='', label=''):\n",
            "    self.data = data\n",
            "    self.label = label\n",
            "    self._op = _op\n",
            "    self._children = _children\n",
            "\n",
            "  def __str__(self):\n",
            "    return f\"{self.label}={self.data}\"\n",
            "\n",
            "  def __repr__(self):\n",
            "    return f\"{self.label}:a {self.data}\"\n",
            "\n",
            "  def __add__(self, other):\n",
            "    out = Scalar(self.data + other.data, (self, other), '+')\n",
            "    return out\n",
            "    \n",
            "  def __mul__(self, other):\n",
            "    out = Scalar(self.data * other.data, (self, other), '*')\n",
            "    return out\n",
            "\n",
            "  def __truediv__(self, other):\n",
            "    out = Scalar(self.data / other.data, (self, other), '/')\n",
            "    return out\n",
            "\n",
            "  def __pow__(self, other):\n",
            "    out = Scalar(self.data ** other.data, (self, other), 'pow')\n",
            "    return out\n",
            "\n",
            "  def backward(self):\n",
            "    pass\n",
            "\n"
          ]
        }
      ]
    },
    {
      "cell_type": "markdown",
      "source": [
        "# Visualise"
      ],
      "metadata": {
        "id": "n9YKu66GYkeu"
      }
    },
    {
      "cell_type": "code",
      "source": [
        "import graphviz"
      ],
      "metadata": {
        "id": "OhXgF3iOYjZh"
      },
      "execution_count": null,
      "outputs": []
    },
    {
      "cell_type": "code",
      "source": [
        "g = graphviz.Digraph(format='svg', graph_attr={'rankdir': 'LR'})\n",
        "g.edge('run', 'intr')\n",
        "g.edge('intr', 'runbl')\n",
        "g.edge('runbl', 'run')\n",
        "g"
      ],
      "metadata": {
        "colab": {
          "base_uri": "https://localhost:8080/",
          "height": 111
        },
        "id": "2abrS-y9YpS5",
        "outputId": "d7ecd3c8-341e-44ce-f46a-aa3426561481"
      },
      "execution_count": null,
      "outputs": [
        {
          "output_type": "execute_result",
          "data": {
            "image/svg+xml": "<?xml version=\"1.0\" encoding=\"UTF-8\" standalone=\"no\"?>\n<!DOCTYPE svg PUBLIC \"-//W3C//DTD SVG 1.1//EN\"\n \"http://www.w3.org/Graphics/SVG/1.1/DTD/svg11.dtd\">\n<!-- Generated by graphviz version 2.43.0 (0)\n -->\n<!-- Title: %3 Pages: 1 -->\n<svg width=\"246pt\" height=\"67pt\"\n viewBox=\"0.00 0.00 246.49 67.00\" xmlns=\"http://www.w3.org/2000/svg\" xmlns:xlink=\"http://www.w3.org/1999/xlink\">\n<g id=\"graph0\" class=\"graph\" transform=\"scale(1 1) rotate(0) translate(4 63)\">\n<title>%3</title>\n<polygon fill=\"white\" stroke=\"transparent\" points=\"-4,4 -4,-63 242.49,-63 242.49,4 -4,4\"/>\n<!-- run -->\n<g id=\"node1\" class=\"node\">\n<title>run</title>\n<ellipse fill=\"none\" stroke=\"black\" cx=\"27\" cy=\"-18\" rx=\"27\" ry=\"18\"/>\n<text text-anchor=\"middle\" x=\"27\" y=\"-14.3\" font-family=\"Times,serif\" font-size=\"14.00\">run</text>\n</g>\n<!-- intr -->\n<g id=\"node2\" class=\"node\">\n<title>intr</title>\n<ellipse fill=\"none\" stroke=\"black\" cx=\"117\" cy=\"-41\" rx=\"27\" ry=\"18\"/>\n<text text-anchor=\"middle\" x=\"117\" y=\"-37.3\" font-family=\"Times,serif\" font-size=\"14.00\">intr</text>\n</g>\n<!-- run&#45;&gt;intr -->\n<g id=\"edge1\" class=\"edge\">\n<title>run&#45;&gt;intr</title>\n<path fill=\"none\" stroke=\"black\" d=\"M52.51,-24.41C61.57,-26.77 72.01,-29.5 81.78,-32.05\"/>\n<polygon fill=\"black\" stroke=\"black\" points=\"81.06,-35.49 91.62,-34.63 82.83,-28.71 81.06,-35.49\"/>\n</g>\n<!-- runbl -->\n<g id=\"node3\" class=\"node\">\n<title>runbl</title>\n<ellipse fill=\"none\" stroke=\"black\" cx=\"209.25\" cy=\"-18\" rx=\"29.5\" ry=\"18\"/>\n<text text-anchor=\"middle\" x=\"209.25\" y=\"-14.3\" font-family=\"Times,serif\" font-size=\"14.00\">runbl</text>\n</g>\n<!-- intr&#45;&gt;runbl -->\n<g id=\"edge2\" class=\"edge\">\n<title>intr&#45;&gt;runbl</title>\n<path fill=\"none\" stroke=\"black\" d=\"M142.66,-34.72C151.72,-32.41 162.19,-29.74 172.05,-27.22\"/>\n<polygon fill=\"black\" stroke=\"black\" points=\"173.21,-30.54 182.04,-24.68 171.48,-23.76 173.21,-30.54\"/>\n</g>\n<!-- runbl&#45;&gt;run -->\n<g id=\"edge3\" class=\"edge\">\n<title>runbl&#45;&gt;run</title>\n<path fill=\"none\" stroke=\"black\" d=\"M180.12,-15.87C168.89,-15.12 155.84,-14.37 144,-14 120.01,-13.25 113.99,-13.23 90,-14 81.57,-14.27 72.5,-14.75 63.98,-15.28\"/>\n<polygon fill=\"black\" stroke=\"black\" points=\"63.67,-11.8 53.92,-15.95 64.13,-18.78 63.67,-11.8\"/>\n</g>\n</g>\n</svg>\n",
            "text/plain": [
              "<graphviz.graphs.Digraph at 0x7946a18004f0>"
            ]
          },
          "metadata": {},
          "execution_count": 14
        }
      ]
    }
  ]
}