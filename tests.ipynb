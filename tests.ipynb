{
  "nbformat": 4,
  "nbformat_minor": 0,
  "metadata": {
    "colab": {
      "provenance": [],
      "authorship_tag": "ABX9TyMv7a2gCTeDZK35TIa5JdkT",
      "include_colab_link": true
    },
    "kernelspec": {
      "name": "python3",
      "display_name": "Python 3"
    },
    "language_info": {
      "name": "python"
    }
  },
  "cells": [
    {
      "cell_type": "markdown",
      "metadata": {
        "id": "view-in-github",
        "colab_type": "text"
      },
      "source": [
        "<a href=\"https://colab.research.google.com/github/romenlaw/NaiveNeuralNetwork/blob/main/tests.ipynb\" target=\"_parent\"><img src=\"https://colab.research.google.com/assets/colab-badge.svg\" alt=\"Open In Colab\"/></a>"
      ]
    },
    {
      "cell_type": "markdown",
      "source": [
        "# Git"
      ],
      "metadata": {
        "id": "jJ1gJx4PWjKM"
      }
    },
    {
      "cell_type": "code",
      "execution_count": 1,
      "metadata": {
        "colab": {
          "base_uri": "https://localhost:8080/"
        },
        "id": "V_rvx7UJWdtu",
        "outputId": "a7722e2e-8b5a-4871-eaad-96f8084de45c"
      },
      "outputs": [
        {
          "output_type": "stream",
          "name": "stdout",
          "text": [
            "Cloning into 'NaiveNeuralNetwork'...\n",
            "remote: Enumerating objects: 131, done.\u001b[K\n",
            "remote: Counting objects: 100% (131/131), done.\u001b[K\n",
            "remote: Compressing objects: 100% (114/114), done.\u001b[K\n",
            "remote: Total 131 (delta 60), reused 39 (delta 11), pack-reused 0\u001b[K\n",
            "Receiving objects: 100% (131/131), 65.82 KiB | 1.04 MiB/s, done.\n",
            "Resolving deltas: 100% (60/60), done.\n"
          ]
        }
      ],
      "source": [
        "!git config --global user.name \"romenlaw\"\n",
        "!git config --global user.email \"e\"\n",
        "TOKEN='github_pat_'\n",
        "!git clone https://$TOKEN@github.com/romenlaw/NaiveNeuralNetwork"
      ]
    },
    {
      "cell_type": "code",
      "source": [
        "%cd /content/NaiveNeuralNetwork"
      ],
      "metadata": {
        "colab": {
          "base_uri": "https://localhost:8080/"
        },
        "id": "FeUWwULWXphZ",
        "outputId": "c8a72667-e9e7-4729-9e6e-47b9b4eb2f16"
      },
      "execution_count": 2,
      "outputs": [
        {
          "output_type": "stream",
          "name": "stdout",
          "text": [
            "/content/NaiveNeuralNetwork\n"
          ]
        }
      ]
    },
    {
      "cell_type": "code",
      "source": [
        "!git status"
      ],
      "metadata": {
        "colab": {
          "base_uri": "https://localhost:8080/"
        },
        "id": "XReIugA3Xm1q",
        "outputId": "02670720-025d-4fb3-b9d1-f229dd7744db"
      },
      "execution_count": 3,
      "outputs": [
        {
          "output_type": "stream",
          "name": "stdout",
          "text": [
            "On branch main\n",
            "Your branch is up to date with 'origin/main'.\n",
            "\n",
            "nothing to commit, working tree clean\n"
          ]
        }
      ]
    },
    {
      "cell_type": "code",
      "source": [
        "!git add nnn.py visualiser.py __init__.py\n",
        "!git status"
      ],
      "metadata": {
        "colab": {
          "base_uri": "https://localhost:8080/"
        },
        "id": "GX6bSVymZwTz",
        "outputId": "ada095fe-c9b4-47d7-a2ee-17da808742f9"
      },
      "execution_count": 67,
      "outputs": [
        {
          "output_type": "stream",
          "name": "stdout",
          "text": [
            "On branch main\n",
            "Your branch is up to date with 'origin/main'.\n",
            "\n",
            "Changes to be committed:\n",
            "  (use \"git restore --staged <file>...\" to unstage)\n",
            "\t\u001b[32mmodified:   nnn.py\u001b[m\n",
            "\n",
            "Untracked files:\n",
            "  (use \"git add <file>...\" to include in what will be committed)\n",
            "\t\u001b[31m__pycache__/\u001b[m\n",
            "\n"
          ]
        }
      ]
    },
    {
      "cell_type": "code",
      "source": [
        "!git reset"
      ],
      "metadata": {
        "colab": {
          "base_uri": "https://localhost:8080/"
        },
        "id": "yxWbqCaMDtPj",
        "outputId": "bac90f34-8664-4bad-f785-05df7f02f779"
      },
      "execution_count": null,
      "outputs": [
        {
          "output_type": "stream",
          "name": "stdout",
          "text": [
            "Unstaged changes after reset:\n",
            "M\t__pycache__/nnn.cpython-310.pyc\n",
            "M\tnnn.py\n",
            "M\tvisualiser.py\n"
          ]
        }
      ]
    },
    {
      "cell_type": "code",
      "source": [
        "!git commit -m \"add MLP and related classes\""
      ],
      "metadata": {
        "colab": {
          "base_uri": "https://localhost:8080/"
        },
        "id": "2W63Y6buZ4jC",
        "outputId": "7be156dc-058b-4a08-aa39-9f16ce3ba051"
      },
      "execution_count": 68,
      "outputs": [
        {
          "output_type": "stream",
          "name": "stdout",
          "text": [
            "[main 3899340] add MLP and related classes\n",
            " 1 file changed, 58 insertions(+)\n"
          ]
        }
      ]
    },
    {
      "cell_type": "code",
      "source": [
        "!git push origin main"
      ],
      "metadata": {
        "colab": {
          "base_uri": "https://localhost:8080/"
        },
        "id": "5BCTOaoCZ-0C",
        "outputId": "0a0a6932-2358-4145-da7d-c22eaf488eba"
      },
      "execution_count": 69,
      "outputs": [
        {
          "output_type": "stream",
          "name": "stdout",
          "text": [
            "Enumerating objects: 5, done.\n",
            "Counting objects:  20% (1/5)\rCounting objects:  40% (2/5)\rCounting objects:  60% (3/5)\rCounting objects:  80% (4/5)\rCounting objects: 100% (5/5)\rCounting objects: 100% (5/5), done.\n",
            "Delta compression using up to 2 threads\n",
            "Compressing objects:  33% (1/3)\rCompressing objects:  66% (2/3)\rCompressing objects: 100% (3/3)\rCompressing objects: 100% (3/3), done.\n",
            "Writing objects:  33% (1/3)\rWriting objects:  66% (2/3)\rWriting objects: 100% (3/3)\rWriting objects: 100% (3/3), 838 bytes | 838.00 KiB/s, done.\n",
            "Total 3 (delta 2), reused 0 (delta 0), pack-reused 0\n",
            "remote: Resolving deltas:   0% (0/2)\u001b[K\rremote: Resolving deltas:  50% (1/2)\u001b[K\rremote: Resolving deltas: 100% (2/2)\u001b[K\rremote: Resolving deltas: 100% (2/2), completed with 2 local objects.\u001b[K\n",
            "To https://github.com/romenlaw/NaiveNeuralNetwork\n",
            "   a3891d5..3899340  main -> main\n"
          ]
        }
      ]
    },
    {
      "cell_type": "code",
      "source": [],
      "metadata": {
        "id": "imxeQQDkaIAx"
      },
      "execution_count": null,
      "outputs": []
    },
    {
      "cell_type": "markdown",
      "source": [
        "# Housekeeping"
      ],
      "metadata": {
        "id": "fRF9sx8vX0WR"
      }
    },
    {
      "cell_type": "code",
      "source": [
        "!pwd"
      ],
      "metadata": {
        "colab": {
          "base_uri": "https://localhost:8080/"
        },
        "id": "e6kmI0l3YGck",
        "outputId": "29392396-3601-456a-8763-e1898e50a0dc"
      },
      "execution_count": 4,
      "outputs": [
        {
          "output_type": "stream",
          "name": "stdout",
          "text": [
            "/content/NaiveNeuralNetwork\n"
          ]
        }
      ]
    },
    {
      "cell_type": "code",
      "source": [
        "import sys\n",
        "sys.path.append('/content/NaiveNeuralNetwork')\n",
        "\n",
        "%load_ext autoreload\n",
        "%autoreload 2"
      ],
      "metadata": {
        "id": "Qai7kAHfXzqS"
      },
      "execution_count": 5,
      "outputs": []
    },
    {
      "cell_type": "code",
      "source": [
        "from nnn import Scalar, Neuron\n",
        "from visualiser import *\n"
      ],
      "metadata": {
        "id": "Q85fvLneYBdK"
      },
      "execution_count": 37,
      "outputs": []
    },
    {
      "cell_type": "markdown",
      "source": [
        "# Visualise"
      ],
      "metadata": {
        "id": "KYk8ESXdEcy3"
      }
    },
    {
      "cell_type": "code",
      "source": [
        "a=Scalar(2., label='a')\n",
        "b=Scalar(-3, label='b')\n",
        "c=Scalar(10, label='c')\n",
        "e=a*b; e.label='e'\n",
        "d=e+c+b; d.label='d'\n",
        "f=d/e; f.label='f'\n",
        "L=(-f).relu(); L.label='L'\n"
      ],
      "metadata": {
        "id": "bb7j6sghYJXJ"
      },
      "execution_count": 11,
      "outputs": []
    },
    {
      "cell_type": "code",
      "source": [
        "import graphviz\n",
        "from visualiser import *"
      ],
      "metadata": {
        "id": "OhXgF3iOYjZh"
      },
      "execution_count": null,
      "outputs": []
    },
    {
      "cell_type": "code",
      "source": [
        "L.backward()"
      ],
      "metadata": {
        "colab": {
          "base_uri": "https://localhost:8080/"
        },
        "id": "IW1Azzp94gYr",
        "outputId": "37ad6dcb-62d7-488f-c156-b7fda75908df"
      },
      "execution_count": 12,
      "outputs": [
        {
          "output_type": "stream",
          "name": "stdout",
          "text": [
            "[L: 0.16666666666666666, : 0.16666666666666666, : -1, f: -0.16666666666666666, : -0.16666666666666666, d: 1.0, : 4.0, c: 10, e: -6.0, b: -3, a: 2.0]\n"
          ]
        }
      ]
    },
    {
      "cell_type": "code",
      "source": [
        "visualise(L)"
      ],
      "metadata": {
        "colab": {
          "base_uri": "https://localhost:8080/",
          "height": 265
        },
        "id": "QmneTzsl_WJi",
        "outputId": "8be9eace-6282-422b-b534-d57f30d32dfd"
      },
      "execution_count": 13,
      "outputs": [
        {
          "output_type": "execute_result",
          "data": {
            "image/svg+xml": "<?xml version=\"1.0\" encoding=\"UTF-8\" standalone=\"no\"?>\n<!DOCTYPE svg PUBLIC \"-//W3C//DTD SVG 1.1//EN\"\n \"http://www.w3.org/Graphics/SVG/1.1/DTD/svg11.dtd\">\n<!-- Generated by graphviz version 2.43.0 (0)\n -->\n<!-- Title: %3 Pages: 1 -->\n<svg width=\"1507pt\" height=\"168pt\"\n viewBox=\"0.00 0.00 1506.99 168.00\" xmlns=\"http://www.w3.org/2000/svg\" xmlns:xlink=\"http://www.w3.org/1999/xlink\">\n<g id=\"graph0\" class=\"graph\" transform=\"scale(1 1) rotate(0) translate(4 164)\">\n<title>%3</title>\n<polygon fill=\"white\" stroke=\"transparent\" points=\"-4,4 -4,-164 1502.99,-164 1502.99,4 -4,4\"/>\n<!-- 133216563637664 -->\n<g id=\"node1\" class=\"node\">\n<title>133216563637664</title>\n<polygon fill=\"none\" stroke=\"black\" points=\"226,-85.5 226,-123.5 327,-123.5 327,-85.5 226,-85.5\"/>\n<text text-anchor=\"middle\" x=\"276.5\" y=\"-108.3\" font-family=\"Times,serif\" font-size=\"14.00\">c.data=10.0000</text>\n<text text-anchor=\"middle\" x=\"276.5\" y=\"-93.3\" font-family=\"Times,serif\" font-size=\"14.00\">grad=0.1667</text>\n</g>\n<!-- 133216563638000+ -->\n<g id=\"node3\" class=\"node\">\n<title>133216563638000+</title>\n<ellipse fill=\"none\" stroke=\"black\" cx=\"402\" cy=\"-104.5\" rx=\"27\" ry=\"18\"/>\n<text text-anchor=\"middle\" x=\"402\" y=\"-100.8\" font-family=\"Times,serif\" font-size=\"14.00\">+</text>\n</g>\n<!-- 133216563637664&#45;&gt;133216563638000+ -->\n<g id=\"edge12\" class=\"edge\">\n<title>133216563637664&#45;&gt;133216563638000+</title>\n<path fill=\"none\" stroke=\"black\" d=\"M327.02,-104.5C339.56,-104.5 352.79,-104.5 364.55,-104.5\"/>\n<polygon fill=\"black\" stroke=\"black\" points=\"364.87,-108 374.87,-104.5 364.87,-101 364.87,-108\"/>\n</g>\n<!-- 133216563638000 -->\n<g id=\"node2\" class=\"node\">\n<title>133216563638000</title>\n<polygon fill=\"none\" stroke=\"black\" points=\"476.99,-85.5 476.99,-123.5 565.99,-123.5 565.99,-85.5 476.99,-85.5\"/>\n<text text-anchor=\"middle\" x=\"521.49\" y=\"-108.3\" font-family=\"Times,serif\" font-size=\"14.00\">.data=4.0000</text>\n<text text-anchor=\"middle\" x=\"521.49\" y=\"-93.3\" font-family=\"Times,serif\" font-size=\"14.00\">grad=0.1667</text>\n</g>\n<!-- 133216563640448+ -->\n<g id=\"node5\" class=\"node\">\n<title>133216563640448+</title>\n<ellipse fill=\"none\" stroke=\"black\" cx=\"648.49\" cy=\"-104.5\" rx=\"27\" ry=\"18\"/>\n<text text-anchor=\"middle\" x=\"648.49\" y=\"-100.8\" font-family=\"Times,serif\" font-size=\"14.00\">+</text>\n</g>\n<!-- 133216563638000&#45;&gt;133216563640448+ -->\n<g id=\"edge18\" class=\"edge\">\n<title>133216563638000&#45;&gt;133216563640448+</title>\n<path fill=\"none\" stroke=\"black\" d=\"M566.21,-104.5C580.91,-104.5 597.14,-104.5 611.2,-104.5\"/>\n<polygon fill=\"black\" stroke=\"black\" points=\"611.47,-108 621.47,-104.5 611.47,-101 611.47,-108\"/>\n</g>\n<!-- 133216563638000+&#45;&gt;133216563638000 -->\n<g id=\"edge1\" class=\"edge\">\n<title>133216563638000+&#45;&gt;133216563638000</title>\n<path fill=\"none\" stroke=\"black\" d=\"M429.07,-104.5C440.17,-104.5 453.55,-104.5 466.6,-104.5\"/>\n<polygon fill=\"black\" stroke=\"black\" points=\"466.95,-108 476.95,-104.5 466.95,-101 466.95,-108\"/>\n</g>\n<!-- 133216563640448 -->\n<g id=\"node4\" class=\"node\">\n<title>133216563640448</title>\n<polygon fill=\"none\" stroke=\"black\" points=\"730.99,-83.5 730.99,-121.5 825.99,-121.5 825.99,-83.5 730.99,-83.5\"/>\n<text text-anchor=\"middle\" x=\"778.49\" y=\"-106.3\" font-family=\"Times,serif\" font-size=\"14.00\">d.data=1.0000</text>\n<text text-anchor=\"middle\" x=\"778.49\" y=\"-91.3\" font-family=\"Times,serif\" font-size=\"14.00\">grad=0.1667</text>\n</g>\n<!-- 133216563640928* -->\n<g id=\"node13\" class=\"node\">\n<title>133216563640928*</title>\n<ellipse fill=\"none\" stroke=\"black\" cx=\"888.99\" cy=\"-76.5\" rx=\"27\" ry=\"18\"/>\n<text text-anchor=\"middle\" x=\"888.99\" y=\"-72.8\" font-family=\"Times,serif\" font-size=\"14.00\">*</text>\n</g>\n<!-- 133216563640448&#45;&gt;133216563640928* -->\n<g id=\"edge19\" class=\"edge\">\n<title>133216563640448&#45;&gt;133216563640928*</title>\n<path fill=\"none\" stroke=\"black\" d=\"M826.14,-91.32C835.3,-89.13 844.76,-86.86 853.44,-84.78\"/>\n<polygon fill=\"black\" stroke=\"black\" points=\"854.3,-88.17 863.21,-82.44 852.67,-81.37 854.3,-88.17\"/>\n</g>\n<!-- 133216563640448+&#45;&gt;133216563640448 -->\n<g id=\"edge2\" class=\"edge\">\n<title>133216563640448+&#45;&gt;133216563640448</title>\n<path fill=\"none\" stroke=\"black\" d=\"M675.7,-104.09C688.72,-103.89 704.99,-103.63 720.68,-103.39\"/>\n<polygon fill=\"black\" stroke=\"black\" points=\"720.92,-106.88 730.87,-103.23 720.81,-99.89 720.92,-106.88\"/>\n</g>\n<!-- 133216563636944 -->\n<g id=\"node6\" class=\"node\">\n<title>133216563636944</title>\n<polygon fill=\"none\" stroke=\"black\" points=\"2.5,-40.5 2.5,-78.5 97.5,-78.5 97.5,-40.5 2.5,-40.5\"/>\n<text text-anchor=\"middle\" x=\"50\" y=\"-63.3\" font-family=\"Times,serif\" font-size=\"14.00\">a.data=2.0000</text>\n<text text-anchor=\"middle\" x=\"50\" y=\"-48.3\" font-family=\"Times,serif\" font-size=\"14.00\">grad=&#45;0.5833</text>\n</g>\n<!-- 133216563638048* -->\n<g id=\"node9\" class=\"node\">\n<title>133216563638048*</title>\n<ellipse fill=\"none\" stroke=\"black\" cx=\"163\" cy=\"-59.5\" rx=\"27\" ry=\"18\"/>\n<text text-anchor=\"middle\" x=\"163\" y=\"-55.8\" font-family=\"Times,serif\" font-size=\"14.00\">*</text>\n</g>\n<!-- 133216563636944&#45;&gt;133216563638048* -->\n<g id=\"edge17\" class=\"edge\">\n<title>133216563636944&#45;&gt;133216563638048*</title>\n<path fill=\"none\" stroke=\"black\" d=\"M97.75,-59.5C107.12,-59.5 116.83,-59.5 125.78,-59.5\"/>\n<polygon fill=\"black\" stroke=\"black\" points=\"125.86,-63 135.86,-59.5 125.86,-56 125.86,-63\"/>\n</g>\n<!-- 133216563636992 -->\n<g id=\"node7\" class=\"node\">\n<title>133216563636992</title>\n<polygon fill=\"none\" stroke=\"black\" points=\"0,-121.5 0,-159.5 100,-159.5 100,-121.5 0,-121.5\"/>\n<text text-anchor=\"middle\" x=\"50\" y=\"-144.3\" font-family=\"Times,serif\" font-size=\"14.00\">b.data=&#45;3.0000</text>\n<text text-anchor=\"middle\" x=\"50\" y=\"-129.3\" font-family=\"Times,serif\" font-size=\"14.00\">grad=0.5556</text>\n</g>\n<!-- 133216563636992&#45;&gt;133216563640448+ -->\n<g id=\"edge8\" class=\"edge\">\n<title>133216563636992&#45;&gt;133216563640448+</title>\n<path fill=\"none\" stroke=\"black\" d=\"M100.01,-144.63C145.46,-148.1 215,-152.5 275.5,-152.5 275.5,-152.5 275.5,-152.5 403,-152.5 475.98,-152.5 494.87,-148.89 565.99,-132.5 582.58,-128.68 600.51,-122.72 615.33,-117.29\"/>\n<polygon fill=\"black\" stroke=\"black\" points=\"616.9,-120.44 625.03,-113.64 614.44,-113.88 616.9,-120.44\"/>\n</g>\n<!-- 133216563636992&#45;&gt;133216563638048* -->\n<g id=\"edge14\" class=\"edge\">\n<title>133216563636992&#45;&gt;133216563638048*</title>\n<path fill=\"none\" stroke=\"black\" d=\"M77.31,-121.3C95.05,-108.36 118.35,-91.35 136.02,-78.46\"/>\n<polygon fill=\"black\" stroke=\"black\" points=\"138.18,-81.21 144.19,-72.49 134.05,-75.56 138.18,-81.21\"/>\n</g>\n<!-- 133216563638048 -->\n<g id=\"node8\" class=\"node\">\n<title>133216563638048</title>\n<polygon fill=\"none\" stroke=\"black\" points=\"227,-28.5 227,-66.5 326,-66.5 326,-28.5 227,-28.5\"/>\n<text text-anchor=\"middle\" x=\"276.5\" y=\"-51.3\" font-family=\"Times,serif\" font-size=\"14.00\">e.data=&#45;6.0000</text>\n<text text-anchor=\"middle\" x=\"276.5\" y=\"-36.3\" font-family=\"Times,serif\" font-size=\"14.00\">grad=0.1944</text>\n</g>\n<!-- 133216563638048&#45;&gt;133216563638000+ -->\n<g id=\"edge13\" class=\"edge\">\n<title>133216563638048&#45;&gt;133216563638000+</title>\n<path fill=\"none\" stroke=\"black\" d=\"M318.97,-66.64C335.68,-74.35 354.62,-83.1 370.09,-90.23\"/>\n<polygon fill=\"black\" stroke=\"black\" points=\"368.67,-93.44 379.22,-94.45 371.61,-87.08 368.67,-93.44\"/>\n</g>\n<!-- 133216563640544pow(&#45;1) -->\n<g id=\"node11\" class=\"node\">\n<title>133216563640544pow(&#45;1)</title>\n<ellipse fill=\"none\" stroke=\"black\" cx=\"402\" cy=\"-48.5\" rx=\"38.99\" ry=\"18\"/>\n<text text-anchor=\"middle\" x=\"402\" y=\"-44.8\" font-family=\"Times,serif\" font-size=\"14.00\">pow(&#45;1)</text>\n</g>\n<!-- 133216563638048&#45;&gt;133216563640544pow(&#45;1) -->\n<g id=\"edge9\" class=\"edge\">\n<title>133216563638048&#45;&gt;133216563640544pow(&#45;1)</title>\n<path fill=\"none\" stroke=\"black\" d=\"M326.31,-47.9C335.03,-47.97 344.11,-48.04 352.82,-48.11\"/>\n<polygon fill=\"black\" stroke=\"black\" points=\"352.79,-51.61 362.82,-48.19 352.85,-44.61 352.79,-51.61\"/>\n</g>\n<!-- 133216563638048*&#45;&gt;133216563638048 -->\n<g id=\"edge3\" class=\"edge\">\n<title>133216563638048*&#45;&gt;133216563638048</title>\n<path fill=\"none\" stroke=\"black\" d=\"M189.86,-56.72C197.99,-55.84 207.32,-54.84 216.76,-53.82\"/>\n<polygon fill=\"black\" stroke=\"black\" points=\"217.43,-57.27 227,-52.72 216.68,-50.31 217.43,-57.27\"/>\n</g>\n<!-- 133216563640544 -->\n<g id=\"node10\" class=\"node\">\n<title>133216563640544</title>\n<polygon fill=\"none\" stroke=\"black\" points=\"601.99,-29.5 601.99,-67.5 694.99,-67.5 694.99,-29.5 601.99,-29.5\"/>\n<text text-anchor=\"middle\" x=\"648.49\" y=\"-52.3\" font-family=\"Times,serif\" font-size=\"14.00\">.data=&#45;0.1667</text>\n<text text-anchor=\"middle\" x=\"648.49\" y=\"-37.3\" font-family=\"Times,serif\" font-size=\"14.00\">grad=&#45;1.0000</text>\n</g>\n<!-- 133216563640544&#45;&gt;133216563640928* -->\n<g id=\"edge10\" class=\"edge\">\n<title>133216563640544&#45;&gt;133216563640928*</title>\n<path fill=\"none\" stroke=\"black\" d=\"M695.2,-53.87C740.96,-59.24 810.43,-67.39 852.29,-72.31\"/>\n<polygon fill=\"black\" stroke=\"black\" points=\"851.97,-75.79 862.31,-73.48 852.78,-68.84 851.97,-75.79\"/>\n</g>\n<!-- 133216563640544pow(&#45;1)&#45;&gt;133216563640544 -->\n<g id=\"edge4\" class=\"edge\">\n<title>133216563640544pow(&#45;1)&#45;&gt;133216563640544</title>\n<path fill=\"none\" stroke=\"black\" d=\"M441.2,-48.5C481.53,-48.5 545.51,-48.5 591.53,-48.5\"/>\n<polygon fill=\"black\" stroke=\"black\" points=\"591.65,-52 601.65,-48.5 591.65,-45 591.65,-52\"/>\n</g>\n<!-- 133216563640928 -->\n<g id=\"node12\" class=\"node\">\n<title>133216563640928</title>\n<polygon fill=\"none\" stroke=\"black\" points=\"951.99,-57.5 951.99,-95.5 1049.99,-95.5 1049.99,-57.5 951.99,-57.5\"/>\n<text text-anchor=\"middle\" x=\"1000.99\" y=\"-80.3\" font-family=\"Times,serif\" font-size=\"14.00\">f.data=&#45;0.1667</text>\n<text text-anchor=\"middle\" x=\"1000.99\" y=\"-65.3\" font-family=\"Times,serif\" font-size=\"14.00\">grad=&#45;1.0000</text>\n</g>\n<!-- 133216563640976* -->\n<g id=\"node16\" class=\"node\">\n<title>133216563640976*</title>\n<ellipse fill=\"none\" stroke=\"black\" cx=\"1112.99\" cy=\"-47.5\" rx=\"27\" ry=\"18\"/>\n<text text-anchor=\"middle\" x=\"1112.99\" y=\"-43.8\" font-family=\"Times,serif\" font-size=\"14.00\">*</text>\n</g>\n<!-- 133216563640928&#45;&gt;133216563640976* -->\n<g id=\"edge15\" class=\"edge\">\n<title>133216563640928&#45;&gt;133216563640976*</title>\n<path fill=\"none\" stroke=\"black\" d=\"M1050.24,-63.78C1059.53,-61.33 1069.09,-58.81 1077.82,-56.51\"/>\n<polygon fill=\"black\" stroke=\"black\" points=\"1078.85,-59.86 1087.63,-53.92 1077.07,-53.09 1078.85,-59.86\"/>\n</g>\n<!-- 133216563640928*&#45;&gt;133216563640928 -->\n<g id=\"edge5\" class=\"edge\">\n<title>133216563640928*&#45;&gt;133216563640928</title>\n<path fill=\"none\" stroke=\"black\" d=\"M916.06,-76.5C923.82,-76.5 932.64,-76.5 941.59,-76.5\"/>\n<polygon fill=\"black\" stroke=\"black\" points=\"941.7,-80 951.7,-76.5 941.7,-73 941.7,-80\"/>\n</g>\n<!-- 133216563641120 -->\n<g id=\"node14\" class=\"node\">\n<title>133216563641120</title>\n<polygon fill=\"none\" stroke=\"black\" points=\"954.49,-0.5 954.49,-38.5 1047.49,-38.5 1047.49,-0.5 954.49,-0.5\"/>\n<text text-anchor=\"middle\" x=\"1000.99\" y=\"-23.3\" font-family=\"Times,serif\" font-size=\"14.00\">.data=&#45;1.0000</text>\n<text text-anchor=\"middle\" x=\"1000.99\" y=\"-8.3\" font-family=\"Times,serif\" font-size=\"14.00\">grad=&#45;0.1667</text>\n</g>\n<!-- 133216563641120&#45;&gt;133216563640976* -->\n<g id=\"edge16\" class=\"edge\">\n<title>133216563641120&#45;&gt;133216563640976*</title>\n<path fill=\"none\" stroke=\"black\" d=\"M1047.69,-31.13C1057.74,-33.69 1068.23,-36.36 1077.74,-38.78\"/>\n<polygon fill=\"black\" stroke=\"black\" points=\"1077.06,-42.22 1087.62,-41.3 1078.79,-35.44 1077.06,-42.22\"/>\n</g>\n<!-- 133216563640976 -->\n<g id=\"node15\" class=\"node\">\n<title>133216563640976</title>\n<polygon fill=\"none\" stroke=\"black\" points=\"1175.99,-28.5 1175.99,-66.5 1264.99,-66.5 1264.99,-28.5 1175.99,-28.5\"/>\n<text text-anchor=\"middle\" x=\"1220.49\" y=\"-51.3\" font-family=\"Times,serif\" font-size=\"14.00\">.data=0.1667</text>\n<text text-anchor=\"middle\" x=\"1220.49\" y=\"-36.3\" font-family=\"Times,serif\" font-size=\"14.00\">grad=1.0000</text>\n</g>\n<!-- 133216563641312ReLU -->\n<g id=\"node18\" class=\"node\">\n<title>133216563641312ReLU</title>\n<ellipse fill=\"none\" stroke=\"black\" cx=\"1333.49\" cy=\"-47.5\" rx=\"32.49\" ry=\"18\"/>\n<text text-anchor=\"middle\" x=\"1333.49\" y=\"-43.8\" font-family=\"Times,serif\" font-size=\"14.00\">ReLU</text>\n</g>\n<!-- 133216563640976&#45;&gt;133216563641312ReLU -->\n<g id=\"edge11\" class=\"edge\">\n<title>133216563640976&#45;&gt;133216563641312ReLU</title>\n<path fill=\"none\" stroke=\"black\" d=\"M1265.04,-47.5C1273.41,-47.5 1282.16,-47.5 1290.48,-47.5\"/>\n<polygon fill=\"black\" stroke=\"black\" points=\"1290.73,-51 1300.73,-47.5 1290.73,-44 1290.73,-51\"/>\n</g>\n<!-- 133216563640976*&#45;&gt;133216563640976 -->\n<g id=\"edge6\" class=\"edge\">\n<title>133216563640976*&#45;&gt;133216563640976</title>\n<path fill=\"none\" stroke=\"black\" d=\"M1140.07,-47.5C1147.87,-47.5 1156.73,-47.5 1165.64,-47.5\"/>\n<polygon fill=\"black\" stroke=\"black\" points=\"1165.65,-51 1175.65,-47.5 1165.65,-44 1165.65,-51\"/>\n</g>\n<!-- 133216563641312 -->\n<g id=\"node17\" class=\"node\">\n<title>133216563641312</title>\n<polygon fill=\"none\" stroke=\"black\" points=\"1401.99,-28.5 1401.99,-66.5 1498.99,-66.5 1498.99,-28.5 1401.99,-28.5\"/>\n<text text-anchor=\"middle\" x=\"1450.49\" y=\"-51.3\" font-family=\"Times,serif\" font-size=\"14.00\">L.data=0.1667</text>\n<text text-anchor=\"middle\" x=\"1450.49\" y=\"-36.3\" font-family=\"Times,serif\" font-size=\"14.00\">grad=1.0000</text>\n</g>\n<!-- 133216563641312ReLU&#45;&gt;133216563641312 -->\n<g id=\"edge7\" class=\"edge\">\n<title>133216563641312ReLU&#45;&gt;133216563641312</title>\n<path fill=\"none\" stroke=\"black\" d=\"M1366.22,-47.5C1374.15,-47.5 1382.91,-47.5 1391.67,-47.5\"/>\n<polygon fill=\"black\" stroke=\"black\" points=\"1391.92,-51 1401.92,-47.5 1391.92,-44 1391.92,-51\"/>\n</g>\n</g>\n</svg>\n",
            "text/plain": [
              "<graphviz.graphs.Digraph at 0x7928e5f42050>"
            ]
          },
          "metadata": {},
          "execution_count": 13
        }
      ]
    },
    {
      "cell_type": "markdown",
      "source": [
        "# Gradient"
      ],
      "metadata": {
        "id": "Y1HxS26bEl-h"
      }
    },
    {
      "cell_type": "code",
      "source": [
        "import math\n",
        "import numpy as np\n",
        "import matplotlib.pyplot as plt\n",
        "%matplotlib inline\n",
        "plt.rcParams['axes.grid'] = True\n",
        "plt.rcParams['figure.figsize'] = (5,3)"
      ],
      "metadata": {
        "id": "ttzWXnv-EoAc"
      },
      "execution_count": 26,
      "outputs": []
    },
    {
      "cell_type": "code",
      "source": [
        "def f(x):\n",
        "  return 3*x**2 - 4 * x + 5"
      ],
      "metadata": {
        "id": "IddwHKzBpSRm"
      },
      "execution_count": 16,
      "outputs": []
    },
    {
      "cell_type": "code",
      "source": [
        "f(2.0)"
      ],
      "metadata": {
        "colab": {
          "base_uri": "https://localhost:8080/"
        },
        "id": "WALXztCmpW1A",
        "outputId": "6e6877c1-9d49-4a52-bba3-3d2e8428a026"
      },
      "execution_count": null,
      "outputs": [
        {
          "output_type": "execute_result",
          "data": {
            "text/plain": [
              "9.0"
            ]
          },
          "metadata": {},
          "execution_count": 3
        }
      ]
    },
    {
      "cell_type": "code",
      "source": [
        "xs = np.arange(-5, 5, 0.25)\n",
        "ys = f(xs)\n",
        "plt.plot(xs, ys)"
      ],
      "metadata": {
        "colab": {
          "base_uri": "https://localhost:8080/",
          "height": 308
        },
        "id": "x5JPuG85paOq",
        "outputId": "de1528f3-418f-44a1-a8c7-d2134e21d7b1"
      },
      "execution_count": 24,
      "outputs": [
        {
          "output_type": "execute_result",
          "data": {
            "text/plain": [
              "[<matplotlib.lines.Line2D at 0x7928e5d51cf0>]"
            ]
          },
          "metadata": {},
          "execution_count": 24
        },
        {
          "output_type": "display_data",
          "data": {
            "text/plain": [
              "<Figure size 500x300 with 1 Axes>"
            ],
            "image/png": "[encoded data removed]"
          },
          "metadata": {}
        }
      ]
    },
    {
      "cell_type": "code",
      "source": [
        "xs = np.arange(-5, 5, 0.25)\n",
        "ys = np.tanh(xs)\n",
        "plt.plot(xs, ys)"
      ],
      "metadata": {
        "id": "Zy2oVZfR5fJN",
        "outputId": "d6c0bad2-eb3f-481b-8446-f6d1705559e3",
        "colab": {
          "base_uri": "https://localhost:8080/",
          "height": 308
        }
      },
      "execution_count": 27,
      "outputs": [
        {
          "output_type": "execute_result",
          "data": {
            "text/plain": [
              "[<matplotlib.lines.Line2D at 0x7928e5631f90>]"
            ]
          },
          "metadata": {},
          "execution_count": 27
        },
        {
          "output_type": "display_data",
          "data": {
            "text/plain": [
              "<Figure size 500x300 with 1 Axes>"
            ],
            "image/png": "[encoded data removed]"
          },
          "metadata": {}
        }
      ]
    },
    {
      "cell_type": "markdown",
      "source": [
        "The definition of [derivitive](https://en.wikipedia.org/wiki/Derivative) as a limit is that\n",
        "$$L=\\lim_{h \\to 0} \\dfrac{f_{(a+h)} - f_{(h)}} {h}$$"
      ],
      "metadata": {
        "id": "mxLvXcG1qsEd"
      }
    },
    {
      "cell_type": "code",
      "source": [
        "h=1e-7\n",
        "a=2.0\n",
        "(f(a+h)-f(a))/h"
      ],
      "metadata": {
        "colab": {
          "base_uri": "https://localhost:8080/"
        },
        "id": "pkmocDayphSr",
        "outputId": "320b2fe9-bcba-44aa-f4a8-bfdee7ef017d"
      },
      "execution_count": null,
      "outputs": [
        {
          "output_type": "execute_result",
          "data": {
            "text/plain": [
              "8.000000288888032"
            ]
          },
          "metadata": {},
          "execution_count": 8
        }
      ]
    },
    {
      "cell_type": "markdown",
      "source": [
        "Numerically check against the Scalar backward() results."
      ],
      "metadata": {
        "id": "ms_ewSIDylm8"
      }
    },
    {
      "cell_type": "code",
      "source": [
        "def lol():\n",
        "  a=Scalar(2., label='a')\n",
        "  b=Scalar(-3, label='b')\n",
        "  c=Scalar(10, label='c')\n",
        "  e=a*b; e.label='e'\n",
        "  d=e+c+b; d.label='d'\n",
        "  f=d*e; f.label='f'\n",
        "  L1=f.data\n",
        "\n",
        "\n",
        "  h=1e-4\n",
        "  a=Scalar(2., label='a')\n",
        "  b=Scalar(-3, label='b')+h\n",
        "  c=Scalar(10, label='c')\n",
        "  e=a*b; e.label='e'\n",
        "  d=e+c+b; d.label='d'\n",
        "  f=d*e; f.label='f'\n",
        "  L2=f.data\n",
        "\n",
        "  print((L2-L1)/h)\n",
        "\n",
        "lol()"
      ],
      "metadata": {
        "colab": {
          "base_uri": "https://localhost:8080/"
        },
        "id": "y8KPxBoiYsod",
        "outputId": "3cbd9723-af3d-4fa3-c6df-6b0254c0a4c8"
      },
      "execution_count": 10,
      "outputs": [
        {
          "output_type": "stream",
          "name": "stdout",
          "text": [
            "-15.999400000037411\n"
          ]
        }
      ]
    },
    {
      "cell_type": "markdown",
      "source": [
        "# Test with linear layer"
      ],
      "metadata": {
        "id": "kCQ60JCO52WY"
      }
    },
    {
      "cell_type": "code",
      "source": [
        "import torch"
      ],
      "metadata": {
        "id": "AdSxmOxU5xmo"
      },
      "execution_count": 28,
      "outputs": []
    },
    {
      "cell_type": "code",
      "source": [
        "x1 = torch.Tensor([2.0]).double().requires_grad_(True)\n",
        "x2 = torch.Tensor([0.0]).double().requires_grad_(True)\n",
        "w1 = torch.Tensor([-3.0]).double().requires_grad_(True)\n",
        "w2 = torch.Tensor([1.0]).double().requires_grad_(True)\n",
        "b = torch.Tensor([6.8813735870195432]).double().requires_grad_(True)\n",
        "n = x1*w1 + x2*w2 + b\n",
        "o = torch.tanh(n)\n",
        "print(o.data.item())\n",
        "o.backward()\n",
        "print('---')\n",
        "print('x2', x2.grad.item())\n",
        "print('w2', w2.grad.item())\n",
        "print('x1', x1.grad.item())\n",
        "print('w1', w1.grad.item())"
      ],
      "metadata": {
        "id": "QnPkT_fp6A0D",
        "outputId": "580e3968-d8e8-4156-db0e-69912193acb4",
        "colab": {
          "base_uri": "https://localhost:8080/"
        }
      },
      "execution_count": 29,
      "outputs": [
        {
          "output_type": "stream",
          "name": "stdout",
          "text": [
            "0.7071066904050358\n",
            "---\n",
            "x2 0.5000001283844369\n",
            "w2 0.0\n",
            "x1 -1.5000003851533106\n",
            "w1 1.0000002567688737\n"
          ]
        }
      ]
    },
    {
      "cell_type": "code",
      "source": [
        "from nnn import *"
      ],
      "metadata": {
        "id": "VKOUU7kfAjg6"
      },
      "execution_count": 61,
      "outputs": []
    },
    {
      "cell_type": "code",
      "source": [
        "X = [0.3, -2.7, 2.5]\n",
        "mlp = MLP(3, [3,4,6])\n",
        "mlp(X)\n"
      ],
      "metadata": {
        "id": "t8fksYOA9gpZ",
        "outputId": "bea7a109-02e0-4090-b52b-f306eda4afef",
        "colab": {
          "base_uri": "https://localhost:8080/"
        }
      },
      "execution_count": 66,
      "outputs": [
        {
          "output_type": "execute_result",
          "data": {
            "text/plain": [
              "[: -0.5317866042838033,\n",
              " : -0.4608296606983998,\n",
              " : -0.9811644128901178,\n",
              " : -0.806827347969526,\n",
              " : 0.9376327862299485,\n",
              " : -0.5860131758281335]"
            ]
          },
          "metadata": {},
          "execution_count": 66
        }
      ]
    }
  ]
}