{
  "nbformat": 4,
  "nbformat_minor": 0,
  "metadata": {
    "colab": {
      "provenance": [],
      "authorship_tag": "ABX9TyOa/U4wu4JZzmWzwcRtuLt8",
      "include_colab_link": true
    },
    "kernelspec": {
      "name": "python3",
      "display_name": "Python 3"
    },
    "language_info": {
      "name": "python"
    }
  },
  "cells": [
    {
      "cell_type": "markdown",
      "metadata": {
        "id": "view-in-github",
        "colab_type": "text"
      },
      "source": [
        "<a href=\"https://colab.research.google.com/github/romenlaw/NaiveNeuralNetwork/blob/main/tests.ipynb\" target=\"_parent\"><img src=\"https://colab.research.google.com/assets/colab-badge.svg\" alt=\"Open In Colab\"/></a>"
      ]
    },
    {
      "cell_type": "markdown",
      "source": [
        "# Git"
      ],
      "metadata": {
        "id": "jJ1gJx4PWjKM"
      }
    },
    {
      "cell_type": "code",
      "execution_count": 1,
      "metadata": {
        "colab": {
          "base_uri": "https://localhost:8080/"
        },
        "id": "V_rvx7UJWdtu",
        "outputId": "a49ad2f5-82f9-43bd-de96-726c650cbfab"
      },
      "outputs": [
        {
          "output_type": "stream",
          "name": "stdout",
          "text": [
            "Cloning into 'NaiveNeuralNetwork'...\n",
            "remote: Enumerating objects: 122, done.\u001b[K\n",
            "remote: Counting objects: 100% (122/122), done.\u001b[K\n",
            "remote: Compressing objects: 100% (107/107), done.\u001b[K\n",
            "remote: Total 122 (delta 55), reused 33 (delta 9), pack-reused 0\u001b[K\n",
            "Receiving objects: 100% (122/122), 61.05 KiB | 440.00 KiB/s, done.\n",
            "Resolving deltas: 100% (55/55), done.\n"
          ]
        }
      ],
      "source": [
        "!git config --global user.name \"romenlaw\"\n",
        "!git config --global user.email \"e\"\n",
        "TOKEN='github_pat_'\n",
        "!git clone https://$TOKEN@github.com/romenlaw/NaiveNeuralNetwork"
      ]
    },
    {
      "cell_type": "code",
      "source": [
        "%cd /content/NaiveNeuralNetwork"
      ],
      "metadata": {
        "colab": {
          "base_uri": "https://localhost:8080/"
        },
        "id": "FeUWwULWXphZ",
        "outputId": "2defbfa6-37aa-4964-96c2-e032fc83e35c"
      },
      "execution_count": 2,
      "outputs": [
        {
          "output_type": "stream",
          "name": "stdout",
          "text": [
            "/content/NaiveNeuralNetwork\n"
          ]
        }
      ]
    },
    {
      "cell_type": "code",
      "source": [
        "!git status"
      ],
      "metadata": {
        "colab": {
          "base_uri": "https://localhost:8080/"
        },
        "id": "XReIugA3Xm1q",
        "outputId": "405bbc47-1e86-4e23-d8e6-eb852ace3761"
      },
      "execution_count": 3,
      "outputs": [
        {
          "output_type": "stream",
          "name": "stdout",
          "text": [
            "On branch main\n",
            "Your branch is up to date with 'origin/main'.\n",
            "\n",
            "nothing to commit, working tree clean\n"
          ]
        }
      ]
    },
    {
      "cell_type": "code",
      "source": [
        "!git add nnn.py visualiser.py __init__.py\n",
        "!git status"
      ],
      "metadata": {
        "colab": {
          "base_uri": "https://localhost:8080/"
        },
        "id": "GX6bSVymZwTz",
        "outputId": "269f1c33-b37d-409a-8694-ab61973712c3"
      },
      "execution_count": 84,
      "outputs": [
        {
          "output_type": "stream",
          "name": "stdout",
          "text": [
            "On branch main\n",
            "Your branch is up to date with 'origin/main'.\n",
            "\n",
            "Changes to be committed:\n",
            "  (use \"git restore --staged <file>...\" to unstage)\n",
            "\t\u001b[32mmodified:   nnn.py\u001b[m\n",
            "\n",
            "Untracked files:\n",
            "  (use \"git add <file>...\" to include in what will be committed)\n",
            "\t\u001b[31m__pycache__/\u001b[m\n",
            "\n"
          ]
        }
      ]
    },
    {
      "cell_type": "code",
      "source": [
        "!git reset"
      ],
      "metadata": {
        "colab": {
          "base_uri": "https://localhost:8080/"
        },
        "id": "yxWbqCaMDtPj",
        "outputId": "bac90f34-8664-4bad-f785-05df7f02f779"
      },
      "execution_count": 114,
      "outputs": [
        {
          "output_type": "stream",
          "name": "stdout",
          "text": [
            "Unstaged changes after reset:\n",
            "M\t__pycache__/nnn.cpython-310.pyc\n",
            "M\tnnn.py\n",
            "M\tvisualiser.py\n"
          ]
        }
      ]
    },
    {
      "cell_type": "code",
      "source": [
        "!git commit -m \"fix backward(), add ReLU and other magic methods\""
      ],
      "metadata": {
        "colab": {
          "base_uri": "https://localhost:8080/"
        },
        "id": "2W63Y6buZ4jC",
        "outputId": "0886eb11-727f-4a88-c702-93420abdb3ff"
      },
      "execution_count": 85,
      "outputs": [
        {
          "output_type": "stream",
          "name": "stdout",
          "text": [
            "[main e0d5759] fix backward(), add ReLU and other magic methods\n",
            " 1 file changed, 39 insertions(+), 6 deletions(-)\n"
          ]
        }
      ]
    },
    {
      "cell_type": "code",
      "source": [
        "!git push origin main"
      ],
      "metadata": {
        "colab": {
          "base_uri": "https://localhost:8080/"
        },
        "id": "5BCTOaoCZ-0C",
        "outputId": "dd030eb5-9c48-4e38-f07a-06196604efe2"
      },
      "execution_count": 86,
      "outputs": [
        {
          "output_type": "stream",
          "name": "stdout",
          "text": [
            "Enumerating objects: 5, done.\n",
            "Counting objects:  20% (1/5)\rCounting objects:  40% (2/5)\rCounting objects:  60% (3/5)\rCounting objects:  80% (4/5)\rCounting objects: 100% (5/5)\rCounting objects: 100% (5/5), done.\n",
            "Delta compression using up to 2 threads\n",
            "Compressing objects:  33% (1/3)\rCompressing objects:  66% (2/3)\rCompressing objects: 100% (3/3)\rCompressing objects: 100% (3/3), done.\n",
            "Writing objects:  33% (1/3)\rWriting objects:  66% (2/3)\rWriting objects: 100% (3/3)\rWriting objects: 100% (3/3), 709 bytes | 709.00 KiB/s, done.\n",
            "Total 3 (delta 2), reused 0 (delta 0), pack-reused 0\n",
            "remote: Resolving deltas:   0% (0/2)\u001b[K\rremote: Resolving deltas:  50% (1/2)\u001b[K\rremote: Resolving deltas: 100% (2/2)\u001b[K\rremote: Resolving deltas: 100% (2/2), completed with 2 local objects.\u001b[K\n",
            "To https://github.com/romenlaw/NaiveNeuralNetwork\n",
            "   efe2470..e0d5759  main -> main\n"
          ]
        }
      ]
    },
    {
      "cell_type": "code",
      "source": [],
      "metadata": {
        "id": "imxeQQDkaIAx"
      },
      "execution_count": null,
      "outputs": []
    },
    {
      "cell_type": "markdown",
      "source": [
        "# Housekeeping"
      ],
      "metadata": {
        "id": "fRF9sx8vX0WR"
      }
    },
    {
      "cell_type": "code",
      "source": [
        "!pwd"
      ],
      "metadata": {
        "colab": {
          "base_uri": "https://localhost:8080/"
        },
        "id": "e6kmI0l3YGck",
        "outputId": "d1521fc1-81b5-423c-e276-dab4e90c7d6a"
      },
      "execution_count": 4,
      "outputs": [
        {
          "output_type": "stream",
          "name": "stdout",
          "text": [
            "/content/NaiveNeuralNetwork\n"
          ]
        }
      ]
    },
    {
      "cell_type": "code",
      "source": [
        "import sys\n",
        "sys.path.append('/content/NaiveNeuralNetwork')\n",
        "\n",
        "%load_ext autoreload\n",
        "%autoreload 2"
      ],
      "metadata": {
        "id": "Qai7kAHfXzqS"
      },
      "execution_count": 5,
      "outputs": []
    },
    {
      "cell_type": "code",
      "source": [
        "from nnn import Scalar\n",
        "from visualiser import *\n"
      ],
      "metadata": {
        "id": "Q85fvLneYBdK"
      },
      "execution_count": 73,
      "outputs": []
    },
    {
      "cell_type": "markdown",
      "source": [
        "# Visualise"
      ],
      "metadata": {
        "id": "KYk8ESXdEcy3"
      }
    },
    {
      "cell_type": "code",
      "source": [
        "a=Scalar(2., label='a')\n",
        "b=Scalar(-3, label='b')\n",
        "c=Scalar(10, label='c')\n",
        "e=a*b; e.label='e'\n",
        "d=e+c+b; d.label='d'\n",
        "f=d*e; f.label='f'\n",
        "L=(-f).relu(); L.label='L'\n"
      ],
      "metadata": {
        "id": "bb7j6sghYJXJ"
      },
      "execution_count": 81,
      "outputs": []
    },
    {
      "cell_type": "code",
      "source": [
        "import graphviz\n",
        "from visualiser import *"
      ],
      "metadata": {
        "id": "OhXgF3iOYjZh"
      },
      "execution_count": 8,
      "outputs": []
    },
    {
      "cell_type": "code",
      "source": [
        "L.backward()"
      ],
      "metadata": {
        "colab": {
          "base_uri": "https://localhost:8080/"
        },
        "id": "IW1Azzp94gYr",
        "outputId": "ed1f1c48-706a-459d-c525-71fbc625c094"
      },
      "execution_count": 82,
      "outputs": [
        {
          "output_type": "stream",
          "name": "stdout",
          "text": [
            "[L: 6.0, : 6.0, : -1, f: -6.0, d: 1.0, : 4.0, c: 10, e: -6.0, b: -3, a: 2.0]\n"
          ]
        }
      ]
    },
    {
      "cell_type": "code",
      "source": [
        "visualise(L)"
      ],
      "metadata": {
        "colab": {
          "base_uri": "https://localhost:8080/",
          "height": 268
        },
        "id": "QmneTzsl_WJi",
        "outputId": "d972472c-b0e2-4c26-8d19-0ba3bce956f4"
      },
      "execution_count": 83,
      "outputs": [
        {
          "output_type": "execute_result",
          "data": {
            "image/svg+xml": "<?xml version=\"1.0\" encoding=\"UTF-8\" standalone=\"no\"?>\n<!DOCTYPE svg PUBLIC \"-//W3C//DTD SVG 1.1//EN\"\n \"http://www.w3.org/Graphics/SVG/1.1/DTD/svg11.dtd\">\n<!-- Generated by graphviz version 2.43.0 (0)\n -->\n<!-- Title: %3 Pages: 1 -->\n<svg width=\"1444pt\" height=\"170pt\"\n viewBox=\"0.00 0.00 1443.99 170.00\" xmlns=\"http://www.w3.org/2000/svg\" xmlns:xlink=\"http://www.w3.org/1999/xlink\">\n<g id=\"graph0\" class=\"graph\" transform=\"scale(1 1) rotate(0) translate(4 166)\">\n<title>%3</title>\n<polygon fill=\"white\" stroke=\"transparent\" points=\"-4,4 -4,-166 1439.99,-166 1439.99,4 -4,4\"/>\n<!-- 137838384914512 -->\n<g id=\"node1\" class=\"node\">\n<title>137838384914512</title>\n<polygon fill=\"none\" stroke=\"black\" points=\"226,-87.5 226,-125.5 327,-125.5 327,-87.5 226,-87.5\"/>\n<text text-anchor=\"middle\" x=\"276.5\" y=\"-110.3\" font-family=\"Times,serif\" font-size=\"14.00\">c.data=10.0000</text>\n<text text-anchor=\"middle\" x=\"276.5\" y=\"-95.3\" font-family=\"Times,serif\" font-size=\"14.00\">grad=6.0000</text>\n</g>\n<!-- 137838385276976+ -->\n<g id=\"node3\" class=\"node\">\n<title>137838385276976+</title>\n<ellipse fill=\"none\" stroke=\"black\" cx=\"390\" cy=\"-102.5\" rx=\"27\" ry=\"18\"/>\n<text text-anchor=\"middle\" x=\"390\" y=\"-98.8\" font-family=\"Times,serif\" font-size=\"14.00\">+</text>\n</g>\n<!-- 137838384914512&#45;&gt;137838385276976+ -->\n<g id=\"edge13\" class=\"edge\">\n<title>137838384914512&#45;&gt;137838385276976+</title>\n<path fill=\"none\" stroke=\"black\" d=\"M327.05,-104.72C335.72,-104.41 344.6,-104.09 352.82,-103.8\"/>\n<polygon fill=\"black\" stroke=\"black\" points=\"352.95,-107.3 362.82,-103.44 352.7,-100.3 352.95,-107.3\"/>\n</g>\n<!-- 137838385276976 -->\n<g id=\"node2\" class=\"node\">\n<title>137838385276976</title>\n<polygon fill=\"none\" stroke=\"black\" points=\"453,-83.5 453,-121.5 542,-121.5 542,-83.5 453,-83.5\"/>\n<text text-anchor=\"middle\" x=\"497.5\" y=\"-106.3\" font-family=\"Times,serif\" font-size=\"14.00\">.data=4.0000</text>\n<text text-anchor=\"middle\" x=\"497.5\" y=\"-91.3\" font-family=\"Times,serif\" font-size=\"14.00\">grad=6.0000</text>\n</g>\n<!-- 137838385276736+ -->\n<g id=\"node5\" class=\"node\">\n<title>137838385276736+</title>\n<ellipse fill=\"none\" stroke=\"black\" cx=\"605\" cy=\"-102.5\" rx=\"27\" ry=\"18\"/>\n<text text-anchor=\"middle\" x=\"605\" y=\"-98.8\" font-family=\"Times,serif\" font-size=\"14.00\">+</text>\n</g>\n<!-- 137838385276976&#45;&gt;137838385276736+ -->\n<g id=\"edge17\" class=\"edge\">\n<title>137838385276976&#45;&gt;137838385276736+</title>\n<path fill=\"none\" stroke=\"black\" d=\"M542.02,-102.5C550.56,-102.5 559.43,-102.5 567.71,-102.5\"/>\n<polygon fill=\"black\" stroke=\"black\" points=\"567.8,-106 577.8,-102.5 567.8,-99 567.8,-106\"/>\n</g>\n<!-- 137838385276976+&#45;&gt;137838385276976 -->\n<g id=\"edge1\" class=\"edge\">\n<title>137838385276976+&#45;&gt;137838385276976</title>\n<path fill=\"none\" stroke=\"black\" d=\"M417.08,-102.5C424.88,-102.5 433.74,-102.5 442.64,-102.5\"/>\n<polygon fill=\"black\" stroke=\"black\" points=\"442.66,-106 452.66,-102.5 442.66,-99 442.66,-106\"/>\n</g>\n<!-- 137838385276736 -->\n<g id=\"node4\" class=\"node\">\n<title>137838385276736</title>\n<polygon fill=\"none\" stroke=\"black\" points=\"668,-82.5 668,-120.5 763,-120.5 763,-82.5 668,-82.5\"/>\n<text text-anchor=\"middle\" x=\"715.5\" y=\"-105.3\" font-family=\"Times,serif\" font-size=\"14.00\">d.data=1.0000</text>\n<text text-anchor=\"middle\" x=\"715.5\" y=\"-90.3\" font-family=\"Times,serif\" font-size=\"14.00\">grad=6.0000</text>\n</g>\n<!-- 137838385274576* -->\n<g id=\"node11\" class=\"node\">\n<title>137838385274576*</title>\n<ellipse fill=\"none\" stroke=\"black\" cx=\"826\" cy=\"-76.5\" rx=\"27\" ry=\"18\"/>\n<text text-anchor=\"middle\" x=\"826\" y=\"-72.8\" font-family=\"Times,serif\" font-size=\"14.00\">*</text>\n</g>\n<!-- 137838385276736&#45;&gt;137838385274576* -->\n<g id=\"edge14\" class=\"edge\">\n<title>137838385276736&#45;&gt;137838385274576*</title>\n<path fill=\"none\" stroke=\"black\" d=\"M763.14,-90.75C772.31,-88.64 781.77,-86.46 790.45,-84.46\"/>\n<polygon fill=\"black\" stroke=\"black\" points=\"791.26,-87.87 800.22,-82.21 789.69,-81.04 791.26,-87.87\"/>\n</g>\n<!-- 137838385276736+&#45;&gt;137838385276736 -->\n<g id=\"edge2\" class=\"edge\">\n<title>137838385276736+&#45;&gt;137838385276736</title>\n<path fill=\"none\" stroke=\"black\" d=\"M632.26,-102.26C640.01,-102.19 648.81,-102.11 657.69,-102.02\"/>\n<polygon fill=\"black\" stroke=\"black\" points=\"657.75,-105.52 667.71,-101.93 657.68,-98.52 657.75,-105.52\"/>\n</g>\n<!-- 137838384915520 -->\n<g id=\"node6\" class=\"node\">\n<title>137838384915520</title>\n<polygon fill=\"none\" stroke=\"black\" points=\"1,-42.5 1,-80.5 99,-80.5 99,-42.5 1,-42.5\"/>\n<text text-anchor=\"middle\" x=\"50\" y=\"-65.3\" font-family=\"Times,serif\" font-size=\"14.00\">a.data=2.0000</text>\n<text text-anchor=\"middle\" x=\"50\" y=\"-50.3\" font-family=\"Times,serif\" font-size=\"14.00\">grad=&#45;15.0000</text>\n</g>\n<!-- 137838385267856* -->\n<g id=\"node9\" class=\"node\">\n<title>137838385267856*</title>\n<ellipse fill=\"none\" stroke=\"black\" cx=\"163\" cy=\"-61.5\" rx=\"27\" ry=\"18\"/>\n<text text-anchor=\"middle\" x=\"163\" y=\"-57.8\" font-family=\"Times,serif\" font-size=\"14.00\">*</text>\n</g>\n<!-- 137838384915520&#45;&gt;137838385267856* -->\n<g id=\"edge8\" class=\"edge\">\n<title>137838384915520&#45;&gt;137838385267856*</title>\n<path fill=\"none\" stroke=\"black\" d=\"M99.04,-61.5C108.04,-61.5 117.3,-61.5 125.86,-61.5\"/>\n<polygon fill=\"black\" stroke=\"black\" points=\"125.89,-65 135.89,-61.5 125.89,-58 125.89,-65\"/>\n</g>\n<!-- 137838384921088 -->\n<g id=\"node7\" class=\"node\">\n<title>137838384921088</title>\n<polygon fill=\"none\" stroke=\"black\" points=\"0,-123.5 0,-161.5 100,-161.5 100,-123.5 0,-123.5\"/>\n<text text-anchor=\"middle\" x=\"50\" y=\"-146.3\" font-family=\"Times,serif\" font-size=\"14.00\">b.data=&#45;3.0000</text>\n<text text-anchor=\"middle\" x=\"50\" y=\"-131.3\" font-family=\"Times,serif\" font-size=\"14.00\">grad=16.0000</text>\n</g>\n<!-- 137838384921088&#45;&gt;137838385276736+ -->\n<g id=\"edge9\" class=\"edge\">\n<title>137838384921088&#45;&gt;137838385276736+</title>\n<path fill=\"none\" stroke=\"black\" d=\"M100.01,-146.63C145.46,-150.1 215,-154.5 275.5,-154.5 275.5,-154.5 275.5,-154.5 391,-154.5 458.95,-154.5 476.9,-149.99 542,-130.5 552.8,-127.27 564.17,-122.55 574.18,-117.9\"/>\n<polygon fill=\"black\" stroke=\"black\" points=\"575.8,-121.01 583.3,-113.53 572.77,-114.7 575.8,-121.01\"/>\n</g>\n<!-- 137838384921088&#45;&gt;137838385267856* -->\n<g id=\"edge15\" class=\"edge\">\n<title>137838384921088&#45;&gt;137838385267856*</title>\n<path fill=\"none\" stroke=\"black\" d=\"M77.31,-123.3C95.05,-110.36 118.35,-93.35 136.02,-80.46\"/>\n<polygon fill=\"black\" stroke=\"black\" points=\"138.18,-83.21 144.19,-74.49 134.05,-77.56 138.18,-83.21\"/>\n</g>\n<!-- 137838385267856 -->\n<g id=\"node8\" class=\"node\">\n<title>137838385267856</title>\n<polygon fill=\"none\" stroke=\"black\" points=\"227,-30.5 227,-68.5 326,-68.5 326,-30.5 227,-30.5\"/>\n<text text-anchor=\"middle\" x=\"276.5\" y=\"-53.3\" font-family=\"Times,serif\" font-size=\"14.00\">e.data=&#45;6.0000</text>\n<text text-anchor=\"middle\" x=\"276.5\" y=\"-38.3\" font-family=\"Times,serif\" font-size=\"14.00\">grad=5.0000</text>\n</g>\n<!-- 137838385267856&#45;&gt;137838385276976+ -->\n<g id=\"edge16\" class=\"edge\">\n<title>137838385267856&#45;&gt;137838385276976+</title>\n<path fill=\"none\" stroke=\"black\" d=\"M317.75,-68.63C331.18,-75.01 345.9,-82.01 358.46,-87.98\"/>\n<polygon fill=\"black\" stroke=\"black\" points=\"357.05,-91.19 367.58,-92.32 360.06,-84.87 357.05,-91.19\"/>\n</g>\n<!-- 137838385267856&#45;&gt;137838385274576* -->\n<g id=\"edge12\" class=\"edge\">\n<title>137838385267856&#45;&gt;137838385274576*</title>\n<path fill=\"none\" stroke=\"black\" d=\"M326.21,-50.55C370.59,-51.41 437.94,-52.5 496.5,-52.5 496.5,-52.5 496.5,-52.5 606,-52.5 671.19,-52.5 746.66,-63.14 789.81,-70.25\"/>\n<polygon fill=\"black\" stroke=\"black\" points=\"789.36,-73.72 799.81,-71.93 790.52,-66.82 789.36,-73.72\"/>\n</g>\n<!-- 137838385267856*&#45;&gt;137838385267856 -->\n<g id=\"edge3\" class=\"edge\">\n<title>137838385267856*&#45;&gt;137838385267856</title>\n<path fill=\"none\" stroke=\"black\" d=\"M189.86,-58.72C197.99,-57.84 207.32,-56.84 216.76,-55.82\"/>\n<polygon fill=\"black\" stroke=\"black\" points=\"217.43,-59.27 227,-54.72 216.68,-52.31 217.43,-59.27\"/>\n</g>\n<!-- 137838385274576 -->\n<g id=\"node10\" class=\"node\">\n<title>137838385274576</title>\n<polygon fill=\"none\" stroke=\"black\" points=\"889,-57.5 889,-95.5 987,-95.5 987,-57.5 889,-57.5\"/>\n<text text-anchor=\"middle\" x=\"938\" y=\"-80.3\" font-family=\"Times,serif\" font-size=\"14.00\">f.data=&#45;6.0000</text>\n<text text-anchor=\"middle\" x=\"938\" y=\"-65.3\" font-family=\"Times,serif\" font-size=\"14.00\">grad=&#45;1.0000</text>\n</g>\n<!-- 137838385280816* -->\n<g id=\"node14\" class=\"node\">\n<title>137838385280816*</title>\n<ellipse fill=\"none\" stroke=\"black\" cx=\"1050\" cy=\"-47.5\" rx=\"27\" ry=\"18\"/>\n<text text-anchor=\"middle\" x=\"1050\" y=\"-43.8\" font-family=\"Times,serif\" font-size=\"14.00\">*</text>\n</g>\n<!-- 137838385274576&#45;&gt;137838385280816* -->\n<g id=\"edge11\" class=\"edge\">\n<title>137838385274576&#45;&gt;137838385280816*</title>\n<path fill=\"none\" stroke=\"black\" d=\"M987.25,-63.78C996.54,-61.33 1006.1,-58.81 1014.83,-56.51\"/>\n<polygon fill=\"black\" stroke=\"black\" points=\"1015.86,-59.86 1024.64,-53.92 1014.08,-53.09 1015.86,-59.86\"/>\n</g>\n<!-- 137838385274576*&#45;&gt;137838385274576 -->\n<g id=\"edge4\" class=\"edge\">\n<title>137838385274576*&#45;&gt;137838385274576</title>\n<path fill=\"none\" stroke=\"black\" d=\"M853.07,-76.5C860.82,-76.5 869.65,-76.5 878.6,-76.5\"/>\n<polygon fill=\"black\" stroke=\"black\" points=\"878.7,-80 888.7,-76.5 878.7,-73 878.7,-80\"/>\n</g>\n<!-- 137838385274096 -->\n<g id=\"node12\" class=\"node\">\n<title>137838385274096</title>\n<polygon fill=\"none\" stroke=\"black\" points=\"891.5,-0.5 891.5,-38.5 984.5,-38.5 984.5,-0.5 891.5,-0.5\"/>\n<text text-anchor=\"middle\" x=\"938\" y=\"-23.3\" font-family=\"Times,serif\" font-size=\"14.00\">.data=&#45;1.0000</text>\n<text text-anchor=\"middle\" x=\"938\" y=\"-8.3\" font-family=\"Times,serif\" font-size=\"14.00\">grad=&#45;6.0000</text>\n</g>\n<!-- 137838385274096&#45;&gt;137838385280816* -->\n<g id=\"edge10\" class=\"edge\">\n<title>137838385274096&#45;&gt;137838385280816*</title>\n<path fill=\"none\" stroke=\"black\" d=\"M984.69,-31.13C994.75,-33.69 1005.24,-36.36 1014.75,-38.78\"/>\n<polygon fill=\"black\" stroke=\"black\" points=\"1014.07,-42.22 1024.63,-41.3 1015.8,-35.44 1014.07,-42.22\"/>\n</g>\n<!-- 137838385280816 -->\n<g id=\"node13\" class=\"node\">\n<title>137838385280816</title>\n<polygon fill=\"none\" stroke=\"black\" points=\"1113,-28.5 1113,-66.5 1202,-66.5 1202,-28.5 1113,-28.5\"/>\n<text text-anchor=\"middle\" x=\"1157.5\" y=\"-51.3\" font-family=\"Times,serif\" font-size=\"14.00\">.data=6.0000</text>\n<text text-anchor=\"middle\" x=\"1157.5\" y=\"-36.3\" font-family=\"Times,serif\" font-size=\"14.00\">grad=1.0000</text>\n</g>\n<!-- 137838385274336ReLU -->\n<g id=\"node16\" class=\"node\">\n<title>137838385274336ReLU</title>\n<ellipse fill=\"none\" stroke=\"black\" cx=\"1270.5\" cy=\"-47.5\" rx=\"32.49\" ry=\"18\"/>\n<text text-anchor=\"middle\" x=\"1270.5\" y=\"-43.8\" font-family=\"Times,serif\" font-size=\"14.00\">ReLU</text>\n</g>\n<!-- 137838385280816&#45;&gt;137838385274336ReLU -->\n<g id=\"edge7\" class=\"edge\">\n<title>137838385280816&#45;&gt;137838385274336ReLU</title>\n<path fill=\"none\" stroke=\"black\" d=\"M1202.05,-47.5C1210.42,-47.5 1219.17,-47.5 1227.49,-47.5\"/>\n<polygon fill=\"black\" stroke=\"black\" points=\"1227.74,-51 1237.74,-47.5 1227.74,-44 1227.74,-51\"/>\n</g>\n<!-- 137838385280816*&#45;&gt;137838385280816 -->\n<g id=\"edge5\" class=\"edge\">\n<title>137838385280816*&#45;&gt;137838385280816</title>\n<path fill=\"none\" stroke=\"black\" d=\"M1077.08,-47.5C1084.88,-47.5 1093.74,-47.5 1102.64,-47.5\"/>\n<polygon fill=\"black\" stroke=\"black\" points=\"1102.66,-51 1112.66,-47.5 1102.66,-44 1102.66,-51\"/>\n</g>\n<!-- 137838385274336 -->\n<g id=\"node15\" class=\"node\">\n<title>137838385274336</title>\n<polygon fill=\"none\" stroke=\"black\" points=\"1338.99,-28.5 1338.99,-66.5 1435.99,-66.5 1435.99,-28.5 1338.99,-28.5\"/>\n<text text-anchor=\"middle\" x=\"1387.49\" y=\"-51.3\" font-family=\"Times,serif\" font-size=\"14.00\">L.data=6.0000</text>\n<text text-anchor=\"middle\" x=\"1387.49\" y=\"-36.3\" font-family=\"Times,serif\" font-size=\"14.00\">grad=1.0000</text>\n</g>\n<!-- 137838385274336ReLU&#45;&gt;137838385274336 -->\n<g id=\"edge6\" class=\"edge\">\n<title>137838385274336ReLU&#45;&gt;137838385274336</title>\n<path fill=\"none\" stroke=\"black\" d=\"M1303.22,-47.5C1311.16,-47.5 1319.91,-47.5 1328.68,-47.5\"/>\n<polygon fill=\"black\" stroke=\"black\" points=\"1328.93,-51 1338.93,-47.5 1328.93,-44 1328.93,-51\"/>\n</g>\n</g>\n</svg>\n",
            "text/plain": [
              "<graphviz.graphs.Digraph at 0x7d5cfff83010>"
            ]
          },
          "metadata": {},
          "execution_count": 83
        }
      ]
    },
    {
      "cell_type": "markdown",
      "source": [
        "# Gradient"
      ],
      "metadata": {
        "id": "Y1HxS26bEl-h"
      }
    },
    {
      "cell_type": "code",
      "source": [
        "import math\n",
        "import numpy as np\n",
        "import matplotlib.pyplot as plt\n",
        "%matplotlib inline"
      ],
      "metadata": {
        "id": "ttzWXnv-EoAc"
      },
      "execution_count": 1,
      "outputs": []
    },
    {
      "cell_type": "code",
      "source": [
        "def f(x):\n",
        "  return 3*x**2 - 4 * x + 5"
      ],
      "metadata": {
        "id": "IddwHKzBpSRm"
      },
      "execution_count": 2,
      "outputs": []
    },
    {
      "cell_type": "code",
      "source": [
        "f(2.0)"
      ],
      "metadata": {
        "colab": {
          "base_uri": "https://localhost:8080/"
        },
        "id": "WALXztCmpW1A",
        "outputId": "6e6877c1-9d49-4a52-bba3-3d2e8428a026"
      },
      "execution_count": 3,
      "outputs": [
        {
          "output_type": "execute_result",
          "data": {
            "text/plain": [
              "9.0"
            ]
          },
          "metadata": {},
          "execution_count": 3
        }
      ]
    },
    {
      "cell_type": "code",
      "source": [
        "xs = np.arange(-5, 5, 0.25)\n",
        "ys = f(xs)\n",
        "plt.plot(xs, ys)"
      ],
      "metadata": {
        "colab": {
          "base_uri": "https://localhost:8080/",
          "height": 447
        },
        "id": "x5JPuG85paOq",
        "outputId": "f0614072-4d2a-4e66-cb43-63454e6f2028"
      },
      "execution_count": 4,
      "outputs": [
        {
          "output_type": "execute_result",
          "data": {
            "text/plain": [
              "[<matplotlib.lines.Line2D at 0x7f4595ae0b80>]"
            ]
          },
          "metadata": {},
          "execution_count": 4
        },
        {
          "output_type": "display_data",
          "data": {
            "text/plain": [
              "<Figure size 640x480 with 1 Axes>"
            ],
            "image/png": "[encoded data removed]"
          },
          "metadata": {}
        }
      ]
    },
    {
      "cell_type": "markdown",
      "source": [
        "The definition of [derivitive](https://en.wikipedia.org/wiki/Derivative) as a limit is that\n",
        "$$L=\\lim_{h \\to 0} \\dfrac{f_{(a+h)} - f_{(h)}} {h}$$"
      ],
      "metadata": {
        "id": "mxLvXcG1qsEd"
      }
    },
    {
      "cell_type": "code",
      "source": [
        "h=1e-7\n",
        "a=2.0\n",
        "(f(a+h)-f(a))/h"
      ],
      "metadata": {
        "colab": {
          "base_uri": "https://localhost:8080/"
        },
        "id": "pkmocDayphSr",
        "outputId": "320b2fe9-bcba-44aa-f4a8-bfdee7ef017d"
      },
      "execution_count": 8,
      "outputs": [
        {
          "output_type": "execute_result",
          "data": {
            "text/plain": [
              "8.000000288888032"
            ]
          },
          "metadata": {},
          "execution_count": 8
        }
      ]
    },
    {
      "cell_type": "markdown",
      "source": [
        "Numerically check against the Scalar backward() results."
      ],
      "metadata": {
        "id": "ms_ewSIDylm8"
      }
    },
    {
      "cell_type": "code",
      "source": [
        "def lol():\n",
        "  a=Scalar(2., label='a')\n",
        "  b=Scalar(-3, label='b')\n",
        "  c=Scalar(10, label='c')\n",
        "  e=a*b; e.label='e'\n",
        "  d=e+c+b; d.label='d'\n",
        "  f=d*e; f.label='f'\n",
        "  L1=f.data\n",
        "\n",
        "\n",
        "  h=1e-4\n",
        "  a=Scalar(2., label='a')\n",
        "  b=Scalar(-3, label='b')+h\n",
        "  c=Scalar(10, label='c')\n",
        "  e=a*b; e.label='e'\n",
        "  d=e+c+b; d.label='d'\n",
        "  f=d*e; f.label='f'\n",
        "  L2=f.data\n",
        "\n",
        "  print((L2-L1)/h)\n",
        "\n",
        "lol()"
      ],
      "metadata": {
        "colab": {
          "base_uri": "https://localhost:8080/"
        },
        "id": "y8KPxBoiYsod",
        "outputId": "effa2063-96cc-451a-ec93-6ccfd4abd653"
      },
      "execution_count": 69,
      "outputs": [
        {
          "output_type": "stream",
          "name": "stdout",
          "text": [
            "-15.999400000037411\n"
          ]
        }
      ]
    }
  ]
}