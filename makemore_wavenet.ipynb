{
  "cells": [
    {
      "cell_type": "markdown",
      "source": [
        "#Wavenet\n",
        "\n",
        "See whitepaper [WAVENET: A GENERATIVE MODEL FOR RAW AUDIO](https://arxiv.org/pdf/1609.03499)\n",
        "\n",
        "Our original implementation embeds single character and concatenate them (3 of them in our example). With such embedding, we are crushing too much information way too fast. This only uses low-level information of the input, so it doesn't matter how deep we make the hidden layers, it won't get much better results.\n",
        "\n",
        "The Wavenet idea is similar to conv net, where in first layer, you input single characters, next layer use bigrams, next uses 4-grams, and so on. So it can extract high-level information and the result is lower loss and higher efficiency."
      ],
      "metadata": {
        "id": "nk62iwaEJc7Q"
      },
      "id": "nk62iwaEJc7Q"
    },
    {
      "cell_type": "markdown",
      "source": [
        "# Prepare"
      ],
      "metadata": {
        "id": "NvdOyP1BFJNR"
      },
      "id": "NvdOyP1BFJNR"
    },
    {
      "cell_type": "code",
      "source": [
        "!wget \"https://github.com/romenlaw/NaiveNeuralNetwork/blob/main/names.txt?raw=True\" -O names.txt"
      ],
      "metadata": {
        "colab": {
          "base_uri": "https://localhost:8080/"
        },
        "id": "aTe65882k-zj",
        "outputId": "68140f64-9d2a-4e4a-ce43-55737b62010c"
      },
      "id": "aTe65882k-zj",
      "execution_count": 2,
      "outputs": [
        {
          "output_type": "stream",
          "name": "stdout",
          "text": [
            "--2024-08-28 22:38:25--  https://github.com/romenlaw/NaiveNeuralNetwork/blob/main/names.txt?raw=True\n",
            "Resolving github.com (github.com)... 140.82.114.4\n",
            "Connecting to github.com (github.com)|140.82.114.4|:443... connected.\n",
            "HTTP request sent, awaiting response... 302 Found\n",
            "Location: https://github.com/romenlaw/NaiveNeuralNetwork/raw/main/names.txt [following]\n",
            "--2024-08-28 22:38:25--  https://github.com/romenlaw/NaiveNeuralNetwork/raw/main/names.txt\n",
            "Reusing existing connection to github.com:443.\n",
            "HTTP request sent, awaiting response... 302 Found\n",
            "Location: https://raw.githubusercontent.com/romenlaw/NaiveNeuralNetwork/main/names.txt [following]\n",
            "--2024-08-28 22:38:25--  https://raw.githubusercontent.com/romenlaw/NaiveNeuralNetwork/main/names.txt\n",
            "Resolving raw.githubusercontent.com (raw.githubusercontent.com)... 185.199.109.133, 185.199.108.133, 185.199.111.133, ...\n",
            "Connecting to raw.githubusercontent.com (raw.githubusercontent.com)|185.199.109.133|:443... connected.\n",
            "HTTP request sent, awaiting response... 200 OK\n",
            "Length: 228145 (223K) [text/plain]\n",
            "Saving to: ‘names.txt’\n",
            "\n",
            "names.txt           100%[===================>] 222.80K  --.-KB/s    in 0.04s   \n",
            "\n",
            "2024-08-28 22:38:25 (6.11 MB/s) - ‘names.txt’ saved [228145/228145]\n",
            "\n"
          ]
        }
      ]
    },
    {
      "cell_type": "code",
      "source": [
        "import torch\n",
        "import torch.nn.functional as F\n",
        "import matplotlib.pyplot as plt\n",
        "%matplotlib inline"
      ],
      "metadata": {
        "id": "11fMpYyJnSe1"
      },
      "id": "11fMpYyJnSe1",
      "execution_count": 3,
      "outputs": []
    },
    {
      "cell_type": "code",
      "source": [
        "words = open('names.txt', 'r').read().splitlines()\n",
        "len(words), max([len(w) for w in words]), words[:8]"
      ],
      "metadata": {
        "colab": {
          "base_uri": "https://localhost:8080/"
        },
        "id": "OQx5qdlxnxdz",
        "outputId": "8b1b767e-c578-47b4-8f5e-b9b365af3943"
      },
      "id": "OQx5qdlxnxdz",
      "execution_count": 4,
      "outputs": [
        {
          "output_type": "execute_result",
          "data": {
            "text/plain": [
              "(32033,\n",
              " 15,\n",
              " ['emma', 'olivia', 'ava', 'isabella', 'sophia', 'charlotte', 'mia', 'amelia'])"
            ]
          },
          "metadata": {},
          "execution_count": 4
        }
      ]
    },
    {
      "cell_type": "code",
      "source": [
        "vocab = sorted(list(set(''.join(words))))\n",
        "vocab.insert(0, '.')\n",
        "vocab_size = len(vocab)\n",
        "itos={i:s for i, s in zip(range(vocab_size), vocab)}\n",
        "stoi={s:i for i, s in zip(range(vocab_size), vocab)}"
      ],
      "metadata": {
        "id": "3DZ2MKTbn9wr"
      },
      "id": "3DZ2MKTbn9wr",
      "execution_count": 5,
      "outputs": []
    },
    {
      "cell_type": "code",
      "source": [
        "# build datasets: 80% training, 10% validation, 10% testing\n",
        "import random\n",
        "random.seed(42)\n",
        "random.shuffle(words) # shuffle is in-place\n",
        "\n",
        "\n",
        "block_size=8 # for wavenet we change it from 3 to 8.\n",
        "X, Y = [], []\n",
        "context = []\n",
        "for w in words:\n",
        "  context = [0] * block_size # context contains indices\n",
        "  for c in (w + '.'):\n",
        "    ix = stoi[c]\n",
        "    X.append(context)\n",
        "    Y.append(ix)\n",
        "    #print(''.join([itos[i] for i in context]) + ' ---> ' + c)\n",
        "    if c=='.':\n",
        "      break\n",
        "    context = context[1:] + [ix]\n",
        "\n",
        "n1 = int(len(X)*.8)\n",
        "n2 = int(len(X)*.9)\n",
        "X_train = torch.tensor(X[:n1])\n",
        "Y_train = torch.tensor(Y[:n1])\n",
        "X_val = torch.tensor(X[n1:n2])\n",
        "Y_val = torch.tensor(Y[n1:n2])\n",
        "X_test = torch.tensor(X[n2:])\n",
        "Y_test = torch.tensor(Y[n2:])\n",
        "\n",
        "X_train.shape, Y_train.shape, X_val.shape, Y_val.shape, X_test.shape, Y_test.shape"
      ],
      "metadata": {
        "colab": {
          "base_uri": "https://localhost:8080/"
        },
        "id": "KdYLaCVXp3Hz",
        "outputId": "2867030e-0b9f-4ee9-a467-82cac3dc8ac4"
      },
      "id": "KdYLaCVXp3Hz",
      "execution_count": 21,
      "outputs": [
        {
          "output_type": "execute_result",
          "data": {
            "text/plain": [
              "(torch.Size([182516, 8]),\n",
              " torch.Size([182516]),\n",
              " torch.Size([22815, 8]),\n",
              " torch.Size([22815]),\n",
              " torch.Size([22815, 8]),\n",
              " torch.Size([22815]))"
            ]
          },
          "metadata": {},
          "execution_count": 21
        }
      ]
    },
    {
      "cell_type": "code",
      "source": [
        "X_val[:5], Y_val[:5]"
      ],
      "metadata": {
        "colab": {
          "base_uri": "https://localhost:8080/"
        },
        "id": "2TB4O_1_84D4",
        "outputId": "b83b491f-d5fc-47f1-fe87-25bae563fd77"
      },
      "id": "2TB4O_1_84D4",
      "execution_count": 22,
      "outputs": [
        {
          "output_type": "execute_result",
          "data": {
            "text/plain": [
              "(tensor([[ 0,  4,  9,  1, 13,  1, 14, 20],\n",
              "         [ 4,  9,  1, 13,  1, 14, 20,  5],\n",
              "         [ 0,  0,  0,  0,  0,  0,  0,  0],\n",
              "         [ 0,  0,  0,  0,  0,  0,  0, 10],\n",
              "         [ 0,  0,  0,  0,  0,  0, 10,  1]]),\n",
              " tensor([ 5,  0, 10,  1, 14]))"
            ]
          },
          "metadata": {},
          "execution_count": 22
        }
      ]
    },
    {
      "cell_type": "markdown",
      "source": [
        "# MLP"
      ],
      "metadata": {
        "id": "oiS-aoHoFNo7"
      },
      "id": "oiS-aoHoFNo7"
    },
    {
      "cell_type": "markdown",
      "source": [
        "## torchified classes"
      ],
      "metadata": {
        "id": "dGFcxjwyOQCD"
      },
      "id": "dGFcxjwyOQCD"
    },
    {
      "cell_type": "code",
      "source": [
        "class Linear:\n",
        "  def __init__(self, fan_in, fan_out, bias=True):\n",
        "    self.weight = torch.randn((fan_in, fan_out)) / fan_in**0.5\n",
        "    self.bias = torch.zeros(fan_out) if bias else None\n",
        "\n",
        "  def __call__(self, x):\n",
        "    self.out = x @ self.weight\n",
        "    if self.bias is not None:\n",
        "      self.out += self.bias\n",
        "    return self.out\n",
        "\n",
        "  def parameters(self):\n",
        "    return [self.weight] + ([] if self.bias is None else [self.bias])\n",
        "\n",
        "class BatchNorm1d:\n",
        "  def __init__(self, dim, eps=1e-5, momentum=0.1):\n",
        "    \"\"\"with Wevenet, the dim can be 2-dimensional.\n",
        "    \"\"\"\n",
        "    self.eps=eps\n",
        "    self.momentum = momentum\n",
        "    self.training = True\n",
        "\n",
        "    self.gamma = torch.ones(dim)\n",
        "    self.beta = torch.zeros(dim)\n",
        "\n",
        "    self.running_mean = torch.zeros(dim)\n",
        "    self.running_var = torch.ones(dim)\n",
        "\n",
        "  def __call__(self, x):\n",
        "    \"\"\"with Wavenet, x can be 3-dimensional (B,V,C), instead of 2 (B,V*C).\n",
        "    for 3-dim x, we want to do the mean and var along the 1st 2 dimensions,\n",
        "    i.e. x.view(-1, last_dim).mean(dim=0, keepdim=True)\n",
        "    torch's mean can specify the dim as tuple, so we can use (0,1) as the dim\n",
        "    when calling mean, and achieve the same.\n",
        "    \"\"\"\n",
        "    if self.training:\n",
        "      if x.ndim==2:\n",
        "        dim=0\n",
        "      if x.ndim==3:\n",
        "        dim=(0,1)\n",
        "      xmean = x.mean(dim, keepdim=True)\n",
        "      xvar = x.var(dim, keepdim=True)\n",
        "      with torch.no_grad():\n",
        "        self.running_mean = (1-self.momentum)*self.running_mean + self.momentum*xmean\n",
        "        self.running_var = (1-self.momentum)*self.running_var + self.momentum*xvar\n",
        "    else:\n",
        "      xmean = self.running_mean\n",
        "      xvar = self.running_var\n",
        "\n",
        "    x_hat = (x - xmean) / (xvar + self.eps)**0.5\n",
        "    self.out = self.gamma * x_hat + self.beta\n",
        "\n",
        "    return self.out\n",
        "\n",
        "  def parameters(self):\n",
        "    return [self.gamma, self.beta]\n",
        "\n",
        "class Tanh:\n",
        "  def __call__(self, x):\n",
        "    self.out = torch.tanh(x)\n",
        "    return self.out\n",
        "\n",
        "  def parameters(self):\n",
        "    return []\n",
        "\n",
        "class FlattenConsecutive: # rename to distinguish from torch's Flatten, which does different things\n",
        "  def __init__(self, n):\n",
        "    \"\"\"n is number of characters to concatinate - i.e. block_size.\n",
        "    e.g. if input is (32, 8, 10), and n=8, then returns (32, 80)\n",
        "         if n=2 (i.e. bigram), then return (32, 4, 20)\n",
        "    \"\"\"\n",
        "    self.n = n\n",
        "\n",
        "  def __call__(self, x):\n",
        "    # B=batch_size, V=vocab_size, C=number of embed dimension\n",
        "    B, V, C = x.shape\n",
        "    x = x.view(B, V//self.n, C*self.n)\n",
        "    if x.shape[1] == 1:\n",
        "      x = x.squeeze(1)\n",
        "    self.out=x\n",
        "    return self.out\n",
        "\n",
        "  def parameters(self):\n",
        "    return []\n",
        "\n",
        "class Embedding:\n",
        "  def __init__(self, num_embeddings, embedding_dim):\n",
        "    \"\"\"num_embeddings is the vocab size,\n",
        "    embedding_dim is the dimension of the embedded vector\n",
        "    \"\"\"\n",
        "    self.weight = torch.randn((num_embeddings, embedding_dim))\n",
        "\n",
        "  def __call__(self, IX):\n",
        "    self.out = self.weight[IX]\n",
        "    return self.out\n",
        "\n",
        "  def parameters(self):\n",
        "    return [self.weight]\n",
        "\n",
        "# mimic torch.nn.Sequential\n",
        "class Sequential:\n",
        "  def __init__(self, layers):\n",
        "    self.layers = layers\n",
        "\n",
        "  def __call__(self, x):\n",
        "    for layer in self.layers:\n",
        "      x = layer(x)\n",
        "\n",
        "    self.out = x\n",
        "    return self.out\n",
        "\n",
        "  def parameters(self):\n",
        "    return [p for layer in self.layers for p in layer.parameters()]"
      ],
      "metadata": {
        "id": "bUWE4oJ8HM80"
      },
      "id": "bUWE4oJ8HM80",
      "execution_count": 135,
      "outputs": []
    },
    {
      "cell_type": "markdown",
      "source": [
        "## initialisation"
      ],
      "metadata": {
        "id": "UciEFr6GOR4c"
      },
      "id": "UciEFr6GOR4c"
    },
    {
      "cell_type": "code",
      "source": [
        "torch.manual_seed(42)\n",
        "\n",
        "emb_dim = 24 # 10\n",
        "hidden_dim = 128 # choose 68 because totol #param is roughly the same as before\n",
        "\n",
        "model = Sequential([ Embedding(vocab_size, emb_dim),\n",
        "    # we feed bi-grams int Linear layers instead of block_size of 8:\n",
        "    FlattenConsecutive(2), Linear(emb_dim*2, hidden_dim, bias=False), BatchNorm1d(hidden_dim), Tanh(),\n",
        "    FlattenConsecutive(2), Linear(hidden_dim*2, hidden_dim, bias=False), BatchNorm1d(hidden_dim), Tanh(),\n",
        "    FlattenConsecutive(2), Linear(hidden_dim*2, hidden_dim, bias=False), BatchNorm1d(hidden_dim), Tanh(),\n",
        "    Linear(hidden_dim, vocab_size) # output layer\n",
        "])\n",
        "with torch.no_grad():\n",
        "  model.layers[-1].weight *= 0.1 # make output layer less confident(ly wrong)\n",
        "\n",
        "parameters = model.parameters()\n",
        "for p in parameters:\n",
        "  p.requires_grad=True\n",
        "print(sum(p.nelement() for p in parameters))"
      ],
      "metadata": {
        "colab": {
          "base_uri": "https://localhost:8080/"
        },
        "id": "MqPChrKsIlg0",
        "outputId": "93f80c61-2b5d-4833-fcca-cb9abaf62904"
      },
      "id": "MqPChrKsIlg0",
      "execution_count": 136,
      "outputs": [
        {
          "output_type": "stream",
          "name": "stdout",
          "text": [
            "76579\n"
          ]
        }
      ]
    },
    {
      "cell_type": "code",
      "source": [
        "emb_dim*block_size * hidden_dim + hidden_dim*2 + hidden_dim*vocab_size +vocab_size+ vocab_size * emb_dim"
      ],
      "metadata": {
        "colab": {
          "base_uri": "https://localhost:8080/"
        },
        "id": "sYN-SXO6SxjU",
        "outputId": "948e010f-f87a-45c4-b6e3-f56b6d1cdd0f"
      },
      "id": "sYN-SXO6SxjU",
      "execution_count": 24,
      "outputs": [
        {
          "output_type": "execute_result",
          "data": {
            "text/plain": [
              "22097"
            ]
          },
          "metadata": {},
          "execution_count": 24
        }
      ]
    },
    {
      "cell_type": "markdown",
      "source": [
        "## playground - dissecting the layers\n",
        "\n",
        "let's look at our MLP layer by layer"
      ],
      "metadata": {
        "id": "8bAuPpOPQlX7"
      },
      "id": "8bAuPpOPQlX7"
    },
    {
      "cell_type": "code",
      "source": [
        "# construct a mini-batch of 4 samples\n",
        "ix = torch.randint(0, X_train.shape[0], (4,))\n",
        "Xb, Yb = X_train[ix], Y_train[ix]\n",
        "logits = model(Xb)\n",
        "Xb.shape, Xb # the batch has 4 samples, each sample is 8-characters"
      ],
      "metadata": {
        "id": "-MFsQY98QrpF",
        "outputId": "8b74c6c3-7ca1-460c-dae2-0ff66cf5c317",
        "colab": {
          "base_uri": "https://localhost:8080/"
        }
      },
      "id": "-MFsQY98QrpF",
      "execution_count": 93,
      "outputs": [
        {
          "output_type": "execute_result",
          "data": {
            "text/plain": [
              "(torch.Size([4, 8]),\n",
              " tensor([[ 0,  0,  0,  0,  0,  0,  0,  0],\n",
              "         [ 0,  0,  0,  0, 15,  1, 11, 12],\n",
              "         [ 0,  0, 18,  1, 25, 13, 15, 14],\n",
              "         [ 0,  0,  0,  0,  0,  0,  0,  0]]))"
            ]
          },
          "metadata": {},
          "execution_count": 93
        }
      ]
    },
    {
      "cell_type": "code",
      "source": [
        "for layer in model.layers:\n",
        "  print(layer.__class__.__name__, ':', tuple(layer.out.shape) )"
      ],
      "metadata": {
        "id": "9_PkFlSNsGLa",
        "outputId": "fc6b5ab0-81b1-4322-c3e7-e56f49e70513",
        "colab": {
          "base_uri": "https://localhost:8080/"
        }
      },
      "id": "9_PkFlSNsGLa",
      "execution_count": 129,
      "outputs": [
        {
          "output_type": "stream",
          "name": "stdout",
          "text": [
            "Embedding : (32, 8, 10)\n",
            "FlattenConsecutive : (32, 4, 20)\n",
            "Linear : (32, 4, 68)\n",
            "BatchNorm1d : (32, 4, 68)\n",
            "Tanh : (32, 4, 68)\n",
            "FlattenConsecutive : (32, 2, 136)\n",
            "Linear : (32, 2, 68)\n",
            "BatchNorm1d : (32, 2, 68)\n",
            "Tanh : (32, 2, 68)\n",
            "FlattenConsecutive : (32, 136)\n",
            "Linear : (32, 68)\n",
            "BatchNorm1d : (32, 68)\n",
            "Tanh : (32, 68)\n",
            "Linear : (32, 27)\n"
          ]
        }
      ]
    },
    {
      "cell_type": "code",
      "source": [
        "model.layers[0].out.shape # after embedding layer - each character is 10-dim vector"
      ],
      "metadata": {
        "id": "q8OC6okIRseT",
        "outputId": "e1c361e6-afa7-4ac2-d33f-c4a86cc38209",
        "colab": {
          "base_uri": "https://localhost:8080/"
        }
      },
      "id": "q8OC6okIRseT",
      "execution_count": 32,
      "outputs": [
        {
          "output_type": "execute_result",
          "data": {
            "text/plain": [
              "torch.Size([4, 8, 10])"
            ]
          },
          "metadata": {},
          "execution_count": 32
        }
      ]
    },
    {
      "cell_type": "code",
      "source": [
        "model.layers[1].out.shape # flatten layer stretches the last 2-dim into one dim"
      ],
      "metadata": {
        "id": "Yg6GluJxR9aX",
        "outputId": "cf0495c8-0a13-44d0-a335-dfd94327e11a",
        "colab": {
          "base_uri": "https://localhost:8080/"
        }
      },
      "id": "Yg6GluJxR9aX",
      "execution_count": 33,
      "outputs": [
        {
          "output_type": "execute_result",
          "data": {
            "text/plain": [
              "torch.Size([4, 80])"
            ]
          },
          "metadata": {},
          "execution_count": 33
        }
      ]
    },
    {
      "cell_type": "code",
      "source": [
        "model.layers[2].out.shape # output of Linear layer"
      ],
      "metadata": {
        "id": "KK4GhYMVSPeU",
        "outputId": "79fca604-538e-4129-80a3-c08602fbd423",
        "colab": {
          "base_uri": "https://localhost:8080/"
        }
      },
      "id": "KK4GhYMVSPeU",
      "execution_count": 34,
      "outputs": [
        {
          "output_type": "execute_result",
          "data": {
            "text/plain": [
              "torch.Size([4, 200])"
            ]
          },
          "metadata": {},
          "execution_count": 34
        }
      ]
    },
    {
      "cell_type": "code",
      "source": [
        "# the linear layer is basically doing this:\n",
        "(torch.randn(4, 80) @ torch.randn(80, 200) + torch.randn(200)).shape"
      ],
      "metadata": {
        "id": "SU6LvQDXScAm",
        "outputId": "fa2d63a3-51e8-43ff-c8b3-c211e4df54d9",
        "colab": {
          "base_uri": "https://localhost:8080/"
        }
      },
      "id": "SU6LvQDXScAm",
      "execution_count": 35,
      "outputs": [
        {
          "output_type": "execute_result",
          "data": {
            "text/plain": [
              "torch.Size([4, 200])"
            ]
          },
          "metadata": {},
          "execution_count": 35
        }
      ]
    },
    {
      "cell_type": "code",
      "source": [
        "# the linear layer works even if we change the input sample's dimension,\n",
        "# as long as the last dim matches the Linear's fan-in, it's fine.\n",
        "# the multiplication is only happening to the last dim of the input sample.\n",
        "(torch.randn(4, 2,5, 80) @ torch.randn(80, 200) + torch.randn(200)).shape"
      ],
      "metadata": {
        "id": "AvHiJHdFSvrp",
        "outputId": "9c6d2774-13bf-4d12-9fd1-c571dbafcddb",
        "colab": {
          "base_uri": "https://localhost:8080/"
        }
      },
      "id": "AvHiJHdFSvrp",
      "execution_count": 36,
      "outputs": [
        {
          "output_type": "execute_result",
          "data": {
            "text/plain": [
              "torch.Size([4, 2, 5, 200])"
            ]
          },
          "metadata": {},
          "execution_count": 36
        }
      ]
    },
    {
      "cell_type": "code",
      "source": [
        "t1 =[[[1,1], [1,1], [1,1]],\n",
        "     [[1,1], [1,1], [1,1]]\n",
        "     ]\n",
        "torch.tensor(t1) @ torch.tensor([[2], [2]])"
      ],
      "metadata": {
        "id": "mZqFAWUYTUOv",
        "outputId": "845d78d0-74f4-49b4-c3ec-a8c7e104b6dd",
        "colab": {
          "base_uri": "https://localhost:8080/"
        }
      },
      "id": "mZqFAWUYTUOv",
      "execution_count": 40,
      "outputs": [
        {
          "output_type": "execute_result",
          "data": {
            "text/plain": [
              "tensor([[[4],\n",
              "         [4],\n",
              "         [4]],\n",
              "\n",
              "        [[4],\n",
              "         [4],\n",
              "         [4]]])"
            ]
          },
          "metadata": {},
          "execution_count": 40
        }
      ]
    },
    {
      "cell_type": "markdown",
      "source": [
        "knowing the above, we want to group our 8-char context into bi-grams (1 2) (3 4) (5 6) (7 8)\n",
        "and process them in parallel. So instead of (4,80) into the Linear, we want (4,4,20)."
      ],
      "metadata": {
        "id": "CqnxVs44lIB9"
      },
      "id": "CqnxVs44lIB9"
    },
    {
      "cell_type": "code",
      "source": [
        "# python way of getting even/odd elements of a list:\n",
        "odds = list(range(10))[1::2]\n",
        "evens = list(range(10))[::2]\n",
        "evens, odds"
      ],
      "metadata": {
        "id": "3pCEUY3ujprn",
        "outputId": "963a0212-2f98-472a-bd77-a54d0227005e",
        "colab": {
          "base_uri": "https://localhost:8080/"
        }
      },
      "id": "3pCEUY3ujprn",
      "execution_count": 46,
      "outputs": [
        {
          "output_type": "execute_result",
          "data": {
            "text/plain": [
              "([0, 2, 4, 6, 8], [1, 3, 5, 7, 9])"
            ]
          },
          "metadata": {},
          "execution_count": 46
        }
      ]
    },
    {
      "cell_type": "code",
      "source": [
        "torch.cat((torch.tensor([evens]), torch.tensor([odds])), dim=0), torch.cat((torch.tensor([evens]), torch.tensor([odds])), dim=1)"
      ],
      "metadata": {
        "id": "ir34JOzskKhc",
        "outputId": "b126dc73-909a-4a66-b088-177610a47ba0",
        "colab": {
          "base_uri": "https://localhost:8080/"
        }
      },
      "id": "ir34JOzskKhc",
      "execution_count": 55,
      "outputs": [
        {
          "output_type": "execute_result",
          "data": {
            "text/plain": [
              "(tensor([[0, 2, 4, 6, 8],\n",
              "         [1, 3, 5, 7, 9]]),\n",
              " tensor([[0, 2, 4, 6, 8, 1, 3, 5, 7, 9]]))"
            ]
          },
          "metadata": {},
          "execution_count": 55
        }
      ]
    },
    {
      "cell_type": "code",
      "source": [
        "#similarly if we do it to our tensor\n",
        "e = torch.randn(4, 8, 10)\n",
        "explicit = torch.cat( (e[:,::2,:], e[:, 1::2, :]), dim=2)\n",
        "explicit.shape # now we have 4 pairs of bigrams"
      ],
      "metadata": {
        "id": "ZXAuXgRNlE11",
        "outputId": "e8e24c79-e54f-48fc-83ff-43c07c05b91a",
        "colab": {
          "base_uri": "https://localhost:8080/"
        }
      },
      "id": "ZXAuXgRNlE11",
      "execution_count": 57,
      "outputs": [
        {
          "output_type": "execute_result",
          "data": {
            "text/plain": [
              "torch.Size([4, 4, 20])"
            ]
          },
          "metadata": {},
          "execution_count": 57
        }
      ]
    },
    {
      "cell_type": "code",
      "source": [
        "# the equivalent way in torch:\n",
        "(e.view(4,4,20) == explicit).all()"
      ],
      "metadata": {
        "id": "Ax5ubhgWmEEi",
        "outputId": "e8768b65-b037-455a-b47b-35876cea05c8",
        "colab": {
          "base_uri": "https://localhost:8080/"
        }
      },
      "id": "Ax5ubhgWmEEi",
      "execution_count": 69,
      "outputs": [
        {
          "output_type": "execute_result",
          "data": {
            "text/plain": [
              "tensor(True)"
            ]
          },
          "metadata": {},
          "execution_count": 69
        }
      ]
    },
    {
      "cell_type": "code",
      "source": [
        "# let's have a look at the BN, where mean and var are calculated\n",
        "e = torch.randn((4,3,2))\n",
        "e"
      ],
      "metadata": {
        "id": "xD2bBoNMB7of",
        "outputId": "5d37cd3e-afe0-4173-d819-cf359e342f6f",
        "colab": {
          "base_uri": "https://localhost:8080/"
        }
      },
      "id": "xD2bBoNMB7of",
      "execution_count": 104,
      "outputs": [
        {
          "output_type": "execute_result",
          "data": {
            "text/plain": [
              "tensor([[[ 0.4248, -2.5431],\n",
              "         [-1.6032, -0.7707],\n",
              "         [-0.0541,  0.3592]],\n",
              "\n",
              "        [[ 0.9253, -0.4704],\n",
              "         [ 1.2161,  0.8585],\n",
              "         [-0.6704,  0.1230]],\n",
              "\n",
              "        [[ 0.0563, -1.9198],\n",
              "         [ 0.8685, -0.1508],\n",
              "         [ 0.5380,  0.4862]],\n",
              "\n",
              "        [[-0.3117,  1.2374],\n",
              "         [ 0.3144,  1.0599],\n",
              "         [-0.7855, -1.2425]]])"
            ]
          },
          "metadata": {},
          "execution_count": 104
        }
      ]
    },
    {
      "cell_type": "code",
      "source": [
        "e.mean((0,1)), e.mean((0,1), keepdim=True)"
      ],
      "metadata": {
        "id": "oTz3ub8-CKRE",
        "outputId": "b30e2586-f2e6-4728-b46b-0a3f6a89b46e",
        "colab": {
          "base_uri": "https://localhost:8080/"
        }
      },
      "id": "oTz3ub8-CKRE",
      "execution_count": 107,
      "outputs": [
        {
          "output_type": "execute_result",
          "data": {
            "text/plain": [
              "(tensor([ 0.0765, -0.2477]), tensor([[[ 0.0765, -0.2477]]]))"
            ]
          },
          "metadata": {},
          "execution_count": 107
        }
      ]
    },
    {
      "cell_type": "code",
      "source": [
        "e.view(-1, 2).mean(dim=0), e.view(-1, 2).mean(dim=0, keepdim=True)"
      ],
      "metadata": {
        "id": "voj9GaoqCX2A",
        "outputId": "9d5e0609-e8f0-4eb0-c831-50ebefad8de5",
        "colab": {
          "base_uri": "https://localhost:8080/"
        }
      },
      "id": "voj9GaoqCX2A",
      "execution_count": 111,
      "outputs": [
        {
          "output_type": "execute_result",
          "data": {
            "text/plain": [
              "(tensor([ 0.0765, -0.2477]), tensor([[ 0.0765, -0.2477]]))"
            ]
          },
          "metadata": {},
          "execution_count": 111
        }
      ]
    },
    {
      "cell_type": "markdown",
      "source": [
        "## training"
      ],
      "metadata": {
        "id": "GnyMyx59xcgY"
      },
      "id": "GnyMyx59xcgY"
    },
    {
      "cell_type": "code",
      "source": [
        "max_steps=200000\n",
        "batch_size=32\n",
        "lossi=[]\n",
        "\n",
        "for step in range(max_steps):\n",
        "  # create mini_batch\n",
        "  ix = torch.randint(0, X_train.shape[0], size=(batch_size,))\n",
        "  Xb, Yb = X_train[ix], Y_train[ix]\n",
        "\n",
        "  # forward pass\n",
        "  logits = model(Xb)\n",
        "  loss = F.cross_entropy(logits, Yb)\n",
        "\n",
        "  # backward pass\n",
        "  for p in parameters:\n",
        "    p.grad=None\n",
        "  loss.backward()\n",
        "\n",
        "  # update\n",
        "  lr = 0.1 if step<150000 else 0.01\n",
        "  for p in parameters:\n",
        "    p.data += -lr * p.grad\n",
        "\n",
        "  if step % 10000 ==0:\n",
        "    print('%7d/%7d: %2.10f' % (step, max_steps, loss))\n",
        "  lossi.append(loss.item())\n",
        "\n",
        "  #break\n",
        "print('%7d/%7d: %2.10f' % (step, max_steps, loss))"
      ],
      "metadata": {
        "colab": {
          "base_uri": "https://localhost:8080/"
        },
        "id": "-aXTRRcKWZ3t",
        "outputId": "8a01d19f-6524-48be-cf1a-2d9be6f54db0"
      },
      "id": "-aXTRRcKWZ3t",
      "execution_count": 137,
      "outputs": [
        {
          "output_type": "stream",
          "name": "stdout",
          "text": [
            "      0/ 200000: 3.3002052307\n",
            "  10000/ 200000: 1.9523477554\n",
            "  20000/ 200000: 2.1878404617\n",
            "  30000/ 200000: 1.7295354605\n",
            "  40000/ 200000: 2.2642648220\n",
            "  50000/ 200000: 2.0725338459\n",
            "  60000/ 200000: 2.2103981972\n",
            "  70000/ 200000: 2.1886646748\n",
            "  80000/ 200000: 1.5598725080\n",
            "  90000/ 200000: 1.8700159788\n",
            " 100000/ 200000: 2.2238843441\n",
            " 110000/ 200000: 1.7486177683\n",
            " 120000/ 200000: 2.0120618343\n",
            " 130000/ 200000: 2.0910420418\n",
            " 140000/ 200000: 1.9111864567\n",
            " 150000/ 200000: 1.5432679653\n",
            " 160000/ 200000: 1.8756422997\n",
            " 170000/ 200000: 1.8333473206\n",
            " 180000/ 200000: 1.5759855509\n",
            " 190000/ 200000: 1.8748409748\n",
            " 199999/ 200000: 1.8513283730\n"
          ]
        }
      ]
    },
    {
      "cell_type": "code",
      "source": [
        "fig, (ax1, ax2) = plt.subplots(1, 2, figsize=(10, 3))\n",
        "ax1.plot(lossi)\n",
        "ax1.set_yscale('log')\n",
        "ax2.plot(torch.tensor(lossi).view(-1, 1000).mean(1))\n",
        "ax2.set_yscale('log')"
      ],
      "metadata": {
        "colab": {
          "base_uri": "https://localhost:8080/",
          "height": 291
        },
        "id": "WN6gFzY6e6M7",
        "outputId": "6e505ced-b288-4a3e-8dcf-1d91478a2dc1"
      },
      "id": "WN6gFzY6e6M7",
      "execution_count": 138,
      "outputs": [
        {
          "output_type": "display_data",
          "data": {
            "text/plain": [
              "<Figure size 1000x300 with 2 Axes>"
            ],
            "image/png": "[encoded data removed]"
          },
          "metadata": {}
        }
      ]
    },
    {
      "cell_type": "markdown",
      "source": [
        "## validate"
      ],
      "metadata": {
        "id": "R6JTa0E4cEqa"
      },
      "id": "R6JTa0E4cEqa"
    },
    {
      "cell_type": "code",
      "source": [
        "for layer in model.layers:\n",
        "  layer.training = False\n",
        "\n",
        "@torch.no_grad()\n",
        "def split_loss(s):\n",
        "  \"\"\"s is one of 'train', 'val', 'test'\n",
        "  \"\"\"\n",
        "  xs, ys = { 'train': (X_train, Y_train),\n",
        "          'val': (X_val, Y_val,),\n",
        "           'test': (X_test, Y_test)}[s]\n",
        "  # forward pass\n",
        "  logits = model(xs)\n",
        "  loss = F.cross_entropy(logits, ys)\n",
        "  print(s, loss.item())\n",
        "\n",
        "split_loss('train')\n",
        "split_loss('val')"
      ],
      "metadata": {
        "colab": {
          "base_uri": "https://localhost:8080/"
        },
        "id": "sOwCcfuBcGTX",
        "outputId": "913acba8-910b-47f9-b0b4-8a6df25ddd88"
      },
      "id": "sOwCcfuBcGTX",
      "execution_count": 139,
      "outputs": [
        {
          "output_type": "stream",
          "name": "stdout",
          "text": [
            "train 1.7658323049545288\n",
            "val 1.9940435886383057\n"
          ]
        }
      ]
    },
    {
      "cell_type": "markdown",
      "source": [
        "* the loss using the original impl of 3-character concatenation and hidden layer of 200 dim is comparable to previous exercises: about 2.06-2.1\n",
        "* using the same config as above but with 8-character concatenation, the loss is about 1.9-2.03\n",
        "* using the wavenet (with wrong BN) loss is the same 1.94-2.35\n",
        "* after fixing BN, loss is 1.9-2.03, and the inference result seems better than pervious one.\n",
        "* wavenet using emb_dim=24, hidden_dim=128 the loss is 1.76-1.994"
      ],
      "metadata": {
        "id": "r2vO5oobMoLa"
      },
      "id": "r2vO5oobMoLa"
    },
    {
      "cell_type": "markdown",
      "source": [
        "## Sample"
      ],
      "metadata": {
        "id": "1CWWv1zkhIIW"
      },
      "id": "1CWWv1zkhIIW"
    },
    {
      "cell_type": "code",
      "source": [
        "with torch.no_grad():\n",
        "  for _ in range(20):\n",
        "    out=[]\n",
        "    context=[0]*block_size\n",
        "\n",
        "    while True:\n",
        "      logits = model(torch.tensor([context]))\n",
        "\n",
        "      probs = F.softmax(logits, dim=1)\n",
        "      ix = torch.multinomial(probs, num_samples=1)\n",
        "      context = context[1:]+[ix]\n",
        "      out.append(ix.item())\n",
        "      if ix==0:\n",
        "        break\n",
        "    print(''.join(itos[i] for i in out))"
      ],
      "metadata": {
        "colab": {
          "base_uri": "https://localhost:8080/"
        },
        "id": "TlEoCaH-hJiT",
        "outputId": "246e2839-9011-4247-c229-8174c1757cd8"
      },
      "id": "TlEoCaH-hJiT",
      "execution_count": 140,
      "outputs": [
        {
          "output_type": "stream",
          "name": "stdout",
          "text": [
            "aiyanah.\n",
            "giuson.\n",
            "jenson.\n",
            "liba.\n",
            "rayna.\n",
            "torre.\n",
            "reiles.\n",
            "kendley.\n",
            "kannia.\n",
            "sond.\n",
            "laylor.\n",
            "shawn.\n",
            "denice.\n",
            "myndaled.\n",
            "coheb.\n",
            "petrik.\n",
            "isabella.\n",
            "jayson.\n",
            "lanaie.\n",
            "manaswa.\n"
          ]
        }
      ]
    }
  ],
  "metadata": {
    "kernelspec": {
      "display_name": "Python 3",
      "language": "python",
      "name": "python3"
    },
    "language_info": {
      "codemirror_mode": {
        "name": "ipython",
        "version": 3
      },
      "file_extension": ".py",
      "mimetype": "text/x-python",
      "name": "python",
      "nbconvert_exporter": "python",
      "pygments_lexer": "ipython3",
      "version": "3.8.10"
    },
    "colab": {
      "provenance": [],
      "toc_visible": true
    }
  },
  "nbformat": 4,
  "nbformat_minor": 5
}