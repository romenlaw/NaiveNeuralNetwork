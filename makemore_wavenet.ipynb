{
  "cells": [
    {
      "cell_type": "code",
      "source": [
        "!wget \"https://github.com/romenlaw/NaiveNeuralNetwork/blob/main/names.txt?raw=True\" -O names.txt"
      ],
      "metadata": {
        "id": "aTe65882k-zj",
        "outputId": "533aed5f-7d2a-4287-ab0d-2037cbb97009",
        "colab": {
          "base_uri": "https://localhost:8080/"
        }
      },
      "id": "aTe65882k-zj",
      "execution_count": 4,
      "outputs": [
        {
          "output_type": "stream",
          "name": "stdout",
          "text": [
            "--2024-08-28 01:32:22--  https://github.com/romenlaw/NaiveNeuralNetwork/blob/main/names.txt?raw=True\n",
            "Resolving github.com (github.com)... 140.82.114.4\n",
            "Connecting to github.com (github.com)|140.82.114.4|:443... connected.\n",
            "HTTP request sent, awaiting response... 302 Found\n",
            "Location: https://github.com/romenlaw/NaiveNeuralNetwork/raw/main/names.txt [following]\n",
            "--2024-08-28 01:32:22--  https://github.com/romenlaw/NaiveNeuralNetwork/raw/main/names.txt\n",
            "Reusing existing connection to github.com:443.\n",
            "HTTP request sent, awaiting response... 302 Found\n",
            "Location: https://raw.githubusercontent.com/romenlaw/NaiveNeuralNetwork/main/names.txt [following]\n",
            "--2024-08-28 01:32:22--  https://raw.githubusercontent.com/romenlaw/NaiveNeuralNetwork/main/names.txt\n",
            "Resolving raw.githubusercontent.com (raw.githubusercontent.com)... 185.199.111.133, 185.199.109.133, 185.199.110.133, ...\n",
            "Connecting to raw.githubusercontent.com (raw.githubusercontent.com)|185.199.111.133|:443... connected.\n",
            "HTTP request sent, awaiting response... 200 OK\n",
            "Length: 228145 (223K) [text/plain]\n",
            "Saving to: ‘names.txt’\n",
            "\n",
            "names.txt           100%[===================>] 222.80K  --.-KB/s    in 0.05s   \n",
            "\n",
            "2024-08-28 01:32:22 (4.43 MB/s) - ‘names.txt’ saved [228145/228145]\n",
            "\n"
          ]
        }
      ]
    },
    {
      "cell_type": "code",
      "source": [
        "import torch\n",
        "import torch.nn.functional as F\n",
        "import matplotlib.pyplot as plt\n",
        "%matplotlib inline"
      ],
      "metadata": {
        "id": "11fMpYyJnSe1"
      },
      "id": "11fMpYyJnSe1",
      "execution_count": 5,
      "outputs": []
    },
    {
      "cell_type": "code",
      "source": [
        "words = open('names.txt', 'r').read().splitlines()\n",
        "len(words), words[:8]"
      ],
      "metadata": {
        "id": "OQx5qdlxnxdz",
        "outputId": "737bc783-f50c-4140-c219-8897e3f5ed46",
        "colab": {
          "base_uri": "https://localhost:8080/"
        }
      },
      "id": "OQx5qdlxnxdz",
      "execution_count": 7,
      "outputs": [
        {
          "output_type": "execute_result",
          "data": {
            "text/plain": [
              "(32033,\n",
              " ['emma', 'olivia', 'ava', 'isabella', 'sophia', 'charlotte', 'mia', 'amelia'])"
            ]
          },
          "metadata": {},
          "execution_count": 7
        }
      ]
    },
    {
      "cell_type": "code",
      "source": [
        "vocab = sorted(list(set(''.join(words))))\n",
        "vocab.insert(0, '.')\n",
        "vocab_size = len(vocab)\n",
        "itos={i:s for i, s in zip(range(vocab_size), vocab)}\n",
        "stoi={s:i for i, s in zip(range(vocab_size), vocab)}"
      ],
      "metadata": {
        "id": "3DZ2MKTbn9wr"
      },
      "id": "3DZ2MKTbn9wr",
      "execution_count": 15,
      "outputs": []
    },
    {
      "cell_type": "code",
      "source": [
        "# build datasets: 80% training, 10% validation, 10% testing\n",
        "import random\n",
        "random.seed(42)\n",
        "random.shuffle(words) # shuffle is in-place\n",
        "n1 = int(len(words)*.8)\n",
        "n2 = int(len(words)*.9)\n",
        "\n",
        "block_size=3\n",
        "X, Y = [], []\n"
      ],
      "metadata": {
        "id": "KdYLaCVXp3Hz",
        "outputId": "4e1214b1-854d-47c4-cc23-a18e286bd087",
        "colab": {
          "base_uri": "https://localhost:8080/"
        }
      },
      "id": "KdYLaCVXp3Hz",
      "execution_count": 17,
      "outputs": [
        {
          "output_type": "execute_result",
          "data": {
            "text/plain": [
              "{0: '.',\n",
              " 1: 'a',\n",
              " 2: 'b',\n",
              " 3: 'c',\n",
              " 4: 'd',\n",
              " 5: 'e',\n",
              " 6: 'f',\n",
              " 7: 'g',\n",
              " 8: 'h',\n",
              " 9: 'i',\n",
              " 10: 'j',\n",
              " 11: 'k',\n",
              " 12: 'l',\n",
              " 13: 'm',\n",
              " 14: 'n',\n",
              " 15: 'o',\n",
              " 16: 'p',\n",
              " 17: 'q',\n",
              " 18: 'r',\n",
              " 19: 's',\n",
              " 20: 't',\n",
              " 21: 'u',\n",
              " 22: 'v',\n",
              " 23: 'w',\n",
              " 24: 'x',\n",
              " 25: 'y',\n",
              " 26: 'z'}"
            ]
          },
          "metadata": {},
          "execution_count": 17
        }
      ]
    }
  ],
  "metadata": {
    "kernelspec": {
      "display_name": "Python 3",
      "language": "python",
      "name": "python3"
    },
    "language_info": {
      "codemirror_mode": {
        "name": "ipython",
        "version": 3
      },
      "file_extension": ".py",
      "mimetype": "text/x-python",
      "name": "python",
      "nbconvert_exporter": "python",
      "pygments_lexer": "ipython3",
      "version": "3.8.10"
    },
    "colab": {
      "provenance": []
    }
  },
  "nbformat": 4,
  "nbformat_minor": 5
}