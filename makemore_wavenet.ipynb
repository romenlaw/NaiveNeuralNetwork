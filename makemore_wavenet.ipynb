{
  "cells": [
    {
      "cell_type": "markdown",
      "source": [
        "# Prepare"
      ],
      "metadata": {
        "id": "NvdOyP1BFJNR"
      },
      "id": "NvdOyP1BFJNR"
    },
    {
      "cell_type": "code",
      "source": [
        "!wget \"https://github.com/romenlaw/NaiveNeuralNetwork/blob/main/names.txt?raw=True\" -O names.txt"
      ],
      "metadata": {
        "colab": {
          "base_uri": "https://localhost:8080/"
        },
        "id": "aTe65882k-zj",
        "outputId": "abed3e07-3a17-4feb-bead-090c7f9240e7"
      },
      "id": "aTe65882k-zj",
      "execution_count": 176,
      "outputs": [
        {
          "output_type": "stream",
          "name": "stdout",
          "text": [
            "--2024-08-28 07:24:25--  https://github.com/romenlaw/NaiveNeuralNetwork/blob/main/names.txt?raw=True\n",
            "Resolving github.com (github.com)... 140.82.114.4\n",
            "Connecting to github.com (github.com)|140.82.114.4|:443... connected.\n",
            "HTTP request sent, awaiting response... 302 Found\n",
            "Location: https://github.com/romenlaw/NaiveNeuralNetwork/raw/main/names.txt [following]\n",
            "--2024-08-28 07:24:25--  https://github.com/romenlaw/NaiveNeuralNetwork/raw/main/names.txt\n",
            "Reusing existing connection to github.com:443.\n",
            "HTTP request sent, awaiting response... 302 Found\n",
            "Location: https://raw.githubusercontent.com/romenlaw/NaiveNeuralNetwork/main/names.txt [following]\n",
            "--2024-08-28 07:24:25--  https://raw.githubusercontent.com/romenlaw/NaiveNeuralNetwork/main/names.txt\n",
            "Resolving raw.githubusercontent.com (raw.githubusercontent.com)... 185.199.108.133, 185.199.109.133, 185.199.110.133, ...\n",
            "Connecting to raw.githubusercontent.com (raw.githubusercontent.com)|185.199.108.133|:443... connected.\n",
            "HTTP request sent, awaiting response... 200 OK\n",
            "Length: 228145 (223K) [text/plain]\n",
            "Saving to: ‘names.txt’\n",
            "\n",
            "names.txt           100%[===================>] 222.80K  --.-KB/s    in 0.05s   \n",
            "\n",
            "2024-08-28 07:24:26 (4.43 MB/s) - ‘names.txt’ saved [228145/228145]\n",
            "\n"
          ]
        }
      ]
    },
    {
      "cell_type": "code",
      "source": [
        "import torch\n",
        "import torch.nn.functional as F\n",
        "import matplotlib.pyplot as plt\n",
        "%matplotlib inline"
      ],
      "metadata": {
        "id": "11fMpYyJnSe1"
      },
      "id": "11fMpYyJnSe1",
      "execution_count": 177,
      "outputs": []
    },
    {
      "cell_type": "code",
      "source": [
        "words = open('names.txt', 'r').read().splitlines()\n",
        "len(words), max([len(w) for w in words]), words[:8]"
      ],
      "metadata": {
        "colab": {
          "base_uri": "https://localhost:8080/"
        },
        "id": "OQx5qdlxnxdz",
        "outputId": "454fd052-6f3b-4922-f12b-ca653bb48878"
      },
      "id": "OQx5qdlxnxdz",
      "execution_count": 178,
      "outputs": [
        {
          "output_type": "execute_result",
          "data": {
            "text/plain": [
              "(32033,\n",
              " 15,\n",
              " ['emma', 'olivia', 'ava', 'isabella', 'sophia', 'charlotte', 'mia', 'amelia'])"
            ]
          },
          "metadata": {},
          "execution_count": 178
        }
      ]
    },
    {
      "cell_type": "code",
      "source": [
        "vocab = sorted(list(set(''.join(words))))\n",
        "vocab.insert(0, '.')\n",
        "vocab_size = len(vocab)\n",
        "itos={i:s for i, s in zip(range(vocab_size), vocab)}\n",
        "stoi={s:i for i, s in zip(range(vocab_size), vocab)}"
      ],
      "metadata": {
        "id": "3DZ2MKTbn9wr"
      },
      "id": "3DZ2MKTbn9wr",
      "execution_count": 179,
      "outputs": []
    },
    {
      "cell_type": "code",
      "source": [
        "# build datasets: 80% training, 10% validation, 10% testing\n",
        "import random\n",
        "random.seed(42)\n",
        "random.shuffle(words) # shuffle is in-place\n",
        "\n",
        "\n",
        "block_size=3\n",
        "X, Y = [], []\n",
        "context = []\n",
        "for w in words:\n",
        "  context = [0] * block_size # context contains indices\n",
        "  for c in (w + '.'):\n",
        "    ix = stoi[c]\n",
        "    X.append(context)\n",
        "    Y.append(ix)\n",
        "    if c=='.':\n",
        "      break\n",
        "    context = context[1:] + [ix]\n",
        "\n",
        "n1 = int(len(X)*.8)\n",
        "n2 = int(len(X)*.9)\n",
        "X_train = torch.tensor(X[:n1])\n",
        "Y_train = torch.tensor(Y[:n1])\n",
        "X_val = torch.tensor(X[n1:n2])\n",
        "Y_val = torch.tensor(Y[n1:n2])\n",
        "X_test = torch.tensor(X[n2:])\n",
        "Y_test = torch.tensor(Y[n2:])\n",
        "\n",
        "X_train.shape, Y_train.shape, X_val.shape, Y_val.shape, X_test.shape, Y_test.shape"
      ],
      "metadata": {
        "colab": {
          "base_uri": "https://localhost:8080/"
        },
        "id": "KdYLaCVXp3Hz",
        "outputId": "311e569b-df8d-491e-9302-ca7a8966d7cf"
      },
      "id": "KdYLaCVXp3Hz",
      "execution_count": 180,
      "outputs": [
        {
          "output_type": "execute_result",
          "data": {
            "text/plain": [
              "(torch.Size([182516, 3]),\n",
              " torch.Size([182516]),\n",
              " torch.Size([22815, 3]),\n",
              " torch.Size([22815]),\n",
              " torch.Size([22815, 3]),\n",
              " torch.Size([22815]))"
            ]
          },
          "metadata": {},
          "execution_count": 180
        }
      ]
    },
    {
      "cell_type": "code",
      "source": [
        "X_val[:5], Y_val[:5]"
      ],
      "metadata": {
        "colab": {
          "base_uri": "https://localhost:8080/"
        },
        "id": "2TB4O_1_84D4",
        "outputId": "abd09b39-4c92-44bc-cdb2-71f928d77eb9"
      },
      "id": "2TB4O_1_84D4",
      "execution_count": 181,
      "outputs": [
        {
          "output_type": "execute_result",
          "data": {
            "text/plain": [
              "(tensor([[ 0,  5, 13],\n",
              "         [ 5, 13, 13],\n",
              "         [13, 13,  1],\n",
              "         [13,  1, 12],\n",
              "         [ 1, 12,  9]]),\n",
              " tensor([13,  1, 12,  9,  5]))"
            ]
          },
          "metadata": {},
          "execution_count": 181
        }
      ]
    },
    {
      "cell_type": "markdown",
      "source": [
        "# MLP"
      ],
      "metadata": {
        "id": "oiS-aoHoFNo7"
      },
      "id": "oiS-aoHoFNo7"
    },
    {
      "cell_type": "markdown",
      "source": [
        "## classes"
      ],
      "metadata": {
        "id": "dGFcxjwyOQCD"
      },
      "id": "dGFcxjwyOQCD"
    },
    {
      "cell_type": "code",
      "source": [
        "class Linear:\n",
        "  def __init__(self, fan_in, fan_out, bias=True):\n",
        "    self.weight = torch.randn((fan_in, fan_out)) / fan_in**0.5\n",
        "    self.bias = torch.zeros(fan_out) if bias else None\n",
        "\n",
        "  def __call__(self, x):\n",
        "    self.out = x @ self.weight\n",
        "    if self.bias is not None:\n",
        "      self.out += self.bias\n",
        "    return self.out\n",
        "\n",
        "  def parameters(self):\n",
        "    return [self.weight] + ([] if self.bias is None else [self.bias])\n",
        "\n",
        "class BatchNorm1d:\n",
        "  def __init__(self, dim, eps=1e-5, momentum=0.1):\n",
        "    self.eps=eps\n",
        "    self.momentum = momentum\n",
        "    self.training = True\n",
        "\n",
        "    self.gamma = torch.ones(dim)\n",
        "    self.beta = torch.zeros(dim)\n",
        "\n",
        "    self.running_mean = torch.zeros(dim)\n",
        "    self.running_var = torch.ones(dim)\n",
        "\n",
        "  def __call__(self, x):\n",
        "    if self.training:\n",
        "      xmean = x.mean(dim=0, keepdim=True)\n",
        "      xvar = x.var(dim=0, keepdim=True)\n",
        "      with torch.no_grad():\n",
        "        self.running_mean = (1-self.momentum)*self.running_mean + self.momentum*xmean\n",
        "        self.running_var = (1-self.momentum)*self.running_var + self.momentum*xvar\n",
        "    else:\n",
        "      xmean = self.running_mean\n",
        "      xvar = self.running_var\n",
        "\n",
        "    x_hat = (x - xmean) / (xvar + self.eps)**0.5\n",
        "    self.out = self.gamma * x_hat + self.beta\n",
        "\n",
        "    return self.out\n",
        "\n",
        "  def parameters(self):\n",
        "    return [self.gamma, self.beta]\n",
        "\n",
        "class Tanh:\n",
        "  def __call__(self, x):\n",
        "    self.out = torch.tanh(x)\n",
        "    return self.out\n",
        "\n",
        "  def parameters(self):\n",
        "    return []\n",
        "\n",
        "class Flatten:\n",
        "  def __call__(self, x):\n",
        "    self.out = x.view(x.shape[0], -1)\n",
        "    return self.out\n",
        "\n",
        "  def parameters(self):\n",
        "    return []\n",
        "\n",
        "class Embedding:\n",
        "  def __init__(self, num_embeddings, embedding_dim):\n",
        "    \"\"\"num_embeddings is the vocab size,\n",
        "    embedding_dim is the dimension of the embedded vector\n",
        "    \"\"\"\n",
        "    self.weight = torch.randn((num_embeddings, embedding_dim))\n",
        "\n",
        "  def __call__(self, IX):\n",
        "    self.out = self.weight[IX]\n",
        "    return self.out\n",
        "\n",
        "  def parameters(self):\n",
        "    return [self.weight]\n",
        "\n",
        "# mimic torch.nn.Sequential\n",
        "class Sequential:\n",
        "  def __init__(self, layers):\n",
        "    self.layers = layers\n",
        "\n",
        "  def __call__(self, x):\n",
        "    for layer in self.layers:\n",
        "      x = layer(x)\n",
        "\n",
        "    self.out = x\n",
        "    return self.out\n",
        "\n",
        "  def parameters(self):\n",
        "    return [p for layer in self.layers for p in layer.parameters()]"
      ],
      "metadata": {
        "id": "bUWE4oJ8HM80"
      },
      "id": "bUWE4oJ8HM80",
      "execution_count": 182,
      "outputs": []
    },
    {
      "cell_type": "markdown",
      "source": [
        "## initialisation"
      ],
      "metadata": {
        "id": "UciEFr6GOR4c"
      },
      "id": "UciEFr6GOR4c"
    },
    {
      "cell_type": "code",
      "source": [
        "torch.manual_seed(42)\n",
        "\n",
        "emb_dim = 10\n",
        "hidden_dim = 200\n",
        "\n",
        "#C = torch.randn((vocab_size, emb_dim))\n",
        "model = Sequential([ Embedding(vocab_size, emb_dim),\n",
        "    Flatten(),\n",
        "    Linear(emb_dim*block_size, hidden_dim, bias=False), BatchNorm1d(hidden_dim), Tanh(),\n",
        "    Linear(hidden_dim, vocab_size) # output layer\n",
        "])\n",
        "with torch.no_grad():\n",
        "  model.layers[-1].weight *= 0.1 # make output layer less confident(ly wrong)\n",
        "\n",
        "parameters = model.parameters()\n",
        "for p in parameters:\n",
        "  p.requires_grad=True\n",
        "print(sum(p.nelement() for p in parameters))"
      ],
      "metadata": {
        "colab": {
          "base_uri": "https://localhost:8080/"
        },
        "id": "MqPChrKsIlg0",
        "outputId": "1f560715-26d4-4507-956d-b6dc134cd2f5"
      },
      "id": "MqPChrKsIlg0",
      "execution_count": 183,
      "outputs": [
        {
          "output_type": "stream",
          "name": "stdout",
          "text": [
            "12097\n"
          ]
        }
      ]
    },
    {
      "cell_type": "code",
      "source": [
        "emb_dim*block_size * hidden_dim + hidden_dim*2 + hidden_dim*vocab_size +vocab_size+ vocab_size * emb_dim"
      ],
      "metadata": {
        "colab": {
          "base_uri": "https://localhost:8080/"
        },
        "id": "sYN-SXO6SxjU",
        "outputId": "aee1ac2e-40b3-4d45-e31e-355b5b20619f"
      },
      "id": "sYN-SXO6SxjU",
      "execution_count": 184,
      "outputs": [
        {
          "output_type": "execute_result",
          "data": {
            "text/plain": [
              "12097"
            ]
          },
          "metadata": {},
          "execution_count": 184
        }
      ]
    },
    {
      "cell_type": "markdown",
      "source": [
        "## training"
      ],
      "metadata": {
        "id": "buAWT-KqWXVX"
      },
      "id": "buAWT-KqWXVX"
    },
    {
      "cell_type": "code",
      "source": [
        "max_steps=200000\n",
        "batch_size=32\n",
        "lossi=[]\n",
        "\n",
        "for step in range(max_steps):\n",
        "  # create mini_batch\n",
        "  ix = torch.randint(0, X_train.shape[0], size=(batch_size,))\n",
        "  Xb, Yb = X_train[ix], Y_train[ix]\n",
        "\n",
        "  # forward pass\n",
        "  logits = model(Xb)\n",
        "  loss = F.cross_entropy(logits, Yb)\n",
        "\n",
        "  # backward pass\n",
        "  for p in parameters:\n",
        "    p.grad=None\n",
        "  loss.backward()\n",
        "\n",
        "  # update\n",
        "  lr = 0.1 if step<150000 else 0.01\n",
        "  for p in parameters:\n",
        "    p.data += -lr * p.grad\n",
        "\n",
        "  if step % 10000 ==0:\n",
        "    print('%7d/%7d: %2.10f' % (step, max_steps, loss))\n",
        "  lossi.append(loss.log10().item())\n",
        "\n",
        "  #break\n",
        "print('%7d/%7d: %2.10f' % (step, max_steps, loss))"
      ],
      "metadata": {
        "colab": {
          "base_uri": "https://localhost:8080/"
        },
        "id": "-aXTRRcKWZ3t",
        "outputId": "23b8bfef-0db6-47eb-d7c0-0abf60572949"
      },
      "id": "-aXTRRcKWZ3t",
      "execution_count": 185,
      "outputs": [
        {
          "output_type": "stream",
          "name": "stdout",
          "text": [
            "      0/ 200000: 3.3003702164\n",
            "  10000/ 200000: 2.1085405350\n",
            "  20000/ 200000: 2.3290817738\n",
            "  30000/ 200000: 1.6030472517\n",
            "  40000/ 200000: 2.4885463715\n",
            "  50000/ 200000: 2.0115578175\n",
            "  60000/ 200000: 2.2257134914\n",
            "  70000/ 200000: 2.1586527824\n",
            "  80000/ 200000: 2.0268161297\n",
            "  90000/ 200000: 2.1670222282\n",
            " 100000/ 200000: 2.2194030285\n",
            " 110000/ 200000: 2.1583428383\n",
            " 120000/ 200000: 1.9354140759\n",
            " 130000/ 200000: 2.1548991203\n",
            " 140000/ 200000: 2.3096802235\n",
            " 150000/ 200000: 2.2370171547\n",
            " 160000/ 200000: 2.3697721958\n",
            " 170000/ 200000: 2.3375580311\n",
            " 180000/ 200000: 1.9814860821\n",
            " 190000/ 200000: 2.0498743057\n",
            " 199999/ 200000: 1.9245462418\n"
          ]
        }
      ]
    },
    {
      "cell_type": "code",
      "source": [
        "fig, (ax1, ax2) = plt.subplots(1, 2, figsize=(10, 3))\n",
        "ax1.plot(lossi)\n",
        "ax2.plot(torch.tensor(lossi).view(-1, 1000).mean(1))"
      ],
      "metadata": {
        "colab": {
          "base_uri": "https://localhost:8080/",
          "height": 308
        },
        "id": "WN6gFzY6e6M7",
        "outputId": "0ff14640-29cf-415a-d28e-e8e39683f35d"
      },
      "id": "WN6gFzY6e6M7",
      "execution_count": 186,
      "outputs": [
        {
          "output_type": "execute_result",
          "data": {
            "text/plain": [
              "[<matplotlib.lines.Line2D at 0x7de0f60de2f0>]"
            ]
          },
          "metadata": {},
          "execution_count": 186
        },
        {
          "output_type": "display_data",
          "data": {
            "text/plain": [
              "<Figure size 1000x300 with 2 Axes>"
            ],
            "image/png": "[encoded data removed]"
          },
          "metadata": {}
        }
      ]
    },
    {
      "cell_type": "markdown",
      "source": [
        "## validate"
      ],
      "metadata": {
        "id": "R6JTa0E4cEqa"
      },
      "id": "R6JTa0E4cEqa"
    },
    {
      "cell_type": "code",
      "source": [
        "for layer in model.layers:\n",
        "  layer.training = False\n",
        "\n",
        "@torch.no_grad()\n",
        "def split_loss(s):\n",
        "  \"\"\"s is one of 'train', 'val', 'test'\n",
        "  \"\"\"\n",
        "  xs, ys = { 'train': (X_train, Y_train),\n",
        "          'val': (X_val, Y_val,),\n",
        "           'test': (X_test, Y_test)}[s]\n",
        "  # forward pass\n",
        "  logits = model(xs)\n",
        "  loss = F.cross_entropy(logits, ys)\n",
        "  print(s, loss.item())\n",
        "\n",
        "split_loss('train')\n",
        "split_loss('val')"
      ],
      "metadata": {
        "colab": {
          "base_uri": "https://localhost:8080/"
        },
        "id": "sOwCcfuBcGTX",
        "outputId": "7c8c28ec-2759-4801-e817-6bb03e4c9ad7"
      },
      "id": "sOwCcfuBcGTX",
      "execution_count": 187,
      "outputs": [
        {
          "output_type": "stream",
          "name": "stdout",
          "text": [
            "train 2.0599002838134766\n",
            "val 2.10386061668396\n"
          ]
        }
      ]
    },
    {
      "cell_type": "markdown",
      "source": [
        "## Sample"
      ],
      "metadata": {
        "id": "1CWWv1zkhIIW"
      },
      "id": "1CWWv1zkhIIW"
    },
    {
      "cell_type": "code",
      "source": [
        "with torch.no_grad():\n",
        "  for _ in range(20):\n",
        "    out=[]\n",
        "    context=[0]*block_size\n",
        "\n",
        "    while True:\n",
        "      logits = model(torch.tensor([context]))\n",
        "\n",
        "      probs = F.softmax(logits, dim=1)\n",
        "      ix = torch.multinomial(probs, num_samples=1)\n",
        "      context = context[1:]+[ix]\n",
        "      out.append(ix.item())\n",
        "      if ix==0:\n",
        "        break\n",
        "    print(''.join(itos[i] for i in out))"
      ],
      "metadata": {
        "colab": {
          "base_uri": "https://localhost:8080/"
        },
        "id": "TlEoCaH-hJiT",
        "outputId": "a0f3cbbf-8379-4cab-96c3-492b6fafebdc"
      },
      "id": "TlEoCaH-hJiT",
      "execution_count": 188,
      "outputs": [
        {
          "output_type": "stream",
          "name": "stdout",
          "text": [
            "damiara.\n",
            "alyzan.\n",
            "fard.\n",
            "maden.\n",
            "shayah.\n",
            "ayvorie.\n",
            "rossot.\n",
            "emon.\n",
            "catine.\n",
            "aib.\n",
            "alittt.\n",
            "grachiri.\n",
            "jemin.\n",
            "ana.\n",
            "alynna.\n",
            "jamaurole.\n",
            "farashton.\n",
            "serikia.\n",
            "cer.\n",
            "tyra.\n"
          ]
        }
      ]
    }
  ],
  "metadata": {
    "kernelspec": {
      "display_name": "Python 3",
      "language": "python",
      "name": "python3"
    },
    "language_info": {
      "codemirror_mode": {
        "name": "ipython",
        "version": 3
      },
      "file_extension": ".py",
      "mimetype": "text/x-python",
      "name": "python",
      "nbconvert_exporter": "python",
      "pygments_lexer": "ipython3",
      "version": "3.8.10"
    },
    "colab": {
      "provenance": [],
      "toc_visible": true
    }
  },
  "nbformat": 4,
  "nbformat_minor": 5
}