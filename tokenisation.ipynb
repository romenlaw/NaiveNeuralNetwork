{
  "metadata": {
    "colab": {
      "provenance": [],
      "include_colab_link": true
    },
    "language_info": {
      "name": "python",
      "version": "3.10.14",
      "mimetype": "text/x-python",
      "codemirror_mode": {
        "name": "ipython",
        "version": 3
      },
      "pygments_lexer": "ipython3",
      "nbconvert_exporter": "python",
      "file_extension": ".py"
    },
    "kernelspec": {
      "name": "python3",
      "display_name": "Python 3",
      "language": "python"
    },
    "kaggle": {
      "accelerator": "none",
      "dataSources": [],
      "dockerImageVersionId": 30761,
      "isInternetEnabled": true,
      "language": "python",
      "sourceType": "notebook",
      "isGpuEnabled": false
    }
  },
  "nbformat_minor": 5,
  "nbformat": 4,
  "cells": [
    {
      "cell_type": "markdown",
      "metadata": {
        "id": "view-in-github",
        "colab_type": "text"
      },
      "source": [
        "<a href=\"https://colab.research.google.com/github/romenlaw/NaiveNeuralNetwork/blob/main/tokenisation.ipynb\" target=\"_parent\"><img src=\"https://colab.research.google.com/assets/colab-badge.svg\" alt=\"Open In Colab\"/></a>"
      ]
    },
    {
      "cell_type": "code",
      "source": [
        "!wget \"https://raw.githubusercontent.com/karpathy/char-rnn/master/data/tinyshakespeare/input.txt\""
      ],
      "metadata": {
        "id": "Kz9fUsPqjt6X"
      },
      "id": "Kz9fUsPqjt6X",
      "execution_count": null,
      "outputs": []
    },
    {
      "cell_type": "markdown",
      "source": [
        "* https://tiktokenizer.vercel.app/\n",
        "* [MEGABYTE: Predicting Million-byte Sequences with Multiscale Transformers](https://arxiv.org/abs/2305.07185)\n",
        "* https://en.wikipedia.org/wiki/Byte_pair_encoding"
      ],
      "metadata": {
        "id": "-szfcw647M4C"
      },
      "id": "-szfcw647M4C"
    },
    {
      "cell_type": "code",
      "source": [
        "s=\"\"\"Hello world! 世界这么大，我想去看看。看一看，瞧一瞧了啊！我瞧瞧！\n",
        "👋🌍\n",
        "121 + 458 = 679\n",
        "1215 - 121 = 1094\n",
        "-1215 + 121 = -1094\n",
        "\n",
        "Some python code here:\n",
        "# List of numbers\n",
        "numbers = [1, 2, 3, 4, 5, 6, 7, 8, 9, 10]\n",
        "\n",
        "# Loop through each number in the list\n",
        "for number in numbers:\n",
        "    # Check if the number is even\n",
        "    if number % 2 == 0:\n",
        "        print(f\"{number} is even\")\n",
        "    # Check if the number is odd\n",
        "    else:\n",
        "        print(f\"{number} is odd\")\n",
        "\"\"\"\n",
        "[list(x.encode(\"utf-8\")) for x in s[:50]]"
      ],
      "metadata": {
        "colab": {
          "base_uri": "https://localhost:8080/"
        },
        "id": "kOM2eDdB7a_h",
        "outputId": "61e65305-7ac6-4a3a-d747-d37f4311238f"
      },
      "execution_count": 1,
      "outputs": [
        {
          "output_type": "execute_result",
          "data": {
            "text/plain": [
              "[[72],\n",
              " [101],\n",
              " [108],\n",
              " [108],\n",
              " [111],\n",
              " [32],\n",
              " [119],\n",
              " [111],\n",
              " [114],\n",
              " [108],\n",
              " [100],\n",
              " [33],\n",
              " [32],\n",
              " [228, 184, 150],\n",
              " [231, 149, 140],\n",
              " [232, 191, 153],\n",
              " [228, 185, 136],\n",
              " [229, 164, 167],\n",
              " [239, 188, 140],\n",
              " [230, 136, 145],\n",
              " [230, 131, 179],\n",
              " [229, 142, 187],\n",
              " [231, 156, 139],\n",
              " [231, 156, 139],\n",
              " [227, 128, 130],\n",
              " [231, 156, 139],\n",
              " [228, 184, 128],\n",
              " [231, 156, 139],\n",
              " [239, 188, 140],\n",
              " [231, 158, 167],\n",
              " [228, 184, 128],\n",
              " [231, 158, 167],\n",
              " [228, 186, 134],\n",
              " [229, 149, 138],\n",
              " [239, 188, 129],\n",
              " [230, 136, 145],\n",
              " [231, 158, 167],\n",
              " [231, 158, 167],\n",
              " [239, 188, 129],\n",
              " [10],\n",
              " [240, 159, 145, 139],\n",
              " [240, 159, 140, 141],\n",
              " [10],\n",
              " [49],\n",
              " [50],\n",
              " [49],\n",
              " [32],\n",
              " [43],\n",
              " [32],\n",
              " [52]]"
            ]
          },
          "metadata": {},
          "execution_count": 1
        }
      ],
      "id": "kOM2eDdB7a_h"
    },
    {
      "cell_type": "code",
      "source": [
        "[ord(x) for x in s[:50]]"
      ],
      "metadata": {
        "id": "iHd9V14pHqtT",
        "outputId": "d94d0aad-3ddf-4269-ae94-b59ace622c44",
        "colab": {
          "base_uri": "https://localhost:8080/"
        }
      },
      "execution_count": 2,
      "outputs": [
        {
          "output_type": "execute_result",
          "data": {
            "text/plain": [
              "[72,\n",
              " 101,\n",
              " 108,\n",
              " 108,\n",
              " 111,\n",
              " 32,\n",
              " 119,\n",
              " 111,\n",
              " 114,\n",
              " 108,\n",
              " 100,\n",
              " 33,\n",
              " 32,\n",
              " 19990,\n",
              " 30028,\n",
              " 36825,\n",
              " 20040,\n",
              " 22823,\n",
              " 65292,\n",
              " 25105,\n",
              " 24819,\n",
              " 21435,\n",
              " 30475,\n",
              " 30475,\n",
              " 12290,\n",
              " 30475,\n",
              " 19968,\n",
              " 30475,\n",
              " 65292,\n",
              " 30631,\n",
              " 19968,\n",
              " 30631,\n",
              " 20102,\n",
              " 21834,\n",
              " 65281,\n",
              " 25105,\n",
              " 30631,\n",
              " 30631,\n",
              " 65281,\n",
              " 10,\n",
              " 128075,\n",
              " 127757,\n",
              " 10,\n",
              " 49,\n",
              " 50,\n",
              " 49,\n",
              " 32,\n",
              " 43,\n",
              " 32,\n",
              " 52]"
            ]
          },
          "metadata": {},
          "execution_count": 2
        }
      ],
      "id": "iHd9V14pHqtT"
    },
    {
      "cell_type": "code",
      "source": [
        "len('世世界')"
      ],
      "metadata": {
        "id": "JQBBr0giGBlK",
        "outputId": "727101ae-2c3e-48fd-901a-52a9a0506739",
        "colab": {
          "base_uri": "https://localhost:8080/"
        }
      },
      "execution_count": 3,
      "outputs": [
        {
          "output_type": "execute_result",
          "data": {
            "text/plain": [
              "3"
            ]
          },
          "metadata": {},
          "execution_count": 3
        }
      ],
      "id": "JQBBr0giGBlK"
    },
    {
      "cell_type": "markdown",
      "source": [
        "# Byte Pair encoding"
      ],
      "metadata": {
        "id": "gJawlg0aJ9H6"
      },
      "id": "gJawlg0aJ9H6"
    },
    {
      "cell_type": "code",
      "source": [
        "raw_bytes = [x for x in s.encode('utf-8')]\n",
        "print(s, len(s), len(raw_bytes), raw_bytes)"
      ],
      "metadata": {
        "id": "tGjT7IOFJ_Sy",
        "outputId": "fe52b203-b008-41d8-daee-3b45b774a7a1",
        "colab": {
          "base_uri": "https://localhost:8080/"
        }
      },
      "execution_count": 4,
      "outputs": [
        {
          "output_type": "stream",
          "name": "stdout",
          "text": [
            "Hello world! 世界这么大，我想去看看。看一看，瞧一瞧了啊！我瞧瞧！\n",
            "👋🌍\n",
            "121 + 458 = 679\n",
            "1215 - 121 = 1094\n",
            "-1215 + 121 = -1094\n",
            "\n",
            "Some python code here:\n",
            "# List of numbers\n",
            "numbers = [1, 2, 3, 4, 5, 6, 7, 8, 9, 10]\n",
            "\n",
            "# Loop through each number in the list\n",
            "for number in numbers:\n",
            "    # Check if the number is even\n",
            "    if number % 2 == 0:\n",
            "        print(f\"{number} is even\")\n",
            "    # Check if the number is odd\n",
            "    else:\n",
            "        print(f\"{number} is odd\")\n",
            " 414 472 [72, 101, 108, 108, 111, 32, 119, 111, 114, 108, 100, 33, 32, 228, 184, 150, 231, 149, 140, 232, 191, 153, 228, 185, 136, 229, 164, 167, 239, 188, 140, 230, 136, 145, 230, 131, 179, 229, 142, 187, 231, 156, 139, 231, 156, 139, 227, 128, 130, 231, 156, 139, 228, 184, 128, 231, 156, 139, 239, 188, 140, 231, 158, 167, 228, 184, 128, 231, 158, 167, 228, 186, 134, 229, 149, 138, 239, 188, 129, 230, 136, 145, 231, 158, 167, 231, 158, 167, 239, 188, 129, 10, 240, 159, 145, 139, 240, 159, 140, 141, 10, 49, 50, 49, 32, 43, 32, 52, 53, 56, 32, 61, 32, 54, 55, 57, 10, 49, 50, 49, 53, 32, 45, 32, 49, 50, 49, 32, 61, 32, 49, 48, 57, 52, 10, 45, 49, 50, 49, 53, 32, 43, 32, 49, 50, 49, 32, 61, 32, 45, 49, 48, 57, 52, 10, 10, 83, 111, 109, 101, 32, 112, 121, 116, 104, 111, 110, 32, 99, 111, 100, 101, 32, 104, 101, 114, 101, 58, 10, 35, 32, 76, 105, 115, 116, 32, 111, 102, 32, 110, 117, 109, 98, 101, 114, 115, 10, 110, 117, 109, 98, 101, 114, 115, 32, 61, 32, 91, 49, 44, 32, 50, 44, 32, 51, 44, 32, 52, 44, 32, 53, 44, 32, 54, 44, 32, 55, 44, 32, 56, 44, 32, 57, 44, 32, 49, 48, 93, 10, 10, 35, 32, 76, 111, 111, 112, 32, 116, 104, 114, 111, 117, 103, 104, 32, 101, 97, 99, 104, 32, 110, 117, 109, 98, 101, 114, 32, 105, 110, 32, 116, 104, 101, 32, 108, 105, 115, 116, 10, 102, 111, 114, 32, 110, 117, 109, 98, 101, 114, 32, 105, 110, 32, 110, 117, 109, 98, 101, 114, 115, 58, 10, 32, 32, 32, 32, 35, 32, 67, 104, 101, 99, 107, 32, 105, 102, 32, 116, 104, 101, 32, 110, 117, 109, 98, 101, 114, 32, 105, 115, 32, 101, 118, 101, 110, 10, 32, 32, 32, 32, 105, 102, 32, 110, 117, 109, 98, 101, 114, 32, 37, 32, 50, 32, 61, 61, 32, 48, 58, 10, 32, 32, 32, 32, 32, 32, 32, 32, 112, 114, 105, 110, 116, 40, 102, 34, 123, 110, 117, 109, 98, 101, 114, 125, 32, 105, 115, 32, 101, 118, 101, 110, 34, 41, 10, 32, 32, 32, 32, 35, 32, 67, 104, 101, 99, 107, 32, 105, 102, 32, 116, 104, 101, 32, 110, 117, 109, 98, 101, 114, 32, 105, 115, 32, 111, 100, 100, 10, 32, 32, 32, 32, 101, 108, 115, 101, 58, 10, 32, 32, 32, 32, 32, 32, 32, 32, 112, 114, 105, 110, 116, 40, 102, 34, 123, 110, 117, 109, 98, 101, 114, 125, 32, 105, 115, 32, 111, 100, 100, 34, 41, 10]\n"
          ]
        }
      ],
      "id": "tGjT7IOFJ_Sy"
    },
    {
      "cell_type": "code",
      "source": [
        "def count_bytepairs(bytes):\n",
        "  counts = {}\n",
        "  for pair in zip(bytes, bytes[1:]):\n",
        "    counts[pair] = counts.get(pair, 0) + 1\n",
        "  counts = dict(sorted(counts.items(), key=lambda item: item[1], reverse=True))\n",
        "  return counts"
      ],
      "metadata": {
        "id": "ok0mtSsXLCcy"
      },
      "execution_count": 5,
      "outputs": [],
      "id": "ok0mtSsXLCcy"
    },
    {
      "cell_type": "code",
      "source": [
        "counts = count_bytepairs(raw_bytes)"
      ],
      "metadata": {
        "id": "HbacMk1XMZmS"
      },
      "execution_count": 6,
      "outputs": [],
      "id": "HbacMk1XMZmS"
    },
    {
      "cell_type": "code",
      "source": [
        "len(counts), list(counts)[:5]"
      ],
      "metadata": {
        "id": "H-7C7WqmM6by",
        "outputId": "76374cf3-d4b4-467c-90df-4283fb0e715d",
        "colab": {
          "base_uri": "https://localhost:8080/"
        }
      },
      "execution_count": 7,
      "outputs": [
        {
          "output_type": "execute_result",
          "data": {
            "text/plain": [
              "(224, [(32, 32), (101, 114), (110, 117), (117, 109), (109, 98)])"
            ]
          },
          "metadata": {},
          "execution_count": 7
        }
      ],
      "id": "H-7C7WqmM6by"
    },
    {
      "cell_type": "code",
      "source": [
        "counts"
      ],
      "metadata": {
        "colab": {
          "base_uri": "https://localhost:8080/"
        },
        "id": "EpfBUqsoSMMc",
        "outputId": "3e6bdefe-278c-416b-be83-ed7bbf0bc7a2"
      },
      "execution_count": 8,
      "outputs": [
        {
          "output_type": "execute_result",
          "data": {
            "text/plain": [
              "{(32, 32): 26,\n",
              " (101, 114): 11,\n",
              " (110, 117): 10,\n",
              " (117, 109): 10,\n",
              " (109, 98): 10,\n",
              " (98, 101): 10,\n",
              " (44, 32): 9,\n",
              " (32, 105): 9,\n",
              " (32, 110): 7,\n",
              " (104, 101): 6,\n",
              " (105, 115): 6,\n",
              " (114, 32): 6,\n",
              " (10, 32): 6,\n",
              " (49, 50): 5,\n",
              " (50, 49): 5,\n",
              " (32, 61): 5,\n",
              " (61, 32): 5,\n",
              " (101, 32): 5,\n",
              " (116, 104): 5,\n",
              " (115, 32): 5,\n",
              " (239, 188): 4,\n",
              " (231, 156): 4,\n",
              " (156, 139): 4,\n",
              " (231, 158): 4,\n",
              " (158, 167): 4,\n",
              " (32, 49): 4,\n",
              " (58, 10): 4,\n",
              " (35, 32): 4,\n",
              " (102, 32): 4,\n",
              " (32, 116): 4,\n",
              " (32, 101): 4,\n",
              " (105, 110): 4,\n",
              " (228, 184): 3,\n",
              " (49, 32): 3,\n",
              " (49, 48): 3,\n",
              " (32, 112): 3,\n",
              " (110, 32): 3,\n",
              " (111, 100): 3,\n",
              " (32, 111): 3,\n",
              " (114, 115): 3,\n",
              " (105, 102): 3,\n",
              " (101, 108): 2,\n",
              " (111, 114): 2,\n",
              " (167, 239): 2,\n",
              " (188, 140): 2,\n",
              " (230, 136): 2,\n",
              " (136, 145): 2,\n",
              " (184, 128): 2,\n",
              " (128, 231): 2,\n",
              " (167, 228): 2,\n",
              " (188, 129): 2,\n",
              " (240, 159): 2,\n",
              " (10, 49): 2,\n",
              " (32, 43): 2,\n",
              " (43, 32): 2,\n",
              " (32, 52): 2,\n",
              " (32, 54): 2,\n",
              " (49, 53): 2,\n",
              " (53, 32): 2,\n",
              " (32, 45): 2,\n",
              " (48, 57): 2,\n",
              " (57, 52): 2,\n",
              " (52, 10): 2,\n",
              " (45, 49): 2,\n",
              " (10, 10): 2,\n",
              " (101, 58): 2,\n",
              " (10, 35): 2,\n",
              " (32, 76): 2,\n",
              " (115, 116): 2,\n",
              " (32, 50): 2,\n",
              " (104, 32): 2,\n",
              " (32, 35): 2,\n",
              " (32, 67): 2,\n",
              " (67, 104): 2,\n",
              " (101, 99): 2,\n",
              " (99, 107): 2,\n",
              " (107, 32): 2,\n",
              " (101, 118): 2,\n",
              " (118, 101): 2,\n",
              " (101, 110): 2,\n",
              " (112, 114): 2,\n",
              " (114, 105): 2,\n",
              " (110, 116): 2,\n",
              " (116, 40): 2,\n",
              " (40, 102): 2,\n",
              " (102, 34): 2,\n",
              " (34, 123): 2,\n",
              " (123, 110): 2,\n",
              " (114, 125): 2,\n",
              " (125, 32): 2,\n",
              " (34, 41): 2,\n",
              " (41, 10): 2,\n",
              " (100, 100): 2,\n",
              " (72, 101): 1,\n",
              " (108, 108): 1,\n",
              " (108, 111): 1,\n",
              " (111, 32): 1,\n",
              " (32, 119): 1,\n",
              " (119, 111): 1,\n",
              " (114, 108): 1,\n",
              " (108, 100): 1,\n",
              " (100, 33): 1,\n",
              " (33, 32): 1,\n",
              " (32, 228): 1,\n",
              " (184, 150): 1,\n",
              " (150, 231): 1,\n",
              " (231, 149): 1,\n",
              " (149, 140): 1,\n",
              " (140, 232): 1,\n",
              " (232, 191): 1,\n",
              " (191, 153): 1,\n",
              " (153, 228): 1,\n",
              " (228, 185): 1,\n",
              " (185, 136): 1,\n",
              " (136, 229): 1,\n",
              " (229, 164): 1,\n",
              " (164, 167): 1,\n",
              " (140, 230): 1,\n",
              " (145, 230): 1,\n",
              " (230, 131): 1,\n",
              " (131, 179): 1,\n",
              " (179, 229): 1,\n",
              " (229, 142): 1,\n",
              " (142, 187): 1,\n",
              " (187, 231): 1,\n",
              " (139, 231): 1,\n",
              " (139, 227): 1,\n",
              " (227, 128): 1,\n",
              " (128, 130): 1,\n",
              " (130, 231): 1,\n",
              " (139, 228): 1,\n",
              " (139, 239): 1,\n",
              " (140, 231): 1,\n",
              " (228, 186): 1,\n",
              " (186, 134): 1,\n",
              " (134, 229): 1,\n",
              " (229, 149): 1,\n",
              " (149, 138): 1,\n",
              " (138, 239): 1,\n",
              " (129, 230): 1,\n",
              " (145, 231): 1,\n",
              " (167, 231): 1,\n",
              " (129, 10): 1,\n",
              " (10, 240): 1,\n",
              " (159, 145): 1,\n",
              " (145, 139): 1,\n",
              " (139, 240): 1,\n",
              " (159, 140): 1,\n",
              " (140, 141): 1,\n",
              " (141, 10): 1,\n",
              " (52, 53): 1,\n",
              " (53, 56): 1,\n",
              " (56, 32): 1,\n",
              " (54, 55): 1,\n",
              " (55, 57): 1,\n",
              " (57, 10): 1,\n",
              " (45, 32): 1,\n",
              " (10, 45): 1,\n",
              " (10, 83): 1,\n",
              " (83, 111): 1,\n",
              " (111, 109): 1,\n",
              " (109, 101): 1,\n",
              " (112, 121): 1,\n",
              " (121, 116): 1,\n",
              " (104, 111): 1,\n",
              " (111, 110): 1,\n",
              " (32, 99): 1,\n",
              " (99, 111): 1,\n",
              " (100, 101): 1,\n",
              " (32, 104): 1,\n",
              " (114, 101): 1,\n",
              " (76, 105): 1,\n",
              " (116, 32): 1,\n",
              " (111, 102): 1,\n",
              " (115, 10): 1,\n",
              " (10, 110): 1,\n",
              " (32, 91): 1,\n",
              " (91, 49): 1,\n",
              " (49, 44): 1,\n",
              " (50, 44): 1,\n",
              " (32, 51): 1,\n",
              " (51, 44): 1,\n",
              " (52, 44): 1,\n",
              " (32, 53): 1,\n",
              " (53, 44): 1,\n",
              " (54, 44): 1,\n",
              " (32, 55): 1,\n",
              " (55, 44): 1,\n",
              " (32, 56): 1,\n",
              " (56, 44): 1,\n",
              " (32, 57): 1,\n",
              " (57, 44): 1,\n",
              " (48, 93): 1,\n",
              " (93, 10): 1,\n",
              " (76, 111): 1,\n",
              " (111, 111): 1,\n",
              " (111, 112): 1,\n",
              " (112, 32): 1,\n",
              " (104, 114): 1,\n",
              " (114, 111): 1,\n",
              " (111, 117): 1,\n",
              " (117, 103): 1,\n",
              " (103, 104): 1,\n",
              " (101, 97): 1,\n",
              " (97, 99): 1,\n",
              " (99, 104): 1,\n",
              " (32, 108): 1,\n",
              " (108, 105): 1,\n",
              " (116, 10): 1,\n",
              " (10, 102): 1,\n",
              " (102, 111): 1,\n",
              " (115, 58): 1,\n",
              " (110, 10): 1,\n",
              " (32, 37): 1,\n",
              " (37, 32): 1,\n",
              " (50, 32): 1,\n",
              " (61, 61): 1,\n",
              " (32, 48): 1,\n",
              " (48, 58): 1,\n",
              " (110, 34): 1,\n",
              " (100, 10): 1,\n",
              " (108, 115): 1,\n",
              " (115, 101): 1,\n",
              " (100, 34): 1}"
            ]
          },
          "metadata": {},
          "execution_count": 8
        }
      ],
      "id": "EpfBUqsoSMMc"
    },
    {
      "cell_type": "code",
      "source": [
        "# utf-8 stops at 255, so our new tokens will start at 256\n",
        "\n",
        "def merge_pair(raw_bytes, pair):\n",
        "  \"\"\"pair is a list containing two integers, representing the utf-8 code of\n",
        "  the 2 characters to be replaced\n",
        "  \"\"\"\n",
        "  assert isinstance(pair, list) and len(pair)==2, \"pair must be a list of two integers\"\n",
        "  max_val = max(raw_bytes)\n",
        "  NEW_TOKEN = [256 if max_val<256 else max_val+1]\n",
        "  for i in range(len(raw_bytes)-1, 0, -1):  # loop backwards\n",
        "    #print(i-1, i)\n",
        "    if raw_bytes[i-1:i+1] == pair:\n",
        "      raw_bytes[i-1:i+1] = NEW_TOKEN\n",
        "\n",
        "  return raw_bytes\n"
      ],
      "metadata": {
        "id": "B7zczb9qd43p"
      },
      "execution_count": 9,
      "outputs": [],
      "id": "B7zczb9qd43p"
    },
    {
      "cell_type": "code",
      "source": [
        "out = merge_pair(raw_bytes, [32,32])\n",
        "len(out)"
      ],
      "metadata": {
        "colab": {
          "base_uri": "https://localhost:8080/"
        },
        "id": "V6Wjt6LEukF6",
        "outputId": "8e82ab72-6f62-4cf4-986a-8348fcaeb65b"
      },
      "execution_count": 10,
      "outputs": [
        {
          "output_type": "execute_result",
          "data": {
            "text/plain": [
              "456"
            ]
          },
          "metadata": {},
          "execution_count": 10
        }
      ],
      "id": "V6Wjt6LEukF6"
    },
    {
      "cell_type": "code",
      "source": [
        "counts = count_bytepairs(raw_bytes)\n",
        "key, value = next(iter(counts.items())) # get first entry of dict\n",
        "while value>1:\n",
        "  for pair, count in counts.items():\n",
        "    if count>1:\n",
        "      merge_pair(raw_bytes, list(pair))\n",
        "    else:\n",
        "      break\n",
        "  counts = count_bytepairs(raw_bytes)\n",
        "  key, value = next(iter(counts.items())) # get first entry of dict"
      ],
      "metadata": {
        "id": "m-Vrp18Gv1gX"
      },
      "execution_count": 11,
      "outputs": [],
      "id": "m-Vrp18Gv1gX"
    },
    {
      "cell_type": "code",
      "source": [
        "print(len(raw_bytes), max(raw_bytes), raw_bytes)"
      ],
      "metadata": {
        "colab": {
          "base_uri": "https://localhost:8080/"
        },
        "id": "5naQ-fC8RzGW",
        "outputId": "57b5b178-c834-4731-8fce-b63855575a37"
      },
      "execution_count": 12,
      "outputs": [
        {
          "output_type": "stream",
          "name": "stdout",
          "text": [
            "190 358 [72, 288, 108, 111, 32, 119, 289, 108, 100, 33, 32, 281, 150, 231, 149, 140, 232, 191, 153, 228, 185, 136, 229, 164, 320, 140, 322, 230, 131, 179, 229, 142, 187, 312, 312, 227, 128, 130, 312, 323, 312, 321, 315, 323, 274, 291, 186, 134, 229, 149, 138, 324, 322, 315, 315, 324, 10, 292, 145, 139, 292, 140, 141, 325, 282, 294, 52, 53, 56, 267, 295, 55, 57, 325, 296, 297, 346, 275, 298, 300, 45, 326, 293, 346, 297, 283, 299, 301, 83, 111, 109, 269, 112, 121, 270, 111, 284, 99, 285, 269, 104, 257, 329, 330, 331, 286, 278, 345, 10, 345, 267, 32, 91, 49, 261, 50, 261, 51, 261, 52, 261, 53, 261, 54, 261, 55, 261, 56, 261, 57, 261, 283, 93, 301, 330, 111, 111, 112, 32, 270, 114, 111, 117, 103, 104, 287, 97, 99, 303, 344, 110, 279, 317, 108, 331, 10, 102, 111, 265, 344, 284, 345, 318, 357, 335, 306, 319, 105, 347, 257, 32, 37, 302, 267, 268, 48, 358, 336, 310, 319, 357, 342, 100, 319, 288, 115, 101, 358, 343, 341]\n"
          ]
        }
      ],
      "id": "5naQ-fC8RzGW"
    },
    {
      "cell_type": "markdown",
      "source": [
        "# Byte Pair Implementation"
      ],
      "metadata": {
        "id": "vQdBeSLUYIad"
      },
      "id": "vQdBeSLUYIad"
    },
    {
      "cell_type": "code",
      "source": [
        "s = \"\"\"Hello world! 世界这么大，我想去看看。看一看，瞧一瞧了啊！我瞧瞧！\n",
        "👋🌍\n",
        "121 + 458 = 679\n",
        "1215 - 121 = 1094\n",
        "-1215 + 121 = -1094\n",
        "Python Lists\n",
        "\n",
        "bookmark_border\n",
        "Python has a great built-in list type named \"list\". List literals are written within square brackets [ ]. Lists work similarly to strings -- use the len() function and square brackets [ ] to access data, with the first element at index 0. (See the official python.org list docs.)\n",
        "\n",
        "\n",
        "  colors = ['red', 'blue', 'green']\n",
        "  print(colors[0])    ## red\n",
        "  print(colors[2])    ## green\n",
        "  print(len(colors))  ## 3\n",
        "list of strings 'red' 'blue 'green'\n",
        "\n",
        "Assignment with an = on lists does not make a copy. Instead, assignment makes the two variables point to the one list in memory.\n",
        "\n",
        "\n",
        "  b = colors   ## Does not copy the list\n",
        "both colors and b point to the one list\n",
        "\n",
        "The \"empty list\" is just an empty pair of brackets [ ]. The '+' works to append two lists, so [1, 2] + [3, 4] yields [1, 2, 3, 4] (this is just like + with strings).\n",
        "\n",
        "FOR and IN\n",
        "Python's *for* and *in* constructs are extremely useful, and the first use of them we'll see is with lists. The *for* construct -- for var in list -- is an easy way to look at each element in a list (or other collection). Do not add or remove from the list during iteration.\n",
        "\n",
        "\n",
        "  squares = [1, 4, 9, 16]\n",
        "  sum = 0\n",
        "  for num in squares:\n",
        "    sum += num\n",
        "  print(sum)  ## 30\n",
        "If you know what sort of thing is in the list, use a variable name in the loop that captures that information such as \"num\", or \"name\", or \"url\". Since Python code does not have other syntax to remind you of types, your variable names are a key way for you to keep straight what is going on. (This is a little misleading. As you gain more exposure to python, you'll see references to type hints which allow you to add typing information to your function definitions. Python doesn't use these type hints when it runs your programs. They are used by other programs such as IDEs (integrated development environments) and static analysis tools like linters/type checkers to validate if your functions are called with compatible arguments.)\n",
        "\n",
        "The *in* construct on its own is an easy way to test if an element appears in a list (or other collection) -- value in collection -- tests if the value is in the collection, returning True/False.\n",
        "\n",
        "\n",
        "  list = ['larry', 'curly', 'moe']\n",
        "  if 'curly' in list:\n",
        "    print('yay') ## yay\n",
        "The for/in constructs are very commonly used in Python code and work on data types other than list, so you should just memorize their syntax. You may have habits from other languages where you start manually iterating over a collection, where in Python you should just use for/in.\n",
        "\n",
        "You can also use for/in to work on a string. The string acts like a list of its chars, so for ch in s: print(ch) prints all the chars in a string.\n",
        "\n",
        "Range\n",
        "The range(n) function yields the numbers 0, 1, ... n-1, and range(a, b) returns a, a+1, ... b-1 -- up to but not including the last number. The combination of the for-loop and the range() function allow you to build a traditional numeric for loop:\n",
        "\n",
        "\n",
        "  ## print the numbers from 0 through 99\n",
        "  for i in range(100):\n",
        "    print(i)\n",
        "There is a variant xrange() which avoids the cost of building the whole list for performance sensitive cases (in Python 3, range() will have the good performance behavior and you can forget about xrange()).\n",
        "\n",
        "While Loop\n",
        "Python also has the standard while-loop, and the *break* and *continue* statements work as in C++ and Java, altering the course of the innermost loop. The above for/in loops solves the common case of iterating over every element in a list, but the while loop gives you total control over the index numbers. Here's a while loop which accesses every 3rd element in a list:\n",
        "\n",
        "\n",
        "  ## Access every 3rd element in a list\n",
        "  i = 0\n",
        "  while i < len(a):\n",
        "    print(a[i])\n",
        "    i = i + 3\n",
        "List Methods\n",
        "Here are some other common list methods.\n",
        "\n",
        "list.append(elem) -- adds a single element to the end of the list. Common error: does not return the new list, just modifies the original.\n",
        "list.insert(index, elem) -- inserts the element at the given index, shifting elements to the right.\n",
        "list.extend(list2) adds the elements in list2 to the end of the list. Using + or += on a list is similar to using extend().\n",
        "list.index(elem) -- searches for the given element from the start of the list and returns its index. Throws a ValueError if the element does not appear (use \"in\" to check without a ValueError).\n",
        "list.remove(elem) -- searches for the first instance of the given element and removes it (throws ValueError if not present)\n",
        "list.sort() -- sorts the list in place (does not return it). (The sorted() function shown later is preferred.)\n",
        "list.reverse() -- reverses the list in place (does not return it)\n",
        "list.pop(index) -- removes and returns the element at the given index. Returns the rightmost element if index is omitted (roughly the opposite of append()).\n",
        "Notice that these are *methods* on a list object, while len() is a function that takes the list (or string or whatever) as an argument.\n",
        "\n",
        "\n",
        "  list = ['larry', 'curly', 'moe']\n",
        "  list.append('shemp')         ## append elem at end\n",
        "  list.insert(0, 'xxx')        ## insert elem at index 0\n",
        "  list.extend(['yyy', 'zzz'])  ## add list of elems at end\n",
        "  print(list)  ## ['xxx', 'larry', 'curly', 'moe', 'shemp', 'yyy', 'zzz']\n",
        "  print(list.index('curly'))    ## 2\n",
        "\n",
        "  list.remove('curly')         ## search and remove that element\n",
        "  list.pop(1)                  ## removes and returns 'larry'\n",
        "  print(list)  ## ['xxx', 'moe', 'shemp', 'yyy', 'zzz']\n",
        "Common error: note that the above methods do not *return* the modified list, they just modify the original list.\n",
        "\n",
        "\n",
        "  list = [1, 2, 3]\n",
        "  print(list.append(4))   ## NO, does not work, append() returns None\n",
        "  ## Correct pattern:\n",
        "  list.append(4)\n",
        "  print(list)  ## [1, 2, 3, 4]\n",
        "List Build Up\n",
        "One common pattern is to start a list as the empty list [], then use append() or extend() to add elements to it:\n",
        "\n",
        "\n",
        "  list = []          ## Start as the empty list\n",
        "  list.append('a')   ## Use append() to add elements\n",
        "  list.append('b')\n",
        "List Slices\n",
        "Slices work on lists just as with strings, and can also be used to change sub-parts of the list.\n",
        "\n",
        "\n",
        "  list = ['a', 'b', 'c', 'd']\n",
        "  print(list[1:-1])   ## ['b', 'c']\n",
        "  list[0:2] = 'z'    ## replace ['a', 'b'] with ['z']\n",
        "  print(list)         ## ['z', 'c', 'd']\n",
        "Exercise: list1.py\n",
        "To practice the material in this section, try the problems in list1.py that do not use sorting (in the Basic Exercises).\n",
        "\n",
        "Was this helpful?\n",
        "\n",
        "Except as otherwise noted, the content of this page is licensed under the Creative Commons Attribution 4.0 License, and code samples are licensed under the Apache 2.0 License. For details, see the Google Developers Site Policies. Java is a registered trademark of Oracle and/or its affiliates.\n",
        "\n",
        "Last updated 2024-07-23 UTC.\n",
        "\"\"\"\n",
        "tokens = s.encode(\"utf-8\")"
      ],
      "metadata": {
        "id": "rehK7GmPYv3_",
        "execution": {
          "iopub.status.busy": "2024-09-18T05:24:25.510940Z",
          "iopub.execute_input": "2024-09-18T05:24:25.511494Z",
          "iopub.status.idle": "2024-09-18T05:24:25.525200Z",
          "shell.execute_reply.started": "2024-09-18T05:24:25.511442Z",
          "shell.execute_reply": "2024-09-18T05:24:25.523907Z"
        },
        "trusted": true
      },
      "execution_count": 141,
      "outputs": [],
      "id": "rehK7GmPYv3_"
    },
    {
      "cell_type": "code",
      "source": [
        "def count_bytepairs(bytes):\n",
        "  counts = {}\n",
        "  for pair in zip(bytes, bytes[1:]):\n",
        "    counts[pair] = counts.get(pair, 0) + 1\n",
        "  counts = dict(sorted(counts.items(), key=lambda item: item[1], reverse=True))\n",
        "  return counts\n",
        "\n",
        "def merge_bytepair(raw_bytes, pair, new_token):\n",
        "  \"\"\"pair is a list containing two integers, representing the utf-8 code of\n",
        "  the 2 characters to be replaced\n",
        "  \"\"\"\n",
        "  assert isinstance(pair, list) and len(pair)==2, \"pair must be a list of two integers\"\n",
        "  for i in range(len(raw_bytes)-1, 0, -1):  # loop backwards\n",
        "    #print(i-1, i)\n",
        "    if raw_bytes[i-1:i+1] == pair:\n",
        "      raw_bytes[i-1:i+1] = [new_token]\n",
        "\n",
        "  return raw_bytes\n",
        "\n",
        "# hyper parameters\n",
        "vocab_size = 10240\n",
        "num_merges = vocab_size - 256\n",
        "merges = {} # build up a lookup of what has been merged into what\n",
        "vocab = { i:bytes([i]) for i in range(256)}\n",
        "\n",
        "def encode(s, tokens=None):\n",
        "  \"\"\"Given a string, return a list of integers using utf-8 and byte pair\n",
        "  tokens is a list of utf-8 codes or encoded byte-pair codes, updated in recursion\n",
        "  \"\"\"\n",
        "  assert isinstance(s, str), f\"expect string, but got {type(s).__name__}\"\n",
        "  tokens = list(s.encode(\"utf-8\")) if tokens is None else tokens\n",
        "  counts = count_bytepairs(tokens)\n",
        "  # if len is too small, next(counts_iter) in below loop will fail\n",
        "  # if no more duplicated byte pairs, then stop the recursion\n",
        "  if len(counts) <=1 or counts[list(counts)[0]]<=1:\n",
        "      return tokens\n",
        "\n",
        "  new_token = max(tokens+[255])\n",
        "  counts_iter = iter(counts.items())\n",
        "  global num_merges\n",
        "  #for i in range(num_merges):\n",
        "  while num_merges>0:\n",
        "    num_merges-=1\n",
        "    new_token += 1\n",
        "    pair, count = next(counts_iter)\n",
        "    if count>1:\n",
        "      pair_copy = list(pair)\n",
        "      merge_bytepair(tokens, pair_copy, new_token)\n",
        "      merges[pair] = new_token\n",
        "    else:\n",
        "      # if the current duplicated byte pairs are exhausted, refresh the counts\n",
        "      # and continue to encode\n",
        "      encode(s, tokens)\n",
        "      break\n",
        "\n",
        "  #vocab.update({tok:bytes([b1])+bytes([b2]) for (b1,b2), tok in merges.items()})\n",
        "  update_vocab()\n",
        "  return tokens\n",
        "\n"
      ],
      "metadata": {
        "id": "vbz3i7wtYMaS",
        "execution": {
          "iopub.status.busy": "2024-09-18T05:24:28.611589Z",
          "iopub.execute_input": "2024-09-18T05:24:28.611984Z",
          "iopub.status.idle": "2024-09-18T05:24:28.622503Z",
          "shell.execute_reply.started": "2024-09-18T05:24:28.611946Z",
          "shell.execute_reply": "2024-09-18T05:24:28.621477Z"
        },
        "trusted": true
      },
      "execution_count": 155,
      "outputs": [],
      "id": "vbz3i7wtYMaS"
    },
    {
      "cell_type": "code",
      "source": [
        "def detok(token):\n",
        "  \"\"\"token is an integer.\n",
        "  recursively detokenise the token (integer) until it's a list of bytes (int in [0,255])\n",
        "  \"\"\"\n",
        "  if token<256:\n",
        "    return [token]\n",
        "  else:\n",
        "    out = [detok(t)[0] for t in list(vocab[token])]\n",
        "    return out\n",
        "\n",
        "def update_vocab():\n",
        "  for (t1, t2), t3 in merges.items():\n",
        "    #print(f\"updating vocab with {detok(t1)} and {detok(t2)}\")\n",
        "    vocab.update({t3:bytes(detok(t1))+bytes(detok(t2))})\n"
      ],
      "metadata": {
        "id": "UxKFSrStcLWO"
      },
      "id": "UxKFSrStcLWO",
      "execution_count": 151,
      "outputs": []
    },
    {
      "cell_type": "code",
      "source": [
        "enc = encode(s)\n",
        "print(len(enc), max(enc), enc[:100])"
      ],
      "metadata": {
        "colab": {
          "base_uri": "https://localhost:8080/"
        },
        "id": "I8DqzMq8ZRWl",
        "outputId": "53c3b417-7396-4504-aa16-f0298079a7da",
        "execution": {
          "iopub.status.busy": "2024-09-18T05:24:33.187446Z",
          "iopub.execute_input": "2024-09-18T05:24:33.187818Z",
          "iopub.status.idle": "2024-09-18T05:24:33.618013Z",
          "shell.execute_reply.started": "2024-09-18T05:24:33.187784Z",
          "shell.execute_reply": "2024-09-18T05:24:33.616927Z"
        },
        "trusted": true
      },
      "execution_count": 145,
      "outputs": [
        {
          "output_type": "stream",
          "name": "stdout",
          "text": [
            "1875 1866 [72, 302, 108, 292, 820, 437, 33, 32, 588, 150, 231, 149, 140, 232, 191, 153, 228, 185, 136, 229, 164, 1109, 140, 1111, 230, 131, 179, 229, 142, 187, 889, 889, 227, 128, 130, 889, 1112, 889, 1110, 959, 1112, 539, 638, 186, 134, 229, 149, 138, 1113, 1111, 959, 959, 1113, 10, 640, 145, 139, 640, 140, 141, 10, 511, 49, 438, 478, 53, 56, 1114, 54, 55, 642, 1115, 364, 1539, 589, 646, 10, 45, 1115, 438, 1539, 514, 645, 647, 1448, 821, 115, 300, 98, 1119, 109, 1120, 95, 98, 273, 100, 276, 10, 1448, 332]\n"
          ]
        }
      ],
      "id": "I8DqzMq8ZRWl"
    },
    {
      "cell_type": "code",
      "source": [
        "len(tokens), max(tokens), list(tokens)[:10]"
      ],
      "metadata": {
        "colab": {
          "base_uri": "https://localhost:8080/"
        },
        "id": "m1I7BpkUaZeg",
        "outputId": "a5953d29-3218-4431-f9a5-d507fe1284a2",
        "execution": {
          "iopub.status.busy": "2024-09-18T05:16:25.789065Z",
          "iopub.execute_input": "2024-09-18T05:16:25.789469Z",
          "iopub.status.idle": "2024-09-18T05:16:25.796398Z",
          "shell.execute_reply.started": "2024-09-18T05:16:25.789430Z",
          "shell.execute_reply": "2024-09-18T05:16:25.795380Z"
        },
        "trusted": true
      },
      "execution_count": 127,
      "outputs": [
        {
          "output_type": "execute_result",
          "data": {
            "text/plain": [
              "(6843, 240, [72, 101, 108, 108, 111, 32, 119, 111, 114, 108])"
            ]
          },
          "metadata": {},
          "execution_count": 127
        }
      ],
      "id": "m1I7BpkUaZeg"
    },
    {
      "cell_type": "code",
      "source": [
        "print(f\"compression ratio: {len(tokens) / len(enc):.2f}X\", merges)"
      ],
      "metadata": {
        "colab": {
          "base_uri": "https://localhost:8080/"
        },
        "id": "NofmaBrLbpBY",
        "outputId": "a0fa4d3d-4ce8-462e-be42-ac9d918d56cf",
        "execution": {
          "iopub.status.busy": "2024-09-18T05:24:39.433417Z",
          "iopub.execute_input": "2024-09-18T05:24:39.433778Z",
          "iopub.status.idle": "2024-09-18T05:24:39.439524Z",
          "shell.execute_reply.started": "2024-09-18T05:24:39.433745Z",
          "shell.execute_reply": "2024-09-18T05:24:39.438662Z"
        },
        "trusted": true
      },
      "execution_count": 128,
      "outputs": [
        {
          "output_type": "stream",
          "name": "stdout",
          "text": [
            "compression ratio: 3.65X {(32, 32): 257, (117, 109): 389, (32, 115): 281, (109, 32): 417, (115, 117): 468, (61, 32): 349, (10, 32): 290, (32, 110): 313, (110, 117): 419, (257, 32): 264, (256, 115): 880, (115, 257): 266, (10, 256): 267, (265, 264): 268, (101, 32): 256, (115, 32): 258, (32, 116): 259, (116, 104): 260, (115, 116): 261, (116, 32): 262, (32, 97): 263, (105, 110): 264, (105, 115): 265, (104, 101): 266, (108, 105): 267, (110, 32): 268, (32, 105): 269, (32, 108): 270, (44, 32): 271, (101, 110): 272, (111, 114): 273, (114, 101): 274, (111, 110): 275, (101, 114): 276, (110, 100): 277, (110, 116): 278, (108, 101): 279, (32, 111): 280, (100, 32): 282, (97, 110): 283, (101, 109): 284, (101, 115): 285, (114, 32): 286, (115, 101): 287, (41, 32): 288, (32, 101): 289, (97, 114): 291, (111, 32): 292, (114, 105): 293, (32, 99): 294, (32, 119): 295, (97, 116): 296, (109, 101): 297, (32, 112): 298, (110, 103): 299, (10, 10): 300, (116, 101): 301, (101, 108): 302, (32, 39): 303, (118, 101): 304, (116, 115): 305, (105, 116): 306, (116, 105): 307, (99, 111): 308, (116, 111): 309, (32, 102): 310, (32, 114): 311, (97, 32): 312, (121, 32): 314, (102, 32): 315, (46, 32): 316, (111, 116): 317, (109, 111): 318, (117, 114): 319, (110, 115): 320, (111, 117): 321, (97, 108): 322, (39, 44): 323, (32, 35): 324, (35, 35): 325, (35, 32): 326, (116, 46): 327, (112, 101): 328, (112, 114): 329, (114, 97): 330, (100, 101): 331, (104, 97): 332, (32, 91): 333, (117, 115): 334, (99, 116): 335, (105, 111): 336, (114, 115): 337, (102, 111): 338, (108, 111): 339, (104, 111): 340, (101, 116): 341, (99, 101): 342, (111, 102): 343, (97, 115): 344, (104, 105): 345, (116, 114): 346, (46, 10): 347, (32, 121): 348, (101, 100): 350, (116, 40): 351, (114, 111): 352, (32, 117): 353, (104, 32): 354, (101, 120): 355, (103, 32): 356, (99, 104): 357, (32, 61): 358, (105, 99): 359, (111, 108): 360, (110, 111): 361, (111, 112): 362, (121, 111): 363, (32, 45): 364, (32, 98): 365, (105, 108): 366, (40, 41): 367, (32, 100): 368, (116, 97): 369, (32, 40): 370, (97, 112): 371, (112, 112): 372, (111, 109): 373, (119, 104): 374, (100, 40): 375, (108, 108): 376, (45, 32): 377, (111, 111): 378, (32, 109): 379, (84, 104): 380, (114, 116): 381, (121, 39): 382, (101, 97): 383, (97, 99): 384, (45, 45): 385, (110, 99): 386, (111, 101): 387, (115, 111): 388, (117, 32): 390, (114, 110): 391, (107, 101): 392, (108, 97): 393, (108, 121): 394, (93, 10): 395, (111, 118): 396, (116, 117): 397, (103, 101): 398, (121, 116): 399, (109, 97): 400, (116, 121): 401, (119, 105): 402, (115, 105): 403, (100, 111): 404, (91, 39): 405, (39, 93): 406, (97, 100): 407, (111, 100): 408, (105, 102): 409, (114, 114): 410, (119, 111): 411, (32, 103): 412, (117, 110): 413, (108, 32): 414, (118, 97): 415, (114, 121): 416, (101, 99): 418, (101, 40): 420, (114, 108): 421, (80, 121): 422, (114, 107): 423, (32, 104): 424, (110, 97): 425, (102, 117): 426, (115, 46): 427, (41, 10): 428, (117, 101): 429, (40, 108): 430, (32, 51): 431, (10, 108): 432, (32, 118): 433, (109, 112): 434, (100, 115): 435, (39, 99): 436, (108, 100): 437, (32, 43): 438, (76, 105): 439, (107, 32): 440, (102, 105): 441, (101, 101): 442, (108, 117): 443, (32, 84): 444, (49, 44): 445, (41, 46): 446, (32, 42): 447, (42, 32): 448, (58, 10): 449, (101, 118): 450, (103, 105): 451, (43, 32): 452, (103, 114): 453, (121, 112): 454, (97, 109): 455, (108, 115): 456, (93, 32): 457, (105, 97): 458, (98, 108): 459, (101, 39): 460, (105, 103): 461, (97, 98): 462, (32, 106): 463, (106, 117): 464, (112, 97): 465, (32, 50): 466, (100, 100): 467, (111, 119): 469, (99, 97): 470, (97, 118): 471, (100, 105): 472, (39, 41): 473, (109, 109): 474, (115, 104): 475, (105, 118): 476, (116, 41): 477, (32, 52): 478, (32, 76): 479, (98, 111): 480, (98, 117): 481, (32, 34): 482, (116, 116): 483, (117, 97): 484, (105, 114): 485, (32, 48): 486, (112, 121): 487, (39, 98): 488, (112, 111): 489, (110, 101): 490, (10, 84): 491, (112, 116): 492, (91, 49): 493, (114, 117): 494, (117, 99): 495, (39, 108): 496, (97, 121): 497, (116, 44): 498, (112, 32): 499, (32, 80): 500, (40, 105): 501, (99, 117): 502, (40, 39): 503, (98, 101): 504, (46, 97): 505, (120, 120): 506, (121, 121): 507, (39, 122): 508, (122, 122): 509, (122, 39): 510, (49, 50): 511, (50, 49): 512, (32, 49): 513, (45, 49): 514, (99, 107): 515, (109, 105): 516, (115, 115): 517, (100, 97): 518, (120, 32): 519, (93, 41): 520, (41, 41): 521, (116, 10): 522, (115, 44): 523, (105, 101): 524, (39, 115): 525, (120, 116): 526, (109, 41): 527, (114, 109): 528, (103, 104): 529, (111, 115): 530, (109, 98): 531, (117, 116): 532, (105, 32): 533, (32, 67): 534, (114, 99): 535, (239, 188): 536, (231, 156): 537, (156, 139): 538, (231, 158): 539, (158, 167): 540, (49, 32): 541, (10, 80): 542, (115, 10): 543, (114, 100): 544, (117, 105): 545, (115, 113): 546, (113, 117): 547, (98, 114): 548, (103, 115): 549, (110, 40): 550, (97, 44): 551, (99, 105): 552, (110, 46): 553, (114, 103): 554, (100, 39): 555, (110, 39): 556, (40, 99): 557, (115, 41): 558, (39, 32): 559, (97, 107): 560, (111, 105): 561, (97, 105): 562, (51, 44): 563, (101, 102): 564, (117, 108): 565, (115, 121): 566, (102, 114): 567, (48, 10): 568, (119, 32): 569, (32, 83): 570, (32, 65): 571, (110, 44): 572, (109, 115): 573, (39, 109): 574, (39, 121): 575, (114, 47): 576, (47, 105): 577, (58, 32): 578, (46, 46): 579, (10, 76): 580, (67, 111): 581, (46, 105): 582, (32, 85): 583, (112, 108): 584, (46, 112): 585, (98, 39): 586, (72, 101): 587, (228, 184): 588, (49, 48): 589, (91, 32): 590, (32, 93): 591, (99, 99): 592, (46, 41): 593, (100, 10): 594, (50, 93): 595, (110, 109): 596, (32, 73): 597, (32, 68): 598, (52, 93): 599, (50, 44): 600, (105, 107): 601, (110, 42): 602, (119, 97): 603, (40, 111): 604, (110, 41): 605, (32, 107): 606, (101, 121): 607, (101, 112): 608, (104, 116): 609, (103, 46): 610, (111, 103): 611, (99, 32): 612, (103, 117): 613, (116, 58): 614, (120, 46): 615, (40, 97): 616, (48, 32): 617, (104, 114): 618, (40, 101): 619, (32, 86): 620, (86, 97): 621, (101, 69): 622, (69, 114): 623, (46, 114): 624, (112, 39): 625, (39, 120): 626, (120, 39): 627, (39, 97): 628, (97, 39): 629, (99, 39): 630, (69, 120): 631, (167, 239): 632, (188, 140): 633, (230, 136): 634, (136, 145): 635, (184, 128): 636, (128, 231): 637, (167, 228): 638, (188, 129): 639, (240, 159): 640, (10, 49): 641, (57, 10): 642, (49, 53): 643, (53, 32): 644, (48, 57): 645, (57, 52): 646, (52, 10): 647, (10, 98): 648, (111, 107): 649, (108, 116): 650, (116, 34): 651, (34, 46): 652, (93, 46): 653, (105, 109): 654, (102, 102): 655, (39, 114): 656, (39, 103): 657, (115, 91): 658, (91, 48): 659, (51, 10): 660, (39, 10): 661, (65, 115): 662, (103, 110): 663, (121, 46): 664, (100, 44): 665, (116, 119): 666, (98, 32): 667, (68, 111): 668, (34, 32): 669, (121, 105): 670, (40, 116): 671, (42, 102): 672, (114, 42): 673, (42, 105): 674, (32, 57): 675, (115, 58): 676, (43, 61): 677, (110, 102): 678, (34, 110): 679, (34, 44): 680, (83, 105): 681, (121, 110): 682, (97, 120): 683, (103, 111): 684, (40, 84): 685, (102, 101): 686, (110, 105): 687, (101, 103): 688, (118, 105): 689, (105, 100): 690, (105, 98): 691, (119, 110): 692, (101, 46): 693, (121, 97): 694, (121, 10): 695, (89, 111): 696, (98, 105): 697, (97, 103): 698, (101, 10): 699, (48, 44): 700, (32, 46): 701, (98, 45): 702, (117, 112): 703, (99, 108): 704, (45, 108): 705, (117, 103): 706, (40, 49): 707, (41, 58): 708, (32, 120): 709, (120, 114): 710, (114, 102): 711, (10, 87): 712, (112, 10): 713, (32, 74): 714, (74, 97): 715, (51, 114): 716, (103, 108): 717, (114, 58): 718, (120, 44): 719, (46, 101): 720, (116, 50): 721, (85, 115): 722, (120, 40): 723, (119, 115): 724, (114, 41): 725, (40, 100): 726, (112, 40): 727, (78, 111): 728, (111, 98): 729, (40, 52): 730, (52, 41): 731, (32, 78): 732, (32, 66): 733, (91, 93): 734, (83, 108): 735, (39, 100): 736, (116, 91): 737, (10, 69): 738, (120, 101): 739, (116, 49): 740, (49, 46): 741, (46, 48): 742, (267, 261): 743, (259, 104): 744, (104, 256): 745, (257, 257): 746, (279, 109): 747, (257, 325): 748, (260, 256): 749, (109, 272): 750, (258, 260): 751, (101, 279): 752, (32, 267): 753, (272, 262): 754, (261, 46): 755, (264, 103): 756, (263, 277): 757, (329, 264): 758, (264, 351): 759, (102, 273): 760, (257, 329): 761, (256, 267): 762, (257, 267): 763, (111, 268): 764, (261, 32): 765, (361, 262): 766, (121, 321): 767, (116, 258): 768, (264, 331): 769, (300, 257): 770, (39, 271): 771, (105, 258): 772, (291, 256): 773, (259, 292): 774, (114, 264): 775, (256, 260): 776, (259, 111): 777, (331, 120): 778, (258, 97): 779, (380, 256): 780, (274, 116): 781, (116, 319): 782, (272, 375): 783, (422, 260): 784, (334, 256): 785, (307, 275): 786, (271, 39): 787, (395, 257): 788, (32, 274): 789, (32, 264): 790, (263, 32): 791, (382, 271): 792, (264, 32): 793, (261, 114): 794, (262, 264): 795, (387, 258): 796, (258, 361): 797, (269, 258): 798, (343, 259): 799, (260, 276): 800, (258, 264): 801, (319, 110): 802, (283, 398): 803, (371, 112): 804, (112, 272): 805, (260, 111): 806, (116, 276): 807, (386, 307): 808, (10, 257): 809, (264, 116): 810, (97, 277): 811, (464, 261): 812, (272, 100): 813, (32, 261): 814, (274, 318): 815, (319, 108): 816, (108, 256): 817, (118, 276): 818, (351, 267): 819, (119, 273): 820, (439, 261): 821, (258, 291): 822, (402, 260): 823, (258, 119): 824, (273, 107): 825, (426, 386): 826, (275, 263): 827, (289, 279): 828, (256, 343): 829, (294, 360): 830, (316, 380): 831, (264, 263): 832, (99, 307): 833, (256, 102): 834, (269, 116): 835, (41, 257): 836, (264, 259): 837, (357, 263): 838, (263, 258): 839, (99, 256): 840, (264, 356): 841, (119, 345): 842, (277, 32): 843, (256, 308): 844, (271, 436): 845, (108, 382): 846, (110, 258): 847, (272, 116): 848, (46, 371): 849, (288, 257): 850, (258, 312): 851, (97, 262): 852, (45, 377): 853, (40, 288): 854, (308, 108): 855, (39, 395): 856, (261, 280): 857, (116, 259): 858, (111, 259): 859, (347, 300): 860, (258, 309): 861, (294, 275): 862, (44, 263): 863, (281, 101): 864, (256, 105): 865, (268, 101): 866, (279, 99): 867, (118, 256): 868, (49, 271): 869, (313, 389): 870, (449, 257): 871, (256, 264): 872, (339, 362): 873, (280, 102): 874, (307, 111): 875, (261, 358): 876, (358, 333): 877, (436, 319): 878, (398, 40): 879, (345, 108): 881, (304, 258): 882, (318, 268): 883, (282, 101): 884, (256, 101): 885, (296, 259): 886, (318, 304): 887, (325, 333): 888, (537, 139): 889, (259, 454): 890, (261, 258): 891, (288, 426): 892, (111, 263): 893, (100, 296): 894, (262, 97): 895, (260, 275): 896, (108, 273): 897, (325, 32): 898, (280, 315): 899, (268, 267): 900, (100, 387): 901, (107, 256): 902, (118, 291): 903, (261, 263): 904, (263, 372): 905, (372, 272): 906, (271, 115): 907, (51, 271): 908, (275, 261): 909, (261, 494): 910, (117, 287): 911, (259, 266): 912, (310, 273): 913, (273, 32): 914, (280, 260): 915, (360, 279): 916, (102, 352): 917, (105, 275): 918, (332, 262): 919, (115, 273): 920, (261, 271): 921, (273, 109): 922, (111, 260): 923, (102, 259): 924, (321, 286): 925, (348, 321): 926, (321, 259): 927, (114, 256): 928, (287, 282): 929, (40, 264): 930, (99, 266): 931, (276, 258): 932, (288, 45): 933, (496, 291): 934, (291, 114): 935, (114, 382): 936, (39, 318): 937, (318, 460): 938, (273, 47): 939, (47, 264): 940, (276, 259): 941, (258, 102): 942, (291, 262): 943, (389, 98): 944, (98, 276): 945, (111, 362): 946, (273, 269): 947, (260, 408): 948, (109, 288): 949, (288, 385): 950, (46, 264): 951, (264, 115): 952, (115, 276): 953, (256, 451): 954, (451, 304): 955, (304, 268): 956, (100, 367): 957, (272, 287): 958, (539, 167): 959, (261, 115): 960, (10, 422): 961, (481, 366): 962, (256, 425): 963, (425, 297): 964, (256, 119): 965, (264, 281): 966, (98, 330): 967, (330, 515): 968, (515, 341): 969, (341, 258): 970, (258, 590): 971, (590, 93): 972, (256, 108): 973, (108, 272): 974, (592, 285): 975, (258, 100): 976, (256, 441): 977, (441, 114): 978, (114, 261): 979, (101, 256): 980, (273, 258): 981, (274, 272): 982, (594, 257): 983, (263, 268): 984, (280, 268): 985, (256, 97): 986, (291, 458): 987, (261, 10): 988, (284, 492): 989, (492, 314): 990, (314, 267): 991, (258, 464): 992, (100, 259): 993, (115, 271): 994, (115, 292): 995, (100, 258): 996, (271, 50): 997, (50, 271): 998, (271, 51): 999, (258, 105): 1000, (267, 107): 1001, (295, 105): 1002, (105, 260): 1003, (260, 32): 1004, (446, 300): 1005, (42, 294): 1006, (335, 258): 1007, (355, 116): 1008, (277, 259): 1009, (115, 316): 1010, (99, 262): 1011, (97, 268): 1012, (121, 295): 1013, (295, 497): 1014, (263, 262): 1015, (261, 370): 1016, (370, 273): 1017, (276, 294): 1018, (292, 361): 1019, (352, 109): 1020, (276, 296): 1021, (296, 105): 1022, (333, 49): 1023, (115, 389): 1024, (262, 343): 1025, (104, 264): 1026, (256, 312): 1027, (459, 256): 1028, (256, 339): 1029, (259, 332): 1030, (109, 296): 1031, (332, 118): 1032, (345, 258): 1033, (312, 267): 1034, (258, 121): 1035, (116, 292): 1036, (275, 271): 1037, (345, 357): 1038, (263, 467): 1039, (119, 266): 1040, (268, 105): 1041, (109, 258): 1042, (262, 272): 1043, (272, 305): 1044, (41, 263): 1045, (258, 267): 1046, (256, 99): 1047, (294, 373): 1048, (112, 296): 1049, (256, 291): 1050, (256, 42): 1051, (268, 306): 1052, (306, 258): 1053, (269, 102): 1054, (32, 422): 1055, (107, 280): 1056, (266, 114): 1057, (261, 291): 1058, (109, 283): 1059, (280, 118): 1060, (283, 263): 1061, (263, 456): 1062, (456, 292): 1063, (256, 261): 1064, (114, 283): 1065, (103, 259): 1066, (270, 111): 1067, (449, 300): 1068, (283, 99): 1069, (287, 258): 1070, (116, 264): 1071, (115, 256): 1072, (450, 276): 1073, (373, 318): 1074, (297, 260): 1075, (67, 373): 1076, (262, 274): 1077, (318, 100): 1078, (100, 409): 1079, (347, 267): 1080, (116, 272): 1081, (385, 281): 1082, (101, 291): 1083, (86, 322): 1084, (322, 429): 1085, (429, 69): 1086, (69, 410): 1087, (410, 273): 1088, (46, 274): 1089, (428, 267): 1090, (384, 256): 1091, (375, 288): 1092, (525, 266): 1093, (266, 434): 1094, (434, 39): 1095, (626, 506): 1096, (507, 382): 1097, (271, 508): 1098, (508, 509): 1099, (263, 100): 1100, (100, 282): 1101, (261, 41): 1102, (44, 259): 1103, (97, 258): 1104, (488, 39): 1105, (267, 99): 1106, (436, 39): 1107, (292, 119): 1108, (167, 536): 1109, (536, 140): 1110, (634, 145): 1111, (588, 128): 1112, (536, 129): 1113, (32, 349): 1114, (511, 643): 1115, (32, 511): 1116, (511, 541): 1117, (541, 349): 1118, (378, 107): 1119, (291, 107): 1120, (332, 258): 1121, (454, 256): 1122, (261, 34): 1123, (34, 316): 1124, (316, 439): 1125, (281, 547): 1126, (547, 291): 1127, (256, 98): 1128, (93, 316): 1129, (366, 291): 1130, (394, 259): 1131, (292, 261): 1132, (103, 258): 1133, (272, 40): 1134, (263, 592): 1135, (285, 258): 1136, (296, 97): 1137, (261, 289): 1138, (120, 486): 1139, (316, 40): 1140, (105, 322): 1141, (261, 368): 1142, (258, 61): 1143, (61, 333): 1144, (39, 274): 1145, (274, 555): 1146, (657, 274): 1147, (272, 39): 1148, (351, 308): 1149, (273, 658): 1150, (520, 257): 1151, (521, 257): 1152, (325, 431): 1153, (431, 10): 1154, (10, 267): 1155, (403, 103): 1156, (103, 596): 1157, (596, 272): 1158, (262, 400): 1159, (392, 258): 1160, (279, 258): 1161, (256, 275): 1162, (275, 256): 1163, (264, 379): 1164, (379, 284): 1165, (284, 273): 1166, (360, 273): 1167, (487, 259): 1168, (260, 294): 1169, (300, 380): 1170, (256, 34): 1171, (295, 273): 1172, (493, 271): 1173, (271, 599): 1174, (302, 100): 1175, (260, 105): 1176, (39, 258): 1177, (672, 273): 1178, (273, 42): 1179, (42, 263): 1180, (277, 447): 1181, (264, 42): 1182, (494, 335): 1183, (256, 355): 1184, (108, 314): 1185, (314, 117): 1186, (426, 108): 1187, (32, 334): 1188, (376, 281): 1189, (258, 402): 1190, (494, 99): 1191, (364, 45): 1192, (101, 344): 1193, (344, 121): 1194, (497, 259): 1195, (107, 263): 1196, (273, 280): 1197, (41, 316): 1198, (318, 118): 1199, (109, 259): 1200, (103, 269): 1201, (484, 274): 1202, (274, 258): 1203, (271, 52): 1204, (271, 49): 1205, (257, 115): 1206, (389, 32): 1207, (349, 568): 1208, (568, 257): 1209, (257, 102): 1210, (274, 115): 1211, (315, 121): 1212, (312, 118): 1213, (458, 459): 1214, (260, 97): 1215, (264, 102): 1216, (296, 336): 1217, (336, 268): 1218, (468, 357): 1219, (34, 271): 1220, (271, 273): 1221, (273, 482): 1222, (264, 99): 1223, (268, 308): 1224, (308, 100): 1225, (100, 256): 1226, (256, 111): 1227, (281, 121): 1228, (121, 278): 1229, (278, 683): 1230, (271, 121): 1231, (262, 119): 1232, (262, 105): 1233, (256, 109): 1234, (103, 316): 1235, (489, 115): 1236, (274, 102): 1237, (102, 276): 1238, (342, 258): 1239, (309, 259): 1240, (256, 104): 1241, (263, 108): 1242, (108, 339): 1243, (339, 119): 1244, (119, 348): 1245, (275, 259): 1246, (292, 121): 1247, (286, 426): 1248, (306, 105): 1249, (262, 334): 1250, (401, 112): 1251, (112, 256): 1252, (266, 268): 1253, (105, 262): 1254, (84, 266): 1255, (256, 117): 1256, (258, 40): 1257, (296, 101): 1258, (101, 282): 1259, (302, 362): 1260, (261, 296): 1261, (276, 115): 1262, (266, 515): 1263, (258, 116): 1264, (105, 315): 1265, (275, 258): 1266, (389, 272): 1267, (259, 101): 1268, (101, 261): 1269, (261, 269): 1270, (262, 371): 1271, (371, 328): 1272, (291, 258): 1273, (118, 322): 1274, (322, 117): 1275, (117, 256): 1276, (264, 294): 1277, (256, 118): 1278, (333, 496): 1279, (460, 395): 1280, (261, 449): 1281, (382, 288): 1282, (10, 380): 1283, (276, 121): 1284, (373, 109): 1285, (109, 275): 1286, (258, 111): 1287, (321, 281): 1288, (281, 104): 1289, (104, 321): 1290, (321, 108): 1291, (108, 282): 1292, (282, 464): 1293, (89, 321): 1294, (283, 103): 1295, (296, 264): 1296, (103, 280): 1297, (271, 119): 1298, (46, 300): 1299, (321, 294): 1300, (294, 283): 1301, (292, 334): 1302, (357, 291): 1303, (298, 114): 1304, (256, 114): 1305, (256, 110): 1306, (110, 389): 1307, (48, 271): 1308, (311, 283): 1309, (288, 274): 1310, (353, 112): 1311, (292, 481): 1312, (100, 264): 1313, (45, 339): 1314, (366, 100): 1315, (259, 330): 1316, (330, 100): 1317, (41, 449): 1318, (262, 710): 1319, (710, 283): 1320, (288, 119): 1321, (276, 102): 1322, (115, 272): 1323, (115, 306): 1324, (476, 256): 1325, (321, 262): 1326, (300, 87): 1327, (99, 275): 1328, (275, 116): 1329, (318, 261): 1330, (256, 462): 1331, (462, 396): 1332, (396, 256): 1333, (308, 109): 1334, (109, 318): 1335, (295, 345): 1336, (258, 450): 1337, (276, 314): 1338, (314, 716): 1339, (716, 282): 1340, (428, 257): 1341, (467, 258): 1342, (717, 256): 1343, (256, 272): 1344, (100, 280): 1345, (261, 316): 1346, (268, 276): 1347, (276, 114): 1348, (114, 273): 1349, (273, 58): 1350, (32, 318): 1351, (409, 524): 1352, (256, 273): 1353, (273, 461): 1354, (461, 264): 1355, (264, 322): 1356, (276, 351): 1357, (120, 271): 1358, (262, 296): 1359, (268, 264): 1360, (103, 289): 1361, (256, 293): 1362, (293, 529): 1363, (327, 10): 1364, (46, 355): 1365, (261, 50): 1366, (289, 526): 1367, (526, 272): 1368, (619, 279): 1369, (291, 99): 1370, (266, 258): 1371, (273, 259): 1372, (120, 316): 1373, (352, 119): 1374, (119, 258): 1375, (312, 86): 1376, (262, 100): 1377, (262, 312): 1378, (41, 347): 1379, (262, 112): 1380, (112, 274): 1381, (273, 116): 1382, (264, 298): 1383, (298, 108): 1384, (108, 384): 1385, (256, 726): 1386, (726, 387): 1387, (319, 268): 1388, (296, 276): 1389, (274, 100): 1390, (274, 118): 1391, (276, 287): 1392, (377, 274): 1393, (261, 585): 1394, (585, 362): 1395, (306, 256): 1396, (307, 99): 1397, (260, 296): 1398, (104, 296): 1399, (39, 288): 1400, (325, 263): 1401, (109, 263): 1402, (272, 594): 1403, (262, 101): 1404, (282, 267): 1405, (333, 626): 1406, (506, 39): 1407, (460, 271): 1408, (271, 525): 1409, (39, 507): 1410, (509, 39): 1411, (100, 292): 1412, (322, 32): 1413, (261, 347): 1414, (296, 116): 1415, (256, 284): 1416, (333, 93): 1417, (256, 371): 1418, (367, 259): 1419, (628, 39): 1420, (277, 294): 1421, (103, 256): 1422, (271, 488): 1423, (39, 555): 1424, (555, 395): 1425, (333, 508): 1426, (508, 39): 1427, (631, 276): 1428, (276, 99): 1429, (99, 265): 1430, (261, 741): 1431, (741, 487): 1432, (259, 345): 1433, (99, 272): 1434, (282, 117): 1435, (117, 277): 1436, (277, 276): 1437, (256, 67): 1438, (742, 479): 1439, (479, 359): 1440, (359, 272): 1441, (744, 256): 1440, (758, 351): 1441, (743, 46): 1442, (747, 754): 1443, (746, 325): 1444, (256, 743): 1445, (796, 766): 1446, (746, 746): 1447, (784, 764): 1448, (791, 743): 1449, (781, 802): 1450, (804, 783): 1451, (351, 743): 1452, (770, 743): 1453, (802, 258): 1454, (769, 120): 1455, (46, 804): 1456, (101, 747): 1457, (794, 756): 1458, (289, 747): 1459, (788, 758): 1460, (347, 770): 1461, (41, 748): 1462, (743, 877): 1463, (436, 816): 1464, (816, 382): 1465, (884, 747): 1466, (258, 749): 1467, (793, 743): 1468, (777, 744): 1469, (862, 910): 1470, (754, 264): 1471, (264, 791): 1472, (280, 800): 1473, (867, 786): 1474, (760, 940): 1475, (272, 768): 1476, (744, 954): 1477, (747, 272): 1478, (813, 367): 1479, (748, 333): 1480, (10, 784): 1481, (258, 773): 1482, (967, 969): 1483, (969, 971): 1484, (820, 107): 1485, (826, 786): 1486, (744, 977): 1487, (39, 788): 1488, (325, 789): 1489, (809, 758): 1490, (743, 790): 1491, (989, 314): 1492, (314, 743): 1493, (907, 292): 1494, (1002, 260): 1495, (44, 757): 1496, (757, 744): 1497, (1013, 497): 1498, (743, 1017): 1499, (830, 867): 1500, (269, 807): 1501, (807, 296): 1502, (743, 271): 1503, (100, 796): 1504, (332, 868): 1505, (767, 286): 1506, (808, 764): 1507, (866, 747): 1508, (288, 853): 1509, (934, 114): 1510, (114, 792): 1511, (792, 436): 1512, (382, 787): 1513, (787, 938): 1514, (746, 758): 1515, (793, 784): 1516, (280, 818): 1517, (275, 791): 1518, (316, 780): 1519, (756, 744): 1520, (343, 744): 1521, (803, 854): 1522, (270, 946): 1523, (842, 817): 1524, (297, 948): 1525, (747, 950): 1526, (766, 781): 1527, (749, 101): 1528, (296, 744): 1529, (864, 291): 1530, (1084, 1086): 1531, (815, 304): 1532, (428, 743): 1533, (749, 743): 1534, (781, 319): 1535, (809, 743): 1536, (792, 1099): 1537, (743, 41): 1538, (1116, 1118): 1539, (963, 297): 1540, (773, 967): 1541, (971, 1129): 1542, (756, 258): 1543, (854, 826): 1544, (975, 258): 1545, (894, 97): 1546, (769, 1139): 1547, (743, 368): 1548, (1145, 555): 1549, (657, 982): 1550, (982, 39): 1551, (351, 855): 1552, (855, 1150): 1553, (520, 746): 1554, (983, 758): 1555, (1156, 596): 1556, (596, 754): 1557, (985, 743): 1558, (1160, 749): 1559, (810, 777): 1560, (744, 1162): 1561, (1162, 256): 1562, (1165, 273): 1563, (300, 780): 1564, (295, 825): 1565, (905, 813): 1566, (115, 907): 1567, (908, 599): 1568, (302, 996): 1569, (814, 775): 1570, (1178, 42): 1571, (42, 757): 1572, (757, 447): 1573, (1182, 862): 1574, (910, 1007): 1575, (1007, 773): 1576, (1185, 911): 1577, (977, 114): 1578, (114, 765): 1579, (765, 785): 1580, (376, 864): 1581, (864, 256): 1582, (823, 32): 1583, (32, 743): 1584, (910, 1011): 1585, (269, 779): 1586, (866, 344): 1587, (344, 1013): 1588, (497, 777): 1589, (1017, 280): 1590, (800, 830): 1591, (292, 766): 1592, (789, 1199): 1593, (333, 869): 1594, (449, 746): 1595, (315, 767): 1596, (264, 744): 1597, (312, 903): 1598, (903, 1214): 1599, (1214, 963): 1600, (760, 1031): 1601, (468, 838): 1602, (838, 258): 1603, (1220, 1222): 1604, (764, 1225): 1605, (1225, 256): 1606, (1228, 1230): 1607, (271, 767): 1608, (926, 774): 1609, (756, 316): 1610, (258, 767): 1611, (1237, 276): 1612, (256, 1026): 1613, (1026, 768): 1614, (842, 838): 1615, (306, 918): 1616, (1251, 256): 1617, (911, 282): 1618, (931, 515): 1619, (268, 772): 1620, (801, 791): 1621, (744, 844): 1622, (786, 271): 1623, (877, 934): 1624, (938, 788): 1625, (10, 780): 1626, (818, 121): 1627, (256, 811): 1628, (1287, 800): 1629, (767, 1289): 1630, (1289, 1291): 1631, (917, 109): 1632, (296, 756): 1633, (756, 280): 1634, (785, 760): 1635, (294, 1061): 1636, (1061, 1063): 1637, (312, 743): 1638, (743, 874): 1639, (114, 803): 1640, (803, 40): 1641, (892, 808): 1642, (996, 749): 1643, (944, 932): 1644, (311, 803): 1645, (288, 781): 1646, (100, 756): 1647, (870, 945): 1648, (256, 760): 1649, (45, 873): 1650, (962, 100): 1651, (1068, 748): 1652, (116, 744): 1653, (1318, 746): 1654, (1319, 803): 1655, (276, 760): 1656, (760, 1059): 1657, (1059, 840): 1658, (1005, 87): 1659, (829, 744): 1660, (817, 873): 1661, (1073, 1339): 1662, (1339, 884): 1663, (743, 809): 1664, (885, 747): 1665, (256, 813): 1666, (813, 874): 1667, (874, 744): 1668, (743, 316): 1669, (1076, 883): 1670, (883, 1348): 1671, (1348, 1350): 1672, (464, 765): 1673, (765, 1078): 1674, (1078, 1352): 1675, (347, 743): 1676, (743, 951): 1677, (951, 953): 1678, (953, 351): 1679, (768, 749): 1680, (754, 296): 1681, (954, 956): 1682, (956, 769): 1683, (768, 309): 1684, (46, 1008): 1685, (1008, 783): 1686, (743, 50): 1687, (1367, 813): 1688, (46, 769): 1689, (619, 747): 1690, (950, 864): 1691, (291, 931): 1692, (931, 258): 1693, (258, 760): 1694, (760, 744): 1695, (954, 304): 1696, (304, 866): 1697, (1086, 410): 1698, (410, 947): 1699, (947, 102): 1700, (46, 815): 1701, (790, 1384): 1702, (1384, 1091): 1703, (1091, 726): 1704, (726, 796): 1705, (319, 1052): 1706, (743, 1395): 1707, (779, 843): 1708, (843, 781): 1709, (788, 743): 1710, (288, 746): 1711, (747, 1015): 1712, (282, 743): 1713, (333, 1096): 1714, (1096, 771): 1715, (1093, 434): 1716, (434, 771): 1717, (771, 1410): 1718, (1410, 792): 1719, (44, 912): 1720, (743, 347): 1721, (869, 998): 1722, (288, 748): 1723, (783, 288): 1724, (1049, 807): 1725, (749, 989): 1726, (367, 777): 1727, (777, 1100): 1728, (1100, 884): 1729, (757, 294): 1730, (488, 771): 1731, (771, 436): 1732, (436, 771): 1733, (771, 1424): 1734, (1428, 1430): 1735, (929, 1436): 1736, (1436, 276): 1737, (276, 744): 1738, (1439, 359): 1739, (359, 958): 1740, (1442, 1451): 1740, (1453, 877): 1741, (1441, 743): 1742, (1443, 264): 1743, (264, 1449): 1744, (1450, 258): 1745, (289, 1443): 1746, (1488, 1441): 1747, (1444, 789): 1748, (809, 1441): 1749, (830, 1474): 1750, (100, 1446): 1751, (1510, 792): 1752, (792, 1464): 1753, (1464, 1513): 1754, (793, 1448): 1755, (343, 1440): 1756, (746, 1444): 1757, (743, 1462): 1758, (773, 1483): 1759, (1483, 1542): 1760, (1458, 258): 1761, (1441, 1553): 1762, (520, 1444): 1763, (983, 1441): 1764, (1556, 754): 1765, (810, 1469): 1766, (1469, 1162): 1767, (1162, 1445): 1768, (1440, 743): 1769, (1492, 743): 1770, (115, 1494): 1771, (1182, 1470): 1772, (1470, 1576): 1773, (1487, 1579): 1774, (1581, 256): 1775, (1470, 1011): 1776, (1587, 1498): 1777, (1498, 777): 1778, (1449, 1017): 1779, (1017, 1473): 1780, (1473, 830): 1781, (1602, 258): 1782, (1448, 1606): 1783, (1613, 768): 1784, (1474, 271): 1785, (877, 1510): 1786, (1513, 1625): 1787, (1630, 1291): 1788, (1501, 1633): 1789, (1633, 1517): 1790, (1636, 1063): 1791, (892, 1507): 1792, (1654, 1441): 1793, (1656, 1658): 1794, (1662, 884): 1795, (884, 1443): 1796, (777, 1440): 1797, (1440, 1667): 1798, (1667, 1440): 1799, (1440, 1669): 1800, (1670, 1672): 1801, (1443, 296): 1802, (296, 1477): 1803, (1476, 309): 1804, (1442, 1686): 1805, (275, 1449): 1806, (1367, 1479): 1807, (619, 1526): 1808, (1526, 1530): 1809, (1530, 1693): 1810, (1693, 760): 1811, (1477, 1697): 1812, (1697, 1443): 1813, (1531, 1699): 1814, (1699, 102): 1815, (1442, 1532): 1816, (1491, 1703): 1817, (1703, 726): 1818, (726, 1446): 1819, (1446, 1535): 1820, (1535, 1052): 1821, (1708, 1450): 1822, (809, 1442): 1823, (1462, 1714): 1824, (1714, 771): 1825, (1716, 1718): 1826, (1718, 1537): 1827, (1441, 1442): 1828, (1721, 1453): 1829, (788, 1441): 1830, (1479, 1728): 1831, (1728, 1466): 1832, (1739, 958): 1833, (1752, 1754): 1834, (1743, 1449): 1835, (1766, 1768): 1836, (1777, 777): 1837, (289, 1743): 1838, (1779, 1473): 1839, (1473, 1750): 1840, (1741, 1752): 1841, (1754, 1625): 1842, (1789, 1517): 1843, (1795, 1743): 1844, (1797, 1799): 1845, (1799, 1669): 1846, (1802, 1477): 1847, (1808, 1810): 1848, (1810, 760): 1849, (1812, 1443): 1850, (1814, 102): 1851, (1817, 1819): 1852, (1819, 1821): 1853, (1742, 1824): 1854, (1824, 771): 1855, (1826, 1537): 1856, (1721, 1741): 1857, (1839, 1750): 1858, (1741, 1834): 1859, (1834, 1625): 1860, (1795, 1835): 1861, (1845, 1669): 1862, (1848, 760): 1863, (1852, 1821): 1864, (1854, 771): 1865, (1859, 1625): 1866}\n"
          ]
        }
      ],
      "id": "NofmaBrLbpBY"
    },
    {
      "cell_type": "code",
      "source": [
        "max(merges, key=merges.get)"
      ],
      "metadata": {
        "id": "P_6VxCLBqAh1",
        "outputId": "8fe1d69f-c9b9-4531-93da-f031bd730dbc",
        "colab": {
          "base_uri": "https://localhost:8080/"
        },
        "execution": {
          "iopub.status.busy": "2024-09-18T05:24:45.401351Z",
          "iopub.execute_input": "2024-09-18T05:24:45.402224Z",
          "iopub.status.idle": "2024-09-18T05:24:45.408413Z",
          "shell.execute_reply.started": "2024-09-18T05:24:45.402183Z",
          "shell.execute_reply": "2024-09-18T05:24:45.407401Z"
        },
        "trusted": true
      },
      "execution_count": 74,
      "outputs": [
        {
          "output_type": "execute_result",
          "data": {
            "text/plain": [
              "(1844, 1610)"
            ]
          },
          "metadata": {},
          "execution_count": 74
        }
      ],
      "id": "P_6VxCLBqAh1"
    },
    {
      "cell_type": "code",
      "source": [
        "len(vocab)"
      ],
      "metadata": {
        "colab": {
          "base_uri": "https://localhost:8080/"
        },
        "id": "vrQg0wRqcT1l",
        "outputId": "99227d6a-d386-4349-8fe2-ea0e8a33e95e"
      },
      "id": "vrQg0wRqcT1l",
      "execution_count": 132,
      "outputs": [
        {
          "output_type": "execute_result",
          "data": {
            "text/plain": [
              "1867"
            ]
          },
          "metadata": {},
          "execution_count": 132
        }
      ]
    },
    {
      "cell_type": "markdown",
      "source": [
        "# Decoding\n",
        "Given a list of tokens (integers), return python string."
      ],
      "metadata": {
        "id": "8RK8_1izoxUt"
      },
      "id": "8RK8_1izoxUt"
    },
    {
      "cell_type": "code",
      "source": [
        "print(vocab)"
      ],
      "metadata": {
        "execution": {
          "iopub.status.busy": "2024-09-18T05:24:54.530835Z",
          "iopub.execute_input": "2024-09-18T05:24:54.531215Z",
          "iopub.status.idle": "2024-09-18T05:24:54.536833Z",
          "shell.execute_reply.started": "2024-09-18T05:24:54.531181Z",
          "shell.execute_reply": "2024-09-18T05:24:54.535758Z"
        },
        "trusted": true,
        "colab": {
          "base_uri": "https://localhost:8080/"
        },
        "id": "TvsHL7VadjR2",
        "outputId": "b341dc6a-20fd-4e1b-9973-bc77cf848b48"
      },
      "execution_count": 146,
      "outputs": [
        {
          "output_type": "stream",
          "name": "stdout",
          "text": [
            "{0: b'\\x00', 1: b'\\x01', 2: b'\\x02', 3: b'\\x03', 4: b'\\x04', 5: b'\\x05', 6: b'\\x06', 7: b'\\x07', 8: b'\\x08', 9: b'\\t', 10: b'\\n', 11: b'\\x0b', 12: b'\\x0c', 13: b'\\r', 14: b'\\x0e', 15: b'\\x0f', 16: b'\\x10', 17: b'\\x11', 18: b'\\x12', 19: b'\\x13', 20: b'\\x14', 21: b'\\x15', 22: b'\\x16', 23: b'\\x17', 24: b'\\x18', 25: b'\\x19', 26: b'\\x1a', 27: b'\\x1b', 28: b'\\x1c', 29: b'\\x1d', 30: b'\\x1e', 31: b'\\x1f', 32: b' ', 33: b'!', 34: b'\"', 35: b'#', 36: b'$', 37: b'%', 38: b'&', 39: b\"'\", 40: b'(', 41: b')', 42: b'*', 43: b'+', 44: b',', 45: b'-', 46: b'.', 47: b'/', 48: b'0', 49: b'1', 50: b'2', 51: b'3', 52: b'4', 53: b'5', 54: b'6', 55: b'7', 56: b'8', 57: b'9', 58: b':', 59: b';', 60: b'<', 61: b'=', 62: b'>', 63: b'?', 64: b'@', 65: b'A', 66: b'B', 67: b'C', 68: b'D', 69: b'E', 70: b'F', 71: b'G', 72: b'H', 73: b'I', 74: b'J', 75: b'K', 76: b'L', 77: b'M', 78: b'N', 79: b'O', 80: b'P', 81: b'Q', 82: b'R', 83: b'S', 84: b'T', 85: b'U', 86: b'V', 87: b'W', 88: b'X', 89: b'Y', 90: b'Z', 91: b'[', 92: b'\\\\', 93: b']', 94: b'^', 95: b'_', 96: b'`', 97: b'a', 98: b'b', 99: b'c', 100: b'd', 101: b'e', 102: b'f', 103: b'g', 104: b'h', 105: b'i', 106: b'j', 107: b'k', 108: b'l', 109: b'm', 110: b'n', 111: b'o', 112: b'p', 113: b'q', 114: b'r', 115: b's', 116: b't', 117: b'u', 118: b'v', 119: b'w', 120: b'x', 121: b'y', 122: b'z', 123: b'{', 124: b'|', 125: b'}', 126: b'~', 127: b'\\x7f', 128: b'\\x80', 129: b'\\x81', 130: b'\\x82', 131: b'\\x83', 132: b'\\x84', 133: b'\\x85', 134: b'\\x86', 135: b'\\x87', 136: b'\\x88', 137: b'\\x89', 138: b'\\x8a', 139: b'\\x8b', 140: b'\\x8c', 141: b'\\x8d', 142: b'\\x8e', 143: b'\\x8f', 144: b'\\x90', 145: b'\\x91', 146: b'\\x92', 147: b'\\x93', 148: b'\\x94', 149: b'\\x95', 150: b'\\x96', 151: b'\\x97', 152: b'\\x98', 153: b'\\x99', 154: b'\\x9a', 155: b'\\x9b', 156: b'\\x9c', 157: b'\\x9d', 158: b'\\x9e', 159: b'\\x9f', 160: b'\\xa0', 161: b'\\xa1', 162: b'\\xa2', 163: b'\\xa3', 164: b'\\xa4', 165: b'\\xa5', 166: b'\\xa6', 167: b'\\xa7', 168: b'\\xa8', 169: b'\\xa9', 170: b'\\xaa', 171: b'\\xab', 172: b'\\xac', 173: b'\\xad', 174: b'\\xae', 175: b'\\xaf', 176: b'\\xb0', 177: b'\\xb1', 178: b'\\xb2', 179: b'\\xb3', 180: b'\\xb4', 181: b'\\xb5', 182: b'\\xb6', 183: b'\\xb7', 184: b'\\xb8', 185: b'\\xb9', 186: b'\\xba', 187: b'\\xbb', 188: b'\\xbc', 189: b'\\xbd', 190: b'\\xbe', 191: b'\\xbf', 192: b'\\xc0', 193: b'\\xc1', 194: b'\\xc2', 195: b'\\xc3', 196: b'\\xc4', 197: b'\\xc5', 198: b'\\xc6', 199: b'\\xc7', 200: b'\\xc8', 201: b'\\xc9', 202: b'\\xca', 203: b'\\xcb', 204: b'\\xcc', 205: b'\\xcd', 206: b'\\xce', 207: b'\\xcf', 208: b'\\xd0', 209: b'\\xd1', 210: b'\\xd2', 211: b'\\xd3', 212: b'\\xd4', 213: b'\\xd5', 214: b'\\xd6', 215: b'\\xd7', 216: b'\\xd8', 217: b'\\xd9', 218: b'\\xda', 219: b'\\xdb', 220: b'\\xdc', 221: b'\\xdd', 222: b'\\xde', 223: b'\\xdf', 224: b'\\xe0', 225: b'\\xe1', 226: b'\\xe2', 227: b'\\xe3', 228: b'\\xe4', 229: b'\\xe5', 230: b'\\xe6', 231: b'\\xe7', 232: b'\\xe8', 233: b'\\xe9', 234: b'\\xea', 235: b'\\xeb', 236: b'\\xec', 237: b'\\xed', 238: b'\\xee', 239: b'\\xef', 240: b'\\xf0', 241: b'\\xf1', 242: b'\\xf2', 243: b'\\xf3', 244: b'\\xf4', 245: b'\\xf5', 246: b'\\xf6', 247: b'\\xf7', 248: b'\\xf8', 249: b'\\xf9', 250: b'\\xfa', 251: b'\\xfb', 252: b'\\xfc', 253: b'\\xfd', 254: b'\\xfe', 255: b'\\xff', 256: b'e ', 257: b'  ', 258: b's ', 259: b' t', 260: b'th', 261: b'st', 262: b't ', 263: b' a', 264: b'in', 265: b'is', 266: b'he', 267: b'li', 268: b'n ', 269: b' i', 270: b' l', 271: b', ', 272: b'en', 273: b'or', 274: b're', 275: b'on', 276: b'er', 277: b'nd', 278: b'nt', 279: b'le', 280: b' o', 281: b' s', 282: b'd ', 283: b'an', 284: b'em', 285: b'es', 286: b'r ', 287: b'se', 288: b') ', 289: b' e', 290: b'\\n ', 291: b'ar', 292: b'o ', 293: b'ri', 294: b' c', 295: b' w', 296: b'at', 297: b'me', 298: b' p', 299: b'ng', 300: b'\\n\\n', 301: b'te', 302: b'el', 303: b\" '\", 304: b've', 305: b'ts', 306: b'it', 307: b'ti', 308: b'co', 309: b'to', 310: b' f', 311: b' r', 312: b'a ', 313: b' n', 314: b'y ', 315: b'f ', 316: b'. ', 317: b'ot', 318: b'mo', 319: b'ur', 320: b'ns', 321: b'ou', 322: b'al', 323: b\"',\", 324: b' #', 325: b'##', 326: b'# ', 327: b't.', 328: b'pe', 329: b'pr', 330: b'ra', 331: b'de', 332: b'ha', 333: b' [', 334: b'us', 335: b'ct', 336: b'io', 337: b'rs', 338: b'fo', 339: b'lo', 340: b'ho', 341: b'et', 342: b'ce', 343: b'of', 344: b'as', 345: b'hi', 346: b'tr', 347: b'.\\n', 348: b' y', 349: b'= ', 350: b'ed', 351: b't(', 352: b'ro', 353: b' u', 354: b'h ', 355: b'ex', 356: b'g ', 357: b'ch', 358: b' =', 359: b'ic', 360: b'ol', 361: b'no', 362: b'op', 363: b'yo', 364: b' -', 365: b' b', 366: b'il', 367: b'()', 368: b' d', 369: b'ta', 370: b' (', 371: b'ap', 372: b'pp', 373: b'om', 374: b'wh', 375: b'd(', 376: b'll', 377: b'- ', 378: b'oo', 379: b' m', 380: b'Th', 381: b'rt', 382: b\"y'\", 383: b'ea', 384: b'ac', 385: b'--', 386: b'nc', 387: b'oe', 388: b'so', 389: b'um', 390: b'u ', 391: b'rn', 392: b'ke', 393: b'la', 394: b'ly', 395: b']\\n', 396: b'ov', 397: b'tu', 398: b'ge', 399: b'yt', 400: b'ma', 401: b'ty', 402: b'wi', 403: b'si', 404: b'do', 405: b\"['\", 406: b\"']\", 407: b'ad', 408: b'od', 409: b'if', 410: b'rr', 411: b'wo', 412: b' g', 413: b'un', 414: b'l ', 415: b'va', 416: b'ry', 417: b'm ', 418: b'ec', 419: b'nu', 420: b'e(', 421: b'rl', 422: b'Py', 423: b'rk', 424: b' h', 425: b'na', 426: b'fu', 427: b's.', 428: b')\\n', 429: b'ue', 430: b'(l', 431: b' 3', 432: b'\\nl', 433: b' v', 434: b'mp', 435: b'ds', 436: b\"'c\", 437: b'ld', 438: b' +', 439: b'Li', 440: b'k ', 441: b'fi', 442: b'ee', 443: b'lu', 444: b' T', 445: b'1,', 446: b').', 447: b' *', 448: b'* ', 449: b':\\n', 450: b'ev', 451: b'gi', 452: b'+ ', 453: b'gr', 454: b'yp', 455: b'am', 456: b'ls', 457: b'] ', 458: b'ia', 459: b'bl', 460: b\"e'\", 461: b'ig', 462: b'ab', 463: b' j', 464: b'ju', 465: b'pa', 466: b' 2', 467: b'dd', 468: b'su', 469: b'ow', 470: b'ca', 471: b'av', 472: b'di', 473: b\"')\", 474: b'mm', 475: b'sh', 476: b'iv', 477: b't)', 478: b' 4', 479: b' L', 480: b'bo', 481: b'bu', 482: b' \"', 483: b'tt', 484: b'ua', 485: b'ir', 486: b' 0', 487: b'py', 488: b\"'b\", 489: b'po', 490: b'ne', 491: b'\\nT', 492: b'pt', 493: b'[1', 494: b'ru', 495: b'uc', 496: b\"'l\", 497: b'ay', 498: b't,', 499: b'p ', 500: b' P', 501: b'(i', 502: b'cu', 503: b\"('\", 504: b'be', 505: b'.a', 506: b'xx', 507: b'yy', 508: b\"'z\", 509: b'zz', 510: b\"z'\", 511: b'12', 512: b'21', 513: b' 1', 514: b'-1', 515: b'ck', 516: b'mi', 517: b'ss', 518: b'da', 519: b'x ', 520: b'])', 521: b'))', 522: b't\\n', 523: b's,', 524: b'ie', 525: b\"'s\", 526: b'xt', 527: b'm)', 528: b'rm', 529: b'gh', 530: b'os', 531: b'mb', 532: b'ut', 533: b'i ', 534: b' C', 535: b'rc', 536: b'\\xef\\xbc', 537: b'\\xe7\\x9c', 538: b'\\x9c\\x8b', 539: b'\\xe7\\x9e', 540: b'\\x9e\\xa7', 541: b'1 ', 542: b'\\nP', 543: b's\\n', 544: b'rd', 545: b'ui', 546: b'sq', 547: b'qu', 548: b'br', 549: b'gs', 550: b'n(', 551: b'a,', 552: b'ci', 553: b'n.', 554: b'rg', 555: b\"d'\", 556: b\"n'\", 557: b'(c', 558: b's)', 559: b\"' \", 560: b'ak', 561: b'oi', 562: b'ai', 563: b'3,', 564: b'ef', 565: b'ul', 566: b'sy', 567: b'fr', 568: b'0\\n', 569: b'w ', 570: b' S', 571: b' A', 572: b'n,', 573: b'ms', 574: b\"'m\", 575: b\"'y\", 576: b'r/', 577: b'/i', 578: b': ', 579: b'..', 580: b'\\nL', 581: b'Co', 582: b'.i', 583: b' U', 584: b'pl', 585: b'.p', 586: b\"b'\", 587: b'He', 588: b'\\xe4\\xb8', 589: b'10', 590: b'[ ', 591: b' ]', 592: b'cc', 593: b'.)', 594: b'd\\n', 595: b'2]', 596: b'nm', 597: b' I', 598: b' D', 599: b'4]', 600: b'2,', 601: b'ik', 602: b'n*', 603: b'wa', 604: b'(o', 605: b'n)', 606: b' k', 607: b'ey', 608: b'ep', 609: b'ht', 610: b'g.', 611: b'og', 612: b'c ', 613: b'gu', 614: b't:', 615: b'x.', 616: b'(a', 617: b'0 ', 618: b'hr', 619: b'(e', 620: b' V', 621: b'Va', 622: b'eE', 623: b'Er', 624: b'.r', 625: b\"p'\", 626: b\"'x\", 627: b\"x'\", 628: b\"'a\", 629: b\"a'\", 630: b\"c'\", 631: b'Ex', 632: b'\\xa7\\xef', 633: b'\\xbc\\x8c', 634: b'\\xe6\\x88', 635: b'\\x88\\x91', 636: b'\\xb8\\x80', 637: b'\\x80\\xe7', 638: b'\\xa7\\xe4', 639: b'\\xbc\\x81', 640: b'\\xf0\\x9f', 641: b'\\n1', 642: b'9\\n', 643: b'15', 644: b'5 ', 645: b'09', 646: b'94', 647: b'4\\n', 648: b'\\nb', 649: b'ok', 650: b'lt', 651: b't\"', 652: b'\".', 653: b'].', 654: b'im', 655: b'ff', 656: b\"'r\", 657: b\"'g\", 658: b's[', 659: b'[0', 660: b'3\\n', 661: b\"'\\n\", 662: b'As', 663: b'gn', 664: b'y.', 665: b'd,', 666: b'tw', 667: b'b ', 668: b'Do', 669: b'\" ', 670: b'yi', 671: b'(t', 672: b'*f', 673: b'r*', 674: b'*i', 675: b' 9', 676: b's:', 677: b'+=', 678: b'nf', 679: b'\"n', 680: b'\",', 681: b'Si', 682: b'yn', 683: b'ax', 684: b'go', 685: b'(T', 686: b'fe', 687: b'ni', 688: b'eg', 689: b'vi', 690: b'id', 691: b'ib', 692: b'wn', 693: b'e.', 694: b'ya', 695: b'y\\n', 696: b'Yo', 697: b'bi', 698: b'ag', 699: b'e\\n', 700: b'0,', 701: b' .', 702: b'b-', 703: b'up', 704: b'cl', 705: b'-l', 706: b'ug', 707: b'(1', 708: b'):', 709: b' x', 710: b'xr', 711: b'rf', 712: b'\\nW', 713: b'p\\n', 714: b' J', 715: b'Ja', 716: b'3r', 717: b'gl', 718: b'r:', 719: b'x,', 720: b'.e', 721: b't2', 722: b'Us', 723: b'x(', 724: b'ws', 725: b'r)', 726: b'(d', 727: b'p(', 728: b'No', 729: b'ob', 730: b'(4', 731: b'4)', 732: b' N', 733: b' B', 734: b'[]', 735: b'Sl', 736: b\"'d\", 737: b't[', 738: b'\\nE', 739: b'xe', 740: b't1', 741: b'1.', 742: b'.0', 743: b'list', 744: b' th', 745: b'he ', 746: b'    ', 747: b'lem', 748: b'  ##', 749: b'the ', 750: b'men', 751: b's th', 752: b'ele', 753: b' li', 754: b'ent ', 755: b'st.', 756: b'ing', 757: b' and', 758: b'prin', 759: b'int(', 760: b'for', 761: b'  pr', 762: b'e li', 763: b'  li', 764: b'on ', 765: b'st ', 766: b'not ', 767: b'you', 768: b'ts ', 769: b'inde', 770: b'\\n\\n  ', 771: b\"', \", 772: b'is ', 773: b'are ', 774: b' to ', 775: b'rin', 776: b'e th', 777: b' to', 778: b'dex', 779: b's a', 780: b'The ', 781: b'ret', 782: b'tur', 783: b'end(', 784: b'Pyth', 785: b'use ', 786: b'tion', 787: b\", '\", 788: b']\\n  ', 789: b' re', 790: b' in', 791: b' a ', 792: b\"y', \", 793: b'in ', 794: b'str', 795: b't in', 796: b'oes ', 797: b's no', 798: b' is ', 799: b'of t', 800: b'ther', 801: b's in', 802: b'urn', 803: b'ange', 804: b'app', 805: b'pen', 806: b'tho', 807: b'ter', 808: b'ncti', 809: b'\\n  ', 810: b'int', 811: b'and', 812: b'just', 813: b'end', 814: b' st', 815: b'remo', 816: b'url', 817: b'le ', 818: b'ver', 819: b't(li', 820: b'wor', 821: b'List', 822: b's ar', 823: b'with', 824: b's w', 825: b'ork', 826: b'func', 827: b'on a', 828: b' ele', 829: b'e of', 830: b' col', 831: b'. Th', 832: b'in a', 833: b'cti', 834: b'e f', 835: b' it', 836: b')  ', 837: b'in t', 838: b'ch a', 839: b' as ', 840: b'ce ', 841: b'ing ', 842: b'whi', 843: b'nd ', 844: b'e co', 845: b\", 'c\", 846: b\"ly'\", 847: b'ns ', 848: b'ent', 849: b'.ap', 850: b')   ', 851: b's a ', 852: b'at ', 853: b'-- ', 854: b'() ', 855: b'col', 856: b\"']\\n\", 857: b'st o', 858: b't t', 859: b'o t', 860: b'.\\n\\n\\n', 861: b's to', 862: b' con', 863: b', a', 864: b' se', 865: b'e i', 866: b'n e', 867: b'lec', 868: b've ', 869: b'1, ', 870: b' num', 871: b':\\n  ', 872: b'e in', 873: b'loop', 874: b' of', 875: b'tio', 876: b'st =', 877: b' = [', 878: b\"'cur\", 879: b'ge(', 880: b'e s', 881: b'hil', 882: b'ves ', 883: b'mon ', 884: b'd e', 885: b'e e', 886: b'at t', 887: b'move', 888: b'## [', 889: b'\\xe7\\x9c\\x8b', 890: b' typ', 891: b'sts ', 892: b') fu', 893: b'o a', 894: b'dat', 895: b't a', 896: b'thon', 897: b'lor', 898: b'## ', 899: b' of ', 900: b'n li', 901: b'doe', 902: b'ke ', 903: b'var', 904: b'st a', 905: b' app', 906: b'ppen', 907: b', s', 908: b'3, ', 909: b'onst', 910: b'stru', 911: b'use', 912: b' the', 913: b' for', 914: b'or ', 915: b' oth', 916: b'olle', 917: b'fro', 918: b'ion', 919: b'hat ', 920: b'sor', 921: b'st, ', 922: b'orm', 923: b'oth', 924: b'f t', 925: b'our ', 926: b' you', 927: b'ou t', 928: b're ', 929: b'sed ', 930: b'(in', 931: b'che', 932: b'ers ', 933: b') -', 934: b\"'lar\", 935: b'arr', 936: b\"ry'\", 937: b\"'mo\", 938: b\"moe'\", 939: b'or/', 940: b'/in', 941: b'er t', 942: b's f', 943: b'art ', 944: b'umb', 945: b'ber', 946: b'oop', 947: b'or i', 948: b'thod', 949: b'm) ', 950: b') --', 951: b'.in', 952: b'ins', 953: b'ser', 954: b'e gi', 955: b'give', 956: b'ven ', 957: b'd()', 958: b'ense', 959: b'\\xe7\\x9e\\xa7', 960: b'sts', 961: b'\\nPy', 962: b'buil', 963: b'e na', 964: b'name', 965: b'e w', 966: b'in s', 967: b'bra', 968: b'rack', 969: b'cket', 970: b'ets ', 971: b's [ ', 972: b'[ ]', 973: b'e l', 974: b'len', 975: b'cces', 976: b's d', 977: b'e fi', 978: b'fir', 979: b'rst', 980: b'ee ', 981: b'ors ', 982: b'reen', 983: b'd\\n  ', 984: b' an ', 985: b' on ', 986: b'e a', 987: b'aria', 988: b'st\\n', 989: b'empt', 990: b'pty ', 991: b'y li', 992: b's ju', 993: b'd t', 994: b's, ', 995: b'so ', 996: b'ds ', 997: b', 2', 998: b'2, ', 999: b', 3', 1000: b's i', 1001: b'lik', 1002: b' wi', 1003: b'ith', 1004: b'th ', 1005: b').\\n\\n', 1006: b'* c', 1007: b'cts ', 1008: b'ext', 1009: b'nd t', 1010: b's. ', 1011: b'ct ', 1012: b'an ', 1013: b'y w', 1014: b' way', 1015: b' at ', 1016: b'st (', 1017: b' (or', 1018: b'er c', 1019: b'o no', 1020: b'rom', 1021: b'erat', 1022: b'ati', 1023: b' [1', 1024: b'sum', 1025: b't of', 1026: b'hin', 1027: b'e a ', 1028: b'ble ', 1029: b'e lo', 1030: b' tha', 1031: b'mat', 1032: b'hav', 1033: b'his ', 1034: b'a li', 1035: b's y', 1036: b'to ', 1037: b'on, ', 1038: b'hich', 1039: b' add', 1040: b'whe', 1041: b'n i', 1042: b'ms ', 1043: b't en', 1044: b'ents', 1045: b') a', 1046: b's li', 1047: b'e c', 1048: b' com', 1049: b'pat', 1050: b'e ar', 1051: b'e *', 1052: b'n it', 1053: b'its ', 1054: b' if', 1055: b' Py', 1056: b'k o', 1057: b'her', 1058: b'star', 1059: b'man', 1060: b' ov', 1061: b'an a', 1062: b' als', 1063: b'lso ', 1064: b'e st', 1065: b'ran', 1066: b'g t', 1067: b' lo', 1068: b':\\n\\n\\n', 1069: b'anc', 1070: b'ses ', 1071: b'tin', 1072: b'se ', 1073: b'ever', 1074: b'ommo', 1075: b'meth', 1076: b'Com', 1077: b't re', 1078: b'mod', 1079: b'dif', 1080: b'.\\nli', 1081: b'ten', 1082: b'-- s', 1083: b'ear', 1084: b'Val', 1085: b'alue', 1086: b'ueE', 1087: b'Err', 1088: b'rror', 1089: b'.re', 1090: b')\\nli', 1091: b'ace ', 1092: b'd() ', 1093: b\"'she\", 1094: b'hemp', 1095: b\"mp'\", 1096: b\"'xxx\", 1097: b\"yyy'\", 1098: b\", 'z\", 1099: b\"'zzz\", 1100: b' ad', 1101: b'dd ', 1102: b'st)', 1103: b', t', 1104: b'as ', 1105: b\"'b'\", 1106: b'lic', 1107: b\"'c'\", 1108: b'o w', 1109: b'\\xa7\\xef\\xbc', 1110: b'\\xef\\xbc\\x8c', 1111: b'\\xe6\\x88\\x91', 1112: b'\\xe4\\xb8\\x80', 1113: b'\\xef\\xbc\\x81', 1114: b' = ', 1115: b'1215', 1116: b' 12', 1117: b'121 ', 1118: b'1 = ', 1119: b'ook', 1120: b'ark', 1121: b'has ', 1122: b'ype ', 1123: b'st\"', 1124: b'\". ', 1125: b'. Li', 1126: b' squ', 1127: b'quar', 1128: b'e b', 1129: b']. ', 1130: b'ilar', 1131: b'ly t', 1132: b'o st', 1133: b'gs ', 1134: b'en(', 1135: b' acc', 1136: b'ess ', 1137: b'ata', 1138: b'st e', 1139: b'x 0', 1140: b'. (', 1141: b'ial', 1142: b'st d', 1143: b's =', 1144: b'= [', 1145: b\"'re\", 1146: b\"red'\", 1147: b\"'gre\", 1148: b\"en'\", 1149: b't(co', 1150: b'ors[', 1151: b'])  ', 1152: b'))  ', 1153: b'## 3', 1154: b' 3\\n', 1155: b'\\nli', 1156: b'sig', 1157: b'gnm', 1158: b'nmen', 1159: b't ma', 1160: b'kes ', 1161: b'les ', 1162: b'e on', 1163: b'one ', 1164: b'in m', 1165: b' mem', 1166: b'emor', 1167: b'olor', 1168: b'py t', 1169: b'th c', 1170: b'\\n\\nTh', 1171: b'e \"', 1172: b' wor', 1173: b'[1, ', 1174: b', 4]', 1175: b'eld', 1176: b'thi', 1177: b\"'s \", 1178: b'*for', 1179: b'or*', 1180: b'* a', 1181: b'nd *', 1182: b'in*', 1183: b'ruct', 1184: b'e ex', 1185: b'ly ', 1186: b'y u', 1187: b'ful', 1188: b' us', 1189: b'll s', 1190: b's wi', 1191: b'ruc', 1192: b' --', 1193: b'eas', 1194: b'asy', 1195: b'ay t', 1196: b'k a', 1197: b'or o', 1198: b'). ', 1199: b'mov', 1200: b'm t', 1201: b'g i', 1202: b'uare', 1203: b'res ', 1204: b', 4', 1205: b', 1', 1206: b'  s', 1207: b'um ', 1208: b'= 0\\n', 1209: b'0\\n  ', 1210: b'  f', 1211: b'res', 1212: b'f y', 1213: b'a v', 1214: b'iabl', 1215: b'tha', 1216: b'inf', 1217: b'atio', 1218: b'ion ', 1219: b'such', 1220: b'\", ', 1221: b', or', 1222: b'or \"', 1223: b'inc', 1224: b'n co', 1225: b'cod', 1226: b'de ', 1227: b'e o', 1228: b' sy', 1229: b'ynt', 1230: b'ntax', 1231: b', y', 1232: b't w', 1233: b't i', 1234: b'e m', 1235: b'g. ', 1236: b'pos', 1237: b'ref', 1238: b'fer', 1239: b'ces ', 1240: b'to t', 1241: b'e h', 1242: b' al', 1243: b'llo', 1244: b'low', 1245: b'w y', 1246: b'on t', 1247: b'o y', 1248: b'r fu', 1249: b'iti', 1250: b't us', 1251: b'typ', 1252: b'pe ', 1253: b'hen ', 1254: b'it ', 1255: b'The', 1256: b'e u', 1257: b's (', 1258: b'ate', 1259: b'ed ', 1260: b'elop', 1261: b'stat', 1262: b'ers', 1263: b'heck', 1264: b's t', 1265: b'if ', 1266: b'ons ', 1267: b'umen', 1268: b' te', 1269: b'est', 1270: b'st i', 1271: b't ap', 1272: b'appe', 1273: b'ars ', 1274: b'val', 1275: b'alu', 1276: b'ue ', 1277: b'in c', 1278: b'e v', 1279: b\" ['l\", 1280: b\"e']\\n\", 1281: b'st:\\n', 1282: b\"y') \", 1283: b'\\nTh', 1284: b'ery', 1285: b'omm', 1286: b'mon', 1287: b's o', 1288: b'ou s', 1289: b' sh', 1290: b'hou', 1291: b'oul', 1292: b'ld ', 1293: b'd ju', 1294: b'You', 1295: b'ang', 1296: b'atin', 1297: b'g o', 1298: b', w', 1299: b'.\\n\\n', 1300: b'ou c', 1301: b' can', 1302: b'o us', 1303: b'char', 1304: b' pr', 1305: b'e r', 1306: b'e n', 1307: b'num', 1308: b'0, ', 1309: b' ran', 1310: b') re', 1311: b' up', 1312: b'o bu', 1313: b'din', 1314: b'-lo', 1315: b'ild', 1316: b' tra', 1317: b'rad', 1318: b'):\\n', 1319: b't xr', 1320: b'xran', 1321: b') w', 1322: b'erf', 1323: b'sen', 1324: b'sit', 1325: b'ive ', 1326: b'out ', 1327: b'\\n\\nW', 1328: b'con', 1329: b'ont', 1330: b'most', 1331: b'e ab', 1332: b'abov', 1333: b'ove ', 1334: b'com', 1335: b'mmo', 1336: b' whi', 1337: b's ev', 1338: b'ery ', 1339: b'y 3r', 1340: b'3rd ', 1341: b')\\n  ', 1342: b'dds ', 1343: b'gle ', 1344: b'e en', 1345: b'd o', 1346: b'st. ', 1347: b'n er', 1348: b'err', 1349: b'ror', 1350: b'or:', 1351: b' mo', 1352: b'ifie', 1353: b'e or', 1354: b'orig', 1355: b'igin', 1356: b'inal', 1357: b'ert(', 1358: b'x, ', 1359: b't at', 1360: b'n in', 1361: b'g e', 1362: b'e ri', 1363: b'righ', 1364: b't.\\n', 1365: b'.ex', 1366: b'st2', 1367: b' ext', 1368: b'xten', 1369: b'(ele', 1370: b'arc', 1371: b'hes ', 1372: b'or t', 1373: b'x. ', 1374: b'row', 1375: b'ws ', 1376: b'a V', 1377: b't d', 1378: b't a ', 1379: b').\\n', 1380: b't p', 1381: b'pre', 1382: b'ort', 1383: b'in p', 1384: b' pl', 1385: b'lac', 1386: b'e (d', 1387: b'(doe', 1388: b'urn ', 1389: b'ater', 1390: b'red', 1391: b'rev', 1392: b'erse', 1393: b'- re', 1394: b'st.p', 1395: b'.pop', 1396: b'ite ', 1397: b'tic', 1398: b'that', 1399: b'hat', 1400: b\"') \", 1401: b'## a', 1402: b'm a', 1403: b'end\\n', 1404: b't e', 1405: b'd li', 1406: b\" ['x\", 1407: b\"xx'\", 1408: b\"e', \", 1409: b\", 's\", 1410: b\"'yy\", 1411: b\"zz'\", 1412: b'do ', 1413: b'al ', 1414: b'st.\\n', 1415: b'att', 1416: b'e em', 1417: b' []', 1418: b'e ap', 1419: b'() t', 1420: b\"'a'\", 1421: b'nd c', 1422: b'ge ', 1423: b\", 'b\", 1424: b\"'d'\", 1425: b\"d']\\n\", 1426: b\" ['z\", 1427: b\"'z'\", 1428: b'Exer', 1429: b'erc', 1430: b'cis', 1431: b'st1.', 1432: b'1.py', 1433: b' thi', 1434: b'cen', 1435: b'd u', 1436: b'und', 1437: b'nder', 1438: b'e C', 1439: b'.0 L', 1440: b' the ', 1441: b'print(', 1442: b'list.', 1443: b'lement ', 1444: b'    ##', 1445: b'e list', 1446: b'oes not ', 1447: b'        ', 1448: b'Python ', 1449: b' a list', 1450: b'return', 1451: b'append(', 1452: b't(list', 1453: b'\\n\\n  list', 1454: b'urns ', 1455: b'index', 1456: b'.app', 1457: b'elem', 1458: b'string', 1459: b' elem', 1460: b']\\n  prin', 1461: b'.\\n\\n\\n  ', 1462: b')  ##', 1463: b'list = [', 1464: b\"'curl\", 1465: b\"urly'\", 1466: b'd elem', 1467: b's the ', 1468: b'in list', 1469: b' to th', 1470: b' constru', 1471: b'ent in', 1472: b'in a ', 1473: b' other', 1474: b'lection', 1475: b'for/in', 1476: b'ents ', 1477: b' the gi', 1478: b'lemen', 1479: b'end()', 1480: b'  ## [', 1481: b'\\nPyth', 1482: b's are ', 1483: b'bracket', 1484: b'ckets [ ', 1485: b'work', 1486: b'function', 1487: b' the fi', 1488: b\"']\\n  \", 1489: b'## re', 1490: b'\\n  prin', 1491: b'list in', 1492: b'empty ', 1493: b'y list', 1494: b', so ', 1495: b' with', 1496: b', and', 1497: b' and th', 1498: b'y way', 1499: b'list (or', 1500: b' collec', 1501: b' iter', 1502: b'terat', 1503: b'list, ', 1504: b'does ', 1505: b'have ', 1506: b'your ', 1507: b'nction ', 1508: b'n elem', 1509: b') -- ', 1510: b\"'larr\", 1511: b\"ry', \", 1512: b\"y', 'c\", 1513: b\"y', '\", 1514: b\", 'moe'\", 1515: b'    prin', 1516: b'in Pyth', 1517: b' over', 1518: b'on a ', 1519: b'. The ', 1520: b'ing th', 1521: b'of th', 1522: b'ange() ', 1523: b' loop', 1524: b'while ', 1525: b'method', 1526: b'lem) --', 1527: b'not ret', 1528: b'the e', 1529: b'at th', 1530: b' sear', 1531: b'ValueE', 1532: b'remove', 1533: b')\\nlist', 1534: b'the list', 1535: b'retur', 1536: b'\\n  list', 1537: b\"y', 'zzz\", 1538: b'list)', 1539: b' 121 = ', 1540: b'e name', 1541: b'are bra', 1542: b's [ ]. ', 1543: b'ings ', 1544: b'() func', 1545: b'ccess ', 1546: b'data', 1547: b'index 0', 1548: b'list d', 1549: b\"'red'\", 1550: b\"'green\", 1551: b\"reen'\", 1552: b't(col', 1553: b'colors[', 1554: b'])    ', 1555: b'd\\n  prin', 1556: b'signm', 1557: b'nment ', 1558: b' on list', 1559: b'kes the ', 1560: b'int to', 1561: b' the on', 1562: b'e one ', 1563: b' memor', 1564: b'\\n\\nThe ', 1565: b' work', 1566: b' append', 1567: b's, s', 1568: b'3, 4]', 1569: b'elds ', 1570: b' strin', 1571: b'*for*', 1572: b'* and', 1573: b' and *', 1574: b'in* con', 1575: b'structs ', 1576: b'cts are ', 1577: b'ly use', 1578: b'e fir', 1579: b'rst ', 1580: b'st use ', 1581: b'll se', 1582: b' see ', 1583: b'with ', 1584: b' list', 1585: b'struct ', 1586: b' is a', 1587: b'n eas', 1588: b'asy w', 1589: b'ay to', 1590: b' (or o', 1591: b'ther col', 1592: b'o not ', 1593: b' remov', 1594: b' [1, ', 1595: b':\\n    ', 1596: b'f you', 1597: b'in th', 1598: b'a var', 1599: b'variabl', 1600: b'iable na', 1601: b'format', 1602: b'such a', 1603: b'ch as ', 1604: b'\", or \"', 1605: b'on cod', 1606: b'code ', 1607: b' syntax', 1608: b', you', 1609: b' you to ', 1610: b'ing. ', 1611: b's you', 1612: b'refer', 1613: b'e hin', 1614: b'hints ', 1615: b'which a', 1616: b'ition', 1617: b'type ', 1618: b'used ', 1619: b'check', 1620: b'n is ', 1621: b's in a ', 1622: b' the co', 1623: b'tion, ', 1624: b\" = ['lar\", 1625: b\"moe']\\n  \", 1626: b'\\nThe ', 1627: b'very', 1628: b'e and', 1629: b's other', 1630: b'you sh', 1631: b' shoul', 1632: b'from', 1633: b'ating', 1634: b'ing o', 1635: b'use for', 1636: b' can a', 1637: b'an also ', 1638: b'a list', 1639: b'list of', 1640: b'range', 1641: b'ange(', 1642: b') functi', 1643: b'ds the ', 1644: b'umbers ', 1645: b' range', 1646: b') ret', 1647: b'ding', 1648: b' number', 1649: b'e for', 1650: b'-loop', 1651: b'build', 1652: b':\\n\\n\\n  ##', 1653: b't th', 1654: b'):\\n    ', 1655: b't xrange', 1656: b'erfor', 1657: b'forman', 1658: b'mance ', 1659: b').\\n\\nW', 1660: b'e of th', 1661: b'le loop', 1662: b'every 3r', 1663: b'y 3rd e', 1664: b'list\\n  ', 1665: b'e elem', 1666: b'e end', 1667: b'end of', 1668: b' of th', 1669: b'list. ', 1670: b'Common ', 1671: b'mon err', 1672: b'error:', 1673: b'just ', 1674: b'st mod', 1675: b'modifie', 1676: b'.\\nlist', 1677: b'list.in', 1678: b'.inser', 1679: b'sert(', 1680: b'ts the ', 1681: b'ent at', 1682: b'e given ', 1683: b'ven inde', 1684: b'ts to', 1685: b'.ext', 1686: b'extend(', 1687: b'list2', 1688: b' extend', 1689: b'.inde', 1690: b'(elem', 1691: b') -- se', 1692: b'arche', 1693: b'ches ', 1694: b's for', 1695: b'for th', 1696: b'e give', 1697: b'ven e', 1698: b'ueErr', 1699: b'rror i', 1700: b'or if', 1701: b'.remo', 1702: b' in pl', 1703: b' place ', 1704: b'ace (d', 1705: b'(does ', 1706: b'urn it', 1707: b'list.pop', 1708: b's and ', 1709: b'nd ret', 1710: b']\\n  list', 1711: b')     ', 1712: b'lem at ', 1713: b'd list', 1714: b\" ['xxx\", 1715: b\"'xxx', \", 1716: b\"'shemp\", 1717: b\"mp', \", 1718: b\"', 'yy\", 1719: b\"'yyy', \", 1720: b', the', 1721: b'list.\\n', 1722: b'1, 2, ', 1723: b')   ##', 1724: b'end() ', 1725: b'patter', 1726: b'the empt', 1727: b'() to', 1728: b' to ad', 1729: b' add e', 1730: b' and c', 1731: b\"'b', \", 1732: b\"', 'c\", 1733: b\"'c', \", 1734: b\"', 'd'\", 1735: b'Exercis', 1736: b'sed und', 1737: b'under', 1738: b'er th', 1739: b'.0 Lic', 1740: b'list.append(', 1741: b'\\n\\n  list = [', 1742: b'print(list', 1743: b'lement in', 1744: b'in a list', 1745: b'returns ', 1746: b' element ', 1747: b\"']\\n  print(\", 1748: b'    ## re', 1749: b'\\n  print(', 1750: b' collection', 1751: b'does not ', 1752: b\"'larry', \", 1753: b\"y', 'curl\", 1754: b\"'curly', '\", 1755: b'in Python ', 1756: b'of the ', 1757: b'        ##', 1758: b'list)  ##', 1759: b'are bracket', 1760: b'brackets [ ]. ', 1761: b'strings ', 1762: b'print(colors[', 1763: b'])    ##', 1764: b'd\\n  print(', 1765: b'signment ', 1766: b'int to th', 1767: b' to the on', 1768: b'e one list', 1769: b' the list', 1770: b'empty list', 1771: b's, so ', 1772: b'in* constru', 1773: b' constructs are ', 1774: b' the first ', 1775: b'll see ', 1776: b' construct ', 1777: b'n easy way', 1778: b'y way to', 1779: b' a list (or', 1780: b' (or other', 1781: b' other col', 1782: b'such as ', 1783: b'Python code ', 1784: b'e hints ', 1785: b'lection, ', 1786: b\" = ['larr\", 1787: b\"y', 'moe']\\n  \", 1788: b'you shoul', 1789: b' iterating', 1790: b'ating over', 1791: b' can also ', 1792: b') function ', 1793: b'):\\n    print(', 1794: b'erformance ', 1795: b'every 3rd e', 1796: b'd element ', 1797: b' to the ', 1798: b' the end of', 1799: b'end of the ', 1800: b' the list. ', 1801: b'Common error:', 1802: b'lement at', 1803: b'at the gi', 1804: b'ents to', 1805: b'list.extend(', 1806: b'on a list', 1807: b' extend()', 1808: b'(elem) --', 1809: b'lem) -- sear', 1810: b' searches ', 1811: b'ches for', 1812: b' the given e', 1813: b'ven element ', 1814: b'ValueError i', 1815: b'rror if', 1816: b'list.remove', 1817: b'list in place ', 1818: b' place (d', 1819: b'(does not ', 1820: b'oes not retur', 1821: b'return it', 1822: b's and return', 1823: b'\\n  list.', 1824: b\")  ## ['xxx\", 1825: b\" ['xxx', \", 1826: b\"'shemp', 'yy\", 1827: b\"', 'yyy', 'zzz\", 1828: b'print(list.', 1829: b'list.\\n\\n\\n  list', 1830: b']\\n  print(', 1831: b'end() to ad', 1832: b' to add elem', 1833: b'.0 License', 1834: b\"'larry', 'curly', '\", 1835: b'lement in a list', 1836: b'int to the one list', 1837: b'n easy way to', 1838: b' element in', 1839: b' a list (or other', 1840: b' other collection', 1841: b\"\\n\\n  list = ['larry', \", 1842: b\"'curly', 'moe']\\n  \", 1843: b' iterating over', 1844: b'every 3rd element in', 1845: b' to the end of the ', 1846: b'end of the list. ', 1847: b'lement at the gi', 1848: b'(elem) -- searches ', 1849: b' searches for', 1850: b' the given element ', 1851: b'ValueError if', 1852: b'list in place (does not ', 1853: b'(does not return it', 1854: b\"print(list)  ## ['xxx\", 1855: b\")  ## ['xxx', \", 1856: b\"'shemp', 'yyy', 'zzz\", 1857: b'list.\\n\\n\\n  list = [', 1858: b' a list (or other collection', 1859: b\"\\n\\n  list = ['larry', 'curly', '\", 1860: b\"'larry', 'curly', 'moe']\\n  \", 1861: b'every 3rd element in a list', 1862: b' to the end of the list. ', 1863: b'(elem) -- searches for', 1864: b'list in place (does not return it', 1865: b\"print(list)  ## ['xxx', \", 1866: b\"\\n\\n  list = ['larry', 'curly', 'moe']\\n  \"}\n"
          ]
        }
      ],
      "id": "TvsHL7VadjR2"
    },
    {
      "cell_type": "code",
      "source": [
        "def decode(ids):\n",
        "  \"\"\"Given a list of tokens (integers), return a python string\n",
        "  \"\"\"\n",
        "  assert isinstance(ids, list), \"ids must be list\"\n",
        "  assert all((isinstance(i, int) and i>=0 ) for i in ids), \\\n",
        "    \"ids must be a list of integers in [0, vocab_size)\"\n",
        "#   out = bytes()\n",
        "#   for b in ids:\n",
        "#     out += vocab[b]\n",
        "  out = b\"\".join(vocab[b] for b in ids)\n",
        "  return out.decode(\"utf-8\", errors='replace') # see utf-8 spec"
      ],
      "metadata": {
        "id": "vmaxsaDNo3bY",
        "execution": {
          "iopub.status.busy": "2024-09-18T05:25:41.635331Z",
          "iopub.execute_input": "2024-09-18T05:25:41.635772Z",
          "iopub.status.idle": "2024-09-18T05:25:41.642048Z",
          "shell.execute_reply.started": "2024-09-18T05:25:41.635732Z",
          "shell.execute_reply": "2024-09-18T05:25:41.640842Z"
        },
        "trusted": true
      },
      "execution_count": 20,
      "outputs": [],
      "id": "vmaxsaDNo3bY"
    },
    {
      "cell_type": "code",
      "source": [
        "decode([66,32,67]), decode([128])"
      ],
      "metadata": {
        "execution": {
          "iopub.status.busy": "2024-09-18T05:09:05.274835Z",
          "iopub.execute_input": "2024-09-18T05:09:05.275505Z",
          "iopub.status.idle": "2024-09-18T05:09:05.282052Z",
          "shell.execute_reply.started": "2024-09-18T05:09:05.275466Z",
          "shell.execute_reply": "2024-09-18T05:09:05.280822Z"
        },
        "trusted": true,
        "colab": {
          "base_uri": "https://localhost:8080/"
        },
        "id": "tmOxa_radjR2",
        "outputId": "1f3d9e8f-5add-4226-fd58-34d896a8af5f"
      },
      "execution_count": 21,
      "outputs": [
        {
          "output_type": "execute_result",
          "data": {
            "text/plain": [
              "('B C', '�')"
            ]
          },
          "metadata": {},
          "execution_count": 21
        }
      ],
      "id": "tmOxa_radjR2"
    },
    {
      "cell_type": "code",
      "source": [
        "s=\"\"\"assert isinstance(ids, list), \"ids must be a list\" \"\"\"\n",
        "tokens = s.encode(\"utf-8\")\n",
        "decode(list(tokens))"
      ],
      "metadata": {
        "id": "LcMnCYc4sV0o",
        "outputId": "d831c66a-8e3d-46be-a7f7-8164fe4c09fc",
        "colab": {
          "base_uri": "https://localhost:8080/",
          "height": 35
        },
        "execution": {
          "iopub.status.busy": "2024-09-18T05:09:10.635030Z",
          "iopub.execute_input": "2024-09-18T05:09:10.635740Z",
          "iopub.status.idle": "2024-09-18T05:09:10.641692Z",
          "shell.execute_reply.started": "2024-09-18T05:09:10.635698Z",
          "shell.execute_reply": "2024-09-18T05:09:10.640698Z"
        },
        "trusted": true
      },
      "execution_count": 22,
      "outputs": [
        {
          "output_type": "execute_result",
          "data": {
            "text/plain": [
              "'assert isinstance(ids, list), \"ids must be a list\" '"
            ],
            "application/vnd.google.colaboratory.intrinsic+json": {
              "type": "string"
            }
          },
          "metadata": {},
          "execution_count": 22
        }
      ],
      "id": "LcMnCYc4sV0o"
    },
    {
      "cell_type": "code",
      "source": [
        "decode(enc)==s, decode(enc)"
      ],
      "metadata": {
        "id": "AHt8b3_Eslsm",
        "execution": {
          "iopub.status.busy": "2024-09-18T05:27:37.880633Z",
          "iopub.execute_input": "2024-09-18T05:27:37.881381Z",
          "iopub.status.idle": "2024-09-18T05:27:37.888566Z",
          "shell.execute_reply.started": "2024-09-18T05:27:37.881338Z",
          "shell.execute_reply": "2024-09-18T05:27:37.887444Z"
        },
        "trusted": true,
        "colab": {
          "base_uri": "https://localhost:8080/"
        },
        "outputId": "557ca15a-0a30-4e22-92a7-19ced4a1a0d1"
      },
      "execution_count": 147,
      "outputs": [
        {
          "output_type": "execute_result",
          "data": {
            "text/plain": [
              "(True,\n",
              " 'Hello world! 世界这么大，我想去看看。看一看，瞧一瞧了啊！我瞧瞧！\\n👋🌍\\n121 + 458 = 679\\n1215 - 121 = 1094\\n-1215 + 121 = -1094\\nPython Lists\\n\\nbookmark_border\\nPython has a great built-in list type named \"list\". List literals are written within square brackets [ ]. Lists work similarly to strings -- use the len() function and square brackets [ ] to access data, with the first element at index 0. (See the official python.org list docs.)\\n\\n\\n  colors = [\\'red\\', \\'blue\\', \\'green\\']\\n  print(colors[0])    ## red\\n  print(colors[2])    ## green\\n  print(len(colors))  ## 3\\nlist of strings \\'red\\' \\'blue \\'green\\'\\n\\nAssignment with an = on lists does not make a copy. Instead, assignment makes the two variables point to the one list in memory.\\n\\n\\n  b = colors   ## Does not copy the list\\nboth colors and b point to the one list\\n\\nThe \"empty list\" is just an empty pair of brackets [ ]. The \\'+\\' works to append two lists, so [1, 2] + [3, 4] yields [1, 2, 3, 4] (this is just like + with strings).\\n\\nFOR and IN\\nPython\\'s *for* and *in* constructs are extremely useful, and the first use of them we\\'ll see is with lists. The *for* construct -- for var in list -- is an easy way to look at each element in a list (or other collection). Do not add or remove from the list during iteration.\\n\\n\\n  squares = [1, 4, 9, 16]\\n  sum = 0\\n  for num in squares:\\n    sum += num\\n  print(sum)  ## 30\\nIf you know what sort of thing is in the list, use a variable name in the loop that captures that information such as \"num\", or \"name\", or \"url\". Since Python code does not have other syntax to remind you of types, your variable names are a key way for you to keep straight what is going on. (This is a little misleading. As you gain more exposure to python, you\\'ll see references to type hints which allow you to add typing information to your function definitions. Python doesn\\'t use these type hints when it runs your programs. They are used by other programs such as IDEs (integrated development environments) and static analysis tools like linters/type checkers to validate if your functions are called with compatible arguments.)\\n\\nThe *in* construct on its own is an easy way to test if an element appears in a list (or other collection) -- value in collection -- tests if the value is in the collection, returning True/False.\\n\\n\\n  list = [\\'larry\\', \\'curly\\', \\'moe\\']\\n  if \\'curly\\' in list:\\n    print(\\'yay\\') ## yay\\nThe for/in constructs are very commonly used in Python code and work on data types other than list, so you should just memorize their syntax. You may have habits from other languages where you start manually iterating over a collection, where in Python you should just use for/in.\\n\\nYou can also use for/in to work on a string. The string acts like a list of its chars, so for ch in s: print(ch) prints all the chars in a string.\\n\\nRange\\nThe range(n) function yields the numbers 0, 1, ... n-1, and range(a, b) returns a, a+1, ... b-1 -- up to but not including the last number. The combination of the for-loop and the range() function allow you to build a traditional numeric for loop:\\n\\n\\n  ## print the numbers from 0 through 99\\n  for i in range(100):\\n    print(i)\\nThere is a variant xrange() which avoids the cost of building the whole list for performance sensitive cases (in Python 3, range() will have the good performance behavior and you can forget about xrange()).\\n\\nWhile Loop\\nPython also has the standard while-loop, and the *break* and *continue* statements work as in C++ and Java, altering the course of the innermost loop. The above for/in loops solves the common case of iterating over every element in a list, but the while loop gives you total control over the index numbers. Here\\'s a while loop which accesses every 3rd element in a list:\\n\\n\\n  ## Access every 3rd element in a list\\n  i = 0\\n  while i < len(a):\\n    print(a[i])\\n    i = i + 3\\nList Methods\\nHere are some other common list methods.\\n\\nlist.append(elem) -- adds a single element to the end of the list. Common error: does not return the new list, just modifies the original.\\nlist.insert(index, elem) -- inserts the element at the given index, shifting elements to the right.\\nlist.extend(list2) adds the elements in list2 to the end of the list. Using + or += on a list is similar to using extend().\\nlist.index(elem) -- searches for the given element from the start of the list and returns its index. Throws a ValueError if the element does not appear (use \"in\" to check without a ValueError).\\nlist.remove(elem) -- searches for the first instance of the given element and removes it (throws ValueError if not present)\\nlist.sort() -- sorts the list in place (does not return it). (The sorted() function shown later is preferred.)\\nlist.reverse() -- reverses the list in place (does not return it)\\nlist.pop(index) -- removes and returns the element at the given index. Returns the rightmost element if index is omitted (roughly the opposite of append()).\\nNotice that these are *methods* on a list object, while len() is a function that takes the list (or string or whatever) as an argument.\\n\\n\\n  list = [\\'larry\\', \\'curly\\', \\'moe\\']\\n  list.append(\\'shemp\\')         ## append elem at end\\n  list.insert(0, \\'xxx\\')        ## insert elem at index 0\\n  list.extend([\\'yyy\\', \\'zzz\\'])  ## add list of elems at end\\n  print(list)  ## [\\'xxx\\', \\'larry\\', \\'curly\\', \\'moe\\', \\'shemp\\', \\'yyy\\', \\'zzz\\']\\n  print(list.index(\\'curly\\'))    ## 2\\n\\n  list.remove(\\'curly\\')         ## search and remove that element\\n  list.pop(1)                  ## removes and returns \\'larry\\'\\n  print(list)  ## [\\'xxx\\', \\'moe\\', \\'shemp\\', \\'yyy\\', \\'zzz\\']\\nCommon error: note that the above methods do not *return* the modified list, they just modify the original list.\\n\\n\\n  list = [1, 2, 3]\\n  print(list.append(4))   ## NO, does not work, append() returns None\\n  ## Correct pattern:\\n  list.append(4)\\n  print(list)  ## [1, 2, 3, 4]\\nList Build Up\\nOne common pattern is to start a list as the empty list [], then use append() or extend() to add elements to it:\\n\\n\\n  list = []          ## Start as the empty list\\n  list.append(\\'a\\')   ## Use append() to add elements\\n  list.append(\\'b\\')\\nList Slices\\nSlices work on lists just as with strings, and can also be used to change sub-parts of the list.\\n\\n\\n  list = [\\'a\\', \\'b\\', \\'c\\', \\'d\\']\\n  print(list[1:-1])   ## [\\'b\\', \\'c\\']\\n  list[0:2] = \\'z\\'    ## replace [\\'a\\', \\'b\\'] with [\\'z\\']\\n  print(list)         ## [\\'z\\', \\'c\\', \\'d\\']\\nExercise: list1.py\\nTo practice the material in this section, try the problems in list1.py that do not use sorting (in the Basic Exercises).\\n\\nWas this helpful?\\n\\nExcept as otherwise noted, the content of this page is licensed under the Creative Commons Attribution 4.0 License, and code samples are licensed under the Apache 2.0 License. For details, see the Google Developers Site Policies. Java is a registered trademark of Oracle and/or its affiliates.\\n\\nLast updated 2024-07-23 UTC.\\n')"
            ]
          },
          "metadata": {},
          "execution_count": 147
        }
      ],
      "id": "AHt8b3_Eslsm"
    },
    {
      "cell_type": "code",
      "source": [
        "encode(\"\")"
      ],
      "metadata": {
        "id": "tTAMsXKMsopc",
        "outputId": "52ef90a7-b40d-4575-edc9-03c958d9628e",
        "colab": {
          "base_uri": "https://localhost:8080/"
        },
        "execution": {
          "iopub.status.busy": "2024-09-18T05:17:06.308693Z",
          "iopub.execute_input": "2024-09-18T05:17:06.309561Z",
          "iopub.status.idle": "2024-09-18T05:17:06.316210Z",
          "shell.execute_reply.started": "2024-09-18T05:17:06.309517Z",
          "shell.execute_reply": "2024-09-18T05:17:06.315139Z"
        },
        "trusted": true
      },
      "execution_count": 133,
      "outputs": [
        {
          "output_type": "execute_result",
          "data": {
            "text/plain": [
              "[]"
            ]
          },
          "metadata": {},
          "execution_count": 133
        }
      ],
      "id": "tTAMsXKMsopc"
    },
    {
      "cell_type": "code",
      "source": [
        "len(counts)"
      ],
      "metadata": {
        "execution": {
          "iopub.status.busy": "2024-09-18T05:04:43.137298Z",
          "iopub.execute_input": "2024-09-18T05:04:43.138155Z",
          "iopub.status.idle": "2024-09-18T05:04:43.143909Z",
          "shell.execute_reply.started": "2024-09-18T05:04:43.138105Z",
          "shell.execute_reply": "2024-09-18T05:04:43.142906Z"
        },
        "trusted": true,
        "colab": {
          "base_uri": "https://localhost:8080/"
        },
        "id": "6C7YQvamdjR3",
        "outputId": "19e45fa7-133f-43f0-8f1e-f869774993bd"
      },
      "execution_count": 134,
      "outputs": [
        {
          "output_type": "execute_result",
          "data": {
            "text/plain": [
              "189"
            ]
          },
          "metadata": {},
          "execution_count": 134
        }
      ],
      "id": "6C7YQvamdjR3"
    },
    {
      "cell_type": "markdown",
      "source": [
        "# Encode Tiny Shakespeare"
      ],
      "metadata": {
        "id": "o77SMqM6Oy6l"
      },
      "id": "o77SMqM6Oy6l"
    },
    {
      "cell_type": "code",
      "source": [
        "# encode tiny shakespeare\n",
        "with open(\"input.txt\",\"r\") as f:\n",
        "  input = f.read()\n",
        "enc = encode(input)"
      ],
      "metadata": {
        "id": "q8ZsQykdiqm_"
      },
      "id": "q8ZsQykdiqm_",
      "execution_count": 156,
      "outputs": []
    },
    {
      "cell_type": "code",
      "source": [
        "print(len(vocab), vocab)"
      ],
      "metadata": {
        "colab": {
          "base_uri": "https://localhost:8080/"
        },
        "id": "X19FNVqQj3oI",
        "outputId": "eb97bd66-5968-4a08-9379-a38ab33b0411"
      },
      "id": "X19FNVqQj3oI",
      "execution_count": 157,
      "outputs": [
        {
          "output_type": "stream",
          "name": "stdout",
          "text": [
            "10237 {0: b'\\x00', 1: b'\\x01', 2: b'\\x02', 3: b'\\x03', 4: b'\\x04', 5: b'\\x05', 6: b'\\x06', 7: b'\\x07', 8: b'\\x08', 9: b'\\t', 10: b'\\n', 11: b'\\x0b', 12: b'\\x0c', 13: b'\\r', 14: b'\\x0e', 15: b'\\x0f', 16: b'\\x10', 17: b'\\x11', 18: b'\\x12', 19: b'\\x13', 20: b'\\x14', 21: b'\\x15', 22: b'\\x16', 23: b'\\x17', 24: b'\\x18', 25: b'\\x19', 26: b'\\x1a', 27: b'\\x1b', 28: b'\\x1c', 29: b'\\x1d', 30: b'\\x1e', 31: b'\\x1f', 32: b' ', 33: b'!', 34: b'\"', 35: b'#', 36: b'$', 37: b'%', 38: b'&', 39: b\"'\", 40: b'(', 41: b')', 42: b'*', 43: b'+', 44: b',', 45: b'-', 46: b'.', 47: b'/', 48: b'0', 49: b'1', 50: b'2', 51: b'3', 52: b'4', 53: b'5', 54: b'6', 55: b'7', 56: b'8', 57: b'9', 58: b':', 59: b';', 60: b'<', 61: b'=', 62: b'>', 63: b'?', 64: b'@', 65: b'A', 66: b'B', 67: b'C', 68: b'D', 69: b'E', 70: b'F', 71: b'G', 72: b'H', 73: b'I', 74: b'J', 75: b'K', 76: b'L', 77: b'M', 78: b'N', 79: b'O', 80: b'P', 81: b'Q', 82: b'R', 83: b'S', 84: b'T', 85: b'U', 86: b'V', 87: b'W', 88: b'X', 89: b'Y', 90: b'Z', 91: b'[', 92: b'\\\\', 93: b']', 94: b'^', 95: b'_', 96: b'`', 97: b'a', 98: b'b', 99: b'c', 100: b'd', 101: b'e', 102: b'f', 103: b'g', 104: b'h', 105: b'i', 106: b'j', 107: b'k', 108: b'l', 109: b'm', 110: b'n', 111: b'o', 112: b'p', 113: b'q', 114: b'r', 115: b's', 116: b't', 117: b'u', 118: b'v', 119: b'w', 120: b'x', 121: b'y', 122: b'z', 123: b'{', 124: b'|', 125: b'}', 126: b'~', 127: b'\\x7f', 128: b'\\x80', 129: b'\\x81', 130: b'\\x82', 131: b'\\x83', 132: b'\\x84', 133: b'\\x85', 134: b'\\x86', 135: b'\\x87', 136: b'\\x88', 137: b'\\x89', 138: b'\\x8a', 139: b'\\x8b', 140: b'\\x8c', 141: b'\\x8d', 142: b'\\x8e', 143: b'\\x8f', 144: b'\\x90', 145: b'\\x91', 146: b'\\x92', 147: b'\\x93', 148: b'\\x94', 149: b'\\x95', 150: b'\\x96', 151: b'\\x97', 152: b'\\x98', 153: b'\\x99', 154: b'\\x9a', 155: b'\\x9b', 156: b'\\x9c', 157: b'\\x9d', 158: b'\\x9e', 159: b'\\x9f', 160: b'\\xa0', 161: b'\\xa1', 162: b'\\xa2', 163: b'\\xa3', 164: b'\\xa4', 165: b'\\xa5', 166: b'\\xa6', 167: b'\\xa7', 168: b'\\xa8', 169: b'\\xa9', 170: b'\\xaa', 171: b'\\xab', 172: b'\\xac', 173: b'\\xad', 174: b'\\xae', 175: b'\\xaf', 176: b'\\xb0', 177: b'\\xb1', 178: b'\\xb2', 179: b'\\xb3', 180: b'\\xb4', 181: b'\\xb5', 182: b'\\xb6', 183: b'\\xb7', 184: b'\\xb8', 185: b'\\xb9', 186: b'\\xba', 187: b'\\xbb', 188: b'\\xbc', 189: b'\\xbd', 190: b'\\xbe', 191: b'\\xbf', 192: b'\\xc0', 193: b'\\xc1', 194: b'\\xc2', 195: b'\\xc3', 196: b'\\xc4', 197: b'\\xc5', 198: b'\\xc6', 199: b'\\xc7', 200: b'\\xc8', 201: b'\\xc9', 202: b'\\xca', 203: b'\\xcb', 204: b'\\xcc', 205: b'\\xcd', 206: b'\\xce', 207: b'\\xcf', 208: b'\\xd0', 209: b'\\xd1', 210: b'\\xd2', 211: b'\\xd3', 212: b'\\xd4', 213: b'\\xd5', 214: b'\\xd6', 215: b'\\xd7', 216: b'\\xd8', 217: b'\\xd9', 218: b'\\xda', 219: b'\\xdb', 220: b'\\xdc', 221: b'\\xdd', 222: b'\\xde', 223: b'\\xdf', 224: b'\\xe0', 225: b'\\xe1', 226: b'\\xe2', 227: b'\\xe3', 228: b'\\xe4', 229: b'\\xe5', 230: b'\\xe6', 231: b'\\xe7', 232: b'\\xe8', 233: b'\\xe9', 234: b'\\xea', 235: b'\\xeb', 236: b'\\xec', 237: b'\\xed', 238: b'\\xee', 239: b'\\xef', 240: b'\\xf0', 241: b'\\xf1', 242: b'\\xf2', 243: b'\\xf3', 244: b'\\xf4', 245: b'\\xf5', 246: b'\\xf6', 247: b'\\xf7', 248: b'\\xf8', 249: b'\\xf9', 250: b'\\xfa', 251: b'\\xfb', 252: b'\\xfc', 253: b'\\xfd', 254: b'\\xfe', 255: b'\\xff', 256: b'e ', 257: b' t', 258: b'th', 259: b'he', 260: b't ', 261: b's ', 262: b'd ', 263: b', ', 264: b' a', 265: b'ou', 266: b' s', 267: b' h', 268: b'er', 269: b' m', 270: b'in', 271: b' w', 272: b'r ', 273: b'y ', 274: b'an', 275: b're', 276: b'ha', 277: b'nd', 278: b':\\n', 279: b'n ', 280: b' b', 281: b'or', 282: b'at', 283: b'o ', 284: b'en', 285: b'is', 286: b' o', 287: b'\\n\\n', 288: b' i', 289: b'ar', 290: b'hi', 291: b'st', 292: b'.\\n', 293: b' f', 294: b'es', 295: b'on', 296: b'll', 297: b'ea', 298: b'me', 299: b'it', 300: b've', 301: b'to', 302: b'se', 303: b',\\n', 304: b' d', 305: b'l ', 306: b' c', 307: b'ur', 308: b'no', 309: b'ho', 310: b' n', 311: b' l', 312: b' y', 313: b'ng', 314: b'h ', 315: b'yo', 316: b'f ', 317: b' p', 318: b'te', 319: b'le', 320: b'I ', 321: b'al', 322: b'\\nT', 323: b' I', 324: b'ot', 325: b'ow', 326: b'be', 327: b'ne', 328: b'as', 329: b'wi', 330: b'e,', 331: b'of', 332: b'\\nA', 333: b'ee', 334: b'nt', 335: b'ed', 336: b'u ', 337: b'om', 338: b'ro', 339: b'el', 340: b' g', 341: b'de', 342: b'lo', 343: b'ce', 344: b'ma', 345: b'fo', 346: b'us', 347: b'sh', 348: b'co', 349: b'ch', 350: b'il', 351: b'et', 352: b'Th', 353: b'ri', 354: b'we', 355: b'ti', 356: b'my', 357: b'ut', 358: b'so', 359: b'li', 360: b'\\nW', 361: b'ir', 362: b'a ', 363: b'rd', 364: b'rs', 365: b'oo', 366: b'ra', 367: b'ay', 368: b'g ', 369: b'm ', 370: b'\\nI', 371: b'av', 372: b's,', 373: b'ld', 374: b' r', 375: b'ke', 376: b'ai', 377: b'la', 378: b'rt', 379: b'ie', 380: b' e', 381: b'wh', 382: b'ul', 383: b'un', 384: b'ad', 385: b'im', 386: b'An', 387: b\"'s\", 388: b'si', 389: b'wa', 390: b'do', 391: b'gh', 392: b'nc', 393: b'd,', 394: b'ic', 395: b'pe', 396: b'ta', 397: b't,', 398: b'ge', 399: b'wo', 400: b'; ', 401: b' u', 402: b'tr', 403: b'w ', 404: b'ss', 405: b'mo', 406: b'?\\n', 407: b'Wh', 408: b'am', 409: b'di', 410: b'pr', 411: b'em', 412: b';\\n', 413: b'od', 414: b'\\nS', 415: b'\\nB', 416: b'ns', 417: b'y,', 418: b'ol', 419: b'e.', 420: b'ca', 421: b'ac', 422: b'hy', 423: b' k', 424: b'io', 425: b'os', 426: b'ak', 427: b'\\nH', 428: b'r,', 429: b'fa', 430: b': ', 431: b'ig', 432: b'O:', 433: b'fe', 434: b'mi', 435: b'id', 436: b\"'d\", 437: b'po', 438: b'go', 439: b'e\\n', 440: b'ly', 441: b'k ', 442: b'\\nM', 443: b'ht', 444: b'ds', 445: b'EN', 446: b'sa', 447: b'n,', 448: b'bu', 449: b'ei', 450: b'IN', 451: b'su', 452: b'bl', 453: b'IO', 454: b'pa', 455: b'ov', 456: b'ec', 457: b'S:', 458: b'!\\n', 459: b'\\nF', 460: b'ry', 461: b'if', 462: b'iv', 463: b'br', 464: b'\\nC', 465: b'sp', 466: b'. ', 467: b'gr', 468: b'AR', 469: b'fr', 470: b'\\nO', 471: b'ev', 472: b'ck', 473: b'bo', 474: b'ue', 475: b'ey', 476: b'ki', 477: b'uc', 478: b'ts', 479: b'da', 480: b'ni', 481: b'\\nN', 482: b'fi', 483: b'vi', 484: b'\\nL', 485: b'ty', 486: b'ag', 487: b'\\nP', 488: b'ru', 489: b'ep', 490: b'ug', 491: b's.', 492: b'ef', 493: b'pl', 494: b'To', 495: b'US', 496: b's\\n', 497: b'rr', 498: b' v', 499: b'! ', 500: b'\\nG', 501: b't.', 502: b'tt', 503: b'na', 504: b'wn', 505: b'tl', 506: b'ba', 507: b'up', 508: b'by', 509: b'RI', 510: b't\\n', 511: b'd\\n', 512: b'ga', 513: b'NG', 514: b'au', 515: b'ye', 516: b'rn', 517: b'tu', 518: b'e:', 519: b'\\nD', 520: b'mu', 521: b'e;', 522: b'He', 523: b'kn', 524: b'No', 525: b'o,', 526: b'UC', 527: b'\\nY', 528: b'd.', 529: b'ap', 530: b' C', 531: b\"e'\", 532: b'p ', 533: b'AN', 534: b'CE', 535: b' R', 536: b'ct', 537: b'Bu', 538: b'Yo', 539: b'ER', 540: b'OR', 541: b'ci', 542: b'l,', 543: b'nk', 544: b'h,', 545: b'pi', 546: b'ew', 547: b'LA', 548: b'op', 549: b'ff', 550: b'ok', 551: b\"'l\", 552: b\" '\", 553: b'ET', 554: b'ES', 555: b'ls', 556: b'r.', 557: b'cr', 558: b'LI', 559: b'qu', 560: b\"r'\", 561: b'n.', 562: b'mp', 563: b'sw', 564: b'? ', 565: b'ab', 566: b'RD', 567: b'hu', 568: b'gi', 569: b\"'t\", 570: b'n:', 571: b'lt', 572: b'lf', 573: b'\\nK', 574: b'A:', 575: b'aw', 576: b'TI', 577: b' M', 578: b'fu', 579: b'y.', 580: b'LO', 581: b' E', 582: b'KI', 583: b'Fo', 584: b'ia', 585: b'e?', 586: b'CH', 587: b'ik', 588: b'rm', 589: b'NI', 590: b'dr', 591: b'HA', 592: b'rc', 593: b'Go', 594: b' G', 595: b'NT', 596: b'IC', 597: b'TE', 598: b' B', 599: b'cu', 600: b'OL', 601: b\"n'\", 602: b't:', 603: b'r:', 604: b' L', 605: b's;', 606: b'ys', 607: b'Co', 608: b'ny', 609: b'\\nR', 610: b'sc', 611: b\"' \", 612: b'EL', 613: b' H', 614: b'um', 615: b'dy', 616: b'Ma', 617: b'We', 618: b\"I'\", 619: b's:', 620: b'IU', 621: b'rl', 622: b'G ', 623: b'oi', 624: b'mb', 625: b'm,', 626: b'r\\n', 627: b'u,', 628: b'hr', 629: b'pp', 630: b'cl', 631: b'My', 632: b'e!', 633: b'ME', 634: b'n\\n', 635: b'gu', 636: b'--', 637: b' S', 638: b'Wi', 639: b'ST', 640: b' O', 641: b' W', 642: b'Ha', 643: b'pu', 644: b'sl', 645: b'NC', 646: b'E:', 647: b'ui', 648: b'rv', 649: b'w,', 650: b'Se', 651: b'ON', 652: b' T', 653: b'ft', 654: b'd;', 655: b'RO', 656: b'nn', 657: b'k,', 658: b' A', 659: b'KE', 660: b'y\\n', 661: b' V', 662: b'As', 663: b'ms', 664: b' q', 665: b\"t'\", 666: b'oy', 667: b'd:', 668: b'eo', 669: b'bi', 670: b'T:', 671: b'\\nE', 672: b'vo', 673: b'rk', 674: b'tw', 675: b'ob', 676: b'D ', 677: b' j', 678: b'ws', 679: b'II', 680: b'oc', 681: b'eg', 682: b'ud', 683: b'du', 684: b'g,', 685: b'ks', 686: b'Be', 687: b'Lo', 688: b'A ', 689: b'DU', 690: b'gs', 691: b'MI', 692: b'va', 693: b'So', 694: b'oa', 695: b'RE', 696: b'rg', 697: b'BE', 698: b'fl', 699: b't;', 700: b'Sh', 701: b'VI', 702: b'af', 703: b'PE', 704: b'I:', 705: b'NE', 706: b' P', 707: b'CA', 708: b'Ho', 709: b'AU', 710: b'OM', 711: b\"o'\", 712: b'LE', 713: b'ex', 714: b'tc', 715: b'Y ', 716: b'HE', 717: b'E ', 718: b'l.', 719: b'RU', 720: b'pt', 721: b'gl', 722: b'In', 723: b'LU', 724: b'lu', 725: b'gn', 726: b'Fi', 727: b' Y', 728: b'IS', 729: b'ub', 730: b'If', 731: b'EO', 732: b'oe', 733: b's?', 734: b's!', 735: b'K:', 736: b'\\nt', 737: b'ip', 738: b'UK', 739: b'R:', 740: b'm.', 741: b'ze', 742: b'Ro', 743: b'nf', 744: b'dl', 745: b'r;', 746: b'WA', 747: b'Ca', 748: b'Si', 749: b'TH', 750: b'UL', 751: b'mm', 752: b'CI', 753: b'O ', 754: b'IA', 755: b'Y:', 756: b'O,', 757: b'n;', 758: b'LL', 759: b't?', 760: b'ua', 761: b'TR', 762: b'Of', 763: b\"l'\", 764: b'Le', 765: b'Cl', 766: b\"\\n'\", 767: b\"d'\", 768: b'wr', 769: b'AB', 770: b'D:', 771: b'h.', 772: b\"s'\", 773: b\"'e\", 774: b'UE', 775: b'-\\n', 776: b'Is', 777: b'Pr', 778: b'OU', 779: b'Wa', 780: b'o.', 781: b'RY', 782: b\"y'\", 783: b'GL', 784: b'y;', 785: b'y:', 786: b'UT', 787: b'EE', 788: b'N ', 789: b'iu', 790: b'\\nQ', 791: b'nl', 792: b'd?', 793: b' K', 794: b'rf', 795: b'CO', 796: b'cc', 797: b'\\nU', 798: b'QU', 799: b'BR', 800: b\"h'\", 801: b'OF', 802: b'F ', 803: b'h\\n', 804: b'UM', 805: b'uk', 806: b'r?', 807: b'jo', 808: b'iz', 809: b'AM', 810: b'g.', 811: b'ps', 812: b'd!', 813: b'ju', 814: b'nu', 815: b'Ti', 816: b'NR', 817: b'f,', 818: b\"k'\", 819: b'je', 820: b't!', 821: b'e-', 822: b\"'T\", 823: b'ph', 824: b'Fr', 825: b'It', 826: b'SI', 827: b'NA', 828: b'ib', 829: b'CK', 830: b'RK', 831: b' F', 832: b'Mo', 833: b'\\ns', 834: b'rw', 835: b'dw', 836: b'YO', 837: b'l\\n', 838: b'lk', 839: b'rp', 840: b'Or', 841: b'\\nJ', 842: b'sm', 843: b'Al', 844: b'MA', 845: b'AL', 846: b'\\nV', 847: b'RA', 848: b'dd', 849: b'Ed', 850: b'Ri', 851: b'ED', 852: b'DW', 853: b'SA', 854: b'GR', 855: b'lv', 856: b'n?', 857: b',-', 858: b'n!', 859: b'Do', 860: b'Ay', 861: b' D', 862: b'Ye', 863: b'a,', 864: b'NU', 865: b'\\na', 866: b'RT', 867: b'Bo', 868: b'HI', 869: b'ND', 870: b'eh', 871: b'AP', 872: b'By', 873: b'CL', 874: b'Hi', 875: b'u.', 876: b'BA', 877: b'\\nw', 878: b'p,', 879: b'l:', 880: b'Na', 881: b'Me', 882: b'y!', 883: b'y?', 884: b'o\\n', 885: b'IZ', 886: b'IE', 887: b'CU', 888: b'k.', 889: b'sb', 890: b'Pe', 891: b'o-', 892: b'og', 893: b'nr', 894: b'ya', 895: b'\\nh', 896: b'N:', 897: b'ZA', 898: b'AT', 899: b'AS', 900: b'yi', 901: b'RC', 902: b'IV', 903: b'dg', 904: b'r!', 905: b'TA', 906: b' N', 907: b'Pa', 908: b'f\\n', 909: b'xt', 910: b\"w'\", 911: b'Un', 912: b' J', 913: b'On', 914: b'bs', 915: b'g\\n', 916: b'l;', 917: b'Sa', 918: b'AD', 919: b'St', 920: b'Fa', 921: b'La', 922: b'DI', 923: b'o;', 924: b'WI', 925: b'Gr', 926: b'm\\n', 927: b'Mu', 928: b'JU', 929: b'lp', 930: b'IL', 931: b'lc', 932: b'BU', 933: b'Ci', 934: b'-m', 935: b'sk', 936: b'S ', 937: b'DY', 938: b'BO', 939: b'uf', 940: b'w.', 941: b'VO', 942: b'Di', 943: b'cy', 944: b\"'\\n\", 945: b'r-', 946: b'Wo', 947: b't-', 948: b'RG', 949: b'HO', 950: b'PO', 951: b'rb', 952: b'o?', 953: b'GA', 954: b'H:', 955: b'dv', 956: b'EY', 957: b'PR', 958: b'TO', 959: b'\\nc', 960: b'\\nb', 961: b'Ou', 962: b'w\\n', 963: b'm;', 964: b'V:', 965: b'Re', 966: b'lm', 967: b'ek', 968: b'd-', 969: b'gg', 970: b'En', 971: b'nv', 972: b'eb', 973: b'f.', 974: b'I\\n', 975: b'Ta', 976: b'Ar', 977: b'-s', 978: b'\\nm', 979: b'hm', 980: b'u\\n', 981: b'eq', 982: b'Ge', 983: b'-d', 984: b'xe', 985: b'm:', 986: b'mf', 987: b'h;', 988: b'a\\n', 989: b'hs', 990: b\"m'\", 991: b'I,', 992: b'Ki', 993: b'UR', 994: b'GH', 995: b'SS', 996: b'Tr', 997: b'-b', 998: b'bt', 999: b'ix', 1000: b'py', 1001: b'GE', 1002: b'RL', 1003: b'Nu', 1004: b'RW', 1005: b'De', 1006: b'LY', 1007: b'M:', 1008: b'PU', 1009: b'o!', 1010: b'o:', 1011: b'kl', 1012: b'Li', 1013: b'TU', 1014: b'dn', 1015: b'Ka', 1016: b'GB', 1017: b'OK', 1018: b'h:', 1019: b\"g'\", 1020: b'\\ni', 1021: b'\\nf', 1022: b'l-', 1023: b'gm', 1024: b'vy', 1025: b'Po', 1026: b'mn', 1027: b'SC', 1028: b'-h', 1029: b'g;', 1030: b'BI', 1031: b'PA', 1032: b'Mi', 1033: b'wl', 1034: b'Du', 1035: b'Ba', 1036: b'L:', 1037: b'Te', 1038: b'Ev', 1039: b'-t', 1040: b'Ju', 1041: b'Su', 1042: b'k\\n', 1043: b'KA', 1044: b\"p'\", 1045: b'g:', 1046: b'\\np', 1047: b'tn', 1048: b\"u'\", 1049: b'MP', 1050: b'FR', 1051: b'NS', 1052: b'Up', 1053: b'\\no', 1054: b'nj', 1055: b'GO', 1056: b'R ', 1057: b'\\nd', 1058: b'sy', 1059: b'Bi', 1060: b'OS', 1061: b'Br', 1062: b'az', 1063: b'MO', 1064: b'xc', 1065: b'bj', 1066: b'l!', 1067: b\"i'\", 1068: b'Gi', 1069: b'Pl', 1070: b\"a'\", 1071: b'c ', 1072: b'\\nn', 1073: b'-w', 1074: b'Ty', 1075: b'XE', 1076: b'SE', 1077: b\",'\", 1078: b'h!', 1079: b'PT', 1080: b'At', 1081: b'-f', 1082: b'RS', 1083: b'YC', 1084: b'\\ny', 1085: b\".'\", 1086: b'u?', 1087: b'IR', 1088: b'hn', 1089: b'NO', 1090: b'p.', 1091: b'NV', 1092: b'n-', 1093: b'm?', 1094: b'EM', 1095: b'SP', 1096: b'bb', 1097: b'yb', 1098: b'Ne', 1099: b'Tw', 1100: b'FO', 1101: b'uo', 1102: b'sd', 1103: b'Au', 1104: b'w!', 1105: b'k;', 1106: b'Tu', 1107: b'Lu', 1108: b'y-', 1109: b'gt', 1110: b'u;', 1111: b'-p', 1112: b'MN', 1113: b'w;', 1114: b'f;', 1115: b'nm', 1116: b'Ch', 1117: b'SO', 1118: b'IX', 1119: b'h?', 1120: b'm!', 1121: b'Aw', 1122: b'aj', 1123: b'nh', 1124: b'GS', 1125: b'DE', 1126: b'xp', 1127: b'Sp', 1128: b'b ', 1129: b'l?', 1130: b'wd', 1131: b'BY', 1132: b'Ah', 1133: b'g?', 1134: b'IF', 1135: b'FF', 1136: b'HU', 1137: b'MB', 1138: b'Ag', 1139: b'ID', 1140: b'-a', 1141: b'g-', 1142: b'FI', 1143: b'Vi', 1144: b'NN', 1145: b'sf', 1146: b's-', 1147: b'u:', 1148: b'-l', 1149: b'ah', 1150: b'-c', 1151: b'k!', 1152: b'yr', 1153: b'gb', 1154: b'w:', 1155: b'oh', 1156: b'Vo', 1157: b'k:', 1158: b'k?', 1159: b'Gl', 1160: b'Ve', 1161: b'\\ng', 1162: b'Ga', 1163: b'Jo', 1164: b'w?', 1165: b'VE', 1166: b'UF', 1167: b'Fe', 1168: b'dm', 1169: b'f:', 1170: b'-n', 1171: b'nw', 1172: b'FL', 1173: b'ZE', 1174: b'eu', 1175: b'p\\n', 1176: b\"!'\", 1177: b'nq', 1178: b'EB', 1179: b'Ra', 1180: b'OW', 1181: b'DA', 1182: b'\\nl', 1183: b'hl', 1184: b'df', 1185: b'lr', 1186: b'\\ne', 1187: b'g!', 1188: b'h-', 1189: b'OP', 1190: b'Sw', 1191: b'Am', 1192: b'w-', 1193: b'a.', 1194: b'AG', 1195: b'NZ', 1196: b'ym', 1197: b'x ', 1198: b'Ke', 1199: b'DO', 1200: b\"'r\", 1201: b'a!', 1202: b'rh', 1203: b'RM', 1204: b'UD', 1205: b'Er', 1206: b'fy', 1207: b'Ea', 1208: b'wf', 1209: b'a-', 1210: b'Bl', 1211: b'SB', 1212: b'JO', 1213: b'Ap', 1214: b'f?', 1215: b'IT', 1216: b'Ab', 1217: b'OH', 1218: b'HN', 1219: b'PS', 1220: b'\\nr', 1221: b'sg', 1222: b'p;', 1223: b'-g', 1224: b'fs', 1225: b'u!', 1226: b'Ad', 1227: b'Af', 1228: b'UN', 1229: b'k-', 1230: b'uy', 1231: b'tf', 1232: b'SH', 1233: b'SL', 1234: b'hb', 1235: b'Cu', 1236: b'Pi', 1237: b'Ru', 1238: b'Pu', 1239: b'nb', 1240: b'gd', 1241: b'LT', 1242: b'oz', 1243: b'xi', 1244: b'p-', 1245: b'hw', 1246: b'np', 1247: b'Ex', 1248: b'LB', 1249: b'W:', 1250: b'p:', 1251: b'Ox', 1252: b'xf', 1253: b'El', 1254: b'TY', 1255: b'GU', 1256: b'\\n3', 1257: b'3 ', 1258: b'b,', 1259: b'Fl', 1260: b'Dr', 1261: b'Da', 1262: b'hf', 1263: b'GI', 1264: b\"'g\", 1265: b'wb', 1266: b'ae', 1267: b'sn', 1268: b'ax', 1269: b'lb', 1270: b'xa', 1271: b'I.', 1272: b'-r', 1273: b'ky', 1274: b'tm', 1275: b'f-', 1276: b'\\nu', 1277: b'Kn', 1278: b'a?', 1279: b'Sc', 1280: b'-o', 1281: b\":'\", 1282: b'za', 1283: b' X', 1284: b'ox', 1285: b'!-', 1286: b'Hu', 1287: b'EW', 1288: b'XI', 1289: b'a;', 1290: b'lw', 1291: b'Va', 1292: b'f!', 1293: b\";'\", 1294: b\"b'\", 1295: b'cq', 1296: b'Ei', 1297: b'-i', 1298: b\"'W\", 1299: b'-e', 1300: b\"'I\", 1301: b':-', 1302: b'Cr', 1303: b\"'n\", 1304: b'ja', 1305: b'EX', 1306: b'IG', 1307: b'bh', 1308: b'p?', 1309: b'ao', 1310: b'Ja', 1311: b'TC', 1312: b'F:', 1313: b\"'S\", 1314: b'Sl', 1315: b'\\nk', 1316: b\"'?\", 1317: b'P ', 1318: b\"'c\", 1319: b'NL', 1320: b'OV', 1321: b'YB', 1322: b'lg', 1323: b'VA', 1324: b'Ir', 1325: b'  ', 1326: b'Ac', 1327: b'yf', 1328: b'sq', 1329: b\"'H\", 1330: b'AK', 1331: b'NB', 1332: b'RB', 1333: b\"O'\", 1334: b'Qu', 1335: b'AE', 1336: b'hd', 1337: b'p!', 1338: b\"'G\", 1339: b'Je', 1340: b\"?'\", 1341: b\"'A\", 1342: b'OT', 1343: b'EG', 1344: b'\\nv', 1345: b'c,', 1346: b\"'C\", 1347: b'Wr', 1348: b\"'m\", 1349: b'rj', 1350: b'I;', 1351: b'Im', 1352: b'a:', 1353: b'RR', 1354: b'HM', 1355: b'OX', 1356: b'XF', 1357: b'ej', 1358: b\"x'\", 1359: b\"'f\", 1360: b'gy', 1361: b'HB', 1362: b'WB', 1363: b'AY', 1364: b'HY', 1365: b'BH', 1366: b\"f'\", 1367: b'i ', 1368: b'Ph', 1369: b'ka', 1370: b'ln', 1371: b'PH', 1372: b'CY', 1373: b'bd', 1374: b'Es', 1375: b'?-', 1376: b\"'b\", 1377: b'ml', 1378: b'Ni', 1379: b'-v', 1380: b'zz', 1381: b'zi', 1382: b'RF', 1383: b'LK', 1384: b'x,', 1385: b\"'F\", 1386: b'-k', 1387: b'Fu', 1388: b'rq', 1389: b'-I', 1390: b'yc', 1391: b'yl', 1392: b\"'B\", 1393: b'Sm', 1394: b'ko', 1395: b'cs', 1396: b' z', 1397: b'UG', 1398: b'YR', 1399: b'Gh', 1400: b\"'p\", 1401: b'FE', 1402: b'kf', 1403: b'b.', 1404: b'iq', 1405: b'-y', 1406: b';-', 1407: b'Ol', 1408: b'uz', 1409: b'-u', 1410: b'Op', 1411: b'.-', 1412: b'yp', 1413: b'Em', 1414: b' Q', 1415: b'm-', 1416: b'TL', 1417: b'wk', 1418: b'-S', 1419: b'-O', 1420: b'DR', 1421: b'pb', 1422: b'i,', 1423: b'zo', 1424: b'ku', 1425: b\"'R\", 1426: b'Oh', 1427: b'yw', 1428: b'wt', 1429: b'Gu', 1430: b'EP', 1431: b'P:', 1432: b'MU', 1433: b'yt', 1434: b'RN', 1435: b'vu', 1436: b\"'h\", 1437: b' U', 1438: b'c\\n', 1439: b'Yi', 1440: b'bm', 1441: b'mt', 1442: b'hc', 1443: b'yn', 1444: b'b!', 1445: b'ez', 1446: b'SU', 1447: b'Ob', 1448: b'CR', 1449: b'OO', 1450: b'TZ', 1451: b'ZW', 1452: b'Ov', 1453: b'XT', 1454: b'WE', 1455: b'TM', 1456: b'\\nj', 1457: b'IB', 1458: b\"'-\", 1459: b'pf', 1460: b\"'O\", 1461: b'kr', 1462: b\"'a\", 1463: b\"'P\", 1464: b'c.', 1465: b\"'M\", 1466: b'ih', 1467: b\"'Z\", 1468: b'Zo', 1469: b'dh', 1470: b'EA', 1471: b'AH', 1472: b'zy', 1473: b'b;', 1474: b'nz', 1475: b'Sy', 1476: b'yh', 1477: b'dk', 1478: b'-q', 1479: b'x\\n', 1480: b\"'w\", 1481: b'c;', 1482: b'oq', 1483: b\"'D\", 1484: b'b\\n', 1485: b\"A'\", 1486: b'O!', 1487: b'oj', 1488: b'Av', 1489: b'xh', 1490: b'Ur', 1491: b'hh', 1492: b'tg', 1493: b'I?', 1494: b'Il', 1495: b'wy', 1496: b'-G', 1497: b'wm', 1498: b'L ', 1499: b'-H', 1500: b'kw', 1501: b'yv', 1502: b'Cy', 1503: b'b:', 1504: b'zl', 1505: b'dp', 1506: b'pk', 1507: b\"-'\", 1508: b\"'o\", 1509: b\"'v\", 1510: b'Ul', 1511: b'u-', 1512: b'tp', 1513: b\"'L\", 1514: b'Ce', 1515: b\"'!\", 1516: b' &', 1517: b'\\nq', 1518: b'dc', 1519: b'Ai', 1520: b'Us', 1521: b'mw', 1522: b'BL', 1523: b'DS', 1524: b'gf', 1525: b'tz', 1526: b'zw', 1527: b'z,', 1528: b'-N', 1529: b\"'Y\", 1530: b'x.', 1531: b'-M', 1532: b'dj', 1533: b'-j', 1534: b'aq', 1535: b'Eu', 1536: b'pm', 1537: b'i:', 1538: b'-B', 1539: b'td', 1540: b'Ly', 1541: b'-C', 1542: b'b-', 1543: b'-P', 1544: b'ii', 1545: b' \\n', 1546: b'Hy', 1547: b'yd', 1548: b'&C', 1549: b'C:', 1550: b'xs', 1551: b'- ', 1552: b'xy', 1553: b'kb', 1554: b\"'j\", 1555: b' :', 1556: b\"'i\", 1557: b'ux', 1558: b'xu', 1559: b'HR', 1560: b'i-', 1561: b'Sn', 1562: b\"'J\", 1563: b'i.', 1564: b'Et', 1565: b'Ec', 1566: b'-W', 1567: b'c!', 1568: b'kt', 1569: b'xo', 1570: b'z ', 1571: b'Rh', 1572: b'pw', 1573: b\"'V\", 1574: b'Sk', 1575: b'\\n-', 1576: b'x?', 1577: b'bn', 1578: b'km', 1579: b'c:', 1580: b' th', 1581: b'he ', 1582: b'you', 1583: b'.\\n\\n', 1584: b' the', 1585: b'hat ', 1586: b'ing', 1587: b'and ', 1588: b'is ', 1589: b'e th', 1590: b' to', 1591: b'hou', 1592: b'nd ', 1593: b'his ', 1594: b'our ', 1595: b' tha', 1596: b'ther', 1597: b'not ', 1598: b' you', 1599: b'for', 1600: b'our', 1601: b' to ', 1602: b' wi', 1603: b'her', 1604: b't t', 1605: b', an', 1606: b' an', 1607: b're ', 1608: b'with', 1609: b'ld ', 1610: b've ', 1611: b'my ', 1612: b'oul', 1613: b\"'s \", 1614: b'e w', 1615: b'e m', 1616: b'IO:\\n', 1617: b'ave ', 1618: b' thi', 1619: b'se ', 1620: b'e s', 1621: b' hi', 1622: b'and', 1623: b'ith', 1624: b', t', 1625: b'And ', 1626: b'ill', 1627: b'US:\\n', 1628: b'hall', 1629: b'it ', 1630: b'me ', 1631: b'st ', 1632: b'd t', 1633: b'?\\n\\n', 1634: b'ent', 1635: b'ore ', 1636: b' hav', 1637: b':\\nI', 1638: b' my ', 1639: b'e c', 1640: b'be ', 1641: b'ce ', 1642: b'ter', 1643: b'e a', 1644: b'e y', 1645: b'in t', 1646: b'now', 1647: b', w', 1648: b'here', 1649: b'ome ', 1650: b'as ', 1651: b'at ', 1652: b', s', 1653: b'hat', 1654: b'o t', 1655: b'e to', 1656: b' be ', 1657: b'the ', 1658: b'of ', 1659: b'kin', 1660: b',\\nAn', 1661: b' him', 1662: b'hen', 1663: b'e i', 1664: b't w', 1665: b'll t', 1666: b'ght', 1667: b'nd t', 1668: b', I', 1669: b'ke ', 1670: b't, ', 1671: b' of', 1672: b'd, ', 1673: b'e b', 1674: b'han', 1675: b'com', 1676: b'e p', 1677: b'ere ', 1678: b'\\nAn', 1679: b':\\nW', 1680: b'hear', 1681: b'\\nTh', 1682: b's t', 1683: b'hy ', 1684: b'lor', 1685: b'e t', 1686: b'ver', 1687: b'ord', 1688: b'all', 1689: b'd m', 1690: b's a', 1691: b', m', 1692: b'ood ', 1693: b'or t', 1694: b'll ', 1695: b'e an', 1696: b'e d', 1697: b'e of', 1698: b'e f', 1699: b't m', 1700: b't y', 1701: b'ear', 1702: b'th t', 1703: b'ake ', 1704: b'e, ', 1705: b'ough', 1706: b'is t', 1707: b'of t', 1708: b'st t', 1709: b'man', 1710: b\"'d \", 1711: b'e ha', 1712: b'KIN', 1713: b'sha', 1714: b'goo', 1715: b' my', 1716: b'hin', 1717: b' sha', 1718: b'are ', 1719: b',\\nT', 1720: b'not', 1721: b's m', 1722: b':\\nT', 1723: b',\\nW', 1724: b't a', 1725: b'e in', 1726: b'e no', 1727: b'You', 1728: b'hav', 1729: b't s', 1730: b's, ', 1731: b'\\n\\nP', 1732: b' no', 1733: b't i', 1734: b'The ', 1735: b'Wha', 1736: b'sir', 1737: b'e he', 1738: b'ght ', 1739: b'e g', 1740: b'e wi', 1741: b'con', 1742: b'will', 1743: b'I w', 1744: b'ARD', 1745: b'y s', 1746: b'him', 1747: b'ell', 1748: b'cou', 1749: b'wor', 1750: b't b', 1751: b'y l', 1752: b's s', 1753: b'self', 1754: b'hich', 1755: b'ou a', 1756: b' he ', 1757: b's an', 1758: b'oth', 1759: b'y t', 1760: b'er t', 1761: b's of', 1762: b'\\n\\nG', 1763: b'er, ', 1764: b'but ', 1765: b' ha', 1766: b'\\n\\nK', 1767: b'one ', 1768: b':\\nTh', 1769: b'ess', 1770: b'll b', 1771: b'ou s', 1772: b':\\nH', 1773: b' me', 1774: b'e hi', 1775: b'd s', 1776: b's no', 1777: b'kno', 1778: b'y b', 1779: b' all', 1780: b'd w', 1781: b'ing ', 1782: b' sh', 1783: b'me, ', 1784: b' st', 1785: b'thin', 1786: b' ar', 1787: b's b', 1788: b'\\n\\nB', 1789: b' he', 1790: b'\\n\\nS', 1791: b'to ', 1792: b', a', 1793: b'dea', 1794: b's w', 1795: b' for', 1796: b'res', 1797: b'from', 1798: b't I', 1799: b'ust ', 1800: b'd wi', 1801: b'ive ', 1802: b'est ', 1803: b'hen ', 1804: b'But ', 1805: b'we ', 1806: b'ess ', 1807: b':\\nA', 1808: b'own', 1809: b'!\\n\\n', 1810: b't no', 1811: b'ous ', 1812: b'I h', 1813: b'g t', 1814: b' te', 1815: b'y, ', 1816: b'or ', 1817: b'd y', 1818: b'd b', 1819: b',\\nA', 1820: b'e o', 1821: b'd a', 1822: b'The', 1823: b't of', 1824: b'for ', 1825: b's d', 1826: b'o s', 1827: b'rea', 1828: b':\\nM', 1829: b' me ', 1830: b'ain', 1831: b'Tha', 1832: b'her ', 1833: b'o b', 1834: b'ong', 1835: b'whe', 1836: b'ble ', 1837: b'I s', 1838: b'ard', 1839: b'ous', 1840: b's c', 1841: b'end', 1842: b'ou h', 1843: b'o m', 1844: b'ine ', 1845: b'\\n\\nF', 1846: b'eath', 1847: b'd no', 1848: b'ion', 1849: b's f', 1850: b'e h', 1851: b'th ', 1852: b'd in', 1853: b'igh', 1854: b's y', 1855: b'ath', 1856: b'd f', 1857: b'on t', 1858: b'ent ', 1859: b'wha', 1860: b'ou, ', 1861: b'ou w', 1862: b'well', 1863: b'n t', 1864: b'ster', 1865: b'IUS', 1866: b'D I', 1867: b'per', 1868: b't.\\n\\n', 1869: b'th a', 1870: b'ou t', 1871: b'ut ', 1872: b'pre', 1873: b's,\\n', 1874: b'A:\\n', 1875: b' so', 1876: b'mor', 1877: b'sen', 1878: b'ET:\\n', 1879: b\"er'\", 1880: b' am', 1881: b' man', 1882: b'ever', 1883: b'e.\\n\\n', 1884: b'\\n\\nM', 1885: b'ed ', 1886: b'hem', 1887: b'par', 1888: b', g', 1889: b', y', 1890: b'ING', 1891: b'irs', 1892: b'I a', 1893: b'ink', 1894: b'men', 1895: b'\\n\\nC', 1896: b' wha', 1897: b'ay, ', 1898: b'der', 1899: b'y c', 1900: b\"I'll\", 1901: b'wer', 1902: b' it ', 1903: b'e k', 1904: b'whi', 1905: b', b', 1906: b'fath', 1907: b' thy', 1908: b't in', 1909: b'gra', 1910: b'us ', 1911: b't c', 1912: b's in', 1913: b',\\nI', 1914: b'rie', 1915: b'e st', 1916: b' in', 1917: b' sp', 1918: b't hi', 1919: b'lik', 1920: b't wi', 1921: b'e be', 1922: b'ds ', 1923: b'roth', 1924: b'ord ', 1925: b'K:\\n', 1926: b'o y', 1927: b's p', 1928: b' and', 1929: b'd hi', 1930: b'hei', 1931: b'\\nTha', 1932: b'ir ', 1933: b'd,\\n', 1934: b'RICH', 1935: b'e re', 1936: b'ind', 1937: b'll, ', 1938: b'pea', 1939: b'll s', 1940: b'llow', 1941: b'll m', 1942: b'tha', 1943: b'ou ', 1944: b'ers', 1945: b'\\n\\nDU', 1946: b'DUKE', 1947: b'r c', 1948: b't f', 1949: b':\\nS', 1950: b't,\\n', 1951: b':\\nY', 1952: b':\\nN', 1953: b' as ', 1954: b'e,\\n', 1955: b'e I', 1956: b'ad ', 1957: b'row', 1958: b' wou', 1959: b', no', 1960: b', f', 1961: b'My ', 1962: b's i', 1963: b'hee ', 1964: b'one', 1965: b'\\n\\nL', 1966: b'sin', 1967: b'gen', 1968: b' ma', 1969: b'hey', 1970: b'hes', 1971: b'bro', 1972: b'ut t', 1973: b'his', 1974: b'ENT', 1975: b'CHAR', 1976: b'd an', 1977: b'r s', 1978: b'TIO', 1979: b'pro', 1980: b's he', 1981: b'ir, ', 1982: b'ER:\\n', 1983: b'inc', 1984: b'es ', 1985: b'Whe', 1986: b'out ', 1987: b's wi', 1988: b'art', 1989: b'hos', 1990: b',\\nTh', 1991: b'lea', 1992: b':\\nO', 1993: b'd.\\n\\n', 1994: b'orth', 1995: b'lan', 1996: b's h', 1997: b'was ', 1998: b'tle', 1999: b'on ', 2000: b'ee ', 2001: b' bu', 2002: b'how', 2003: b'y w', 2004: b'hath', 2005: b'nder', 2006: b'ant', 2007: b'eak', 2008: b'\\nTo', 2009: b'onou', 2010: b'wou', 2011: b'ist', 2012: b' we ', 2013: b';\\nA', 2014: b'come', 2015: b'And', 2016: b'y he', 2017: b'don', 2018: b' be', 2019: b't an', 2020: b't d', 2021: b' wor', 2022: b'ang', 2023: b'd c', 2024: b'f t', 2025: b't ha', 2026: b'I d', 2027: b'erv', 2028: b'Fir', 2029: b'o h', 2030: b'y f', 2031: b'r b', 2032: b'll h', 2033: b'y a', 2034: b'ound', 2035: b's.\\n\\n', 2036: b'y d', 2037: b'ort', 2038: b'can', 2039: b'fri', 2040: b'r h', 2041: b'D:\\n', 2042: b'e l', 2043: b'y m', 2044: b' mo', 2045: b'For', 2046: b'ish', 2047: b'eep', 2048: b'ati', 2049: b'I t', 2050: b'uch', 2051: b'th m', 2052: b'ce, ', 2053: b'thou', 2054: b's g', 2055: b'ay ', 2056: b'y p', 2057: b'ou m', 2058: b' can', 2059: b'gre', 2060: b'the', 2061: b'es, ', 2062: b' min', 2063: b'ower', 2064: b'so ', 2065: b'Thi', 2066: b'y g', 2067: b'ame ', 2068: b'er:\\n', 2069: b'd he', 2070: b'dis', 2071: b'les', 2072: b'I c', 2073: b'th h', 2074: b'ure ', 2075: b'ard ', 2076: b'ING ', 2077: b'G RI', 2078: b'O:\\n', 2079: b'd I', 2080: b' se', 2081: b'TER', 2082: b'ge ', 2083: b'es t', 2084: b'UCH', 2085: b' su', 2086: b'to t', 2087: b'r g', 2088: b'ger', 2089: b'LO:\\n', 2090: b't h', 2091: b'ts ', 2092: b'ers ', 2093: b'in a', 2094: b'tle ', 2095: b'tre', 2096: b'LOUC', 2097: b'UCES', 2098: b'EST', 2099: b'an t', 2100: b'et ', 2101: b' ti', 2102: b' mak', 2103: b'of m', 2104: b'ast', 2105: b'; a', 2106: b're, ', 2107: b'er ', 2108: b' do', 2109: b'GLO', 2110: b'y y', 2111: b'd of', 2112: b'er.', 2113: b't he', 2114: b' on', 2115: b' fo', 2116: b'ten', 2117: b'eas', 2118: b'min', 2119: b'ear ', 2120: b'th s', 2121: b'e ma', 2122: b':\\nNo', 2123: b'giv', 2124: b'll a', 2125: b' is ', 2126: b':\\nAn', 2127: b'o d', 2128: b'ast ', 2129: b' tak', 2130: b'er w', 2131: b'ly ', 2132: b'ou d', 2133: b'end ', 2134: b' we', 2135: b'anc', 2136: b'o c', 2137: b's I', 2138: b'er s', 2139: b'ate ', 2140: b'w t', 2141: b' of ', 2142: b'UEEN', 2143: b'INC', 2144: b'CEN', 2145: b'Thou', 2146: b'ond ', 2147: b'heav', 2148: b't p', 2149: b'hee', 2150: b'\\n\\nQ', 2151: b'QUE', 2152: b' OF', 2153: b'ate', 2154: b'rom', 2155: b'n, ', 2156: b\"'ll\", 2157: b'de ', 2158: b'ven', 2159: b'love', 2160: b', in', 2161: b'ould', 2162: b'\\nWi', 2163: b'g a', 2164: b'He ', 2165: b'Lor', 2166: b'Whi', 2167: b'old ', 2168: b'O, ', 2169: b'How', 2170: b\"t's \", 2171: b'g, ', 2172: b' mor', 2173: b', i', 2174: b' wa', 2175: b'ugh', 2176: b'ted ', 2177: b'I m', 2178: b'y h', 2179: b':\\nWh', 2180: b'ay t', 2181: b'\\nTo ', 2182: b'd d', 2183: b'as t', 2184: b'ch ', 2185: b'let ', 2186: b'\\n\\nH', 2187: b', wi', 2188: b'enc', 2189: b'in m', 2190: b'she ', 2191: b' say', 2192: b'orr', 2193: b'LAN', 2194: b'in ', 2195: b'use ', 2196: b'm t', 2197: b'on, ', 2198: b' whe', 2199: b'nd, ', 2200: b'Her', 2201: b'no ', 2202: b' com', 2203: b'ence', 2204: b'heir', 2205: b'Now', 2206: b'ENRY', 2207: b'ity', 2208: b'ount', 2209: b'lov', 2210: b'by t', 2211: b'or a', 2212: b'oun', 2213: b'ons', 2214: b'y li', 2215: b'om t', 2216: b'che', 2217: b't be', 2218: b'or m', 2219: b'by ', 2220: b'urse', 2221: b'Mar', 2222: b'ome', 2223: b'nigh', 2224: b'cha', 2225: b'lem', 2226: b'I:\\n', 2227: b'anno', 2228: b'ves ', 2229: b'ch a', 2230: b'des', 2231: b'KE V', 2232: b' VIN', 2233: b'd p', 2234: b' han', 2235: b'ant ', 2236: b'ords', 2237: b'e ar', 2238: b'th, ', 2239: b'upon', 2240: b'r p', 2241: b' re', 2242: b'aga', 2243: b'ES:\\n', 2244: b'nobl', 2245: b'd ha', 2246: b', bu', 2247: b'er,\\n', 2248: b'es,\\n', 2249: b'ORK', 2250: b'dee', 2251: b'do ', 2252: b'dow', 2253: b'orn', 2254: b'gain', 2255: b' tru', 2256: b'd h', 2257: b'ins', 2258: b's ar', 2259: b' ou', 2260: b'e on', 2261: b'tion', 2262: b'on m', 2263: b'ban', 2264: b'war', 2265: b'INI', 2266: b'int', 2267: b'For ', 2268: b's o', 2269: b'mad', 2270: b'o he', 2271: b'r t', 2272: b', if', 2273: b'lood', 2274: b'e li', 2275: b'vin', 2276: b'que', 2277: b'r f', 2278: b'day', 2279: b'son', 2280: b'en t', 2281: b' too', 2282: b'blo', 2283: b'off', 2284: b'tin', 2285: b' mus', 2286: b'ors', 2287: b'eet ', 2288: b'in h', 2289: b'ery ', 2290: b'stan', 2291: b'ance', 2292: b'ed t', 2293: b'ars', 2294: b', he', 2295: b'g o', 2296: b'\\nAnd', 2297: b':\\nB', 2298: b't:\\n', 2299: b'y fa', 2300: b'look', 2301: b'ar t', 2302: b\"'d t\", 2303: b'ran', 2304: b'an:\\n', 2305: b's hi', 2306: b'att', 2307: b'n y', 2308: b'or s', 2309: b'y.\\n\\n', 2310: b'o a', 2311: b'PET', 2312: b'r y', 2313: b'LUC', 2314: b'st, ', 2315: b'ind ', 2316: b'of h', 2317: b'eed', 2318: b' sou', 2319: b'of a', 2320: b't is', 2321: b'mar', 2322: b'As ', 2323: b'r w', 2324: b'who', 2325: b'shou', 2326: b'e me', 2327: b'ce,\\n', 2328: b'tis ', 2329: b't st', 2330: b'er a', 2331: b'hon', 2332: b'inst', 2333: b'g s', 2334: b'ray', 2335: b'm a', 2336: b'nes', 2337: b'ery', 2338: b'ont', 2339: b'ou c', 2340: b'gs ', 2341: b'own ', 2342: b'or h', 2343: b'did ', 2344: b'out', 2345: b'MEN', 2346: b'lon', 2347: b\"'s t\", 2348: b'dwar', 2349: b'MEO', 2350: b'r m', 2351: b'k t', 2352: b'ENEN', 2353: b'ENI', 2354: b'mus', 2355: b'ost ', 2356: b'righ', 2357: b'll w', 2358: b'\\n\\nRO', 2359: b'ROME', 2360: b'omm', 2361: b's ha', 2362: b'rse', 2363: b', c', 2364: b't on', 2365: b'r he', 2366: b'reat', 2367: b', h', 2368: b'e wa', 2369: b'e n', 2370: b'd g', 2371: b'noth', 2372: b'e, t', 2373: b' fa', 2374: b'mak', 2375: b' do ', 2376: b'eav', 2377: b'\\n\\nCA', 2378: b'I p', 2379: b'hea', 2380: b'ine', 2381: b', le', 2382: b'nce', 2383: b'n h', 2384: b'ou b', 2385: b'ETR', 2386: b'RUC', 2387: b'HIO', 2388: b'but', 2389: b' whi', 2390: b'aven', 2391: b'I k', 2392: b'k, ', 2393: b'econ', 2394: b'hey ', 2395: b'rep', 2396: b'Come', 2397: b'll y', 2398: b'\\nAs ', 2399: b', p', 2400: b'ref', 2401: b'MIO', 2402: b'Why', 2403: b'ld t', 2404: b'y,\\n', 2405: b'nce ', 2406: b',\\nTo', 2407: b'ful', 2408: b'chi', 2409: b'way', 2410: b'le ', 2411: b'o p', 2412: b's li', 2413: b'e se', 2414: b' sw', 2415: b'a s', 2416: b'Rome', 2417: b'o, ', 2418: b'bre', 2419: b'read', 2420: b'e so', 2421: b' wer', 2422: b'no m', 2423: b'or w', 2424: b'er o', 2425: b'\\n\\nN', 2426: b'.\\nW', 2427: b'rou', 2428: b'din', 2429: b'art ', 2430: b'll p', 2431: b'of y', 2432: b'er m', 2433: b'd i', 2434: b'ow, ', 2435: b'ORIO', 2436: b'IOL', 2437: b'ANUS', 2438: b'God ', 2439: b'Sec', 2440: b' tr', 2441: b'ere', 2442: b':\\nG', 2443: b's l', 2444: b',\\nH', 2445: b'ign', 2446: b'n a', 2447: b': t', 2448: b'mes ', 2449: b't ma', 2450: b'COR', 2451: b'prin', 2452: b'omp', 2453: b'ble', 2454: b'n of', 2455: b'mos', 2456: b'y, t', 2457: b'pla', 2458: b'll f', 2459: b' dea', 2460: b'e v', 2461: b\"'ti\", 2462: b'than', 2463: b'o f', 2464: b'an a', 2465: b'd be', 2466: b' hon', 2467: b' fr', 2468: b'll d', 2469: b'som', 2470: b'y of', 2471: b't o', 2472: b'en, ', 2473: b'er h', 2474: b'yet ', 2475: b'Edw', 2476: b' EDW', 2477: b'DWAR', 2478: b'itiz', 2479: b'izen', 2480: b'hic', 2481: b'har', 2482: b'r a', 2483: b'ved ', 2484: b'arth', 2485: b'est', 2486: b',\\nS', 2487: b'e is', 2488: b'call', 2489: b' see', 2490: b'en ', 2491: b'ook', 2492: b'd:\\n', 2493: b'INA', 2494: b'ise ', 2495: b' who', 2496: b'ark', 2497: b', be', 2498: b', ho', 2499: b'spea', 2500: b'head', 2501: b'ive', 2502: b'van', 2503: b'rin', 2504: b'; t', 2505: b'y no', 2506: b'ove ', 2507: b'wee', 2508: b'We ', 2509: b'g.\\n\\n', 2510: b'en a', 2511: b'CE:\\n', 2512: b'ueen', 2513: b' III', 2514: b'II:\\n', 2515: b'ars ', 2516: b'say', 2517: b'fou', 2518: b's be', 2519: b'g w', 2520: b', ha', 2521: b'o l', 2522: b'at t', 2523: b'th,\\n', 2524: b'ret', 2525: b'fore', 2526: b'To ', 2527: b'ch t', 2528: b'sti', 2529: b'urd', 2530: b', d', 2531: b'y in', 2532: b'It ', 2533: b'my s', 2534: b' con', 2535: b'red ', 2536: b'd by', 2537: b'o w', 2538: b'rd ', 2539: b'nds', 2540: b'oman', 2541: b'But', 2542: b'any', 2543: b':\\nP', 2544: b'doth', 2545: b'arwi', 2546: b'th b', 2547: b'plea', 2548: b'ours', 2549: b'e lo', 2550: b' mu', 2551: b'sed ', 2552: b'e sh', 2553: b'hild', 2554: b'ven ', 2555: b'fai', 2556: b'wick', 2557: b'WAR', 2558: b't ou', 2559: b'thi', 2560: b'g b', 2561: b':\\nAy', 2562: b'Ay, ', 2563: b'\\nWhi', 2564: b'arri', 2565: b'dau', 2566: b'o g', 2567: b's n', 2568: b'rest', 2569: b'll.', 2570: b've, ', 2571: b'ime', 2572: b'e ne', 2573: b'o no', 2574: b'F Y', 2575: b' YOR', 2576: b':\\nF', 2577: b' sa', 2578: b'e fr', 2579: b'ien', 2580: b't li', 2581: b'd o', 2582: b'Who', 2583: b' so ', 2584: b'ABEL', 2585: b'ELLA', 2586: b'LA:\\n', 2587: b'.\\nI', 2588: b'rev', 2589: b'er f', 2590: b'r d', 2591: b' a s', 2592: b'tain', 2593: b'r I', 2594: b' at ', 2595: b':\\nC', 2596: b'bou', 2597: b'\\nOf', 2598: b'fir', 2599: b'an ', 2600: b'a m', 2601: b'ing.', 2602: b'on a', 2603: b'atch', 2604: b' hou', 2605: b'd, t', 2606: b'ONT', 2607: b'ood', 2608: b's re', 2609: b'e di', 2610: b'e mo', 2611: b'er b', 2612: b' som', 2613: b', fo', 2614: b'mis', 2615: b'to m', 2616: b'Y:\\n', 2617: b'rac', 2618: b'crow', 2619: b'd ma', 2620: b'e en', 2621: b'gin', 2622: b'air ', 2623: b'ry ', 2624: b'LIET', 2625: b'\\n\\nLE', 2626: b'LEO', 2627: b'NTES', 2628: b'ines', 2629: b'str', 2630: b't g', 2631: b'new', 2632: b'w, ', 2633: b'urn', 2634: b'et t', 2635: b'oung', 2636: b's, t', 2637: b'ack', 2638: b'it t', 2639: b'd l', 2640: b'bein', 2641: b'e e', 2642: b'ison', 2643: b'Nay', 2644: b'll o', 2645: b'm, ', 2646: b' tim', 2647: b'nev', 2648: b's fa', 2649: b'th w', 2650: b'ENCE', 2651: b'\\nth', 2652: b'id ', 2653: b'g m', 2654: b'VOL', 2655: b'fter', 2656: b' I w', 2657: b'War', 2658: b'\\n\\nIS', 2659: b'ISAB', 2660: b'had ', 2661: b'ike ', 2662: b'Well', 2663: b';\\nT', 2664: b'chan', 2665: b'I b', 2666: b'g h', 2667: b':\\nBu', 2668: b'over', 2669: b'in, ', 2670: b'd st', 2671: b'ren', 2672: b'\\n\\nJU', 2673: b'JULI', 2674: b'\\n\\nA', 2675: b', ma', 2676: b'ies', 2677: b'may ', 2678: b'o re', 2679: b'reas', 2680: b'ean', 2681: b'ands', 2682: b'ave', 2683: b'e de', 2684: b'e fo', 2685: b'ou l', 2686: b'eal', 2687: b'\\nThe', 2688: b'orm', 2689: b'lain', 2690: b'le, ', 2691: b'ank', 2692: b'e my', 2693: b'on,\\n', 2694: b' war', 2695: b'tan', 2696: b'ICIN', 2697: b'hom', 2698: b'gon', 2699: b'll I', 2700: b'entl', 2701: b'\\n\\nLA', 2702: b'th y', 2703: b'cur', 2704: b'a t', 2705: b'With', 2706: b'of s', 2707: b'e ou', 2708: b'th o', 2709: b'ore', 2710: b' thr', 2711: b'e do', 2712: b'ce.', 2713: b'SIC', 2714: b' son', 2715: b'a b', 2716: b'Ser', 2717: b'cor', 2718: b' pra', 2719: b'san', 2720: b'onf', 2721: b'arin', 2722: b'old', 2723: b'mer', 2724: b'fin', 2725: b\"hat'\", 2726: b's st', 2727: b'ted', 2728: b'on.', 2729: b't re', 2730: b'e ho', 2731: b'\\n\\nD', 2732: b'en:\\n', 2733: b' kno', 2734: b'pat', 2735: b'e su', 2736: b'ice ', 2737: b'e pr', 2738: b'thy ', 2739: b'ne ', 2740: b'sel', 2741: b'rav', 2742: b'e co', 2743: b'pas', 2744: b's ma', 2745: b' ho', 2746: b' a m', 2747: b't so', 2748: b'g,\\n', 2749: b'; b', 2750: b\"d's \", 2751: b'arr', 2752: b'red', 2753: b'arm', 2754: b'eng', 2755: b't sh', 2756: b'ou.', 2757: b'a p', 2758: b'f he', 2759: b'.\\nT', 2760: b'pos', 2761: b',\\nB', 2762: b'Cit', 2763: b\"he'\", 2764: b'und', 2765: b'pur', 2766: b'st,\\n', 2767: b'in s', 2768: b'ou f', 2769: b'\\n\\nAU', 2770: b'n in', 2771: b'tter', 2772: b'rief', 2773: b'fear', 2774: b'Cla', 2775: b'life', 2776: b'\\n\\nW', 2777: b'll c', 2778: b'\\nWhe', 2779: b'Tis ', 2780: b'y k', 2781: b'UCIO', 2782: b' pr', 2783: b'ut, ', 2784: b'ar ', 2785: b'ise', 2786: b' how', 2787: b' dis', 2788: b'pow', 2789: b'k y', 2790: b' ton', 2791: b'icha', 2792: b'G E', 2793: b' IV', 2794: b'V:\\n', 2795: b'd C', 2796: b'por', 2797: b',\\nY', 2798: b'e it', 2799: b'e fa', 2800: b'rov', 2801: b's:\\n', 2802: b' mar', 2803: b' cou', 2804: b'fe ', 2805: b'Hen', 2806: b'se:\\n', 2807: b'e sp', 2808: b'ork', 2809: b're.', 2810: b\"re'\", 2811: b'No, ', 2812: b'ed, ', 2813: b'an, ', 2814: b'on h', 2815: b'a w', 2816: b'orld', 2817: b', o', 2818: b'gue', 2819: b'n m', 2820: b'fair', 2821: b'ser', 2822: b'ime ', 2823: b't\\nT', 2824: b'cre', 2825: b'ian', 2826: b'race', 2827: b'd so', 2828: b't me', 2829: b'lie', 2830: b'ure', 2831: b'f m', 2832: b' ca', 2833: b'ch y', 2834: b'bra', 2835: b'live', 2836: b'thy', 2837: b'ow t', 2838: b't k', 2839: b't lo', 2840: b'y lo', 2841: b'pit', 2842: b'sou', 2843: b'ligh', 2844: b' tho', 2845: b'she', 2846: b'phe', 2847: b'e ti', 2848: b'dre', 2849: b'pri', 2850: b'it, ', 2851: b'bea', 2852: b'ittl', 2853: b' li', 2854: b're,\\n', 2855: b':\\nL', 2856: b'ouse', 2857: b'g f', 2858: b'rt ', 2859: b'od ', 2860: b'ces', 2861: b'a f', 2862: b'ciou', 2863: b'EN E', 2864: b' ELI', 2865: b'LIZ', 2866: b'ZAB', 2867: b'ABET', 2868: b'ETH', 2869: b'H:\\n', 2870: b' mis', 2871: b' aga', 2872: b'mon', 2873: b'e u', 2874: b' go', 2875: b'ly t', 2876: b'ree ', 2877: b\"'Ti\", 2878: b'pra', 2879: b', n', 2880: b'bear', 2881: b' goo', 2882: b'hy s', 2883: b'k a', 2884: b'are', 2885: b'se, ', 2886: b'f y', 2887: b'usb', 2888: b'ies ', 2889: b'swee', 2890: b'tra', 2891: b'anis', 2892: b'any ', 2893: b',\\nWi', 2894: b'ans', 2895: b's fo', 2896: b':\\nWe', 2897: b'cti', 2898: b'--\\n\\n', 2899: b'Com', 2900: b'nin', 2901: b'r no', 2902: b' ser', 2903: b', my', 2904: b't my', 2905: b'now ', 2906: b'is, ', 2907: b' but', 2908: b\"'st \", 2909: b'nor', 2910: b'eech', 2911: b'hre', 2912: b'rewe', 2913: b' di', 2914: b'ow ', 2915: b'efor', 2916: b'oor ', 2917: b'mse', 2918: b\"ll'\", 2919: b'if t', 2920: b'll g', 2921: b'.\\nTh', 2922: b'omf', 2923: b'dam', 2924: b'n s', 2925: b'd up', 2926: b'Pro', 2927: b'ar m', 2928: b't u', 2929: b'r in', 2930: b\", I'\", 2931: b'ade ', 2932: b'ett', 2933: b'r of', 2934: b'ead', 2935: b'ings', 2936: b' tre', 2937: b'both', 2938: b' bo', 2939: b'e bu', 2940: b', by', 2941: b'gri', 2942: b'ber', 2943: b' lov', 2944: b',\\nBu', 2945: b'; f', 2946: b'HEN', 2947: b'ARW', 2948: b'WIC', 2949: b'ICK', 2950: b'e ca', 2951: b' may', 2952: b'tri', 2953: b' ta', 2954: b'mber', 2955: b'ier', 2956: b'. W', 2957: b'st:\\n', 2958: b'bef', 2959: b'm s', 2960: b'den', 2961: b'loo', 2962: b'Goo', 2963: b' II', 2964: b'G H', 2965: b' HEN', 2966: b'RY V', 2967: b' VI', 2968: b'd re', 2969: b'hol', 2970: b'iou', 2971: b'ron', 2972: b'fell', 2973: b'pon ', 2974: b'kee', 2975: b'n w', 2976: b'I l', 2977: b'thee', 2978: b'lou', 2979: b'e.\\n', 2980: b'Nur', 2981: b'ort ', 2982: b'iti', 2983: b'me.', 2984: b't ne', 2985: b' thu', 2986: b'Sir', 2987: b'rue ', 2988: b'caus', 2989: b'bes', 2990: b'd on', 2991: b'r l', 2992: b'me,\\n', 2993: b' it', 2994: b'win', 2995: b'Ric', 2996: b'HAM', 2997: b'M:\\n', 2998: b'Let ', 2999: b'd me', 3000: b'en s', 3001: b'eye', 3002: b'k o', 3003: b'sho', 3004: b',\\nM', 3005: b'ws ', 3006: b'ay.', 3007: b'ove', 3008: b'stin', 3009: b'Nor', 3010: b'lif', 3011: b'Yor', 3012: b'KE O', 3013: b'ULET', 3014: b'ou k', 3015: b',\\nO', 3016: b' mad', 3017: b'Not ', 3018: b'; w', 3019: b' win', 3020: b' si', 3021: b't do', 3022: b'outh', 3023: b' co', 3024: b't.\\n', 3025: b'His ', 3026: b'n I', 3027: b'orse', 3028: b'full', 3029: b'rovo', 3030: b'ved', 3031: b'hil', 3032: b' pro', 3033: b'f I', 3034: b've,\\n', 3035: b'e up', 3036: b'o k', 3037: b'arry', 3038: b'TUS', 3039: b'ss ', 3040: b'fre', 3041: b'ves', 3042: b'ry, ', 3043: b'e du', 3044: b's on', 3045: b'kne', 3046: b' I s', 3047: b'fec', 3048: b';\\nF', 3049: b'ass', 3050: b' sin', 3051: b' a p', 3052: b'er d', 3053: b'leep', 3054: b'yse', 3055: b'ire ', 3056: b'ray ', 3057: b'inte', 3058: b'itor', 3059: b'erin', 3060: b'es.', 3061: b'd fo', 3062: b'e la', 3063: b'app', 3064: b'\\nIn', 3065: b'tur', 3066: b't se', 3067: b'RUT', 3068: b'oo ', 3069: b' pl', 3070: b' fe', 3071: b'los', 3072: b'wear', 3073: b'a c', 3074: b'd li', 3075: b'n b', 3076: b'UCK', 3077: b'GHA', 3078: b'KE:\\n', 3079: b'ays ', 3080: b'nds ', 3081: b'liv', 3082: b'ch o', 3083: b'kes ', 3084: b'ons ', 3085: b'ion ', 3086: b'BRU', 3087: b'pon', 3088: b'ress', 3089: b'tim', 3090: b'bur', 3091: b' tra', 3092: b'e we', 3093: b' a w', 3094: b'ESS', 3095: b'RY B', 3096: b' BOL', 3097: b'OLIN', 3098: b'INGB', 3099: b'GBRO', 3100: b'ROKE', 3101: b'ANIO', 3102: b'y i', 3103: b'mat', 3104: b'hith', 3105: b'ks ', 3106: b' tri', 3107: b'f a', 3108: b'; I', 3109: b' as', 3110: b'ince', 3111: b'nam', 3112: b'hip', 3113: b'name', 3114: b'lla', 3115: b'e un', 3116: b' has', 3117: b'BUC', 3118: b'er?', 3119: b'd se', 3120: b'ar, ', 3121: b'ator', 3122: b'itt', 3123: b'reme', 3124: b'ord.', 3125: b'\\nWha', 3126: b',--', 3127: b'in w', 3128: b'\\n\\nV', 3129: b's ne', 3130: b'ds, ', 3131: b't l', 3132: b'hard', 3133: b' an ', 3134: b'pen', 3135: b' lo', 3136: b' MAR', 3137: b' tw', 3138: b'er;', 3139: b'lau', 3140: b'eace', 3141: b'd M', 3142: b'GRE', 3143: b'\\n\\nTR', 3144: b'TRAN', 3145: b'kill', 3146: b'th d', 3147: b't wa', 3148: b's lo', 3149: b' sho', 3150: b'erve', 3151: b'tio', 3152: b'tly', 3153: b'rs ', 3154: b'led ', 3155: b'aid', 3156: b':\\nGo', 3157: b'd k', 3158: b':\\nIf', 3159: b'w m', 3160: b'th c', 3161: b' his', 3162: b'th.', 3163: b'm.\\n\\n', 3164: b'rel', 3165: b'Kin', 3166: b'GAR', 3167: b'tor', 3168: b'Or ', 3169: b': b', 3170: b'gue ', 3171: b'it.', 3172: b'om m', 3173: b'wis', 3174: b' blo', 3175: b'ch w', 3176: b'or:\\n', 3177: b'isp', 3178: b'erer', 3179: b'God', 3180: b'n:\\n', 3181: b'NE:\\n', 3182: b'EN M', 3183: b'ARG', 3184: b'ARET', 3185: b'S O', 3186: b'vost', 3187: b' le', 3188: b'y re', 3189: b'nat', 3190: b'erc', 3191: b'bod', 3192: b'was', 3193: b'les ', 3194: b'ch s', 3195: b'in p', 3196: b' am ', 3197: b'raci', 3198: b', li', 3199: b'MIL', 3200: b'e pe', 3201: b'away', 3202: b'ces ', 3203: b' bre', 3204: b's we', 3205: b'an s', 3206: b'pose', 3207: b'ty ', 3208: b\":\\n'\", 3209: b'ater', 3210: b'hal', 3211: b'eyes', 3212: b'ly s', 3213: b'non', 3214: b'r lo', 3215: b'rop', 3216: b'fall', 3217: b'ged ', 3218: b'tag', 3219: b'hir', 3220: b'rem', 3221: b'lare', 3222: b'\\n\\nRI', 3223: b'rath', 3224: b'cit', 3225: b'he\\n', 3226: b' up', 3227: b'vis', 3228: b'r fa', 3229: b'rec', 3230: b'foll', 3231: b'cen', 3232: b'ason', 3233: b'els', 3234: b' I h', 3235: b'So ', 3236: b'to s', 3237: b'NGE', 3238: b'ELO', 3239: b'help', 3240: b'car', 3241: b'urs', 3242: b\"'t \", 3243: b' sen', 3244: b'enti', 3245: b'nor ', 3246: b'ake', 3247: b'es;', 3248: b'd le', 3249: b'ct ', 3250: b'henc', 3251: b\":\\nI'\", 3252: b' men', 3253: b'to b', 3254: b'if ', 3255: b',\\nF', 3256: b'unto', 3257: b';\\nW', 3258: b'e:\\n', 3259: b'ngl', 3260: b'EL:\\n', 3261: b'ARIN', 3262: b'arci', 3263: b'im, ', 3264: b'in y', 3265: b't up', 3266: b'hus', 3267: b'ongu', 3268: b's ou', 3269: b'if y', 3270: b': a', 3271: b'ates', 3272: b'esee', 3273: b'sur', 3274: b'erta', 3275: b'er,', 3276: b'pin', 3277: b'ose ', 3278: b'age', 3279: b'ful ', 3280: b'HOR', 3281: b'THAR', 3282: b'f ou', 3283: b'a g', 3284: b's k', 3285: b' a t', 3286: b'ire', 3287: b'hor', 3288: b'owar', 3289: b'cho', 3290: b'y be', 3291: b'much', 3292: b'shi', 3293: b' by', 3294: b' was', 3295: b' hus', 3296: b'lin', 3297: b'om ', 3298: b', l', 3299: b'in.', 3300: b'face', 3301: b' nev', 3302: b';\\nBu', 3303: b'my m', 3304: b' to-', 3305: b'd my', 3306: b's my', 3307: b'd lo', 3308: b' I a', 3309: b'by m', 3310: b'ngel', 3311: b' if', 3312: b'o do', 3313: b'lack', 3314: b'ust', 3315: b' ye', 3316: b'ite ', 3317: b' mos', 3318: b'sea', 3319: b's fr', 3320: b'r li', 3321: b'let', 3322: b'f h', 3323: b' a c', 3324: b'die', 3325: b'aith', 3326: b'ck, ', 3327: b'r, ', 3328: b'ens', 3329: b'use', 3330: b' tal', 3331: b' br', 3332: b'ree', 3333: b's so', 3334: b'ham', 3335: b'se,\\n', 3336: b'\\nIs ', 3337: b't C', 3338: b'eed ', 3339: b'e le', 3340: b'er c', 3341: b'le,\\n', 3342: b'us, ', 3343: b'eld', 3344: b': I', 3345: b'sor', 3346: b' a b', 3347: b'n i', 3348: b'.\\nH', 3349: b'st.', 3350: b'a d', 3351: b' sc', 3352: b'rait', 3353: b'\\n\\nES', 3354: b'ESCA', 3355: b'CAL', 3356: b'LUS', 3357: b'\\n\\nKA', 3358: b'KATH', 3359: b'alk', 3360: b'on w', 3361: b'e tr', 3362: b'hus ', 3363: b'gh t', 3364: b'int ', 3365: b\"t's\", 3366: b'er l', 3367: b's is', 3368: b'been', 3369: b'd S', 3370: b' wom', 3371: b'myse', 3372: b'g i', 3373: b'en,\\n', 3374: b'llin', 3375: b';\\nFo', 3376: b'ANG', 3377: b'All', 3378: b'ici', 3379: b'till', 3380: b'or, ', 3381: b'in,\\n', 3382: b'm no', 3383: b' al', 3384: b's.\\n', 3385: b' mi', 3386: b'e ag', 3387: b'I f', 3388: b'Hav', 3389: b'rave', 3390: b'pris', 3391: b'uke ', 3392: b'AND', 3393: b'migh', 3394: b's mo', 3395: b':\\nCo', 3396: b'ones', 3397: b'usin', 3398: b'enat', 3399: b'. T', 3400: b'. I', 3401: b'low', 3402: b'ity ', 3403: b'ee, ', 3404: b'upo', 3405: b've.', 3406: b'n.\\n\\n', 3407: b't ho', 3408: b'east', 3409: b'eig', 3410: b'DUC', 3411: b'HES', 3412: b't?\\n\\n', 3413: b's v', 3414: b'rain', 3415: b'del', 3416: b'iver', 3417: b'ody', 3418: b'such', 3419: b't, t', 3420: b'onc', 3421: b'e fi', 3422: b'w h', 3423: b'omes', 3424: b'd ou', 3425: b'tru', 3426: b'ny ', 3427: b'd?\\n\\n', 3428: b'im.', 3429: b':\\nD', 3430: b'ife', 3431: b'joy', 3432: b'ream', 3433: b'vill', 3434: b'Duk', 3435: b'ORD', 3436: b'le.', 3437: b'vir', 3438: b'ay w', 3439: b'r k', 3440: b'us t', 3441: b'atur', 3442: b'ou g', 3443: b',\\nL', 3444: b'eser', 3445: b'n f', 3446: b'year', 3447: b', st', 3448: b'n,\\n', 3449: b'se.', 3450: b'org', 3451: b'herd', 3452: b'aid ', 3453: b'n he', 3454: b' sor', 3455: b'roy', 3456: b'anca', 3457: b'Eng', 3458: b'n p', 3459: b'er y', 3460: b'unt', 3461: b'th f', 3462: b'imp', 3463: b\"'er\", 3464: b\"'d,\\n\", 3465: b'Yet ', 3466: b'lace', 3467: b'sty', 3468: b't S', 3469: b'gh ', 3470: b'o i', 3471: b\"'d, \", 3472: b'swor', 3473: b'sed', 3474: b', or', 3475: b'clo', 3476: b'im t', 3477: b'm b', 3478: b'ld, ', 3479: b'Be ', 3480: b'CAMI', 3481: b'LLO', 3482: b'k.\\n\\n', 3483: b'irst', 3484: b'poo', 3485: b't fo', 3486: b'g in', 3487: b' lik', 3488: b'them', 3489: b'ease', 3490: b'fer', 3491: b'cei', 3492: b'just', 3493: b'res ', 3494: b'gar', 3495: b'reak', 3496: b'ce;', 3497: b'mou', 3498: b'dou', 3499: b' a d', 3500: b'hold', 3501: b'd fr', 3502: b'bett', 3503: b'one.', 3504: b' a l', 3505: b'mean', 3506: b'uch ', 3507: b' des', 3508: b' a f', 3509: b'hast', 3510: b'd.\\n', 3511: b'god', 3512: b'n c', 3513: b'ris', 3514: b'ch, ', 3515: b'a l', 3516: b'ruc', 3517: b'bri', 3518: b's it', 3519: b'o li', 3520: b't n', 3521: b'an m', 3522: b' sti', 3523: b'lat', 3524: b'arn', 3525: b'She ', 3526: b' tur', 3527: b'erou', 3528: b'p t', 3529: b' mer', 3530: b'e ey', 3531: b'yal', 3532: b'enry', 3533: b'ffor', 3534: b'ORT', 3535: b'TEN', 3536: b'ENS', 3537: b'ople', 3538: b'ou p', 3539: b'ly, ', 3540: b'ay a', 3541: b'ir s', 3542: b'of w', 3543: b'ener', 3544: b'in b', 3545: b'omin', 3546: b';\\nI', 3547: b' wo', 3548: b'sure', 3549: b'oug', 3550: b'ple ', 3551: b'eet', 3552: b'een ', 3553: b' art', 3554: b'hep', 3555: b'r.\\n\\n', 3556: b' me.', 3557: b'bac', 3558: b':\\nI ', 3559: b'an w', 3560: b' she', 3561: b'eem', 3562: b'fe, ', 3563: b'RIAR', 3564: b'SIO', 3565: b'peop', 3566: b'vic', 3567: b'bus', 3568: b'stat', 3569: b'h, ', 3570: b'isc', 3571: b'ldi', 3572: b'say ', 3573: b'ch m', 3574: b'lt ', 3575: b'ch h', 3576: b'ead ', 3577: b'ady', 3578: b' bet', 3579: b', hi', 3580: b\" I'\", 3581: b'ows', 3582: b'tun', 3583: b'ds,\\n', 3584: b', as', 3585: b'jest', 3586: b'FRI', 3587: b'BAP', 3588: b'APTI', 3589: b'TIST', 3590: b'STA', 3591: b'tal', 3592: b'its ', 3593: b\"o' t\", 3594: b': w', 3595: b' ab', 3596: b'w y', 3597: b' par', 3598: b'th p', 3599: b'OMIN', 3600: b'\\nHa', 3601: b'wom', 3602: b'aft', 3603: b'me;', 3604: b'hame', 3605: b'\\n\\nT', 3606: b' wr', 3607: b'beg', 3608: b'mit', 3609: b'ps ', 3610: b'pt ', 3611: b'e ow', 3612: b'y:\\n', 3613: b'Ang', 3614: b'AUT', 3615: b'TOL', 3616: b'OLYC', 3617: b'YCUS', 3618: b'ene', 3619: b'eve', 3620: b'm f', 3621: b't sp', 3622: b're?', 3623: b'enou', 3624: b' arm', 3625: b'tat', 3626: b't ar', 3627: b's me', 3628: b'riv', 3629: b'ner', 3630: b'er:', 3631: b'eac', 3632: b'arl', 3633: b' at', 3634: b'!\\nT', 3635: b' bes', 3636: b\"on'\", 3637: b'm,\\n', 3638: b'an h', 3639: b',\\nC', 3640: b'd\\nT', 3641: b'd fa', 3642: b'of d', 3643: b'lady', 3644: b'him ', 3645: b'f w', 3646: b'pe ', 3647: b'ows ', 3648: b' no ', 3649: b'et, ', 3650: b'uest', 3651: b'Mur', 3652: b'AREN', 3653: b'LADY', 3654: b'ay s', 3655: b't. ', 3656: b'rum', 3657: b', lo', 3658: b'lit', 3659: b'e\\nT', 3660: b' hat', 3661: b'n o', 3662: b'\\nYou', 3663: b'g c', 3664: b'rew', 3665: b'w no', 3666: b'COM', 3667: b'pan', 3668: b'an o', 3669: b'oub', 3670: b'ked ', 3671: b'Gen', 3672: b'to a', 3673: b's su', 3674: b' a g', 3675: b'er i', 3676: b'ke, ', 3677: b'ft ', 3678: b'meth', 3679: b'cle', 3680: b' hol', 3681: b'S:\\n', 3682: b'meo', 3683: b'ENES', 3684: b'r ow', 3685: b'mast', 3686: b'Will', 3687: b'rit', 3688: b'memb', 3689: b't di', 3690: b\"' t\", 3691: b'see ', 3692: b' kin', 3693: b'n ou', 3694: b't it', 3695: b'ick', 3696: b', C', 3697: b'bor', 3698: b'Is ', 3699: b\"en'\", 3700: b'sion', 3701: b'dan', 3702: b's sh', 3703: b\", '\", 3704: b', fa', 3705: b'umb', 3706: b's\\nT', 3707: b',\\nN', 3708: b'led', 3709: b' sle', 3710: b'ult', 3711: b'ge,\\n', 3712: b'd ne', 3713: b'unc', 3714: b'BEN', 3715: b'ENV', 3716: b'OLIO', 3717: b'ntry', 3718: b\"er'd\", 3719: b'ouch', 3720: b'MAR', 3721: b'fac', 3722: b'y v', 3723: b' wis', 3724: b'geth', 3725: b'ond', 3726: b'bles', 3727: b'ar a', 3728: b'may', 3729: b'ded ', 3730: b'ir.', 3731: b'dra', 3732: b'refo', 3733: b'ce:\\n', 3734: b'ot ', 3735: b'into', 3736: b'emp', 3737: b', so', 3738: b\"h'd \", 3739: b' wil', 3740: b'NOR', 3741: b'MER', 3742: b'RUM', 3743: b'ROSP', 3744: b'SPER', 3745: b'ERO', 3746: b'ts, ', 3747: b'ses', 3748: b'hed ', 3749: b'r be', 3750: b'e cr', 3751: b'of b', 3752: b'ice', 3753: b'to h', 3754: b'lf a', 3755: b'Gre', 3756: b', sh', 3757: b'am, ', 3758: b'brin', 3759: b'th l', 3760: b'o ou', 3761: b'une ', 3762: b'on s', 3763: b'wel', 3764: b'ken', 3765: b'o lo', 3766: b'sai', 3767: b'fal', 3768: b'ge, ', 3769: b'star', 3770: b' hap', 3771: b'ERC', 3772: b'CUT', 3773: b'UTIO', 3774: b'Clow', 3775: b'PRO', 3776: b'r re', 3777: b'unk', 3778: b'm in', 3779: b'lves', 3780: b' us', 3781: b'us.', 3782: b'er.\\n', 3783: b'll,\\n', 3784: b' fin', 3785: b'e?\\n\\n', 3786: b'anta', 3787: b'fen', 3788: b'lay', 3789: b'gran', 3790: b' str', 3791: b'val', 3792: b'put', 3793: b'lac', 3794: b'pare', 3795: b' har', 3796: b'yet', 3797: b't M', 3798: b' cha', 3799: b'Sha', 3800: b'ori', 3801: b'stay', 3802: b'put ', 3803: b'raw', 3804: b'e ro', 3805: b'r i', 3806: b'gman', 3807: b'CLAR', 3808: b'\\n\\nCl', 3809: b'UCEN', 3810: b'fur', 3811: b'll;', 3812: b'moth', 3813: b'atu', 3814: b'Rom', 3815: b',\\nNo', 3816: b'each', 3817: b'ite', 3818: b'ay,\\n', 3819: b'll l', 3820: b'erf', 3821: b'y o', 3822: b'ou?', 3823: b'eave', 3824: b'd ye', 3825: b'my w', 3826: b'h I', 3827: b'y fo', 3828: b'es,', 3829: b'd sp', 3830: b'an y', 3831: b'law', 3832: b'tak', 3833: b'o,\\n', 3834: b'\\n\\nCL', 3835: b'cast', 3836: b'liff', 3837: b'GRU', 3838: b'selv', 3839: b'ckin', 3840: b'more', 3841: b'eat ', 3842: b\"e'er\", 3843: b'eral', 3844: b'hrou', 3845: b', we', 3846: b\"an'\", 3847: b' loo', 3848: b'e r', 3849: b'ali', 3850: b'd su', 3851: b':\\nSo', 3852: b' per', 3853: b'ir,\\n', 3854: b'g d', 3855: b's up', 3856: b'ghts', 3857: b'abou', 3858: b'adv', 3859: b'ide', 3860: b'e ta', 3861: b'! w', 3862: b'o in', 3863: b'o I', 3864: b's se', 3865: b'o.\\n\\n', 3866: b'bid', 3867: b'ly a', 3868: b'duk', 3869: b'AUL', 3870: b'LIN', 3871: b'POM', 3872: b'enge', 3873: b'irtu', 3874: b'tend', 3875: b'g l', 3876: b'ents', 3877: b'dev', 3878: b'on;', 3879: b'ays', 3880: b'ile ', 3881: b'orl', 3882: b'er p', 3883: b'grow', 3884: b're;', 3885: b'y.\\n', 3886: b'ldre', 3887: b'ar,\\n', 3888: b':\\nTo', 3889: b'lis', 3890: b'ses ', 3891: b' gen', 3892: b'bal', 3893: b'om h', 3894: b\"in'\", 3895: b'.\\nA', 3896: b'e q', 3897: b'e or', 3898: b'sle', 3899: b'ld,\\n', 3900: b'als', 3901: b't fr', 3902: b'uty', 3903: b'\\n\\nY', 3904: b'y da', 3905: b'AN:\\n', 3906: b'\\n\\nAN', 3907: b'PAU', 3908: b'OMPE', 3909: b'PEY', 3910: b'Kat', 3911: b'REM', 3912: b'ced ', 3913: b'tay', 3914: b'en w', 3915: b' sto', 3916: b'stra', 3917: b'e po', 3918: b'. Th', 3919: b'erat', 3920: b'wea', 3921: b'k,\\n', 3922: b'poin', 3923: b'oud', 3924: b'. H', 3925: b'rok', 3926: b'figh', 3927: b'faul', 3928: b'OLUM', 3929: b'UMNI', 3930: b'NIA', 3931: b'rein', 3932: b'elco', 3933: b' bea', 3934: b'ght.', 3935: b's do', 3936: b'age ', 3937: b'w a', 3938: b'e bo', 3939: b'las', 3940: b'roke', 3941: b'usic', 3942: b'YOR', 3943: b'LIX', 3944: b'XEN', 3945: b'd u', 3946: b'prou', 3947: b', co', 3948: b' ev', 3949: b'ishe', 3950: b' lit', 3951: b't su', 3952: b'ned ', 3953: b'hile', 3954: b': h', 3955: b'\\nBu', 3956: b'iss', 3957: b'that', 3958: b's. ', 3959: b' en', 3960: b'rue', 3961: b'I he', 3962: b'my h', 3963: b'ortu', 3964: b'en h', 3965: b's bu', 3966: b'n d', 3967: b' bl', 3968: b'day ', 3969: b'wen', 3970: b'esp', 3971: b'ingm', 3972: b'STIN', 3973: b'INGS', 3974: b'GS:\\n', 3975: b'\\n\\nPO', 3976: b'POLI', 3977: b'GON', 3978: b'roc', 3979: b' aw', 3980: b'dear', 3981: b'ann', 3982: b'ffer', 3983: b'y do', 3984: b'vice', 3985: b'ay h', 3986: b'If ', 3987: b'abl', 3988: b' pre', 3989: b\"\\nI'\", 3990: b'ric', 3991: b'.\\nBu', 3992: b' giv', 3993: b'\\nSha', 3994: b', I ', 3995: b'd n', 3996: b'news', 3997: b'ed.', 3998: b'onta', 3999: b'ou o', 4000: b'irit', 4001: b'er g', 4002: b'y n', 4003: b', on', 4004: b'ce!', 4005: b'en.', 4006: b'oath', 4007: b'.\\nM', 4008: b'f Y', 4009: b'duke', 4010: b'She', 4011: b'AR ', 4012: b' LA', 4013: b'LAUR', 4014: b'UREN', 4015: b'ein', 4016: b'd it', 4017: b' way', 4018: b'ale ', 4019: b'\\nFor', 4020: b'ied ', 4021: b'ou,\\n', 4022: b'm w', 4023: b'of l', 4024: b'im ', 4025: b'vil', 4026: b'ano', 4027: b', ou', 4028: b'Sen', 4029: b'omis', 4030: b'O, t', 4031: b'w,\\n', 4032: b'ely ', 4033: b'seem', 4034: b' tow', 4035: b' or ', 4036: b'cau', 4037: b', go', 4038: b'Giv', 4039: b'.\\nN', 4040: b\"n'd \", 4041: b\"'st\", 4042: b'orc', 4043: b'pain', 4044: b'ace ', 4045: b'spe', 4046: b'erm', 4047: b'cest', 4048: b'f s', 4049: b'l t', 4050: b'l, ', 4051: b'ista', 4052: b'HAST', 4053: b'BY:\\n', 4054: b'BER', 4055: b'lve', 4056: b'lly', 4057: b'cius', 4058: b'an b', 4059: b' any', 4060: b'fee', 4061: b'ow s', 4062: b\"ou'\", 4063: b'ourt', 4064: b'once', 4065: b'k m', 4066: b'l o', 4067: b't by', 4068: b'e qu', 4069: b'dly', 4070: b'us,\\n', 4071: b'ch i', 4072: b't v', 4073: b'Mad', 4074: b'e sw', 4075: b'last', 4076: b'gat', 4077: b'tune', 4078: b'fic', 4079: b'e;\\n', 4080: b'f no', 4081: b'lam', 4082: b'of i', 4083: b'hy w', 4084: b'd ho', 4085: b'get', 4086: b't fa', 4087: b'ow m', 4088: b'uck', 4089: b'rai', 4090: b' hop', 4091: b'\\n\\nHA', 4092: b'LIFF', 4093: b'olin', 4094: b'ORTH', 4095: b'THUM', 4096: b'UMB', 4097: b'ERL', 4098: b'urth', 4099: b'll:\\n', 4100: b'my t', 4101: b'ory', 4102: b'e al', 4103: b' acc', 4104: b't un', 4105: b' ten', 4106: b's en', 4107: b'e ri', 4108: b'fes', 4109: b'd un', 4110: b'ton', 4111: b'inf', 4112: b'ior ', 4113: b'al ', 4114: b'ir,', 4115: b'ced', 4116: b'need', 4117: b'see', 4118: b'arch', 4119: b'\\nHe ', 4120: b'sla', 4121: b'd sh', 4122: b'ple', 4123: b'f p', 4124: b', of', 4125: b' sub', 4126: b'lls ', 4127: b'e as', 4128: b'bit', 4129: b'wat', 4130: b'll i', 4131: b'dnes', 4132: b'ern', 4133: b'Hast', 4134: b'LAD', 4135: b'DY ', 4136: b'ely', 4137: b'k no', 4138: b'even', 4139: b'll k', 4140: b': s', 4141: b'sta', 4142: b'nse', 4143: b'\\nFr', 4144: b'udi', 4145: b'g y', 4146: b'!\\nW', 4147: b'e a ', 4148: b\"k'd \", 4149: b'Let', 4150: b'?\\nW', 4151: b' ac', 4152: b' mee', 4153: b'I, ', 4154: b' hor', 4155: b'er-', 4156: b'Loo', 4157: b'in o', 4158: b'bat', 4159: b'ost', 4160: b't ca', 4161: b'd mo', 4162: b' beg', 4163: b' po', 4164: b'oner', 4165: b'ary', 4166: b' a ', 4167: b'lear', 4168: b\"ish'\", 4169: b' wee', 4170: b'.\\nS', 4171: b'ope ', 4172: b's un', 4173: b'To s', 4174: b'Y AN', 4175: b'ANNE', 4176: b'Pet', 4177: b'thes', 4178: b's de', 4179: b'cra', 4180: b'who ', 4181: b'ue, ', 4182: b'th g', 4183: b'ail', 4184: b'eliv', 4185: b's?\\n\\n', 4186: b'ds t', 4187: b'no s', 4188: b'ins ', 4189: b'ay,', 4190: b'f g', 4191: b'm o', 4192: b'onst', 4193: b', ar', 4194: b\"et'\", 4195: b'Tak', 4196: b' pri', 4197: b'e fe', 4198: b'ste', 4199: b'ce?', 4200: b'air', 4201: b' by ', 4202: b'rid', 4203: b'ried', 4204: b'me?', 4205: b'oura', 4206: b'o fa', 4207: b'lock', 4208: b'e by', 4209: b'id t', 4210: b'e gr', 4211: b'stre', 4212: b'enes', 4213: b'far', 4214: b'rt t', 4215: b'al t', 4216: b' sla', 4217: b'e E', 4218: b'INCE', 4219: b'Fran', 4220: b'Cam', 4221: b'CAP', 4222: b'PUL', 4223: b'acc', 4224: b'g p', 4225: b'ts,\\n', 4226: b'e at', 4227: b', wh', 4228: b'an,\\n', 4229: b'sun', 4230: b' lea', 4231: b' bro', 4232: b'ange', 4233: b'm c', 4234: b'If t', 4235: b'cer', 4236: b'nee', 4237: b'd bu', 4238: b'll n', 4239: b':\\nWi', 4240: b'renc', 4241: b'cond', 4242: b'st;', 4243: b'ed,\\n', 4244: b'imse', 4245: b'te ', 4246: b'a h', 4247: b'\\nIn ', 4248: b'e te', 4249: b'ue ', 4250: b'\\nMy ', 4251: b' wea', 4252: b'pec', 4253: b':\\nHa', 4254: b', re', 4255: b'wan', 4256: b'y on', 4257: b'ices', 4258: b'erl', 4259: b' did', 4260: b', bo', 4261: b' un', 4262: b'\\n\\nPR', 4263: b'PRIN', 4264: b'Luc', 4265: b'ingb', 4266: b'gbro', 4267: b'ce.\\n', 4268: b'uit', 4269: b'kes', 4270: b'men ', 4271: b'in d', 4272: b'poor', 4273: b'main', 4274: b\" o'\", 4275: b' ap', 4276: b', k', 4277: b'y la', 4278: b'ns ', 4279: b'Go, ', 4280: b'had', 4281: b'Som', 4282: b'sis', 4283: b'Fare', 4284: b'en m', 4285: b' a h', 4286: b'yer', 4287: b'elo', 4288: b'e ab', 4289: b'een', 4290: b'home', 4291: b' I c', 4292: b' suc', 4293: b't we', 4294: b'r,\\n', 4295: b'r n', 4296: b'.\\nO', 4297: b's ca', 4298: b'Pra', 4299: b' two', 4300: b'd;\\n', 4301: b'kis', 4302: b'urp', 4303: b'od, ', 4304: b'of c', 4305: b'bee', 4306: b'lle', 4307: b'y I', 4308: b'er. ', 4309: b'mbl', 4310: b'qui', 4311: b' had', 4312: b',\\nFo', 4313: b'augh', 4314: b's ho', 4315: b'nur', 4316: b'.\\nB', 4317: b'Par', 4318: b\"ard'\", 4319: b'riar', 4320: b'Juli', 4321: b'nio', 4322: b'reso', 4323: b':\\nR', 4324: b'e ac', 4325: b'e mi', 4326: b'ly.', 4327: b'arre', 4328: b'an c', 4329: b'\\nThi', 4330: b'y ne', 4331: b' ans', 4332: b'nsw', 4333: b'swer', 4334: b',\\nBe', 4335: b'hop', 4336: b'ir;', 4337: b'ase ', 4338: b'ruth', 4339: b'quar', 4340: b' mou', 4341: b'oge', 4342: b'oud ', 4343: b'h in', 4344: b'Mor', 4345: b'Nor ', 4346: b'adam', 4347: b'ilt ', 4348: b'ld.', 4349: b' I m', 4350: b'wif', 4351: b'cam', 4352: b'In ', 4353: b'ury', 4354: b'dly ', 4355: b'nter', 4356: b';\\nH', 4357: b'r ou', 4358: b'! t', 4359: b'cap', 4360: b\"o'er\", 4361: b'Why,', 4362: b'fool', 4363: b'eren', 4364: b'ame', 4365: b',\\nD', 4366: b'time', 4367: b'xt ', 4368: b'w s', 4369: b'set ', 4370: b'rag', 4371: b'omen', 4372: b' mai', 4373: b'\\n\\nMI', 4374: b': i', 4375: b'ir a', 4376: b'ge.', 4377: b'Con', 4378: b'tly ', 4379: b's co', 4380: b'nown', 4381: b' sl', 4382: b'er\\nT', 4383: b'eter', 4384: b'od,\\n', 4385: b'gh a', 4386: b' fl', 4387: b'r v', 4388: b'eat', 4389: b'rib', 4390: b' gre', 4391: b't mo', 4392: b' pla', 4393: b's e', 4394: b'cel', 4395: b'ing;', 4396: b'ar h', 4397: b'ody ', 4398: b'pee', 4399: b'ine.', 4400: b'quic', 4401: b'Har', 4402: b'd do', 4403: b'like', 4404: b'\\nWho', 4405: b' dow', 4406: b'rais', 4407: b'ir t', 4408: b'll.\\n', 4409: b' day', 4410: b' I d', 4411: b\"ry'\", 4412: b'up t', 4413: b'n g', 4414: b'? w', 4415: b',\\nIf', 4416: b's la', 4417: b'col', 4418: b' fri', 4419: b'Cou', 4420: b'he, ', 4421: b'hy m', 4422: b'lf,\\n', 4423: b'make', 4424: b'wron', 4425: b'happ', 4426: b'bid ', 4427: b'eaut', 4428: b'e D', 4429: b'tis', 4430: b'Sig', 4431: b'yiel', 4432: b'pet', 4433: b'ide ', 4434: b'g he', 4435: b': y', 4436: b\"y's \", 4437: b't ev', 4438: b'ash', 4439: b'e si', 4440: b\"i' t\", 4441: b'ch b', 4442: b'they', 4443: b'e go', 4444: b'AUFI', 4445: b'FIDI', 4446: b'DIUS', 4447: b'd en', 4448: b'd v', 4449: b'fea', 4450: b'ir w', 4451: b'spir', 4452: b'er!', 4453: b'ush', 4454: b' on ', 4455: b'nde', 4456: b'gro', 4457: b'r ne', 4458: b'some', 4459: b'eith', 4460: b'clai', 4461: b'grou', 4462: b'err', 4463: b' sov', 4464: b'ria', 4465: b' CAP', 4466: b'APUL', 4467: b'ami', 4468: b'LORI', 4469: b'RIZ', 4470: b'ZEL', 4471: b'ARI', 4472: b'die ', 4473: b':\\nLe', 4474: b'k w', 4475: b'jec', 4476: b'sid', 4477: b'has ', 4478: b'e C', 4479: b'w w', 4480: b' sta', 4481: b'and\\n', 4482: b'enem', 4483: b\"e's \", 4484: b'ente', 4485: b'Who ', 4486: b'I re', 4487: b'run', 4488: b'avou', 4489: b'Wer', 4490: b',\\nIn', 4491: b'lad', 4492: b'ord,', 4493: b'utt', 4494: b'rage', 4495: b'as, ', 4496: b'ie, ', 4497: b'sses', 4498: b'so, ', 4499: b'e ex', 4500: b'fare', 4501: b'bla', 4502: b'hell', 4503: b't le', 4504: b' off', 4505: b\"ck'\", 4506: b' fi', 4507: b'By ', 4508: b'ing:', 4509: b'ride', 4510: b'r el', 4511: b'pal', 4512: b's\\nA', 4513: b' tem', 4514: b'ad t', 4515: b'ch d', 4516: b'w i', 4517: b'hyse', 4518: b'fe,\\n', 4519: b'ilt', 4520: b\"od'\", 4521: b'heer', 4522: b'VER', 4523: b'LE:\\n', 4524: b'TON', 4525: b'Tyb', 4526: b'FLO', 4527: b'sol', 4528: b'eve ', 4529: b'. Y', 4530: b'\\nHav', 4531: b'd ag', 4532: b'rece', 4533: b't I ', 4534: b'Than', 4535: b't de', 4536: b'bel', 4537: b'\\nWe ', 4538: b'an d', 4539: b'issu', 4540: b'd la', 4541: b'ensi', 4542: b' me;', 4543: b'and.', 4544: b'ch f', 4545: b't;\\n', 4546: b'esse', 4547: b'cte', 4548: b\"'d.\", 4549: b'r on', 4550: b'e ad', 4551: b'by h', 4552: b'elc', 4553: b'\\nOf ', 4554: b'ent.', 4555: b's u', 4556: b'e j', 4557: b'?\\nT', 4558: b'Cli', 4559: b'I no', 4560: b'ERS', 4561: b'Mon', 4562: b'DY C', 4563: b'cee', 4564: b'eld ', 4565: b'hem ', 4566: b'Wou', 4567: b'bar', 4568: b' wh', 4569: b\"e'll\", 4570: b'care', 4571: b\"ne'\", 4572: b'eel', 4573: b'llo', 4574: b'me,', 4575: b':\\nSh', 4576: b' bac', 4577: b'ou,', 4578: b'ARCI', 4579: b'CIUS', 4580: b'; s', 4581: b'orn ', 4582: b'Mes', 4583: b'lip', 4584: b'pear', 4585: b'ie ', 4586: b'n be', 4587: b'in f', 4588: b'lew', 4589: b\"and'\", 4590: b'reng', 4591: b'ngth', 4592: b'rith', 4593: b'Say', 4594: b'blow', 4595: b'es.\\n', 4596: b'him.', 4597: b'm h', 4598: b'is.', 4599: b'n li', 4600: b'uth', 4601: b'beli', 4602: b'!\\nI', 4603: b'ar.', 4604: b' hum', 4605: b'give', 4606: b'w.\\n\\n', 4607: b'Do ', 4608: b'nd,\\n', 4609: b'by a', 4610: b' mon', 4611: b' wit', 4612: b'too', 4613: b'nd.', 4614: b', sw', 4615: b'it,\\n', 4616: b'e pl', 4617: b'vel', 4618: b\"ow'\", 4619: b', un', 4620: b'eref', 4621: b'ouce', 4622: b'gha', 4623: b'ege', 4624: b'dep', 4625: b'mio', 4626: b'\\n\\nSE', 4627: b'SEBA', 4628: b'BAS', 4629: b'STI', 4630: b'TIAN', 4631: b'; l', 4632: b'on.\\n', 4633: b'oll', 4634: b'r it', 4635: b'l,\\n', 4636: b'ay m', 4637: b'\\nIf', 4638: b's as', 4639: b'stic', 4640: b'ms ', 4641: b'get ', 4642: b'ess.', 4643: b'ow.', 4644: b'len', 4645: b'ow w', 4646: b'cov', 4647: b'; h', 4648: b'lf.', 4649: b'ens ', 4650: b't ag', 4651: b'urn ', 4652: b'ull', 4653: b'!\\nA', 4654: b'ke.', 4655: b\"o's \", 4656: b'ts t', 4657: b'Bol', 4658: b'in c', 4659: b'es:\\n', 4660: b' let', 4661: b'ks, ', 4662: b'sul', 4663: b' tou', 4664: b'Mast', 4665: b\"ch'\", 4666: b'.\\nY', 4667: b'es!', 4668: b', se', 4669: b' chi', 4670: b'aim', 4671: b'ord;', 4672: b't co', 4673: b'! a', 4674: b'y L', 4675: b'play', 4676: b'rd:\\n', 4677: b'd ra', 4678: b'ans ', 4679: b'o de', 4680: b'e ra', 4681: b'es:', 4682: b'ors ', 4683: b'an e', 4684: b'med ', 4685: b' gra', 4686: b'in;', 4687: b'ily', 4688: b'ey ', 4689: b'of f', 4690: b're\\nT', 4691: b't pl', 4692: b'answ', 4693: b'ls ', 4694: b'hy t', 4695: b'lli', 4696: b',\\nOr', 4697: b'esi', 4698: b',\\nHi', 4699: b'mes', 4700: b'Upon', 4701: b'on:', 4702: b'alon', 4703: b'e I ', 4704: b'th i', 4705: b't bu', 4706: b'\\nSh', 4707: b'e L', 4708: b'Away', 4709: b'ecu', 4710: b'Tell', 4711: b'e\\nA', 4712: b'ds.', 4713: b'ope', 4714: b's mu', 4715: b'hes ', 4716: b'do t', 4717: b'Thy ', 4718: b'icer', 4719: b'elie', 4720: b't\\nA', 4721: b'ea, ', 4722: b\"our'\", 4723: b'r ey', 4724: b'ir?', 4725: b'y ca', 4726: b'lef', 4727: b'ump', 4728: b'Are ', 4729: b'uti', 4730: b'm m', 4731: b'ivin', 4732: b'ench', 4733: b'den ', 4734: b'voic', 4735: b'h t', 4736: b'amen', 4737: b'osom', 4738: b'lies', 4739: b'irra', 4740: b' liv', 4741: b'guil', 4742: b'Buck', 4743: b'IOND', 4744: b'NDEL', 4745: b'ELLO', 4746: b'd. ', 4747: b'emy', 4748: b'd we', 4749: b'ay!', 4750: b's a ', 4751: b'nt ', 4752: b'o co', 4753: b'ndon', 4754: b' wan', 4755: b's da', 4756: b'ale', 4757: b'stru', 4758: b's sp', 4759: b'ch,\\n', 4760: b'an.', 4761: b'ini', 4762: b':\\nFo', 4763: b'hri', 4764: b'. B', 4765: b\"'tis\", 4766: b'ck t', 4767: b'lett', 4768: b'; y', 4769: b'k i', 4770: b'lf ', 4771: b'prof', 4772: b' saw', 4773: b'n.\\n', 4774: b'o, t', 4775: b'sio', 4776: b'eni', 4777: b' fou', 4778: b' bel', 4779: b'From', 4780: b\"n'd\", 4781: b' bra', 4782: b'obe', 4783: b'ert', 4784: b\",\\nI'\", 4785: b\"'tw\", 4786: b'o us', 4787: b'hee.', 4788: b'pir', 4789: b' lie', 4790: b\"ll'd\", 4791: b'exec', 4792: b'ina', 4793: b' sea', 4794: b'hat?', 4795: b'No ', 4796: b's ag', 4797: b'thal', 4798: b'ste ', 4799: b'e wr', 4800: b'ghn', 4801: b\"ing'\", 4802: b'd G', 4803: b'orfo', 4804: b'ON:\\n', 4805: b'liet', 4806: b'BIO', 4807: b'One ', 4808: b'arti', 4809: b'm g', 4810: b'hel', 4811: b'Cap', 4812: b'tran', 4813: b'p a', 4814: b'bell', 4815: b'y?\\n\\n', 4816: b'! W', 4817: b'ow a', 4818: b' is', 4819: b'else', 4820: b'blin', 4821: b'ols', 4822: b'so s', 4823: b'not.', 4824: b':\\nHi', 4825: b'ow h', 4826: b'in g', 4827: b'boy', 4828: b'th;', 4829: b't la', 4830: b'harg', 4831: b'; no', 4832: b'ho s', 4833: b'chm', 4834: b'me:', 4835: b'\\nI w', 4836: b'in l', 4837: b',\\nP', 4838: b'rge', 4839: b'ges ', 4840: b' I ', 4841: b'best', 4842: b'dar', 4843: b'on:\\n', 4844: b'es\\nT', 4845: b'll u', 4846: b'sav', 4847: b'me.\\n', 4848: b'iss ', 4849: b' mat', 4850: b'ids', 4851: b'a k', 4852: b'an i', 4853: b's by', 4854: b' de', 4855: b'atio', 4856: b'gs, ', 4857: b' app', 4858: b'temp', 4859: b'ow o', 4860: b'then', 4861: b'y un', 4862: b' ban', 4863: b'join', 4864: b'spee', 4865: b'ife ', 4866: b'm I', 4867: b'folk', 4868: b'F A', 4869: b' AUM', 4870: b'UMER', 4871: b'ERLE', 4872: b'\\n\\nMO', 4873: b'ucen', 4874: b'ANT', 4875: b'ONIO', 4876: b'e us', 4877: b'aris', 4878: b'cien', 4879: b'alt', 4880: b'uff', 4881: b'er\\nA', 4882: b'ute', 4883: b'rema', 4884: b' cam', 4885: b'arts', 4886: b\":\\n'T\", 4887: b'ceiv', 4888: b' foo', 4889: b'e fl', 4890: b'e br', 4891: b'es. ', 4892: b'rust', 4893: b't\\nW', 4894: b'ute ', 4895: b'ing?', 4896: b'fire', 4897: b'unes', 4898: b' tol', 4899: b'fidi', 4900: b'lf t', 4901: b'ats', 4902: b'o pr', 4903: b'ded', 4904: b'eri', 4905: b'fiel', 4906: b's sw', 4907: b's sa', 4908: b'emb', 4909: b'om w', 4910: b's bo', 4911: b'r la', 4912: b' swe', 4913: b'spo', 4914: b'pok', 4915: b'k h', 4916: b'e T', 4917: b'rge ', 4918: b'bow', 4919: b's if', 4920: b'own.', 4921: b' are', 4922: b'ercy', 4923: b'o?\\n\\n', 4924: b'e wo', 4925: b'cas', 4926: b'bet', 4927: b's pr', 4928: b\"let'\", 4929: b's le', 4930: b'esir', 4931: b'd as', 4932: b'so m', 4933: b'oin', 4934: b'quit', 4935: b'ised', 4936: b'at, ', 4937: b'o ca', 4938: b'swe', 4939: b'Stan', 4940: b'jud', 4941: b'ay;', 4942: b'atis', 4943: b'l a', 4944: b'ari', 4945: b'th.\\n', 4946: b'reg', 4947: b'd sa', 4948: b' dre', 4949: b'itl', 4950: b'bir', 4951: b'essi', 4952: b'Tow', 4953: b'ord?', 4954: b'EN:\\n', 4955: b', L', 4956: b'fle', 4957: b'HER', 4958: b'd A', 4959: b'etr', 4960: b'ONZA', 4961: b'ZALO', 4962: b's M', 4963: b'gues', 4964: b'w I', 4965: b'sci', 4966: b' to\\n', 4967: b'I n', 4968: b's;\\n', 4969: b'nei', 4970: b'y\\nT', 4971: b'ict', 4972: b't us', 4973: b'f i', 4974: b'acti', 4975: b' a k', 4976: b't sa', 4977: b'e ev', 4978: b' af', 4979: b'd\\nA', 4980: b'fend', 4981: b'Vol', 4982: b' I t', 4983: b'heth', 4984: b'Lad', 4985: b'unn', 4986: b' Ro', 4987: b'is\\n', 4988: b'eth', 4989: b'no, ', 4990: b'rick', 4991: b'lls', 4992: b' mur', 4993: b's ab', 4994: b'seen', 4995: b'vow', 4996: b' qu', 4997: b\"ay'\", 4998: b'avin', 4999: b'ock', 5000: b'\\nBe ', 5001: b'ten ', 5002: b'nded', 5003: b'lar', 5004: b'm he', 5005: b'y de', 5006: b', su', 5007: b' dar', 5008: b'oubl', 5009: b'wit', 5010: b'ou n', 5011: b'pair', 5012: b'lf, ', 5013: b' tit', 5014: b'fra', 5015: b'wife', 5016: b's ey', 5017: b' tor', 5018: b'med', 5019: b'.\\nAn', 5020: b'hy, ', 5021: b'?\\nA', 5022: b\"g's \", 5023: b'e da', 5024: b' cr', 5025: b't a ', 5026: b'cian', 5027: b' why', 5028: b't en', 5029: b'how ', 5030: b'rik', 5031: b'way ', 5032: b'. A', 5033: b'usur', 5034: b'ture', 5035: b\"t o'\", 5036: b'e aw', 5037: b';\\nY', 5038: b'lic', 5039: b'on,', 5040: b'ady ', 5041: b's ro', 5042: b'd ca', 5043: b'high', 5044: b' sai', 5045: b'wall', 5046: b'Bes', 5047: b'erit', 5048: b'Cor', 5049: b'k f', 5050: b'omb', 5051: b'mel', 5052: b'r fr', 5053: b'g no', 5054: b'. Co', 5055: b'ou;', 5056: b'! I', 5057: b'g g', 5058: b'le:\\n', 5059: b'nti', 5060: b'm d', 5061: b're.\\n', 5062: b'dest', 5063: b\"ar'\", 5064: b'p, ', 5065: b'er I', 5066: b'se;', 5067: b'easu', 5068: b'O m', 5069: b'ar s', 5070: b'arf', 5071: b'ach', 5072: b've;', 5073: b'prom', 5074: b'her.', 5075: b'Can', 5076: b'e sa', 5077: b'.\\nG', 5078: b'nock', 5079: b'in:\\n', 5080: b'ged', 5081: b'\\nBy', 5082: b'qua', 5083: b'hap', 5084: b'd ni', 5085: b'Lan', 5086: b'.\\nC', 5087: b' ni', 5088: b'Ah, ', 5089: b'Pom', 5090: b', P', 5091: b'ETER', 5092: b'CLI', 5093: b'FFOR', 5094: b'ERM', 5095: b'IONE', 5096: b'CLA', 5097: b'LAUD', 5098: b'UDIO', 5099: b', sp', 5100: b' fir', 5101: b'ho ', 5102: b':\\nHe', 5103: b'lly ', 5104: b' oth', 5105: b'is,\\n', 5106: b'le;', 5107: b'anks', 5108: b's ev', 5109: b',\\nU', 5110: b'n on', 5111: b'nob', 5112: b's gr', 5113: b'\\nFo', 5114: b'ius', 5115: b'stri', 5116: b'd!\\n\\n', 5117: b'peo', 5118: b'opl', 5119: b', M', 5120: b'hate', 5121: b'ly h', 5122: b'rove', 5123: b'om a', 5124: b'Lik', 5125: b'irth', 5126: b'k in', 5127: b'bas', 5128: b' bri', 5129: b'ow c', 5130: b', ye', 5131: b'oubt', 5132: b'lds', 5133: b'ilen', 5134: b\"ch'd\", 5135: b'sam', 5136: b'n re', 5137: b'ken ', 5138: b'dit', 5139: b'n no', 5140: b' I b', 5141: b'ck m', 5142: b'cri', 5143: b'wo ', 5144: b'h p', 5145: b'Wel', 5146: b' bur', 5147: b'itn', 5148: b'r ev', 5149: b'o en', 5150: b' wif', 5151: b'om o', 5152: b'apt', 5153: b'ied', 5154: b'ke,\\n', 5155: b\"r'd \", 5156: b're:\\n', 5157: b'sit', 5158: b'r o', 5159: b'; he', 5160: b'bos', 5161: b'roa', 5162: b'o pl', 5163: b'r da', 5164: b'ow,\\n', 5165: b'To m', 5166: b'roya', 5167: b' wat', 5168: b'flow', 5169: b't L', 5170: b'ross', 5171: b'arga', 5172: b'REY', 5173: b'o-m', 5174: b'LOR', 5175: b'\\n\\nED', 5176: b'EDW', 5177: b'uchi', 5178: b'RAN', 5179: b'ANDA', 5180: b'DA:\\n', 5181: b'iser', 5182: b\"e o'\", 5183: b's r', 5184: b'go ', 5185: b'\\nAga', 5186: b';\\nB', 5187: b'fit', 5188: b'ign ', 5189: b'chin', 5190: b'rat', 5191: b'e M', 5192: b'rive', 5193: b'osit', 5194: b',\\nSh', 5195: b'ce:', 5196: b'dy ', 5197: b'cks ', 5198: b' it.', 5199: b'd\\nW', 5200: b'im a', 5201: b'brow', 5202: b'd e', 5203: b'ry t', 5204: b'ile', 5205: b'To t', 5206: b'ense', 5207: b'rim', 5208: b'fet', 5209: b'ze ', 5210: b'ool', 5211: b'our.', 5212: b'set', 5213: b'ffic', 5214: b'alse', 5215: b\"h'd\", 5216: b'oo m', 5217: b'im,\\n', 5218: b'olan', 5219: b'meti', 5220: b'\\nIt ', 5221: b'on!', 5222: b'erse', 5223: b'\\nwi', 5224: b' ass', 5225: b'maid', 5226: b'bon', 5227: b'plu', 5228: b't ye', 5229: b'o it', 5230: b'Why ', 5231: b'able', 5232: b':\\nBy', 5233: b', do', 5234: b'cro', 5235: b'ext', 5236: b'ck a', 5237: b'ishm', 5238: b're,', 5239: b'idow', 5240: b'. Bu', 5241: b',\\nSo', 5242: b' fai', 5243: b'hore', 5244: b'open', 5245: b'ay.\\n', 5246: b'\\n\\nAR', 5247: b'Sir ', 5248: b'CE E', 5249: b'anio', 5250: b'Bian', 5251: b'a v', 5252: b'ods ', 5253: b'ervi', 5254: b'Our ', 5255: b'emi', 5256: b' da', 5257: b'urpo', 5258: b', de', 5259: b'y. ', 5260: b' ste', 5261: b'mall', 5262: b's ri', 5263: b'Mak', 5264: b'evil', 5265: b'eek', 5266: b' tro', 5267: b'\\nAs', 5268: b'hrow', 5269: b'ow f', 5270: b' sup', 5271: b'half', 5272: b'\\nHi', 5273: b's al', 5274: b'thre', 5275: b'ben', 5276: b' I l', 5277: b'not\\n', 5278: b'ask', 5279: b't go', 5280: b'lie ', 5281: b'mil', 5282: b'me!', 5283: b's pa', 5284: b'd fe', 5285: b'wid', 5286: b'did', 5287: b'etch', 5288: b' sir', 5289: b' lon', 5290: b'ly w', 5291: b' woo', 5292: b',\\nE', 5293: b't as', 5294: b'dge', 5295: b'st?', 5296: b'd ar', 5297: b'alm', 5298: b'; i', 5299: b'flat', 5300: b'ch.', 5301: b'iol', 5302: b'requ', 5303: b's na', 5304: b'an;', 5305: b'\\nMy', 5306: b'erfe', 5307: b'ass ', 5308: b'ract', 5309: b'bjec', 5310: b'Yes', 5311: b' bef', 5312: b'e!\\n\\n', 5313: b'?\\nO', 5314: b' ra', 5315: b'hron', 5316: b'post', 5317: b'jur', 5318: b'ot t', 5319: b'an I', 5320: b'al s', 5321: b'itse', 5322: b'To b', 5323: b'ate.', 5324: b'ker', 5325: b'reet', 5326: b'des ', 5327: b'mag', 5328: b'hy h', 5329: b'hid', 5330: b'rus', 5331: b'm y', 5332: b'itte', 5333: b's ni', 5334: b' gri', 5335: b'frow', 5336: b'its', 5337: b'Sin', 5338: b'orw', 5339: b'-mor', 5340: b'wak', 5341: b'yal ', 5342: b's si', 5343: b' ano', 5344: b'g.\\n', 5345: b'ona', 5346: b'enr', 5347: b'son ', 5348: b'ubj', 5349: b'sman', 5350: b'MIR', 5351: b' sur', 5352: b'hum', 5353: b'hat\\n', 5354: b'our\\n', 5355: b'th\\n', 5356: b'ad, ', 5357: b'nto ', 5358: b't e', 5359: b'h no', 5360: b'cal', 5361: b' cur', 5362: b'ram', 5363: b'e vi', 5364: b'is?', 5365: b'era', 5366: b'akin', 5367: b'only', 5368: b' pa', 5369: b's C', 5370: b'ers.', 5371: b'ese ', 5372: b'arc', 5373: b'n fr', 5374: b'enan', 5375: b' aft', 5376: b':\\nIn', 5377: b'll,', 5378: b'\\nAr', 5379: b'iev', 5380: b'd br', 5381: b'doe', 5382: b'er;\\n', 5383: b'? I', 5384: b'? a', 5385: b'll:', 5386: b'sty ', 5387: b',\\nLe', 5388: b'wn ', 5389: b'th:\\n', 5390: b'O t', 5391: b'e ni', 5392: b'hamb', 5393: b'sat', 5394: b'ed;', 5395: b'e bl', 5396: b'sigh', 5397: b'dle ', 5398: b'oice', 5399: b've\\nT', 5400: b' age', 5401: b'orge', 5402: b'an f', 5403: b'e ga', 5404: b'?\\nH', 5405: b'in!', 5406: b'e ea', 5407: b'd de', 5408: b'ch l', 5409: b's ow', 5410: b'Mer', 5411: b'w b', 5412: b'ads', 5413: b'nles', 5414: b'rd, ', 5415: b'Mus', 5416: b'Go t', 5417: b'and;', 5418: b'ad,\\n', 5419: b'f d', 5420: b'il t', 5421: b'ossi', 5422: b'rey', 5423: b'far ', 5424: b'! O', 5425: b'reig', 5426: b', W', 5427: b'd L', 5428: b'f E', 5429: b' sis', 5430: b'Sain', 5431: b'gare', 5432: b'dost', 5433: b'Glou', 5434: b'CAT', 5435: b'TES', 5436: b'ESBY', 5437: b'room', 5438: b'NT:\\n', 5439: b'CA:\\n', 5440: b\"we'\", 5441: b'eir', 5442: b'eak ', 5443: b'atin', 5444: b\"He'\", 5445: b'eeds', 5446: b'aunt', 5447: b\"in'd\", 5448: b'Beca', 5449: b'nd,', 5450: b'fice', 5451: b'ston', 5452: b'p y', 5453: b'reof', 5454: b'dom', 5455: b'd I ', 5456: b'ly m', 5457: b'ch c', 5458: b'go w', 5459: b'brou', 5460: b'tch', 5461: b'foot', 5462: b'exp', 5463: b'tuou', 5464: b's I ', 5465: b'sts ', 5466: b'ow d', 5467: b'm l', 5468: b'ue,\\n', 5469: b'k s', 5470: b'iven', 5471: b'o ex', 5472: b'ommo', 5473: b' me?', 5474: b'uri', 5475: b': m', 5476: b'de,\\n', 5477: b'wre', 5478: b'me\\nT', 5479: b'orce', 5480: b'pois', 5481: b't if', 5482: b'!\\nO', 5483: b'ered', 5484: b'dien', 5485: b'stoo', 5486: b'al, ', 5487: b'enty', 5488: b' adv', 5489: b' ri', 5490: b'r pr', 5491: b\"ve'\", 5492: b'f c', 5493: b's;\\nA', 5494: b'esh', 5495: b'mend', 5496: b'y co', 5497: b'oks ', 5498: b'd; a', 5499: b'hmen', 5500: b'so.', 5501: b'iden', 5502: b'glor', 5503: b', G', 5504: b'r G', 5505: b'LY:\\n', 5506: b'wain', 5507: b'io, ', 5508: b'tic', 5509: b': f', 5510: b'Ver', 5511: b'es?', 5512: b'; m', 5513: b'rich', 5514: b'e ap', 5515: b'? W', 5516: b'Our', 5517: b'n?\\n\\n', 5518: b',\\nWh', 5519: b'y di', 5520: b'ers;', 5521: b'l p', 5522: b'\\nWou', 5523: b'ect', 5524: b'ar w', 5525: b'd us', 5526: b'e mu', 5527: b'Bein', 5528: b'ides', 5529: b'\\nHow', 5530: b's; a', 5531: b'repa', 5532: b'll e', 5533: b'\\nno', 5534: b'o le', 5535: b'LIA', 5536: b':\\nAw', 5537: b'oes ', 5538: b'fly', 5539: b'go t', 5540: b'In t', 5541: b'ou\\n', 5542: b'in e', 5543: b'on. ', 5544: b'om s', 5545: b'ho, ', 5546: b' ter', 5547: b' sil', 5548: b'Call', 5549: b're:', 5550: b'ul s', 5551: b'p o', 5552: b'ing,', 5553: b'Eve', 5554: b'k.\\n', 5555: b'r C', 5556: b' I p', 5557: b'befo', 5558: b'en;', 5559: b' ov', 5560: b'oft ', 5561: b'r fo', 5562: b';\\nM', 5563: b' gr', 5564: b'fan', 5565: b'g\\nT', 5566: b'urg', 5567: b'have', 5568: b'pou', 5569: b'sec', 5570: b'ce. ', 5571: b'subj', 5572: b'ache', 5573: b'poss', 5574: b'now.', 5575: b'ce\\nT', 5576: b'voi', 5577: b'unt ', 5578: b';\\nS', 5579: b'so t', 5580: b'Did ', 5581: b'wic', 5582: b'iec', 5583: b' wre', 5584: b'ndin', 5585: b'g:\\n', 5586: b't;\\nA', 5587: b'Unl', 5588: b'd;\\nA', 5589: b'lose', 5590: b'd pr', 5591: b';\\nNo', 5592: b'w f', 5593: b'd wa', 5594: b'es;\\n', 5595: b'cold', 5596: b'Alas', 5597: b'oon', 5598: b'lt t', 5599: b'dut', 5600: b'mur', 5601: b', B', 5602: b'ert ', 5603: b'in i', 5604: b'RIV', 5605: b'.\\nF', 5606: b'se.\\n', 5607: b'ompe', 5608: b'\\n\\nJO', 5609: b'JOHN', 5610: b', S', 5611: b'BAL', 5612: b'ALT', 5613: b'Tran', 5614: b'sabe', 5615: b'\\n\\nBI', 5616: b'BIAN', 5617: b'ANCA', 5618: b'ciu', 5619: b'erd', 5620: b'liev', 5621: b'no w', 5622: b'etit', 5623: b'? t', 5624: b', mo', 5625: b\"ere'\", 5626: b'\\nyou', 5627: b'ingl', 5628: b'Even', 5629: b'e ba', 5630: b'inin', 5631: b'roof', 5632: b'o v', 5633: b'. S', 5634: b':\\nFa', 5635: b'ets ', 5636: b'on?', 5637: b'move', 5638: b'no b', 5639: b'atc', 5640: b's!\\n\\n', 5641: b' sav', 5642: b'amb', 5643: b'Thu', 5644: b'd go', 5645: b'reed', 5646: b'ed.\\n', 5647: b' car', 5648: b'viol', 5649: b' sec', 5650: b'opp', 5651: b' bed', 5652: b'ndem', 5653: b'to w', 5654: b'th n', 5655: b'erp', 5656: b'stee', 5657: b'it;', 5658: b', ca', 5659: b's wa', 5660: b's po', 5661: b'must', 5662: b't\\nI', 5663: b', al', 5664: b'tell', 5665: b' ch', 5666: b'dies', 5667: b'vat', 5668: b'riu', 5669: b'eye ', 5670: b'ily ', 5671: b\"m'd\", 5672: b'ooth', 5673: b'or,\\n', 5674: b'dro', 5675: b'urch', 5676: b'ade', 5677: b'Thin', 5678: b' fre', 5679: b'r bo', 5680: b'gs t', 5681: b'w he', 5682: b'Hath', 5683: b'clou', 5684: b's ex', 5685: b'so b', 5686: b'et,\\n', 5687: b'quen', 5688: b'inn', 5689: b'ros', 5690: b' dos', 5691: b'def', 5692: b'. O', 5693: b'\\nWh', 5694: b'tche', 5695: b'thar', 5696: b'o o', 5697: b'd a ', 5698: b' lad', 5699: b',\\nMy', 5700: b'aje', 5701: b'ingd', 5702: b'gdom', 5703: b'a, ', 5704: b'rocl', 5705: b'HN O', 5706: b'F G', 5707: b' GAU', 5708: b'AUNT', 5709: b', K', 5710: b'ELBO', 5711: b'BOW', 5712: b'W:\\n', 5713: b', er', 5714: b' hu', 5715: b': he', 5716: b'mal', 5717: b' nee', 5718: b'rip', 5719: b' und', 5720: b\"s o'\", 5721: b', ne', 5722: b'gly', 5723: b'g, t', 5724: b's fe', 5725: b'oran', 5726: b'ges', 5727: b' au', 5728: b'bran', 5729: b'om y', 5730: b'sts', 5731: b'pic', 5732: b'bun', 5733: b\", 't\", 5734: b'Aufi', 5735: b'on\\nT', 5736: b'y ou', 5737: b'f M', 5738: b\"y '\", 5739: b'\\nI s', 5740: b'. N', 5741: b'got ', 5742: b'om f', 5743: b'; c', 5744: b'ths', 5745: b'cell', 5746: b'llen', 5747: b'n e', 5748: b' dou', 5749: b'f l', 5750: b'fast', 5751: b'd di', 5752: b'A m', 5753: b'rosp', 5754: b'sper', 5755: b'ow l', 5756: b'ow i', 5757: b'lave', 5758: b'mon ', 5759: b'hed', 5760: b'ined', 5761: b' kee', 5762: b'th,', 5763: b'rul', 5764: b'got', 5765: b'oft', 5766: b'lder', 5767: b'stom', 5768: b'o on', 5769: b' ro', 5770: b'gle', 5771: b'alth', 5772: b's di', 5773: b'\\nBy ', 5774: b'y na', 5775: b'mph', 5776: b'\\nHer', 5777: b'why', 5778: b'wle', 5779: b'd pl', 5780: b'lib', 5781: b'ay?', 5782: b'r en', 5783: b'ul t', 5784: b'luck', 5785: b'pie', 5786: b'stor', 5787: b'st,', 5788: b'r de', 5789: b'cat', 5790: b'n fo', 5791: b'orb', 5792: b'hoo', 5793: b' ang', 5794: b'boo', 5795: b'umbl', 5796: b'yran', 5797: b'Kee', 5798: b'ay:\\n', 5799: b':\\nU', 5800: b'er n', 5801: b' pit', 5802: b'py ', 5803: b'arte', 5804: b'.\\nL', 5805: b'maje', 5806: b'rote', 5807: b'd Ha', 5808: b' ba', 5809: b'e K', 5810: b't K', 5811: b'w o', 5812: b', Go', 5813: b', H', 5814: b'Rich', 5815: b'To w', 5816: b'So s', 5817: b'f W', 5818: b'hris', 5819: b'd W', 5820: b'nex', 5821: b'l:\\n', 5822: b',\\nG', 5823: b'\\n\\nTY', 5824: b'NTAG', 5825: b'AGUE', 5826: b'UE:\\n', 5827: b'3 K', 5828: b' KIN', 5829: b'I\\n\\n', 5830: b'\\n\\nEL', 5831: b'Bap', 5832: b':\\nOn', 5833: b'thor', 5834: b'ung', 5835: b':\\nV', 5836: b' don', 5837: b'ren ', 5838: b'cuse', 5839: b'onl', 5840: b', di', 5841: b'ras', 5842: b'l c', 5843: b'o r', 5844: b'ffe', 5845: b'fav', 5846: b'e V', 5847: b'sce', 5848: b'us;', 5849: b'itu', 5850: b'o e', 5851: b'ok t', 5852: b' if ', 5853: b'me:\\n', 5854: b'made', 5855: b\"r'd\", 5856: b'bt ', 5857: b'n ye', 5858: b'f H', 5859: b\"ok'\", 5860: b'ild', 5861: b', la', 5862: b'e hu', 5863: b'ish ', 5864: b'fill', 5865: b'LAR', 5866: b'rs, ', 5867: b' met', 5868: b'. C', 5869: b'tro', 5870: b'hils', 5871: b'lst ', 5872: b'f C', 5873: b'ks t', 5874: b'has', 5875: b'erry', 5876: b'se\\nT', 5877: b'bey', 5878: b'eny', 5879: b'erce', 5880: b'en!', 5881: b've?', 5882: b'de.', 5883: b' bla', 5884: b'oti', 5885: b\"'t.\", 5886: b'won', 5887: b'ie.', 5888: b'n, t', 5889: b'r e', 5890: b'bed', 5891: b'eigh', 5892: b'hief', 5893: b'p,\\n', 5894: b'iel', 5895: b'o fi', 5896: b'req', 5897: b'div', 5898: b'tar', 5899: b'ler', 5900: b' pur', 5901: b'inno', 5902: b'bedi', 5903: b'e ch', 5904: b'Pea', 5905: b'ar;', 5906: b'fie', 5907: b' set', 5908: b'.\\nP', 5909: b'ursu', 5910: b'foo', 5911: b's\\nI', 5912: b'upp', 5913: b'If y', 5914: b' tyr', 5915: b'stro', 5916: b', fe', 5917: b',\\nHa', 5918: b'Had ', 5919: b'o-d', 5920: b'so w', 5921: b'saf', 5922: b'pect', 5923: b'e im', 5924: b'll-', 5925: b' dr', 5926: b'ord!', 5927: b'alt ', 5928: b'ly,\\n', 5929: b' die', 5930: b'?\\nI', 5931: b'e ye', 5932: b' fea', 5933: b'anin', 5934: b'thum', 5935: b'r q', 5936: b'.\\nGo', 5937: b'f N', 5938: b'avy ', 5939: b'Lond', 5940: b' dra', 5941: b'hemi', 5942: b'Isa', 5943: b'Hor', 5944: b'eak.', 5945: b'Spea', 5946: b'o di', 5947: b'No m', 5948: b'ants', 5949: b'ods', 5950: b'ty t', 5951: b'le:', 5952: b's ac', 5953: b'lab', 5954: b'inis', 5955: b' ag', 5956: b'cus', 5957: b'il, ', 5958: b'g. ', 5959: b'thei', 5960: b'eir ', 5961: b'orou', 5962: b'isd', 5963: b'atel', 5964: b'alou', 5965: b' nat', 5966: b's go', 5967: b'de, ', 5968: b'fas', 5969: b'\\nUp', 5970: b'\\nTi', 5971: b's pl', 5972: b'beho', 5973: b'ldin', 5974: b'\\n\\nVI', 5975: b'VIRG', 5976: b'RGI', 5977: b'ILI', 5978: b'd is', 5979: b'onte', 5980: b'Swee', 5981: b'rett', 5982: b' tea', 5983: b'isit', 5984: b'.\\nCo', 5985: b't fe', 5986: b'nois', 5987: b'sue ', 5988: b'As t', 5989: b'fli', 5990: b'owin', 5991: b'eep ', 5992: b'harm', 5993: b'rien', 5994: b'ir m', 5995: b's\\nW', 5996: b\"t I'\", 5997: b'ho h', 5998: b'I g', 5999: b'anus', 6000: b't pr', 6001: b'd co', 6002: b'o of', 6003: b'g n', 6004: b'o-ni', 6005: b'Both', 6006: b' a v', 6007: b'asi', 6008: b'ck o', 6009: b'ween', 6010: b'so h', 6011: b' stu', 6012: b'k, t', 6013: b'dy, ', 6014: b'ul, ', 6015: b',\\nth', 6016: b'deg', 6017: b'teou', 6018: b'Mos', 6019: b'\\nWa', 6020: b'e pa', 6021: b'im w', 6022: b't!\\n\\n', 6023: b'inu', 6024: b'do m', 6025: b', u', 6026: b',\\nR', 6027: b'I in', 6028: b'l w', 6029: b'ils', 6030: b'near', 6031: b'rup', 6032: b'p h', 6033: b'cut ', 6034: b'Yet', 6035: b'e gl', 6036: b';\\nO', 6037: b'an,', 6038: b'fain', 6039: b'Per', 6040: b'h a', 6041: b', a ', 6042: b' new', 6043: b'in.\\n', 6044: b':\\nYe', 6045: b'rent', 6046: b'indn', 6047: b'neel', 6048: b'dece', 6049: b'rah', 6050: b'st!', 6051: b'fles', 6052: b'g R', 6053: b'Geor', 6054: b've:\\n', 6055: b'retc', 6056: b'p m', 6057: b'y le', 6058: b'sign', 6059: b'd ev', 6060: b'insm', 6061: b'MONT', 6062: b'PER', 6063: b'ERDI', 6064: b'DITA', 6065: b'TA:\\n', 6066: b'ERD', 6067: b'IEL', 6068: b'ect ', 6069: b'suff', 6070: b'h he', 6071: b'aul', 6072: b'rack', 6073: b'. F', 6074: b' If', 6075: b'mpet', 6076: b'quo', 6077: b'sto', 6078: b'od t', 6079: b'tue ', 6080: b's ap', 6081: b'sev', 6082: b\"'em\", 6083: b'th!', 6084: b'urre', 6085: b\"'ld \", 6086: b's at', 6087: b'Was ', 6088: b'al.', 6089: b'le,', 6090: b'd\\nI', 6091: b'me. ', 6092: b'ds:\\n', 6093: b'ard.', 6094: b'f in', 6095: b'eli', 6096: b'ing\\n', 6097: b'ar,', 6098: b\"or'\", 6099: b't G', 6100: b'reci', 6101: b' wel', 6102: b'neck', 6103: b' yet', 6104: b\"d I'\", 6105: b':\\nMy', 6106: b'ndre', 6107: b'pes ', 6108: b'\\nAll', 6109: b'ou:', 6110: b': l', 6111: b'ity.', 6112: b'uncl', 6113: b'Cat', 6114: b'ir h', 6115: b'olen', 6116: b'ppe', 6117: b't bo', 6118: b'll?', 6119: b\"'d;\", 6120: b'mest', 6121: b'one;', 6122: b'ory ', 6123: b'd at', 6124: b',\\nan', 6125: b'itin', 6126: b'erst', 6127: b'heal', 6128: b'sov', 6129: b'writ', 6130: b'hem.', 6131: b':\\nTr', 6132: b've.\\n', 6133: b'sold', 6134: b'hit', 6135: b'ani', 6136: b'wix', 6137: b'by s', 6138: b'l in', 6139: b'ply', 6140: b'At ', 6141: b'an!', 6142: b'dire', 6143: b'erty', 6144: b\"'twa\", 6145: b' ad', 6146: b'se?', 6147: b'art.', 6148: b'r un', 6149: b'swa', 6150: b':\\nTe', 6151: b'reck', 6152: b\"er's\", 6153: b'y en', 6154: b' bar', 6155: b' pea', 6156: b':\\nSt', 6157: b'lth', 6158: b'in?', 6159: b'test', 6160: b'roan', 6161: b' bit', 6162: b'ing-', 6163: b'Yea', 6164: b'no t', 6165: b'dshi', 6166: b'al b', 6167: b'sake', 6168: b'mond', 6169: b'd al', 6170: b'noc', 6171: b'SET', 6172: b't H', 6173: b'ima', 6174: b'ow b', 6175: b\"ce'\", 6176: b'sub', 6177: b't P', 6178: b'T:\\n', 6179: b' GRE', 6180: b'IAN', 6181: b'ANA', 6182: b'SLY', 6183: b'edan', 6184: b'fam', 6185: b\"'t, \", 6186: b'sup', 6187: b'y;\\n', 6188: b'bec', 6189: b'nger', 6190: b'p in', 6191: b'ghb', 6192: b'supp', 6193: b'in\\n', 6194: b'wond', 6195: b\" ne'\", 6196: b'this', 6197: b'fit ', 6198: b'--th', 6199: b'y fr', 6200: b',\\nOf', 6201: b'g?\\n\\n', 6202: b'moon', 6203: b'Ere ', 6204: b'dius', 6205: b'm p', 6206: b's L', 6207: b'qual', 6208: b' a n', 6209: b'dain', 6210: b'st:', 6211: b'dem', 6212: b'ou:\\n', 6213: b'shor', 6214: b'bed ', 6215: b'w in', 6216: b'bly ', 6217: b'dru', 6218: b'arve', 6219: b'rehe', 6220: b'Hea', 6221: b'y bo', 6222: b'st.\\n', 6223: b'll!', 6224: b'cle ', 6225: b'd R', 6226: b'pac', 6227: b' dan', 6228: b'ws?', 6229: b\"is'\", 6230: b'enin', 6231: b'cea', 6232: b' ask', 6233: b'--\\nA', 6234: b'k b', 6235: b'al,\\n', 6236: b' fal', 6237: b'utc', 6238: b'im;', 6239: b'sick', 6240: b'y j', 6241: b'e ol', 6242: b'ow y', 6243: b'occ', 6244: b' che', 6245: b'oul ', 6246: b\"s'd\", 6247: b'Fai', 6248: b'dge ', 6249: b'if h', 6250: b'\\nBut', 6251: b'sit ', 6252: b'f b', 6253: b\"'d\\nT\", 6254: b'es\\nW', 6255: b'Min', 6256: b'ary ', 6257: b'ck ', 6258: b'irm', 6259: b', fr', 6260: b'nou', 6261: b'awa', 6262: b'up,\\n', 6263: b'o un', 6264: b'o qu', 6265: b'pil', 6266: b'! m', 6267: b'arli', 6268: b'chur', 6269: b'cep', 6270: b' wid', 6271: b' ear', 6272: b' dev', 6273: b'e tw', 6274: b'\\nI a', 6275: b'riev', 6276: b'quee', 6277: b':\\nE', 6278: b'heek', 6279: b':\\nAl', 6280: b'ects', 6281: b'esc', 6282: b'ppo', 6283: b'oly ', 6284: b'g H', 6285: b'resh', 6286: b' God', 6287: b'Plan', 6288: b' la', 6289: b'erch', 6290: b' bor', 6291: b'ORS', 6292: b'irl', 6293: b'isf', 6294: b'o go', 6295: b't W', 6296: b'ARIS', 6297: b'IS:\\n', 6298: b'a,\\n', 6299: b'dio', 6300: b'VIN', 6301: b'y u', 6302: b'y pr', 6303: b'alre', 6304: b'ck,\\n', 6305: b'pier', 6306: b'nto', 6307: b'Shou', 6308: b',\\nYe', 6309: b'le.\\n', 6310: b'itch', 6311: b'al o', 6312: b'ilit', 6313: b'roop', 6314: b'at,\\n', 6315: b\"il'\", 6316: b'gmen', 6317: b' pu', 6318: b' hal', 6319: b'gir', 6320: b'Such', 6321: b'ries', 6322: b'rob', 6323: b'hion', 6324: b'\\nI h', 6325: b'eds ', 6326: b'ties', 6327: b'ou!', 6328: b'f k', 6329: b'Meth', 6330: b'\\nAt ', 6331: b'th. ', 6332: b'A c', 6333: b' cra', 6334: b'r R', 6335: b'es\\nA', 6336: b'ucti', 6337: b' fee', 6338: b'infe', 6339: b'\\nWer', 6340: b'ce;\\n', 6341: b' gu', 6342: b'se,', 6343: b'cli', 6344: b'aten', 6345: b'le?', 6346: b'arer', 6347: b's fi', 6348: b're!', 6349: b'sof', 6350: b'sil', 6351: b'host', 6352: b'rs.', 6353: b\"; '\", 6354: b'do s', 6355: b'Go ', 6356: b't al', 6357: b'ayin', 6358: b'drin', 6359: b'ds;', 6360: b'bold', 6361: b'if i', 6362: b'Kno', 6363: b'it?', 6364: b'avy', 6365: b'attl', 6366: b'gav', 6367: b'ow;', 6368: b', sa', 6369: b'cept', 6370: b'd r', 6371: b't sw', 6372: b'f re', 6373: b'gall', 6374: b\"s'd \", 6375: b'isin', 6376: b' den', 6377: b'is,', 6378: b'lai', 6379: b'mee', 6380: b'it. ', 6381: b'thr', 6382: b'w c', 6383: b' law', 6384: b'cy, ', 6385: b'A g', 6386: b'loss', 6387: b'stl', 6388: b'iest', 6389: b'ge:\\n', 6390: b'Thy', 6391: b'send', 6392: b'erly', 6393: b'kni', 6394: b'in:', 6395: b'arly', 6396: b', me', 6397: b'ilor', 6398: b'ly.\\n', 6399: b'\\nIs', 6400: b'no h', 6401: b'\\nDo', 6402: b'now!', 6403: b'loy', 6404: b'ret ', 6405: b'f L', 6406: b'gov', 6407: b'leis', 6408: b'enet', 6409: b'd if', 6410: b'chmo', 6411: b'nar', 6412: b'se!', 6413: b'l s', 6414: b'llan', 6415: b'appy', 6416: b'Oxf', 6417: b'h g', 6418: b' woe', 6419: b\"ord'\", 6420: b'omer', 6421: b'Ear', 6422: b'Wat', 6423: b'ule', 6424: b'.\\n3', 6425: b'E:\\n', 6426: b'Gru', 6427: b', aw', 6428: b'lean', 6429: b'aff', 6430: b's us', 6431: b'us?', 6432: b'onsi', 6433: b', ev', 6434: b'wn t', 6435: b'\\nha', 6436: b' dee', 6437: b'y po', 6438: b'e R', 6439: b'nd\\n', 6440: b'ir:', 6441: b'boar', 6442: b'affe', 6443: b'ch n', 6444: b'm ou', 6445: b'Of t', 6446: b'rebe', 6447: b'remo', 6448: b'ues ', 6449: b'e; a', 6450: b'ry a', 6451: b'clin', 6452: b\"re's\", 6453: b'aves', 6454: b'almo', 6455: b'reti', 6456: b'mea', 6457: b'--\\nT', 6458: b'bol', 6459: b'See', 6460: b'ny t', 6461: b':\\nO,', 6462: b'ul m', 6463: b'succ', 6464: b't or', 6465: b'o Ro', 6466: b'By t', 6467: b'.\\nIf', 6468: b', wa', 6469: b'ards', 6470: b'th?', 6471: b'hool', 6472: b'tty ', 6473: b'tee', 6474: b' fu', 6475: b'eril', 6476: b'is:', 6477: b'd sw', 6478: b'ARTI', 6479: b'TIUS', 6480: b'ongs', 6481: b'Or, ', 6482: b',\\nAs', 6483: b'ow!', 6484: b'mov', 6485: b', v', 6486: b\"ers'\", 6487: b'yin', 6488: b'? O', 6489: b'hund', 6490: b'\\nMor', 6491: b'\\nIf ', 6492: b'Ant', 6493: b' non', 6494: b'Off', 6495: b's\\nO', 6496: b\"ta'\", 6497: b'doin', 6498: b'cla', 6499: b'ar\\nT', 6500: b'ent;', 6501: b'ndit', 6502: b'leg', 6503: b'. G', 6504: b'\\n\\nBo', 6505: b'r pl', 6506: b'ink ', 6507: b'roo', 6508: b'sad', 6509: b'gold', 6510: b'h w', 6511: b'on\\nA', 6512: b'im f', 6513: b\"'twi\", 6514: b'y e', 6515: b'e el', 6516: b'e op', 6517: b'eap', 6518: b'up ', 6519: b':\\nAr', 6520: b\"t '\", 6521: b\"le'\", 6522: b'ed:\\n', 6523: b'an?', 6524: b'e;\\nA', 6525: b'ult ', 6526: b'g;\\n', 6527: b'past', 6528: b'top', 6529: b'e ru', 6530: b'eho', 6531: b't po', 6532: b'twi', 6533: b'\\nSo', 6534: b'ce,', 6535: b'Stay', 6536: b'\\nI c', 6537: b'en\\nT', 6538: b': g', 6539: b's or', 6540: b'sem', 6541: b'en,', 6542: b've\\nA', 6543: b't; a', 6544: b'l k', 6545: b\".'\\n\\n\", 6546: b'holy', 6547: b'! h', 6548: b'not;', 6549: b'd am', 6550: b'd bo', 6551: b'hy a', 6552: b'owl', 6553: b':\\nDo', 6554: b'd qu', 6555: b'nt, ', 6556: b'of n', 6557: b'anst', 6558: b'ow I', 6559: b'er k', 6560: b' del', 6561: b'stea', 6562: b've,', 6563: b'now?', 6564: b'Mis', 6565: b'en.\\n', 6566: b'ecom', 6567: b'cke', 6568: b'uty ', 6569: b'r ro', 6570: b'r E', 6571: b' cl', 6572: b'DOR', 6573: b'udge', 6574: b'kly', 6575: b', pr', 6576: b'A p', 6577: b':\\nAh', 6578: b'm.\\n', 6579: b'r L', 6580: b\"d '\", 6581: b'So m', 6582: b'y cr', 6583: b'apu', 6584: b'PAR', 6585: b' baw', 6586: b'DY G', 6587: b'G L', 6588: b' LEW', 6589: b'EWIS', 6590: b'IS X', 6591: b' XI', 6592: b'Ped', 6593: b'adua', 6594: b'atri', 6595: b'too ', 6596: b'us,', 6597: b'en:', 6598: b'; o', 6599: b'ats ', 6600: b'ou. ', 6601: b'ped', 6602: b'orte', 6603: b'vid', 6604: b\"e '\", 6605: b'pli', 6606: b'vie', 6607: b'hen?', 6608: b'al f', 6609: b've:', 6610: b'my a', 6611: b'r ca', 6612: b'most', 6613: b\"d's\", 6614: b'opin', 6615: b'f f', 6616: b'.\\nWh', 6617: b'ersu', 6618: b'ante', 6619: b' one', 6620: b'alf', 6621: b'vol', 6622: b'ow:\\n', 6623: b'th:', 6624: b': p', 6625: b':\\nBe', 6626: b'mock', 6627: b'vou', 6628: b'esid', 6629: b'arne', 6630: b't ac', 6631: b'So, ', 6632: b'stir', 6633: b's br', 6634: b'isi', 6635: b'. L', 6636: b' shi', 6637: b' us ', 6638: b'y fe', 6639: b'ils ', 6640: b'mble', 6641: b' spo', 6642: b' far', 6643: b'ucc', 6644: b\"k'st\", 6645: b'inks', 6646: b'dec', 6647: b' lor', 6648: b'th\\nA', 6649: b'Tho', 6650: b'one!', 6651: b'lec', 6652: b'e fu', 6653: b'--\\nW', 6654: b'h o', 6655: b'ou.\\n', 6656: b'lay ', 6657: b', si', 6658: b'ad?', 6659: b'd gr', 6660: b'\\nan', 6661: b'spen', 6662: b'go.', 6663: b'pti', 6664: b'cuti', 6665: b'arg', 6666: b't ex', 6667: b'Dea', 6668: b':\\nK', 6669: b'eare', 6670: b'stu', 6671: b'nci', 6672: b't ra', 6673: b'gean', 6674: b'o ne', 6675: b'ror', 6676: b'ck h', 6677: b\"th'\", 6678: b'o fo', 6679: b'lp t', 6680: b'!\\nY', 6681: b'begg', 6682: b'An ', 6683: b'nd;', 6684: b'ouc', 6685: b'so,\\n', 6686: b'scor', 6687: b'w d', 6688: b' pas', 6689: b\"ow'd\", 6690: b'ois', 6691: b'!\\nH', 6692: b'th\\nT', 6693: b'se. ', 6694: b'Man', 6695: b' onc', 6696: b'ge;', 6697: b'h, t', 6698: b'bast', 6699: b't mi', 6700: b'pes', 6701: b'onqu', 6702: b'quer', 6703: b': d', 6704: b'espa', 6705: b'exc', 6706: b'-day', 6707: b'knes', 6708: b'assa', 6709: b'sib', 6710: b'ids ', 6711: b'y ri', 6712: b'ths ', 6713: b'ouls', 6714: b'fied', 6715: b'st. ', 6716: b', O', 6717: b'orti', 6718: b'drun', 6719: b'Bro', 6720: b'hood', 6721: b'Paul', 6722: b'ghty', 6723: b't da', 6724: b' ex', 6725: b'ern ', 6726: b'd H', 6727: b'y P', 6728: b' cre', 6729: b';\\nOr', 6730: b'im?', 6731: b'lf.\\n', 6732: b'resi', 6733: b'd bl', 6734: b'l.\\n\\n', 6735: b't qu', 6736: b'owb', 6737: b'y ye', 6738: b'umer', 6739: b'SAM', 6740: b'AMPS', 6741: b'PSON', 6742: b'ercu', 6743: b'\\n\\nCU', 6744: b'CUR', 6745: b'RTI', 6746: b'TIS', 6747: b'Bef', 6748: b'orit', 6749: b'us:', 6750: b'tit', 6751: b'Men', 6752: b\"'s, \", 6753: b've\\n', 6754: b'or\\n', 6755: b'rms', 6756: b'akes', 6757: b're\\n', 6758: b'or.', 6759: b'mut', 6760: b'ed\\nT', 6761: b'hat!', 6762: b'd fi', 6763: b'sma', 6764: b'swi', 6765: b'tie', 6766: b'is;', 6767: b' cor', 6768: b'cces', 6769: b't Ro', 6770: b's ch', 6771: b\",\\n'\", 6772: b'Hear', 6773: b'See ', 6774: b' bi', 6775: b'nten', 6776: b'll\\n', 6777: b'\\nhi', 6778: b'of\\n', 6779: b'Pri', 6780: b'tire', 6781: b'l m', 6782: b'heel', 6783: b'dare', 6784: b'thu', 6785: b'g ou', 6786: b'onve', 6787: b' mil', 6788: b'\\nBe', 6789: b'al d', 6790: b'twe', 6791: b's ba', 6792: b'Plea', 6793: b'\\nOu', 6794: b'held', 6795: b'effe', 6796: b'May', 6797: b'ing!', 6798: b'note', 6799: b' bou', 6800: b'y is', 6801: b'. M', 6802: b'cust', 6803: b' lam', 6804: b'\\nbe', 6805: b'ou y', 6806: b'knav', 6807: b're. ', 6808: b'rabl', 6809: b' sev', 6810: b'ndly', 6811: b' nam', 6812: b'in\\nT', 6813: b'nic', 6814: b' anc', 6815: b'entr', 6816: b'ry w', 6817: b'f ev', 6818: b'er\\n', 6819: b'meet', 6820: b'e sc', 6821: b'e jo', 6822: b'ght;', 6823: b'lim', 6824: b'ial', 6825: b'Is t', 6826: b',\\nSt', 6827: b'inat', 6828: b'udgm', 6829: b'road', 6830: b'd pa', 6831: b'stit', 6832: b'r fe', 6833: b'unis', 6834: b'enit', 6835: b'do w', 6836: b'ts.', 6837: b'ye ', 6838: b\"r '\", 6839: b'k:\\n', 6840: b'Les', 6841: b'sac', 6842: b'ated', 6843: b'out.', 6844: b'solu', 6845: b'r by', 6846: b't ro', 6847: b'ar\\nA', 6848: b'il ', 6849: b'cure', 6850: b'un t', 6851: b' mov', 6852: b'ounc', 6853: b't bl', 6854: b'loa', 6855: b'onth', 6856: b'ulin', 6857: b'pper', 6858: b'Fri', 6859: b'assi', 6860: b'go, ', 6861: b'al h', 6862: b' cu', 6863: b'n l', 6864: b'oney', 6865: b'ce\\nA', 6866: b'rit ', 6867: b' muc', 6868: b'orsw', 6869: b'am ', 6870: b'tron', 6871: b' du', 6872: b' sun', 6873: b'ped ', 6874: b'g E', 6875: b'BURY', 6876: b'RY:\\n', 6877: b'fol', 6878: b' bec', 6879: b't ki', 6880: b'd E', 6881: b't ad', 6882: b' Edw', 6883: b's E', 6884: b\"ess'\", 6885: b'joy ', 6886: b'en?', 6887: b'esby', 6888: b'drow', 6889: b'f G', 6890: b', po', 6891: b's fu', 6892: b'acre', 6893: b'DIN', 6894: b'side', 6895: b', is', 6896: b'beca', 6897: b'\\n\\nEX', 6898: b'fe?', 6899: b\"ou'r\", 6900: b'ANTI', 6901: b'TIG', 6902: b'ONUS', 6903: b'Kath', 6904: b'hio', 6905: b'dic', 6906: b'lf w', 6907: b',\\nw', 6908: b's: t', 6909: b'Eith', 6910: b'isg', 6911: b\"' qu\", 6912: b'offi', 6913: b'e,--', 6914: b'o pu', 6915: b'ar?', 6916: b'it.\\n', 6917: b'th e', 6918: b'vail', 6919: b'\\nOn', 6920: b'tten', 6921: b'beh', 6922: b'ribu', 6923: b'nes ', 6924: b'ads ', 6925: b\"ss'\", 6926: b' pow', 6927: b'isco', 6928: b'guar', 6929: b'els ', 6930: b'n u', 6931: b'ofes', 6932: b'phy', 6933: b':\\nSw', 6934: b'ok u', 6935: b't fi', 6936: b'et.', 6937: b'. P', 6938: b'go a', 6939: b\"We'\", 6940: b'lagu', 6941: b'o C', 6942: b'im!', 6943: b'num', 6944: b'ge!', 6945: b'cow', 6946: b'Hold', 6947: b\"y'd\", 6948: b'ch;', 6949: b\": '\", 6950: b'mas', 6951: b' att', 6952: b'w\\nT', 6953: b'r do', 6954: b' sig', 6955: b'itie', 6956: b'soo', 6957: b'imes', 6958: b'o u', 6959: b'edom', 6960: b'! f', 6961: b'le. ', 6962: b'emen', 6963: b'bad', 6964: b'in,', 6965: b'ism', 6966: b'dle', 6967: b'!\\nM', 6968: b'ed?', 6969: b'oo, ', 6970: b's wr', 6971: b'y!\\n\\n', 6972: b'gh, ', 6973: b'd si', 6974: b'cry', 6975: b'ames', 6976: b\"'Tis\", 6977: b'nd\\nT', 6978: b'plan', 6979: b'hur', 6980: b'irt', 6981: b't at', 6982: b'il a', 6983: b'y; a', 6984: b' sud', 6985: b'fat', 6986: b' mea', 6987: b'om, ', 6988: b'w, t', 6989: b'do a', 6990: b'up a', 6991: b'an.\\n', 6992: b'beha', 6993: b'O s', 6994: b'eal ', 6995: b'uns', 6996: b' cho', 6997: b'ndl', 6998: b'le\\nT', 6999: b'spr', 7000: b'e P', 7001: b'mem', 7002: b'So t', 7003: b'\\nNo', 7004: b'll. ', 7005: b't fl', 7006: b'hoos', 7007: b'wake', 7008: b\"s 't\", 7009: b'oncl', 7010: b'be, ', 7011: b'ee,\\n', 7012: b'hak', 7013: b'!\\nS', 7014: b's vi', 7015: b'y ra', 7016: b\"d o'\", 7017: b\"art'\", 7018: b'rial', 7019: b't aw', 7020: b'an n', 7021: b't\\nM', 7022: b'\\nThy', 7023: b'\\nCan', 7024: b'I go', 7025: b'fe.', 7026: b'ght!', 7027: b'poll', 7028: b'n le', 7029: b' bee', 7030: b'My s', 7031: b'ild ', 7032: b'uly', 7033: b'ir!', 7034: b'ul a', 7035: b'ints', 7036: b'oot', 7037: b'o fe', 7038: b'Till', 7039: b'ks,\\n', 7040: b'ef, ', 7041: b'y\\nW', 7042: b'an l', 7043: b'if a', 7044: b'ess;', 7045: b'd ro', 7046: b'ggar', 7047: b'I, t', 7048: b'reac', 7049: b'y G', 7050: b',\\nFr', 7051: b'y ey', 7052: b'utl', 7053: b'stab', 7054: b'ss, ', 7055: b'isti', 7056: b' wal', 7057: b'seho', 7058: b't E', 7059: b'o Lo', 7060: b'nea', 7061: b'two', 7062: b'to-m', 7063: b'd bi', 7064: b\"rd'\", 7065: b'\\n\\nRA', 7066: b'RATC', 7067: b'TCLI', 7068: b'FF:\\n', 7069: b's K', 7070: b'am I', 7071: b'rail', 7072: b' sad', 7073: b'lk, ', 7074: b'Aum', 7075: b'Bohe', 7076: b'Vin', 7077: b\"now'\", 7078: b'cul', 7079: b'ular', 7080: b'peci', 7081: b'tou', 7082: b'apit', 7083: b' bat', 7084: b'rs,\\n', 7085: b'ita', 7086: b'rse ', 7087: b'atte', 7088: b'gly ', 7089: b'rump', 7090: b't r', 7091: b\"o't\", 7092: b'r ex', 7093: b'us!', 7094: b'\\nA s', 7095: b'ho t', 7096: b'd wh', 7097: b'ural', 7098: b' me:', 7099: b'h m', 7100: b'ace', 7101: b'rook', 7102: b'eed.', 7103: b't R', 7104: b'r di', 7105: b'appe', 7106: b'issi', 7107: b'orio', 7108: b'ioli', 7109: b'erw', 7110: b'tabl', 7111: b'an p', 7112: b'in j', 7113: b'ele', 7114: b'ckl', 7115: b's bl', 7116: b'ck.', 7117: b'exce', 7118: b'hom ', 7119: b'ilia', 7120: b'add', 7121: b'ives', 7122: b': no', 7123: b':\\nO ', 7124: b'arb', 7125: b'o ri', 7126: b'fier', 7127: b'To h', 7128: b\"m'd \", 7129: b' sm', 7130: b' sac', 7131: b'dri', 7132: b'ong ', 7133: b'ldst', 7134: b'efo', 7135: b'd ab', 7136: b'incl', 7137: b'gle ', 7138: b'ur ', 7139: b'd ac', 7140: b'ord:', 7141: b' saf', 7142: b'in C', 7143: b\"r's \", 7144: b\"'d\\nW\", 7145: b'rot', 7146: b'otte', 7147: b't mu', 7148: b'r Ro', 7149: b'tte', 7150: b'cks', 7151: b'e dr', 7152: b'w n', 7153: b'fect', 7154: b'sar', 7155: b'stim', 7156: b'oni', 7157: b'an:', 7158: b'and,', 7159: b'nch', 7160: b'icat', 7161: b'urt', 7162: b'hese', 7163: b'ow,', 7164: b'y ro', 7165: b' sel', 7166: b';\\nN', 7167: b'Dis', 7168: b'sted', 7169: b'If h', 7170: b'e pu', 7171: b'rte', 7172: b'etin', 7173: b'sse', 7174: b'al a', 7175: b'it\\nT', 7176: b'a he', 7177: b'r vo', 7178: b'Sho', 7179: b\"an's\", 7180: b't br', 7181: b'Fou', 7182: b'!\\nB', 7183: b'woo', 7184: b'itat', 7185: b'one?', 7186: b't am', 7187: b'bin', 7188: b'inds', 7189: b'ow?', 7190: b'd;\\nT', 7191: b'y r', 7192: b'plot', 7193: b'o la', 7194: b'se:', 7195: b'st\\nT', 7196: b' div', 7197: b'sli', 7198: b'r le', 7199: b'rock', 7200: b'm i', 7201: b'ld:\\n', 7202: b'edi', 7203: b'angu', 7204: b'ho w', 7205: b'sal', 7206: b'ay\\nT', 7207: b'isse', 7208: b'glas', 7209: b' ol', 7210: b' ne', 7211: b'ul w', 7212: b', ra', 7213: b'h y', 7214: b'n k', 7215: b'vell', 7216: b'gel', 7217: b'ets', 7218: b' bid', 7219: b'tes', 7220: b'esig', 7221: b', R', 7222: b' or', 7223: b'muc', 7224: b' kne', 7225: b'arle', 7226: b\"ld'\", 7227: b'?\\nS', 7228: b\"y'd \", 7229: b\"ink'\", 7230: b'spur', 7231: b\"'d.\\n\", 7232: b'im.\\n', 7233: b'cy ', 7234: b'm up', 7235: b'onsp', 7236: b'lost', 7237: b'n up', 7238: b'anti', 7239: b'ead;', 7240: b'jus', 7241: b'd B', 7242: b'her;', 7243: b'ul b', 7244: b'ked', 7245: b'p w', 7246: b'hen,', 7247: b'e?\\n', 7248: b'Prin', 7249: b'd q', 7250: b'ad.', 7251: b', e', 7252: b'e;\\nT', 7253: b'wilt', 7254: b', mi', 7255: b'ntil', 7256: b', E', 7257: b'reen', 7258: b'in P', 7259: b'BIS', 7260: b'ISHO', 7261: b'HOP', 7262: b'P O', 7263: b'guis', 7264: b'stle', 7265: b'n un', 7266: b'ANLE', 7267: b'LEY', 7268: b'oes', 7269: b'isfi', 7270: b'lust', 7271: b'y go', 7272: b'bst', 7273: b'.\\nFa', 7274: b'eau', 7275: b' I f', 7276: b'lf;', 7277: b'erle', 7278: b'Bel', 7279: b'y B', 7280: b'\\n\\nAB', 7281: b'TYB', 7282: b'eron', 7283: b'antu', 7284: b'Apo', 7285: b'Cai', 7286: b'\\nin', 7287: b'eran', 7288: b' ga', 7289: b'sly', 7290: b' be\\n', 7291: b'Wor', 7292: b\" we'\", 7293: b'ou u', 7294: b'imen', 7295: b'arms', 7296: b'Ala', 7297: b'spor', 7298: b'Car', 7299: b'r us', 7300: b'l d', 7301: b'cin', 7302: b'\\nUn', 7303: b'mile', 7304: b'utin', 7305: b'inou', 7306: b'ur s', 7307: b' me,', 7308: b'asse', 7309: b'ds\\nT', 7310: b'Sic', 7311: b'rab', 7312: b'reva', 7313: b'iner', 7314: b'spar', 7315: b't\\nB', 7316: b'y\\nA', 7317: b'ist ', 7318: b'reno', 7319: b'him;', 7320: b'ld\\n', 7321: b'Ind', 7322: b'hair', 7323: b'in R', 7324: b'vest', 7325: b'p.\\n\\n', 7326: b'ot, ', 7327: b'Fie', 7328: b'y C', 7329: b's;\\nT', 7330: b'hape', 7331: b'beat', 7332: b'adst', 7333: b'ilv', 7334: b'onv', 7335: b'y ex', 7336: b'w ou', 7337: b'vey', 7338: b's!\\n', 7339: b'h ou', 7340: b'of o', 7341: b' bus', 7342: b'emn', 7343: b'im h', 7344: b'why ', 7345: b's ad', 7346: b'e gu', 7347: b'Fea', 7348: b'uct ', 7349: b'doom', 7350: b'ghte', 7351: b'gla', 7352: b'll\\nT', 7353: b'fus', 7354: b'cru', 7355: b'ques', 7356: b'egg', 7357: b'tow', 7358: b'y fi', 7359: b'Ay,', 7360: b': O', 7361: b'e na', 7362: b'gh.', 7363: b' nei', 7364: b'e am', 7365: b'ourn', 7366: b'roar', 7367: b'heap', 7368: b'--w', 7369: b' me!', 7370: b'? h', 7371: b'urc', 7372: b's cr', 7373: b',\\nAr', 7374: b'eks', 7375: b'hem;', 7376: b'heep', 7377: b'adie', 7378: b'ay:', 7379: b'ct t', 7380: b'inj', 7381: b'er\\nW', 7382: b'gth', 7383: b'tiv', 7384: b'lest', 7385: b'ow.\\n', 7386: b' soo', 7387: b':\\nMa', 7388: b'tue', 7389: b'be,\\n', 7390: b'act', 7391: b' cri', 7392: b' spe', 7393: b't! ', 7394: b',\\nI ', 7395: b'n v', 7396: b't ri', 7397: b'th C', 7398: b'peer', 7399: b'l i', 7400: b':\\nAm', 7401: b'ppro', 7402: b\"w'd \", 7403: b'ermi', 7404: b'me;\\n', 7405: b'h f', 7406: b\"ck'd\", 7407: b'une', 7408: b' twi', 7409: b'ofte', 7410: b'e ke', 7411: b'pt t', 7412: b'g up', 7413: b'ry,\\n', 7414: b'udd', 7415: b'ge?', 7416: b'd sc', 7417: b\"'Twa\", 7418: b'xt t', 7419: b'iso', 7420: b\"ss'd\", 7421: b'by, ', 7422: b'h is', 7423: b'ott', 7424: b'es\\nO', 7425: b';\\nL', 7426: b' clo', 7427: b'd P', 7428: b'depo', 7429: b'ce\\nW', 7430: b'A b', 7431: b't ap', 7432: b'roat', 7433: b'y or', 7434: b'ar.\\n', 7435: b'dst', 7436: b'orre', 7437: b'ety', 7438: b'irs ', 7439: b't?\\n', 7440: b'y ch', 7441: b's; t', 7442: b'st\\nA', 7443: b'My m', 7444: b'e\\nW', 7445: b'bov', 7446: b'\\nhe', 7447: b't? ', 7448: b'd cr', 7449: b'not?', 7450: b'gs,\\n', 7451: b'rud', 7452: b'iet', 7453: b'olde', 7454: b' vi', 7455: b'ontr', 7456: b'trar', 7457: b'gh i', 7458: b' awa', 7459: b'ots', 7460: b'unp', 7461: b' hom', 7462: b'\\nMay', 7463: b'g I', 7464: b'ch:\\n', 7465: b', ad', 7466: b'idin', 7467: b'm re', 7468: b'irat', 7469: b':\\nHo', 7470: b\".\\nI'\", 7471: b'\\n\\nBR', 7472: b'BRAK', 7473: b'AKEN', 7474: b'ENBU', 7475: b'iet ', 7476: b'hope', 7477: b'ppin', 7478: b'urst', 7479: b' aff', 7480: b'f Gl', 7481: b'impl', 7482: b'quie', 7483: b'ds,', 7484: b'lf:\\n', 7485: b'oks', 7486: b'ay;\\n', 7487: b'Hap', 7488: b'usp', 7489: b'd K', 7490: b' Fr', 7491: b'anle', 7492: b'boot', 7493: b' lan', 7494: b'isl', 7495: b'y oa', 7496: b'Or s', 7497: b'If s', 7498: b'f S', 7499: b'd N', 7500: b':\\n\\nG', 7501: b'OMAS', 7502: b',\\nDo', 7503: b', pl', 7504: b'meo ', 7505: b'mia', 7506: b':\\nSp', 7507: b'Res', 7508: b'nte', 7509: b'rici', 7510: b'feit', 7511: b'hey\\n', 7512: b'alic', 7513: b'amou', 7514: b'gh s', 7515: b'ccou', 7516: b'enen', 7517: b'ppa', 7518: b'and?', 7519: b'ft t', 7520: b'tes ', 7521: b's ea', 7522: b'it:\\n', 7523: b'e lu', 7524: b' mal', 7525: b'sell', 7526: b'o is', 7527: b'Not', 7528: b't\\nS', 7529: b'r co', 7530: b'un,\\n', 7531: b' sic', 7532: b'pend', 7533: b'Und', 7534: b'al m', 7535: b'riag', 7536: b'hung', 7537: b': o', 7538: b't\\nO', 7539: b'ty, ', 7540: b'im:', 7541: b'ars.', 7542: b'equ', 7543: b'ird', 7544: b'noon', 7545: b'e ai', 7546: b'gh h', 7547: b'ensu', 7548: b\"'\\n\\n\", 7549: b\" 'ti\", 7550: b'kel', 7551: b\"ar'd\", 7552: b's er', 7553: b'rike', 7554: b'reel', 7555: b't ab', 7556: b'e em', 7557: b'cem', 7558: b'ruel', 7559: b' spr', 7560: b'fei', 7561: b'ndee', 7562: b'im:\\n', 7563: b'! y', 7564: b'y br', 7565: b'od!', 7566: b'an g', 7567: b'spi', 7568: b\"s '\", 7569: b'm, t', 7570: b'im o', 7571: b'ed\\n', 7572: b'itc', 7573: b'lf m', 7574: b'et,', 7575: b\"es'\", 7576: b'sibl', 7577: b'; in', 7578: b't j', 7579: b's! ', 7580: b'Tut', 7581: b' les', 7582: b' hur', 7583: b'! M', 7584: b'leed', 7585: b'cis', 7586: b'hysi', 7587: b'odd', 7588: b'ne,\\n', 7589: b'y pa', 7590: b'ket', 7591: b'amp', 7592: b'-ti', 7593: b'e\\nI', 7594: b'tial', 7595: b'he?', 7596: b'wei', 7597: b'dull', 7598: b'l he', 7599: b\"'en\", 7600: b'ch,', 7601: b'grat', 7602: b'Nev', 7603: b'ou;\\n', 7604: b'g; a', 7605: b', am', 7606: b'iew', 7607: b\"g'd\", 7608: b'm. ', 7609: b'\\nI t', 7610: b' lif', 7611: b'\\nI m', 7612: b'jou', 7613: b'tea', 7614: b'lamb', 7615: b'now,', 7616: b' ver', 7617: b'f o', 7618: b'istr', 7619: b'\\nof', 7620: b'edin', 7621: b\"n's \", 7622: b'bly', 7623: b'd\\nB', 7624: b'hee?', 7625: b\"'re \", 7626: b':\\nEv', 7627: b'up, ', 7628: b'A s', 7629: b'dry', 7630: b\"'d:\", 7631: b't wh', 7632: b'ledg', 7633: b'k?\\n\\n', 7634: b'maz', 7635: b\" i'\", 7636: b':\\nCa', 7637: b'take', 7638: b'oon ', 7639: b' wed', 7640: b'ars;', 7641: b'ctis', 7642: b'til', 7643: b'ry.', 7644: b'd D', 7645: b'edl', 7646: b'nta', 7647: b'o.\\n', 7648: b'summ', 7649: b'om,\\n', 7650: b'ty s', 7651: b' plu', 7652: b'enf', 7653: b'n us', 7654: b'ided', 7655: b'Pre', 7656: b'cup', 7657: b' lay', 7658: b't A', 7659: b', r', 7660: b'\\nA m', 7661: b'\\nMa', 7662: b'd\\nS', 7663: b'yea', 7664: b'k ou', 7665: b'ue;', 7666: b', ol', 7667: b'On ', 7668: b'th;\\n', 7669: b'thd', 7670: b' gon', 7671: b'y ol', 7672: b'loth', 7673: b'iste', 7674: b\"'t t\", 7675: b' los', 7676: b\"pp'\", 7677: b's\\nS', 7678: b'Or w', 7679: b'so;', 7680: b'ose', 7681: b'hro', 7682: b'lips', 7683: b'ine;', 7684: b'd ex', 7685: b'rif', 7686: b' air', 7687: b'\\nAb', 7688: b'O he', 7689: b've!', 7690: b's j', 7691: b'igen', 7692: b'st\\n', 7693: b'any.', 7694: b'oodl', 7695: b'ys ', 7696: b' med', 7697: b'\\nWhy', 7698: b\"w'st\", 7699: b'flo', 7700: b'-be', 7701: b'on\\n', 7702: b'tab', 7703: b'sag', 7704: b', ay', 7705: b'eft ', 7706: b'ppy', 7707: b' nay', 7708: b',\\nTi', 7709: b'vain', 7710: b'ardo', 7711: b'don ', 7712: b'e wh', 7713: b'er e', 7714: b\"t e'\", 7715: b' poo', 7716: b' na', 7717: b'pe,\\n', 7718: b'ws, ', 7719: b'ch.\\n', 7720: b'egin', 7721: b'r j', 7722: b'umen', 7723: b'abro', 7724: b'ecre', 7725: b'y ga', 7726: b'sequ', 7727: b'ppy ', 7728: b\"l'd \", 7729: b'er u', 7730: b':\\nPl', 7731: b'eou', 7732: b'harp', 7733: b'd ki', 7734: b'pe, ', 7735: b've;\\n', 7736: b'gol', 7737: b'DER', 7738: b'ERBY', 7739: b'em ', 7740: b'two ', 7741: b'ss t', 7742: b's q', 7743: b'n E', 7744: b'itif', 7745: b'Chr', 7746: b'tian', 7747: b'o B', 7748: b'it,', 7749: b\"g'd \", 7750: b'w! w', 7751: b'fe.\\n', 7752: b'ne, ', 7753: b'orac', 7754: b'acle', 7755: b'll;\\n', 7756: b'mas ', 7757: b'ayor', 7758: b'died', 7759: b'anci', 7760: b'o:\\n', 7761: b'zed ', 7762: b'st;\\n', 7763: b', br', 7764: b\"ke'\", 7765: b' wen', 7766: b't B', 7767: b'f Fr', 7768: b' ill', 7769: b'nt t', 7770: b':\\n\\nK', 7771: b'rre', 7772: b' Ric', 7773: b'm:\\n', 7774: b'ul d', 7775: b'Mow', 7776: b'ama', 7777: b'\\nPro', 7778: b'! s', 7779: b'owns', 7780: b'wed', 7781: b'edd', 7782: b'REG', 7783: b'GOR', 7784: b'ORY', 7785: b'cape', 7786: b'icil', 7787: b'wis ', 7788: b'MIST', 7789: b'STR', 7790: b'RES', 7791: b' OV', 7792: b'DON', 7793: b'ONE', 7794: b'pey', 7795: b'aiu', 7796: b'an\\n', 7797: b'Aga', 7798: b'dog', 7799: b'pay', 7800: b'ry h', 7801: b'ults', 7802: b'itol', 7803: b':\\nOu', 7804: b'ate;', 7805: b'suit', 7806: b'oo.', 7807: b'n\\nT', 7808: b'y it', 7809: b'ppea', 7810: b'\\nA p', 7811: b'll v', 7812: b'ok y', 7813: b' tau', 7814: b'owe', 7815: b'asc', 7816: b\"hey'\", 7817: b'g\\nA', 7818: b'bil', 7819: b'itio', 7820: b'e--', 7821: b'defe', 7822: b' upo', 7823: b'uts ', 7824: b'bune', 7825: b'kle', 7826: b', at', 7827: b'cry ', 7828: b'ned', 7829: b'ashi', 7830: b'goes', 7831: b'ong.', 7832: b'ircu', 7833: b'abs', 7834: b'as\\n', 7835: b'tir', 7836: b':\\nMe', 7837: b\"k'd\", 7838: b'\\n\\nVA', 7839: b'VALE', 7840: b'LERI', 7841: b'RIA', 7842: b'\\ncom', 7843: b'a no', 7844: b'oor', 7845: b't ni', 7846: b'ilin', 7847: b'him:', 7848: b' len', 7849: b'umm', 7850: b'ak ', 7851: b'ho!', 7852: b'swea', 7853: b'ers:', 7854: b':\\nSe', 7855: b'tles', 7856: b'erri', 7857: b'ff, ', 7858: b'e sl', 7859: b'k u', 7860: b'yond', 7861: b's\\nH', 7862: b's A', 7863: b'nduc', 7864: b'outw', 7865: b'twar', 7866: b'in n', 7867: b'ickl', 7868: b'iles', 7869: b'fest', 7870: b'\\nA b', 7871: b'ld,', 7872: b': in', 7873: b'vile', 7874: b'ngr', 7875: b'ot,\\n', 7876: b'cker', 7877: b'ght:', 7878: b'inhe', 7879: b'amon', 7880: b'd pu', 7881: b'ples', 7882: b'd\\nH', 7883: b\" to'\", 7884: b'ry s', 7885: b'th u', 7886: b'inly', 7887: b'o gr', 7888: b'inen', 7889: b'not:', 7890: b' sit', 7891: b't si', 7892: b\"p'd\", 7893: b'gow', 7894: b'\\nMus', 7895: b'\\nTak', 7896: b'ctin', 7897: b'! H', 7898: b'west', 7899: b'-he', 7900: b'd aw', 7901: b'ife.', 7902: b'\\nSom', 7903: b' tee', 7904: b'l y', 7905: b'le!', 7906: b'. Go', 7907: b'unw', 7908: b'hat,', 7909: b'o ra', 7910: b'eles', 7911: b' yi', 7912: b'rule', 7913: b'ne.', 7914: b'buse', 7915: b'cock', 7916: b'pun', 7917: b'mid', 7918: b'ito', 7919: b'usi', 7920: b'wixt', 7921: b'ruin', 7922: b'rtes', 7923: b'nec', 7924: b'ghtn', 7925: b'eiz', 7926: b', A', 7927: b'ng a', 7928: b'lf?', 7929: b'd Ro', 7930: b' gro', 7931: b'eris', 7932: b'gh m', 7933: b'ck w', 7934: b'orru', 7935: b'\\nto', 7936: b'em t', 7937: b',\\nOn', 7938: b'door', 7939: b'rawn', 7940: b' tar', 7941: b'A t', 7942: b'r M', 7943: b' sum', 7944: b'e cl', 7945: b'gh w', 7946: b'soon', 7947: b'me\\nA', 7948: b'I o', 7949: b'al w', 7950: b'fe;', 7951: b':\\nFr', 7952: b'; g', 7953: b'ffa', 7954: b'jea', 7955: b' dut', 7956: b'ork.', 7957: b'erha', 7958: b'sun ', 7959: b' tid', 7960: b't pa', 7961: b's im', 7962: b'r br', 7963: b'p f', 7964: b' Cla', 7965: b'ts;', 7966: b'unha', 7967: b'h re', 7968: b'isur', 7969: b'amne', 7970: b' I, ', 7971: b'envi', 7972: b'viou', 7973: b'eag', 7974: b'y H', 7975: b'sus', 7976: b'olis', 7977: b'babe', 7978: b'Dor', 7979: b'gger', 7980: b'd j', 7981: b'as!', 7982: b'shin', 7983: b' kis', 7984: b'e G', 7985: b'oly', 7986: b'! he', 7987: b'oil', 7988: b'it:', 7989: b'd; t', 7990: b'ilty', 7991: b'ty m', 7992: b'y gr', 7993: b'\\nI d', 7994: b'homa', 7995: b't wr', 7996: b'Gra', 7997: b'or,', 7998: b'.\\nD', 7999: b'thl', 8000: b'n bu', 8001: b're;\\n', 8002: b'asp', 8003: b'r:\\n', 8004: b'uran', 8005: b'CHM', 8006: b'MON', 8007: b'OND', 8008: b'f B', 8009: b'ty,\\n', 8010: b'.\\nAh', 8011: b'r H', 8012: b'r B', 8013: b'cef', 8014: b'Bar', 8015: b'tagu', 8016: b'adn', 8017: b'lix', 8018: b'io.', 8019: b'Thur', 8020: b'SOM', 8021: b'OMER', 8022: b'mion', 8023: b', Tr', 8024: b' Pad', 8025: b' I\\n', 8026: b'alty', 8027: b'ood\\n', 8028: b'ccus', 8029: b'? s', 8030: b'e; t', 8031: b'-hou', 8032: b's wo', 8033: b'accu', 8034: b'idl', 8035: b'\\nDi', 8036: b'awhi', 8037: b'orat', 8038: b',\\nEv', 8039: b'ura', 8040: b'amin', 8041: b'bli', 8042: b'Lea', 8043: b'o ch', 8044: b'm?\\n\\n', 8045: b't el', 8046: b'arty', 8047: b'mod', 8048: b'isda', 8049: b'ms,\\n', 8050: b'idd', 8051: b'o M', 8052: b'cum', 8053: b'on\\nW', 8054: b\"er '\", 8055: b'ot.', 8056: b'safe', 8057: b'orta', 8058: b'\\nre', 8059: b' joy', 8060: b'\\nman', 8061: b'e H', 8062: b'A f', 8063: b's sc', 8064: b'\\ncon', 8065: b'it!', 8066: b'moo', 8067: b'unre', 8068: b'dy t', 8069: b'nest', 8070: b'My h', 8071: b' nor', 8072: b'ow p', 8073: b'dvan', 8074: b'riz', 8075: b\"l's \", 8076: b'My w', 8077: b\"s' s\", 8078: b',\\nMa', 8079: b'May ', 8080: b'o L', 8081: b\"ay'd\", 8082: b'ue!', 8083: b\"s i'\", 8084: b',\\nBy', 8085: b'elay', 8086: b'bad ', 8087: b' Mar', 8088: b'ed:', 8089: b'ch\\nT', 8090: b'duc', 8091: b' hid', 8092: b'behe', 8093: b'one,', 8094: b\"'ga\", 8095: b'h h', 8096: b'ctu', 8097: b'rivi', 8098: b'ld;', 8099: b't ba', 8100: b'm k', 8101: b'mper', 8102: b'mmer', 8103: b'fla', 8104: b'stly', 8105: b'rue.', 8106: b'A l', 8107: b's: ', 8108: b'ue.\\n', 8109: b'pul', 8110: b'd ri', 8111: b'f P', 8112: b'd\\nO', 8113: b'im s', 8114: b' det', 8115: b'zed', 8116: b'isb', 8117: b'ds.\\n', 8118: b'met', 8119: b'e: ', 8120: b'stop', 8121: b'l g', 8122: b'is:\\n', 8123: b'ge:', 8124: b'erem', 8125: b'omme', 8126: b'\\non', 8127: b'e sk', 8128: b':--', 8129: b'em.', 8130: b'eeth', 8131: b'ir. ', 8132: b'oy, ', 8133: b't\\nF', 8134: b'ndu', 8135: b'mit ', 8136: b'mpt', 8137: b'fiv', 8138: b'mbr', 8139: b'aus', 8140: b'?\\nY', 8141: b'dal', 8142: b'! no', 8143: b'ed,', 8144: b'ece', 8145: b'fran', 8146: b'tnes', 8147: b'angl', 8148: b'poke', 8149: b'Hel', 8150: b'ce\\nI', 8151: b'ps, ', 8152: b'se;\\n', 8153: b'oler', 8154: b'ue?', 8155: b'o n', 8156: b'd\\nF', 8157: b'th R', 8158: b'If i', 8159: b'n en', 8160: b'gh b', 8161: b'rad', 8162: b'art;', 8163: b'osin', 8164: b' gi', 8165: b\"fe'\", 8166: b'ase', 8167: b't,--', 8168: b'ds?', 8169: b'ited', 8170: b', Ju', 8171: b'llig', 8172: b'unat', 8173: b'adin', 8174: b'd; I', 8175: b'dwe', 8176: b'is!', 8177: b't: t', 8178: b'hee,', 8179: b'ge\\nT', 8180: b'if s', 8181: b'scar', 8182: b'fis', 8183: b'te,\\n', 8184: b'dur', 8185: b'To-m', 8186: b'f v', 8187: b';\\nHi', 8188: b'goe', 8189: b'anch', 8190: b'\\nSo ', 8191: b' lef', 8192: b'own;', 8193: b'k he', 8194: b'go b', 8195: b', mu', 8196: b'do h', 8197: b'uit ', 8198: b'ole', 8199: b'lame', 8200: b'unf', 8201: b'halt', 8202: b'lds ', 8203: b'Art', 8204: b'nmen', 8205: b'luti', 8206: b' ea', 8207: b':\\nUp', 8208: b'w?\\n\\n', 8209: b'kep', 8210: b'Poo', 8211: b'gho', 8212: b\"eal'\", 8213: b'O G', 8214: b'irin', 8215: b'My t', 8216: b'iten', 8217: b'ley', 8218: b'alit', 8219: b\"om'\", 8220: b'f Bu', 8221: b', D', 8222: b'?\\nOr', 8223: b'uspe', 8224: b'due ', 8225: b'ar:\\n', 8226: b'r pa', 8227: b'?\\nF', 8228: b'n it', 8229: b'pai', 8230: b'y by', 8231: b'gs.', 8232: b'it\\n', 8233: b'utat', 8234: b'ke?', 8235: b':\\nOf', 8236: b'offe', 8237: b'r I ', 8238: b'plo', 8239: b\"own'\", 8240: b't\\nH', 8241: b'nts', 8242: b'oss', 8243: b'\\nLe', 8244: b'ar;\\n', 8245: b'ead.', 8246: b'isu', 8247: b'en;\\n', 8248: b':\\n\\nP', 8249: b'tier', 8250: b'a re', 8251: b'ok ', 8252: b'\\n\\nST', 8253: b'STAN', 8254: b'oo s', 8255: b'otl', 8256: b'case', 8257: b'nty', 8258: b'ops ', 8259: b'sue', 8260: b' War', 8261: b'm I ', 8262: b'solv', 8263: b'r, t', 8264: b'her?', 8265: b'r?\\n\\n', 8266: b'Onc', 8267: b's B', 8268: b'\\n\\nOX', 8269: b'OXF', 8270: b'FOR', 8271: b'ny m', 8272: b'\\n\\nTH', 8273: b'THOM', 8274: b'AS M', 8275: b' MOW', 8276: b'OWBR', 8277: b'BRAY', 8278: b'AY:\\n', 8279: b'gage', 8280: b'y bl', 8281: b'BUS', 8282: b'USHY', 8283: b'HY:\\n', 8284: b'e F', 8285: b'utor', 8286: b'took', 8287: b'th k', 8288: b'on! ', 8289: b'oodn', 8290: b'ree-', 8291: b's Ro', 8292: b\"meo'\", 8293: b'ybal', 8294: b'tio.', 8295: b'EXET', 8296: b'LLI', 8297: b'LIUS', 8298: b'Poli', 8299: b'xen', 8300: b'MOP', 8301: b'PSA', 8302: b'SA:\\n', 8303: b'SON', 8304: b'Bio', 8305: b'iond', 8306: b'hie', 8307: b\"'t;\", 8308: b'one:', 8309: b't gu', 8310: b's hu', 8311: b'ffli', 8312: b'inv', 8313: b' abu', 8314: b'ndan', 8315: b'ty.', 8316: b'e? ', 8317: b'prat', 8318: b\"k's\", 8319: b'rym', 8320: b'nees', 8321: b'True', 8322: b'edic', 8323: b'\\nLik', 8324: b'ntin', 8325: b'ers,', 8326: b'er? ', 8327: b'eaks', 8328: b'iber', 8329: b\"'d:\\n\", 8330: b'vein', 8331: b'f R', 8332: b'efi', 8333: b'er\\nB', 8334: b'e! ', 8335: b'sum', 8336: b'onj', 8337: b'ed;\\n', 8338: b'k p', 8339: b'ulat', 8340: b't--', 8341: b',\\nEr', 8342: b'lad ', 8343: b\"I'l\", 8344: b'nly', 8345: b'ise.', 8346: b',\\nOu', 8347: b'ant.', 8348: b'lre', 8349: b'cir', 8350: b'ds:', 8351: b's ru', 8352: b'betw', 8353: b', da', 8354: b'-li', 8355: b'urne', 8356: b'd\\nM', 8357: b'diu', 8358: b'n by', 8359: b'gh y', 8360: b'hire', 8361: b'beco', 8362: b'erno', 8363: b's; b', 8364: b\"' a\", 8365: b' abs', 8366: b'bsen', 8367: b'irg', 8368: b'A w', 8369: b'in v', 8370: b'town', 8371: b's qu', 8372: b'pen ', 8373: b'r u', 8374: b'pale', 8375: b'I.\\n\\n', 8376: b'pot', 8377: b', up', 8378: b'big', 8379: b'!\\nL', 8380: b'! C', 8381: b' ble', 8382: b';\\nMy', 8383: b's ra', 8384: b'in. ', 8385: b'ruck', 8386: b'ort.', 8387: b'rees', 8388: b'ndur', 8389: b' fly', 8390: b'k I', 8391: b'd: ', 8392: b'rog', 8393: b'the\\n', 8394: b' top', 8395: b'ude', 8396: b'ofan', 8397: b'al;', 8398: b'atef', 8399: b'eful', 8400: b'rti', 8401: b'gif', 8402: b'im p', 8403: b\"on'd\", 8404: b's gu', 8405: b'anon', 8406: b'f u', 8407: b'o. ', 8408: b\"in't\", 8409: b' imp', 8410: b'wo s', 8411: b'd da', 8412: b' pai', 8413: b'one\\n', 8414: b'a n', 8415: b'hee!', 8416: b'A h', 8417: b'buil', 8418: b'\\nCom', 8419: b'g k', 8420: b'soev', 8421: b'easy', 8422: b'm n', 8423: b'ul ', 8424: b'ify', 8425: b'not,', 8426: b'dign', 8427: b'scen', 8428: b\"'d\\nA\", 8429: b'ual', 8430: b'e cu', 8431: b'our!', 8432: b'quir', 8433: b'if w', 8434: b'of, ', 8435: b'd fl', 8436: b'rth', 8437: b'rod', 8438: b'iful', 8439: b'ted.', 8440: b'ctor', 8441: b'bt, ', 8442: b'new ', 8443: b'Rea', 8444: b'foes', 8445: b'By m', 8446: b'lut', 8447: b'empt', 8448: b'unb', 8449: b'ty h', 8450: b'elp', 8451: b'k. ', 8452: b'pron', 8453: b'\\nI p', 8454: b';\\nOn', 8455: b'g re', 8456: b' try', 8457: b'!\\nC', 8458: b's,--', 8459: b'n;\\n', 8460: b'wil', 8461: b'd wo', 8462: b'h.\\n\\n', 8463: b'asle', 8464: b'rade', 8465: b'ooks', 8466: b'iece', 8467: b'seek', 8468: b'f us', 8469: b'. Le', 8470: b'pest', 8471: b'r na', 8472: b'gue.', 8473: b'O w', 8474: b'urns', 8475: b'ad;', 8476: b's?\\n', 8477: b'reto', 8478: b'evou', 8479: b'elv', 8480: b'd mu', 8481: b'gh f', 8482: b'd er', 8483: b'f, ', 8484: b'goin', 8485: b'd ol', 8486: b'up m', 8487: b'\\nBef', 8488: b'suc', 8489: b'Say ', 8490: b'r up', 8491: b'Righ', 8492: b's aw', 8493: b\"n I'\", 8494: b'pta', 8495: b'orst', 8496: b't; t', 8497: b'ssi', 8498: b'det', 8499: b'll r', 8500: b'il w', 8501: b'epin', 8502: b'?\\nN', 8503: b';\\nP', 8504: b'ativ', 8505: b'adm', 8506: b'o\\nT', 8507: b'ars?', 8508: b'Sta', 8509: b'wful', 8510: b'ssis', 8511: b'isa', 8512: b'ams', 8513: b'by w', 8514: b\"'d?\", 8515: b'seth', 8516: b' pat', 8517: b'mew', 8518: b'y E', 8519: b'ard,', 8520: b'Cur', 8521: b'jure', 8522: b' col', 8523: b'cqu', 8524: b'd!\\n', 8525: b'beti', 8526: b'ng p', 8527: b'oful', 8528: b'inta', 8529: b'erfu', 8530: b't sc', 8531: b'Riv', 8532: b'orne', 8533: b'enjo', 8534: b'kest', 8535: b'k c', 8536: b'dagg', 8537: b'o ki', 8538: b'y bu', 8539: b' pie', 8540: b' Chr', 8541: b'alk ', 8542: b'sig', 8543: b'few', 8544: b' dep', 8545: b'd?\\n', 8546: b'y ow', 8547: b'Unt', 8548: b'Hol', 8549: b'inge', 8550: b'orfe', 8551: b'zen', 8552: b's op', 8553: b'Doth', 8554: b'ernm', 8555: b'e ju', 8556: b'ARCH', 8557: b'nay', 8558: b'isle', 8559: b\"o'c\", 8560: b'real', 8561: b'own?', 8562: b'ow:', 8563: b'rift', 8564: b'e bi', 8565: b'isho', 8566: b'r P', 8567: b'ss,\\n', 8568: b'abo', 8569: b'Bon', 8570: b' tut', 8571: b'lve ', 8572: b'\\nKIN', 8573: b'vit', 8574: b'Wil', 8575: b'orbe', 8576: b'dy a', 8577: b'r qu', 8578: b\"p'd \", 8579: b'g ey', 8580: b'e\\nB', 8581: b't im', 8582: b'fru', 8583: b'in B', 8584: b' sat', 8585: b'alac', 8586: b'O c', 8587: b' ju', 8588: b'Gau', 8589: b'ir:\\n', 8590: b'coat', 8591: b'wast', 8592: b'RY P', 8593: b' PER', 8594: b'ERCY', 8595: b'CY:\\n', 8596: b'Dost', 8597: b';\\nSo', 8598: b'ucio', 8599: b':\\nRo', 8600: b'o!\\n\\n', 8601: b'he\\ns', 8602: b'awd', 8603: b'orry', 8604: b'Fath', 8605: b'THA', 8606: b'HAS', 8607: b'SAR', 8608: b'AR:\\n', 8609: b'Lewi', 8610: b'\\n\\nMA', 8611: b'MAMI', 8612: b'ABH', 8613: b'Tail', 8614: b\"s't \", 8615: b' sof', 8616: b'ude ', 8617: b'ous.', 8618: b'y M', 8619: b'd cl', 8620: b'd\\nY', 8621: b'helm', 8622: b'em a', 8623: b'! T', 8624: b'blis', 8625: b'Sti', 8626: b'wal', 8627: b'. Wi', 8628: b'env', 8629: b'.\\nWi', 8630: b'gest', 8631: b' ben', 8632: b'ly?', 8633: b'.\\nHa', 8634: b's;\\nW', 8635: b'Des', 8636: b're\\nA', 8637: b'ushe', 8638: b'resu', 8639: b'suad', 8640: b'aded', 8641: b'ry;', 8642: b'shre', 8643: b'ak t', 8644: b'icin', 8645: b\"n 't\", 8646: b'\\nOur', 8647: b':\\n\\nC', 8648: b'm\\nT', 8649: b't er', 8650: b'twee', 8651: b're-', 8652: b'erel', 8653: b'us:\\n', 8654: b'am.', 8655: b'scho', 8656: b': c', 8657: b'jes', 8658: b'; I ', 8659: b'isea', 8660: b' mir', 8661: b', V', 8662: b'sole', 8663: b', bl', 8664: b': ou', 8665: b' wra', 8666: b'ued ', 8667: b'foe', 8668: b'y us', 8669: b'Sold', 8670: b'\\nEv', 8671: b'hark', 8672: b'-pla', 8673: b'Bre', 8674: b' tap', 8675: b'rect', 8676: b'g: t', 8677: b'hose', 8678: b'sme', 8679: b'ghs ', 8680: b'is. ', 8681: b'kly ', 8682: b'ider', 8683: b'ike', 8684: b'd ad', 8685: b'ed\\nA', 8686: b'-fa', 8687: b'ilk', 8688: b'el t', 8689: b', T', 8690: b' Cor', 8691: b'ou\\nT', 8692: b\"'d!\", 8693: b'. D', 8694: b'hee:', 8695: b'in I', 8696: b'tse', 8697: b' fur', 8698: b'spit', 8699: b'rne', 8700: b'ws t', 8701: b'ght-', 8702: b'ld!', 8703: b\"' c\", 8704: b'ladi', 8705: b't: a', 8706: b'en\\n', 8707: b'et?', 8708: b\"d 't\", 8709: b'aye', 8710: b'yes', 8711: b'true', 8712: b', Ro', 8713: b'd,--', 8714: b' cas', 8715: b'ts\\nA', 8716: b'Of ', 8717: b'This', 8718: b',\\nUp', 8719: b'Thre', 8720: b\"t 't\", 8721: b'indi', 8722: b'diff', 8723: b'es\\n', 8724: b'ispl', 8725: b' wei', 8726: b'lyin', 8727: b'limb', 8728: b'six', 8729: b'\\nAn ', 8730: b'unl', 8731: b'f,\\n', 8732: b' pi', 8733: b'e au', 8734: b'sak', 8735: b'reth', 8736: b's: a', 8737: b'ly;', 8738: b'irer', 8739: b'Amen', 8740: b'ers!', 8741: b'tol', 8742: b'uis', 8743: b'? or', 8744: b'f j', 8745: b'ent?', 8746: b'stil', 8747: b'alin', 8748: b'am o', 8749: b'ause', 8750: b'wift', 8751: b'ad.\\n', 8752: b'd fu', 8753: b'pis', 8754: b'es?\\n', 8755: b'th?\\n', 8756: b'y pl', 8757: b' lat', 8758: b'ouds', 8759: b'heat', 8760: b'ep,\\n', 8761: b'nows', 8762: b'l, t', 8763: b\"or't\", 8764: b\"w'd\", 8765: b', en', 8766: b'itle', 8767: b'enta', 8768: b'do.', 8769: b'ens!', 8770: b'Pat', 8771: b'at.', 8772: b'so a', 8773: b'ul f', 8774: b'ish.', 8775: b'?\\nB', 8776: b'd po', 8777: b'ho b', 8778: b'n. ', 8779: b'Mil', 8780: b'atal', 8781: b'Cal', 8782: b'afet', 8783: b'\\nThr', 8784: b'ck,', 8785: b'buy', 8786: b'vex', 8787: b'cun', 8788: b',\\nSi', 8789: b'enom', 8790: b\"alk'\", 8791: b's ye', 8792: b'Bid ', 8793: b'ar. ', 8794: b'so:', 8795: b'dver', 8796: b'oyf', 8797: b'se\\n', 8798: b'es\\nI', 8799: b'enm', 8800: b'lles', 8801: b'ots ', 8802: b'mell', 8803: b\"w's\", 8804: b'rap', 8805: b',\\nUn', 8806: b'ho a', 8807: b'sim', 8808: b'el o', 8809: b'elt', 8810: b'--\\nI', 8811: b'en\\nA', 8812: b':\\nSa', 8813: b'arfu', 8814: b'appa', 8815: b' spi', 8816: b' tom', 8817: b'ard;', 8818: b\"e I'\", 8819: b'm;\\n', 8820: b'n oa', 8821: b'ack.', 8822: b'\\nI l', 8823: b'.\\nMy', 8824: b'!\\nN', 8825: b'p d', 8826: b'fro', 8827: b't gr', 8828: b'\\nMak', 8829: b'enj', 8830: b'n ev', 8831: b'ait ', 8832: b'e;\\nI', 8833: b'ps t', 8834: b'.\\nTo', 8835: b'aso', 8836: b'-st', 8837: b'lodg', 8838: b'pap', 8839: b' gl', 8840: b'ie,\\n', 8841: b'Aft', 8842: b'blus', 8843: b\"ook'\", 8844: b'Boy', 8845: b' sco', 8846: b'fold', 8847: b'lawf', 8848: b'up y', 8849: b'adf', 8850: b'\\nTe', 8851: b'now;', 8852: b'y W', 8853: b'o; a', 8854: b'impr', 8855: b'path', 8856: b'ir.\\n', 8857: b'oad', 8858: b'tid', 8859: b'Out ', 8860: b' Yor', 8861: b'Rut', 8862: b'gal', 8863: b'y du', 8864: b'y\\nI', 8865: b'slan', 8866: b'd ap', 8867: b'wfu', 8868: b'd--', 8869: b'by,\\n', 8870: b'id;', 8871: b'atic', 8872: b'ms t', 8873: b'Unc', 8874: b'd vi', 8875: b'w g', 8876: b'pace', 8877: b'f go', 8878: b'lect', 8879: b'in-', 8880: b'el, ', 8881: b',\\nSu', 8882: b'iff', 8883: b'ef t', 8884: b' ted', 8885: b't: ', 8886: b':\\nRi', 8887: b' Go', 8888: b'art!', 8889: b'holl', 8890: b' sus', 8891: b'ldly', 8892: b'beth', 8893: b'elf', 8894: b'od.', 8895: b'ry,', 8896: b'orn.', 8897: b' sei', 8898: b'ok o', 8899: b'if m', 8900: b'ems ', 8901: b't yi', 8902: b'ck?', 8903: b'ut,', 8904: b'r.\\n', 8905: b'p s', 8906: b'smil', 8907: b'ata', 8908: b' so?', 8909: b'ook ', 8910: b'emin', 8911: b'rid ', 8912: b'y ba', 8913: b'\\n\\nPa', 8914: b'Page', 8915: b' dau', 8916: b'Exet', 8917: b'ala', 8918: b'rose', 8919: b'e B', 8920: b'ck b', 8921: b'icke', 8922: b'y q', 8923: b'Non', 8924: b'e W', 8925: b'isto', 8926: b', Si', 8927: b'resp', 8928: b'ORF', 8929: b'FOL', 8930: b'OLK', 8931: b'd; ', 8932: b'ohn ', 8933: b'bs ', 8934: b' sce', 8935: b'nis', 8936: b'dvis', 8937: b'inch', 8938: b'elic', 8939: b'Lov', 8940: b'D R', 8941: b' RO', 8942: b'OSS', 8943: b'SS:\\n', 8944: b'woe', 8945: b'e ov', 8946: b'Ben', 8947: b'meo!', 8948: b'tua', 8949: b'\\nto ', 8950: b'\\nsha', 8951: b'ir; ', 8952: b'Hunt', 8953: b'Wid', 8954: b'a.\\n\\n', 8955: b'ssur', 8956: b'ntsm', 8957: b'ORCA', 8958: b'CAS', 8959: b'Pis', 8960: b'\\n\\nTa', 8961: b'Boat', 8962: b'amis', 8963: b'cia', 8964: b'd; w', 8965: b' sid', 8966: b'd\\nth', 8967: b'do,\\n', 8968: b'. Fo', 8969: b'\\nSt', 8970: b'd! ', 8971: b'esom', 8972: b'ndr', 8973: b'ilan', 8974: b'n?\\n', 8975: b' sma', 8976: b's\\nF', 8977: b'ency', 8978: b'o ea', 8979: b'pub', 8980: b'tage', 8981: b'tiou', 8982: b', ge', 8983: b'inut', 8984: b\"y'll\", 8985: b\"e i'\", 8986: b' asi', 8987: b' cow', 8988: b'gs;', 8989: b'hem?', 8990: b'hoi', 8991: b'envy', 8992: b'olt', 8993: b'Tit', 8994: b\"us'\", 8995: b':\\nWa', 8996: b'd ey', 8997: b':\\nSu', 8998: b'er C', 8999: b'\\nBet', 9000: b're\\nW', 9001: b'n M', 9002: b'is.\\n', 9003: b\"il'd\", 9004: b'hat;', 9005: b' cer', 9006: b'To a', 9007: b'n di', 9008: b'-ma', 9009: b'yar', 9010: b'excu', 9011: b' obe', 9012: b'ery\\n', 9013: b'Far', 9014: b' buy', 9015: b'r fi', 9016: b'hiel', 9017: b'f Ro', 9018: b' run', 9019: b'ind;', 9020: b'w p', 9021: b'dden', 9022: b\"pp'd\", 9023: b'nly ', 9024: b'ity;', 9025: b'e: t', 9026: b'hee;', 9027: b'hest', 9028: b'pet ', 9029: b'ey s', 9030: b'aw ', 9031: b'hase', 9032: b' sli', 9033: b'--a', 9034: b'als ', 9035: b'so?', 9036: b'Ret', 9037: b' aid', 9038: b',\\nAl', 9039: b'hig', 9040: b'nds.', 9041: b'y qu', 9042: b'aked', 9043: b'came', 9044: b'alu', 9045: b\"'en \", 9046: b'asur', 9047: b'rof', 9048: b'nos', 9049: b'o R', 9050: b': I ', 9051: b'om.', 9052: b'raf', 9053: b'il.', 9054: b':\\nBo', 9055: b': n', 9056: b'tuar', 9057: b'arqu', 9058: b'd cu', 9059: b'it\\nA', 9060: b'gry', 9061: b'f un', 9062: b'up o', 9063: b'bis', 9064: b'hara', 9065: b'cter', 9066: b' a\\n', 9067: b'ller', 9068: b'sy ', 9069: b'\\nse', 9070: b'tom', 9071: b't gi', 9072: b't\\nth', 9073: b'me\\n', 9074: b'ites', 9075: b'ate\\n', 9076: b'\\nst', 9077: b'ald', 9078: b'se\\nI', 9079: b'wne', 9080: b'cof', 9081: b'ck s', 9082: b'ons.', 9083: b'kit', 9084: b's am', 9085: b'ul.', 9086: b'thos', 9087: b'hers', 9088: b'aw t', 9089: b't: b', 9090: b'crat', 9091: b'r\\nT', 9092: b'r is', 9093: b'\\nMos', 9094: b'lf h', 9095: b'ed\\nW', 9096: b'gan', 9097: b\"'t:\\n\", 9098: b\"on't\", 9099: b'r!\\n\\n', 9100: b'to\\n', 9101: b' my\\n', 9102: b\"'t,\\n\", 9103: b'n do', 9104: b':\\nIs', 9105: b'pak', 9106: b'cy a', 9107: b'url', 9108: b' so.', 9109: b'voke', 9110: b'o im', 9111: b'e af', 9112: b' go ', 9113: b' cau', 9114: b' swi', 9115: b'Ha!', 9116: b'Or a', 9117: b'urb', 9118: b'yon', 9119: b'eco', 9120: b'lend', 9121: b'e\\nM', 9122: b'in G', 9123: b'Nei', 9124: b' gav', 9125: b'nave', 9126: b'k d', 9127: b'onat', 9128: b'esy', 9129: b'clud', 9130: b'ess:', 9131: b'\\nA ', 9132: b'Dow', 9133: b'; p', 9134: b'ie!', 9135: b'\\n\\nAE', 9136: b'AEdi', 9137: b'dile', 9138: b'id!', 9139: b'lf\\nT', 9140: b'onsu', 9141: b'd or', 9142: b'belo', 9143: b'ce?\\n', 9144: b'vas', 9145: b'medy', 9146: b'unse', 9147: b't ea', 9148: b' sal', 9149: b',\\nGo', 9150: b's el', 9151: b'In a', 9152: b' bow', 9153: b\"ar's\", 9154: b'alw', 9155: b'gun', 9156: b'f ju', 9157: b'Dra', 9158: b'chy', 9159: b'vy ', 9160: b',\\nV', 9161: b'il o', 9162: b'th I', 9163: b'urie', 9164: b'.\\nR', 9165: b'p no', 9166: b'ieu', 9167: b'. Fa', 9168: b'. My', 9169: b'ieve', 9170: b'? T', 9171: b'ee.', 9172: b'me; ', 9173: b'p\\nT', 9174: b'O b', 9175: b'in A', 9176: b\"dy'\", 9177: b'g el', 9178: b'up w', 9179: b'\\n\\nR', 9180: b'! i', 9181: b', N', 9182: b'ate,', 9183: b'So w', 9184: b'n co', 9185: b'ine\\n', 9186: b'r. ', 9187: b'. Wh', 9188: b'humb', 9189: b'rare', 9190: b'ball', 9191: b'bot', 9192: b'urr', 9193: b'reve', 9194: b'eaf', 9195: b'ur t', 9196: b'mely', 9197: b'ryin', 9198: b'ns t', 9199: b' mel', 9200: b'fid', 9201: b' it?', 9202: b'\\nA t', 9203: b'otin', 9204: b'ems', 9205: b'nty ', 9206: b'o ev', 9207: b'urge', 9208: b'expe', 9209: b'ge\\nO', 9210: b\"' d\", 9211: b' old', 9212: b'sie', 9213: b'Jac', 9214: b'ues', 9215: b'er M', 9216: b'pell', 9217: b' adm', 9218: b' vir', 9219: b'or;', 9220: b'w l', 9221: b'o po', 9222: b' ei', 9223: b'er R', 9224: b'fon', 9225: b'lter', 9226: b\"ray'\", 9227: b'e ki', 9228: b'y;\\nA', 9229: b'ry m', 9230: b's;\\nI', 9231: b's S', 9232: b'le-', 9233: b'onm', 9234: b'!\\nF', 9235: b'fig', 9236: b'im\\nA', 9237: b'd dr', 9238: b'mst', 9239: b'h s', 9240: b'y gu', 9241: b'Did', 9242: b'd;\\nW', 9243: b'enl', 9244: b'g en', 9245: b'Ber', 9246: b'atre', 9247: b's pu', 9248: b'tect', 9249: b' vis', 9250: b'sty.', 9251: b'r bl', 9252: b'!--', 9253: b'ght?', 9254: b'n pa', 9255: b'om b', 9256: b'Tyr', 9257: b'h b', 9258: b'hy,', 9259: b'ef,\\n', 9260: b' el', 9261: b'gh,\\n', 9262: b'O p', 9263: b' eye', 9264: b'thf', 9265: b'-la', 9266: b'ck;', 9267: b' wak', 9268: b'key', 9269: b'umou', 9270: b'ande', 9271: b'ind.', 9272: b' Bu', 9273: b'gui', 9274: b'f I ', 9275: b'ead?', 9276: b'ury ', 9277: b'lap', 9278: b'ceit', 9279: b'ety ', 9280: b'unwi', 9281: b' deb', 9282: b'thwi', 9283: b'no;', 9284: b'ey a', 9285: b' mes', 9286: b'o P', 9287: b'dy.', 9288: b'repo', 9289: b'ndo', 9290: b'Too ', 9291: b'oral', 9292: b'l I', 9293: b' Lor', 9294: b'ldom', 9295: b'uke', 9296: b'fe,', 9297: b'ad!', 9298: b'mad ', 9299: b'nd:\\n', 9300: b'r S', 9301: b' boo', 9302: b'r ri', 9303: b'igh ', 9304: b'enu', 9305: b'd du', 9306: b'a j', 9307: b'cop', 9308: b'!\\nD', 9309: b'enly', 9310: b'.\\nIn', 9311: b'TYRR', 9312: b'RREL', 9313: b', Ty', 9314: b' Di', 9315: b't ch', 9316: b'A d', 9317: b'o Fr', 9318: b'ef a', 9319: b'our,', 9320: b'rt, ', 9321: b'il,\\n', 9322: b'orms', 9323: b'Post', 9324: b'n n', 9325: b' swa', 9326: b'aire', 9327: b't Ge', 9328: b'Fre', 9329: b'alas', 9330: b'ony', 9331: b'ppre', 9332: b'REEN', 9333: b'ss.', 9334: b' va', 9335: b'sett', 9336: b'--\\nS', 9337: b'n lo', 9338: b'scal', 9339: b'redi', 9340: b'liam', 9341: b'fe:\\n', 9342: b\"a's \", 9343: b'osal', 9344: b'teen', 9345: b'in V', 9346: b'nose', 9347: b'! l', 9348: b'a M', 9349: b\"alt'\", 9350: b'stif', 9351: b'GE:\\n', 9352: b'esca', 9353: b'eds', 9354: b'ld?', 9355: b'er F', 9356: b'ALO', 9357: b'LONS', 9358: b'NSO', 9359: b'INAN', 9360: b'ved.', 9361: b'auth', 9362: b'urfe', 9363: b'reli', 9364: b'flu', 9365: b'ere\\n', 9366: b'ar:', 9367: b'im. ', 9368: b'usat', 9369: b'Sof', 9370: b't! w', 9371: b'ius ', 9372: b'klin', 9373: b'\\nsu', 9374: b'ady.', 9375: b'm\\nA', 9376: b'ny w', 9377: b'lly.', 9378: b\"ody'\", 9379: b'--\\nF', 9380: b'owne', 9381: b'he,\\n', 9382: b\",\\n'T\", 9383: b'dit ', 9384: b's; f', 9385: b'ou r', 9386: b'ge.\\n', 9387: b'sca', 9388: b'cab', 9389: b'atn', 9390: b'se\\nW', 9391: b't\\nC', 9392: b'a qu', 9393: b'ngry', 9394: b't hu', 9395: b's; w', 9396: b'ey t', 9397: b'oms', 9398: b'me\\nW', 9399: b' gla', 9400: b'n C', 9401: b'er\\nH', 9402: b'e ut', 9403: b'n cr', 9404: b'ess!', 9405: b'll C', 9406: b'ch\\n', 9407: b'ke\\nT', 9408: b't: i', 9409: b'odie', 9410: b'\\ncou', 9411: b' tas', 9412: b'ow! ', 9413: b'lier', 9414: b' doe', 9415: b'edn', 9416: b'd ov', 9417: b\"n '\", 9418: b'ay\\n', 9419: b'\\nso', 9420: b'lemn', 9421: b'no.', 9422: b'p ou', 9423: b'edge', 9424: b'le! ', 9425: b'urt ', 9426: b'd; b', 9427: b'.\\nSo', 9428: b'sudd', 9429: b'left', 9430: b'ewel', 9431: b\"oul'\", 9432: b'te, ', 9433: b' dro', 9434: b'p i', 9435: b'isgu', 9436: b' hig', 9437: b'!\\nGo', 9438: b'et-p', 9439: b'wn,\\n', 9440: b'rms ', 9441: b'aper', 9442: b'th T', 9443: b'Cond', 9444: b'exi', 9445: b'awn', 9446: b'de\\nT', 9447: b'e A', 9448: b'pe.', 9449: b'lf;\\n', 9450: b'r du', 9451: b'uten', 9452: b'me\\nI', 9453: b'Had', 9454: b'rend', 9455: b'ke\\nA', 9456: b'ane', 9457: b'ay! ', 9458: b'odes', 9459: b'acl', 9460: b'\\nWe', 9461: b'oke', 9462: b'Bear', 9463: b'lus', 9464: b'e. I', 9465: b'efu', 9466: b\"is't\", 9467: b'ly:\\n', 9468: b\"; 't\", 9469: b're\\nI', 9470: b'o cr', 9471: b'lf:', 9472: b' san', 9473: b'does', 9474: b'\\nar', 9475: b' of\\n', 9476: b'unm', 9477: b', vi', 9478: b'oo t', 9479: b'--I', 9480: b'sely', 9481: b'aces', 9482: b'ty a', 9483: b'en. ', 9484: b'cket', 9485: b'thir', 9486: b'plin', 9487: b\"at'\", 9488: b'e gi', 9489: b\"e's\", 9490: b'\\nwou', 9491: b' won', 9492: b'hiev', 9493: b'anu', 9494: b'--\\nB', 9495: b'Ever', 9496: b'r ba', 9497: b'smo', 9498: b'poil', 9499: b\"do'\", 9500: b' put', 9501: b'sui', 9502: b'try', 9503: b'n ex', 9504: b's fl', 9505: b'ts:\\n', 9506: b'vot', 9507: b'ry:', 9508: b'ts,', 9509: b'met ', 9510: b'do, ', 9511: b'er v', 9512: b'r pe', 9513: b'; n', 9514: b'n bl', 9515: b' lac', 9516: b'Tar', 9517: b'ea,\\n', 9518: b'\\nTur', 9519: b'tal ', 9520: b'etu', 9521: b'\\nBo', 9522: b'emon', 9523: b'id, ', 9524: b're\\nO', 9525: b'y ea', 9526: b'udg', 9527: b'es? ', 9528: b'\\nne', 9529: b'Pla', 9530: b\"do't\", 9531: b'ts?', 9532: b',\\nRe', 9533: b\"how'\", 9534: b's mi', 9535: b\"ass'\", 9536: b'er j', 9537: b'vely', 9538: b'cend', 9539: b'onw', 9540: b'se\\nA', 9541: b'o A', 9542: b' oft', 9543: b'inqu', 9544: b's\\nC', 9545: b'? m', 9546: b'ail ', 9547: b'f n', 9548: b'mot', 9549: b'I en', 9550: b'er\\nI', 9551: b'unst', 9552: b'Noth', 9553: b'lf\\nA', 9554: b'ct.', 9555: b'! d', 9556: b';\\nC', 9557: b'im;\\n', 9558: b'orch', 9559: b'Put ', 9560: b'st\\nW', 9561: b'ork!', 9562: b'ce!\\n', 9563: b'gor', 9564: b\"' l\", 9565: b'd pe', 9566: b'roll', 9567: b'ropp', 9568: b'eam', 9569: b'me\\nF', 9570: b'lute', 9571: b'poli', 9572: b'l l', 9573: b'!\\nCo', 9574: b'h I ', 9575: b'?\\nM', 9576: b'At t', 9577: b',\\nCo', 9578: b'go:\\n', 9579: b'cts', 9580: b'ccom', 9581: b'ay. ', 9582: b'Lo, ', 9583: b'ical', 9584: b'-in', 9585: b'ff t', 9586: b'ir! ', 9587: b'fond', 9588: b'eder', 9589: b'e ve', 9590: b'ood.', 9591: b'orgo', 9592: b'cid', 9593: b'inm', 9594: b'am t', 9595: b'Lest', 9596: b'Sav', 9597: b'eres', 9598: b'nd?', 9599: b' ge', 9600: b'ows.', 9601: b' tun', 9602: b'uns ', 9603: b'mai', 9604: b'rel ', 9605: b'eakn', 9606: b'ink.', 9607: b'tif', 9608: b's\\nB', 9609: b'hipp', 9610: b'ge. ', 9611: b'ware', 9612: b'be.', 9613: b'reo', 9614: b'eads', 9615: b'oys ', 9616: b'h c', 9617: b'pel', 9618: b'ignt', 9619: b'nail', 9620: b'ess?', 9621: b'im\\nT', 9622: b'gaol', 9623: b\"el'\", 9624: b'onar', 9625: b'at,', 9626: b',\\nWa', 9627: b'whis', 9628: b'refu', 9629: b'sh ', 9630: b'hill', 9631: b'tor ', 9632: b\", i'\", 9633: b'b,\\n', 9634: b'igg', 9635: b'd ea', 9636: b'eks ', 9637: b'fel', 9638: b\"'t. \", 9639: b'ar-', 9640: b'oy!', 9641: b':\\nUn', 9642: b's em', 9643: b'ews ', 9644: b'toop', 9645: b'ary.', 9646: b's oa', 9647: b'\\nCou', 9648: b' jo', 9649: b'nd!', 9650: b', ki', 9651: b'avi', 9652: b'k;\\nA', 9653: b'onum', 9654: b' lu', 9655: b'erla', 9656: b'kna', 9657: b'erho', 9658: b'y Sa', 9659: b'ul h', 9660: b'rodi', 9661: b'e!\\n', 9662: b'sain', 9663: b'al.\\n', 9664: b'f Go', 9665: b'chsa', 9666: b'ilis', 9667: b'alc', 9668: b',\\nDi', 9669: b'ead!', 9670: b'l f', 9671: b'n ne', 9672: b'p he', 9673: b' wof', 9674: b'Myse', 9675: b'.\\nSh', 9676: b'Der', 9677: b'erby', 9678: b'! b', 9679: b'Or t', 9680: b'nts ', 9681: b's du', 9682: b'eak;', 9683: b'o Go', 9684: b'toge', 9685: b'de.\\n', 9686: b'o j', 9687: b'Wal', 9688: b'y gl', 9689: b'Lon', 9690: b'ayst', 9691: b'unlo', 9692: b'eadl', 9693: b's!\\nT', 9694: b'het', 9695: b' yo', 9696: b'kle ', 9697: b' hot', 9698: b'rawl', 9699: b',\\nTe', 9700: b'hab', 9701: b'gaz', 9702: b'ual ', 9703: b'No;', 9704: b'Reme', 9705: b\"g's\", 9706: b'epar', 9707: b'vide', 9708: b'\\nAh', 9709: b' pen', 9710: b'eer', 9711: b'y jo', 9712: b',\\nK', 9713: b'lp m', 9714: b'wo m', 9715: b'tec', 9716: b'zin', 9717: b'ep ', 9718: b\"p's \", 9719: b'r Jo', 9720: b'John', 9721: b'tay ', 9722: b':\\nSi', 9723: b'lot ', 9724: b'raz', 9725: b'uil', 9726: b'Tur', 9727: b'lev', 9728: b',\\nBo', 9729: b'ue-', 9730: b'thfu', 9731: b', Y', 9732: b'l.\\n', 9733: b\"ho's\", 9734: b'sco', 9735: b'y!\\n', 9736: b'lden', 9737: b\",' \", 9738: b'ie:\\n', 9739: b'Ire', 9740: b'lunt', 9741: b' je', 9742: b'wild', 9743: b'o E', 9744: b'coz', 9745: b'olat', 9746: b'alis', 9747: b'ney', 9748: b'r W', 9749: b'y K', 9750: b'he,', 9751: b'y up', 9752: b'e S', 9753: b'\\nGho', 9754: b'Sou', 9755: b'Joh', 9756: b'ray?', 9757: b'ilg', 9758: b'mage', 9759: b'O l', 9760: b' oa', 9761: b'ke:', 9762: b'Bus', 9763: b'ooin', 9764: b'Gaun', 9765: b'Son', 9766: b'O h', 9767: b'dyin', 9768: b'?\\nNo', 9769: b'Ros', 9770: b'thri', 9771: b'LIS', 9772: b'Brin', 9773: b' Bol', 9774: b'ssin', 9775: b'neg', 9776: b'twen', 9777: b'th B', 9778: b' pay', 9779: b\"r I'\", 9780: b'ea-', 9781: b't V', 9782: b'baw', 9783: b'up h', 9784: b'isel', 9785: b'ght\\n', 9786: b'her!', 9787: b'o! ', 9788: b'ghin', 9789: b\"tio'\", 9790: b'hen.', 9791: b'vaul', 9792: b'ou e', 9793: b'w\\nI', 9794: b'-she', 9795: b'ofit', 9796: b'\\n\\nPo', 9797: b'stes', 9798: b'be\\n', 9799: b'enna', 9800: b':\\n\\nI', 9801: b'\\nIS', 9802: b'SAB', 9803: b' Fro', 9804: b', Ma', 9805: b'Pad', 9806: b'io!', 9807: b'ca, ', 9808: b'FER', 9809: b'd yi', 9810: b'cts ', 9811: b'e ob', 9812: b'rak', 9813: b'vet', 9814: b'urpl', 9815: b'; re', 9816: b'in u', 9817: b':\\nEi', 9818: b'\\nCon', 9819: b'tty', 9820: b'dst ', 9821: b'ad,', 9822: b'arm ', 9823: b'teed', 9824: b'stow', 9825: b'ote ', 9826: b'reby', 9827: b'do b', 9828: b'ack ', 9829: b\".' \", 9830: b'oe ', 9831: b'semb', 9832: b'Hail', 9833: b'rogu', 9834: b'hew', 9835: b'th r', 9836: b'Han', 9837: b' cry', 9838: b'ang ', 9839: b'r ru', 9840: b'slav', 9841: b'isso', 9842: b\"gh'\", 9843: b'r em', 9844: b\"'t:\", 9845: b's Au', 9846: b'Lar', 9847: b'Nobl', 9848: b\"ark'\", 9849: b'In w', 9850: b'us.\\n', 9851: b'n is', 9852: b' bod', 9853: b'ent:', 9854: b'om c', 9855: b'fe!', 9856: b'ut\\n', 9857: b'oy a', 9858: b'e. ', 9859: b'leve', 9860: b'! O ', 9861: b'suck', 9862: b'? y', 9863: b're? ', 9864: b'\\nlo', 9865: b' cat', 9866: b'; or', 9867: b'\\nfa', 9868: b'ld. ', 9869: b't. I', 9870: b'em s', 9871: b'lav', 9872: b' wiv', 9873: b'nche', 9874: b't So', 9875: b'le\\nO', 9876: b'remb', 9877: b' ali', 9878: b'es! ', 9879: b't T', 9880: b'exer', 9881: b'al\\nT', 9882: b's\\nM', 9883: b'\\nMis', 9884: b'd: a', 9885: b'ardl', 9886: b'Ye ', 9887: b'g is', 9888: b'ate?', 9889: b'olsc', 9890: b'sces', 9891: b'O g', 9892: b'ard!', 9893: b'rior', 9894: b';\\nR', 9895: b'ey h', 9896: b'skin', 9897: b'ny s', 9898: b'thus', 9899: b'e?\\nI', 9900: b'r V', 9901: b'raw ', 9902: b'Lie', 9903: b'e; f', 9904: b'h up', 9905: b'ghe', 9906: b'tear', 9907: b\": 't\", 9908: b'd: I', 9909: b'\\nMad', 9910: b'deb', 9911: b'e; I', 9912: b'wra', 9913: b' yea', 9914: b'e: s', 9915: b',\\nHe', 9916: b'ane ', 9917: b'wolf', 9918: b'es!\\n', 9919: b' mag', 9920: b'ke\\n', 9921: b' mot', 9922: b'tock', 9923: b'a\\nc', 9924: b'oo?', 9925: b's: y', 9926: b'ir\\n', 9927: b'imat', 9928: b'bler', 9929: b'resc', 9930: b'scri', 9931: b'Has ', 9932: b' ay', 9933: b\"d i'\", 9934: b'edit', 9935: b'-tre', 9936: b'fte', 9937: b' pin', 9938: b'th v', 9939: b'g\\nI', 9940: b'l po', 9941: b'Jove', 9942: b\"et's\", 9943: b'\\nA l', 9944: b'ted\\n', 9945: b'pawn', 9946: b'ifi', 9947: b' fac', 9948: b'd gi', 9949: b' act', 9950: b'hide', 9951: b'r if', 9952: b'lf s', 9953: b'oure', 9954: b'ou j', 9955: b\"'s\\n\", 9956: b'n de', 9957: b'! S', 9958: b' Cit', 9959: b'nds;', 9960: b'Six', 9961: b'non ', 9962: b\"w '\", 9963: b'wav', 9964: b'foe ', 9965: b've\\nH', 9966: b'ued', 9967: b'ili', 9968: b'n;\\nA', 9969: b'ol, ', 9970: b'afe', 9971: b'o op', 9972: b'In s', 9973: b'glin', 9974: b\"'Tw\", 9975: b'fed', 9976: b'\\nCa', 9977: b' op', 9978: b'd hu', 9979: b'fail', 9980: b'? no', 9981: b'n bo', 9982: b'y fl', 9983: b'ize ', 9984: b'gh c', 9985: b'r gr', 9986: b'er! ', 9987: b' I n', 9988: b' dam', 9989: b' lim', 9990: b'ote', 9991: b'gua', 9992: b' it\\n', 9993: b'oop', 9994: b'etur', 9995: b'rame', 9996: b'orso', 9997: b'o ru', 9998: b'et\\nT', 9999: b'th\\nW', 10000: b'fuse', 10001: b'ap t', 10002: b\"e 't\", 10003: b'om R', 10004: b'im d', 10005: b'hequ', 10006: b't: s', 10007: b'uar', 10008: b\"ou'l\", 10009: b\"'s,\\n\", 10010: b'sad ', 10011: b'y\\nS', 10012: b'hoar', 10013: b'? H', 10014: b', ag', 10015: b'laz', 10016: b's gl', 10017: b'ent\\n', 10018: b't op', 10019: b'bill', 10020: b'ete', 10021: b\"'for\", 10022: b'llou', 10023: b'ee,', 10024: b'ce\\nB', 10025: b'n if', 10026: b'enef', 10027: b'iend', 10028: b'er\\nS', 10029: b'us. ', 10030: b'ars!', 10031: b'lf o', 10032: b'and:', 10033: b'lled', 10034: b'ard?', 10035: b'ck u', 10036: b'tail', 10037: b'enie', 10038: b'\\nA w', 10039: b' boy', 10040: b't ig', 10041: b'e tu', 10042: b'ws.', 10043: b'raft', 10044: b'meat', 10045: b'y Ro', 10046: b'So h', 10047: b'm;\\nA', 10048: b'nt,\\n', 10049: b'Migh', 10050: b'aken', 10051: b'st-', 10052: b'e; w', 10053: b'cy t', 10054: b'\\nsh', 10055: b'st\\nI', 10056: b'Ano', 10057: b'abov', 10058: b'cce', 10059: b'is?\\n', 10060: b'de?', 10061: b'er\\nM', 10062: b' big', 10063: b'cil', 10064: b'reap', 10065: b't af', 10066: b'unju', 10067: b'sly ', 10068: b'fif', 10069: b'ks.', 10070: b'I,\\n', 10071: b'\\nA g', 10072: b'I ra', 10073: b'ompl', 10074: b'a y', 10075: b\"urn'\", 10076: b'robb', 10077: b'rn ', 10078: b'wrin', 10079: b'civ', 10080: b'ivi', 10081: b'okin', 10082: b'Che', 10083: b'new-', 10084: b'y I ', 10085: b'er G', 10086: b'Bra', 10087: b'teel', 10088: b'igns', 10089: b'voc', 10090: b'Vill', 10091: b'ldn', 10092: b'heri', 10093: b'gea', 10094: b'lee', 10095: b' def', 10096: b'tnin', 10097: b\"ern'\", 10098: b' end', 10099: b'veth', 10100: b'eft', 10101: b'hook', 10102: b\"ash'\", 10103: b\"b'd \", 10104: b', pu', 10105: b's. I', 10106: b'dig', 10107: b'y?\\n', 10108: b'trus', 10109: b'inju', 10110: b' bad', 10111: b'gh d', 10112: b'l re', 10113: b'rt.', 10114: b'Jes', 10115: b'of.', 10116: b'God,', 10117: b'd Y', 10118: b' que', 10119: b'g!\\n\\n', 10120: b'de;', 10121: b'out-', 10122: b'o G', 10123: b'e: I', 10124: b'her:', 10125: b' sim', 10126: b' a C', 10127: b' Gl', 10128: b'tem', 10129: b'squ', 10130: b'ke;', 10131: b'ecut', 10132: b'elt ', 10133: b'ow n', 10134: b'n G', 10135: b'heed', 10136: b'swo', 10137: b' pe', 10138: b'sage', 10139: b'gs,', 10140: b'ine!', 10141: b'vio', 10142: b'py t', 10143: b'Bet', 10144: b'gst', 10145: b'sed.', 10146: b'ait', 10147: b'oy:\\n', 10148: b'blan', 10149: b'ow-', 10150: b'uce ', 10151: b'eeps', 10152: b'act ', 10153: b'ign.', 10154: b'hau', 10155: b'un s', 10156: b'to-', 10157: b'rely', 10158: b'ccur', 10159: b'eror', 10160: b'ws,\\n', 10161: b'! L', 10162: b'\\nPer', 10163: b'oron', 10164: b'ift', 10165: b'ncle', 10166: b'llia', 10167: b'ncil', 10168: b'ow g', 10169: b':\\n\\nH', 10170: b'Rat', 10171: b'rd t', 10172: b'd sm', 10173: b'ff w', 10174: b'woe ', 10175: b'w re', 10176: b'shri', 10177: b'rau', 10178: b'yor', 10179: b'urk', 10180: b'so.\\n', 10181: b'inea', 10182: b'! Wh', 10183: b'ps,\\n', 10184: b'Play', 10185: b'on;\\n', 10186: b'seat', 10187: b' ob', 10188: b'in;\\n', 10189: b' im', 10190: b'ef.', 10191: b'medi', 10192: b\"am'\", 10193: b'e ty', 10194: b'tyr', 10195: b\"'\\nT\", 10196: b'ton ', 10197: b':\\nBl', 10198: b'er E', 10199: b' gar', 10200: b'ers?', 10201: b'isch', 10202: b'dir', 10203: b'Stri', 10204: b'gnit', 10205: b't;\\nT', 10206: b'step', 10207: b'Sal', 10208: b'sail', 10209: b' Her', 10210: b'n A', 10211: b'sday', 10212: b'Fell', 10213: b'oar', 10214: b'tre ', 10215: b' shr', 10216: b'Sur', 10217: b'.\\nSe', 10218: b':\\n\\nA', 10219: b'ep, ', 10220: b'.\\nNo', 10221: b', bi', 10222: b'ams ', 10223: b'ch!', 10224: b'aver', 10225: b', im', 10226: b'spas', 10227: b'agre', 10228: b' pal', 10229: b'in M', 10230: b'ct,\\n', 10231: b'ate!', 10232: b'k l', 10233: b'erso', 10234: b'ulch', 10235: b'r fl', 10236: b'Sup'}\n"
          ]
        }
      ]
    },
    {
      "cell_type": "code",
      "source": [
        "#import pickle\n",
        "with open(\"my_vocab.json\", \"w\") as f:\n",
        "  f.write(repr(vocab))"
      ],
      "metadata": {
        "id": "OKU7HcPmLWGW"
      },
      "id": "OKU7HcPmLWGW",
      "execution_count": 160,
      "outputs": []
    },
    {
      "cell_type": "code",
      "source": [
        "with open(\"my_merges.json\", \"w\") as f:\n",
        "  f.write(repr(merges))"
      ],
      "metadata": {
        "id": "aIK8nO8jW7ps"
      },
      "id": "aIK8nO8jW7ps",
      "execution_count": 165,
      "outputs": []
    },
    {
      "cell_type": "code",
      "source": [
        "import ast\n",
        "\n",
        "with open(\"my_vocab.json\", \"r\") as f:\n",
        "  input = f.read()\n",
        "my_vocab = ast.literal_eval(input)"
      ],
      "metadata": {
        "id": "m7i_I9SKOPiP"
      },
      "id": "m7i_I9SKOPiP",
      "execution_count": 161,
      "outputs": []
    },
    {
      "cell_type": "code",
      "source": [
        "sorted_vocab = dict(sorted(my_vocab.items(), key=lambda item: len(item[1]), reverse=True))\n",
        "sorted_vocab"
      ],
      "metadata": {
        "colab": {
          "base_uri": "https://localhost:8080/"
        },
        "id": "8Hq3cAsYOj_v",
        "outputId": "de64b831-a30d-405a-a139-4d1b4396d3e6"
      },
      "id": "8Hq3cAsYOj_v",
      "execution_count": 164,
      "outputs": [
        {
          "output_type": "execute_result",
          "data": {
            "text/plain": [
              "{1584: b' the',\n",
              " 1585: b'hat ',\n",
              " 1587: b'and ',\n",
              " 1589: b'e th',\n",
              " 1593: b'his ',\n",
              " 1594: b'our ',\n",
              " 1595: b' tha',\n",
              " 1596: b'ther',\n",
              " 1597: b'not ',\n",
              " 1598: b' you',\n",
              " 1601: b' to ',\n",
              " 1605: b', an',\n",
              " 1608: b'with',\n",
              " 1616: b'IO:\\n',\n",
              " 1617: b'ave ',\n",
              " 1618: b' thi',\n",
              " 1625: b'And ',\n",
              " 1627: b'US:\\n',\n",
              " 1628: b'hall',\n",
              " 1635: b'ore ',\n",
              " 1636: b' hav',\n",
              " 1638: b' my ',\n",
              " 1645: b'in t',\n",
              " 1648: b'here',\n",
              " 1649: b'ome ',\n",
              " 1655: b'e to',\n",
              " 1656: b' be ',\n",
              " 1657: b'the ',\n",
              " 1660: b',\\nAn',\n",
              " 1661: b' him',\n",
              " 1665: b'll t',\n",
              " 1667: b'nd t',\n",
              " 1677: b'ere ',\n",
              " 1680: b'hear',\n",
              " 1692: b'ood ',\n",
              " 1693: b'or t',\n",
              " 1695: b'e an',\n",
              " 1697: b'e of',\n",
              " 1702: b'th t',\n",
              " 1703: b'ake ',\n",
              " 1705: b'ough',\n",
              " 1706: b'is t',\n",
              " 1707: b'of t',\n",
              " 1708: b'st t',\n",
              " 1711: b'e ha',\n",
              " 1717: b' sha',\n",
              " 1718: b'are ',\n",
              " 1725: b'e in',\n",
              " 1726: b'e no',\n",
              " 1734: b'The ',\n",
              " 1737: b'e he',\n",
              " 1738: b'ght ',\n",
              " 1740: b'e wi',\n",
              " 1742: b'will',\n",
              " 1753: b'self',\n",
              " 1754: b'hich',\n",
              " 1755: b'ou a',\n",
              " 1756: b' he ',\n",
              " 1757: b's an',\n",
              " 1760: b'er t',\n",
              " 1761: b's of',\n",
              " 1763: b'er, ',\n",
              " 1764: b'but ',\n",
              " 1767: b'one ',\n",
              " 1768: b':\\nTh',\n",
              " 1770: b'll b',\n",
              " 1771: b'ou s',\n",
              " 1774: b'e hi',\n",
              " 1776: b's no',\n",
              " 1779: b' all',\n",
              " 1781: b'ing ',\n",
              " 1783: b'me, ',\n",
              " 1785: b'thin',\n",
              " 1795: b' for',\n",
              " 1797: b'from',\n",
              " 1799: b'ust ',\n",
              " 1800: b'd wi',\n",
              " 1801: b'ive ',\n",
              " 1802: b'est ',\n",
              " 1803: b'hen ',\n",
              " 1804: b'But ',\n",
              " 1806: b'ess ',\n",
              " 1810: b't no',\n",
              " 1811: b'ous ',\n",
              " 1823: b't of',\n",
              " 1824: b'for ',\n",
              " 1829: b' me ',\n",
              " 1832: b'her ',\n",
              " 1836: b'ble ',\n",
              " 1842: b'ou h',\n",
              " 1844: b'ine ',\n",
              " 1846: b'eath',\n",
              " 1847: b'd no',\n",
              " 1852: b'd in',\n",
              " 1857: b'on t',\n",
              " 1858: b'ent ',\n",
              " 1860: b'ou, ',\n",
              " 1861: b'ou w',\n",
              " 1862: b'well',\n",
              " 1864: b'ster',\n",
              " 1868: b't.\\n\\n',\n",
              " 1869: b'th a',\n",
              " 1870: b'ou t',\n",
              " 1878: b'ET:\\n',\n",
              " 1881: b' man',\n",
              " 1882: b'ever',\n",
              " 1883: b'e.\\n\\n',\n",
              " 1896: b' wha',\n",
              " 1897: b'ay, ',\n",
              " 1900: b\"I'll\",\n",
              " 1902: b' it ',\n",
              " 1906: b'fath',\n",
              " 1907: b' thy',\n",
              " 1908: b't in',\n",
              " 1912: b's in',\n",
              " 1915: b'e st',\n",
              " 1918: b't hi',\n",
              " 1920: b't wi',\n",
              " 1921: b'e be',\n",
              " 1923: b'roth',\n",
              " 1924: b'ord ',\n",
              " 1928: b' and',\n",
              " 1929: b'd hi',\n",
              " 1931: b'\\nTha',\n",
              " 1934: b'RICH',\n",
              " 1935: b'e re',\n",
              " 1937: b'll, ',\n",
              " 1939: b'll s',\n",
              " 1940: b'llow',\n",
              " 1941: b'll m',\n",
              " 1945: b'\\n\\nDU',\n",
              " 1946: b'DUKE',\n",
              " 1953: b' as ',\n",
              " 1958: b' wou',\n",
              " 1959: b', no',\n",
              " 1963: b'hee ',\n",
              " 1972: b'ut t',\n",
              " 1975: b'CHAR',\n",
              " 1976: b'd an',\n",
              " 1980: b's he',\n",
              " 1981: b'ir, ',\n",
              " 1982: b'ER:\\n',\n",
              " 1986: b'out ',\n",
              " 1987: b's wi',\n",
              " 1990: b',\\nTh',\n",
              " 1993: b'd.\\n\\n',\n",
              " 1994: b'orth',\n",
              " 1997: b'was ',\n",
              " 2004: b'hath',\n",
              " 2005: b'nder',\n",
              " 2009: b'onou',\n",
              " 2012: b' we ',\n",
              " 2014: b'come',\n",
              " 2016: b'y he',\n",
              " 2019: b't an',\n",
              " 2021: b' wor',\n",
              " 2025: b't ha',\n",
              " 2032: b'll h',\n",
              " 2034: b'ound',\n",
              " 2035: b's.\\n\\n',\n",
              " 2051: b'th m',\n",
              " 2052: b'ce, ',\n",
              " 2053: b'thou',\n",
              " 2057: b'ou m',\n",
              " 2058: b' can',\n",
              " 2061: b'es, ',\n",
              " 2062: b' min',\n",
              " 2063: b'ower',\n",
              " 2067: b'ame ',\n",
              " 2068: b'er:\\n',\n",
              " 2069: b'd he',\n",
              " 2073: b'th h',\n",
              " 2074: b'ure ',\n",
              " 2075: b'ard ',\n",
              " 2076: b'ING ',\n",
              " 2077: b'G RI',\n",
              " 2083: b'es t',\n",
              " 2086: b'to t',\n",
              " 2089: b'LO:\\n',\n",
              " 2092: b'ers ',\n",
              " 2093: b'in a',\n",
              " 2094: b'tle ',\n",
              " 2096: b'LOUC',\n",
              " 2097: b'UCES',\n",
              " 2099: b'an t',\n",
              " 2102: b' mak',\n",
              " 2103: b'of m',\n",
              " 2106: b're, ',\n",
              " 2111: b'd of',\n",
              " 2113: b't he',\n",
              " 2119: b'ear ',\n",
              " 2120: b'th s',\n",
              " 2121: b'e ma',\n",
              " 2122: b':\\nNo',\n",
              " 2124: b'll a',\n",
              " 2125: b' is ',\n",
              " 2126: b':\\nAn',\n",
              " 2128: b'ast ',\n",
              " 2129: b' tak',\n",
              " 2130: b'er w',\n",
              " 2132: b'ou d',\n",
              " 2133: b'end ',\n",
              " 2138: b'er s',\n",
              " 2139: b'ate ',\n",
              " 2141: b' of ',\n",
              " 2142: b'UEEN',\n",
              " 2145: b'Thou',\n",
              " 2146: b'ond ',\n",
              " 2147: b'heav',\n",
              " 2159: b'love',\n",
              " 2160: b', in',\n",
              " 2161: b'ould',\n",
              " 2167: b'old ',\n",
              " 2170: b\"t's \",\n",
              " 2172: b' mor',\n",
              " 2176: b'ted ',\n",
              " 2179: b':\\nWh',\n",
              " 2180: b'ay t',\n",
              " 2181: b'\\nTo ',\n",
              " 2183: b'as t',\n",
              " 2185: b'let ',\n",
              " 2187: b', wi',\n",
              " 2189: b'in m',\n",
              " 2190: b'she ',\n",
              " 2191: b' say',\n",
              " 2195: b'use ',\n",
              " 2197: b'on, ',\n",
              " 2198: b' whe',\n",
              " 2199: b'nd, ',\n",
              " 2202: b' com',\n",
              " 2203: b'ence',\n",
              " 2204: b'heir',\n",
              " 2206: b'ENRY',\n",
              " 2208: b'ount',\n",
              " 2210: b'by t',\n",
              " 2211: b'or a',\n",
              " 2214: b'y li',\n",
              " 2215: b'om t',\n",
              " 2217: b't be',\n",
              " 2218: b'or m',\n",
              " 2220: b'urse',\n",
              " 2223: b'nigh',\n",
              " 2227: b'anno',\n",
              " 2228: b'ves ',\n",
              " 2229: b'ch a',\n",
              " 2231: b'KE V',\n",
              " 2232: b' VIN',\n",
              " 2234: b' han',\n",
              " 2235: b'ant ',\n",
              " 2236: b'ords',\n",
              " 2237: b'e ar',\n",
              " 2238: b'th, ',\n",
              " 2239: b'upon',\n",
              " 2243: b'ES:\\n',\n",
              " 2244: b'nobl',\n",
              " 2245: b'd ha',\n",
              " 2246: b', bu',\n",
              " 2247: b'er,\\n',\n",
              " 2248: b'es,\\n',\n",
              " 2254: b'gain',\n",
              " 2255: b' tru',\n",
              " 2258: b's ar',\n",
              " 2260: b'e on',\n",
              " 2261: b'tion',\n",
              " 2262: b'on m',\n",
              " 2267: b'For ',\n",
              " 2270: b'o he',\n",
              " 2272: b', if',\n",
              " 2273: b'lood',\n",
              " 2274: b'e li',\n",
              " 2280: b'en t',\n",
              " 2281: b' too',\n",
              " 2285: b' mus',\n",
              " 2287: b'eet ',\n",
              " 2288: b'in h',\n",
              " 2289: b'ery ',\n",
              " 2290: b'stan',\n",
              " 2291: b'ance',\n",
              " 2292: b'ed t',\n",
              " 2294: b', he',\n",
              " 2296: b'\\nAnd',\n",
              " 2299: b'y fa',\n",
              " 2300: b'look',\n",
              " 2301: b'ar t',\n",
              " 2302: b\"'d t\",\n",
              " 2304: b'an:\\n',\n",
              " 2305: b's hi',\n",
              " 2308: b'or s',\n",
              " 2309: b'y.\\n\\n',\n",
              " 2314: b'st, ',\n",
              " 2315: b'ind ',\n",
              " 2316: b'of h',\n",
              " 2318: b' sou',\n",
              " 2319: b'of a',\n",
              " 2320: b't is',\n",
              " 2325: b'shou',\n",
              " 2326: b'e me',\n",
              " 2327: b'ce,\\n',\n",
              " 2328: b'tis ',\n",
              " 2329: b't st',\n",
              " 2330: b'er a',\n",
              " 2332: b'inst',\n",
              " 2339: b'ou c',\n",
              " 2341: b'own ',\n",
              " 2342: b'or h',\n",
              " 2343: b'did ',\n",
              " 2347: b\"'s t\",\n",
              " 2348: b'dwar',\n",
              " 2352: b'ENEN',\n",
              " 2355: b'ost ',\n",
              " 2356: b'righ',\n",
              " 2357: b'll w',\n",
              " 2358: b'\\n\\nRO',\n",
              " 2359: b'ROME',\n",
              " 2361: b's ha',\n",
              " 2364: b't on',\n",
              " 2365: b'r he',\n",
              " 2366: b'reat',\n",
              " 2368: b'e wa',\n",
              " 2371: b'noth',\n",
              " 2372: b'e, t',\n",
              " 2375: b' do ',\n",
              " 2377: b'\\n\\nCA',\n",
              " 2381: b', le',\n",
              " 2384: b'ou b',\n",
              " 2389: b' whi',\n",
              " 2390: b'aven',\n",
              " 2393: b'econ',\n",
              " 2394: b'hey ',\n",
              " 2396: b'Come',\n",
              " 2397: b'll y',\n",
              " 2398: b'\\nAs ',\n",
              " 2403: b'ld t',\n",
              " 2405: b'nce ',\n",
              " 2406: b',\\nTo',\n",
              " 2412: b's li',\n",
              " 2413: b'e se',\n",
              " 2416: b'Rome',\n",
              " 2419: b'read',\n",
              " 2420: b'e so',\n",
              " 2421: b' wer',\n",
              " 2422: b'no m',\n",
              " 2423: b'or w',\n",
              " 2424: b'er o',\n",
              " 2429: b'art ',\n",
              " 2430: b'll p',\n",
              " 2431: b'of y',\n",
              " 2432: b'er m',\n",
              " 2434: b'ow, ',\n",
              " 2435: b'ORIO',\n",
              " 2437: b'ANUS',\n",
              " 2438: b'God ',\n",
              " 2448: b'mes ',\n",
              " 2449: b't ma',\n",
              " 2451: b'prin',\n",
              " 2454: b'n of',\n",
              " 2456: b'y, t',\n",
              " 2458: b'll f',\n",
              " 2459: b' dea',\n",
              " 2462: b'than',\n",
              " 2464: b'an a',\n",
              " 2465: b'd be',\n",
              " 2466: b' hon',\n",
              " 2468: b'll d',\n",
              " 2470: b'y of',\n",
              " 2472: b'en, ',\n",
              " 2473: b'er h',\n",
              " 2474: b'yet ',\n",
              " 2476: b' EDW',\n",
              " 2477: b'DWAR',\n",
              " 2478: b'itiz',\n",
              " 2479: b'izen',\n",
              " 2483: b'ved ',\n",
              " 2484: b'arth',\n",
              " 2487: b'e is',\n",
              " 2488: b'call',\n",
              " 2489: b' see',\n",
              " 2494: b'ise ',\n",
              " 2495: b' who',\n",
              " 2497: b', be',\n",
              " 2498: b', ho',\n",
              " 2499: b'spea',\n",
              " 2500: b'head',\n",
              " 2505: b'y no',\n",
              " 2506: b'ove ',\n",
              " 2509: b'g.\\n\\n',\n",
              " 2510: b'en a',\n",
              " 2511: b'CE:\\n',\n",
              " 2512: b'ueen',\n",
              " 2513: b' III',\n",
              " 2514: b'II:\\n',\n",
              " 2515: b'ars ',\n",
              " 2518: b's be',\n",
              " 2520: b', ha',\n",
              " 2522: b'at t',\n",
              " 2523: b'th,\\n',\n",
              " 2525: b'fore',\n",
              " 2527: b'ch t',\n",
              " 2531: b'y in',\n",
              " 2533: b'my s',\n",
              " 2534: b' con',\n",
              " 2535: b'red ',\n",
              " 2536: b'd by',\n",
              " 2540: b'oman',\n",
              " 2544: b'doth',\n",
              " 2545: b'arwi',\n",
              " 2546: b'th b',\n",
              " 2547: b'plea',\n",
              " 2548: b'ours',\n",
              " 2549: b'e lo',\n",
              " 2551: b'sed ',\n",
              " 2552: b'e sh',\n",
              " 2553: b'hild',\n",
              " 2554: b'ven ',\n",
              " 2556: b'wick',\n",
              " 2558: b't ou',\n",
              " 2561: b':\\nAy',\n",
              " 2562: b'Ay, ',\n",
              " 2563: b'\\nWhi',\n",
              " 2564: b'arri',\n",
              " 2568: b'rest',\n",
              " 2570: b've, ',\n",
              " 2572: b'e ne',\n",
              " 2573: b'o no',\n",
              " 2575: b' YOR',\n",
              " 2578: b'e fr',\n",
              " 2580: b't li',\n",
              " 2583: b' so ',\n",
              " 2584: b'ABEL',\n",
              " 2585: b'ELLA',\n",
              " 2586: b'LA:\\n',\n",
              " 2589: b'er f',\n",
              " 2591: b' a s',\n",
              " 2592: b'tain',\n",
              " 2594: b' at ',\n",
              " 2601: b'ing.',\n",
              " 2602: b'on a',\n",
              " 2603: b'atch',\n",
              " 2604: b' hou',\n",
              " 2605: b'd, t',\n",
              " 2608: b's re',\n",
              " 2609: b'e di',\n",
              " 2610: b'e mo',\n",
              " 2611: b'er b',\n",
              " 2612: b' som',\n",
              " 2613: b', fo',\n",
              " 2615: b'to m',\n",
              " 2618: b'crow',\n",
              " 2619: b'd ma',\n",
              " 2620: b'e en',\n",
              " 2622: b'air ',\n",
              " 2624: b'LIET',\n",
              " 2625: b'\\n\\nLE',\n",
              " 2627: b'NTES',\n",
              " 2628: b'ines',\n",
              " 2634: b'et t',\n",
              " 2635: b'oung',\n",
              " 2636: b's, t',\n",
              " 2638: b'it t',\n",
              " 2640: b'bein',\n",
              " 2642: b'ison',\n",
              " 2644: b'll o',\n",
              " 2646: b' tim',\n",
              " 2648: b's fa',\n",
              " 2649: b'th w',\n",
              " 2650: b'ENCE',\n",
              " 2655: b'fter',\n",
              " 2656: b' I w',\n",
              " 2658: b'\\n\\nIS',\n",
              " 2659: b'ISAB',\n",
              " 2660: b'had ',\n",
              " 2661: b'ike ',\n",
              " 2662: b'Well',\n",
              " 2664: b'chan',\n",
              " 2667: b':\\nBu',\n",
              " 2668: b'over',\n",
              " 2669: b'in, ',\n",
              " 2670: b'd st',\n",
              " 2672: b'\\n\\nJU',\n",
              " 2673: b'JULI',\n",
              " 2675: b', ma',\n",
              " 2677: b'may ',\n",
              " 2678: b'o re',\n",
              " 2679: b'reas',\n",
              " 2681: b'ands',\n",
              " 2683: b'e de',\n",
              " 2684: b'e fo',\n",
              " 2685: b'ou l',\n",
              " 2687: b'\\nThe',\n",
              " 2689: b'lain',\n",
              " 2690: b'le, ',\n",
              " 2692: b'e my',\n",
              " 2693: b'on,\\n',\n",
              " 2694: b' war',\n",
              " 2696: b'ICIN',\n",
              " 2699: b'll I',\n",
              " 2700: b'entl',\n",
              " 2701: b'\\n\\nLA',\n",
              " 2702: b'th y',\n",
              " 2705: b'With',\n",
              " 2706: b'of s',\n",
              " 2707: b'e ou',\n",
              " 2708: b'th o',\n",
              " 2710: b' thr',\n",
              " 2711: b'e do',\n",
              " 2714: b' son',\n",
              " 2718: b' pra',\n",
              " 2721: b'arin',\n",
              " 2725: b\"hat'\",\n",
              " 2726: b's st',\n",
              " 2729: b't re',\n",
              " 2730: b'e ho',\n",
              " 2732: b'en:\\n',\n",
              " 2733: b' kno',\n",
              " 2735: b'e su',\n",
              " 2736: b'ice ',\n",
              " 2737: b'e pr',\n",
              " 2738: b'thy ',\n",
              " 2742: b'e co',\n",
              " 2744: b's ma',\n",
              " 2746: b' a m',\n",
              " 2747: b't so',\n",
              " 2750: b\"d's \",\n",
              " 2755: b't sh',\n",
              " 2758: b'f he',\n",
              " 2766: b'st,\\n',\n",
              " 2767: b'in s',\n",
              " 2768: b'ou f',\n",
              " 2769: b'\\n\\nAU',\n",
              " 2770: b'n in',\n",
              " 2771: b'tter',\n",
              " 2772: b'rief',\n",
              " 2773: b'fear',\n",
              " 2775: b'life',\n",
              " 2777: b'll c',\n",
              " 2778: b'\\nWhe',\n",
              " 2779: b'Tis ',\n",
              " 2781: b'UCIO',\n",
              " 2783: b'ut, ',\n",
              " 2786: b' how',\n",
              " 2787: b' dis',\n",
              " 2790: b' ton',\n",
              " 2791: b'icha',\n",
              " 2798: b'e it',\n",
              " 2799: b'e fa',\n",
              " 2802: b' mar',\n",
              " 2803: b' cou',\n",
              " 2806: b'se:\\n',\n",
              " 2807: b'e sp',\n",
              " 2811: b'No, ',\n",
              " 2812: b'ed, ',\n",
              " 2813: b'an, ',\n",
              " 2814: b'on h',\n",
              " 2816: b'orld',\n",
              " 2820: b'fair',\n",
              " 2822: b'ime ',\n",
              " 2826: b'race',\n",
              " 2827: b'd so',\n",
              " 2828: b't me',\n",
              " 2833: b'ch y',\n",
              " 2835: b'live',\n",
              " 2837: b'ow t',\n",
              " 2839: b't lo',\n",
              " 2840: b'y lo',\n",
              " 2843: b'ligh',\n",
              " 2844: b' tho',\n",
              " 2847: b'e ti',\n",
              " 2850: b'it, ',\n",
              " 2852: b'ittl',\n",
              " 2854: b're,\\n',\n",
              " 2856: b'ouse',\n",
              " 2862: b'ciou',\n",
              " 2863: b'EN E',\n",
              " 2864: b' ELI',\n",
              " 2867: b'ABET',\n",
              " 2870: b' mis',\n",
              " 2871: b' aga',\n",
              " 2875: b'ly t',\n",
              " 2876: b'ree ',\n",
              " 2880: b'bear',\n",
              " 2881: b' goo',\n",
              " 2882: b'hy s',\n",
              " 2885: b'se, ',\n",
              " 2888: b'ies ',\n",
              " 2889: b'swee',\n",
              " 2891: b'anis',\n",
              " 2892: b'any ',\n",
              " 2893: b',\\nWi',\n",
              " 2895: b's fo',\n",
              " 2896: b':\\nWe',\n",
              " 2898: b'--\\n\\n',\n",
              " 2901: b'r no',\n",
              " 2902: b' ser',\n",
              " 2903: b', my',\n",
              " 2904: b't my',\n",
              " 2905: b'now ',\n",
              " 2906: b'is, ',\n",
              " 2907: b' but',\n",
              " 2908: b\"'st \",\n",
              " 2910: b'eech',\n",
              " 2912: b'rewe',\n",
              " 2915: b'efor',\n",
              " 2916: b'oor ',\n",
              " 2919: b'if t',\n",
              " 2920: b'll g',\n",
              " 2921: b'.\\nTh',\n",
              " 2925: b'd up',\n",
              " 2927: b'ar m',\n",
              " 2929: b'r in',\n",
              " 2930: b\", I'\",\n",
              " 2931: b'ade ',\n",
              " 2933: b'r of',\n",
              " 2935: b'ings',\n",
              " 2936: b' tre',\n",
              " 2937: b'both',\n",
              " 2939: b'e bu',\n",
              " 2940: b', by',\n",
              " 2943: b' lov',\n",
              " 2944: b',\\nBu',\n",
              " 2950: b'e ca',\n",
              " 2951: b' may',\n",
              " 2954: b'mber',\n",
              " 2957: b'st:\\n',\n",
              " 2965: b' HEN',\n",
              " 2966: b'RY V',\n",
              " 2968: b'd re',\n",
              " 2972: b'fell',\n",
              " 2973: b'pon ',\n",
              " 2977: b'thee',\n",
              " 2981: b'ort ',\n",
              " 2984: b't ne',\n",
              " 2985: b' thu',\n",
              " 2987: b'rue ',\n",
              " 2988: b'caus',\n",
              " 2990: b'd on',\n",
              " 2992: b'me,\\n',\n",
              " 2998: b'Let ',\n",
              " 2999: b'd me',\n",
              " 3000: b'en s',\n",
              " 3008: b'stin',\n",
              " 3012: b'KE O',\n",
              " 3013: b'ULET',\n",
              " 3014: b'ou k',\n",
              " 3016: b' mad',\n",
              " 3017: b'Not ',\n",
              " 3019: b' win',\n",
              " 3021: b't do',\n",
              " 3022: b'outh',\n",
              " 3025: b'His ',\n",
              " 3027: b'orse',\n",
              " 3028: b'full',\n",
              " 3029: b'rovo',\n",
              " 3032: b' pro',\n",
              " 3034: b've,\\n',\n",
              " 3035: b'e up',\n",
              " 3037: b'arry',\n",
              " 3042: b'ry, ',\n",
              " 3043: b'e du',\n",
              " 3044: b's on',\n",
              " 3046: b' I s',\n",
              " 3050: b' sin',\n",
              " 3051: b' a p',\n",
              " 3052: b'er d',\n",
              " 3053: b'leep',\n",
              " 3055: b'ire ',\n",
              " 3056: b'ray ',\n",
              " 3057: b'inte',\n",
              " 3058: b'itor',\n",
              " 3059: b'erin',\n",
              " 3061: b'd fo',\n",
              " 3062: b'e la',\n",
              " 3066: b't se',\n",
              " 3072: b'wear',\n",
              " 3074: b'd li',\n",
              " 3078: b'KE:\\n',\n",
              " 3079: b'ays ',\n",
              " 3080: b'nds ',\n",
              " 3082: b'ch o',\n",
              " 3083: b'kes ',\n",
              " 3084: b'ons ',\n",
              " 3085: b'ion ',\n",
              " 3088: b'ress',\n",
              " 3091: b' tra',\n",
              " 3092: b'e we',\n",
              " 3093: b' a w',\n",
              " 3095: b'RY B',\n",
              " 3096: b' BOL',\n",
              " 3097: b'OLIN',\n",
              " 3098: b'INGB',\n",
              " 3099: b'GBRO',\n",
              " 3100: b'ROKE',\n",
              " 3101: b'ANIO',\n",
              " 3104: b'hith',\n",
              " 3106: b' tri',\n",
              " 3110: b'ince',\n",
              " 3113: b'name',\n",
              " 3115: b'e un',\n",
              " 3116: b' has',\n",
              " 3119: b'd se',\n",
              " 3120: b'ar, ',\n",
              " 3121: b'ator',\n",
              " 3123: b'reme',\n",
              " 3124: b'ord.',\n",
              " 3125: b'\\nWha',\n",
              " 3127: b'in w',\n",
              " 3129: b's ne',\n",
              " 3130: b'ds, ',\n",
              " 3132: b'hard',\n",
              " 3133: b' an ',\n",
              " 3136: b' MAR',\n",
              " 3140: b'eace',\n",
              " 3143: b'\\n\\nTR',\n",
              " 3144: b'TRAN',\n",
              " 3145: b'kill',\n",
              " 3146: b'th d',\n",
              " 3147: b't wa',\n",
              " 3148: b's lo',\n",
              " 3149: b' sho',\n",
              " 3150: b'erve',\n",
              " 3154: b'led ',\n",
              " 3156: b':\\nGo',\n",
              " 3158: b':\\nIf',\n",
              " 3160: b'th c',\n",
              " 3161: b' his',\n",
              " 3163: b'm.\\n\\n',\n",
              " 3170: b'gue ',\n",
              " 3172: b'om m',\n",
              " 3174: b' blo',\n",
              " 3175: b'ch w',\n",
              " 3176: b'or:\\n',\n",
              " 3178: b'erer',\n",
              " 3181: b'NE:\\n',\n",
              " 3182: b'EN M',\n",
              " 3184: b'ARET',\n",
              " 3186: b'vost',\n",
              " 3188: b'y re',\n",
              " 3193: b'les ',\n",
              " 3194: b'ch s',\n",
              " 3195: b'in p',\n",
              " 3196: b' am ',\n",
              " 3197: b'raci',\n",
              " 3198: b', li',\n",
              " 3200: b'e pe',\n",
              " 3201: b'away',\n",
              " 3202: b'ces ',\n",
              " 3203: b' bre',\n",
              " 3204: b's we',\n",
              " 3205: b'an s',\n",
              " 3206: b'pose',\n",
              " 3209: b'ater',\n",
              " 3211: b'eyes',\n",
              " 3212: b'ly s',\n",
              " 3214: b'r lo',\n",
              " 3216: b'fall',\n",
              " 3217: b'ged ',\n",
              " 3221: b'lare',\n",
              " 3222: b'\\n\\nRI',\n",
              " 3223: b'rath',\n",
              " 3228: b'r fa',\n",
              " 3230: b'foll',\n",
              " 3232: b'ason',\n",
              " 3234: b' I h',\n",
              " 3236: b'to s',\n",
              " 3239: b'help',\n",
              " 3243: b' sen',\n",
              " 3244: b'enti',\n",
              " 3245: b'nor ',\n",
              " 3248: b'd le',\n",
              " 3250: b'henc',\n",
              " 3251: b\":\\nI'\",\n",
              " 3252: b' men',\n",
              " 3253: b'to b',\n",
              " 3256: b'unto',\n",
              " 3260: b'EL:\\n',\n",
              " 3261: b'ARIN',\n",
              " 3262: b'arci',\n",
              " 3263: b'im, ',\n",
              " 3264: b'in y',\n",
              " 3265: b't up',\n",
              " 3267: b'ongu',\n",
              " 3268: b's ou',\n",
              " 3269: b'if y',\n",
              " 3271: b'ates',\n",
              " 3272: b'esee',\n",
              " 3274: b'erta',\n",
              " 3277: b'ose ',\n",
              " 3279: b'ful ',\n",
              " 3281: b'THAR',\n",
              " 3282: b'f ou',\n",
              " 3285: b' a t',\n",
              " 3288: b'owar',\n",
              " 3290: b'y be',\n",
              " 3291: b'much',\n",
              " 3294: b' was',\n",
              " 3295: b' hus',\n",
              " 3300: b'face',\n",
              " 3301: b' nev',\n",
              " 3302: b';\\nBu',\n",
              " 3303: b'my m',\n",
              " 3304: b' to-',\n",
              " 3305: b'd my',\n",
              " 3306: b's my',\n",
              " 3307: b'd lo',\n",
              " 3308: b' I a',\n",
              " 3309: b'by m',\n",
              " 3310: b'ngel',\n",
              " 3312: b'o do',\n",
              " 3313: b'lack',\n",
              " 3316: b'ite ',\n",
              " 3317: b' mos',\n",
              " 3319: b's fr',\n",
              " 3320: b'r li',\n",
              " 3323: b' a c',\n",
              " 3325: b'aith',\n",
              " 3326: b'ck, ',\n",
              " 3330: b' tal',\n",
              " 3333: b's so',\n",
              " 3335: b'se,\\n',\n",
              " 3336: b'\\nIs ',\n",
              " 3338: b'eed ',\n",
              " 3339: b'e le',\n",
              " 3340: b'er c',\n",
              " 3341: b'le,\\n',\n",
              " 3342: b'us, ',\n",
              " 3346: b' a b',\n",
              " 3352: b'rait',\n",
              " 3353: b'\\n\\nES',\n",
              " 3354: b'ESCA',\n",
              " 3357: b'\\n\\nKA',\n",
              " 3358: b'KATH',\n",
              " 3360: b'on w',\n",
              " 3361: b'e tr',\n",
              " 3362: b'hus ',\n",
              " 3363: b'gh t',\n",
              " 3364: b'int ',\n",
              " 3366: b'er l',\n",
              " 3367: b's is',\n",
              " 3368: b'been',\n",
              " 3370: b' wom',\n",
              " 3371: b'myse',\n",
              " 3373: b'en,\\n',\n",
              " 3374: b'llin',\n",
              " 3375: b';\\nFo',\n",
              " 3379: b'till',\n",
              " 3380: b'or, ',\n",
              " 3381: b'in,\\n',\n",
              " 3382: b'm no',\n",
              " 3386: b'e ag',\n",
              " 3389: b'rave',\n",
              " 3390: b'pris',\n",
              " 3391: b'uke ',\n",
              " 3393: b'migh',\n",
              " 3394: b's mo',\n",
              " 3395: b':\\nCo',\n",
              " 3396: b'ones',\n",
              " 3397: b'usin',\n",
              " 3398: b'enat',\n",
              " 3402: b'ity ',\n",
              " 3403: b'ee, ',\n",
              " 3406: b'n.\\n\\n',\n",
              " 3407: b't ho',\n",
              " 3408: b'east',\n",
              " 3412: b't?\\n\\n',\n",
              " 3414: b'rain',\n",
              " 3416: b'iver',\n",
              " 3418: b'such',\n",
              " 3419: b't, t',\n",
              " 3421: b'e fi',\n",
              " 3423: b'omes',\n",
              " 3424: b'd ou',\n",
              " 3427: b'd?\\n\\n',\n",
              " 3432: b'ream',\n",
              " 3433: b'vill',\n",
              " 3438: b'ay w',\n",
              " 3440: b'us t',\n",
              " 3441: b'atur',\n",
              " 3442: b'ou g',\n",
              " 3444: b'eser',\n",
              " 3446: b'year',\n",
              " 3447: b', st',\n",
              " 3451: b'herd',\n",
              " 3452: b'aid ',\n",
              " 3453: b'n he',\n",
              " 3454: b' sor',\n",
              " 3456: b'anca',\n",
              " 3459: b'er y',\n",
              " 3461: b'th f',\n",
              " 3464: b\"'d,\\n\",\n",
              " 3465: b'Yet ',\n",
              " 3466: b'lace',\n",
              " 3471: b\"'d, \",\n",
              " 3472: b'swor',\n",
              " 3474: b', or',\n",
              " 3476: b'im t',\n",
              " 3478: b'ld, ',\n",
              " 3480: b'CAMI',\n",
              " 3482: b'k.\\n\\n',\n",
              " 3483: b'irst',\n",
              " 3485: b't fo',\n",
              " 3486: b'g in',\n",
              " 3487: b' lik',\n",
              " 3488: b'them',\n",
              " 3489: b'ease',\n",
              " 3492: b'just',\n",
              " 3493: b'res ',\n",
              " 3495: b'reak',\n",
              " 3499: b' a d',\n",
              " 3500: b'hold',\n",
              " 3501: b'd fr',\n",
              " 3502: b'bett',\n",
              " 3503: b'one.',\n",
              " 3504: b' a l',\n",
              " 3505: b'mean',\n",
              " 3506: b'uch ',\n",
              " 3507: b' des',\n",
              " 3508: b' a f',\n",
              " 3509: b'hast',\n",
              " 3514: b'ch, ',\n",
              " 3518: b's it',\n",
              " 3519: b'o li',\n",
              " 3521: b'an m',\n",
              " 3522: b' sti',\n",
              " 3525: b'She ',\n",
              " 3526: b' tur',\n",
              " 3527: b'erou',\n",
              " 3529: b' mer',\n",
              " 3530: b'e ey',\n",
              " 3532: b'enry',\n",
              " 3533: b'ffor',\n",
              " 3537: b'ople',\n",
              " 3538: b'ou p',\n",
              " 3539: b'ly, ',\n",
              " 3540: b'ay a',\n",
              " 3541: b'ir s',\n",
              " 3542: b'of w',\n",
              " 3543: b'ener',\n",
              " 3544: b'in b',\n",
              " 3545: b'omin',\n",
              " 3548: b'sure',\n",
              " 3550: b'ple ',\n",
              " 3552: b'een ',\n",
              " 3553: b' art',\n",
              " 3555: b'r.\\n\\n',\n",
              " 3556: b' me.',\n",
              " 3558: b':\\nI ',\n",
              " 3559: b'an w',\n",
              " 3560: b' she',\n",
              " 3562: b'fe, ',\n",
              " 3563: b'RIAR',\n",
              " 3565: b'peop',\n",
              " 3568: b'stat',\n",
              " 3572: b'say ',\n",
              " 3573: b'ch m',\n",
              " 3575: b'ch h',\n",
              " 3576: b'ead ',\n",
              " 3578: b' bet',\n",
              " 3579: b', hi',\n",
              " 3583: b'ds,\\n',\n",
              " 3584: b', as',\n",
              " 3585: b'jest',\n",
              " 3588: b'APTI',\n",
              " 3589: b'TIST',\n",
              " 3592: b'its ',\n",
              " 3593: b\"o' t\",\n",
              " 3597: b' par',\n",
              " 3598: b'th p',\n",
              " 3599: b'OMIN',\n",
              " 3604: b'hame',\n",
              " 3611: b'e ow',\n",
              " 3616: b'OLYC',\n",
              " 3617: b'YCUS',\n",
              " 3621: b't sp',\n",
              " 3623: b'enou',\n",
              " 3624: b' arm',\n",
              " 3626: b't ar',\n",
              " 3627: b's me',\n",
              " 3635: b' bes',\n",
              " 3638: b'an h',\n",
              " 3641: b'd fa',\n",
              " 3642: b'of d',\n",
              " 3643: b'lady',\n",
              " 3644: b'him ',\n",
              " 3647: b'ows ',\n",
              " 3648: b' no ',\n",
              " 3649: b'et, ',\n",
              " 3650: b'uest',\n",
              " 3652: b'AREN',\n",
              " 3653: b'LADY',\n",
              " 3654: b'ay s',\n",
              " 3657: b', lo',\n",
              " 3660: b' hat',\n",
              " 3662: b'\\nYou',\n",
              " 3665: b'w no',\n",
              " 3668: b'an o',\n",
              " 3670: b'ked ',\n",
              " 3672: b'to a',\n",
              " 3673: b's su',\n",
              " 3674: b' a g',\n",
              " 3675: b'er i',\n",
              " 3676: b'ke, ',\n",
              " ...}"
            ]
          },
          "metadata": {},
          "execution_count": 164
        }
      ]
    },
    {
      "cell_type": "markdown",
      "source": [
        "# forcing split (gpt2)\n",
        "https://github.com/openai/gpt-2/blob/master/src/encoder.py"
      ],
      "metadata": {
        "id": "rCxkFaQGdjR3"
      },
      "id": "rCxkFaQGdjR3"
    },
    {
      "cell_type": "code",
      "source": [
        "import regex as re\n",
        "gpt2pat = re.compile(r\"\"\"'s|'t|'re|'ve|'m|'ll|'d| ?\\p{L}+| ?\\p{N}+| ?[^\\s\\p{L}\\p{N}]+|\\s+(?!\\S)|\\s+\"\"\")\n",
        "re.findall(gpt2pat, \"Hello world!!!      How've you been??         \")"
      ],
      "metadata": {
        "execution": {
          "iopub.status.busy": "2024-09-18T05:46:44.918758Z",
          "iopub.execute_input": "2024-09-18T05:46:44.919594Z",
          "iopub.status.idle": "2024-09-18T05:46:44.940550Z",
          "shell.execute_reply.started": "2024-09-18T05:46:44.919553Z",
          "shell.execute_reply": "2024-09-18T05:46:44.939579Z"
        },
        "trusted": true,
        "colab": {
          "base_uri": "https://localhost:8080/"
        },
        "id": "OeAsG0xDdjR3",
        "outputId": "e780cc56-5aa2-42f8-dbcd-d2547a12c43b"
      },
      "execution_count": 26,
      "outputs": [
        {
          "output_type": "execute_result",
          "data": {
            "text/plain": [
              "['Hello',\n",
              " ' world',\n",
              " '!!!',\n",
              " '     ',\n",
              " ' How',\n",
              " \"'ve\",\n",
              " ' you',\n",
              " ' been',\n",
              " '??',\n",
              " '         ']"
            ]
          },
          "metadata": {},
          "execution_count": 26
        }
      ],
      "id": "OeAsG0xDdjR3"
    },
    {
      "cell_type": "markdown",
      "source": [
        "# tiktokeniser\n",
        "* https://github.com/openai/tiktoken\n",
        "* https://github.com/openai/tiktoken/blob/main/tiktoken_ext/openai_public.py"
      ],
      "metadata": {
        "id": "mCfE0D7KdjR4"
      },
      "id": "mCfE0D7KdjR4"
    },
    {
      "cell_type": "code",
      "source": [
        "!pip install tiktoken\n",
        "import tiktoken"
      ],
      "metadata": {
        "execution": {
          "iopub.status.busy": "2024-09-18T05:47:56.862206Z",
          "iopub.execute_input": "2024-09-18T05:47:56.863124Z",
          "iopub.status.idle": "2024-09-18T05:48:10.679541Z",
          "shell.execute_reply.started": "2024-09-18T05:47:56.863077Z",
          "shell.execute_reply": "2024-09-18T05:48:10.678456Z"
        },
        "trusted": true,
        "colab": {
          "base_uri": "https://localhost:8080/"
        },
        "id": "5mnMFh1HdjR4",
        "outputId": "9db140e7-035d-4140-c32b-79de92035e49"
      },
      "execution_count": 27,
      "outputs": [
        {
          "output_type": "stream",
          "name": "stdout",
          "text": [
            "Collecting tiktoken\n",
            "  Downloading tiktoken-0.7.0-cp310-cp310-manylinux_2_17_x86_64.manylinux2014_x86_64.whl.metadata (6.6 kB)\n",
            "Requirement already satisfied: regex>=2022.1.18 in /usr/local/lib/python3.10/dist-packages (from tiktoken) (2024.9.11)\n",
            "Requirement already satisfied: requests>=2.26.0 in /usr/local/lib/python3.10/dist-packages (from tiktoken) (2.32.3)\n",
            "Requirement already satisfied: charset-normalizer<4,>=2 in /usr/local/lib/python3.10/dist-packages (from requests>=2.26.0->tiktoken) (3.3.2)\n",
            "Requirement already satisfied: idna<4,>=2.5 in /usr/local/lib/python3.10/dist-packages (from requests>=2.26.0->tiktoken) (3.10)\n",
            "Requirement already satisfied: urllib3<3,>=1.21.1 in /usr/local/lib/python3.10/dist-packages (from requests>=2.26.0->tiktoken) (2.0.7)\n",
            "Requirement already satisfied: certifi>=2017.4.17 in /usr/local/lib/python3.10/dist-packages (from requests>=2.26.0->tiktoken) (2024.8.30)\n",
            "Downloading tiktoken-0.7.0-cp310-cp310-manylinux_2_17_x86_64.manylinux2014_x86_64.whl (1.1 MB)\n",
            "\u001b[?25l   \u001b[90m━━━━━━━━━━━━━━━━━━━━━━━━━━━━━━━━━━━━━━━━\u001b[0m \u001b[32m0.0/1.1 MB\u001b[0m \u001b[31m?\u001b[0m eta \u001b[36m-:--:--\u001b[0m\r\u001b[2K   \u001b[91m━━━━━━━━━━━━━━━━━━━━━━━━━━━━━━━━━━━━━━━\u001b[0m\u001b[91m╸\u001b[0m \u001b[32m1.1/1.1 MB\u001b[0m \u001b[31m36.4 MB/s\u001b[0m eta \u001b[36m0:00:01\u001b[0m\r\u001b[2K   \u001b[91m━━━━━━━━━━━━━━━━━━━━━━━━━━━━━━━━━━━━━━━\u001b[0m\u001b[91m╸\u001b[0m \u001b[32m1.1/1.1 MB\u001b[0m \u001b[31m36.4 MB/s\u001b[0m eta \u001b[36m0:00:01\u001b[0m\r\u001b[2K   \u001b[90m━━━━━━━━━━━━━━━━━━━━━━━━━━━━━━━━━━━━━━━━\u001b[0m \u001b[32m1.1/1.1 MB\u001b[0m \u001b[31m14.3 MB/s\u001b[0m eta \u001b[36m0:00:00\u001b[0m\n",
            "\u001b[?25hInstalling collected packages: tiktoken\n",
            "Successfully installed tiktoken-0.7.0\n"
          ]
        }
      ],
      "id": "5mnMFh1HdjR4"
    },
    {
      "cell_type": "code",
      "source": [
        "enc = tiktoken.get_encoding(\"gpt2\")\n",
        "print(enc.encode(\"    Hello world!!!   How've you been??  \"))\n",
        "\n",
        "enc = tiktoken.get_encoding(\"cl100k_base\") # used by gpt4\n",
        "print(enc.encode(\"    Hello world!!!   How've you been??  \"))\n",
        "\n",
        "enc = enc = tiktoken.encoding_for_model(\"gpt-4o\")\n",
        "print(enc.encode(\"    Hello world!!!   How've you been??  \"))"
      ],
      "metadata": {
        "execution": {
          "iopub.status.busy": "2024-09-18T05:54:05.596423Z",
          "iopub.execute_input": "2024-09-18T05:54:05.596809Z",
          "iopub.status.idle": "2024-09-18T05:54:10.249996Z",
          "shell.execute_reply.started": "2024-09-18T05:54:05.596773Z",
          "shell.execute_reply": "2024-09-18T05:54:10.248992Z"
        },
        "trusted": true,
        "colab": {
          "base_uri": "https://localhost:8080/"
        },
        "id": "vmsVi5rTdjR4",
        "outputId": "61b92233-daa4-4404-fe22-bdc76215222b"
      },
      "execution_count": 28,
      "outputs": [
        {
          "output_type": "stream",
          "name": "stdout",
          "text": [
            "[220, 220, 220, 18435, 995, 10185, 220, 220, 1374, 1053, 345, 587, 3548, 220, 220]\n",
            "[262, 22691, 1917, 12340, 256, 2650, 3077, 499, 1027, 7801, 256]\n",
            "[271, 32949, 2375, 10880, 256, 3253, 7341, 481, 1339, 6961, 256]\n"
          ]
        }
      ],
      "id": "vmsVi5rTdjR4"
    },
    {
      "cell_type": "code",
      "source": [
        "gpt4pat=r\"\"\"'(?i:[sdmt]|ll|ve|re)|[^\\r\\n\\p{L}\\p{N}]?+\\p{L}+|\\p{N}{1,3}| ?[^\\s\\p{L}\\p{N}]++[\\r\\n]*|\\s*[\\r\\n]|\\s+(?!\\S)|\\s+\"\"\"\n",
        "re.findall(gpt4pat, \"Hello world!!!      How've you been??  123  56788900       \")"
      ],
      "metadata": {
        "execution": {
          "iopub.status.busy": "2024-09-18T05:57:48.351488Z",
          "iopub.execute_input": "2024-09-18T05:57:48.351864Z",
          "iopub.status.idle": "2024-09-18T05:57:48.359272Z",
          "shell.execute_reply.started": "2024-09-18T05:57:48.351816Z",
          "shell.execute_reply": "2024-09-18T05:57:48.358443Z"
        },
        "trusted": true,
        "colab": {
          "base_uri": "https://localhost:8080/"
        },
        "id": "OYTCWdrfdjR4",
        "outputId": "074800a2-62a1-4b6b-e041-ae09697e0289"
      },
      "execution_count": 29,
      "outputs": [
        {
          "output_type": "execute_result",
          "data": {
            "text/plain": [
              "['Hello',\n",
              " ' world',\n",
              " '!!!',\n",
              " '     ',\n",
              " ' How',\n",
              " \"'ve\",\n",
              " ' you',\n",
              " ' been',\n",
              " '??',\n",
              " ' ',\n",
              " ' ',\n",
              " '123',\n",
              " ' ',\n",
              " ' ',\n",
              " '567',\n",
              " '889',\n",
              " '00',\n",
              " '       ']"
            ]
          },
          "metadata": {},
          "execution_count": 29
        }
      ],
      "id": "OYTCWdrfdjR4"
    },
    {
      "cell_type": "code",
      "source": [
        "!wget https://openaipublic.blob.core.windows.net/gpt-2/encodings/main/vocab.bpe\n",
        "!wget https://openaipublic.blob.core.windows.net/gpt-2/encodings/main/encoder.json"
      ],
      "metadata": {
        "colab": {
          "base_uri": "https://localhost:8080/"
        },
        "id": "eYgAS9vdhCD5",
        "outputId": "7177614a-fdf8-4e04-f56b-803e2b2e5f28"
      },
      "id": "eYgAS9vdhCD5",
      "execution_count": 30,
      "outputs": [
        {
          "output_type": "stream",
          "name": "stdout",
          "text": [
            "--2024-09-21 06:12:08--  https://openaipublic.blob.core.windows.net/gpt-2/encodings/main/vocab.bpe\n",
            "Resolving openaipublic.blob.core.windows.net (openaipublic.blob.core.windows.net)... 57.150.97.129\n",
            "Connecting to openaipublic.blob.core.windows.net (openaipublic.blob.core.windows.net)|57.150.97.129|:443... connected.\n",
            "HTTP request sent, awaiting response... 200 OK\n",
            "Length: 456318 (446K) [application/octet-stream]\n",
            "Saving to: ‘vocab.bpe’\n",
            "\n",
            "vocab.bpe           100%[===================>] 445.62K   572KB/s    in 0.8s    \n",
            "\n",
            "2024-09-21 06:12:10 (572 KB/s) - ‘vocab.bpe’ saved [456318/456318]\n",
            "\n",
            "--2024-09-21 06:12:10--  https://openaipublic.blob.core.windows.net/gpt-2/encodings/main/encoder.json\n",
            "Resolving openaipublic.blob.core.windows.net (openaipublic.blob.core.windows.net)... 57.150.97.129\n",
            "Connecting to openaipublic.blob.core.windows.net (openaipublic.blob.core.windows.net)|57.150.97.129|:443... connected.\n",
            "HTTP request sent, awaiting response... 200 OK\n",
            "Length: 1042301 (1018K) [application/json]\n",
            "Saving to: ‘encoder.json’\n",
            "\n",
            "encoder.json        100%[===================>]   1018K   854KB/s    in 1.2s    \n",
            "\n",
            "2024-09-21 06:12:12 (854 KB/s) - ‘encoder.json’ saved [1042301/1042301]\n",
            "\n"
          ]
        }
      ]
    },
    {
      "cell_type": "code",
      "source": [
        "import os, json\n",
        "\n",
        "with open(\"encoder.json\", \"r\") as f:\n",
        "  encoder = json.load(f)\n",
        "\n",
        "with open(\"vocab.bpe\", \"r\") as f:\n",
        "  bpe_data = f.read()\n",
        "# ignore first line (version...) and last (new line)\n",
        "bpe_merges = [tuple(merge_str.split()) for merge_str in bpe_data.split('\\n')[1:-1]]"
      ],
      "metadata": {
        "id": "VwI5m2zTiRp6"
      },
      "id": "VwI5m2zTiRp6",
      "execution_count": 31,
      "outputs": []
    },
    {
      "cell_type": "code",
      "source": [
        "# this is similar to our vocab, but key and values are swapped\n",
        "len(encoder), dict(list(encoder.items())[:10])"
      ],
      "metadata": {
        "colab": {
          "base_uri": "https://localhost:8080/"
        },
        "id": "zTwNUow-i8eK",
        "outputId": "53f24fe3-03c8-4001-8657-fdbb8457e1ef"
      },
      "id": "zTwNUow-i8eK",
      "execution_count": 32,
      "outputs": [
        {
          "output_type": "execute_result",
          "data": {
            "text/plain": [
              "(50257,\n",
              " {'!': 0,\n",
              "  '\"': 1,\n",
              "  '#': 2,\n",
              "  '$': 3,\n",
              "  '%': 4,\n",
              "  '&': 5,\n",
              "  \"'\": 6,\n",
              "  '(': 7,\n",
              "  ')': 8,\n",
              "  '*': 9})"
            ]
          },
          "metadata": {},
          "execution_count": 32
        }
      ]
    },
    {
      "cell_type": "code",
      "source": [
        "# this is similar to our merges\n",
        "len(bpe_merges), bpe_merges[:10]"
      ],
      "metadata": {
        "colab": {
          "base_uri": "https://localhost:8080/"
        },
        "id": "Kq_F8huxjGJJ",
        "outputId": "131e3ef0-ebbf-4abd-86f6-8c8c27b181ec"
      },
      "id": "Kq_F8huxjGJJ",
      "execution_count": 33,
      "outputs": [
        {
          "output_type": "execute_result",
          "data": {
            "text/plain": [
              "(50000,\n",
              " [('Ġ', 't'),\n",
              "  ('Ġ', 'a'),\n",
              "  ('h', 'e'),\n",
              "  ('i', 'n'),\n",
              "  ('r', 'e'),\n",
              "  ('o', 'n'),\n",
              "  ('Ġt', 'he'),\n",
              "  ('e', 'r'),\n",
              "  ('Ġ', 's'),\n",
              "  ('a', 't')])"
            ]
          },
          "metadata": {},
          "execution_count": 33
        }
      ]
    },
    {
      "cell_type": "markdown",
      "source": [
        "# special tokens\n",
        "GPT has 256 raw bytes, and 50000 merges, and 1 special token, so totally 50257 tokens."
      ],
      "metadata": {
        "id": "RB2FZP9Gk5SJ"
      },
      "id": "RB2FZP9Gk5SJ"
    },
    {
      "cell_type": "code",
      "source": [
        "len(encoder), len(bpe_merges)"
      ],
      "metadata": {
        "colab": {
          "base_uri": "https://localhost:8080/"
        },
        "id": "wIITQm3ik7WX",
        "outputId": "0d7fd743-29a3-43f1-d4cc-6c0865844195"
      },
      "id": "wIITQm3ik7WX",
      "execution_count": 34,
      "outputs": [
        {
          "output_type": "execute_result",
          "data": {
            "text/plain": [
              "(50257, 50000)"
            ]
          },
          "metadata": {},
          "execution_count": 34
        }
      ]
    },
    {
      "cell_type": "code",
      "source": [
        "encoder['<|endoftext|>']"
      ],
      "metadata": {
        "colab": {
          "base_uri": "https://localhost:8080/"
        },
        "id": "r_rMHYbtlaeB",
        "outputId": "996a2946-1179-4d2b-e609-d1c4e0d77227"
      },
      "id": "r_rMHYbtlaeB",
      "execution_count": 35,
      "outputs": [
        {
          "output_type": "execute_result",
          "data": {
            "text/plain": [
              "50256"
            ]
          },
          "metadata": {},
          "execution_count": 35
        }
      ]
    },
    {
      "cell_type": "code",
      "source": [
        "dict(list(encoder.items())[50253:])"
      ],
      "metadata": {
        "colab": {
          "base_uri": "https://localhost:8080/"
        },
        "id": "CGnnjQ58lr_Q",
        "outputId": "0357d58c-59c5-4284-ddb1-9ddf08b675e0"
      },
      "id": "CGnnjQ58lr_Q",
      "execution_count": 36,
      "outputs": [
        {
          "output_type": "execute_result",
          "data": {
            "text/plain": [
              "{'ĠCollider': 50253,\n",
              " 'Ġinformants': 50254,\n",
              " 'Ġgazed': 50255,\n",
              " '<|endoftext|>': 50256}"
            ]
          },
          "metadata": {},
          "execution_count": 36
        }
      ]
    },
    {
      "cell_type": "markdown",
      "source": [
        "# sentencepiece\n",
        "* https://github.com/google/sentencepiece/tree/d8f741853847553169444afc12c00f4bbff3e9ce\n",
        "\n",
        "*   https://github.com/google/sentencepiece/blob/d8f741853847553169444afc12c00f4bbff3e9ce/doc/options.md\n",
        "* https://github.com/google/sentencepiece/blob/d8f741853847553169444afc12c00f4bbff3e9ce/src/sentencepiece_model.proto\n",
        "\n"
      ],
      "metadata": {
        "id": "gjA6IpTAonQh"
      },
      "id": "gjA6IpTAonQh"
    },
    {
      "cell_type": "code",
      "source": [
        "import sentencepiece as spm"
      ],
      "metadata": {
        "colab": {
          "base_uri": "https://localhost:8080/"
        },
        "id": "TaH_uasLpIOZ",
        "outputId": "0ec09bfe-1f60-4696-ec16-ecf40d6db0eb"
      },
      "id": "TaH_uasLpIOZ",
      "execution_count": 37,
      "outputs": [
        {
          "output_type": "stream",
          "name": "stdout",
          "text": [
            "--2024-09-21 06:12:12--  https://raw.githubusercontent.com/karpathy/char-rnn/master/data/tinyshakespeare/input.txt\n",
            "Resolving raw.githubusercontent.com (raw.githubusercontent.com)... 185.199.108.133, 185.199.109.133, 185.199.110.133, ...\n",
            "Connecting to raw.githubusercontent.com (raw.githubusercontent.com)|185.199.108.133|:443... connected.\n",
            "HTTP request sent, awaiting response... 200 OK\n",
            "Length: 1115394 (1.1M) [text/plain]\n",
            "Saving to: ‘input.txt’\n",
            "\n",
            "\rinput.txt             0%[                    ]       0  --.-KB/s               \rinput.txt           100%[===================>]   1.06M  --.-KB/s    in 0.02s   \n",
            "\n",
            "2024-09-21 06:12:12 (48.7 MB/s) - ‘input.txt’ saved [1115394/1115394]\n",
            "\n"
          ]
        }
      ]
    },
    {
      "cell_type": "code",
      "source": [
        "# train a sentencepiece model on it\n",
        "# the settings here are (best effort) those used for training Llama 2\n",
        "import os\n",
        "\n",
        "options = dict(\n",
        "    # input spec\n",
        "    input=\"input.txt\",\n",
        "    input_format=\"text\",\n",
        "    # output spec\n",
        "    model_prefix=\"tok400\", # output file prefix\n",
        "    # algorithm specific\n",
        "    # BPE algo\n",
        "    model_type=\"bpe\",\n",
        "    vocab_size=400,\n",
        "    # normalisation\n",
        "    normalization_rule_name=\"identity\", # turn off normalisation\n",
        "    remove_extra_whitespaces=False,\n",
        "    input_sentence_size=200000000, # max number of training sentences\n",
        "    max_sentence_length=4192, # max number of bytes per sentence\n",
        "    seed_sentencepiece_size=1000000,\n",
        "    shuffle_input_sentence=True,\n",
        "    # rare word treatment\n",
        "    character_coverage=0.99995, # if character is very rare, it will be igored (not put in vocab)\n",
        "    byte_fallback=True,\n",
        "    # merge rules\n",
        "    split_digits=True,\n",
        "    split_by_unicode_script=True,\n",
        "    split_by_whitespace=True,\n",
        "    split_by_number=True,\n",
        "    max_sentencepiece_length=16,\n",
        "    add_dummy_prefix=True,\n",
        "    allow_whitespace_only_pieces=True,\n",
        "    # special tokens\n",
        "    unk_id=0, # UNK token is mandatory\n",
        "    bos_id=1, # others are optional, if not needed, set to -1\n",
        "    eos_id=2,\n",
        "    pad_id=-1, # -1 means don't use it\n",
        "    # systems\n",
        "    num_threads=os.cpu_count(),\n",
        ")\n",
        "spm.SentencePieceTrainer.train(**options)"
      ],
      "metadata": {
        "id": "O-X_74Swpl1J"
      },
      "id": "O-X_74Swpl1J",
      "execution_count": 38,
      "outputs": []
    },
    {
      "cell_type": "code",
      "source": [
        "sp = spm.SentencePieceProcessor()\n",
        "sp.load(\"tok400.model\")\n",
        "vocab = [[sp.IdToPiece(idx), idx] for idx in range(sp.get_piece_size())]\n",
        "vocab"
      ],
      "metadata": {
        "colab": {
          "base_uri": "https://localhost:8080/"
        },
        "id": "L9JZuR_7tthk",
        "outputId": "92fdb8dd-d87f-4a13-81ef-bc4d0b8516be"
      },
      "id": "L9JZuR_7tthk",
      "execution_count": 39,
      "outputs": [
        {
          "output_type": "execute_result",
          "data": {
            "text/plain": [
              "[['<unk>', 0],\n",
              " ['<s>', 1],\n",
              " ['</s>', 2],\n",
              " ['<0x00>', 3],\n",
              " ['<0x01>', 4],\n",
              " ['<0x02>', 5],\n",
              " ['<0x03>', 6],\n",
              " ['<0x04>', 7],\n",
              " ['<0x05>', 8],\n",
              " ['<0x06>', 9],\n",
              " ['<0x07>', 10],\n",
              " ['<0x08>', 11],\n",
              " ['<0x09>', 12],\n",
              " ['<0x0A>', 13],\n",
              " ['<0x0B>', 14],\n",
              " ['<0x0C>', 15],\n",
              " ['<0x0D>', 16],\n",
              " ['<0x0E>', 17],\n",
              " ['<0x0F>', 18],\n",
              " ['<0x10>', 19],\n",
              " ['<0x11>', 20],\n",
              " ['<0x12>', 21],\n",
              " ['<0x13>', 22],\n",
              " ['<0x14>', 23],\n",
              " ['<0x15>', 24],\n",
              " ['<0x16>', 25],\n",
              " ['<0x17>', 26],\n",
              " ['<0x18>', 27],\n",
              " ['<0x19>', 28],\n",
              " ['<0x1A>', 29],\n",
              " ['<0x1B>', 30],\n",
              " ['<0x1C>', 31],\n",
              " ['<0x1D>', 32],\n",
              " ['<0x1E>', 33],\n",
              " ['<0x1F>', 34],\n",
              " ['<0x20>', 35],\n",
              " ['<0x21>', 36],\n",
              " ['<0x22>', 37],\n",
              " ['<0x23>', 38],\n",
              " ['<0x24>', 39],\n",
              " ['<0x25>', 40],\n",
              " ['<0x26>', 41],\n",
              " ['<0x27>', 42],\n",
              " ['<0x28>', 43],\n",
              " ['<0x29>', 44],\n",
              " ['<0x2A>', 45],\n",
              " ['<0x2B>', 46],\n",
              " ['<0x2C>', 47],\n",
              " ['<0x2D>', 48],\n",
              " ['<0x2E>', 49],\n",
              " ['<0x2F>', 50],\n",
              " ['<0x30>', 51],\n",
              " ['<0x31>', 52],\n",
              " ['<0x32>', 53],\n",
              " ['<0x33>', 54],\n",
              " ['<0x34>', 55],\n",
              " ['<0x35>', 56],\n",
              " ['<0x36>', 57],\n",
              " ['<0x37>', 58],\n",
              " ['<0x38>', 59],\n",
              " ['<0x39>', 60],\n",
              " ['<0x3A>', 61],\n",
              " ['<0x3B>', 62],\n",
              " ['<0x3C>', 63],\n",
              " ['<0x3D>', 64],\n",
              " ['<0x3E>', 65],\n",
              " ['<0x3F>', 66],\n",
              " ['<0x40>', 67],\n",
              " ['<0x41>', 68],\n",
              " ['<0x42>', 69],\n",
              " ['<0x43>', 70],\n",
              " ['<0x44>', 71],\n",
              " ['<0x45>', 72],\n",
              " ['<0x46>', 73],\n",
              " ['<0x47>', 74],\n",
              " ['<0x48>', 75],\n",
              " ['<0x49>', 76],\n",
              " ['<0x4A>', 77],\n",
              " ['<0x4B>', 78],\n",
              " ['<0x4C>', 79],\n",
              " ['<0x4D>', 80],\n",
              " ['<0x4E>', 81],\n",
              " ['<0x4F>', 82],\n",
              " ['<0x50>', 83],\n",
              " ['<0x51>', 84],\n",
              " ['<0x52>', 85],\n",
              " ['<0x53>', 86],\n",
              " ['<0x54>', 87],\n",
              " ['<0x55>', 88],\n",
              " ['<0x56>', 89],\n",
              " ['<0x57>', 90],\n",
              " ['<0x58>', 91],\n",
              " ['<0x59>', 92],\n",
              " ['<0x5A>', 93],\n",
              " ['<0x5B>', 94],\n",
              " ['<0x5C>', 95],\n",
              " ['<0x5D>', 96],\n",
              " ['<0x5E>', 97],\n",
              " ['<0x5F>', 98],\n",
              " ['<0x60>', 99],\n",
              " ['<0x61>', 100],\n",
              " ['<0x62>', 101],\n",
              " ['<0x63>', 102],\n",
              " ['<0x64>', 103],\n",
              " ['<0x65>', 104],\n",
              " ['<0x66>', 105],\n",
              " ['<0x67>', 106],\n",
              " ['<0x68>', 107],\n",
              " ['<0x69>', 108],\n",
              " ['<0x6A>', 109],\n",
              " ['<0x6B>', 110],\n",
              " ['<0x6C>', 111],\n",
              " ['<0x6D>', 112],\n",
              " ['<0x6E>', 113],\n",
              " ['<0x6F>', 114],\n",
              " ['<0x70>', 115],\n",
              " ['<0x71>', 116],\n",
              " ['<0x72>', 117],\n",
              " ['<0x73>', 118],\n",
              " ['<0x74>', 119],\n",
              " ['<0x75>', 120],\n",
              " ['<0x76>', 121],\n",
              " ['<0x77>', 122],\n",
              " ['<0x78>', 123],\n",
              " ['<0x79>', 124],\n",
              " ['<0x7A>', 125],\n",
              " ['<0x7B>', 126],\n",
              " ['<0x7C>', 127],\n",
              " ['<0x7D>', 128],\n",
              " ['<0x7E>', 129],\n",
              " ['<0x7F>', 130],\n",
              " ['<0x80>', 131],\n",
              " ['<0x81>', 132],\n",
              " ['<0x82>', 133],\n",
              " ['<0x83>', 134],\n",
              " ['<0x84>', 135],\n",
              " ['<0x85>', 136],\n",
              " ['<0x86>', 137],\n",
              " ['<0x87>', 138],\n",
              " ['<0x88>', 139],\n",
              " ['<0x89>', 140],\n",
              " ['<0x8A>', 141],\n",
              " ['<0x8B>', 142],\n",
              " ['<0x8C>', 143],\n",
              " ['<0x8D>', 144],\n",
              " ['<0x8E>', 145],\n",
              " ['<0x8F>', 146],\n",
              " ['<0x90>', 147],\n",
              " ['<0x91>', 148],\n",
              " ['<0x92>', 149],\n",
              " ['<0x93>', 150],\n",
              " ['<0x94>', 151],\n",
              " ['<0x95>', 152],\n",
              " ['<0x96>', 153],\n",
              " ['<0x97>', 154],\n",
              " ['<0x98>', 155],\n",
              " ['<0x99>', 156],\n",
              " ['<0x9A>', 157],\n",
              " ['<0x9B>', 158],\n",
              " ['<0x9C>', 159],\n",
              " ['<0x9D>', 160],\n",
              " ['<0x9E>', 161],\n",
              " ['<0x9F>', 162],\n",
              " ['<0xA0>', 163],\n",
              " ['<0xA1>', 164],\n",
              " ['<0xA2>', 165],\n",
              " ['<0xA3>', 166],\n",
              " ['<0xA4>', 167],\n",
              " ['<0xA5>', 168],\n",
              " ['<0xA6>', 169],\n",
              " ['<0xA7>', 170],\n",
              " ['<0xA8>', 171],\n",
              " ['<0xA9>', 172],\n",
              " ['<0xAA>', 173],\n",
              " ['<0xAB>', 174],\n",
              " ['<0xAC>', 175],\n",
              " ['<0xAD>', 176],\n",
              " ['<0xAE>', 177],\n",
              " ['<0xAF>', 178],\n",
              " ['<0xB0>', 179],\n",
              " ['<0xB1>', 180],\n",
              " ['<0xB2>', 181],\n",
              " ['<0xB3>', 182],\n",
              " ['<0xB4>', 183],\n",
              " ['<0xB5>', 184],\n",
              " ['<0xB6>', 185],\n",
              " ['<0xB7>', 186],\n",
              " ['<0xB8>', 187],\n",
              " ['<0xB9>', 188],\n",
              " ['<0xBA>', 189],\n",
              " ['<0xBB>', 190],\n",
              " ['<0xBC>', 191],\n",
              " ['<0xBD>', 192],\n",
              " ['<0xBE>', 193],\n",
              " ['<0xBF>', 194],\n",
              " ['<0xC0>', 195],\n",
              " ['<0xC1>', 196],\n",
              " ['<0xC2>', 197],\n",
              " ['<0xC3>', 198],\n",
              " ['<0xC4>', 199],\n",
              " ['<0xC5>', 200],\n",
              " ['<0xC6>', 201],\n",
              " ['<0xC7>', 202],\n",
              " ['<0xC8>', 203],\n",
              " ['<0xC9>', 204],\n",
              " ['<0xCA>', 205],\n",
              " ['<0xCB>', 206],\n",
              " ['<0xCC>', 207],\n",
              " ['<0xCD>', 208],\n",
              " ['<0xCE>', 209],\n",
              " ['<0xCF>', 210],\n",
              " ['<0xD0>', 211],\n",
              " ['<0xD1>', 212],\n",
              " ['<0xD2>', 213],\n",
              " ['<0xD3>', 214],\n",
              " ['<0xD4>', 215],\n",
              " ['<0xD5>', 216],\n",
              " ['<0xD6>', 217],\n",
              " ['<0xD7>', 218],\n",
              " ['<0xD8>', 219],\n",
              " ['<0xD9>', 220],\n",
              " ['<0xDA>', 221],\n",
              " ['<0xDB>', 222],\n",
              " ['<0xDC>', 223],\n",
              " ['<0xDD>', 224],\n",
              " ['<0xDE>', 225],\n",
              " ['<0xDF>', 226],\n",
              " ['<0xE0>', 227],\n",
              " ['<0xE1>', 228],\n",
              " ['<0xE2>', 229],\n",
              " ['<0xE3>', 230],\n",
              " ['<0xE4>', 231],\n",
              " ['<0xE5>', 232],\n",
              " ['<0xE6>', 233],\n",
              " ['<0xE7>', 234],\n",
              " ['<0xE8>', 235],\n",
              " ['<0xE9>', 236],\n",
              " ['<0xEA>', 237],\n",
              " ['<0xEB>', 238],\n",
              " ['<0xEC>', 239],\n",
              " ['<0xED>', 240],\n",
              " ['<0xEE>', 241],\n",
              " ['<0xEF>', 242],\n",
              " ['<0xF0>', 243],\n",
              " ['<0xF1>', 244],\n",
              " ['<0xF2>', 245],\n",
              " ['<0xF3>', 246],\n",
              " ['<0xF4>', 247],\n",
              " ['<0xF5>', 248],\n",
              " ['<0xF6>', 249],\n",
              " ['<0xF7>', 250],\n",
              " ['<0xF8>', 251],\n",
              " ['<0xF9>', 252],\n",
              " ['<0xFA>', 253],\n",
              " ['<0xFB>', 254],\n",
              " ['<0xFC>', 255],\n",
              " ['<0xFD>', 256],\n",
              " ['<0xFE>', 257],\n",
              " ['<0xFF>', 258],\n",
              " ['▁t', 259],\n",
              " ['he', 260],\n",
              " ['▁a', 261],\n",
              " ['ou', 262],\n",
              " ['▁s', 263],\n",
              " ['▁m', 264],\n",
              " ['▁w', 265],\n",
              " ['in', 266],\n",
              " ['re', 267],\n",
              " ['ha', 268],\n",
              " ['▁the', 269],\n",
              " ['nd', 270],\n",
              " ['▁b', 271],\n",
              " ['is', 272],\n",
              " ['or', 273],\n",
              " ['▁f', 274],\n",
              " ['▁I', 275],\n",
              " ['er', 276],\n",
              " ['ll', 277],\n",
              " ['it', 278],\n",
              " ['on', 279],\n",
              " ['▁d', 280],\n",
              " ['▁c', 281],\n",
              " ['▁n', 282],\n",
              " ['▁l', 283],\n",
              " ['▁y', 284],\n",
              " ['es', 285],\n",
              " ['en', 286],\n",
              " ['▁th', 287],\n",
              " ['ar', 288],\n",
              " ['▁h', 289],\n",
              " ['▁o', 290],\n",
              " ['▁to', 291],\n",
              " ['▁you', 292],\n",
              " ['▁p', 293],\n",
              " ['▁T', 294],\n",
              " ['hat', 295],\n",
              " ['▁A', 296],\n",
              " ['▁he', 297],\n",
              " ['st', 298],\n",
              " ['ve', 299],\n",
              " ['ot', 300],\n",
              " ['▁and', 301],\n",
              " ['ow', 302],\n",
              " ['ing', 303],\n",
              " ['▁of', 304],\n",
              " ['an', 305],\n",
              " ['om', 306],\n",
              " ['▁g', 307],\n",
              " ['at', 308],\n",
              " ['▁be', 309],\n",
              " ['▁W', 310],\n",
              " ['se', 311],\n",
              " ['▁my', 312],\n",
              " ['▁in', 313],\n",
              " ['▁ha', 314],\n",
              " ['ce', 315],\n",
              " ['le', 316],\n",
              " ['ay', 317],\n",
              " ['ld', 318],\n",
              " ['ir', 319],\n",
              " ['et', 320],\n",
              " ['ed', 321],\n",
              " ['ut', 322],\n",
              " ['▁B', 323],\n",
              " ['▁me', 324],\n",
              " ['im', 325],\n",
              " ['▁S', 326],\n",
              " ['ith', 327],\n",
              " ['▁not', 328],\n",
              " ['▁H', 329],\n",
              " ['ch', 330],\n",
              " ['▁that', 331],\n",
              " ['▁is', 332],\n",
              " ['▁M', 333],\n",
              " ['gh', 334],\n",
              " ['▁And', 335],\n",
              " ['▁for', 336],\n",
              " ['▁u', 337],\n",
              " ['ke', 338],\n",
              " ['▁', 339],\n",
              " ['e', 340],\n",
              " ['t', 341],\n",
              " ['o', 342],\n",
              " ['a', 343],\n",
              " ['h', 344],\n",
              " ['s', 345],\n",
              " ['r', 346],\n",
              " ['n', 347],\n",
              " ['i', 348],\n",
              " ['l', 349],\n",
              " ['d', 350],\n",
              " ['u', 351],\n",
              " ['m', 352],\n",
              " ['y', 353],\n",
              " [',', 354],\n",
              " ['w', 355],\n",
              " ['f', 356],\n",
              " ['c', 357],\n",
              " ['g', 358],\n",
              " ['I', 359],\n",
              " ['b', 360],\n",
              " ['p', 361],\n",
              " [':', 362],\n",
              " ['.', 363],\n",
              " ['A', 364],\n",
              " ['v', 365],\n",
              " ['k', 366],\n",
              " ['T', 367],\n",
              " [\"'\", 368],\n",
              " ['E', 369],\n",
              " ['O', 370],\n",
              " ['N', 371],\n",
              " ['R', 372],\n",
              " ['S', 373],\n",
              " ['L', 374],\n",
              " ['C', 375],\n",
              " [';', 376],\n",
              " ['W', 377],\n",
              " ['U', 378],\n",
              " ['H', 379],\n",
              " ['M', 380],\n",
              " ['B', 381],\n",
              " ['?', 382],\n",
              " ['G', 383],\n",
              " ['!', 384],\n",
              " ['D', 385],\n",
              " ['-', 386],\n",
              " ['F', 387],\n",
              " ['Y', 388],\n",
              " ['P', 389],\n",
              " ['K', 390],\n",
              " ['V', 391],\n",
              " ['j', 392],\n",
              " ['q', 393],\n",
              " ['x', 394],\n",
              " ['z', 395],\n",
              " ['J', 396],\n",
              " ['Q', 397],\n",
              " ['Z', 398],\n",
              " ['X', 399]]"
            ]
          },
          "metadata": {},
          "execution_count": 39
        }
      ]
    },
    {
      "cell_type": "code",
      "source": [
        "ids = sp.Encode(\"Hello world! 世界这么大\")\n",
        "print(ids)"
      ],
      "metadata": {
        "colab": {
          "base_uri": "https://localhost:8080/"
        },
        "id": "UyPh8-EOu-kK",
        "outputId": "5ec431dc-fe65-4117-c8dd-55c55646e7d4"
      },
      "id": "UyPh8-EOu-kK",
      "execution_count": 40,
      "outputs": [
        {
          "output_type": "stream",
          "name": "stdout",
          "text": [
            "[329, 340, 277, 342, 265, 273, 318, 384, 339, 231, 187, 153, 234, 152, 143, 235, 194, 156, 231, 188, 139, 232, 167, 170]\n"
          ]
        }
      ]
    },
    {
      "cell_type": "markdown",
      "source": [
        "the chinese characters are their corresponding 3-byte utf-8 codes.\n",
        "this is because those chinese characters are not in the training set, they are treated as UNK (i.e. 0); but because byte_fallback=True, they fallback to their utf-8 bytes.\n",
        "\n",
        "Also, notice the extra spece in front of 'Hello'. This is because of add_dummy_prefix=True.\n",
        "\n",
        "Read the [protobuf](https://github.com/google/sentencepiece/blob/d8f741853847553169444afc12c00f4bbff3e9ce/src/sentencepiece_model.proto) file for more details."
      ],
      "metadata": {
        "id": "b49_QGq5wMPq"
      },
      "id": "b49_QGq5wMPq"
    },
    {
      "cell_type": "code",
      "source": [
        "\n",
        "\n",
        "print([sp.IdToPiece(idx) for idx in ids])"
      ],
      "metadata": {
        "colab": {
          "base_uri": "https://localhost:8080/"
        },
        "id": "so_bLH-hvKjh",
        "outputId": "0e87111a-91b0-4213-f7c9-758d8f7c1757"
      },
      "id": "so_bLH-hvKjh",
      "execution_count": 41,
      "outputs": [
        {
          "output_type": "stream",
          "name": "stdout",
          "text": [
            "['▁H', 'e', 'll', 'o', '▁w', 'or', 'ld', '!', '▁', '<0xE4>', '<0xB8>', '<0x96>', '<0xE7>', '<0x95>', '<0x8C>', '<0xE8>', '<0xBF>', '<0x99>', '<0xE4>', '<0xB9>', '<0x88>', '<0xE5>', '<0xA4>', '<0xA7>']\n"
          ]
        }
      ]
    },
    {
      "cell_type": "markdown",
      "source": [
        "[Learning to Compress Prompts with Gist Tokens](https://arxiv.org/abs/2304.08467)\n",
        "\n",
        "https://platform.openai.com/playground/complete\n",
        "\n",
        "check out minBPE"
      ],
      "metadata": {
        "id": "jigOEgZGz5mC"
      },
      "id": "jigOEgZGz5mC"
    }
  ]
}