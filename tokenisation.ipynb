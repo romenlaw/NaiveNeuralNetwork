{
  "cells": [
    {
      "cell_type": "markdown",
      "metadata": {
        "id": "view-in-github",
        "colab_type": "text"
      },
      "source": [
        "<a href=\"https://colab.research.google.com/github/romenlaw/NaiveNeuralNetwork/blob/main/tokenisation.ipynb\" target=\"_parent\"><img src=\"https://colab.research.google.com/assets/colab-badge.svg\" alt=\"Open In Colab\"/></a>"
      ]
    },
    {
      "cell_type": "markdown",
      "source": [
        "* https://tiktokenizer.vercel.app/\n",
        "* https://en.wikipedia.org/wiki/Byte_pair_encoding"
      ],
      "metadata": {
        "id": "-szfcw647M4C"
      },
      "id": "-szfcw647M4C"
    },
    {
      "cell_type": "code",
      "source": [
        "\"\"\"\n",
        "Consider the following text:\n",
        "Hellow world! 世界这么大，我想去看看。看一看，瞧一瞧了啊！我瞧瞧！\n",
        "👋🌍\n",
        "121 + 458 = 679\n",
        "1215 - 121 = 1094\n",
        "-1215 + 121 = -1094\n",
        "\n",
        "Some python code here:\n",
        "\n",
        "\"\"\""
      ],
      "metadata": {
        "id": "kOM2eDdB7a_h"
      },
      "id": "kOM2eDdB7a_h",
      "execution_count": null,
      "outputs": []
    }
  ],
  "metadata": {
    "colab": {
      "provenance": [],
      "include_colab_link": true
    },
    "language_info": {
      "name": "python"
    },
    "kernelspec": {
      "name": "python3",
      "display_name": "Python 3"
    }
  },
  "nbformat": 4,
  "nbformat_minor": 5
}