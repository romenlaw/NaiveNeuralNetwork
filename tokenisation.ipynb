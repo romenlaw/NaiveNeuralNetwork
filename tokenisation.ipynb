{
  "cells": [
    {
      "cell_type": "markdown",
      "source": [
        "* https://tiktokenizer.vercel.app/\n",
        "* [MEGABYTE: Predicting Million-byte Sequences with Multiscale Transformers](https://arxiv.org/abs/2305.07185)\n",
        "* https://en.wikipedia.org/wiki/Byte_pair_encoding"
      ],
      "metadata": {
        "id": "-szfcw647M4C"
      },
      "id": "-szfcw647M4C"
    },
    {
      "cell_type": "code",
      "source": [
        "s=\"\"\"Hello world! 世界这么大，我想去看看。看一看，瞧一瞧了啊！我瞧瞧！\n",
        "👋🌍\n",
        "121 + 458 = 679\n",
        "1215 - 121 = 1094\n",
        "-1215 + 121 = -1094\n",
        "\n",
        "Some python code here:\n",
        "# List of numbers\n",
        "numbers = [1, 2, 3, 4, 5, 6, 7, 8, 9, 10]\n",
        "\n",
        "# Loop through each number in the list\n",
        "for number in numbers:\n",
        "    # Check if the number is even\n",
        "    if number % 2 == 0:\n",
        "        print(f\"{number} is even\")\n",
        "    # Check if the number is odd\n",
        "    else:\n",
        "        print(f\"{number} is odd\")\n",
        "\"\"\"\n",
        "[list(x.encode(\"utf-8\")) for x in s[:50]]"
      ],
      "metadata": {
        "colab": {
          "base_uri": "https://localhost:8080/"
        },
        "id": "kOM2eDdB7a_h",
        "outputId": "1728678e-6665-4231-d19d-66a682ccf942"
      },
      "id": "kOM2eDdB7a_h",
      "execution_count": 2,
      "outputs": [
        {
          "output_type": "execute_result",
          "data": {
            "text/plain": [
              "[[72],\n",
              " [101],\n",
              " [108],\n",
              " [108],\n",
              " [111],\n",
              " [32],\n",
              " [119],\n",
              " [111],\n",
              " [114],\n",
              " [108],\n",
              " [100],\n",
              " [33],\n",
              " [32],\n",
              " [228, 184, 150],\n",
              " [231, 149, 140],\n",
              " [232, 191, 153],\n",
              " [228, 185, 136],\n",
              " [229, 164, 167],\n",
              " [239, 188, 140],\n",
              " [230, 136, 145],\n",
              " [230, 131, 179],\n",
              " [229, 142, 187],\n",
              " [231, 156, 139],\n",
              " [231, 156, 139],\n",
              " [227, 128, 130],\n",
              " [231, 156, 139],\n",
              " [228, 184, 128],\n",
              " [231, 156, 139],\n",
              " [239, 188, 140],\n",
              " [231, 158, 167],\n",
              " [228, 184, 128],\n",
              " [231, 158, 167],\n",
              " [228, 186, 134],\n",
              " [229, 149, 138],\n",
              " [239, 188, 129],\n",
              " [230, 136, 145],\n",
              " [231, 158, 167],\n",
              " [231, 158, 167],\n",
              " [239, 188, 129],\n",
              " [10],\n",
              " [240, 159, 145, 139],\n",
              " [240, 159, 140, 141],\n",
              " [10],\n",
              " [49],\n",
              " [50],\n",
              " [49],\n",
              " [32],\n",
              " [43],\n",
              " [32],\n",
              " [52]]"
            ]
          },
          "metadata": {},
          "execution_count": 2
        }
      ]
    },
    {
      "cell_type": "code",
      "source": [
        "[ord(x) for x in s[:50]]"
      ],
      "metadata": {
        "id": "iHd9V14pHqtT",
        "outputId": "065b773b-3f14-41fa-dfa3-d3baf5bd9232",
        "colab": {
          "base_uri": "https://localhost:8080/"
        }
      },
      "id": "iHd9V14pHqtT",
      "execution_count": 3,
      "outputs": [
        {
          "output_type": "execute_result",
          "data": {
            "text/plain": [
              "[72,\n",
              " 101,\n",
              " 108,\n",
              " 108,\n",
              " 111,\n",
              " 32,\n",
              " 119,\n",
              " 111,\n",
              " 114,\n",
              " 108,\n",
              " 100,\n",
              " 33,\n",
              " 32,\n",
              " 19990,\n",
              " 30028,\n",
              " 36825,\n",
              " 20040,\n",
              " 22823,\n",
              " 65292,\n",
              " 25105,\n",
              " 24819,\n",
              " 21435,\n",
              " 30475,\n",
              " 30475,\n",
              " 12290,\n",
              " 30475,\n",
              " 19968,\n",
              " 30475,\n",
              " 65292,\n",
              " 30631,\n",
              " 19968,\n",
              " 30631,\n",
              " 20102,\n",
              " 21834,\n",
              " 65281,\n",
              " 25105,\n",
              " 30631,\n",
              " 30631,\n",
              " 65281,\n",
              " 10,\n",
              " 128075,\n",
              " 127757,\n",
              " 10,\n",
              " 49,\n",
              " 50,\n",
              " 49,\n",
              " 32,\n",
              " 43,\n",
              " 32,\n",
              " 52]"
            ]
          },
          "metadata": {},
          "execution_count": 3
        }
      ]
    },
    {
      "cell_type": "code",
      "source": [
        "len('世世界')"
      ],
      "metadata": {
        "id": "JQBBr0giGBlK",
        "outputId": "81bb8376-ef53-489f-ea13-2d1576a8d16d",
        "colab": {
          "base_uri": "https://localhost:8080/"
        }
      },
      "id": "JQBBr0giGBlK",
      "execution_count": 4,
      "outputs": [
        {
          "output_type": "execute_result",
          "data": {
            "text/plain": [
              "3"
            ]
          },
          "metadata": {},
          "execution_count": 4
        }
      ]
    },
    {
      "cell_type": "markdown",
      "source": [
        "## Byte Pair encoding"
      ],
      "metadata": {
        "id": "gJawlg0aJ9H6"
      },
      "id": "gJawlg0aJ9H6"
    },
    {
      "cell_type": "code",
      "source": [
        "raw_bytes = [x for x in s.encode('utf-8')]\n",
        "print(s, len(s), len(raw_bytes), raw_bytes)"
      ],
      "metadata": {
        "id": "tGjT7IOFJ_Sy",
        "outputId": "6c26764d-99e1-4f51-b502-b640978741b0",
        "colab": {
          "base_uri": "https://localhost:8080/"
        }
      },
      "id": "tGjT7IOFJ_Sy",
      "execution_count": 5,
      "outputs": [
        {
          "output_type": "stream",
          "name": "stdout",
          "text": [
            "Hello world! 世界这么大，我想去看看。看一看，瞧一瞧了啊！我瞧瞧！\n",
            "👋🌍\n",
            "121 + 458 = 679\n",
            "1215 - 121 = 1094\n",
            "-1215 + 121 = -1094\n",
            "\n",
            "Some python code here:\n",
            "# List of numbers\n",
            "numbers = [1, 2, 3, 4, 5, 6, 7, 8, 9, 10]\n",
            "\n",
            "# Loop through each number in the list\n",
            "for number in numbers:\n",
            "    # Check if the number is even\n",
            "    if number % 2 == 0:\n",
            "        print(f\"{number} is even\")\n",
            "    # Check if the number is odd\n",
            "    else:\n",
            "        print(f\"{number} is odd\")\n",
            " 414 472 [72, 101, 108, 108, 111, 32, 119, 111, 114, 108, 100, 33, 32, 228, 184, 150, 231, 149, 140, 232, 191, 153, 228, 185, 136, 229, 164, 167, 239, 188, 140, 230, 136, 145, 230, 131, 179, 229, 142, 187, 231, 156, 139, 231, 156, 139, 227, 128, 130, 231, 156, 139, 228, 184, 128, 231, 156, 139, 239, 188, 140, 231, 158, 167, 228, 184, 128, 231, 158, 167, 228, 186, 134, 229, 149, 138, 239, 188, 129, 230, 136, 145, 231, 158, 167, 231, 158, 167, 239, 188, 129, 10, 240, 159, 145, 139, 240, 159, 140, 141, 10, 49, 50, 49, 32, 43, 32, 52, 53, 56, 32, 61, 32, 54, 55, 57, 10, 49, 50, 49, 53, 32, 45, 32, 49, 50, 49, 32, 61, 32, 49, 48, 57, 52, 10, 45, 49, 50, 49, 53, 32, 43, 32, 49, 50, 49, 32, 61, 32, 45, 49, 48, 57, 52, 10, 10, 83, 111, 109, 101, 32, 112, 121, 116, 104, 111, 110, 32, 99, 111, 100, 101, 32, 104, 101, 114, 101, 58, 10, 35, 32, 76, 105, 115, 116, 32, 111, 102, 32, 110, 117, 109, 98, 101, 114, 115, 10, 110, 117, 109, 98, 101, 114, 115, 32, 61, 32, 91, 49, 44, 32, 50, 44, 32, 51, 44, 32, 52, 44, 32, 53, 44, 32, 54, 44, 32, 55, 44, 32, 56, 44, 32, 57, 44, 32, 49, 48, 93, 10, 10, 35, 32, 76, 111, 111, 112, 32, 116, 104, 114, 111, 117, 103, 104, 32, 101, 97, 99, 104, 32, 110, 117, 109, 98, 101, 114, 32, 105, 110, 32, 116, 104, 101, 32, 108, 105, 115, 116, 10, 102, 111, 114, 32, 110, 117, 109, 98, 101, 114, 32, 105, 110, 32, 110, 117, 109, 98, 101, 114, 115, 58, 10, 32, 32, 32, 32, 35, 32, 67, 104, 101, 99, 107, 32, 105, 102, 32, 116, 104, 101, 32, 110, 117, 109, 98, 101, 114, 32, 105, 115, 32, 101, 118, 101, 110, 10, 32, 32, 32, 32, 105, 102, 32, 110, 117, 109, 98, 101, 114, 32, 37, 32, 50, 32, 61, 61, 32, 48, 58, 10, 32, 32, 32, 32, 32, 32, 32, 32, 112, 114, 105, 110, 116, 40, 102, 34, 123, 110, 117, 109, 98, 101, 114, 125, 32, 105, 115, 32, 101, 118, 101, 110, 34, 41, 10, 32, 32, 32, 32, 35, 32, 67, 104, 101, 99, 107, 32, 105, 102, 32, 116, 104, 101, 32, 110, 117, 109, 98, 101, 114, 32, 105, 115, 32, 111, 100, 100, 10, 32, 32, 32, 32, 101, 108, 115, 101, 58, 10, 32, 32, 32, 32, 32, 32, 32, 32, 112, 114, 105, 110, 116, 40, 102, 34, 123, 110, 117, 109, 98, 101, 114, 125, 32, 105, 115, 32, 111, 100, 100, 34, 41, 10]\n"
          ]
        }
      ]
    },
    {
      "cell_type": "code",
      "source": [
        "def count_bytepairs(bytes):\n",
        "  counts = {}\n",
        "  for pair in zip(bytes, bytes[1:]):\n",
        "    counts[pair] = counts.get(pair, 0) + 1\n",
        "  counts = dict(sorted(counts.items(), key=lambda item: item[1], reverse=True))\n",
        "  return counts"
      ],
      "metadata": {
        "id": "ok0mtSsXLCcy"
      },
      "id": "ok0mtSsXLCcy",
      "execution_count": 6,
      "outputs": []
    },
    {
      "cell_type": "code",
      "source": [
        "counts = count_bytepairs(raw_bytes)"
      ],
      "metadata": {
        "id": "HbacMk1XMZmS"
      },
      "id": "HbacMk1XMZmS",
      "execution_count": 7,
      "outputs": []
    },
    {
      "cell_type": "code",
      "source": [
        "len(counts), list(counts)[:5]"
      ],
      "metadata": {
        "id": "H-7C7WqmM6by",
        "outputId": "c90918e0-7028-4061-9b6d-983d5bd8f3b1",
        "colab": {
          "base_uri": "https://localhost:8080/"
        }
      },
      "id": "H-7C7WqmM6by",
      "execution_count": 8,
      "outputs": [
        {
          "output_type": "execute_result",
          "data": {
            "text/plain": [
              "(224, [(32, 32), (101, 114), (110, 117), (117, 109), (109, 98)])"
            ]
          },
          "metadata": {},
          "execution_count": 8
        }
      ]
    },
    {
      "cell_type": "code",
      "source": [
        "counts"
      ],
      "metadata": {
        "colab": {
          "base_uri": "https://localhost:8080/"
        },
        "id": "EpfBUqsoSMMc",
        "outputId": "0fc6b96b-2ef9-4a40-d557-cffbb3a755c4"
      },
      "id": "EpfBUqsoSMMc",
      "execution_count": 9,
      "outputs": [
        {
          "output_type": "execute_result",
          "data": {
            "text/plain": [
              "{(32, 32): 26,\n",
              " (101, 114): 11,\n",
              " (110, 117): 10,\n",
              " (117, 109): 10,\n",
              " (109, 98): 10,\n",
              " (98, 101): 10,\n",
              " (44, 32): 9,\n",
              " (32, 105): 9,\n",
              " (32, 110): 7,\n",
              " (104, 101): 6,\n",
              " (105, 115): 6,\n",
              " (114, 32): 6,\n",
              " (10, 32): 6,\n",
              " (49, 50): 5,\n",
              " (50, 49): 5,\n",
              " (32, 61): 5,\n",
              " (61, 32): 5,\n",
              " (101, 32): 5,\n",
              " (116, 104): 5,\n",
              " (115, 32): 5,\n",
              " (239, 188): 4,\n",
              " (231, 156): 4,\n",
              " (156, 139): 4,\n",
              " (231, 158): 4,\n",
              " (158, 167): 4,\n",
              " (32, 49): 4,\n",
              " (58, 10): 4,\n",
              " (35, 32): 4,\n",
              " (102, 32): 4,\n",
              " (32, 116): 4,\n",
              " (32, 101): 4,\n",
              " (105, 110): 4,\n",
              " (228, 184): 3,\n",
              " (49, 32): 3,\n",
              " (49, 48): 3,\n",
              " (32, 112): 3,\n",
              " (110, 32): 3,\n",
              " (111, 100): 3,\n",
              " (32, 111): 3,\n",
              " (114, 115): 3,\n",
              " (105, 102): 3,\n",
              " (101, 108): 2,\n",
              " (111, 114): 2,\n",
              " (167, 239): 2,\n",
              " (188, 140): 2,\n",
              " (230, 136): 2,\n",
              " (136, 145): 2,\n",
              " (184, 128): 2,\n",
              " (128, 231): 2,\n",
              " (167, 228): 2,\n",
              " (188, 129): 2,\n",
              " (240, 159): 2,\n",
              " (10, 49): 2,\n",
              " (32, 43): 2,\n",
              " (43, 32): 2,\n",
              " (32, 52): 2,\n",
              " (32, 54): 2,\n",
              " (49, 53): 2,\n",
              " (53, 32): 2,\n",
              " (32, 45): 2,\n",
              " (48, 57): 2,\n",
              " (57, 52): 2,\n",
              " (52, 10): 2,\n",
              " (45, 49): 2,\n",
              " (10, 10): 2,\n",
              " (101, 58): 2,\n",
              " (10, 35): 2,\n",
              " (32, 76): 2,\n",
              " (115, 116): 2,\n",
              " (32, 50): 2,\n",
              " (104, 32): 2,\n",
              " (32, 35): 2,\n",
              " (32, 67): 2,\n",
              " (67, 104): 2,\n",
              " (101, 99): 2,\n",
              " (99, 107): 2,\n",
              " (107, 32): 2,\n",
              " (101, 118): 2,\n",
              " (118, 101): 2,\n",
              " (101, 110): 2,\n",
              " (112, 114): 2,\n",
              " (114, 105): 2,\n",
              " (110, 116): 2,\n",
              " (116, 40): 2,\n",
              " (40, 102): 2,\n",
              " (102, 34): 2,\n",
              " (34, 123): 2,\n",
              " (123, 110): 2,\n",
              " (114, 125): 2,\n",
              " (125, 32): 2,\n",
              " (34, 41): 2,\n",
              " (41, 10): 2,\n",
              " (100, 100): 2,\n",
              " (72, 101): 1,\n",
              " (108, 108): 1,\n",
              " (108, 111): 1,\n",
              " (111, 32): 1,\n",
              " (32, 119): 1,\n",
              " (119, 111): 1,\n",
              " (114, 108): 1,\n",
              " (108, 100): 1,\n",
              " (100, 33): 1,\n",
              " (33, 32): 1,\n",
              " (32, 228): 1,\n",
              " (184, 150): 1,\n",
              " (150, 231): 1,\n",
              " (231, 149): 1,\n",
              " (149, 140): 1,\n",
              " (140, 232): 1,\n",
              " (232, 191): 1,\n",
              " (191, 153): 1,\n",
              " (153, 228): 1,\n",
              " (228, 185): 1,\n",
              " (185, 136): 1,\n",
              " (136, 229): 1,\n",
              " (229, 164): 1,\n",
              " (164, 167): 1,\n",
              " (140, 230): 1,\n",
              " (145, 230): 1,\n",
              " (230, 131): 1,\n",
              " (131, 179): 1,\n",
              " (179, 229): 1,\n",
              " (229, 142): 1,\n",
              " (142, 187): 1,\n",
              " (187, 231): 1,\n",
              " (139, 231): 1,\n",
              " (139, 227): 1,\n",
              " (227, 128): 1,\n",
              " (128, 130): 1,\n",
              " (130, 231): 1,\n",
              " (139, 228): 1,\n",
              " (139, 239): 1,\n",
              " (140, 231): 1,\n",
              " (228, 186): 1,\n",
              " (186, 134): 1,\n",
              " (134, 229): 1,\n",
              " (229, 149): 1,\n",
              " (149, 138): 1,\n",
              " (138, 239): 1,\n",
              " (129, 230): 1,\n",
              " (145, 231): 1,\n",
              " (167, 231): 1,\n",
              " (129, 10): 1,\n",
              " (10, 240): 1,\n",
              " (159, 145): 1,\n",
              " (145, 139): 1,\n",
              " (139, 240): 1,\n",
              " (159, 140): 1,\n",
              " (140, 141): 1,\n",
              " (141, 10): 1,\n",
              " (52, 53): 1,\n",
              " (53, 56): 1,\n",
              " (56, 32): 1,\n",
              " (54, 55): 1,\n",
              " (55, 57): 1,\n",
              " (57, 10): 1,\n",
              " (45, 32): 1,\n",
              " (10, 45): 1,\n",
              " (10, 83): 1,\n",
              " (83, 111): 1,\n",
              " (111, 109): 1,\n",
              " (109, 101): 1,\n",
              " (112, 121): 1,\n",
              " (121, 116): 1,\n",
              " (104, 111): 1,\n",
              " (111, 110): 1,\n",
              " (32, 99): 1,\n",
              " (99, 111): 1,\n",
              " (100, 101): 1,\n",
              " (32, 104): 1,\n",
              " (114, 101): 1,\n",
              " (76, 105): 1,\n",
              " (116, 32): 1,\n",
              " (111, 102): 1,\n",
              " (115, 10): 1,\n",
              " (10, 110): 1,\n",
              " (32, 91): 1,\n",
              " (91, 49): 1,\n",
              " (49, 44): 1,\n",
              " (50, 44): 1,\n",
              " (32, 51): 1,\n",
              " (51, 44): 1,\n",
              " (52, 44): 1,\n",
              " (32, 53): 1,\n",
              " (53, 44): 1,\n",
              " (54, 44): 1,\n",
              " (32, 55): 1,\n",
              " (55, 44): 1,\n",
              " (32, 56): 1,\n",
              " (56, 44): 1,\n",
              " (32, 57): 1,\n",
              " (57, 44): 1,\n",
              " (48, 93): 1,\n",
              " (93, 10): 1,\n",
              " (76, 111): 1,\n",
              " (111, 111): 1,\n",
              " (111, 112): 1,\n",
              " (112, 32): 1,\n",
              " (104, 114): 1,\n",
              " (114, 111): 1,\n",
              " (111, 117): 1,\n",
              " (117, 103): 1,\n",
              " (103, 104): 1,\n",
              " (101, 97): 1,\n",
              " (97, 99): 1,\n",
              " (99, 104): 1,\n",
              " (32, 108): 1,\n",
              " (108, 105): 1,\n",
              " (116, 10): 1,\n",
              " (10, 102): 1,\n",
              " (102, 111): 1,\n",
              " (115, 58): 1,\n",
              " (110, 10): 1,\n",
              " (32, 37): 1,\n",
              " (37, 32): 1,\n",
              " (50, 32): 1,\n",
              " (61, 61): 1,\n",
              " (32, 48): 1,\n",
              " (48, 58): 1,\n",
              " (110, 34): 1,\n",
              " (100, 10): 1,\n",
              " (108, 115): 1,\n",
              " (115, 101): 1,\n",
              " (100, 34): 1}"
            ]
          },
          "metadata": {},
          "execution_count": 9
        }
      ]
    },
    {
      "cell_type": "code",
      "source": [
        "# utf-8 stops at 255, so our new tokens will start at 256\n",
        "\n",
        "def merge_pair(raw_bytes, pair):\n",
        "  \"\"\"pair is a list containing two integers, representing the utf-8 code of\n",
        "  the 2 characters to be replaced\n",
        "  \"\"\"\n",
        "  assert isinstance(pair, list) and len(pair)==2, \"pair must be a list of two integers\"\n",
        "  max_val = max(raw_bytes)\n",
        "  NEW_TOKEN = [256 if max_val<256 else max_val+1]\n",
        "  for i in range(len(raw_bytes)-1, 0, -1):  # loop backwards\n",
        "    #print(i-1, i)\n",
        "    if raw_bytes[i-1:i+1] == pair:\n",
        "      raw_bytes[i-1:i+1] = NEW_TOKEN\n",
        "\n",
        "  return raw_bytes\n"
      ],
      "metadata": {
        "id": "B7zczb9qd43p"
      },
      "id": "B7zczb9qd43p",
      "execution_count": 10,
      "outputs": []
    },
    {
      "cell_type": "code",
      "source": [
        "out = merge_pair(raw_bytes, [32,32])\n",
        "len(out)"
      ],
      "metadata": {
        "colab": {
          "base_uri": "https://localhost:8080/"
        },
        "id": "V6Wjt6LEukF6",
        "outputId": "c8b941ff-1345-4e37-be19-381ff4e8bcc6"
      },
      "id": "V6Wjt6LEukF6",
      "execution_count": 11,
      "outputs": [
        {
          "output_type": "execute_result",
          "data": {
            "text/plain": [
              "456"
            ]
          },
          "metadata": {},
          "execution_count": 11
        }
      ]
    },
    {
      "cell_type": "code",
      "source": [
        "counts = count_bytepairs(raw_bytes)\n",
        "key, value = next(iter(counts.items())) # get first entry of dict\n",
        "while value>1:\n",
        "  for pair, count in counts.items():\n",
        "    if count>1:\n",
        "      merge_pair(raw_bytes, list(pair))\n",
        "    else:\n",
        "      break\n",
        "  counts = count_bytepairs(raw_bytes)\n",
        "  key, value = next(iter(counts.items())) # get first entry of dict"
      ],
      "metadata": {
        "id": "m-Vrp18Gv1gX"
      },
      "id": "m-Vrp18Gv1gX",
      "execution_count": 12,
      "outputs": []
    },
    {
      "cell_type": "code",
      "source": [
        "print(len(raw_bytes), max(raw_bytes), raw_bytes)"
      ],
      "metadata": {
        "colab": {
          "base_uri": "https://localhost:8080/"
        },
        "id": "5naQ-fC8RzGW",
        "outputId": "54cb0346-7ca4-4aef-e5e5-e923e67b26ab"
      },
      "id": "5naQ-fC8RzGW",
      "execution_count": 13,
      "outputs": [
        {
          "output_type": "stream",
          "name": "stdout",
          "text": [
            "190 358 [72, 288, 108, 111, 32, 119, 289, 108, 100, 33, 32, 281, 150, 231, 149, 140, 232, 191, 153, 228, 185, 136, 229, 164, 320, 140, 322, 230, 131, 179, 229, 142, 187, 312, 312, 227, 128, 130, 312, 323, 312, 321, 315, 323, 274, 291, 186, 134, 229, 149, 138, 324, 322, 315, 315, 324, 10, 292, 145, 139, 292, 140, 141, 325, 282, 294, 52, 53, 56, 267, 295, 55, 57, 325, 296, 297, 346, 275, 298, 300, 45, 326, 293, 346, 297, 283, 299, 301, 83, 111, 109, 269, 112, 121, 270, 111, 284, 99, 285, 269, 104, 257, 329, 330, 331, 286, 278, 345, 10, 345, 267, 32, 91, 49, 261, 50, 261, 51, 261, 52, 261, 53, 261, 54, 261, 55, 261, 56, 261, 57, 261, 283, 93, 301, 330, 111, 111, 112, 32, 270, 114, 111, 117, 103, 104, 287, 97, 99, 303, 344, 110, 279, 317, 108, 331, 10, 102, 111, 265, 344, 284, 345, 318, 357, 335, 306, 319, 105, 347, 257, 32, 37, 302, 267, 268, 48, 358, 336, 310, 319, 357, 342, 100, 319, 288, 115, 101, 358, 343, 341]\n"
          ]
        }
      ]
    },
    {
      "cell_type": "markdown",
      "source": [
        "# Byte Pair Implementation"
      ],
      "metadata": {
        "id": "vQdBeSLUYIad"
      },
      "id": "vQdBeSLUYIad"
    },
    {
      "cell_type": "code",
      "source": [
        "s = \"\"\"Python Lists\n",
        "\n",
        "bookmark_border\n",
        "Python has a great built-in list type named \"list\". List literals are written within square brackets [ ]. Lists work similarly to strings -- use the len() function and square brackets [ ] to access data, with the first element at index 0. (See the official python.org list docs.)\n",
        "\n",
        "\n",
        "  colors = ['red', 'blue', 'green']\n",
        "  print(colors[0])    ## red\n",
        "  print(colors[2])    ## green\n",
        "  print(len(colors))  ## 3\n",
        "list of strings 'red' 'blue 'green'\n",
        "\n",
        "Assignment with an = on lists does not make a copy. Instead, assignment makes the two variables point to the one list in memory.\n",
        "\n",
        "\n",
        "  b = colors   ## Does not copy the list\n",
        "both colors and b point to the one list\n",
        "\n",
        "The \"empty list\" is just an empty pair of brackets [ ]. The '+' works to append two lists, so [1, 2] + [3, 4] yields [1, 2, 3, 4] (this is just like + with strings).\n",
        "\n",
        "FOR and IN\n",
        "Python's *for* and *in* constructs are extremely useful, and the first use of them we'll see is with lists. The *for* construct -- for var in list -- is an easy way to look at each element in a list (or other collection). Do not add or remove from the list during iteration.\n",
        "\n",
        "\n",
        "  squares = [1, 4, 9, 16]\n",
        "  sum = 0\n",
        "  for num in squares:\n",
        "    sum += num\n",
        "  print(sum)  ## 30\n",
        "If you know what sort of thing is in the list, use a variable name in the loop that captures that information such as \"num\", or \"name\", or \"url\". Since Python code does not have other syntax to remind you of types, your variable names are a key way for you to keep straight what is going on. (This is a little misleading. As you gain more exposure to python, you'll see references to type hints which allow you to add typing information to your function definitions. Python doesn't use these type hints when it runs your programs. They are used by other programs such as IDEs (integrated development environments) and static analysis tools like linters/type checkers to validate if your functions are called with compatible arguments.)\n",
        "\n",
        "The *in* construct on its own is an easy way to test if an element appears in a list (or other collection) -- value in collection -- tests if the value is in the collection, returning True/False.\n",
        "\n",
        "\n",
        "  list = ['larry', 'curly', 'moe']\n",
        "  if 'curly' in list:\n",
        "    print('yay') ## yay\n",
        "The for/in constructs are very commonly used in Python code and work on data types other than list, so you should just memorize their syntax. You may have habits from other languages where you start manually iterating over a collection, where in Python you should just use for/in.\n",
        "\n",
        "You can also use for/in to work on a string. The string acts like a list of its chars, so for ch in s: print(ch) prints all the chars in a string.\n",
        "\n",
        "Range\n",
        "The range(n) function yields the numbers 0, 1, ... n-1, and range(a, b) returns a, a+1, ... b-1 -- up to but not including the last number. The combination of the for-loop and the range() function allow you to build a traditional numeric for loop:\n",
        "\n",
        "\n",
        "  ## print the numbers from 0 through 99\n",
        "  for i in range(100):\n",
        "    print(i)\n",
        "There is a variant xrange() which avoids the cost of building the whole list for performance sensitive cases (in Python 3, range() will have the good performance behavior and you can forget about xrange()).\n",
        "\n",
        "While Loop\n",
        "Python also has the standard while-loop, and the *break* and *continue* statements work as in C++ and Java, altering the course of the innermost loop. The above for/in loops solves the common case of iterating over every element in a list, but the while loop gives you total control over the index numbers. Here's a while loop which accesses every 3rd element in a list:\n",
        "\n",
        "\n",
        "  ## Access every 3rd element in a list\n",
        "  i = 0\n",
        "  while i < len(a):\n",
        "    print(a[i])\n",
        "    i = i + 3\n",
        "List Methods\n",
        "Here are some other common list methods.\n",
        "\n",
        "list.append(elem) -- adds a single element to the end of the list. Common error: does not return the new list, just modifies the original.\n",
        "list.insert(index, elem) -- inserts the element at the given index, shifting elements to the right.\n",
        "list.extend(list2) adds the elements in list2 to the end of the list. Using + or += on a list is similar to using extend().\n",
        "list.index(elem) -- searches for the given element from the start of the list and returns its index. Throws a ValueError if the element does not appear (use \"in\" to check without a ValueError).\n",
        "list.remove(elem) -- searches for the first instance of the given element and removes it (throws ValueError if not present)\n",
        "list.sort() -- sorts the list in place (does not return it). (The sorted() function shown later is preferred.)\n",
        "list.reverse() -- reverses the list in place (does not return it)\n",
        "list.pop(index) -- removes and returns the element at the given index. Returns the rightmost element if index is omitted (roughly the opposite of append()).\n",
        "Notice that these are *methods* on a list object, while len() is a function that takes the list (or string or whatever) as an argument.\n",
        "\n",
        "\n",
        "  list = ['larry', 'curly', 'moe']\n",
        "  list.append('shemp')         ## append elem at end\n",
        "  list.insert(0, 'xxx')        ## insert elem at index 0\n",
        "  list.extend(['yyy', 'zzz'])  ## add list of elems at end\n",
        "  print(list)  ## ['xxx', 'larry', 'curly', 'moe', 'shemp', 'yyy', 'zzz']\n",
        "  print(list.index('curly'))    ## 2\n",
        "\n",
        "  list.remove('curly')         ## search and remove that element\n",
        "  list.pop(1)                  ## removes and returns 'larry'\n",
        "  print(list)  ## ['xxx', 'moe', 'shemp', 'yyy', 'zzz']\n",
        "Common error: note that the above methods do not *return* the modified list, they just modify the original list.\n",
        "\n",
        "\n",
        "  list = [1, 2, 3]\n",
        "  print(list.append(4))   ## NO, does not work, append() returns None\n",
        "  ## Correct pattern:\n",
        "  list.append(4)\n",
        "  print(list)  ## [1, 2, 3, 4]\n",
        "List Build Up\n",
        "One common pattern is to start a list as the empty list [], then use append() or extend() to add elements to it:\n",
        "\n",
        "\n",
        "  list = []          ## Start as the empty list\n",
        "  list.append('a')   ## Use append() to add elements\n",
        "  list.append('b')\n",
        "List Slices\n",
        "Slices work on lists just as with strings, and can also be used to change sub-parts of the list.\n",
        "\n",
        "\n",
        "  list = ['a', 'b', 'c', 'd']\n",
        "  print(list[1:-1])   ## ['b', 'c']\n",
        "  list[0:2] = 'z'    ## replace ['a', 'b'] with ['z']\n",
        "  print(list)         ## ['z', 'c', 'd']\n",
        "Exercise: list1.py\n",
        "To practice the material in this section, try the problems in list1.py that do not use sorting (in the Basic Exercises).\n",
        "\n",
        "Was this helpful?\n",
        "\n",
        "Except as otherwise noted, the content of this page is licensed under the Creative Commons Attribution 4.0 License, and code samples are licensed under the Apache 2.0 License. For details, see the Google Developers Site Policies. Java is a registered trademark of Oracle and/or its affiliates.\n",
        "\n",
        "Last updated 2024-07-23 UTC.\n",
        "\"\"\"\n",
        "tokens = s.encode(\"utf-8\")"
      ],
      "metadata": {
        "id": "rehK7GmPYv3_"
      },
      "id": "rehK7GmPYv3_",
      "execution_count": 22,
      "outputs": []
    },
    {
      "cell_type": "code",
      "source": [
        "def count_bytepairs(bytes):\n",
        "  counts = {}\n",
        "  for pair in zip(bytes, bytes[1:]):\n",
        "    counts[pair] = counts.get(pair, 0) + 1\n",
        "  counts = dict(sorted(counts.items(), key=lambda item: item[1], reverse=True))\n",
        "  return counts\n",
        "\n",
        "def merge_bytepair(raw_bytes, pair, new_token):\n",
        "  \"\"\"pair is a list containing two integers, representing the utf-8 code of\n",
        "  the 2 characters to be replaced\n",
        "  \"\"\"\n",
        "  assert isinstance(pair, list) and len(pair)==2, \"pair must be a list of two integers\"\n",
        "  for i in range(len(raw_bytes)-1, 0, -1):  # loop backwards\n",
        "    #print(i-1, i)\n",
        "    if raw_bytes[i-1:i+1] == pair:\n",
        "      raw_bytes[i-1:i+1] = [new_token]\n",
        "\n",
        "  return raw_bytes\n",
        "\n",
        "vocab_size = 276\n",
        "num_merges = vocab_size - 256\n",
        "token_copy = list(tokens)\n",
        "merges = {} # build up a lookup of what has been merged into what\n",
        "\n",
        "counts = count_bytepairs(token_copy)\n",
        "counts_iter = iter(counts.items())\n",
        "for i in range(num_merges):\n",
        "  new_token = 256+i\n",
        "  pair, count = next(counts_iter)\n",
        "  if count>1:\n",
        "    merge_bytepair(token_copy, list(pair), new_token)\n",
        "    merges[pair] = new_token\n",
        "  else:\n",
        "    break"
      ],
      "metadata": {
        "id": "vbz3i7wtYMaS"
      },
      "id": "vbz3i7wtYMaS",
      "execution_count": 43,
      "outputs": []
    },
    {
      "cell_type": "code",
      "source": [
        "len(token_copy), max(token_copy), list(token_copy)[:10]"
      ],
      "metadata": {
        "id": "I8DqzMq8ZRWl",
        "outputId": "4a7b8b3c-e034-40da-dc67-f13283352b8f",
        "colab": {
          "base_uri": "https://localhost:8080/"
        }
      },
      "id": "I8DqzMq8ZRWl",
      "execution_count": 44,
      "outputs": [
        {
          "output_type": "execute_result",
          "data": {
            "text/plain": [
              "(5353, 275, [80, 121, 260, 111, 268, 76, 105, 261, 258, 10])"
            ]
          },
          "metadata": {},
          "execution_count": 44
        }
      ]
    },
    {
      "cell_type": "code",
      "source": [
        "len(tokens), max(tokens), list(tokens)[:10]"
      ],
      "metadata": {
        "id": "m1I7BpkUaZeg",
        "outputId": "5562f371-69b1-45e5-ea4f-c69f846b3126",
        "colab": {
          "base_uri": "https://localhost:8080/"
        }
      },
      "id": "m1I7BpkUaZeg",
      "execution_count": 45,
      "outputs": [
        {
          "output_type": "execute_result",
          "data": {
            "text/plain": [
              "(6690, 122, [80, 121, 116, 104, 111, 110, 32, 76, 105, 115])"
            ]
          },
          "metadata": {},
          "execution_count": 45
        }
      ]
    },
    {
      "cell_type": "code",
      "source": [
        "merges"
      ],
      "metadata": {
        "id": "NofmaBrLbpBY",
        "outputId": "e383fb01-fb3e-4b66-c6f5-1d0c13deff2c",
        "colab": {
          "base_uri": "https://localhost:8080/"
        }
      },
      "id": "NofmaBrLbpBY",
      "execution_count": 46,
      "outputs": [
        {
          "output_type": "execute_result",
          "data": {
            "text/plain": [
              "{(101, 32): 256,\n",
              " (32, 32): 257,\n",
              " (115, 32): 258,\n",
              " (32, 116): 259,\n",
              " (116, 104): 260,\n",
              " (115, 116): 261,\n",
              " (116, 32): 262,\n",
              " (32, 97): 263,\n",
              " (105, 110): 264,\n",
              " (105, 115): 265,\n",
              " (104, 101): 266,\n",
              " (108, 105): 267,\n",
              " (110, 32): 268,\n",
              " (32, 105): 269,\n",
              " (32, 108): 270,\n",
              " (44, 32): 271,\n",
              " (101, 110): 272,\n",
              " (111, 114): 273,\n",
              " (114, 101): 274,\n",
              " (111, 110): 275}"
            ]
          },
          "metadata": {},
          "execution_count": 46
        }
      ]
    }
  ],
  "metadata": {
    "colab": {
      "provenance": [],
      "toc_visible": true
    },
    "language_info": {
      "name": "python"
    },
    "kernelspec": {
      "name": "python3",
      "display_name": "Python 3"
    }
  },
  "nbformat": 4,
  "nbformat_minor": 5
}