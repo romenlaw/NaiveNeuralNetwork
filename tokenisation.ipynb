{
  "metadata": {
    "colab": {
      "provenance": [],
      "include_colab_link": true
    },
    "language_info": {
      "name": "python",
      "version": "3.10.14",
      "mimetype": "text/x-python",
      "codemirror_mode": {
        "name": "ipython",
        "version": 3
      },
      "pygments_lexer": "ipython3",
      "nbconvert_exporter": "python",
      "file_extension": ".py"
    },
    "kernelspec": {
      "name": "python3",
      "display_name": "Python 3",
      "language": "python"
    },
    "kaggle": {
      "accelerator": "none",
      "dataSources": [],
      "dockerImageVersionId": 30761,
      "isInternetEnabled": true,
      "language": "python",
      "sourceType": "notebook",
      "isGpuEnabled": false
    }
  },
  "nbformat_minor": 5,
  "nbformat": 4,
  "cells": [
    {
      "cell_type": "markdown",
      "metadata": {
        "id": "view-in-github",
        "colab_type": "text"
      },
      "source": [
        "<a href=\"https://colab.research.google.com/github/romenlaw/NaiveNeuralNetwork/blob/main/tokenisation.ipynb\" target=\"_parent\"><img src=\"https://colab.research.google.com/assets/colab-badge.svg\" alt=\"Open In Colab\"/></a>"
      ]
    },
    {
      "cell_type": "markdown",
      "source": [
        "* https://tiktokenizer.vercel.app/\n",
        "* [MEGABYTE: Predicting Million-byte Sequences with Multiscale Transformers](https://arxiv.org/abs/2305.07185)\n",
        "* https://en.wikipedia.org/wiki/Byte_pair_encoding"
      ],
      "metadata": {
        "id": "-szfcw647M4C"
      },
      "id": "-szfcw647M4C"
    },
    {
      "cell_type": "code",
      "source": [
        "s=\"\"\"Hello world! 世界这么大，我想去看看。看一看，瞧一瞧了啊！我瞧瞧！\n",
        "👋🌍\n",
        "121 + 458 = 679\n",
        "1215 - 121 = 1094\n",
        "-1215 + 121 = -1094\n",
        "\n",
        "Some python code here:\n",
        "# List of numbers\n",
        "numbers = [1, 2, 3, 4, 5, 6, 7, 8, 9, 10]\n",
        "\n",
        "# Loop through each number in the list\n",
        "for number in numbers:\n",
        "    # Check if the number is even\n",
        "    if number % 2 == 0:\n",
        "        print(f\"{number} is even\")\n",
        "    # Check if the number is odd\n",
        "    else:\n",
        "        print(f\"{number} is odd\")\n",
        "\"\"\"\n",
        "[list(x.encode(\"utf-8\")) for x in s[:50]]"
      ],
      "metadata": {
        "colab": {
          "base_uri": "https://localhost:8080/"
        },
        "id": "kOM2eDdB7a_h",
        "outputId": "8d7a5c02-15c0-4fa5-9e06-ceb07782677b"
      },
      "execution_count": 1,
      "outputs": [
        {
          "output_type": "execute_result",
          "data": {
            "text/plain": [
              "[[72],\n",
              " [101],\n",
              " [108],\n",
              " [108],\n",
              " [111],\n",
              " [32],\n",
              " [119],\n",
              " [111],\n",
              " [114],\n",
              " [108],\n",
              " [100],\n",
              " [33],\n",
              " [32],\n",
              " [228, 184, 150],\n",
              " [231, 149, 140],\n",
              " [232, 191, 153],\n",
              " [228, 185, 136],\n",
              " [229, 164, 167],\n",
              " [239, 188, 140],\n",
              " [230, 136, 145],\n",
              " [230, 131, 179],\n",
              " [229, 142, 187],\n",
              " [231, 156, 139],\n",
              " [231, 156, 139],\n",
              " [227, 128, 130],\n",
              " [231, 156, 139],\n",
              " [228, 184, 128],\n",
              " [231, 156, 139],\n",
              " [239, 188, 140],\n",
              " [231, 158, 167],\n",
              " [228, 184, 128],\n",
              " [231, 158, 167],\n",
              " [228, 186, 134],\n",
              " [229, 149, 138],\n",
              " [239, 188, 129],\n",
              " [230, 136, 145],\n",
              " [231, 158, 167],\n",
              " [231, 158, 167],\n",
              " [239, 188, 129],\n",
              " [10],\n",
              " [240, 159, 145, 139],\n",
              " [240, 159, 140, 141],\n",
              " [10],\n",
              " [49],\n",
              " [50],\n",
              " [49],\n",
              " [32],\n",
              " [43],\n",
              " [32],\n",
              " [52]]"
            ]
          },
          "metadata": {},
          "execution_count": 1
        }
      ],
      "id": "kOM2eDdB7a_h"
    },
    {
      "cell_type": "code",
      "source": [
        "[ord(x) for x in s[:50]]"
      ],
      "metadata": {
        "id": "iHd9V14pHqtT",
        "outputId": "c24faa95-c987-4544-e026-e1f0f7f3096a",
        "colab": {
          "base_uri": "https://localhost:8080/"
        }
      },
      "execution_count": 2,
      "outputs": [
        {
          "output_type": "execute_result",
          "data": {
            "text/plain": [
              "[72,\n",
              " 101,\n",
              " 108,\n",
              " 108,\n",
              " 111,\n",
              " 32,\n",
              " 119,\n",
              " 111,\n",
              " 114,\n",
              " 108,\n",
              " 100,\n",
              " 33,\n",
              " 32,\n",
              " 19990,\n",
              " 30028,\n",
              " 36825,\n",
              " 20040,\n",
              " 22823,\n",
              " 65292,\n",
              " 25105,\n",
              " 24819,\n",
              " 21435,\n",
              " 30475,\n",
              " 30475,\n",
              " 12290,\n",
              " 30475,\n",
              " 19968,\n",
              " 30475,\n",
              " 65292,\n",
              " 30631,\n",
              " 19968,\n",
              " 30631,\n",
              " 20102,\n",
              " 21834,\n",
              " 65281,\n",
              " 25105,\n",
              " 30631,\n",
              " 30631,\n",
              " 65281,\n",
              " 10,\n",
              " 128075,\n",
              " 127757,\n",
              " 10,\n",
              " 49,\n",
              " 50,\n",
              " 49,\n",
              " 32,\n",
              " 43,\n",
              " 32,\n",
              " 52]"
            ]
          },
          "metadata": {},
          "execution_count": 2
        }
      ],
      "id": "iHd9V14pHqtT"
    },
    {
      "cell_type": "code",
      "source": [
        "len('世世界')"
      ],
      "metadata": {
        "id": "JQBBr0giGBlK",
        "outputId": "fd128761-69cc-4390-f6df-59224343888e",
        "colab": {
          "base_uri": "https://localhost:8080/"
        }
      },
      "execution_count": 3,
      "outputs": [
        {
          "output_type": "execute_result",
          "data": {
            "text/plain": [
              "3"
            ]
          },
          "metadata": {},
          "execution_count": 3
        }
      ],
      "id": "JQBBr0giGBlK"
    },
    {
      "cell_type": "markdown",
      "source": [
        "# Byte Pair encoding"
      ],
      "metadata": {
        "id": "gJawlg0aJ9H6"
      },
      "id": "gJawlg0aJ9H6"
    },
    {
      "cell_type": "code",
      "source": [
        "raw_bytes = [x for x in s.encode('utf-8')]\n",
        "print(s, len(s), len(raw_bytes), raw_bytes)"
      ],
      "metadata": {
        "id": "tGjT7IOFJ_Sy",
        "outputId": "4aa899d4-3332-465d-b2db-2bdd8ec651f5",
        "colab": {
          "base_uri": "https://localhost:8080/"
        }
      },
      "execution_count": 4,
      "outputs": [
        {
          "output_type": "stream",
          "name": "stdout",
          "text": [
            "Hello world! 世界这么大，我想去看看。看一看，瞧一瞧了啊！我瞧瞧！\n",
            "👋🌍\n",
            "121 + 458 = 679\n",
            "1215 - 121 = 1094\n",
            "-1215 + 121 = -1094\n",
            "\n",
            "Some python code here:\n",
            "# List of numbers\n",
            "numbers = [1, 2, 3, 4, 5, 6, 7, 8, 9, 10]\n",
            "\n",
            "# Loop through each number in the list\n",
            "for number in numbers:\n",
            "    # Check if the number is even\n",
            "    if number % 2 == 0:\n",
            "        print(f\"{number} is even\")\n",
            "    # Check if the number is odd\n",
            "    else:\n",
            "        print(f\"{number} is odd\")\n",
            " 414 472 [72, 101, 108, 108, 111, 32, 119, 111, 114, 108, 100, 33, 32, 228, 184, 150, 231, 149, 140, 232, 191, 153, 228, 185, 136, 229, 164, 167, 239, 188, 140, 230, 136, 145, 230, 131, 179, 229, 142, 187, 231, 156, 139, 231, 156, 139, 227, 128, 130, 231, 156, 139, 228, 184, 128, 231, 156, 139, 239, 188, 140, 231, 158, 167, 228, 184, 128, 231, 158, 167, 228, 186, 134, 229, 149, 138, 239, 188, 129, 230, 136, 145, 231, 158, 167, 231, 158, 167, 239, 188, 129, 10, 240, 159, 145, 139, 240, 159, 140, 141, 10, 49, 50, 49, 32, 43, 32, 52, 53, 56, 32, 61, 32, 54, 55, 57, 10, 49, 50, 49, 53, 32, 45, 32, 49, 50, 49, 32, 61, 32, 49, 48, 57, 52, 10, 45, 49, 50, 49, 53, 32, 43, 32, 49, 50, 49, 32, 61, 32, 45, 49, 48, 57, 52, 10, 10, 83, 111, 109, 101, 32, 112, 121, 116, 104, 111, 110, 32, 99, 111, 100, 101, 32, 104, 101, 114, 101, 58, 10, 35, 32, 76, 105, 115, 116, 32, 111, 102, 32, 110, 117, 109, 98, 101, 114, 115, 10, 110, 117, 109, 98, 101, 114, 115, 32, 61, 32, 91, 49, 44, 32, 50, 44, 32, 51, 44, 32, 52, 44, 32, 53, 44, 32, 54, 44, 32, 55, 44, 32, 56, 44, 32, 57, 44, 32, 49, 48, 93, 10, 10, 35, 32, 76, 111, 111, 112, 32, 116, 104, 114, 111, 117, 103, 104, 32, 101, 97, 99, 104, 32, 110, 117, 109, 98, 101, 114, 32, 105, 110, 32, 116, 104, 101, 32, 108, 105, 115, 116, 10, 102, 111, 114, 32, 110, 117, 109, 98, 101, 114, 32, 105, 110, 32, 110, 117, 109, 98, 101, 114, 115, 58, 10, 32, 32, 32, 32, 35, 32, 67, 104, 101, 99, 107, 32, 105, 102, 32, 116, 104, 101, 32, 110, 117, 109, 98, 101, 114, 32, 105, 115, 32, 101, 118, 101, 110, 10, 32, 32, 32, 32, 105, 102, 32, 110, 117, 109, 98, 101, 114, 32, 37, 32, 50, 32, 61, 61, 32, 48, 58, 10, 32, 32, 32, 32, 32, 32, 32, 32, 112, 114, 105, 110, 116, 40, 102, 34, 123, 110, 117, 109, 98, 101, 114, 125, 32, 105, 115, 32, 101, 118, 101, 110, 34, 41, 10, 32, 32, 32, 32, 35, 32, 67, 104, 101, 99, 107, 32, 105, 102, 32, 116, 104, 101, 32, 110, 117, 109, 98, 101, 114, 32, 105, 115, 32, 111, 100, 100, 10, 32, 32, 32, 32, 101, 108, 115, 101, 58, 10, 32, 32, 32, 32, 32, 32, 32, 32, 112, 114, 105, 110, 116, 40, 102, 34, 123, 110, 117, 109, 98, 101, 114, 125, 32, 105, 115, 32, 111, 100, 100, 34, 41, 10]\n"
          ]
        }
      ],
      "id": "tGjT7IOFJ_Sy"
    },
    {
      "cell_type": "code",
      "source": [
        "def count_bytepairs(bytes):\n",
        "  counts = {}\n",
        "  for pair in zip(bytes, bytes[1:]):\n",
        "    counts[pair] = counts.get(pair, 0) + 1\n",
        "  counts = dict(sorted(counts.items(), key=lambda item: item[1], reverse=True))\n",
        "  return counts"
      ],
      "metadata": {
        "id": "ok0mtSsXLCcy"
      },
      "execution_count": 5,
      "outputs": [],
      "id": "ok0mtSsXLCcy"
    },
    {
      "cell_type": "code",
      "source": [
        "counts = count_bytepairs(raw_bytes)"
      ],
      "metadata": {
        "id": "HbacMk1XMZmS"
      },
      "execution_count": 6,
      "outputs": [],
      "id": "HbacMk1XMZmS"
    },
    {
      "cell_type": "code",
      "source": [
        "len(counts), list(counts)[:5]"
      ],
      "metadata": {
        "id": "H-7C7WqmM6by",
        "outputId": "6f04c654-59cf-46f4-c2b4-64cabc510dbe",
        "colab": {
          "base_uri": "https://localhost:8080/"
        }
      },
      "execution_count": 7,
      "outputs": [
        {
          "output_type": "execute_result",
          "data": {
            "text/plain": [
              "(224, [(32, 32), (101, 114), (110, 117), (117, 109), (109, 98)])"
            ]
          },
          "metadata": {},
          "execution_count": 7
        }
      ],
      "id": "H-7C7WqmM6by"
    },
    {
      "cell_type": "code",
      "source": [
        "counts"
      ],
      "metadata": {
        "colab": {
          "base_uri": "https://localhost:8080/"
        },
        "id": "EpfBUqsoSMMc",
        "outputId": "76119d45-a255-449f-f5d7-0c445c00f56d"
      },
      "execution_count": 8,
      "outputs": [
        {
          "output_type": "execute_result",
          "data": {
            "text/plain": [
              "{(32, 32): 26,\n",
              " (101, 114): 11,\n",
              " (110, 117): 10,\n",
              " (117, 109): 10,\n",
              " (109, 98): 10,\n",
              " (98, 101): 10,\n",
              " (44, 32): 9,\n",
              " (32, 105): 9,\n",
              " (32, 110): 7,\n",
              " (104, 101): 6,\n",
              " (105, 115): 6,\n",
              " (114, 32): 6,\n",
              " (10, 32): 6,\n",
              " (49, 50): 5,\n",
              " (50, 49): 5,\n",
              " (32, 61): 5,\n",
              " (61, 32): 5,\n",
              " (101, 32): 5,\n",
              " (116, 104): 5,\n",
              " (115, 32): 5,\n",
              " (239, 188): 4,\n",
              " (231, 156): 4,\n",
              " (156, 139): 4,\n",
              " (231, 158): 4,\n",
              " (158, 167): 4,\n",
              " (32, 49): 4,\n",
              " (58, 10): 4,\n",
              " (35, 32): 4,\n",
              " (102, 32): 4,\n",
              " (32, 116): 4,\n",
              " (32, 101): 4,\n",
              " (105, 110): 4,\n",
              " (228, 184): 3,\n",
              " (49, 32): 3,\n",
              " (49, 48): 3,\n",
              " (32, 112): 3,\n",
              " (110, 32): 3,\n",
              " (111, 100): 3,\n",
              " (32, 111): 3,\n",
              " (114, 115): 3,\n",
              " (105, 102): 3,\n",
              " (101, 108): 2,\n",
              " (111, 114): 2,\n",
              " (167, 239): 2,\n",
              " (188, 140): 2,\n",
              " (230, 136): 2,\n",
              " (136, 145): 2,\n",
              " (184, 128): 2,\n",
              " (128, 231): 2,\n",
              " (167, 228): 2,\n",
              " (188, 129): 2,\n",
              " (240, 159): 2,\n",
              " (10, 49): 2,\n",
              " (32, 43): 2,\n",
              " (43, 32): 2,\n",
              " (32, 52): 2,\n",
              " (32, 54): 2,\n",
              " (49, 53): 2,\n",
              " (53, 32): 2,\n",
              " (32, 45): 2,\n",
              " (48, 57): 2,\n",
              " (57, 52): 2,\n",
              " (52, 10): 2,\n",
              " (45, 49): 2,\n",
              " (10, 10): 2,\n",
              " (101, 58): 2,\n",
              " (10, 35): 2,\n",
              " (32, 76): 2,\n",
              " (115, 116): 2,\n",
              " (32, 50): 2,\n",
              " (104, 32): 2,\n",
              " (32, 35): 2,\n",
              " (32, 67): 2,\n",
              " (67, 104): 2,\n",
              " (101, 99): 2,\n",
              " (99, 107): 2,\n",
              " (107, 32): 2,\n",
              " (101, 118): 2,\n",
              " (118, 101): 2,\n",
              " (101, 110): 2,\n",
              " (112, 114): 2,\n",
              " (114, 105): 2,\n",
              " (110, 116): 2,\n",
              " (116, 40): 2,\n",
              " (40, 102): 2,\n",
              " (102, 34): 2,\n",
              " (34, 123): 2,\n",
              " (123, 110): 2,\n",
              " (114, 125): 2,\n",
              " (125, 32): 2,\n",
              " (34, 41): 2,\n",
              " (41, 10): 2,\n",
              " (100, 100): 2,\n",
              " (72, 101): 1,\n",
              " (108, 108): 1,\n",
              " (108, 111): 1,\n",
              " (111, 32): 1,\n",
              " (32, 119): 1,\n",
              " (119, 111): 1,\n",
              " (114, 108): 1,\n",
              " (108, 100): 1,\n",
              " (100, 33): 1,\n",
              " (33, 32): 1,\n",
              " (32, 228): 1,\n",
              " (184, 150): 1,\n",
              " (150, 231): 1,\n",
              " (231, 149): 1,\n",
              " (149, 140): 1,\n",
              " (140, 232): 1,\n",
              " (232, 191): 1,\n",
              " (191, 153): 1,\n",
              " (153, 228): 1,\n",
              " (228, 185): 1,\n",
              " (185, 136): 1,\n",
              " (136, 229): 1,\n",
              " (229, 164): 1,\n",
              " (164, 167): 1,\n",
              " (140, 230): 1,\n",
              " (145, 230): 1,\n",
              " (230, 131): 1,\n",
              " (131, 179): 1,\n",
              " (179, 229): 1,\n",
              " (229, 142): 1,\n",
              " (142, 187): 1,\n",
              " (187, 231): 1,\n",
              " (139, 231): 1,\n",
              " (139, 227): 1,\n",
              " (227, 128): 1,\n",
              " (128, 130): 1,\n",
              " (130, 231): 1,\n",
              " (139, 228): 1,\n",
              " (139, 239): 1,\n",
              " (140, 231): 1,\n",
              " (228, 186): 1,\n",
              " (186, 134): 1,\n",
              " (134, 229): 1,\n",
              " (229, 149): 1,\n",
              " (149, 138): 1,\n",
              " (138, 239): 1,\n",
              " (129, 230): 1,\n",
              " (145, 231): 1,\n",
              " (167, 231): 1,\n",
              " (129, 10): 1,\n",
              " (10, 240): 1,\n",
              " (159, 145): 1,\n",
              " (145, 139): 1,\n",
              " (139, 240): 1,\n",
              " (159, 140): 1,\n",
              " (140, 141): 1,\n",
              " (141, 10): 1,\n",
              " (52, 53): 1,\n",
              " (53, 56): 1,\n",
              " (56, 32): 1,\n",
              " (54, 55): 1,\n",
              " (55, 57): 1,\n",
              " (57, 10): 1,\n",
              " (45, 32): 1,\n",
              " (10, 45): 1,\n",
              " (10, 83): 1,\n",
              " (83, 111): 1,\n",
              " (111, 109): 1,\n",
              " (109, 101): 1,\n",
              " (112, 121): 1,\n",
              " (121, 116): 1,\n",
              " (104, 111): 1,\n",
              " (111, 110): 1,\n",
              " (32, 99): 1,\n",
              " (99, 111): 1,\n",
              " (100, 101): 1,\n",
              " (32, 104): 1,\n",
              " (114, 101): 1,\n",
              " (76, 105): 1,\n",
              " (116, 32): 1,\n",
              " (111, 102): 1,\n",
              " (115, 10): 1,\n",
              " (10, 110): 1,\n",
              " (32, 91): 1,\n",
              " (91, 49): 1,\n",
              " (49, 44): 1,\n",
              " (50, 44): 1,\n",
              " (32, 51): 1,\n",
              " (51, 44): 1,\n",
              " (52, 44): 1,\n",
              " (32, 53): 1,\n",
              " (53, 44): 1,\n",
              " (54, 44): 1,\n",
              " (32, 55): 1,\n",
              " (55, 44): 1,\n",
              " (32, 56): 1,\n",
              " (56, 44): 1,\n",
              " (32, 57): 1,\n",
              " (57, 44): 1,\n",
              " (48, 93): 1,\n",
              " (93, 10): 1,\n",
              " (76, 111): 1,\n",
              " (111, 111): 1,\n",
              " (111, 112): 1,\n",
              " (112, 32): 1,\n",
              " (104, 114): 1,\n",
              " (114, 111): 1,\n",
              " (111, 117): 1,\n",
              " (117, 103): 1,\n",
              " (103, 104): 1,\n",
              " (101, 97): 1,\n",
              " (97, 99): 1,\n",
              " (99, 104): 1,\n",
              " (32, 108): 1,\n",
              " (108, 105): 1,\n",
              " (116, 10): 1,\n",
              " (10, 102): 1,\n",
              " (102, 111): 1,\n",
              " (115, 58): 1,\n",
              " (110, 10): 1,\n",
              " (32, 37): 1,\n",
              " (37, 32): 1,\n",
              " (50, 32): 1,\n",
              " (61, 61): 1,\n",
              " (32, 48): 1,\n",
              " (48, 58): 1,\n",
              " (110, 34): 1,\n",
              " (100, 10): 1,\n",
              " (108, 115): 1,\n",
              " (115, 101): 1,\n",
              " (100, 34): 1}"
            ]
          },
          "metadata": {},
          "execution_count": 8
        }
      ],
      "id": "EpfBUqsoSMMc"
    },
    {
      "cell_type": "code",
      "source": [
        "# utf-8 stops at 255, so our new tokens will start at 256\n",
        "\n",
        "def merge_pair(raw_bytes, pair):\n",
        "  \"\"\"pair is a list containing two integers, representing the utf-8 code of\n",
        "  the 2 characters to be replaced\n",
        "  \"\"\"\n",
        "  assert isinstance(pair, list) and len(pair)==2, \"pair must be a list of two integers\"\n",
        "  max_val = max(raw_bytes)\n",
        "  NEW_TOKEN = [256 if max_val<256 else max_val+1]\n",
        "  for i in range(len(raw_bytes)-1, 0, -1):  # loop backwards\n",
        "    #print(i-1, i)\n",
        "    if raw_bytes[i-1:i+1] == pair:\n",
        "      raw_bytes[i-1:i+1] = NEW_TOKEN\n",
        "\n",
        "  return raw_bytes\n"
      ],
      "metadata": {
        "id": "B7zczb9qd43p"
      },
      "execution_count": 9,
      "outputs": [],
      "id": "B7zczb9qd43p"
    },
    {
      "cell_type": "code",
      "source": [
        "out = merge_pair(raw_bytes, [32,32])\n",
        "len(out)"
      ],
      "metadata": {
        "colab": {
          "base_uri": "https://localhost:8080/"
        },
        "id": "V6Wjt6LEukF6",
        "outputId": "0a74ab41-b03b-4263-e6c7-45f58322e266"
      },
      "execution_count": 10,
      "outputs": [
        {
          "output_type": "execute_result",
          "data": {
            "text/plain": [
              "456"
            ]
          },
          "metadata": {},
          "execution_count": 10
        }
      ],
      "id": "V6Wjt6LEukF6"
    },
    {
      "cell_type": "code",
      "source": [
        "counts = count_bytepairs(raw_bytes)\n",
        "key, value = next(iter(counts.items())) # get first entry of dict\n",
        "while value>1:\n",
        "  for pair, count in counts.items():\n",
        "    if count>1:\n",
        "      merge_pair(raw_bytes, list(pair))\n",
        "    else:\n",
        "      break\n",
        "  counts = count_bytepairs(raw_bytes)\n",
        "  key, value = next(iter(counts.items())) # get first entry of dict"
      ],
      "metadata": {
        "id": "m-Vrp18Gv1gX"
      },
      "execution_count": 11,
      "outputs": [],
      "id": "m-Vrp18Gv1gX"
    },
    {
      "cell_type": "code",
      "source": [
        "print(len(raw_bytes), max(raw_bytes), raw_bytes)"
      ],
      "metadata": {
        "colab": {
          "base_uri": "https://localhost:8080/"
        },
        "id": "5naQ-fC8RzGW",
        "outputId": "cf923dd4-ed63-44fe-a5ac-bcaa0a9db213"
      },
      "execution_count": 12,
      "outputs": [
        {
          "output_type": "stream",
          "name": "stdout",
          "text": [
            "190 358 [72, 288, 108, 111, 32, 119, 289, 108, 100, 33, 32, 281, 150, 231, 149, 140, 232, 191, 153, 228, 185, 136, 229, 164, 320, 140, 322, 230, 131, 179, 229, 142, 187, 312, 312, 227, 128, 130, 312, 323, 312, 321, 315, 323, 274, 291, 186, 134, 229, 149, 138, 324, 322, 315, 315, 324, 10, 292, 145, 139, 292, 140, 141, 325, 282, 294, 52, 53, 56, 267, 295, 55, 57, 325, 296, 297, 346, 275, 298, 300, 45, 326, 293, 346, 297, 283, 299, 301, 83, 111, 109, 269, 112, 121, 270, 111, 284, 99, 285, 269, 104, 257, 329, 330, 331, 286, 278, 345, 10, 345, 267, 32, 91, 49, 261, 50, 261, 51, 261, 52, 261, 53, 261, 54, 261, 55, 261, 56, 261, 57, 261, 283, 93, 301, 330, 111, 111, 112, 32, 270, 114, 111, 117, 103, 104, 287, 97, 99, 303, 344, 110, 279, 317, 108, 331, 10, 102, 111, 265, 344, 284, 345, 318, 357, 335, 306, 319, 105, 347, 257, 32, 37, 302, 267, 268, 48, 358, 336, 310, 319, 357, 342, 100, 319, 288, 115, 101, 358, 343, 341]\n"
          ]
        }
      ],
      "id": "5naQ-fC8RzGW"
    },
    {
      "cell_type": "markdown",
      "source": [
        "# Byte Pair Implementation"
      ],
      "metadata": {
        "id": "vQdBeSLUYIad"
      },
      "id": "vQdBeSLUYIad"
    },
    {
      "cell_type": "code",
      "source": [
        "s = \"\"\"Hello world! 世界这么大，我想去看看。看一看，瞧一瞧了啊！我瞧瞧！\n",
        "👋🌍\n",
        "121 + 458 = 679\n",
        "1215 - 121 = 1094\n",
        "-1215 + 121 = -1094\n",
        "Python Lists\n",
        "\n",
        "bookmark_border\n",
        "Python has a great built-in list type named \"list\". List literals are written within square brackets [ ]. Lists work similarly to strings -- use the len() function and square brackets [ ] to access data, with the first element at index 0. (See the official python.org list docs.)\n",
        "\n",
        "\n",
        "  colors = ['red', 'blue', 'green']\n",
        "  print(colors[0])    ## red\n",
        "  print(colors[2])    ## green\n",
        "  print(len(colors))  ## 3\n",
        "list of strings 'red' 'blue 'green'\n",
        "\n",
        "Assignment with an = on lists does not make a copy. Instead, assignment makes the two variables point to the one list in memory.\n",
        "\n",
        "\n",
        "  b = colors   ## Does not copy the list\n",
        "both colors and b point to the one list\n",
        "\n",
        "The \"empty list\" is just an empty pair of brackets [ ]. The '+' works to append two lists, so [1, 2] + [3, 4] yields [1, 2, 3, 4] (this is just like + with strings).\n",
        "\n",
        "FOR and IN\n",
        "Python's *for* and *in* constructs are extremely useful, and the first use of them we'll see is with lists. The *for* construct -- for var in list -- is an easy way to look at each element in a list (or other collection). Do not add or remove from the list during iteration.\n",
        "\n",
        "\n",
        "  squares = [1, 4, 9, 16]\n",
        "  sum = 0\n",
        "  for num in squares:\n",
        "    sum += num\n",
        "  print(sum)  ## 30\n",
        "If you know what sort of thing is in the list, use a variable name in the loop that captures that information such as \"num\", or \"name\", or \"url\". Since Python code does not have other syntax to remind you of types, your variable names are a key way for you to keep straight what is going on. (This is a little misleading. As you gain more exposure to python, you'll see references to type hints which allow you to add typing information to your function definitions. Python doesn't use these type hints when it runs your programs. They are used by other programs such as IDEs (integrated development environments) and static analysis tools like linters/type checkers to validate if your functions are called with compatible arguments.)\n",
        "\n",
        "The *in* construct on its own is an easy way to test if an element appears in a list (or other collection) -- value in collection -- tests if the value is in the collection, returning True/False.\n",
        "\n",
        "\n",
        "  list = ['larry', 'curly', 'moe']\n",
        "  if 'curly' in list:\n",
        "    print('yay') ## yay\n",
        "The for/in constructs are very commonly used in Python code and work on data types other than list, so you should just memorize their syntax. You may have habits from other languages where you start manually iterating over a collection, where in Python you should just use for/in.\n",
        "\n",
        "You can also use for/in to work on a string. The string acts like a list of its chars, so for ch in s: print(ch) prints all the chars in a string.\n",
        "\n",
        "Range\n",
        "The range(n) function yields the numbers 0, 1, ... n-1, and range(a, b) returns a, a+1, ... b-1 -- up to but not including the last number. The combination of the for-loop and the range() function allow you to build a traditional numeric for loop:\n",
        "\n",
        "\n",
        "  ## print the numbers from 0 through 99\n",
        "  for i in range(100):\n",
        "    print(i)\n",
        "There is a variant xrange() which avoids the cost of building the whole list for performance sensitive cases (in Python 3, range() will have the good performance behavior and you can forget about xrange()).\n",
        "\n",
        "While Loop\n",
        "Python also has the standard while-loop, and the *break* and *continue* statements work as in C++ and Java, altering the course of the innermost loop. The above for/in loops solves the common case of iterating over every element in a list, but the while loop gives you total control over the index numbers. Here's a while loop which accesses every 3rd element in a list:\n",
        "\n",
        "\n",
        "  ## Access every 3rd element in a list\n",
        "  i = 0\n",
        "  while i < len(a):\n",
        "    print(a[i])\n",
        "    i = i + 3\n",
        "List Methods\n",
        "Here are some other common list methods.\n",
        "\n",
        "list.append(elem) -- adds a single element to the end of the list. Common error: does not return the new list, just modifies the original.\n",
        "list.insert(index, elem) -- inserts the element at the given index, shifting elements to the right.\n",
        "list.extend(list2) adds the elements in list2 to the end of the list. Using + or += on a list is similar to using extend().\n",
        "list.index(elem) -- searches for the given element from the start of the list and returns its index. Throws a ValueError if the element does not appear (use \"in\" to check without a ValueError).\n",
        "list.remove(elem) -- searches for the first instance of the given element and removes it (throws ValueError if not present)\n",
        "list.sort() -- sorts the list in place (does not return it). (The sorted() function shown later is preferred.)\n",
        "list.reverse() -- reverses the list in place (does not return it)\n",
        "list.pop(index) -- removes and returns the element at the given index. Returns the rightmost element if index is omitted (roughly the opposite of append()).\n",
        "Notice that these are *methods* on a list object, while len() is a function that takes the list (or string or whatever) as an argument.\n",
        "\n",
        "\n",
        "  list = ['larry', 'curly', 'moe']\n",
        "  list.append('shemp')         ## append elem at end\n",
        "  list.insert(0, 'xxx')        ## insert elem at index 0\n",
        "  list.extend(['yyy', 'zzz'])  ## add list of elems at end\n",
        "  print(list)  ## ['xxx', 'larry', 'curly', 'moe', 'shemp', 'yyy', 'zzz']\n",
        "  print(list.index('curly'))    ## 2\n",
        "\n",
        "  list.remove('curly')         ## search and remove that element\n",
        "  list.pop(1)                  ## removes and returns 'larry'\n",
        "  print(list)  ## ['xxx', 'moe', 'shemp', 'yyy', 'zzz']\n",
        "Common error: note that the above methods do not *return* the modified list, they just modify the original list.\n",
        "\n",
        "\n",
        "  list = [1, 2, 3]\n",
        "  print(list.append(4))   ## NO, does not work, append() returns None\n",
        "  ## Correct pattern:\n",
        "  list.append(4)\n",
        "  print(list)  ## [1, 2, 3, 4]\n",
        "List Build Up\n",
        "One common pattern is to start a list as the empty list [], then use append() or extend() to add elements to it:\n",
        "\n",
        "\n",
        "  list = []          ## Start as the empty list\n",
        "  list.append('a')   ## Use append() to add elements\n",
        "  list.append('b')\n",
        "List Slices\n",
        "Slices work on lists just as with strings, and can also be used to change sub-parts of the list.\n",
        "\n",
        "\n",
        "  list = ['a', 'b', 'c', 'd']\n",
        "  print(list[1:-1])   ## ['b', 'c']\n",
        "  list[0:2] = 'z'    ## replace ['a', 'b'] with ['z']\n",
        "  print(list)         ## ['z', 'c', 'd']\n",
        "Exercise: list1.py\n",
        "To practice the material in this section, try the problems in list1.py that do not use sorting (in the Basic Exercises).\n",
        "\n",
        "Was this helpful?\n",
        "\n",
        "Except as otherwise noted, the content of this page is licensed under the Creative Commons Attribution 4.0 License, and code samples are licensed under the Apache 2.0 License. For details, see the Google Developers Site Policies. Java is a registered trademark of Oracle and/or its affiliates.\n",
        "\n",
        "Last updated 2024-07-23 UTC.\n",
        "\"\"\"\n",
        "tokens = s.encode(\"utf-8\")"
      ],
      "metadata": {
        "id": "rehK7GmPYv3_",
        "execution": {
          "iopub.status.busy": "2024-09-18T05:24:25.510940Z",
          "iopub.execute_input": "2024-09-18T05:24:25.511494Z",
          "iopub.status.idle": "2024-09-18T05:24:25.525200Z",
          "shell.execute_reply.started": "2024-09-18T05:24:25.511442Z",
          "shell.execute_reply": "2024-09-18T05:24:25.523907Z"
        },
        "trusted": true
      },
      "execution_count": 38,
      "outputs": [],
      "id": "rehK7GmPYv3_"
    },
    {
      "cell_type": "code",
      "source": [
        "def count_bytepairs(bytes):\n",
        "  counts = {}\n",
        "  for pair in zip(bytes, bytes[1:]):\n",
        "    counts[pair] = counts.get(pair, 0) + 1\n",
        "  counts = dict(sorted(counts.items(), key=lambda item: item[1], reverse=True))\n",
        "  return counts\n",
        "\n",
        "def merge_bytepair(raw_bytes, pair, new_token):\n",
        "  \"\"\"pair is a list containing two integers, representing the utf-8 code of\n",
        "  the 2 characters to be replaced\n",
        "  \"\"\"\n",
        "  assert isinstance(pair, list) and len(pair)==2, \"pair must be a list of two integers\"\n",
        "  for i in range(len(raw_bytes)-1, 0, -1):  # loop backwards\n",
        "    #print(i-1, i)\n",
        "    if raw_bytes[i-1:i+1] == pair:\n",
        "      raw_bytes[i-1:i+1] = [new_token]\n",
        "\n",
        "  return raw_bytes\n",
        "\n",
        "# hyper parameters\n",
        "vocab_size = 296\n",
        "num_merges = vocab_size - 256\n",
        "merges = {} # build up a lookup of what has been merged into what\n",
        "vocab = { i:bytes([i]) for i in range(256)}\n",
        "\n",
        "def encode(s):\n",
        "  \"\"\"Given a string, return a list of integers using utf-8 and byte pair\n",
        "  \"\"\"\n",
        "  assert isinstance(s, str), f\"expect string, but got {type(s).__name__}\"\n",
        "  tokens = s.encode(\"utf-8\")\n",
        "  token_copy = list(tokens)\n",
        "  counts = count_bytepairs(token_copy)\n",
        "  if len(counts) <=1: # otherwise next(counts_iter) in below loop will fail\n",
        "      return token_copy\n",
        "\n",
        "  new_token = 255\n",
        "  counts_iter = iter(counts.items())\n",
        "  #for i in range(num_merges):\n",
        "  while True:\n",
        "    new_token += 1\n",
        "    pair, count = next(counts_iter)\n",
        "    if count>1:\n",
        "      pair_copy = list(pair)\n",
        "      merge_bytepair(token_copy, pair_copy, new_token)\n",
        "      merges[pair] = new_token\n",
        "    else:\n",
        "      break\n",
        "\n",
        "  vocab.update({tok:bytes([b1])+bytes([b2]) for (b1,b2), tok in merges.items()})\n",
        "  return token_copy"
      ],
      "metadata": {
        "id": "vbz3i7wtYMaS",
        "execution": {
          "iopub.status.busy": "2024-09-18T05:24:28.611589Z",
          "iopub.execute_input": "2024-09-18T05:24:28.611984Z",
          "iopub.status.idle": "2024-09-18T05:24:28.622503Z",
          "shell.execute_reply.started": "2024-09-18T05:24:28.611946Z",
          "shell.execute_reply": "2024-09-18T05:24:28.621477Z"
        },
        "trusted": true
      },
      "execution_count": 60,
      "outputs": [],
      "id": "vbz3i7wtYMaS"
    },
    {
      "cell_type": "code",
      "source": [
        "enc = encode(s)\n",
        "print(len(enc), max(enc), enc[:100])"
      ],
      "metadata": {
        "colab": {
          "base_uri": "https://localhost:8080/"
        },
        "id": "I8DqzMq8ZRWl",
        "outputId": "c5f19ffe-6087-465b-cdd3-8c89cedb820f",
        "execution": {
          "iopub.status.busy": "2024-09-18T05:24:33.187446Z",
          "iopub.execute_input": "2024-09-18T05:24:33.187818Z",
          "iopub.status.idle": "2024-09-18T05:24:33.618013Z",
          "shell.execute_reply.started": "2024-09-18T05:24:33.187784Z",
          "shell.execute_reply": "2024-09-18T05:24:33.616927Z"
        },
        "trusted": true
      },
      "execution_count": 61,
      "outputs": [
        {
          "output_type": "stream",
          "name": "stdout",
          "text": [
            "3959 742 [72, 302, 108, 292, 119, 273, 437, 33, 32, 588, 150, 231, 149, 140, 232, 191, 153, 228, 185, 136, 229, 164, 167, 536, 140, 634, 145, 230, 131, 179, 229, 142, 187, 537, 139, 537, 139, 227, 128, 130, 537, 139, 588, 128, 537, 139, 536, 140, 539, 167, 588, 128, 539, 638, 186, 134, 229, 149, 138, 536, 129, 634, 145, 539, 167, 539, 167, 536, 129, 10, 640, 145, 139, 640, 140, 141, 10, 511, 49, 438, 478, 53, 56, 32, 349, 54, 55, 642, 511, 643, 364, 32, 511, 541, 349, 589, 646, 10, 45, 511]\n"
          ]
        }
      ],
      "id": "I8DqzMq8ZRWl"
    },
    {
      "cell_type": "code",
      "source": [
        "len(tokens), max(tokens), list(tokens)[:10]"
      ],
      "metadata": {
        "colab": {
          "base_uri": "https://localhost:8080/"
        },
        "id": "m1I7BpkUaZeg",
        "outputId": "06f6fee3-baeb-472b-b8ce-053bdfae39ad",
        "execution": {
          "iopub.status.busy": "2024-09-18T05:16:25.789065Z",
          "iopub.execute_input": "2024-09-18T05:16:25.789469Z",
          "iopub.status.idle": "2024-09-18T05:16:25.796398Z",
          "shell.execute_reply.started": "2024-09-18T05:16:25.789430Z",
          "shell.execute_reply": "2024-09-18T05:16:25.795380Z"
        },
        "trusted": true
      },
      "execution_count": 41,
      "outputs": [
        {
          "output_type": "execute_result",
          "data": {
            "text/plain": [
              "(6843, 240, [72, 101, 108, 108, 111, 32, 119, 111, 114, 108])"
            ]
          },
          "metadata": {},
          "execution_count": 41
        }
      ],
      "id": "m1I7BpkUaZeg"
    },
    {
      "cell_type": "code",
      "source": [
        "print(f\"compression ratio: {len(tokens) / len(enc):.2f}X\", merges)"
      ],
      "metadata": {
        "colab": {
          "base_uri": "https://localhost:8080/"
        },
        "id": "NofmaBrLbpBY",
        "outputId": "5816aa19-3f33-4995-8b89-ba8a8e6de03c",
        "execution": {
          "iopub.status.busy": "2024-09-18T05:24:39.433417Z",
          "iopub.execute_input": "2024-09-18T05:24:39.433778Z",
          "iopub.status.idle": "2024-09-18T05:24:39.439524Z",
          "shell.execute_reply.started": "2024-09-18T05:24:39.433745Z",
          "shell.execute_reply": "2024-09-18T05:24:39.438662Z"
        },
        "trusted": true
      },
      "execution_count": 42,
      "outputs": [
        {
          "output_type": "stream",
          "name": "stdout",
          "text": [
            "compression ratio: 1.73X {(101, 32): 256, (32, 32): 257, (115, 32): 258, (32, 116): 259, (116, 104): 260, (115, 116): 261, (116, 32): 262, (32, 97): 263, (105, 110): 264, (105, 115): 265, (104, 101): 266, (108, 105): 267, (110, 32): 268, (32, 105): 269, (32, 108): 270, (44, 32): 271, (101, 110): 272, (111, 114): 273, (114, 101): 274, (111, 110): 275, (101, 114): 276, (110, 100): 277, (110, 116): 278, (108, 101): 279, (32, 111): 280, (32, 115): 281, (100, 32): 282, (97, 110): 283, (101, 109): 284, (101, 115): 285, (114, 32): 286, (115, 101): 287, (41, 32): 288, (32, 101): 289, (10, 32): 290, (97, 114): 291, (111, 32): 292, (114, 105): 293, (32, 99): 294, (32, 119): 295, (97, 116): 296, (109, 101): 297, (32, 112): 298, (110, 103): 299, (10, 10): 300, (116, 101): 301, (101, 108): 302, (32, 39): 303, (118, 101): 304, (116, 115): 305, (105, 116): 306, (116, 105): 307, (99, 111): 308, (116, 111): 309, (32, 102): 310, (32, 114): 311, (97, 32): 312, (32, 110): 313, (121, 32): 314, (102, 32): 315, (46, 32): 316, (111, 116): 317, (109, 111): 318, (117, 114): 319, (110, 115): 320, (111, 117): 321, (97, 108): 322, (39, 44): 323, (32, 35): 324, (35, 35): 325, (35, 32): 326, (116, 46): 327, (112, 101): 328, (112, 114): 329, (114, 97): 330, (100, 101): 331, (104, 97): 332, (32, 91): 333, (117, 115): 334, (99, 116): 335, (105, 111): 336, (114, 115): 337, (102, 111): 338, (108, 111): 339, (104, 111): 340, (101, 116): 341, (99, 101): 342, (111, 102): 343, (97, 115): 344, (104, 105): 345, (116, 114): 346, (46, 10): 347, (32, 121): 348, (61, 32): 349, (101, 100): 350, (116, 40): 351, (114, 111): 352, (32, 117): 353, (104, 32): 354, (101, 120): 355, (103, 32): 356, (99, 104): 357, (32, 61): 358, (105, 99): 359, (111, 108): 360, (110, 111): 361, (111, 112): 362, (121, 111): 363, (32, 45): 364, (32, 98): 365, (105, 108): 366, (40, 41): 367, (32, 100): 368, (116, 97): 369, (32, 40): 370, (97, 112): 371, (112, 112): 372, (111, 109): 373, (119, 104): 374, (100, 40): 375, (108, 108): 376, (45, 32): 377, (111, 111): 378, (32, 109): 379, (84, 104): 380, (114, 116): 381, (121, 39): 382, (101, 97): 383, (97, 99): 384, (45, 45): 385, (110, 99): 386, (111, 101): 387, (115, 111): 388, (117, 109): 389, (117, 32): 390, (114, 110): 391, (107, 101): 392, (108, 97): 393, (108, 121): 394, (93, 10): 395, (111, 118): 396, (116, 117): 397, (103, 101): 398, (121, 116): 399, (109, 97): 400, (116, 121): 401, (119, 105): 402, (115, 105): 403, (100, 111): 404, (91, 39): 405, (39, 93): 406, (97, 100): 407, (111, 100): 408, (105, 102): 409, (114, 114): 410, (119, 111): 411, (32, 103): 412, (117, 110): 413, (108, 32): 414, (118, 97): 415, (114, 121): 416, (109, 32): 417, (101, 99): 418, (110, 117): 419, (101, 40): 420, (114, 108): 421, (80, 121): 422, (114, 107): 423, (32, 104): 424, (110, 97): 425, (102, 117): 426, (115, 46): 427, (41, 10): 428, (117, 101): 429, (40, 108): 430, (32, 51): 431, (10, 108): 432, (32, 118): 433, (109, 112): 434, (100, 115): 435, (39, 99): 436, (108, 100): 437, (32, 43): 438, (76, 105): 439, (107, 32): 440, (102, 105): 441, (101, 101): 442, (108, 117): 443, (32, 84): 444, (49, 44): 445, (41, 46): 446, (32, 42): 447, (42, 32): 448, (58, 10): 449, (101, 118): 450, (103, 105): 451, (43, 32): 452, (103, 114): 453, (121, 112): 454, (97, 109): 455, (108, 115): 456, (93, 32): 457, (105, 97): 458, (98, 108): 459, (101, 39): 460, (105, 103): 461, (97, 98): 462, (32, 106): 463, (106, 117): 464, (112, 97): 465, (32, 50): 466, (100, 100): 467, (115, 117): 468, (111, 119): 469, (99, 97): 470, (97, 118): 471, (100, 105): 472, (39, 41): 473, (109, 109): 474, (115, 104): 475, (105, 118): 476, (116, 41): 477, (32, 52): 478, (32, 76): 479, (98, 111): 480, (98, 117): 481, (32, 34): 482, (116, 116): 483, (117, 97): 484, (105, 114): 485, (32, 48): 486, (112, 121): 487, (39, 98): 488, (112, 111): 489, (110, 101): 490, (10, 84): 491, (112, 116): 492, (91, 49): 493, (114, 117): 494, (117, 99): 495, (39, 108): 496, (97, 121): 497, (116, 44): 498, (112, 32): 499, (32, 80): 500, (40, 105): 501, (99, 117): 502, (40, 39): 503, (98, 101): 504, (46, 97): 505, (120, 120): 506, (121, 121): 507, (39, 122): 508, (122, 122): 509, (122, 39): 510, (49, 50): 511, (50, 49): 512, (32, 49): 513, (45, 49): 514, (99, 107): 515, (109, 105): 516, (115, 115): 517, (100, 97): 518, (120, 32): 519, (93, 41): 520, (41, 41): 521, (116, 10): 522, (115, 44): 523, (105, 101): 524, (39, 115): 525, (120, 116): 526, (109, 41): 527, (114, 109): 528, (103, 104): 529, (111, 115): 530, (109, 98): 531, (117, 116): 532, (105, 32): 533, (32, 67): 534, (114, 99): 535, (239, 188): 536, (231, 156): 537, (156, 139): 538, (231, 158): 539, (158, 167): 540, (49, 32): 541, (10, 80): 542, (115, 10): 543, (114, 100): 544, (117, 105): 545, (115, 113): 546, (113, 117): 547, (98, 114): 548, (103, 115): 549, (110, 40): 550, (97, 44): 551, (99, 105): 552, (110, 46): 553, (114, 103): 554, (100, 39): 555, (110, 39): 556, (40, 99): 557, (115, 41): 558, (39, 32): 559, (97, 107): 560, (111, 105): 561, (97, 105): 562, (51, 44): 563, (101, 102): 564, (117, 108): 565, (115, 121): 566, (102, 114): 567, (48, 10): 568, (119, 32): 569, (32, 83): 570, (32, 65): 571, (110, 44): 572, (109, 115): 573, (39, 109): 574, (39, 121): 575, (114, 47): 576, (47, 105): 577, (58, 32): 578, (46, 46): 579, (10, 76): 580, (67, 111): 581, (46, 105): 582, (32, 85): 583, (112, 108): 584, (46, 112): 585, (98, 39): 586, (72, 101): 587, (228, 184): 588, (49, 48): 589, (91, 32): 590, (32, 93): 591, (99, 99): 592, (46, 41): 593, (100, 10): 594, (50, 93): 595, (110, 109): 596, (32, 73): 597, (32, 68): 598, (52, 93): 599, (50, 44): 600, (105, 107): 601, (110, 42): 602, (119, 97): 603, (40, 111): 604, (110, 41): 605, (32, 107): 606, (101, 121): 607, (101, 112): 608, (104, 116): 609, (103, 46): 610, (111, 103): 611, (99, 32): 612, (103, 117): 613, (116, 58): 614, (120, 46): 615, (40, 97): 616, (48, 32): 617, (104, 114): 618, (40, 101): 619, (32, 86): 620, (86, 97): 621, (101, 69): 622, (69, 114): 623, (46, 114): 624, (112, 39): 625, (39, 120): 626, (120, 39): 627, (39, 97): 628, (97, 39): 629, (99, 39): 630, (69, 120): 631, (167, 239): 632, (188, 140): 633, (230, 136): 634, (136, 145): 635, (184, 128): 636, (128, 231): 637, (167, 228): 638, (188, 129): 639, (240, 159): 640, (10, 49): 641, (57, 10): 642, (49, 53): 643, (53, 32): 644, (48, 57): 645, (57, 52): 646, (52, 10): 647, (10, 98): 648, (111, 107): 649, (108, 116): 650, (116, 34): 651, (34, 46): 652, (93, 46): 653, (105, 109): 654, (102, 102): 655, (39, 114): 656, (39, 103): 657, (115, 91): 658, (91, 48): 659, (51, 10): 660, (39, 10): 661, (65, 115): 662, (103, 110): 663, (121, 46): 664, (100, 44): 665, (116, 119): 666, (98, 32): 667, (68, 111): 668, (34, 32): 669, (121, 105): 670, (40, 116): 671, (42, 102): 672, (114, 42): 673, (42, 105): 674, (32, 57): 675, (115, 58): 676, (43, 61): 677, (110, 102): 678, (34, 110): 679, (34, 44): 680, (83, 105): 681, (121, 110): 682, (97, 120): 683, (103, 111): 684, (40, 84): 685, (102, 101): 686, (110, 105): 687, (101, 103): 688, (118, 105): 689, (105, 100): 690, (105, 98): 691, (119, 110): 692, (101, 46): 693, (121, 97): 694, (121, 10): 695, (89, 111): 696, (98, 105): 697, (97, 103): 698, (101, 10): 699, (48, 44): 700, (32, 46): 701, (98, 45): 702, (117, 112): 703, (99, 108): 704, (45, 108): 705, (117, 103): 706, (40, 49): 707, (41, 58): 708, (32, 120): 709, (120, 114): 710, (114, 102): 711, (10, 87): 712, (112, 10): 713, (32, 74): 714, (74, 97): 715, (51, 114): 716, (103, 108): 717, (114, 58): 718, (120, 44): 719, (46, 101): 720, (116, 50): 721, (85, 115): 722, (120, 40): 723, (119, 115): 724, (114, 41): 725, (40, 100): 726, (112, 40): 727, (78, 111): 728, (111, 98): 729, (40, 52): 730, (52, 41): 731, (32, 78): 732, (32, 66): 733, (91, 93): 734, (83, 108): 735, (39, 100): 736, (116, 91): 737, (10, 69): 738, (120, 101): 739, (116, 49): 740, (49, 46): 741, (46, 48): 742}\n"
          ]
        }
      ],
      "id": "NofmaBrLbpBY"
    },
    {
      "cell_type": "code",
      "source": [
        "max(merges, key=merges.get)"
      ],
      "metadata": {
        "id": "P_6VxCLBqAh1",
        "outputId": "0190bf15-0ae1-49c4-8747-2c49a9a2e280",
        "colab": {
          "base_uri": "https://localhost:8080/"
        },
        "execution": {
          "iopub.status.busy": "2024-09-18T05:24:45.401351Z",
          "iopub.execute_input": "2024-09-18T05:24:45.402224Z",
          "iopub.status.idle": "2024-09-18T05:24:45.408413Z",
          "shell.execute_reply.started": "2024-09-18T05:24:45.402183Z",
          "shell.execute_reply": "2024-09-18T05:24:45.407401Z"
        },
        "trusted": true
      },
      "execution_count": 43,
      "outputs": [
        {
          "output_type": "execute_result",
          "data": {
            "text/plain": [
              "(46, 48)"
            ]
          },
          "metadata": {},
          "execution_count": 43
        }
      ],
      "id": "P_6VxCLBqAh1"
    },
    {
      "cell_type": "markdown",
      "source": [
        "# Decoding\n",
        "Given a list of tokens (integers), return python string."
      ],
      "metadata": {
        "id": "8RK8_1izoxUt"
      },
      "id": "8RK8_1izoxUt"
    },
    {
      "cell_type": "code",
      "source": [
        "print(vocab)"
      ],
      "metadata": {
        "execution": {
          "iopub.status.busy": "2024-09-18T05:24:54.530835Z",
          "iopub.execute_input": "2024-09-18T05:24:54.531215Z",
          "iopub.status.idle": "2024-09-18T05:24:54.536833Z",
          "shell.execute_reply.started": "2024-09-18T05:24:54.531181Z",
          "shell.execute_reply": "2024-09-18T05:24:54.535758Z"
        },
        "trusted": true,
        "id": "TvsHL7VadjR2",
        "outputId": "3ae1e85b-cd67-4bcb-d999-6c66300aae2f",
        "colab": {
          "base_uri": "https://localhost:8080/"
        }
      },
      "execution_count": 62,
      "outputs": [
        {
          "output_type": "stream",
          "name": "stdout",
          "text": [
            "{0: b'\\x00', 1: b'\\x01', 2: b'\\x02', 3: b'\\x03', 4: b'\\x04', 5: b'\\x05', 6: b'\\x06', 7: b'\\x07', 8: b'\\x08', 9: b'\\t', 10: b'\\n', 11: b'\\x0b', 12: b'\\x0c', 13: b'\\r', 14: b'\\x0e', 15: b'\\x0f', 16: b'\\x10', 17: b'\\x11', 18: b'\\x12', 19: b'\\x13', 20: b'\\x14', 21: b'\\x15', 22: b'\\x16', 23: b'\\x17', 24: b'\\x18', 25: b'\\x19', 26: b'\\x1a', 27: b'\\x1b', 28: b'\\x1c', 29: b'\\x1d', 30: b'\\x1e', 31: b'\\x1f', 32: b' ', 33: b'!', 34: b'\"', 35: b'#', 36: b'$', 37: b'%', 38: b'&', 39: b\"'\", 40: b'(', 41: b')', 42: b'*', 43: b'+', 44: b',', 45: b'-', 46: b'.', 47: b'/', 48: b'0', 49: b'1', 50: b'2', 51: b'3', 52: b'4', 53: b'5', 54: b'6', 55: b'7', 56: b'8', 57: b'9', 58: b':', 59: b';', 60: b'<', 61: b'=', 62: b'>', 63: b'?', 64: b'@', 65: b'A', 66: b'B', 67: b'C', 68: b'D', 69: b'E', 70: b'F', 71: b'G', 72: b'H', 73: b'I', 74: b'J', 75: b'K', 76: b'L', 77: b'M', 78: b'N', 79: b'O', 80: b'P', 81: b'Q', 82: b'R', 83: b'S', 84: b'T', 85: b'U', 86: b'V', 87: b'W', 88: b'X', 89: b'Y', 90: b'Z', 91: b'[', 92: b'\\\\', 93: b']', 94: b'^', 95: b'_', 96: b'`', 97: b'a', 98: b'b', 99: b'c', 100: b'd', 101: b'e', 102: b'f', 103: b'g', 104: b'h', 105: b'i', 106: b'j', 107: b'k', 108: b'l', 109: b'm', 110: b'n', 111: b'o', 112: b'p', 113: b'q', 114: b'r', 115: b's', 116: b't', 117: b'u', 118: b'v', 119: b'w', 120: b'x', 121: b'y', 122: b'z', 123: b'{', 124: b'|', 125: b'}', 126: b'~', 127: b'\\x7f', 128: b'\\x80', 129: b'\\x81', 130: b'\\x82', 131: b'\\x83', 132: b'\\x84', 133: b'\\x85', 134: b'\\x86', 135: b'\\x87', 136: b'\\x88', 137: b'\\x89', 138: b'\\x8a', 139: b'\\x8b', 140: b'\\x8c', 141: b'\\x8d', 142: b'\\x8e', 143: b'\\x8f', 144: b'\\x90', 145: b'\\x91', 146: b'\\x92', 147: b'\\x93', 148: b'\\x94', 149: b'\\x95', 150: b'\\x96', 151: b'\\x97', 152: b'\\x98', 153: b'\\x99', 154: b'\\x9a', 155: b'\\x9b', 156: b'\\x9c', 157: b'\\x9d', 158: b'\\x9e', 159: b'\\x9f', 160: b'\\xa0', 161: b'\\xa1', 162: b'\\xa2', 163: b'\\xa3', 164: b'\\xa4', 165: b'\\xa5', 166: b'\\xa6', 167: b'\\xa7', 168: b'\\xa8', 169: b'\\xa9', 170: b'\\xaa', 171: b'\\xab', 172: b'\\xac', 173: b'\\xad', 174: b'\\xae', 175: b'\\xaf', 176: b'\\xb0', 177: b'\\xb1', 178: b'\\xb2', 179: b'\\xb3', 180: b'\\xb4', 181: b'\\xb5', 182: b'\\xb6', 183: b'\\xb7', 184: b'\\xb8', 185: b'\\xb9', 186: b'\\xba', 187: b'\\xbb', 188: b'\\xbc', 189: b'\\xbd', 190: b'\\xbe', 191: b'\\xbf', 192: b'\\xc0', 193: b'\\xc1', 194: b'\\xc2', 195: b'\\xc3', 196: b'\\xc4', 197: b'\\xc5', 198: b'\\xc6', 199: b'\\xc7', 200: b'\\xc8', 201: b'\\xc9', 202: b'\\xca', 203: b'\\xcb', 204: b'\\xcc', 205: b'\\xcd', 206: b'\\xce', 207: b'\\xcf', 208: b'\\xd0', 209: b'\\xd1', 210: b'\\xd2', 211: b'\\xd3', 212: b'\\xd4', 213: b'\\xd5', 214: b'\\xd6', 215: b'\\xd7', 216: b'\\xd8', 217: b'\\xd9', 218: b'\\xda', 219: b'\\xdb', 220: b'\\xdc', 221: b'\\xdd', 222: b'\\xde', 223: b'\\xdf', 224: b'\\xe0', 225: b'\\xe1', 226: b'\\xe2', 227: b'\\xe3', 228: b'\\xe4', 229: b'\\xe5', 230: b'\\xe6', 231: b'\\xe7', 232: b'\\xe8', 233: b'\\xe9', 234: b'\\xea', 235: b'\\xeb', 236: b'\\xec', 237: b'\\xed', 238: b'\\xee', 239: b'\\xef', 240: b'\\xf0', 241: b'\\xf1', 242: b'\\xf2', 243: b'\\xf3', 244: b'\\xf4', 245: b'\\xf5', 246: b'\\xf6', 247: b'\\xf7', 248: b'\\xf8', 249: b'\\xf9', 250: b'\\xfa', 251: b'\\xfb', 252: b'\\xfc', 253: b'\\xfd', 254: b'\\xfe', 255: b'\\xff', 256: b'e ', 257: b'  ', 258: b's ', 259: b' t', 260: b'th', 261: b'st', 262: b't ', 263: b' a', 264: b'in', 265: b'is', 266: b'he', 267: b'li', 268: b'n ', 269: b' i', 270: b' l', 271: b', ', 272: b'en', 273: b'or', 274: b're', 275: b'on', 276: b'er', 277: b'nd', 278: b'nt', 279: b'le', 280: b' o', 281: b' s', 282: b'd ', 283: b'an', 284: b'em', 285: b'es', 286: b'r ', 287: b'se', 288: b') ', 289: b' e', 290: b'\\n ', 291: b'ar', 292: b'o ', 293: b'ri', 294: b' c', 295: b' w', 296: b'at', 297: b'me', 298: b' p', 299: b'ng', 300: b'\\n\\n', 301: b'te', 302: b'el', 303: b\" '\", 304: b've', 305: b'ts', 306: b'it', 307: b'ti', 308: b'co', 309: b'to', 310: b' f', 311: b' r', 312: b'a ', 313: b' n', 314: b'y ', 315: b'f ', 316: b'. ', 317: b'ot', 318: b'mo', 319: b'ur', 320: b'ns', 321: b'ou', 322: b'al', 323: b\"',\", 324: b' #', 325: b'##', 326: b'# ', 327: b't.', 328: b'pe', 329: b'pr', 330: b'ra', 331: b'de', 332: b'ha', 333: b' [', 334: b'us', 335: b'ct', 336: b'io', 337: b'rs', 338: b'fo', 339: b'lo', 340: b'ho', 341: b'et', 342: b'ce', 343: b'of', 344: b'as', 345: b'hi', 346: b'tr', 347: b'.\\n', 348: b' y', 349: b'= ', 350: b'ed', 351: b't(', 352: b'ro', 353: b' u', 354: b'h ', 355: b'ex', 356: b'g ', 357: b'ch', 358: b' =', 359: b'ic', 360: b'ol', 361: b'no', 362: b'op', 363: b'yo', 364: b' -', 365: b' b', 366: b'il', 367: b'()', 368: b' d', 369: b'ta', 370: b' (', 371: b'ap', 372: b'pp', 373: b'om', 374: b'wh', 375: b'd(', 376: b'll', 377: b'- ', 378: b'oo', 379: b' m', 380: b'Th', 381: b'rt', 382: b\"y'\", 383: b'ea', 384: b'ac', 385: b'--', 386: b'nc', 387: b'oe', 388: b'so', 389: b'um', 390: b'u ', 391: b'rn', 392: b'ke', 393: b'la', 394: b'ly', 395: b']\\n', 396: b'ov', 397: b'tu', 398: b'ge', 399: b'yt', 400: b'ma', 401: b'ty', 402: b'wi', 403: b'si', 404: b'do', 405: b\"['\", 406: b\"']\", 407: b'ad', 408: b'od', 409: b'if', 410: b'rr', 411: b'wo', 412: b' g', 413: b'un', 414: b'l ', 415: b'va', 416: b'ry', 417: b'm ', 418: b'ec', 419: b'nu', 420: b'e(', 421: b'rl', 422: b'Py', 423: b'rk', 424: b' h', 425: b'na', 426: b'fu', 427: b's.', 428: b')\\n', 429: b'ue', 430: b'(l', 431: b' 3', 432: b'\\nl', 433: b' v', 434: b'mp', 435: b'ds', 436: b\"'c\", 437: b'ld', 438: b' +', 439: b'Li', 440: b'k ', 441: b'fi', 442: b'ee', 443: b'lu', 444: b' T', 445: b'1,', 446: b').', 447: b' *', 448: b'* ', 449: b':\\n', 450: b'ev', 451: b'gi', 452: b'+ ', 453: b'gr', 454: b'yp', 455: b'am', 456: b'ls', 457: b'] ', 458: b'ia', 459: b'bl', 460: b\"e'\", 461: b'ig', 462: b'ab', 463: b' j', 464: b'ju', 465: b'pa', 466: b' 2', 467: b'dd', 468: b'su', 469: b'ow', 470: b'ca', 471: b'av', 472: b'di', 473: b\"')\", 474: b'mm', 475: b'sh', 476: b'iv', 477: b't)', 478: b' 4', 479: b' L', 480: b'bo', 481: b'bu', 482: b' \"', 483: b'tt', 484: b'ua', 485: b'ir', 486: b' 0', 487: b'py', 488: b\"'b\", 489: b'po', 490: b'ne', 491: b'\\nT', 492: b'pt', 493: b'[1', 494: b'ru', 495: b'uc', 496: b\"'l\", 497: b'ay', 498: b't,', 499: b'p ', 500: b' P', 501: b'(i', 502: b'cu', 503: b\"('\", 504: b'be', 505: b'.a', 506: b'xx', 507: b'yy', 508: b\"'z\", 509: b'zz', 510: b\"z'\", 511: b'12', 512: b'21', 513: b' 1', 514: b'-1', 515: b'ck', 516: b'mi', 517: b'ss', 518: b'da', 519: b'x ', 520: b'])', 521: b'))', 522: b't\\n', 523: b's,', 524: b'ie', 525: b\"'s\", 526: b'xt', 527: b'm)', 528: b'rm', 529: b'gh', 530: b'os', 531: b'mb', 532: b'ut', 533: b'i ', 534: b' C', 535: b'rc', 536: b'\\xef\\xbc', 537: b'\\xe7\\x9c', 538: b'\\x9c\\x8b', 539: b'\\xe7\\x9e', 540: b'\\x9e\\xa7', 541: b'1 ', 542: b'\\nP', 543: b's\\n', 544: b'rd', 545: b'ui', 546: b'sq', 547: b'qu', 548: b'br', 549: b'gs', 550: b'n(', 551: b'a,', 552: b'ci', 553: b'n.', 554: b'rg', 555: b\"d'\", 556: b\"n'\", 557: b'(c', 558: b's)', 559: b\"' \", 560: b'ak', 561: b'oi', 562: b'ai', 563: b'3,', 564: b'ef', 565: b'ul', 566: b'sy', 567: b'fr', 568: b'0\\n', 569: b'w ', 570: b' S', 571: b' A', 572: b'n,', 573: b'ms', 574: b\"'m\", 575: b\"'y\", 576: b'r/', 577: b'/i', 578: b': ', 579: b'..', 580: b'\\nL', 581: b'Co', 582: b'.i', 583: b' U', 584: b'pl', 585: b'.p', 586: b\"b'\", 587: b'He', 588: b'\\xe4\\xb8', 589: b'10', 590: b'[ ', 591: b' ]', 592: b'cc', 593: b'.)', 594: b'd\\n', 595: b'2]', 596: b'nm', 597: b' I', 598: b' D', 599: b'4]', 600: b'2,', 601: b'ik', 602: b'n*', 603: b'wa', 604: b'(o', 605: b'n)', 606: b' k', 607: b'ey', 608: b'ep', 609: b'ht', 610: b'g.', 611: b'og', 612: b'c ', 613: b'gu', 614: b't:', 615: b'x.', 616: b'(a', 617: b'0 ', 618: b'hr', 619: b'(e', 620: b' V', 621: b'Va', 622: b'eE', 623: b'Er', 624: b'.r', 625: b\"p'\", 626: b\"'x\", 627: b\"x'\", 628: b\"'a\", 629: b\"a'\", 630: b\"c'\", 631: b'Ex', 632: b'\\xa7\\xef', 633: b'\\xbc\\x8c', 634: b'\\xe6\\x88', 635: b'\\x88\\x91', 636: b'\\xb8\\x80', 637: b'\\x80\\xe7', 638: b'\\xa7\\xe4', 639: b'\\xbc\\x81', 640: b'\\xf0\\x9f', 641: b'\\n1', 642: b'9\\n', 643: b'15', 644: b'5 ', 645: b'09', 646: b'94', 647: b'4\\n', 648: b'\\nb', 649: b'ok', 650: b'lt', 651: b't\"', 652: b'\".', 653: b'].', 654: b'im', 655: b'ff', 656: b\"'r\", 657: b\"'g\", 658: b's[', 659: b'[0', 660: b'3\\n', 661: b\"'\\n\", 662: b'As', 663: b'gn', 664: b'y.', 665: b'd,', 666: b'tw', 667: b'b ', 668: b'Do', 669: b'\" ', 670: b'yi', 671: b'(t', 672: b'*f', 673: b'r*', 674: b'*i', 675: b' 9', 676: b's:', 677: b'+=', 678: b'nf', 679: b'\"n', 680: b'\",', 681: b'Si', 682: b'yn', 683: b'ax', 684: b'go', 685: b'(T', 686: b'fe', 687: b'ni', 688: b'eg', 689: b'vi', 690: b'id', 691: b'ib', 692: b'wn', 693: b'e.', 694: b'ya', 695: b'y\\n', 696: b'Yo', 697: b'bi', 698: b'ag', 699: b'e\\n', 700: b'0,', 701: b' .', 702: b'b-', 703: b'up', 704: b'cl', 705: b'-l', 706: b'ug', 707: b'(1', 708: b'):', 709: b' x', 710: b'xr', 711: b'rf', 712: b'\\nW', 713: b'p\\n', 714: b' J', 715: b'Ja', 716: b'3r', 717: b'gl', 718: b'r:', 719: b'x,', 720: b'.e', 721: b't2', 722: b'Us', 723: b'x(', 724: b'ws', 725: b'r)', 726: b'(d', 727: b'p(', 728: b'No', 729: b'ob', 730: b'(4', 731: b'4)', 732: b' N', 733: b' B', 734: b'[]', 735: b'Sl', 736: b\"'d\", 737: b't[', 738: b'\\nE', 739: b'xe', 740: b't1', 741: b'1.', 742: b'.0'}\n"
          ]
        }
      ],
      "id": "TvsHL7VadjR2"
    },
    {
      "cell_type": "code",
      "source": [
        "def decode(ids):\n",
        "  \"\"\"Given a list of tokens (integers), return a python string\n",
        "  \"\"\"\n",
        "  assert isinstance(ids, list), \"ids must be list\"\n",
        "  assert all((isinstance(i, int) and i>=0 ) for i in ids), \\\n",
        "    \"ids must be a list of integers in [0, vocab_size)\"\n",
        "#   out = bytes()\n",
        "#   for b in ids:\n",
        "#     out += vocab[b]\n",
        "  out = b\"\".join(vocab[b] for b in ids)\n",
        "  return out.decode(\"utf-8\", errors='replace') # see utf-8 spec"
      ],
      "metadata": {
        "id": "vmaxsaDNo3bY",
        "execution": {
          "iopub.status.busy": "2024-09-18T05:25:41.635331Z",
          "iopub.execute_input": "2024-09-18T05:25:41.635772Z",
          "iopub.status.idle": "2024-09-18T05:25:41.642048Z",
          "shell.execute_reply.started": "2024-09-18T05:25:41.635732Z",
          "shell.execute_reply": "2024-09-18T05:25:41.640842Z"
        },
        "trusted": true
      },
      "execution_count": 46,
      "outputs": [],
      "id": "vmaxsaDNo3bY"
    },
    {
      "cell_type": "code",
      "source": [
        "decode([66,32,67]), decode([128])"
      ],
      "metadata": {
        "execution": {
          "iopub.status.busy": "2024-09-18T05:09:05.274835Z",
          "iopub.execute_input": "2024-09-18T05:09:05.275505Z",
          "iopub.status.idle": "2024-09-18T05:09:05.282052Z",
          "shell.execute_reply.started": "2024-09-18T05:09:05.275466Z",
          "shell.execute_reply": "2024-09-18T05:09:05.280822Z"
        },
        "trusted": true,
        "id": "tmOxa_radjR2",
        "outputId": "5e6910bd-8e41-4736-cc77-af4aaafa7426",
        "colab": {
          "base_uri": "https://localhost:8080/"
        }
      },
      "execution_count": 22,
      "outputs": [
        {
          "output_type": "execute_result",
          "data": {
            "text/plain": [
              "('B C', '�')"
            ]
          },
          "metadata": {},
          "execution_count": 22
        }
      ],
      "id": "tmOxa_radjR2"
    },
    {
      "cell_type": "code",
      "source": [
        "s=\"\"\"assert isinstance(ids, list), \"ids must be a list\" \"\"\"\n",
        "tokens = s.encode(\"utf-8\")\n",
        "decode(list(tokens))"
      ],
      "metadata": {
        "id": "LcMnCYc4sV0o",
        "outputId": "643c8274-ac1b-4ea9-e435-de7f6c0d1afd",
        "colab": {
          "base_uri": "https://localhost:8080/",
          "height": 35
        },
        "execution": {
          "iopub.status.busy": "2024-09-18T05:09:10.635030Z",
          "iopub.execute_input": "2024-09-18T05:09:10.635740Z",
          "iopub.status.idle": "2024-09-18T05:09:10.641692Z",
          "shell.execute_reply.started": "2024-09-18T05:09:10.635698Z",
          "shell.execute_reply": "2024-09-18T05:09:10.640698Z"
        },
        "trusted": true
      },
      "execution_count": 23,
      "outputs": [
        {
          "output_type": "execute_result",
          "data": {
            "text/plain": [
              "'assert isinstance(ids, list), \"ids must be a list\" '"
            ],
            "application/vnd.google.colaboratory.intrinsic+json": {
              "type": "string"
            }
          },
          "metadata": {},
          "execution_count": 23
        }
      ],
      "id": "LcMnCYc4sV0o"
    },
    {
      "cell_type": "code",
      "source": [
        "decode(enc)==s, decode(enc)"
      ],
      "metadata": {
        "id": "AHt8b3_Eslsm",
        "execution": {
          "iopub.status.busy": "2024-09-18T05:27:37.880633Z",
          "iopub.execute_input": "2024-09-18T05:27:37.881381Z",
          "iopub.status.idle": "2024-09-18T05:27:37.888566Z",
          "shell.execute_reply.started": "2024-09-18T05:27:37.881338Z",
          "shell.execute_reply": "2024-09-18T05:27:37.887444Z"
        },
        "trusted": true,
        "outputId": "9455fc63-7bb1-4f3b-8b30-07dbdc7b6701",
        "colab": {
          "base_uri": "https://localhost:8080/"
        }
      },
      "execution_count": 63,
      "outputs": [
        {
          "output_type": "execute_result",
          "data": {
            "text/plain": [
              "(True,\n",
              " 'Hello world! 世界这么大，我想去看看。看一看，瞧一瞧了啊！我瞧瞧！\\n👋🌍\\n121 + 458 = 679\\n1215 - 121 = 1094\\n-1215 + 121 = -1094\\nPython Lists\\n\\nbookmark_border\\nPython has a great built-in list type named \"list\". List literals are written within square brackets [ ]. Lists work similarly to strings -- use the len() function and square brackets [ ] to access data, with the first element at index 0. (See the official python.org list docs.)\\n\\n\\n  colors = [\\'red\\', \\'blue\\', \\'green\\']\\n  print(colors[0])    ## red\\n  print(colors[2])    ## green\\n  print(len(colors))  ## 3\\nlist of strings \\'red\\' \\'blue \\'green\\'\\n\\nAssignment with an = on lists does not make a copy. Instead, assignment makes the two variables point to the one list in memory.\\n\\n\\n  b = colors   ## Does not copy the list\\nboth colors and b point to the one list\\n\\nThe \"empty list\" is just an empty pair of brackets [ ]. The \\'+\\' works to append two lists, so [1, 2] + [3, 4] yields [1, 2, 3, 4] (this is just like + with strings).\\n\\nFOR and IN\\nPython\\'s *for* and *in* constructs are extremely useful, and the first use of them we\\'ll see is with lists. The *for* construct -- for var in list -- is an easy way to look at each element in a list (or other collection). Do not add or remove from the list during iteration.\\n\\n\\n  squares = [1, 4, 9, 16]\\n  sum = 0\\n  for num in squares:\\n    sum += num\\n  print(sum)  ## 30\\nIf you know what sort of thing is in the list, use a variable name in the loop that captures that information such as \"num\", or \"name\", or \"url\". Since Python code does not have other syntax to remind you of types, your variable names are a key way for you to keep straight what is going on. (This is a little misleading. As you gain more exposure to python, you\\'ll see references to type hints which allow you to add typing information to your function definitions. Python doesn\\'t use these type hints when it runs your programs. They are used by other programs such as IDEs (integrated development environments) and static analysis tools like linters/type checkers to validate if your functions are called with compatible arguments.)\\n\\nThe *in* construct on its own is an easy way to test if an element appears in a list (or other collection) -- value in collection -- tests if the value is in the collection, returning True/False.\\n\\n\\n  list = [\\'larry\\', \\'curly\\', \\'moe\\']\\n  if \\'curly\\' in list:\\n    print(\\'yay\\') ## yay\\nThe for/in constructs are very commonly used in Python code and work on data types other than list, so you should just memorize their syntax. You may have habits from other languages where you start manually iterating over a collection, where in Python you should just use for/in.\\n\\nYou can also use for/in to work on a string. The string acts like a list of its chars, so for ch in s: print(ch) prints all the chars in a string.\\n\\nRange\\nThe range(n) function yields the numbers 0, 1, ... n-1, and range(a, b) returns a, a+1, ... b-1 -- up to but not including the last number. The combination of the for-loop and the range() function allow you to build a traditional numeric for loop:\\n\\n\\n  ## print the numbers from 0 through 99\\n  for i in range(100):\\n    print(i)\\nThere is a variant xrange() which avoids the cost of building the whole list for performance sensitive cases (in Python 3, range() will have the good performance behavior and you can forget about xrange()).\\n\\nWhile Loop\\nPython also has the standard while-loop, and the *break* and *continue* statements work as in C++ and Java, altering the course of the innermost loop. The above for/in loops solves the common case of iterating over every element in a list, but the while loop gives you total control over the index numbers. Here\\'s a while loop which accesses every 3rd element in a list:\\n\\n\\n  ## Access every 3rd element in a list\\n  i = 0\\n  while i < len(a):\\n    print(a[i])\\n    i = i + 3\\nList Methods\\nHere are some other common list methods.\\n\\nlist.append(elem) -- adds a single element to the end of the list. Common error: does not return the new list, just modifies the original.\\nlist.insert(index, elem) -- inserts the element at the given index, shifting elements to the right.\\nlist.extend(list2) adds the elements in list2 to the end of the list. Using + or += on a list is similar to using extend().\\nlist.index(elem) -- searches for the given element from the start of the list and returns its index. Throws a ValueError if the element does not appear (use \"in\" to check without a ValueError).\\nlist.remove(elem) -- searches for the first instance of the given element and removes it (throws ValueError if not present)\\nlist.sort() -- sorts the list in place (does not return it). (The sorted() function shown later is preferred.)\\nlist.reverse() -- reverses the list in place (does not return it)\\nlist.pop(index) -- removes and returns the element at the given index. Returns the rightmost element if index is omitted (roughly the opposite of append()).\\nNotice that these are *methods* on a list object, while len() is a function that takes the list (or string or whatever) as an argument.\\n\\n\\n  list = [\\'larry\\', \\'curly\\', \\'moe\\']\\n  list.append(\\'shemp\\')         ## append elem at end\\n  list.insert(0, \\'xxx\\')        ## insert elem at index 0\\n  list.extend([\\'yyy\\', \\'zzz\\'])  ## add list of elems at end\\n  print(list)  ## [\\'xxx\\', \\'larry\\', \\'curly\\', \\'moe\\', \\'shemp\\', \\'yyy\\', \\'zzz\\']\\n  print(list.index(\\'curly\\'))    ## 2\\n\\n  list.remove(\\'curly\\')         ## search and remove that element\\n  list.pop(1)                  ## removes and returns \\'larry\\'\\n  print(list)  ## [\\'xxx\\', \\'moe\\', \\'shemp\\', \\'yyy\\', \\'zzz\\']\\nCommon error: note that the above methods do not *return* the modified list, they just modify the original list.\\n\\n\\n  list = [1, 2, 3]\\n  print(list.append(4))   ## NO, does not work, append() returns None\\n  ## Correct pattern:\\n  list.append(4)\\n  print(list)  ## [1, 2, 3, 4]\\nList Build Up\\nOne common pattern is to start a list as the empty list [], then use append() or extend() to add elements to it:\\n\\n\\n  list = []          ## Start as the empty list\\n  list.append(\\'a\\')   ## Use append() to add elements\\n  list.append(\\'b\\')\\nList Slices\\nSlices work on lists just as with strings, and can also be used to change sub-parts of the list.\\n\\n\\n  list = [\\'a\\', \\'b\\', \\'c\\', \\'d\\']\\n  print(list[1:-1])   ## [\\'b\\', \\'c\\']\\n  list[0:2] = \\'z\\'    ## replace [\\'a\\', \\'b\\'] with [\\'z\\']\\n  print(list)         ## [\\'z\\', \\'c\\', \\'d\\']\\nExercise: list1.py\\nTo practice the material in this section, try the problems in list1.py that do not use sorting (in the Basic Exercises).\\n\\nWas this helpful?\\n\\nExcept as otherwise noted, the content of this page is licensed under the Creative Commons Attribution 4.0 License, and code samples are licensed under the Apache 2.0 License. For details, see the Google Developers Site Policies. Java is a registered trademark of Oracle and/or its affiliates.\\n\\nLast updated 2024-07-23 UTC.\\n')"
            ]
          },
          "metadata": {},
          "execution_count": 63
        }
      ],
      "id": "AHt8b3_Eslsm"
    },
    {
      "cell_type": "code",
      "source": [
        "encode(\"\")"
      ],
      "metadata": {
        "id": "tTAMsXKMsopc",
        "outputId": "b891b461-44d8-436d-9eb6-540ffa83029f",
        "colab": {
          "base_uri": "https://localhost:8080/"
        },
        "execution": {
          "iopub.status.busy": "2024-09-18T05:17:06.308693Z",
          "iopub.execute_input": "2024-09-18T05:17:06.309561Z",
          "iopub.status.idle": "2024-09-18T05:17:06.316210Z",
          "shell.execute_reply.started": "2024-09-18T05:17:06.309517Z",
          "shell.execute_reply": "2024-09-18T05:17:06.315139Z"
        },
        "trusted": true
      },
      "execution_count": 50,
      "outputs": [
        {
          "output_type": "execute_result",
          "data": {
            "text/plain": [
              "[]"
            ]
          },
          "metadata": {},
          "execution_count": 50
        }
      ],
      "id": "tTAMsXKMsopc"
    },
    {
      "cell_type": "code",
      "source": [
        "len(counts)"
      ],
      "metadata": {
        "execution": {
          "iopub.status.busy": "2024-09-18T05:04:43.137298Z",
          "iopub.execute_input": "2024-09-18T05:04:43.138155Z",
          "iopub.status.idle": "2024-09-18T05:04:43.143909Z",
          "shell.execute_reply.started": "2024-09-18T05:04:43.138105Z",
          "shell.execute_reply": "2024-09-18T05:04:43.142906Z"
        },
        "trusted": true,
        "id": "6C7YQvamdjR3",
        "outputId": "60b80b16-8e51-42d9-ad99-9585083eefd3",
        "colab": {
          "base_uri": "https://localhost:8080/"
        }
      },
      "execution_count": 51,
      "outputs": [
        {
          "output_type": "execute_result",
          "data": {
            "text/plain": [
              "189"
            ]
          },
          "metadata": {},
          "execution_count": 51
        }
      ],
      "id": "6C7YQvamdjR3"
    },
    {
      "cell_type": "markdown",
      "source": [
        "# forcing split (gpt2)\n",
        "https://github.com/openai/gpt-2/blob/master/src/encoder.py"
      ],
      "metadata": {
        "id": "rCxkFaQGdjR3"
      },
      "id": "rCxkFaQGdjR3"
    },
    {
      "cell_type": "code",
      "source": [
        "import regex as re\n",
        "gpt2pat = re.compile(r\"\"\"'s|'t|'re|'ve|'m|'ll|'d| ?\\p{L}+| ?\\p{N}+| ?[^\\s\\p{L}\\p{N}]+|\\s+(?!\\S)|\\s+\"\"\")\n",
        "re.findall(gpt2pat, \"Hello world!!!      How've you been??         \")"
      ],
      "metadata": {
        "execution": {
          "iopub.status.busy": "2024-09-18T05:46:44.918758Z",
          "iopub.execute_input": "2024-09-18T05:46:44.919594Z",
          "iopub.status.idle": "2024-09-18T05:46:44.940550Z",
          "shell.execute_reply.started": "2024-09-18T05:46:44.919553Z",
          "shell.execute_reply": "2024-09-18T05:46:44.939579Z"
        },
        "trusted": true,
        "id": "OeAsG0xDdjR3",
        "outputId": "d74abdda-31e6-4980-8070-937bf5696402",
        "colab": {
          "base_uri": "https://localhost:8080/"
        }
      },
      "execution_count": 27,
      "outputs": [
        {
          "output_type": "execute_result",
          "data": {
            "text/plain": [
              "['Hello',\n",
              " ' world',\n",
              " '!!!',\n",
              " '     ',\n",
              " ' How',\n",
              " \"'ve\",\n",
              " ' you',\n",
              " ' been',\n",
              " '??',\n",
              " '         ']"
            ]
          },
          "metadata": {},
          "execution_count": 27
        }
      ],
      "id": "OeAsG0xDdjR3"
    },
    {
      "cell_type": "markdown",
      "source": [
        "# tiktokeniser\n",
        "* https://github.com/openai/tiktoken\n",
        "* https://github.com/openai/tiktoken/blob/main/tiktoken_ext/openai_public.py"
      ],
      "metadata": {
        "id": "mCfE0D7KdjR4"
      },
      "id": "mCfE0D7KdjR4"
    },
    {
      "cell_type": "code",
      "source": [
        "!pip install tiktoken\n",
        "import tiktoken"
      ],
      "metadata": {
        "execution": {
          "iopub.status.busy": "2024-09-18T05:47:56.862206Z",
          "iopub.execute_input": "2024-09-18T05:47:56.863124Z",
          "iopub.status.idle": "2024-09-18T05:48:10.679541Z",
          "shell.execute_reply.started": "2024-09-18T05:47:56.863077Z",
          "shell.execute_reply": "2024-09-18T05:48:10.678456Z"
        },
        "trusted": true,
        "id": "5mnMFh1HdjR4",
        "outputId": "689f6c3f-77b5-4496-e82e-1917b539b2a4",
        "colab": {
          "base_uri": "https://localhost:8080/"
        }
      },
      "execution_count": 52,
      "outputs": [
        {
          "output_type": "stream",
          "name": "stdout",
          "text": [
            "Requirement already satisfied: tiktoken in /usr/local/lib/python3.10/dist-packages (0.7.0)\n",
            "Requirement already satisfied: regex>=2022.1.18 in /usr/local/lib/python3.10/dist-packages (from tiktoken) (2024.5.15)\n",
            "Requirement already satisfied: requests>=2.26.0 in /usr/local/lib/python3.10/dist-packages (from tiktoken) (2.32.3)\n",
            "Requirement already satisfied: charset-normalizer<4,>=2 in /usr/local/lib/python3.10/dist-packages (from requests>=2.26.0->tiktoken) (3.3.2)\n",
            "Requirement already satisfied: idna<4,>=2.5 in /usr/local/lib/python3.10/dist-packages (from requests>=2.26.0->tiktoken) (3.8)\n",
            "Requirement already satisfied: urllib3<3,>=1.21.1 in /usr/local/lib/python3.10/dist-packages (from requests>=2.26.0->tiktoken) (2.0.7)\n",
            "Requirement already satisfied: certifi>=2017.4.17 in /usr/local/lib/python3.10/dist-packages (from requests>=2.26.0->tiktoken) (2024.8.30)\n"
          ]
        }
      ],
      "id": "5mnMFh1HdjR4"
    },
    {
      "cell_type": "code",
      "source": [
        "enc = tiktoken.get_encoding(\"gpt2\")\n",
        "print(enc.encode(\"    Hello world!!!   How've you been??  \"))\n",
        "\n",
        "enc = tiktoken.get_encoding(\"cl100k_base\") # used by gpt4\n",
        "print(enc.encode(\"    Hello world!!!   How've you been??  \"))\n",
        "\n",
        "enc = enc = tiktoken.encoding_for_model(\"gpt-4o\")\n",
        "print(enc.encode(\"    Hello world!!!   How've you been??  \"))"
      ],
      "metadata": {
        "execution": {
          "iopub.status.busy": "2024-09-18T05:54:05.596423Z",
          "iopub.execute_input": "2024-09-18T05:54:05.596809Z",
          "iopub.status.idle": "2024-09-18T05:54:10.249996Z",
          "shell.execute_reply.started": "2024-09-18T05:54:05.596773Z",
          "shell.execute_reply": "2024-09-18T05:54:10.248992Z"
        },
        "trusted": true,
        "id": "vmsVi5rTdjR4",
        "outputId": "3a00229c-540b-4155-d1ab-8a63f8e74640",
        "colab": {
          "base_uri": "https://localhost:8080/"
        }
      },
      "execution_count": 53,
      "outputs": [
        {
          "output_type": "stream",
          "name": "stdout",
          "text": [
            "[220, 220, 220, 18435, 995, 10185, 220, 220, 1374, 1053, 345, 587, 3548, 220, 220]\n",
            "[262, 22691, 1917, 12340, 256, 2650, 3077, 499, 1027, 7801, 256]\n",
            "[271, 32949, 2375, 10880, 256, 3253, 7341, 481, 1339, 6961, 256]\n"
          ]
        }
      ],
      "id": "vmsVi5rTdjR4"
    },
    {
      "cell_type": "code",
      "source": [
        "gpt4pat=r\"\"\"'(?i:[sdmt]|ll|ve|re)|[^\\r\\n\\p{L}\\p{N}]?+\\p{L}+|\\p{N}{1,3}| ?[^\\s\\p{L}\\p{N}]++[\\r\\n]*|\\s*[\\r\\n]|\\s+(?!\\S)|\\s+\"\"\"\n",
        "re.findall(gpt4pat, \"Hello world!!!      How've you been??  123  56788900       \")"
      ],
      "metadata": {
        "execution": {
          "iopub.status.busy": "2024-09-18T05:57:48.351488Z",
          "iopub.execute_input": "2024-09-18T05:57:48.351864Z",
          "iopub.status.idle": "2024-09-18T05:57:48.359272Z",
          "shell.execute_reply.started": "2024-09-18T05:57:48.351816Z",
          "shell.execute_reply": "2024-09-18T05:57:48.358443Z"
        },
        "trusted": true,
        "id": "OYTCWdrfdjR4",
        "outputId": "648fa7b4-b6ba-4730-a3bf-f06da357a655",
        "colab": {
          "base_uri": "https://localhost:8080/"
        }
      },
      "execution_count": 30,
      "outputs": [
        {
          "output_type": "execute_result",
          "data": {
            "text/plain": [
              "['Hello',\n",
              " ' world',\n",
              " '!!!',\n",
              " '     ',\n",
              " ' How',\n",
              " \"'ve\",\n",
              " ' you',\n",
              " ' been',\n",
              " '??',\n",
              " ' ',\n",
              " ' ',\n",
              " '123',\n",
              " ' ',\n",
              " ' ',\n",
              " '567',\n",
              " '889',\n",
              " '00',\n",
              " '       ']"
            ]
          },
          "metadata": {},
          "execution_count": 30
        }
      ],
      "id": "OYTCWdrfdjR4"
    },
    {
      "cell_type": "code",
      "source": [
        "!wget https://openaipublic.blob.core.windows.net/gpt-2/encodings/main/vocab.bpe\n",
        "!wget https://openaipublic.blob.core.windows.net/gpt-2/encodings/main/encoder.json"
      ],
      "metadata": {
        "id": "eYgAS9vdhCD5",
        "outputId": "81afe769-34cb-43fc-e72a-2a6346dfd6cf",
        "colab": {
          "base_uri": "https://localhost:8080/"
        }
      },
      "id": "eYgAS9vdhCD5",
      "execution_count": 64,
      "outputs": [
        {
          "output_type": "stream",
          "name": "stdout",
          "text": [
            "--2024-09-18 09:44:53--  https://openaipublic.blob.core.windows.net/gpt-2/encodings/main/vocab.bpe\n",
            "Resolving openaipublic.blob.core.windows.net (openaipublic.blob.core.windows.net)... 57.150.97.129\n",
            "Connecting to openaipublic.blob.core.windows.net (openaipublic.blob.core.windows.net)|57.150.97.129|:443... connected.\n",
            "HTTP request sent, awaiting response... 200 OK\n",
            "Length: 456318 (446K) [application/octet-stream]\n",
            "Saving to: ‘vocab.bpe’\n",
            "\n",
            "vocab.bpe           100%[===================>] 445.62K  1.31MB/s    in 0.3s    \n",
            "\n",
            "2024-09-18 09:44:53 (1.31 MB/s) - ‘vocab.bpe’ saved [456318/456318]\n",
            "\n",
            "--2024-09-18 09:44:53--  https://openaipublic.blob.core.windows.net/gpt-2/encodings/main/encoder.json\n",
            "Resolving openaipublic.blob.core.windows.net (openaipublic.blob.core.windows.net)... 57.150.97.129\n",
            "Connecting to openaipublic.blob.core.windows.net (openaipublic.blob.core.windows.net)|57.150.97.129|:443... connected.\n",
            "HTTP request sent, awaiting response... 200 OK\n",
            "Length: 1042301 (1018K) [application/json]\n",
            "Saving to: ‘encoder.json’\n",
            "\n",
            "encoder.json        100%[===================>]   1018K  2.12MB/s    in 0.5s    \n",
            "\n",
            "2024-09-18 09:44:54 (2.12 MB/s) - ‘encoder.json’ saved [1042301/1042301]\n",
            "\n"
          ]
        }
      ]
    },
    {
      "cell_type": "code",
      "source": [
        "import os, json\n",
        "\n",
        "with open(\"encoder.json\", \"r\") as f:\n",
        "  encoder = json.load(f)\n",
        "\n",
        "with open(\"vocab.bpe\", \"r\") as f:\n",
        "  bpe_data = f.read()\n",
        "# ignore first line (version...) and last (new line)\n",
        "bpe_merges = [tuple(merge_str.split()) for merge_str in bpe_data.split('\\n')[1:-1]]"
      ],
      "metadata": {
        "id": "VwI5m2zTiRp6"
      },
      "id": "VwI5m2zTiRp6",
      "execution_count": 65,
      "outputs": []
    },
    {
      "cell_type": "code",
      "source": [
        "# this is similar to our vocab, but key and values are swapped\n",
        "len(encoder), dict(list(encoder.items())[:10])"
      ],
      "metadata": {
        "id": "zTwNUow-i8eK",
        "outputId": "37d50436-1fee-4a3b-9d4e-e12e0871a455",
        "colab": {
          "base_uri": "https://localhost:8080/"
        }
      },
      "id": "zTwNUow-i8eK",
      "execution_count": 75,
      "outputs": [
        {
          "output_type": "execute_result",
          "data": {
            "text/plain": [
              "(50257,\n",
              " {'!': 0,\n",
              "  '\"': 1,\n",
              "  '#': 2,\n",
              "  '$': 3,\n",
              "  '%': 4,\n",
              "  '&': 5,\n",
              "  \"'\": 6,\n",
              "  '(': 7,\n",
              "  ')': 8,\n",
              "  '*': 9})"
            ]
          },
          "metadata": {},
          "execution_count": 75
        }
      ]
    },
    {
      "cell_type": "code",
      "source": [
        "# this is similar to our merges\n",
        "len(bpe_merges), bpe_merges[:10]"
      ],
      "metadata": {
        "id": "Kq_F8huxjGJJ",
        "outputId": "b3888f6c-8aac-43b3-8b09-db3c481d2895",
        "colab": {
          "base_uri": "https://localhost:8080/"
        }
      },
      "id": "Kq_F8huxjGJJ",
      "execution_count": 76,
      "outputs": [
        {
          "output_type": "execute_result",
          "data": {
            "text/plain": [
              "(50000,\n",
              " [('Ġ', 't'),\n",
              "  ('Ġ', 'a'),\n",
              "  ('h', 'e'),\n",
              "  ('i', 'n'),\n",
              "  ('r', 'e'),\n",
              "  ('o', 'n'),\n",
              "  ('Ġt', 'he'),\n",
              "  ('e', 'r'),\n",
              "  ('Ġ', 's'),\n",
              "  ('a', 't')])"
            ]
          },
          "metadata": {},
          "execution_count": 76
        }
      ]
    },
    {
      "cell_type": "markdown",
      "source": [
        "# special tokens\n",
        "GPT has 256 raw bytes, and 50000 merges, and 1 special token, so totally 50257 tokens."
      ],
      "metadata": {
        "id": "RB2FZP9Gk5SJ"
      },
      "id": "RB2FZP9Gk5SJ"
    },
    {
      "cell_type": "code",
      "source": [
        "len(encoder), len(bpe_merges)"
      ],
      "metadata": {
        "id": "wIITQm3ik7WX",
        "outputId": "cdeb23dc-e48e-4b55-9c22-376ef06ab9cd",
        "colab": {
          "base_uri": "https://localhost:8080/"
        }
      },
      "id": "wIITQm3ik7WX",
      "execution_count": 78,
      "outputs": [
        {
          "output_type": "execute_result",
          "data": {
            "text/plain": [
              "(50257, 50000)"
            ]
          },
          "metadata": {},
          "execution_count": 78
        }
      ]
    },
    {
      "cell_type": "code",
      "source": [
        "encoder['<|endoftext|>']"
      ],
      "metadata": {
        "id": "r_rMHYbtlaeB",
        "outputId": "1fb3963a-bc0b-4d13-82f2-466543abefd2",
        "colab": {
          "base_uri": "https://localhost:8080/"
        }
      },
      "id": "r_rMHYbtlaeB",
      "execution_count": 81,
      "outputs": [
        {
          "output_type": "execute_result",
          "data": {
            "text/plain": [
              "50256"
            ]
          },
          "metadata": {},
          "execution_count": 81
        }
      ]
    },
    {
      "cell_type": "code",
      "source": [
        "dict(list(encoder.items())[50253:])"
      ],
      "metadata": {
        "id": "CGnnjQ58lr_Q",
        "outputId": "d4853a2b-86ad-410d-b021-fbca48e087c0",
        "colab": {
          "base_uri": "https://localhost:8080/"
        }
      },
      "id": "CGnnjQ58lr_Q",
      "execution_count": 82,
      "outputs": [
        {
          "output_type": "execute_result",
          "data": {
            "text/plain": [
              "{'ĠCollider': 50253,\n",
              " 'Ġinformants': 50254,\n",
              " 'Ġgazed': 50255,\n",
              " '<|endoftext|>': 50256}"
            ]
          },
          "metadata": {},
          "execution_count": 82
        }
      ]
    },
    {
      "cell_type": "markdown",
      "source": [
        "# sentencepiece\n",
        "* https://github.com/google/sentencepiece/tree/d8f741853847553169444afc12c00f4bbff3e9ce\n",
        "\n",
        "*   https://github.com/google/sentencepiece/blob/d8f741853847553169444afc12c00f4bbff3e9ce/doc/options.md\n",
        "* https://github.com/google/sentencepiece/blob/d8f741853847553169444afc12c00f4bbff3e9ce/src/sentencepiece_model.proto\n",
        "\n"
      ],
      "metadata": {
        "id": "gjA6IpTAonQh"
      },
      "id": "gjA6IpTAonQh"
    },
    {
      "cell_type": "code",
      "source": [
        "!wget \"https://raw.githubusercontent.com/karpathy/char-rnn/master/data/tinyshakespeare/input.txt\"\n",
        "import sentencepiece as spm"
      ],
      "metadata": {
        "id": "TaH_uasLpIOZ",
        "outputId": "d35fb6ce-1465-471d-85fb-613cd6c10edc",
        "colab": {
          "base_uri": "https://localhost:8080/"
        }
      },
      "id": "TaH_uasLpIOZ",
      "execution_count": 84,
      "outputs": [
        {
          "output_type": "stream",
          "name": "stdout",
          "text": [
            "--2024-09-18 10:20:57--  https://raw.githubusercontent.com/karpathy/char-rnn/master/data/tinyshakespeare/input.txt\n",
            "Resolving raw.githubusercontent.com (raw.githubusercontent.com)... 185.199.108.133, 185.199.109.133, 185.199.110.133, ...\n",
            "Connecting to raw.githubusercontent.com (raw.githubusercontent.com)|185.199.108.133|:443... connected.\n",
            "HTTP request sent, awaiting response... 200 OK\n",
            "Length: 1115394 (1.1M) [text/plain]\n",
            "Saving to: ‘input.txt’\n",
            "\n",
            "input.txt           100%[===================>]   1.06M  --.-KB/s    in 0.08s   \n",
            "\n",
            "2024-09-18 10:20:57 (12.6 MB/s) - ‘input.txt’ saved [1115394/1115394]\n",
            "\n"
          ]
        }
      ]
    },
    {
      "cell_type": "code",
      "source": [
        "# train a sentencepiece model on it\n",
        "# the settings here are (best effort) those used for training Llama 2\n",
        "import os\n",
        "\n",
        "options = dict(\n",
        "    # input spec\n",
        "    input=\"input.txt\",\n",
        "    input_format=\"text\",\n",
        "    # output spec\n",
        "    model_prefix=\"tok400\", # output file prefix\n",
        "    # algorithm specific\n",
        "    # BPE algo\n",
        "    model_type=\"bpe\",\n",
        "    vocab_size=400,\n",
        "    # normalisation\n",
        "    normalization_rule_name=\"identity\", # turn off normalisation\n",
        "    remove_extra_whitespaces=False,\n",
        "    input_sentence_size=200000000, # max number of training sentences\n",
        "    max_sentence_length=4192, # max number of bytes per sentence\n",
        "    seed_sentencepiece_size=1000000,\n",
        "    shuffle_input_sentence=True,\n",
        "    # rare word treatment\n",
        "    character_coverage=0.99995, # if character is very rare, it will be igored (not put in vocab)\n",
        "    byte_fallback=True,\n",
        "    # merge rules\n",
        "    split_digits=True,\n",
        "    split_by_unicode_script=True,\n",
        "    split_by_whitespace=True,\n",
        "    split_by_number=True,\n",
        "    max_sentencepiece_length=16,\n",
        "    add_dummy_prefix=True,\n",
        "    allow_whitespace_only_pieces=True,\n",
        "    # special tokens\n",
        "    unk_id=0, # UNK token is mandatory\n",
        "    bos_id=1, # others are optional, if not needed, set to -1\n",
        "    eos_id=2,\n",
        "    pad_id=-1, # -1 means don't use it\n",
        "    # systems\n",
        "    num_threads=os.cpu_count(),\n",
        ")\n",
        "spm.SentencePieceTrainer.train(**options)"
      ],
      "metadata": {
        "id": "O-X_74Swpl1J"
      },
      "id": "O-X_74Swpl1J",
      "execution_count": 87,
      "outputs": []
    },
    {
      "cell_type": "code",
      "source": [
        "sp = spm.SentencePieceProcessor()\n",
        "sp.load(\"tok400.model\")\n",
        "vocab = [[sp.IdToPiece(idx), idx] for idx in range(sp.get_piece_size())]\n",
        "vocab"
      ],
      "metadata": {
        "id": "L9JZuR_7tthk",
        "outputId": "f554ee01-86f2-48bb-b534-e97a1f62fe2b",
        "colab": {
          "base_uri": "https://localhost:8080/"
        }
      },
      "id": "L9JZuR_7tthk",
      "execution_count": 88,
      "outputs": [
        {
          "output_type": "execute_result",
          "data": {
            "text/plain": [
              "[['<unk>', 0],\n",
              " ['<s>', 1],\n",
              " ['</s>', 2],\n",
              " ['<0x00>', 3],\n",
              " ['<0x01>', 4],\n",
              " ['<0x02>', 5],\n",
              " ['<0x03>', 6],\n",
              " ['<0x04>', 7],\n",
              " ['<0x05>', 8],\n",
              " ['<0x06>', 9],\n",
              " ['<0x07>', 10],\n",
              " ['<0x08>', 11],\n",
              " ['<0x09>', 12],\n",
              " ['<0x0A>', 13],\n",
              " ['<0x0B>', 14],\n",
              " ['<0x0C>', 15],\n",
              " ['<0x0D>', 16],\n",
              " ['<0x0E>', 17],\n",
              " ['<0x0F>', 18],\n",
              " ['<0x10>', 19],\n",
              " ['<0x11>', 20],\n",
              " ['<0x12>', 21],\n",
              " ['<0x13>', 22],\n",
              " ['<0x14>', 23],\n",
              " ['<0x15>', 24],\n",
              " ['<0x16>', 25],\n",
              " ['<0x17>', 26],\n",
              " ['<0x18>', 27],\n",
              " ['<0x19>', 28],\n",
              " ['<0x1A>', 29],\n",
              " ['<0x1B>', 30],\n",
              " ['<0x1C>', 31],\n",
              " ['<0x1D>', 32],\n",
              " ['<0x1E>', 33],\n",
              " ['<0x1F>', 34],\n",
              " ['<0x20>', 35],\n",
              " ['<0x21>', 36],\n",
              " ['<0x22>', 37],\n",
              " ['<0x23>', 38],\n",
              " ['<0x24>', 39],\n",
              " ['<0x25>', 40],\n",
              " ['<0x26>', 41],\n",
              " ['<0x27>', 42],\n",
              " ['<0x28>', 43],\n",
              " ['<0x29>', 44],\n",
              " ['<0x2A>', 45],\n",
              " ['<0x2B>', 46],\n",
              " ['<0x2C>', 47],\n",
              " ['<0x2D>', 48],\n",
              " ['<0x2E>', 49],\n",
              " ['<0x2F>', 50],\n",
              " ['<0x30>', 51],\n",
              " ['<0x31>', 52],\n",
              " ['<0x32>', 53],\n",
              " ['<0x33>', 54],\n",
              " ['<0x34>', 55],\n",
              " ['<0x35>', 56],\n",
              " ['<0x36>', 57],\n",
              " ['<0x37>', 58],\n",
              " ['<0x38>', 59],\n",
              " ['<0x39>', 60],\n",
              " ['<0x3A>', 61],\n",
              " ['<0x3B>', 62],\n",
              " ['<0x3C>', 63],\n",
              " ['<0x3D>', 64],\n",
              " ['<0x3E>', 65],\n",
              " ['<0x3F>', 66],\n",
              " ['<0x40>', 67],\n",
              " ['<0x41>', 68],\n",
              " ['<0x42>', 69],\n",
              " ['<0x43>', 70],\n",
              " ['<0x44>', 71],\n",
              " ['<0x45>', 72],\n",
              " ['<0x46>', 73],\n",
              " ['<0x47>', 74],\n",
              " ['<0x48>', 75],\n",
              " ['<0x49>', 76],\n",
              " ['<0x4A>', 77],\n",
              " ['<0x4B>', 78],\n",
              " ['<0x4C>', 79],\n",
              " ['<0x4D>', 80],\n",
              " ['<0x4E>', 81],\n",
              " ['<0x4F>', 82],\n",
              " ['<0x50>', 83],\n",
              " ['<0x51>', 84],\n",
              " ['<0x52>', 85],\n",
              " ['<0x53>', 86],\n",
              " ['<0x54>', 87],\n",
              " ['<0x55>', 88],\n",
              " ['<0x56>', 89],\n",
              " ['<0x57>', 90],\n",
              " ['<0x58>', 91],\n",
              " ['<0x59>', 92],\n",
              " ['<0x5A>', 93],\n",
              " ['<0x5B>', 94],\n",
              " ['<0x5C>', 95],\n",
              " ['<0x5D>', 96],\n",
              " ['<0x5E>', 97],\n",
              " ['<0x5F>', 98],\n",
              " ['<0x60>', 99],\n",
              " ['<0x61>', 100],\n",
              " ['<0x62>', 101],\n",
              " ['<0x63>', 102],\n",
              " ['<0x64>', 103],\n",
              " ['<0x65>', 104],\n",
              " ['<0x66>', 105],\n",
              " ['<0x67>', 106],\n",
              " ['<0x68>', 107],\n",
              " ['<0x69>', 108],\n",
              " ['<0x6A>', 109],\n",
              " ['<0x6B>', 110],\n",
              " ['<0x6C>', 111],\n",
              " ['<0x6D>', 112],\n",
              " ['<0x6E>', 113],\n",
              " ['<0x6F>', 114],\n",
              " ['<0x70>', 115],\n",
              " ['<0x71>', 116],\n",
              " ['<0x72>', 117],\n",
              " ['<0x73>', 118],\n",
              " ['<0x74>', 119],\n",
              " ['<0x75>', 120],\n",
              " ['<0x76>', 121],\n",
              " ['<0x77>', 122],\n",
              " ['<0x78>', 123],\n",
              " ['<0x79>', 124],\n",
              " ['<0x7A>', 125],\n",
              " ['<0x7B>', 126],\n",
              " ['<0x7C>', 127],\n",
              " ['<0x7D>', 128],\n",
              " ['<0x7E>', 129],\n",
              " ['<0x7F>', 130],\n",
              " ['<0x80>', 131],\n",
              " ['<0x81>', 132],\n",
              " ['<0x82>', 133],\n",
              " ['<0x83>', 134],\n",
              " ['<0x84>', 135],\n",
              " ['<0x85>', 136],\n",
              " ['<0x86>', 137],\n",
              " ['<0x87>', 138],\n",
              " ['<0x88>', 139],\n",
              " ['<0x89>', 140],\n",
              " ['<0x8A>', 141],\n",
              " ['<0x8B>', 142],\n",
              " ['<0x8C>', 143],\n",
              " ['<0x8D>', 144],\n",
              " ['<0x8E>', 145],\n",
              " ['<0x8F>', 146],\n",
              " ['<0x90>', 147],\n",
              " ['<0x91>', 148],\n",
              " ['<0x92>', 149],\n",
              " ['<0x93>', 150],\n",
              " ['<0x94>', 151],\n",
              " ['<0x95>', 152],\n",
              " ['<0x96>', 153],\n",
              " ['<0x97>', 154],\n",
              " ['<0x98>', 155],\n",
              " ['<0x99>', 156],\n",
              " ['<0x9A>', 157],\n",
              " ['<0x9B>', 158],\n",
              " ['<0x9C>', 159],\n",
              " ['<0x9D>', 160],\n",
              " ['<0x9E>', 161],\n",
              " ['<0x9F>', 162],\n",
              " ['<0xA0>', 163],\n",
              " ['<0xA1>', 164],\n",
              " ['<0xA2>', 165],\n",
              " ['<0xA3>', 166],\n",
              " ['<0xA4>', 167],\n",
              " ['<0xA5>', 168],\n",
              " ['<0xA6>', 169],\n",
              " ['<0xA7>', 170],\n",
              " ['<0xA8>', 171],\n",
              " ['<0xA9>', 172],\n",
              " ['<0xAA>', 173],\n",
              " ['<0xAB>', 174],\n",
              " ['<0xAC>', 175],\n",
              " ['<0xAD>', 176],\n",
              " ['<0xAE>', 177],\n",
              " ['<0xAF>', 178],\n",
              " ['<0xB0>', 179],\n",
              " ['<0xB1>', 180],\n",
              " ['<0xB2>', 181],\n",
              " ['<0xB3>', 182],\n",
              " ['<0xB4>', 183],\n",
              " ['<0xB5>', 184],\n",
              " ['<0xB6>', 185],\n",
              " ['<0xB7>', 186],\n",
              " ['<0xB8>', 187],\n",
              " ['<0xB9>', 188],\n",
              " ['<0xBA>', 189],\n",
              " ['<0xBB>', 190],\n",
              " ['<0xBC>', 191],\n",
              " ['<0xBD>', 192],\n",
              " ['<0xBE>', 193],\n",
              " ['<0xBF>', 194],\n",
              " ['<0xC0>', 195],\n",
              " ['<0xC1>', 196],\n",
              " ['<0xC2>', 197],\n",
              " ['<0xC3>', 198],\n",
              " ['<0xC4>', 199],\n",
              " ['<0xC5>', 200],\n",
              " ['<0xC6>', 201],\n",
              " ['<0xC7>', 202],\n",
              " ['<0xC8>', 203],\n",
              " ['<0xC9>', 204],\n",
              " ['<0xCA>', 205],\n",
              " ['<0xCB>', 206],\n",
              " ['<0xCC>', 207],\n",
              " ['<0xCD>', 208],\n",
              " ['<0xCE>', 209],\n",
              " ['<0xCF>', 210],\n",
              " ['<0xD0>', 211],\n",
              " ['<0xD1>', 212],\n",
              " ['<0xD2>', 213],\n",
              " ['<0xD3>', 214],\n",
              " ['<0xD4>', 215],\n",
              " ['<0xD5>', 216],\n",
              " ['<0xD6>', 217],\n",
              " ['<0xD7>', 218],\n",
              " ['<0xD8>', 219],\n",
              " ['<0xD9>', 220],\n",
              " ['<0xDA>', 221],\n",
              " ['<0xDB>', 222],\n",
              " ['<0xDC>', 223],\n",
              " ['<0xDD>', 224],\n",
              " ['<0xDE>', 225],\n",
              " ['<0xDF>', 226],\n",
              " ['<0xE0>', 227],\n",
              " ['<0xE1>', 228],\n",
              " ['<0xE2>', 229],\n",
              " ['<0xE3>', 230],\n",
              " ['<0xE4>', 231],\n",
              " ['<0xE5>', 232],\n",
              " ['<0xE6>', 233],\n",
              " ['<0xE7>', 234],\n",
              " ['<0xE8>', 235],\n",
              " ['<0xE9>', 236],\n",
              " ['<0xEA>', 237],\n",
              " ['<0xEB>', 238],\n",
              " ['<0xEC>', 239],\n",
              " ['<0xED>', 240],\n",
              " ['<0xEE>', 241],\n",
              " ['<0xEF>', 242],\n",
              " ['<0xF0>', 243],\n",
              " ['<0xF1>', 244],\n",
              " ['<0xF2>', 245],\n",
              " ['<0xF3>', 246],\n",
              " ['<0xF4>', 247],\n",
              " ['<0xF5>', 248],\n",
              " ['<0xF6>', 249],\n",
              " ['<0xF7>', 250],\n",
              " ['<0xF8>', 251],\n",
              " ['<0xF9>', 252],\n",
              " ['<0xFA>', 253],\n",
              " ['<0xFB>', 254],\n",
              " ['<0xFC>', 255],\n",
              " ['<0xFD>', 256],\n",
              " ['<0xFE>', 257],\n",
              " ['<0xFF>', 258],\n",
              " ['▁t', 259],\n",
              " ['he', 260],\n",
              " ['▁a', 261],\n",
              " ['ou', 262],\n",
              " ['▁s', 263],\n",
              " ['▁m', 264],\n",
              " ['▁w', 265],\n",
              " ['in', 266],\n",
              " ['re', 267],\n",
              " ['ha', 268],\n",
              " ['▁the', 269],\n",
              " ['nd', 270],\n",
              " ['▁b', 271],\n",
              " ['is', 272],\n",
              " ['or', 273],\n",
              " ['▁f', 274],\n",
              " ['▁I', 275],\n",
              " ['er', 276],\n",
              " ['ll', 277],\n",
              " ['it', 278],\n",
              " ['on', 279],\n",
              " ['▁d', 280],\n",
              " ['▁c', 281],\n",
              " ['▁n', 282],\n",
              " ['▁l', 283],\n",
              " ['▁y', 284],\n",
              " ['es', 285],\n",
              " ['en', 286],\n",
              " ['▁th', 287],\n",
              " ['ar', 288],\n",
              " ['▁h', 289],\n",
              " ['▁o', 290],\n",
              " ['▁to', 291],\n",
              " ['▁you', 292],\n",
              " ['▁p', 293],\n",
              " ['▁T', 294],\n",
              " ['hat', 295],\n",
              " ['▁A', 296],\n",
              " ['▁he', 297],\n",
              " ['st', 298],\n",
              " ['ve', 299],\n",
              " ['ot', 300],\n",
              " ['▁and', 301],\n",
              " ['ow', 302],\n",
              " ['ing', 303],\n",
              " ['▁of', 304],\n",
              " ['an', 305],\n",
              " ['om', 306],\n",
              " ['▁g', 307],\n",
              " ['at', 308],\n",
              " ['▁be', 309],\n",
              " ['▁W', 310],\n",
              " ['se', 311],\n",
              " ['▁my', 312],\n",
              " ['▁in', 313],\n",
              " ['▁ha', 314],\n",
              " ['ce', 315],\n",
              " ['le', 316],\n",
              " ['ay', 317],\n",
              " ['ld', 318],\n",
              " ['ir', 319],\n",
              " ['et', 320],\n",
              " ['ed', 321],\n",
              " ['ut', 322],\n",
              " ['▁B', 323],\n",
              " ['▁me', 324],\n",
              " ['im', 325],\n",
              " ['▁S', 326],\n",
              " ['ith', 327],\n",
              " ['▁not', 328],\n",
              " ['▁H', 329],\n",
              " ['ch', 330],\n",
              " ['▁that', 331],\n",
              " ['▁is', 332],\n",
              " ['▁M', 333],\n",
              " ['gh', 334],\n",
              " ['▁And', 335],\n",
              " ['▁for', 336],\n",
              " ['▁u', 337],\n",
              " ['ke', 338],\n",
              " ['▁', 339],\n",
              " ['e', 340],\n",
              " ['t', 341],\n",
              " ['o', 342],\n",
              " ['a', 343],\n",
              " ['h', 344],\n",
              " ['s', 345],\n",
              " ['r', 346],\n",
              " ['n', 347],\n",
              " ['i', 348],\n",
              " ['l', 349],\n",
              " ['d', 350],\n",
              " ['u', 351],\n",
              " ['m', 352],\n",
              " ['y', 353],\n",
              " [',', 354],\n",
              " ['w', 355],\n",
              " ['f', 356],\n",
              " ['c', 357],\n",
              " ['g', 358],\n",
              " ['I', 359],\n",
              " ['b', 360],\n",
              " ['p', 361],\n",
              " [':', 362],\n",
              " ['.', 363],\n",
              " ['A', 364],\n",
              " ['v', 365],\n",
              " ['k', 366],\n",
              " ['T', 367],\n",
              " [\"'\", 368],\n",
              " ['E', 369],\n",
              " ['O', 370],\n",
              " ['N', 371],\n",
              " ['R', 372],\n",
              " ['S', 373],\n",
              " ['L', 374],\n",
              " ['C', 375],\n",
              " [';', 376],\n",
              " ['W', 377],\n",
              " ['U', 378],\n",
              " ['H', 379],\n",
              " ['M', 380],\n",
              " ['B', 381],\n",
              " ['?', 382],\n",
              " ['G', 383],\n",
              " ['!', 384],\n",
              " ['D', 385],\n",
              " ['-', 386],\n",
              " ['F', 387],\n",
              " ['Y', 388],\n",
              " ['P', 389],\n",
              " ['K', 390],\n",
              " ['V', 391],\n",
              " ['j', 392],\n",
              " ['q', 393],\n",
              " ['x', 394],\n",
              " ['z', 395],\n",
              " ['J', 396],\n",
              " ['Q', 397],\n",
              " ['Z', 398],\n",
              " ['X', 399]]"
            ]
          },
          "metadata": {},
          "execution_count": 88
        }
      ]
    },
    {
      "cell_type": "code",
      "source": [
        "ids = sp.Encode(\"Hello world! 世界这么大\")\n",
        "print(ids)"
      ],
      "metadata": {
        "id": "UyPh8-EOu-kK",
        "outputId": "4b8ac965-2a3d-48b8-e673-97bfc6818a1c",
        "colab": {
          "base_uri": "https://localhost:8080/"
        }
      },
      "id": "UyPh8-EOu-kK",
      "execution_count": 89,
      "outputs": [
        {
          "output_type": "stream",
          "name": "stdout",
          "text": [
            "[329, 340, 277, 342, 265, 273, 318, 384, 339, 231, 187, 153, 234, 152, 143, 235, 194, 156, 231, 188, 139, 232, 167, 170]\n"
          ]
        }
      ]
    },
    {
      "cell_type": "markdown",
      "source": [
        "the chinese characters are their corresponding 3-byte utf-8 codes.\n",
        "this is because those chinese characters are not in the training set, they are treated as UNK (i.e. 0); but because byte_fallback=True, they fallback to their utf-8 bytes.\n",
        "\n",
        "Also, notice the extra spece in front of 'Hello'. This is because of add_dummy_prefix=True.\n",
        "\n",
        "Read the [protobuf](https://github.com/google/sentencepiece/blob/d8f741853847553169444afc12c00f4bbff3e9ce/src/sentencepiece_model.proto) file for more details."
      ],
      "metadata": {
        "id": "b49_QGq5wMPq"
      },
      "id": "b49_QGq5wMPq"
    },
    {
      "cell_type": "code",
      "source": [
        "\n",
        "\n",
        "print([sp.IdToPiece(idx) for idx in ids])"
      ],
      "metadata": {
        "id": "so_bLH-hvKjh",
        "outputId": "0b122803-5ffb-436e-ca4d-9d9827cceadc",
        "colab": {
          "base_uri": "https://localhost:8080/"
        }
      },
      "id": "so_bLH-hvKjh",
      "execution_count": 90,
      "outputs": [
        {
          "output_type": "stream",
          "name": "stdout",
          "text": [
            "['▁H', 'e', 'll', 'o', '▁w', 'or', 'ld', '!', '▁', '<0xE4>', '<0xB8>', '<0x96>', '<0xE7>', '<0x95>', '<0x8C>', '<0xE8>', '<0xBF>', '<0x99>', '<0xE4>', '<0xB9>', '<0x88>', '<0xE5>', '<0xA4>', '<0xA7>']\n"
          ]
        }
      ]
    },
    {
      "cell_type": "markdown",
      "source": [
        "[Learning to Compress Prompts with Gist Tokens](https://arxiv.org/abs/2304.08467)\n",
        "\n",
        "https://platform.openai.com/playground/complete"
      ],
      "metadata": {
        "id": "jigOEgZGz5mC"
      },
      "id": "jigOEgZGz5mC"
    }
  ]
}