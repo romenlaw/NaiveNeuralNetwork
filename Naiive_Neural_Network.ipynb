{
  "metadata": {
    "kernelspec": {
      "language": "python",
      "display_name": "Python 3",
      "name": "python3"
    },
    "language_info": {
      "name": "python",
      "version": "3.10.13",
      "mimetype": "text/x-python",
      "codemirror_mode": {
        "name": "ipython",
        "version": 3
      },
      "pygments_lexer": "ipython3",
      "nbconvert_exporter": "python",
      "file_extension": ".py"
    },
    "kaggle": {
      "accelerator": "none",
      "dataSources": [],
      "dockerImageVersionId": 30746,
      "isInternetEnabled": true,
      "language": "python",
      "sourceType": "notebook",
      "isGpuEnabled": false
    },
    "colab": {
      "name": "Naiive Neural Network",
      "provenance": [],
      "include_colab_link": true
    }
  },
  "nbformat_minor": 0,
  "nbformat": 4,
  "cells": [
    {
      "cell_type": "markdown",
      "metadata": {
        "id": "view-in-github",
        "colab_type": "text"
      },
      "source": [
        "<a href=\"https://colab.research.google.com/github/romenlaw/NaiveNeuralNetwork/blob/main/Naiive_Neural_Network.ipynb\" target=\"_parent\"><img src=\"https://colab.research.google.com/assets/colab-badge.svg\" alt=\"Open In Colab\"/></a>"
      ]
    },
    {
      "cell_type": "code",
      "source": [
        "# This Python 3 environment comes with many helpful analytics libraries installed\n",
        "# It is defined by the kaggle/python Docker image: https://github.com/kaggle/docker-python\n",
        "# For example, here's several helpful packages to load\n",
        "\n",
        "import numpy as np # linear algebra\n",
        "import pandas as pd # data processing, CSV file I/O (e.g. pd.read_csv)\n",
        "\n",
        "# Input data files are available in the read-only \"../input/\" directory\n",
        "# For example, running this (by clicking run or pressing Shift+Enter) will list all files under the input directory\n",
        "\n",
        "import os\n",
        "for dirname, _, filenames in os.walk('/kaggle/input'):\n",
        "    for filename in filenames:\n",
        "        print(os.path.join(dirname, filename))\n",
        "\n",
        "# You can write up to 20GB to the current directory (/kaggle/working/) that gets preserved as output when you create a version using \"Save & Run All\"\n",
        "# You can also write temporary files to /kaggle/temp/, but they won't be saved outside of the current session"
      ],
      "metadata": {
        "_uuid": "8f2839f25d086af736a60e9eeb907d3b93b6e0e5",
        "_cell_guid": "b1076dfc-b9ad-4769-8c92-a6c4dae69d19",
        "execution": {
          "iopub.status.busy": "2024-08-03T06:02:49.523148Z",
          "iopub.execute_input": "2024-08-03T06:02:49.523662Z",
          "iopub.status.idle": "2024-08-03T06:02:49.949388Z",
          "shell.execute_reply.started": "2024-08-03T06:02:49.523627Z",
          "shell.execute_reply": "2024-08-03T06:02:49.9484Z"
        },
        "trusted": true,
        "id": "k9j2xs1S6Pgs"
      },
      "execution_count": null,
      "outputs": []
    },
    {
      "cell_type": "code",
      "source": [
        "!curl https://api.github.com/repos/romenlaw/NaiveNeuralNetwork/contents/"
      ],
      "metadata": {
        "execution": {
          "iopub.status.busy": "2024-08-03T06:18:35.464578Z",
          "iopub.execute_input": "2024-08-03T06:18:35.465005Z",
          "iopub.status.idle": "2024-08-03T06:18:36.758893Z",
          "shell.execute_reply.started": "2024-08-03T06:18:35.464972Z",
          "shell.execute_reply": "2024-08-03T06:18:36.757474Z"
        },
        "trusted": true,
        "id": "1YngJNQY6Pgw",
        "outputId": "05c0c43c-2573-4f11-f9cf-9bbb54cd4a4d"
      },
      "execution_count": null,
      "outputs": [
        {
          "name": "stdout",
          "text": "[\n  {\n    \"name\": \"NNN.ipynb\",\n    \"path\": \"NNN.ipynb\",\n    \"sha\": \"ac88b9ffce238d747eecef62654ffc398947f212\",\n    \"size\": 2539,\n    \"url\": \"https://api.github.com/repos/romenlaw/NaiveNeuralNetwork/contents/NNN.ipynb?ref=main\",\n    \"html_url\": \"https://github.com/romenlaw/NaiveNeuralNetwork/blob/main/NNN.ipynb\",\n    \"git_url\": \"https://api.github.com/repos/romenlaw/NaiveNeuralNetwork/git/blobs/ac88b9ffce238d747eecef62654ffc398947f212\",\n    \"download_url\": \"https://raw.githubusercontent.com/romenlaw/NaiveNeuralNetwork/main/NNN.ipynb\",\n    \"type\": \"file\",\n    \"_links\": {\n      \"self\": \"https://api.github.com/repos/romenlaw/NaiveNeuralNetwork/contents/NNN.ipynb?ref=main\",\n      \"git\": \"https://api.github.com/repos/romenlaw/NaiveNeuralNetwork/git/blobs/ac88b9ffce238d747eecef62654ffc398947f212\",\n      \"html\": \"https://github.com/romenlaw/NaiveNeuralNetwork/blob/main/NNN.ipynb\"\n    }\n  },\n  {\n    \"name\": \"Naiive_Neural_Network.ipynb\",\n    \"path\": \"Naiive_Neural_Network.ipynb\",\n    \"sha\": \"71ce66e1869a6f83863f8167e961f016ae5ba711\",\n    \"size\": 4939,\n    \"url\": \"https://api.github.com/repos/romenlaw/NaiveNeuralNetwork/contents/Naiive_Neural_Network.ipynb?ref=main\",\n    \"html_url\": \"https://github.com/romenlaw/NaiveNeuralNetwork/blob/main/Naiive_Neural_Network.ipynb\",\n    \"git_url\": \"https://api.github.com/repos/romenlaw/NaiveNeuralNetwork/git/blobs/71ce66e1869a6f83863f8167e961f016ae5ba711\",\n    \"download_url\": \"https://raw.githubusercontent.com/romenlaw/NaiveNeuralNetwork/main/Naiive_Neural_Network.ipynb\",\n    \"type\": \"file\",\n    \"_links\": {\n      \"self\": \"https://api.github.com/repos/romenlaw/NaiveNeuralNetwork/contents/Naiive_Neural_Network.ipynb?ref=main\",\n      \"git\": \"https://api.github.com/repos/romenlaw/NaiveNeuralNetwork/git/blobs/71ce66e1869a6f83863f8167e961f016ae5ba711\",\n      \"html\": \"https://github.com/romenlaw/NaiveNeuralNetwork/blob/main/Naiive_Neural_Network.ipynb\"\n    }\n  },\n  {\n    \"name\": \"NaiveValue.py\",\n    \"path\": \"NaiveValue.py\",\n    \"sha\": \"533e640a4f5852da45e13e4c7e804e81acf3bd4a\",\n    \"size\": 57,\n    \"url\": \"https://api.github.com/repos/romenlaw/NaiveNeuralNetwork/contents/NaiveValue.py?ref=main\",\n    \"html_url\": \"https://github.com/romenlaw/NaiveNeuralNetwork/blob/main/NaiveValue.py\",\n    \"git_url\": \"https://api.github.com/repos/romenlaw/NaiveNeuralNetwork/git/blobs/533e640a4f5852da45e13e4c7e804e81acf3bd4a\",\n    \"download_url\": \"https://raw.githubusercontent.com/romenlaw/NaiveNeuralNetwork/main/NaiveValue.py\",\n    \"type\": \"file\",\n    \"_links\": {\n      \"self\": \"https://api.github.com/repos/romenlaw/NaiveNeuralNetwork/contents/NaiveValue.py?ref=main\",\n      \"git\": \"https://api.github.com/repos/romenlaw/NaiveNeuralNetwork/git/blobs/533e640a4f5852da45e13e4c7e804e81acf3bd4a\",\n      \"html\": \"https://github.com/romenlaw/NaiveNeuralNetwork/blob/main/NaiveValue.py\"\n    }\n  },\n  {\n    \"name\": \"README.md\",\n    \"path\": \"README.md\",\n    \"sha\": \"6ef2d9ee2a0f65c29906151a17899a4826e75467\",\n    \"size\": 104,\n    \"url\": \"https://api.github.com/repos/romenlaw/NaiveNeuralNetwork/contents/README.md?ref=main\",\n    \"html_url\": \"https://github.com/romenlaw/NaiveNeuralNetwork/blob/main/README.md\",\n    \"git_url\": \"https://api.github.com/repos/romenlaw/NaiveNeuralNetwork/git/blobs/6ef2d9ee2a0f65c29906151a17899a4826e75467\",\n    \"download_url\": \"https://raw.githubusercontent.com/romenlaw/NaiveNeuralNetwork/main/README.md\",\n    \"type\": \"file\",\n    \"_links\": {\n      \"self\": \"https://api.github.com/repos/romenlaw/NaiveNeuralNetwork/contents/README.md?ref=main\",\n      \"git\": \"https://api.github.com/repos/romenlaw/NaiveNeuralNetwork/git/blobs/6ef2d9ee2a0f65c29906151a17899a4826e75467\",\n      \"html\": \"https://github.com/romenlaw/NaiveNeuralNetwork/blob/main/README.md\"\n    }\n  }\n]\n",
          "output_type": "stream"
        }
      ]
    },
    {
      "cell_type": "code",
      "source": [
        "uname = \"romenlaw\"\n",
        "!git config --global user.email '$uname@gmail.com'\n",
        "!git config --global user.name '$uname'\n",
        "\n",
        "#from getpass import getpass\n",
        "#password = getpass('Password:')\n",
        "!git clone https://github.com/romenlaw/NaiveNeuralNetwork"
      ],
      "metadata": {
        "execution": {
          "iopub.status.busy": "2024-08-03T05:03:48.517191Z",
          "iopub.execute_input": "2024-08-03T05:03:48.518422Z",
          "iopub.status.idle": "2024-08-03T05:03:49.676078Z",
          "shell.execute_reply.started": "2024-08-03T05:03:48.518329Z",
          "shell.execute_reply": "2024-08-03T05:03:49.674624Z"
        },
        "trusted": true,
        "id": "lpANdyz_6Pgx",
        "outputId": "603e6897-4acd-43dc-ad44-22f9cfd5c021",
        "colab": {
          "base_uri": "https://localhost:8080/"
        }
      },
      "execution_count": 1,
      "outputs": [
        {
          "output_type": "stream",
          "name": "stdout",
          "text": [
            "Password:··········\n",
            "Cloning into 'NaiveNeuralNetwork'...\n",
            "remote: Enumerating objects: 30, done.\u001b[K\n",
            "remote: Counting objects: 100% (30/30), done.\u001b[K\n",
            "remote: Compressing objects: 100% (27/27), done.\u001b[K\n",
            "remote: Total 30 (delta 11), reused 0 (delta 0), pack-reused 0\u001b[K\n",
            "Receiving objects: 100% (30/30), 9.36 KiB | 9.36 MiB/s, done.\n",
            "Resolving deltas: 100% (11/11), done.\n"
          ]
        }
      ]
    },
    {
      "cell_type": "code",
      "source": [
        "!git fetch origin\n",
        "!git pull origin main"
      ],
      "metadata": {
        "execution": {
          "iopub.status.busy": "2024-08-03T05:37:38.197958Z",
          "iopub.execute_input": "2024-08-03T05:37:38.198481Z",
          "iopub.status.idle": "2024-08-03T05:37:41.039801Z",
          "shell.execute_reply.started": "2024-08-03T05:37:38.198438Z",
          "shell.execute_reply": "2024-08-03T05:37:41.038278Z"
        },
        "trusted": true,
        "id": "q-PhaqvX6Pgy",
        "outputId": "f027491e-8d93-49e2-a8f7-9b17fa8f149d"
      },
      "execution_count": null,
      "outputs": [
        {
          "name": "stdout",
          "text": "warning: redirecting to https://github.com/romenlaw/NaiveNeuralNetwork/\nremote: Enumerating objects: 9, done.\u001b[K\nremote: Counting objects: 100% (9/9), done.\u001b[K\nremote: Compressing objects: 100% (6/6), done.\u001b[K\nremote: Total 6 (delta 1), reused 0 (delta 0), pack-reused 0\u001b[K\nUnpacking objects: 100% (6/6), 2.63 KiB | 1.32 MiB/s, done.\nFrom http://github.com/romenlaw/NaiveNeuralNetwork\n   fa80ae5..e15ab09  main       -> origin/main\nwarning: redirecting to https://github.com/romenlaw/NaiveNeuralNetwork/\nFrom http://github.com/romenlaw/NaiveNeuralNetwork\n * branch            main       -> FETCH_HEAD\nUpdating fa80ae5..e15ab09\nFast-forward\n Naiive_Neural_Network.ipynb | 111 \u001b[32m+\u001b[m\u001b[31m-------------------------------------------\u001b[m\n NaiveValue.py               |   4 \u001b[32m+\u001b[m\u001b[31m-\u001b[m\n 2 files changed, 4 insertions(+), 111 deletions(-)\n",
          "output_type": "stream"
        }
      ]
    },
    {
      "cell_type": "code",
      "source": [
        "%cd NaiveNeuralNetwork\n",
        "!git status"
      ],
      "metadata": {
        "id": "hLomb5J_6tje",
        "outputId": "96b5052d-96f0-43eb-83c4-4391a3b040a5",
        "colab": {
          "base_uri": "https://localhost:8080/"
        }
      },
      "execution_count": 3,
      "outputs": [
        {
          "output_type": "stream",
          "name": "stdout",
          "text": [
            "/content/NaiveNeuralNetwork\n",
            "On branch main\n",
            "Your branch is up to date with 'origin/main'.\n",
            "\n",
            "Changes not staged for commit:\n",
            "  (use \"git add <file>...\" to update what will be committed)\n",
            "  (use \"git restore <file>...\" to discard changes in working directory)\n",
            "\t\u001b[31mmodified:   NaiveValue.py\u001b[m\n",
            "\n",
            "no changes added to commit (use \"git add\" and/or \"git commit -a\")\n"
          ]
        }
      ]
    },
    {
      "cell_type": "code",
      "source": [
        "!git add .\n",
        "!git status"
      ],
      "metadata": {
        "id": "Wi5uf7jl7A8H",
        "outputId": "230e308c-807d-4d30-9680-ffdfe6190e06",
        "colab": {
          "base_uri": "https://localhost:8080/"
        }
      },
      "execution_count": 6,
      "outputs": [
        {
          "output_type": "stream",
          "name": "stdout",
          "text": [
            "On branch main\n",
            "Your branch is up to date with 'origin/main'.\n",
            "\n",
            "Changes to be committed:\n",
            "  (use \"git restore --staged <file>...\" to unstage)\n",
            "\t\u001b[32mmodified:   NaiveValue.py\u001b[m\n",
            "\n"
          ]
        }
      ]
    },
    {
      "cell_type": "code",
      "source": [
        "!git commit -m \"commit from colab\""
      ],
      "metadata": {
        "id": "-60tlPbu60hg",
        "outputId": "8ca805ad-8cb6-402b-c64b-33e228e62fec",
        "colab": {
          "base_uri": "https://localhost:8080/"
        }
      },
      "execution_count": 7,
      "outputs": [
        {
          "output_type": "stream",
          "name": "stdout",
          "text": [
            "[main 3b19327] commit from colab\n",
            " 1 file changed, 1 insertion(+)\n"
          ]
        }
      ]
    },
    {
      "cell_type": "code",
      "source": [
        "!git push origin main"
      ],
      "metadata": {
        "id": "TQAEk9JP7H69",
        "outputId": "50a71654-0a26-4515-ac28-71d457032622",
        "colab": {
          "base_uri": "https://localhost:8080/"
        }
      },
      "execution_count": 9,
      "outputs": [
        {
          "output_type": "stream",
          "name": "stdout",
          "text": [
            "remote: Support for password authentication was removed on August 13, 2021.\n",
            "remote: Please see https://docs.github.com/get-started/getting-started-with-git/about-remote-repositories#cloning-with-https-urls for information on currently recommended modes of authentication.\n",
            "fatal: Authentication failed for 'https://github.com/romenlaw/NaiveNeuralNetwork/'\n"
          ]
        }
      ]
    },
    {
      "cell_type": "code",
      "source": [
        "%%writefile NaiveNeuralNetwork/NaiveValue.py\n",
        "\n",
        "class Value:\n",
        "  def __init__(self, v):\n",
        "    self.value = v\n"
      ],
      "metadata": {
        "id": "W8odyRK46Pgy"
      },
      "execution_count": null,
      "outputs": []
    },
    {
      "cell_type": "code",
      "source": [
        "from NaiveNeuralNetwork.NaiveValue import *"
      ],
      "metadata": {
        "execution": {
          "iopub.status.busy": "2024-08-03T05:38:05.196881Z",
          "iopub.execute_input": "2024-08-03T05:38:05.197327Z",
          "iopub.status.idle": "2024-08-03T05:38:05.20447Z",
          "shell.execute_reply.started": "2024-08-03T05:38:05.197285Z",
          "shell.execute_reply": "2024-08-03T05:38:05.20328Z"
        },
        "trusted": true,
        "id": "Er_iHYIV6Pgz"
      },
      "execution_count": null,
      "outputs": []
    },
    {
      "cell_type": "code",
      "source": [
        "a = Value(3)"
      ],
      "metadata": {
        "execution": {
          "iopub.status.busy": "2024-08-03T05:38:14.628987Z",
          "iopub.execute_input": "2024-08-03T05:38:14.62941Z",
          "iopub.status.idle": "2024-08-03T05:38:14.63461Z",
          "shell.execute_reply.started": "2024-08-03T05:38:14.629375Z",
          "shell.execute_reply": "2024-08-03T05:38:14.633296Z"
        },
        "trusted": true,
        "id": "vaIewEiR6Pgz"
      },
      "execution_count": null,
      "outputs": []
    },
    {
      "cell_type": "code",
      "source": [
        "a"
      ],
      "metadata": {
        "execution": {
          "iopub.status.busy": "2024-08-03T05:38:18.960886Z",
          "iopub.execute_input": "2024-08-03T05:38:18.961327Z",
          "iopub.status.idle": "2024-08-03T05:38:18.969492Z",
          "shell.execute_reply.started": "2024-08-03T05:38:18.961292Z",
          "shell.execute_reply": "2024-08-03T05:38:18.968377Z"
        },
        "trusted": true,
        "id": "Tc1ZBkzw6Pg4",
        "outputId": "d3e7b450-1321-4a1f-d202-bea1513656bf"
      },
      "execution_count": null,
      "outputs": [
        {
          "execution_count": 21,
          "output_type": "execute_result",
          "data": {
            "text/plain": "<NaiveNeuralNetwork.NaiveValue.Value at 0x7d059d75bc10>"
          },
          "metadata": {}
        }
      ]
    }
  ]
}