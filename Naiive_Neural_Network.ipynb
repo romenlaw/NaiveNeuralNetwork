{
  "metadata": {
    "kernelspec": {
      "language": "python",
      "display_name": "Python 3",
      "name": "python3"
    },
    "language_info": {
      "name": "python",
      "version": "3.10.13",
      "mimetype": "text/x-python",
      "codemirror_mode": {
        "name": "ipython",
        "version": 3
      },
      "pygments_lexer": "ipython3",
      "nbconvert_exporter": "python",
      "file_extension": ".py"
    },
    "kaggle": {
      "accelerator": "none",
      "dataSources": [],
      "dockerImageVersionId": 30746,
      "isInternetEnabled": true,
      "language": "python",
      "sourceType": "notebook",
      "isGpuEnabled": false
    },
    "colab": {
      "provenance": [],
      "name": "Naiive Neural Network",
      "include_colab_link": true
    }
  },
  "nbformat_minor": 0,
  "nbformat": 4,
  "cells": [
    {
      "cell_type": "markdown",
      "metadata": {
        "id": "view-in-github",
        "colab_type": "text"
      },
      "source": [
        "<a href=\"https://colab.research.google.com/github/romenlaw/NaiveNeuralNetwork/blob/main/Naiive_Neural_Network.ipynb\" target=\"_parent\"><img src=\"https://colab.research.google.com/assets/colab-badge.svg\" alt=\"Open In Colab\"/></a>"
      ]
    },
    {
      "cell_type": "code",
      "source": [
        "# This Python 3 environment comes with many helpful analytics libraries installed\n",
        "# It is defined by the kaggle/python Docker image: https://github.com/kaggle/docker-python\n",
        "# For example, here's several helpful packages to load\n",
        "\n",
        "import numpy as np # linear algebra\n",
        "import pandas as pd # data processing, CSV file I/O (e.g. pd.read_csv)\n",
        "\n",
        "# Input data files are available in the read-only \"../input/\" directory\n",
        "# For example, running this (by clicking run or pressing Shift+Enter) will list all files under the input directory\n",
        "\n",
        "import os\n",
        "for dirname, _, filenames in os.walk('/kaggle/input'):\n",
        "    for filename in filenames:\n",
        "        print(os.path.join(dirname, filename))\n",
        "\n",
        "# You can write up to 20GB to the current directory (/kaggle/working/) that gets preserved as output when you create a version using \"Save & Run All\"\n",
        "# You can also write temporary files to /kaggle/temp/, but they won't be saved outside of the current session"
      ],
      "metadata": {
        "_uuid": "8f2839f25d086af736a60e9eeb907d3b93b6e0e5",
        "_cell_guid": "b1076dfc-b9ad-4769-8c92-a6c4dae69d19",
        "execution": {
          "iopub.status.busy": "2024-08-03T06:02:49.523148Z",
          "iopub.execute_input": "2024-08-03T06:02:49.523662Z",
          "iopub.status.idle": "2024-08-03T06:02:49.949388Z",
          "shell.execute_reply.started": "2024-08-03T06:02:49.523627Z",
          "shell.execute_reply": "2024-08-03T06:02:49.9484Z"
        },
        "id": "k9j2xs1S6Pgs",
        "trusted": true
      },
      "execution_count": null,
      "outputs": []
    },
    {
      "cell_type": "code",
      "source": [
        "!curl https://api.github.com/repos/romenlaw/NaiveNeuralNetwork/contents/"
      ],
      "metadata": {
        "execution": {
          "iopub.status.busy": "2024-08-03T06:18:35.464578Z",
          "iopub.execute_input": "2024-08-03T06:18:35.465005Z",
          "iopub.status.idle": "2024-08-03T06:18:36.758893Z",
          "shell.execute_reply.started": "2024-08-03T06:18:35.464972Z",
          "shell.execute_reply": "2024-08-03T06:18:36.757474Z"
        },
        "id": "1YngJNQY6Pgw",
        "outputId": "05c0c43c-2573-4f11-f9cf-9bbb54cd4a4d",
        "trusted": true
      },
      "execution_count": null,
      "outputs": [
        {
          "name": "stdout",
          "text": "[\n  {\n    \"name\": \"NNN.ipynb\",\n    \"path\": \"NNN.ipynb\",\n    \"sha\": \"ac88b9ffce238d747eecef62654ffc398947f212\",\n    \"size\": 2539,\n    \"url\": \"https://api.github.com/repos/romenlaw/NaiveNeuralNetwork/contents/NNN.ipynb?ref=main\",\n    \"html_url\": \"https://github.com/romenlaw/NaiveNeuralNetwork/blob/main/NNN.ipynb\",\n    \"git_url\": \"https://api.github.com/repos/romenlaw/NaiveNeuralNetwork/git/blobs/ac88b9ffce238d747eecef62654ffc398947f212\",\n    \"download_url\": \"https://raw.githubusercontent.com/romenlaw/NaiveNeuralNetwork/main/NNN.ipynb\",\n    \"type\": \"file\",\n    \"_links\": {\n      \"self\": \"https://api.github.com/repos/romenlaw/NaiveNeuralNetwork/contents/NNN.ipynb?ref=main\",\n      \"git\": \"https://api.github.com/repos/romenlaw/NaiveNeuralNetwork/git/blobs/ac88b9ffce238d747eecef62654ffc398947f212\",\n      \"html\": \"https://github.com/romenlaw/NaiveNeuralNetwork/blob/main/NNN.ipynb\"\n    }\n  },\n  {\n    \"name\": \"Naiive_Neural_Network.ipynb\",\n    \"path\": \"Naiive_Neural_Network.ipynb\",\n    \"sha\": \"71ce66e1869a6f83863f8167e961f016ae5ba711\",\n    \"size\": 4939,\n    \"url\": \"https://api.github.com/repos/romenlaw/NaiveNeuralNetwork/contents/Naiive_Neural_Network.ipynb?ref=main\",\n    \"html_url\": \"https://github.com/romenlaw/NaiveNeuralNetwork/blob/main/Naiive_Neural_Network.ipynb\",\n    \"git_url\": \"https://api.github.com/repos/romenlaw/NaiveNeuralNetwork/git/blobs/71ce66e1869a6f83863f8167e961f016ae5ba711\",\n    \"download_url\": \"https://raw.githubusercontent.com/romenlaw/NaiveNeuralNetwork/main/Naiive_Neural_Network.ipynb\",\n    \"type\": \"file\",\n    \"_links\": {\n      \"self\": \"https://api.github.com/repos/romenlaw/NaiveNeuralNetwork/contents/Naiive_Neural_Network.ipynb?ref=main\",\n      \"git\": \"https://api.github.com/repos/romenlaw/NaiveNeuralNetwork/git/blobs/71ce66e1869a6f83863f8167e961f016ae5ba711\",\n      \"html\": \"https://github.com/romenlaw/NaiveNeuralNetwork/blob/main/Naiive_Neural_Network.ipynb\"\n    }\n  },\n  {\n    \"name\": \"NaiveValue.py\",\n    \"path\": \"NaiveValue.py\",\n    \"sha\": \"533e640a4f5852da45e13e4c7e804e81acf3bd4a\",\n    \"size\": 57,\n    \"url\": \"https://api.github.com/repos/romenlaw/NaiveNeuralNetwork/contents/NaiveValue.py?ref=main\",\n    \"html_url\": \"https://github.com/romenlaw/NaiveNeuralNetwork/blob/main/NaiveValue.py\",\n    \"git_url\": \"https://api.github.com/repos/romenlaw/NaiveNeuralNetwork/git/blobs/533e640a4f5852da45e13e4c7e804e81acf3bd4a\",\n    \"download_url\": \"https://raw.githubusercontent.com/romenlaw/NaiveNeuralNetwork/main/NaiveValue.py\",\n    \"type\": \"file\",\n    \"_links\": {\n      \"self\": \"https://api.github.com/repos/romenlaw/NaiveNeuralNetwork/contents/NaiveValue.py?ref=main\",\n      \"git\": \"https://api.github.com/repos/romenlaw/NaiveNeuralNetwork/git/blobs/533e640a4f5852da45e13e4c7e804e81acf3bd4a\",\n      \"html\": \"https://github.com/romenlaw/NaiveNeuralNetwork/blob/main/NaiveValue.py\"\n    }\n  },\n  {\n    \"name\": \"README.md\",\n    \"path\": \"README.md\",\n    \"sha\": \"6ef2d9ee2a0f65c29906151a17899a4826e75467\",\n    \"size\": 104,\n    \"url\": \"https://api.github.com/repos/romenlaw/NaiveNeuralNetwork/contents/README.md?ref=main\",\n    \"html_url\": \"https://github.com/romenlaw/NaiveNeuralNetwork/blob/main/README.md\",\n    \"git_url\": \"https://api.github.com/repos/romenlaw/NaiveNeuralNetwork/git/blobs/6ef2d9ee2a0f65c29906151a17899a4826e75467\",\n    \"download_url\": \"https://raw.githubusercontent.com/romenlaw/NaiveNeuralNetwork/main/README.md\",\n    \"type\": \"file\",\n    \"_links\": {\n      \"self\": \"https://api.github.com/repos/romenlaw/NaiveNeuralNetwork/contents/README.md?ref=main\",\n      \"git\": \"https://api.github.com/repos/romenlaw/NaiveNeuralNetwork/git/blobs/6ef2d9ee2a0f65c29906151a17899a4826e75467\",\n      \"html\": \"https://github.com/romenlaw/NaiveNeuralNetwork/blob/main/README.md\"\n    }\n  }\n]\n",
          "output_type": "stream"
        }
      ]
    },
    {
      "cell_type": "code",
      "source": [
        "!git clone https://github.com/romenlaw/NaiveNeuralNetwork"
      ],
      "metadata": {
        "execution": {
          "iopub.status.busy": "2024-08-03T05:03:48.517191Z",
          "iopub.execute_input": "2024-08-03T05:03:48.518422Z",
          "iopub.status.idle": "2024-08-03T05:03:49.676078Z",
          "shell.execute_reply.started": "2024-08-03T05:03:48.518329Z",
          "shell.execute_reply": "2024-08-03T05:03:49.674624Z"
        },
        "id": "lpANdyz_6Pgx",
        "outputId": "d9190a80-87e7-436d-df67-5c3572e3d464",
        "colab": {
          "base_uri": "https://localhost:8080/"
        },
        "trusted": true
      },
      "execution_count": 1,
      "outputs": [
        {
          "output_type": "stream",
          "name": "stdout",
          "text": [
            "Cloning into 'NaiveNeuralNetwork'...\n",
            "remote: Enumerating objects: 33, done.\u001b[K\n",
            "remote: Counting objects: 100% (33/33), done.\u001b[K\n",
            "remote: Compressing objects: 100% (30/30), done.\u001b[K\n",
            "remote: Total 33 (delta 14), reused 0 (delta 0), pack-reused 0\u001b[K\n",
            "Receiving objects: 100% (33/33), 10.70 KiB | 10.71 MiB/s, done.\n",
            "Resolving deltas: 100% (14/14), done.\n"
          ]
        }
      ]
    },
    {
      "cell_type": "code",
      "source": [
        "%cd NaiveNeuralNetwork\n",
        "!git config --global user.email 'romen.law@gmail.com'\n",
        "!git config --global user.name 'romenlaw'"
      ],
      "metadata": {
        "id": "aQ0SkzrG9fPs"
      },
      "execution_count": 12,
      "outputs": []
    },
    {
      "cell_type": "code",
      "source": [
        "!git fetch origin\n",
        "!git pull origin main"
      ],
      "metadata": {
        "execution": {
          "iopub.status.busy": "2024-08-03T05:37:38.197958Z",
          "iopub.execute_input": "2024-08-03T05:37:38.198481Z",
          "iopub.status.idle": "2024-08-03T05:37:41.039801Z",
          "shell.execute_reply.started": "2024-08-03T05:37:38.198438Z",
          "shell.execute_reply": "2024-08-03T05:37:41.038278Z"
        },
        "id": "q-PhaqvX6Pgy",
        "outputId": "d20967b7-9691-4d71-b547-42f25e559c0d",
        "trusted": true,
        "colab": {
          "base_uri": "https://localhost:8080/"
        }
      },
      "execution_count": 15,
      "outputs": [
        {
          "output_type": "stream",
          "name": "stdout",
          "text": [
            "From https://github.com/romenlaw/NaiveNeuralNetwork\n",
            " * branch            main       -> FETCH_HEAD\n",
            "Already up to date.\n"
          ]
        }
      ]
    },
    {
      "cell_type": "code",
      "source": [
        "!git status"
      ],
      "metadata": {
        "id": "hLomb5J_6tje",
        "outputId": "6a6e51af-82c3-4d22-d6a9-33a44ee9beb4",
        "colab": {
          "base_uri": "https://localhost:8080/"
        }
      },
      "execution_count": 7,
      "outputs": [
        {
          "output_type": "stream",
          "name": "stdout",
          "text": [
            "On branch main\n",
            "Your branch is up to date with 'origin/main'.\n",
            "\n",
            "Changes not staged for commit:\n",
            "  (use \"git add <file>...\" to update what will be committed)\n",
            "  (use \"git restore <file>...\" to discard changes in working directory)\n",
            "\t\u001b[31mmodified:   NaiveValue.py\u001b[m\n",
            "\n",
            "no changes added to commit (use \"git add\" and/or \"git commit -a\")\n"
          ]
        }
      ]
    },
    {
      "cell_type": "code",
      "source": [
        "!git add .\n",
        "!git status"
      ],
      "metadata": {
        "id": "Wi5uf7jl7A8H",
        "outputId": "9c330289-1e9e-4ca4-b466-8e0ba01afe6a",
        "colab": {
          "base_uri": "https://localhost:8080/"
        }
      },
      "execution_count": 8,
      "outputs": [
        {
          "output_type": "stream",
          "name": "stdout",
          "text": [
            "On branch main\n",
            "Your branch is up to date with 'origin/main'.\n",
            "\n",
            "Changes to be committed:\n",
            "  (use \"git restore --staged <file>...\" to unstage)\n",
            "\t\u001b[32mmodified:   NaiveValue.py\u001b[m\n",
            "\n"
          ]
        }
      ]
    },
    {
      "cell_type": "code",
      "source": [
        "!git commit -m \"commit from colab\""
      ],
      "metadata": {
        "id": "-60tlPbu60hg",
        "outputId": "62162843-2978-4031-cb84-d65a9887e884",
        "colab": {
          "base_uri": "https://localhost:8080/"
        }
      },
      "execution_count": 13,
      "outputs": [
        {
          "output_type": "stream",
          "name": "stdout",
          "text": [
            "On branch main\n",
            "Your branch is ahead of 'origin/main' by 1 commit.\n",
            "  (use \"git push\" to publish your local commits)\n",
            "\n",
            "nothing to commit, working tree clean\n"
          ]
        }
      ]
    },
    {
      "cell_type": "code",
      "source": [
        "!git push origin main"
      ],
      "metadata": {
        "id": "TQAEk9JP7H69",
        "outputId": "a22ccbb6-84cd-46b8-ab89-b6275e21e3bb",
        "colab": {
          "base_uri": "https://localhost:8080/"
        }
      },
      "execution_count": 16,
      "outputs": [
        {
          "output_type": "stream",
          "name": "stdout",
          "text": [
            "fatal: could not read Username for 'https://github.com': No such device or address\n"
          ]
        }
      ]
    },
    {
      "cell_type": "code",
      "source": [
        "%%writefile NaiveNeuralNetwork/NaiveValue.py\n",
        "\n",
        "class Value:\n",
        "  def __init__(self, v):\n",
        "    self.value = v\n"
      ],
      "metadata": {
        "id": "W8odyRK46Pgy"
      },
      "execution_count": null,
      "outputs": []
    },
    {
      "cell_type": "code",
      "source": [
        "from NaiveNeuralNetwork.NaiveValue import *"
      ],
      "metadata": {
        "execution": {
          "iopub.status.busy": "2024-08-03T05:38:05.196881Z",
          "iopub.execute_input": "2024-08-03T05:38:05.197327Z",
          "iopub.status.idle": "2024-08-03T05:38:05.20447Z",
          "shell.execute_reply.started": "2024-08-03T05:38:05.197285Z",
          "shell.execute_reply": "2024-08-03T05:38:05.20328Z"
        },
        "id": "Er_iHYIV6Pgz",
        "trusted": true
      },
      "execution_count": null,
      "outputs": []
    },
    {
      "cell_type": "code",
      "source": [
        "a = Value(3)"
      ],
      "metadata": {
        "execution": {
          "iopub.status.busy": "2024-08-03T05:38:14.628987Z",
          "iopub.execute_input": "2024-08-03T05:38:14.62941Z",
          "iopub.status.idle": "2024-08-03T05:38:14.63461Z",
          "shell.execute_reply.started": "2024-08-03T05:38:14.629375Z",
          "shell.execute_reply": "2024-08-03T05:38:14.633296Z"
        },
        "id": "vaIewEiR6Pgz",
        "trusted": true
      },
      "execution_count": null,
      "outputs": []
    },
    {
      "cell_type": "code",
      "source": [
        "a"
      ],
      "metadata": {
        "execution": {
          "iopub.status.busy": "2024-08-03T05:38:18.960886Z",
          "iopub.execute_input": "2024-08-03T05:38:18.961327Z",
          "iopub.status.idle": "2024-08-03T05:38:18.969492Z",
          "shell.execute_reply.started": "2024-08-03T05:38:18.961292Z",
          "shell.execute_reply": "2024-08-03T05:38:18.968377Z"
        },
        "id": "Tc1ZBkzw6Pg4",
        "outputId": "d3e7b450-1321-4a1f-d202-bea1513656bf",
        "trusted": true
      },
      "execution_count": null,
      "outputs": [
        {
          "execution_count": 21,
          "output_type": "execute_result",
          "data": {
            "text/plain": "<NaiveNeuralNetwork.NaiveValue.Value at 0x7d059d75bc10>"
          },
          "metadata": {}
        }
      ]
    }
  ]
}