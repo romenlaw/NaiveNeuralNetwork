{
  "cells": [
    {
      "cell_type": "code",
      "source": [
        "!git config --global user.name \"romenlaw\"\n",
        "!git config --global user.email \"e\"\n",
        "TOKEN='github_pat_'\n",
        "!git clone https://$TOKEN@github.com/romenlaw/NaiveNeuralNetwork"
      ],
      "metadata": {
        "colab": {
          "base_uri": "https://localhost:8080/"
        },
        "id": "inYzuGA1MNN-",
        "outputId": "5e12d749-1969-4a1d-8594-0dbd52366121"
      },
      "execution_count": 1,
      "outputs": [
        {
          "output_type": "stream",
          "name": "stdout",
          "text": [
            "Cloning into 'NaiveNeuralNetwork'...\n",
            "remote: Enumerating objects: 173, done.\u001b[K\n",
            "remote: Counting objects: 100% (29/29), done.\u001b[K\n",
            "remote: Compressing objects: 100% (23/23), done.\u001b[K\n",
            "remote: Total 173 (delta 12), reused 13 (delta 6), pack-reused 144\u001b[K\n",
            "Receiving objects: 100% (173/173), 624.06 KiB | 1.74 MiB/s, done.\n",
            "Resolving deltas: 100% (78/78), done.\n"
          ]
        }
      ]
    },
    {
      "cell_type": "code",
      "source": [
        "%cd /content/NaiveNeuralNetwork"
      ],
      "metadata": {
        "colab": {
          "base_uri": "https://localhost:8080/"
        },
        "id": "qpa0iBJbMUzs",
        "outputId": "4b0358c2-3948-4a47-cb64-7346ca2ee791"
      },
      "execution_count": 2,
      "outputs": [
        {
          "output_type": "stream",
          "name": "stdout",
          "text": [
            "/content/NaiveNeuralNetwork\n"
          ]
        }
      ]
    },
    {
      "cell_type": "code",
      "source": [
        "!git status"
      ],
      "metadata": {
        "colab": {
          "base_uri": "https://localhost:8080/"
        },
        "id": "HtBPYLHIMXFt",
        "outputId": "d2df4afb-8b40-45b6-e6be-3906932d6d58"
      },
      "execution_count": 3,
      "outputs": [
        {
          "output_type": "stream",
          "name": "stdout",
          "text": [
            "On branch main\n",
            "Your branch is up to date with 'origin/main'.\n",
            "\n",
            "nothing to commit, working tree clean\n"
          ]
        }
      ]
    },
    {
      "cell_type": "code",
      "source": [
        "!git add nnn.py visualiser.py"
      ],
      "metadata": {
        "id": "UUf9YhaWODvZ"
      },
      "execution_count": null,
      "outputs": []
    },
    {
      "cell_type": "code",
      "source": [
        "!git commit -m \"add __repr__\""
      ],
      "metadata": {
        "colab": {
          "base_uri": "https://localhost:8080/"
        },
        "id": "EiZxdUfEOJi7",
        "outputId": "b31121eb-b42d-447b-b5d0-4c12818d95ce"
      },
      "execution_count": null,
      "outputs": [
        {
          "output_type": "stream",
          "name": "stdout",
          "text": [
            "[main a8b02ff] add __repr__\n",
            " 1 file changed, 22 insertions(+), 4 deletions(-)\n"
          ]
        }
      ]
    },
    {
      "cell_type": "code",
      "source": [
        "!git push origin main"
      ],
      "metadata": {
        "colab": {
          "base_uri": "https://localhost:8080/"
        },
        "id": "kiB2zvxYOLKP",
        "outputId": "4b48d993-b968-4d8b-c646-27a90f89109a"
      },
      "execution_count": null,
      "outputs": [
        {
          "output_type": "stream",
          "name": "stdout",
          "text": [
            "Enumerating objects: 5, done.\n",
            "Counting objects:  20% (1/5)\rCounting objects:  40% (2/5)\rCounting objects:  60% (3/5)\rCounting objects:  80% (4/5)\rCounting objects: 100% (5/5)\rCounting objects: 100% (5/5), done.\n",
            "Delta compression using up to 2 threads\n",
            "Compressing objects:  33% (1/3)\rCompressing objects:  66% (2/3)\rCompressing objects: 100% (3/3)\rCompressing objects: 100% (3/3), done.\n",
            "Writing objects:  33% (1/3)\rWriting objects:  66% (2/3)\rWriting objects: 100% (3/3)\rWriting objects: 100% (3/3), 621 bytes | 621.00 KiB/s, done.\n",
            "Total 3 (delta 2), reused 0 (delta 0), pack-reused 0\n",
            "remote: Resolving deltas: 100% (2/2), completed with 2 local objects.\u001b[K\n",
            "To https://github.com/romenlaw/NaiveNeuralNetwork\n",
            "   7722c7d..a8b02ff  main -> main\n"
          ]
        }
      ]
    },
    {
      "cell_type": "markdown",
      "source": [
        "## housekeeping"
      ],
      "metadata": {
        "id": "brdV8u1TMfkC"
      }
    },
    {
      "cell_type": "code",
      "source": [
        "import sys\n",
        "sys.path.append('/content/NaiveNeuralNetwork')\n",
        "\n",
        "%load_ext autoreload\n",
        "%autoreload 2"
      ],
      "metadata": {
        "id": "Od-6TAHQMhp9"
      },
      "execution_count": 4,
      "outputs": []
    },
    {
      "cell_type": "code",
      "source": [
        "from nnn import *\n",
        "from visualiser import *"
      ],
      "metadata": {
        "id": "IgOW1USDMklN"
      },
      "execution_count": 5,
      "outputs": []
    },
    {
      "cell_type": "code",
      "source": [
        "import math\n",
        "import numpy as np\n",
        "import matplotlib.pyplot as plt\n",
        "%matplotlib inline\n",
        "plt.rcParams['axes.grid'] = True\n",
        "plt.rcParams['figure.figsize'] = (5,3)"
      ],
      "metadata": {
        "id": "BLxEvRvXMpUt"
      },
      "execution_count": 6,
      "outputs": []
    },
    {
      "cell_type": "markdown",
      "metadata": {
        "id": "3ptgFzctMBHP"
      },
      "source": [
        "###  Multi-class Classifier Demo"
      ]
    },
    {
      "cell_type": "code",
      "execution_count": 7,
      "metadata": {
        "id": "MAzdb9H1MBHU"
      },
      "outputs": [],
      "source": [
        "np.random.seed(1337)\n",
        "random.seed(1337)"
      ]
    },
    {
      "cell_type": "code",
      "execution_count": 8,
      "metadata": {
        "colab": {
          "base_uri": "https://localhost:8080/",
          "height": 462
        },
        "id": "T0Xm582xMBHU",
        "outputId": "a69d95f9-c32e-4d34-de00-92bde313355e"
      },
      "outputs": [
        {
          "output_type": "execute_result",
          "data": {
            "text/plain": [
              "<matplotlib.collections.PathCollection at 0x7a64e65a6020>"
            ]
          },
          "metadata": {},
          "execution_count": 8
        },
        {
          "output_type": "display_data",
          "data": {
            "text/plain": [
              "<Figure size 500x500 with 1 Axes>"
            ],
            "image/png": "[encoded data removed]"
          },
          "metadata": {}
        }
      ],
      "source": [
        "# make up a dataset\n",
        "\n",
        "from sklearn.datasets import make_moons, make_blobs\n",
        "X, y = make_moons(n_samples=100, noise=0.1)\n",
        "\n",
        "y = y*2 - 1 # make y be -1 or 1\n",
        "# visualize in 2D\n",
        "plt.figure(figsize=(5,5))\n",
        "plt.scatter(X[:,0], X[:,1], c=y, s=20, cmap='jet')"
      ]
    },
    {
      "cell_type": "code",
      "source": [
        "X.shape, y.shape, y, X"
      ],
      "metadata": {
        "colab": {
          "base_uri": "https://localhost:8080/"
        },
        "id": "gPMzFDHj44za",
        "outputId": "e4901e20-d284-4401-cea8-2ba96a68fe06"
      },
      "execution_count": 17,
      "outputs": [
        {
          "output_type": "execute_result",
          "data": {
            "text/plain": [
              "((100, 2),\n",
              " (100,),\n",
              " array([-1, -1,  1, -1,  1,  1,  1,  1,  1, -1,  1, -1, -1,  1, -1, -1,  1,\n",
              "         1, -1, -1, -1,  1,  1,  1,  1, -1, -1,  1, -1,  1, -1, -1, -1, -1,\n",
              "         1, -1,  1,  1,  1, -1, -1, -1, -1, -1, -1,  1,  1, -1,  1, -1, -1,\n",
              "         1, -1,  1,  1, -1, -1,  1, -1, -1, -1, -1, -1, -1, -1,  1, -1,  1,\n",
              "         1,  1,  1, -1, -1,  1,  1,  1, -1,  1,  1,  1,  1, -1,  1, -1, -1,\n",
              "        -1,  1,  1, -1, -1,  1,  1,  1,  1,  1,  1, -1,  1,  1, -1]),\n",
              " array([[ 1.12211461e+00,  8.14771734e-02],\n",
              "        [-8.18829413e-01,  5.87900639e-02],\n",
              "        [ 1.61370966e+00, -1.24645900e-01],\n",
              "        [-9.23009184e-01,  3.65228899e-01],\n",
              "        [ 1.43851462e-01,  4.43800492e-02],\n",
              "        [ 1.64472466e-01,  1.17383457e-01],\n",
              "        [ 1.33877062e+00, -2.38009933e-01],\n",
              "        [ 8.71148615e-01, -4.22717587e-01],\n",
              "        [ 1.83129946e+00, -1.41043828e-01],\n",
              "        [ 4.87571202e-01,  6.39092830e-01],\n",
              "        [ 3.74623511e-02,  4.23588090e-01],\n",
              "        [-4.43916853e-01,  8.96739312e-01],\n",
              "        [-8.12229494e-01,  9.12090924e-01],\n",
              "        [ 1.63552312e+00, -3.49996760e-01],\n",
              "        [ 4.73539037e-01,  9.57342599e-01],\n",
              "        [ 7.53549316e-01,  6.23727143e-01],\n",
              "        [ 2.64212818e-01, -2.42419828e-01],\n",
              "        [ 1.42755726e+00, -3.72510358e-01],\n",
              "        [-3.72356057e-01,  9.56691710e-01],\n",
              "        [-9.61301967e-01,  3.26090112e-01],\n",
              "        [ 7.80858468e-01,  7.97489402e-01],\n",
              "        [ 9.16609029e-01, -4.27638438e-01],\n",
              "        [ 1.04703809e+00, -5.44492470e-01],\n",
              "        [-6.03630542e-02,  1.19609088e-01],\n",
              "        [ 2.91895380e-02,  3.06838997e-01],\n",
              "        [-3.95732255e-01,  8.96543895e-01],\n",
              "        [-1.04645910e-01,  1.11788313e+00],\n",
              "        [ 1.88110004e+00,  2.99202568e-01],\n",
              "        [ 8.27408779e-01,  3.44977171e-01],\n",
              "        [ 1.29777112e+00, -3.66543151e-01],\n",
              "        [-6.76892847e-01,  8.55599574e-01],\n",
              "        [ 5.29529953e-01,  9.47355941e-01],\n",
              "        [-8.43802291e-01,  6.04739822e-01],\n",
              "        [ 2.65984708e-01,  8.87321986e-01],\n",
              "        [ 1.37403862e-01,  3.97856894e-01],\n",
              "        [-9.10439360e-01, -9.70966409e-02],\n",
              "        [ 1.33740031e+00, -3.67411974e-01],\n",
              "        [ 1.02257719e+00, -3.97526493e-01],\n",
              "        [ 1.02490132e+00, -5.48639298e-01],\n",
              "        [-7.50895897e-01,  2.53287722e-01],\n",
              "        [ 1.20281632e+00,  8.11538186e-02],\n",
              "        [-4.69102122e-01,  7.80796219e-01],\n",
              "        [ 7.40836677e-01,  4.59232537e-01],\n",
              "        [ 7.86905117e-01,  7.66247461e-01],\n",
              "        [-1.30051914e-01,  1.11938940e+00],\n",
              "        [ 8.04023061e-01, -4.23154474e-01],\n",
              "        [ 2.83303670e-01, -2.19440711e-01],\n",
              "        [-7.11055396e-01,  7.11638805e-01],\n",
              "        [ 3.02624521e-01, -9.33890861e-02],\n",
              "        [ 8.07914632e-01,  3.36538326e-01],\n",
              "        [-9.41626914e-01,  1.68018576e-01],\n",
              "        [ 1.14081485e+00, -4.62897185e-01],\n",
              "        [-1.57137522e-01,  9.32106642e-01],\n",
              "        [ 1.71504370e+00, -1.83620088e-01],\n",
              "        [ 3.72465754e-01, -1.26078412e-01],\n",
              "        [-7.43095776e-01,  6.98951667e-01],\n",
              "        [ 6.81424891e-01,  6.85634239e-01],\n",
              "        [ 8.68612480e-01, -3.72786175e-01],\n",
              "        [ 1.00229575e+00,  2.16874785e-01],\n",
              "        [-1.02219391e+00,  3.97508213e-01],\n",
              "        [-6.10762581e-01,  8.31171369e-01],\n",
              "        [-7.76683047e-01,  6.43609323e-01],\n",
              "        [ 1.10530001e+00,  2.19162811e-01],\n",
              "        [-1.78904597e-01,  1.06959774e+00],\n",
              "        [ 4.04983057e-01,  8.26478337e-01],\n",
              "        [ 1.81457300e+00,  3.45253762e-02],\n",
              "        [-7.91285627e-01,  2.00068809e-01],\n",
              "        [ 1.98173149e+00,  4.60760535e-01],\n",
              "        [ 7.32427956e-01, -3.99657543e-01],\n",
              "        [ 2.11141647e+00,  1.80640708e-01],\n",
              "        [ 2.16205598e+00,  4.94233819e-01],\n",
              "        [ 8.96245420e-01,  4.61536063e-01],\n",
              "        [ 3.73493759e-01,  1.04498301e+00],\n",
              "        [ 5.84964554e-01, -3.21259841e-01],\n",
              "        [ 1.76329788e-01,  1.97455719e-01],\n",
              "        [ 1.09115646e-01,  4.81557011e-01],\n",
              "        [ 2.97532748e-01,  9.95836387e-01],\n",
              "        [ 9.60465720e-02, -4.62698630e-02],\n",
              "        [ 4.74643637e-01, -1.05126474e-01],\n",
              "        [ 1.11634711e+00, -4.15534373e-01],\n",
              "        [ 5.53627588e-01, -4.23125821e-01],\n",
              "        [ 1.89528099e-01,  1.01835655e+00],\n",
              "        [ 1.94566914e+00, -9.53034040e-02],\n",
              "        [-8.46266211e-02,  1.07262342e+00],\n",
              "        [ 1.16858008e+00, -2.84810701e-02],\n",
              "        [ 1.24468467e-01,  1.05725031e+00],\n",
              "        [ 2.03389924e+00,  2.84729799e-01],\n",
              "        [-2.80005380e-02,  1.70767639e-01],\n",
              "        [ 7.40934813e-01,  4.14114383e-01],\n",
              "        [ 7.93947034e-01,  5.59725800e-01],\n",
              "        [ 8.68742625e-01, -5.30147199e-01],\n",
              "        [ 1.61874435e+00, -3.25845287e-01],\n",
              "        [ 1.42986564e+00, -4.73342103e-01],\n",
              "        [ 1.97480435e+00, -1.77931622e-01],\n",
              "        [ 1.85356347e+00,  3.42263958e-01],\n",
              "        [ 1.74912164e+00,  2.83390247e-02],\n",
              "        [-6.85668888e-01,  4.65356936e-01],\n",
              "        [ 1.75237435e+00,  1.64520514e-01],\n",
              "        [ 1.80789551e-01, -2.95417619e-04],\n",
              "        [ 1.21082973e-01,  1.06555225e+00]]))"
            ]
          },
          "metadata": {},
          "execution_count": 17
        }
      ]
    },
    {
      "cell_type": "code",
      "execution_count": 9,
      "metadata": {
        "colab": {
          "base_uri": "https://localhost:8080/"
        },
        "id": "pUG-_aEeMBHV",
        "outputId": "7fc39dad-1af0-417c-95f7-0bc7bc2cb268"
      },
      "outputs": [
        {
          "output_type": "stream",
          "name": "stdout",
          "text": [
            "MLP[nin=2, n_layers=3]: [\n",
            " Layer[0,2 x 16, non_linear=True]: [Neuron[L0,0,non_linear=True], Neuron[L0,1,non_linear=True], Neuron[L0,2,non_linear=True], Neuron[L0,3,non_linear=True], Neuron[L0,4,non_linear=True], Neuron[L0,5,non_linear=True], Neuron[L0,6,non_linear=True], Neuron[L0,7,non_linear=True], Neuron[L0,8,non_linear=True], Neuron[L0,9,non_linear=True], Neuron[L0,10,non_linear=True], Neuron[L0,11,non_linear=True], Neuron[L0,12,non_linear=True], Neuron[L0,13,non_linear=True], Neuron[L0,14,non_linear=True], Neuron[L0,15,non_linear=True]], \n",
            " Layer[1,16 x 16, non_linear=True]: [Neuron[L1,0,non_linear=True], Neuron[L1,1,non_linear=True], Neuron[L1,2,non_linear=True], Neuron[L1,3,non_linear=True], Neuron[L1,4,non_linear=True], Neuron[L1,5,non_linear=True], Neuron[L1,6,non_linear=True], Neuron[L1,7,non_linear=True], Neuron[L1,8,non_linear=True], Neuron[L1,9,non_linear=True], Neuron[L1,10,non_linear=True], Neuron[L1,11,non_linear=True], Neuron[L1,12,non_linear=True], Neuron[L1,13,non_linear=True], Neuron[L1,14,non_linear=True], Neuron[L1,15,non_linear=True]], \n",
            " Layer[2,16 x 1, non_linear=False]: [Neuron[L2,0,non_linear=False]]]\n",
            "number of parameters 337\n"
          ]
        }
      ],
      "source": [
        "# initialize a model\n",
        "model = MLP(2, [16, 16, 1]) # 2-layer neural network\n",
        "print(model)\n",
        "print(\"number of parameters\", len(model.parameters()))"
      ]
    },
    {
      "cell_type": "markdown",
      "source": [
        "## SVM - Weston Watkins 1999\n",
        "$$L_i = \\sum_{j \\ne y_i} max(0, s_j - s_{y_i} + 1)\n",
        "$$\n",
        "where $i \\in$ [0, batch size), $j \\in$ [0, number of output classes)\n",
        "\n",
        "The loss function\n",
        "$$L = \\dfrac{1}{N}\\sum_{i=0}^{batch\\_size}{L_i}$$"
      ],
      "metadata": {
        "id": "zQeLYepBSgfN"
      }
    },
    {
      "cell_type": "markdown",
      "source": [
        "## Structured SVM\n",
        "$$L_i = \\max(0, \\max(s_j)-s_{y_i}+1), \\forall j\\ne y_i$$\n",
        "\n",
        "where $i \\in$ [1, batch size], $j \\in$ [1, number of output classes],\n",
        "$s_j$ is the predicted score, $s_{y_i}$ is ground truth score for $i$th sample\n",
        "\n",
        "The loss function\n",
        "$$L = \\dfrac{1}{N}\\sum_{i=i}^{N}{L_i}$$\n",
        "\n",
        "where $N$ is batch size"
      ],
      "metadata": {
        "id": "RJlwGAo97HGK"
      }
    },
    {
      "cell_type": "code",
      "execution_count": 10,
      "metadata": {
        "colab": {
          "base_uri": "https://localhost:8080/"
        },
        "id": "X1xVhML3MBHV",
        "outputId": "d2612099-f57b-4415-da6a-ac2b736e5c4d"
      },
      "outputs": [
        {
          "output_type": "stream",
          "name": "stdout",
          "text": [
            ": 0.8659503415705121 0.68\n"
          ]
        }
      ],
      "source": [
        "# loss function\n",
        "def loss(batch_size=None):\n",
        "\n",
        "    # inline DataLoader :)\n",
        "    if batch_size is None:\n",
        "        Xb, yb = X, y\n",
        "    else:\n",
        "        ri = np.random.permutation(X.shape[0])[:batch_size]\n",
        "        Xb, yb = X[ri], y[ri]\n",
        "    inputs = [list(map(Scalar, xrow)) for xrow in Xb]\n",
        "\n",
        "    # forward the model to get scores\n",
        "    scores = list(map(model, inputs))\n",
        "\n",
        "    # svm \"max-margin\" loss\n",
        "    losses = [(1 + -yi*scorei).relu() for yi, scorei in zip(yb, scores)]\n",
        "    data_loss = sum(losses) * (1.0 / len(losses))\n",
        "    # L2 regularization\n",
        "    alpha = 1e-4\n",
        "    reg_loss = alpha * sum((p*p for p in model.parameters()))\n",
        "    total_loss = data_loss + reg_loss\n",
        "\n",
        "    # also get accuracy\n",
        "    accuracy = [(yi > 0) == (scorei.data > 0) for yi, scorei in zip(yb, scores)]\n",
        "    return total_loss, sum(accuracy) / len(accuracy)\n",
        "\n",
        "total_loss, acc = loss()\n",
        "print(total_loss, acc)"
      ]
    },
    {
      "cell_type": "code",
      "execution_count": 11,
      "metadata": {
        "colab": {
          "base_uri": "https://localhost:8080/"
        },
        "id": "8VA6lpJyMBHW",
        "outputId": "a1d683a1-76db-4d2f-9b1e-0f695d1acb27"
      },
      "outputs": [
        {
          "output_type": "stream",
          "name": "stdout",
          "text": [
            "step 0 loss 0.8659503415705121, accuracy 68.0%\n",
            "step 1 loss 1.5440922160314283, accuracy 50.0%\n",
            "step 2 loss 0.9460449078546274, accuracy 75.0%\n",
            "step 3 loss 0.4030720815560562, accuracy 83.0%\n",
            "step 4 loss 0.3842886682393768, accuracy 84.0%\n",
            "step 5 loss 0.4005178287080058, accuracy 85.0%\n",
            "step 6 loss 0.28995121978014066, accuracy 88.0%\n",
            "step 7 loss 0.2772399391711312, accuracy 90.0%\n",
            "step 8 loss 0.2603441927730051, accuracy 89.0%\n",
            "step 9 loss 0.30946592954041413, accuracy 89.0%\n",
            "step 10 loss 0.22794829029928027, accuracy 91.0%\n",
            "step 11 loss 0.28746107205156596, accuracy 93.0%\n",
            "step 12 loss 0.4504850616792608, accuracy 86.0%\n",
            "step 13 loss 0.29342271969861206, accuracy 88.0%\n",
            "step 14 loss 0.16522563479605332, accuracy 94.0%\n",
            "step 15 loss 0.1403453348031809, accuracy 95.0%\n",
            "step 16 loss 0.12849646961474182, accuracy 96.0%\n",
            "step 17 loss 0.13221539864229082, accuracy 95.0%\n",
            "step 18 loss 0.21730992969985133, accuracy 92.0%\n",
            "step 19 loss 0.35122926511113567, accuracy 89.0%\n",
            "step 20 loss 0.23995160361693613, accuracy 90.0%\n",
            "step 21 loss 0.1106399981007875, accuracy 94.0%\n",
            "step 22 loss 0.08130493472543354, accuracy 97.0%\n",
            "step 23 loss 0.0728690871070909, accuracy 98.0%\n",
            "step 24 loss 0.06644992176758016, accuracy 99.0%\n",
            "step 25 loss 0.08200313423030353, accuracy 97.0%\n",
            "step 26 loss 0.06215610281949506, accuracy 100.0%\n",
            "step 27 loss 0.10219634116362905, accuracy 97.0%\n",
            "step 28 loss 0.042645506625900005, accuracy 100.0%\n",
            "step 29 loss 0.04589357694366113, accuracy 99.0%\n",
            "step 30 loss 0.0738486438507858, accuracy 100.0%\n",
            "step 31 loss 0.17164448067106483, accuracy 95.0%\n",
            "step 32 loss 0.06394141035859267, accuracy 98.0%\n",
            "step 33 loss 0.04395242239323045, accuracy 100.0%\n",
            "step 34 loss 0.05961133426375862, accuracy 99.0%\n",
            "step 35 loss 0.03049452879906316, accuracy 100.0%\n",
            "step 36 loss 0.034888972294493066, accuracy 100.0%\n",
            "step 37 loss 0.03826130212839748, accuracy 100.0%\n",
            "step 38 loss 0.090603614746313, accuracy 97.0%\n",
            "step 39 loss 0.03187338272119968, accuracy 100.0%\n",
            "step 40 loss 0.03717008564555869, accuracy 100.0%\n",
            "step 41 loss 0.06881044957897407, accuracy 97.0%\n",
            "step 42 loss 0.024577665107688745, accuracy 100.0%\n",
            "step 43 loss 0.04494539868895916, accuracy 100.0%\n",
            "step 44 loss 0.08790889813613653, accuracy 97.0%\n",
            "step 45 loss 0.03357410264729886, accuracy 100.0%\n",
            "step 46 loss 0.021052348888999817, accuracy 100.0%\n",
            "step 47 loss 0.030380505014676155, accuracy 100.0%\n",
            "step 48 loss 0.023339150443258468, accuracy 100.0%\n",
            "step 49 loss 0.03442903576485555, accuracy 99.0%\n",
            "step 50 loss 0.020703759844918797, accuracy 100.0%\n",
            "step 51 loss 0.019355611239823812, accuracy 100.0%\n",
            "step 52 loss 0.019101118370021285, accuracy 100.0%\n",
            "step 53 loss 0.02064709966272313, accuracy 100.0%\n",
            "step 54 loss 0.01978785581732926, accuracy 100.0%\n",
            "step 55 loss 0.01911603073340911, accuracy 100.0%\n",
            "step 56 loss 0.018985297173489797, accuracy 100.0%\n",
            "step 57 loss 0.01784027724487052, accuracy 100.0%\n",
            "step 58 loss 0.017839524815609877, accuracy 100.0%\n",
            "step 59 loss 0.018594951981731195, accuracy 100.0%\n",
            "step 60 loss 0.017503235918683857, accuracy 100.0%\n",
            "step 61 loss 0.017050623890103957, accuracy 100.0%\n",
            "step 62 loss 0.017689156254476368, accuracy 100.0%\n",
            "step 63 loss 0.016838216385439527, accuracy 100.0%\n",
            "step 64 loss 0.016649665380513223, accuracy 100.0%\n",
            "step 65 loss 0.017356578178753048, accuracy 100.0%\n",
            "step 66 loss 0.0164236118799598, accuracy 100.0%\n",
            "step 67 loss 0.01634773319978271, accuracy 100.0%\n",
            "step 68 loss 0.017526483559812654, accuracy 100.0%\n",
            "step 69 loss 0.017416398580033705, accuracy 100.0%\n",
            "step 70 loss 0.017273951827130492, accuracy 100.0%\n",
            "step 71 loss 0.01993781675576944, accuracy 100.0%\n",
            "step 72 loss 0.01631496561799835, accuracy 100.0%\n",
            "step 73 loss 0.015728658470866626, accuracy 100.0%\n",
            "step 74 loss 0.015556730783515505, accuracy 100.0%\n",
            "step 75 loss 0.015478277717837247, accuracy 100.0%\n",
            "step 76 loss 0.01632207283664452, accuracy 100.0%\n",
            "step 77 loss 0.016029769441604346, accuracy 100.0%\n",
            "step 78 loss 0.015367957690882707, accuracy 100.0%\n",
            "step 79 loss 0.015310078367791117, accuracy 100.0%\n",
            "step 80 loss 0.0155981260083115, accuracy 100.0%\n",
            "step 81 loss 0.01580496741771172, accuracy 100.0%\n",
            "step 82 loss 0.015189808257870474, accuracy 100.0%\n",
            "step 83 loss 0.01547785795027159, accuracy 100.0%\n",
            "step 84 loss 0.01526553783228171, accuracy 100.0%\n",
            "step 85 loss 0.015003061092458397, accuracy 100.0%\n",
            "step 86 loss 0.015037795053599534, accuracy 100.0%\n",
            "step 87 loss 0.015147299530598863, accuracy 100.0%\n",
            "step 88 loss 0.01509020043855163, accuracy 100.0%\n",
            "step 89 loss 0.014760642542553977, accuracy 100.0%\n",
            "step 90 loss 0.014718430992137117, accuracy 100.0%\n",
            "step 91 loss 0.014859775393295305, accuracy 100.0%\n",
            "step 92 loss 0.014732421255385632, accuracy 100.0%\n",
            "step 93 loss 0.014636621035688496, accuracy 100.0%\n",
            "step 94 loss 0.014547984009797925, accuracy 100.0%\n",
            "step 95 loss 0.014466007509732181, accuracy 100.0%\n",
            "step 96 loss 0.014480134006749383, accuracy 100.0%\n",
            "step 97 loss 0.01455982398360281, accuracy 100.0%\n",
            "step 98 loss 0.014444595446905479, accuracy 100.0%\n",
            "step 99 loss 0.014379849048408909, accuracy 100.0%\n"
          ]
        }
      ],
      "source": [
        "# optimization\n",
        "for k in range(100):\n",
        "\n",
        "    # forward\n",
        "    total_loss, acc = loss()\n",
        "\n",
        "    # backward\n",
        "    model.zero_grad()\n",
        "    total_loss.backward()\n",
        "\n",
        "    # update (sgd)\n",
        "    learning_rate = 1.0 - 0.9*k/100\n",
        "    for p in model.parameters():\n",
        "        p.data -= learning_rate * p.grad\n",
        "\n",
        "    if k % 1 == 0:\n",
        "        print(f\"step {k} loss {total_loss.data}, accuracy {acc*100}%\")\n"
      ]
    },
    {
      "cell_type": "code",
      "execution_count": 14,
      "metadata": {
        "id": "aUOdV1yxMBHX",
        "outputId": "b1309467-7f0d-4654-9886-dab28b1be359",
        "colab": {
          "base_uri": "https://localhost:8080/",
          "height": 308
        }
      },
      "outputs": [
        {
          "output_type": "execute_result",
          "data": {
            "text/plain": [
              "(-1.548639298268643, 1.951360701731357)"
            ]
          },
          "metadata": {},
          "execution_count": 14
        },
        {
          "output_type": "display_data",
          "data": {
            "text/plain": [
              "<Figure size 500x300 with 1 Axes>"
            ],
            "image/png": "[encoded data removed]"
          },
          "metadata": {}
        }
      ],
      "source": [
        "# visualize decision boundary\n",
        "\n",
        "h = 0.25\n",
        "x_min, x_max = X[:, 0].min() - 1, X[:, 0].max() + 1\n",
        "y_min, y_max = X[:, 1].min() - 1, X[:, 1].max() + 1\n",
        "xx, yy = np.meshgrid(np.arange(x_min, x_max, h),\n",
        "                     np.arange(y_min, y_max, h))\n",
        "Xmesh = np.c_[xx.ravel(), yy.ravel()]\n",
        "inputs = [list(map(Scalar, xrow)) for xrow in Xmesh]\n",
        "scores = list(map(model, inputs))\n",
        "Z = np.array([s.data > 0 for s in scores])\n",
        "Z = Z.reshape(xx.shape)\n",
        "\n",
        "fig = plt.figure()\n",
        "plt.contourf(xx, yy, Z, cmap=plt.cm.Spectral, alpha=0.8)\n",
        "plt.scatter(X[:, 0], X[:, 1], c=y, s=40, cmap=plt.cm.Spectral)\n",
        "plt.xlim(xx.min(), xx.max())\n",
        "plt.ylim(yy.min(), yy.max())\n"
      ]
    },
    {
      "cell_type": "code",
      "execution_count": null,
      "metadata": {
        "id": "PoRScTElMBHX"
      },
      "outputs": [],
      "source": []
    }
  ],
  "metadata": {
    "kernelspec": {
      "display_name": "Python 3",
      "language": "python",
      "name": "python3"
    },
    "language_info": {
      "codemirror_mode": {
        "name": "ipython",
        "version": 3
      },
      "file_extension": ".py",
      "mimetype": "text/x-python",
      "name": "python",
      "nbconvert_exporter": "python",
      "pygments_lexer": "ipython3",
      "version": "3.6.5"
    },
    "colab": {
      "provenance": []
    }
  },
  "nbformat": 4,
  "nbformat_minor": 0
}