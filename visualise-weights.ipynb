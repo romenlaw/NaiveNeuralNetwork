{
  "metadata": {
    "kernelspec": {
      "language": "python",
      "display_name": "Python 3",
      "name": "python3"
    },
    "language_info": {
      "pygments_lexer": "ipython3",
      "nbconvert_exporter": "python",
      "version": "3.6.4",
      "file_extension": ".py",
      "codemirror_mode": {
        "name": "ipython",
        "version": 3
      },
      "name": "python",
      "mimetype": "text/x-python"
    },
    "colab": {
      "provenance": [],
      "toc_visible": true
    }
  },
  "nbformat_minor": 0,
  "nbformat": 4,
  "cells": [
    {
      "cell_type": "markdown",
      "source": [
        "From article https://towardsdatascience.com/whats-inside-a-neural-network-799daf235463"
      ],
      "metadata": {
        "id": "I_ndBMq3TnO_"
      }
    },
    {
      "cell_type": "code",
      "source": [
        "import numpy as np\n",
        "import matplotlib.pyplot as plt\n",
        "\n",
        "import torch\n",
        "import torch.nn as nn\n",
        "import torch.nn.functional as F\n",
        "import torch.optim as optim\n",
        "\n",
        "from sklearn.model_selection import train_test_split\n",
        "from sklearn.metrics import r2_score, mean_squared_error\n",
        "\n",
        "from tqdm import tqdm\n",
        "import time\n",
        "from collections import OrderedDict\n",
        "import warnings\n",
        "\n",
        "warnings.filterwarnings('ignore')"
      ],
      "metadata": {
        "id": "YsvviQw3XFuo"
      },
      "execution_count": 21,
      "outputs": []
    },
    {
      "cell_type": "markdown",
      "source": [
        "# Prepare Dataset\n",
        "\n",
        "The dataset:\n",
        "$y=\\begin{cases}\n",
        "2x+5, x<-2 \\\\\n",
        "7.3 \\sin(x), -2\\le x<2 \\\\\n",
        "-0.03x^3+2, x \\ge 2\n",
        "\\end{cases}\n",
        "$"
      ],
      "metadata": {
        "id": "K4WnxIICoarS"
      }
    },
    {
      "cell_type": "code",
      "source": [
        "np.random.seed(42)\n",
        "X = np.random.normal(1, 4.5, 10000)\n",
        "y = np.piecewise(\n",
        "    X,\n",
        "     [X < -2,(X >= -2) & (X < 2), X >= 2],\n",
        "      [lambda X: 2*X + 5, lambda X: 7.3*np.sin(X), lambda X: -0.03*X**3 + 2]\n",
        "    ) + np.random.normal(0, 1, X.shape)"
      ],
      "metadata": {
        "id": "cRK4c36aodFq"
      },
      "execution_count": 22,
      "outputs": []
    },
    {
      "cell_type": "code",
      "source": [
        "plt.scatter(X, y, s=1)"
      ],
      "metadata": {
        "id": "7bCACeyWtHyt",
        "outputId": "bc79f310-a020-45cf-a575-91aec036ad79",
        "colab": {
          "base_uri": "https://localhost:8080/",
          "height": 447
        }
      },
      "execution_count": 24,
      "outputs": [
        {
          "output_type": "execute_result",
          "data": {
            "text/plain": [
              "<matplotlib.collections.PathCollection at 0x7fb5c149f880>"
            ]
          },
          "metadata": {},
          "execution_count": 24
        },
        {
          "output_type": "display_data",
          "data": {
            "text/plain": [
              "<Figure size 640x480 with 1 Axes>"
            ],
            "image/png": "[encoded data removed]"
          },
          "metadata": {}
        }
      ]
    },
    {
      "cell_type": "markdown",
      "source": [
        "see also https://pytorch.org/tutorials/beginner/basics/data_tutorial.html"
      ],
      "metadata": {
        "id": "UMYFpCXK0eY8"
      }
    },
    {
      "cell_type": "code",
      "source": [
        "class Dataset(torch.utils.data.Dataset):\n",
        "  def __init__(self, X, Y):\n",
        "    self.x = torch.tensor(X)\n",
        "    self.y = torch.tensor(Y)\n",
        "    self.len = self.x.shape[0]\n",
        "\n",
        "  def __len__(self):\n",
        "    return self.len\n",
        "\n",
        "  def __getitem__(self, idx):\n",
        "    return self.x[idx], self.y[idx]"
      ],
      "metadata": {
        "id": "-oz3rtDAyyyy"
      },
      "execution_count": 28,
      "outputs": []
    },
    {
      "cell_type": "markdown",
      "source": [
        "see also https://scikit-learn.org/stable/modules/generated/sklearn.model_selection.train_test_split.html"
      ],
      "metadata": {
        "id": "2y41YIl31MbI"
      }
    },
    {
      "cell_type": "code",
      "source": [
        "X_train, X_test, y_train, y_test = train_test_split(X, y, test_size=0.2, random_state=42, shuffle=True)"
      ],
      "metadata": {
        "id": "9z3t5tQe1Olf"
      },
      "execution_count": 29,
      "outputs": []
    },
    {
      "cell_type": "code",
      "source": [
        "batch_size = 128\n",
        "train = Dataset(X_train.astype(np.float32), y_train.astype(np.float32))\n",
        "train_loader = torch.utils.data.DataLoader(train, batch_size=batch_size)\n",
        "\n",
        "test = Dataset(X_test.astype(np.float32), y_test.astype(np.float32))\n",
        "test_loader = torch.utils.data.DataLoader(test, batch_size=batch_size)"
      ],
      "metadata": {
        "id": "VQioFd5J185j"
      },
      "execution_count": 30,
      "outputs": []
    },
    {
      "cell_type": "markdown",
      "source": [
        "# Neural Network"
      ],
      "metadata": {
        "id": "Rpg9t8IcoXQU"
      }
    },
    {
      "cell_type": "code",
      "source": [
        "# a toy NN\n",
        "class ANN(nn.Module):\n",
        "  def __init__(self, in_features=128, hidden_dim=128, out_features=1):\n",
        "    super().__init__()\n",
        "    self.net = nn.Sequential(OrderedDict({\n",
        "        \"Layer_1\": nn.Linear(in_features, hidden_dim, bias=False),\n",
        "        \"tahn\": nn.Tanh(),\n",
        "        \"Layer_2\": nn.Linear(hidden_dim, out_features, bias=False)\n",
        "    }))\n",
        "\n",
        "  def forward(self, x):\n",
        "    return self.net(x)"
      ],
      "metadata": {
        "_uuid": "8f2839f25d086af736a60e9eeb907d3b93b6e0e5",
        "_cell_guid": "b1076dfc-b9ad-4769-8c92-a6c4dae69d19",
        "trusted": true,
        "id": "yMI1GhHKSm3E"
      },
      "execution_count": 16,
      "outputs": []
    },
    {
      "cell_type": "code",
      "source": [
        "model = ANN(1, 1, 1)\n",
        "loss = nn.MSELoss()\n",
        "model"
      ],
      "metadata": {
        "id": "JFkgl3uxhrQd",
        "outputId": "4bcdd390-e950-4aac-e855-1939fc6da4a8",
        "colab": {
          "base_uri": "https://localhost:8080/"
        }
      },
      "execution_count": 44,
      "outputs": [
        {
          "output_type": "execute_result",
          "data": {
            "text/plain": [
              "ANN(\n",
              "  (net): Sequential(\n",
              "    (Layer_1): Linear(in_features=1, out_features=1, bias=False)\n",
              "    (tahn): Tanh()\n",
              "    (Layer_2): Linear(in_features=1, out_features=1, bias=False)\n",
              "  )\n",
              ")"
            ]
          },
          "metadata": {},
          "execution_count": 44
        }
      ]
    },
    {
      "cell_type": "code",
      "source": [
        "for name, param in model.named_parameters():\n",
        "  print(name, param.shape)\n",
        "  print(param)"
      ],
      "metadata": {
        "id": "giQN14rniIJ8",
        "outputId": "e839625c-ddc0-49ee-8095-9500ddec0d00",
        "colab": {
          "base_uri": "https://localhost:8080/"
        }
      },
      "execution_count": 45,
      "outputs": [
        {
          "output_type": "stream",
          "name": "stdout",
          "text": [
            "net.Layer_1.weight torch.Size([1, 1])\n",
            "Parameter containing:\n",
            "tensor([[-0.4649]], requires_grad=True)\n",
            "net.Layer_2.weight torch.Size([1, 1])\n",
            "Parameter containing:\n",
            "tensor([[0.0835]], requires_grad=True)\n"
          ]
        }
      ]
    },
    {
      "cell_type": "code",
      "source": [
        "model.net._modules['Layer_1'].weight, model.net._modules['Layer_1'].weight.data"
      ],
      "metadata": {
        "id": "fIbQV7yWjxgp",
        "outputId": "763ce322-0060-4f3b-e9db-f20626a20686",
        "colab": {
          "base_uri": "https://localhost:8080/"
        }
      },
      "execution_count": 46,
      "outputs": [
        {
          "output_type": "execute_result",
          "data": {
            "text/plain": [
              "(Parameter containing:\n",
              " tensor([[-0.4649]], requires_grad=True),\n",
              " tensor([[-0.4649]]))"
            ]
          },
          "metadata": {},
          "execution_count": 46
        }
      ]
    },
    {
      "cell_type": "markdown",
      "source": [
        "# Create the grid\n",
        "To build the error surface, we first need to create a grid of possible values for W1 and W2. Then, for each weight combination, we will update the parameters of the network and calculate the error:"
      ],
      "metadata": {
        "id": "_gCbcVlH4DRi"
      }
    },
    {
      "cell_type": "code",
      "source": [],
      "metadata": {
        "id": "8F3xVLnR4V8h"
      },
      "execution_count": null,
      "outputs": []
    }
  ]
}